{
  "nbformat": 4,
  "nbformat_minor": 0,
  "metadata": {
    "colab": {
      "provenance": [],
      "gpuType": "T4"
    },
    "kernelspec": {
      "name": "python3",
      "display_name": "Python 3"
    },
    "language_info": {
      "name": "python"
    },
    "accelerator": "GPU"
  },
  "cells": [
    {
      "cell_type": "code",
      "source": [
        "from google.colab import drive\n",
        "drive.mount('/content/drive')"
      ],
      "metadata": {
        "colab": {
          "base_uri": "https://localhost:8080/"
        },
        "id": "cxtV-n9c8vw1",
        "outputId": "6643e959-215d-412f-efad-1ab540f34caf"
      },
      "execution_count": 1,
      "outputs": [
        {
          "output_type": "stream",
          "name": "stdout",
          "text": [
            "Drive already mounted at /content/drive; to attempt to forcibly remount, call drive.mount(\"/content/drive\", force_remount=True).\n"
          ]
        }
      ]
    },
    {
      "cell_type": "code",
      "execution_count": 12,
      "metadata": {
        "id": "QFbnNCUH8ZUs",
        "colab": {
          "base_uri": "https://localhost:8080/"
        },
        "outputId": "f16442e7-f241-4bba-a2a0-415244b847bd"
      },
      "outputs": [
        {
          "output_type": "stream",
          "name": "stdout",
          "text": [
            "\u001b[2K     \u001b[90m━━━━━━━━━━━━━━━━━━━━━━━━━━━━━━━━━━━━━━━━\u001b[0m \u001b[32m8.9/8.9 MB\u001b[0m \u001b[31m16.4 MB/s\u001b[0m eta \u001b[36m0:00:00\u001b[0m\n",
            "\u001b[?25h"
          ]
        }
      ],
      "source": [
        "!pip install greykite==0.5.1 prophet==1.1.2 -q"
      ]
    },
    {
      "cell_type": "code",
      "source": [
        "# from greykite.framework.templates.autogen.forecast_config import ForecastConfig\n",
        "# from greykite.framework.templates.autogen.forecast_config import MetadataParam\n",
        "# from greykite.framework.templates.forecaster import Forecaster\n",
        "# from greykite.framework.templates.model_templates import ModelTemplateEnum\n",
        "# from greykite.framework.utils.result_summary import summarize_grid_search_results"
      ],
      "metadata": {
        "id": "Pu7fyp1JJvOA"
      },
      "execution_count": 3,
      "outputs": []
    },
    {
      "cell_type": "code",
      "source": [
        "from statsmodels.tsa.holtwinters import ExponentialSmoothing\n",
        "\n",
        "from prophet import Prophet\n",
        "\n",
        "import xgboost as xgb\n",
        "\n",
        "import statsmodels.api as sm\n",
        "from statsmodels.tsa.stattools import adfuller\n",
        "from statsmodels.tsa.stattools import pacf\n",
        "\n",
        "from scipy.stats import skew, kurtosis\n",
        "from statsmodels.tsa.seasonal import seasonal_decompose\n",
        "\n",
        "\n",
        "import numpy as np\n",
        "import pandas as pd\n",
        "import pmdarima as pm"
      ],
      "metadata": {
        "id": "Pr6CyTcE8wz5"
      },
      "execution_count": 4,
      "outputs": []
    },
    {
      "cell_type": "code",
      "source": [
        "def calculate_mape(true_values, predicted_values):\n",
        "    epsilon = 1e-10\n",
        "    abs_percentage_error = np.abs((true_values - predicted_values) / (true_values + epsilon))\n",
        "    return round(np.mean(abs_percentage_error) * 100 , 4)\n",
        "\n",
        "\n",
        "def forecast_autoarima(df, forecast_period=0):\n",
        "    model = pm.auto_arima(df[\"value\"].tolist(), seasonal=True)\n",
        "    past = model.predict_in_sample().tolist()\n",
        "    if forecast_period:\n",
        "        forecasts = model.predict(forecast_period).tolist()\n",
        "        past.extend(forecasts)\n",
        "        return past\n",
        "    return past\n",
        "\n",
        "# def forecast_greykite(df , freq =\"D\" ,forecast=False , forecast_period = 100):\n",
        "#   metadata = MetadataParam(\n",
        "#      time_col=\"date\",\n",
        "#      value_col=\"value\",\n",
        "#      freq=freq ,\n",
        "#      train_end_date=df['date'].iloc[-1]\n",
        "#   )\n",
        "#   forecaster = Forecaster()\n",
        "#   result = forecaster.run_forecast_config(\n",
        "#       df=df,\n",
        "#       config=ForecastConfig(\n",
        "#           model_template=ModelTemplateEnum.SILVERKITE.name,\n",
        "#           forecast_horizon=forecast_period,\n",
        "#           coverage=0.95,\n",
        "#           metadata_param=metadata\n",
        "#       )\n",
        "#   )\n",
        "\n",
        "#   if not forecast:\n",
        "#     return result.forecast.df['forecast'].tolist()[:-forecast_period]\n",
        "#   return result.forecast.df['forecast'].tolist()\n",
        "\n",
        "def forecast_xgboost(df , forecast_period = 0 , date_to = None):\n",
        "  df['year'] = df['date'].dt.year\n",
        "  df['month'] = df['date'].dt.month\n",
        "  df['day'] = df['date'].dt.day\n",
        "  df['day_of_week'] = df['date'].dt.dayofweek\n",
        "\n",
        "  X_train = df.drop(['value' , 'date'], axis=1)\n",
        "  y_train = df['value']\n",
        "\n",
        "  model = xgb.XGBRegressor(max_depth=3, min_child_weight=1, reg_alpha=0.1)\n",
        "  model.fit(X_train, y_train)\n",
        "\n",
        "  past = model.predict(X_train).tolist()\n",
        "\n",
        "  if forecast_period and date_to:\n",
        "    date_range = pd.date_range(start=date_to + pd.DateOffset(days=1), periods=forecast_period, freq='D' , normalize=True)\n",
        "    future_data = pd.DataFrame(index=date_range)\n",
        "    future_data['year'] = future_data.index.year\n",
        "    future_data['month'] = future_data.index.month\n",
        "    future_data['day'] = future_data.index.day\n",
        "    future_data['day_of_week'] = future_data.index.dayofweek\n",
        "\n",
        "    future_predictions = model.predict(future_data).tolist()\n",
        "    past.extend(future_predictions)\n",
        "    return past\n",
        "\n",
        "  return past\n",
        "\n",
        "\n",
        "def forecast_ets(df , forecast_period = 0 ):\n",
        "  try:\n",
        "      model = ExponentialSmoothing(\n",
        "          df[\"value\"], trend=\"add\", seasonal=\"add\", seasonal_periods=12\n",
        "      )\n",
        "  except:\n",
        "      model = ExponentialSmoothing(df[\"value\"])\n",
        "\n",
        "  result = model.fit()\n",
        "\n",
        "  past = result.fittedvalues.tolist()\n",
        "  if forecast_period:\n",
        "    future_data = result.forecast(steps = forecast_period)\n",
        "    past.extend(future_data)\n",
        "    return past\n",
        "\n",
        "  return past\n",
        "\n",
        "# def forecast_neural_prophet(df , forecast_period = 0 ):\n",
        "#   df = df.rename(columns={'date': 'ds', 'value': 'y'})\n",
        "\n",
        "#   m = NeuralProphet()\n",
        "#   m.fit(df)\n",
        "\n",
        "#   future = m.make_future_dataframe(periods=forecast_period)\n",
        "#   forecast = m.predict(future)\n",
        "#   return forecast['yhat'].tolist()\n",
        "\n",
        "def forecast_prophet(df , forecast_period = 0 ):\n",
        "  df = df.rename(columns={'date': 'ds', 'value': 'y'})\n",
        "\n",
        "  model = Prophet()\n",
        "  model.fit(df)\n",
        "\n",
        "  future = model.make_future_dataframe(periods=forecast_period)\n",
        "  forecast = model.predict(future)\n",
        "  return forecast['yhat'].tolist()\n",
        "\n",
        "\n",
        "def forecast_arima(df , forecast_period = 0):\n",
        "  result = adfuller(df['value'])\n",
        "  p_value = result[1]\n",
        "\n",
        "  if p_value < 0.05:\n",
        "      d = 0\n",
        "  else:\n",
        "      d = 1\n",
        "\n",
        "  pacf_values = pacf(df['value'], method='ols')\n",
        "  acf_values = pacf(df['value'], method='ols')\n",
        "\n",
        "  for p in range(1, len(pacf_values)):\n",
        "      if abs(pacf_values[p]) < 1.96 / np.sqrt(len(df)):\n",
        "          break\n",
        "\n",
        "  for q in range(1, len(acf_values)):\n",
        "      if abs(acf_values[q]) < 1.96 / np.sqrt(len(df)):\n",
        "          break\n",
        "\n",
        "  model = sm.tsa.arima.ARIMA(df['value'], order=(p, d, q))\n",
        "  results = model.fit()\n",
        "  past = results.fittedvalues.tolist()\n",
        "\n",
        "  if forecast_period:\n",
        "    future_data = results.forecast(steps=forecast_period)\n",
        "    past.extend(future_data)\n",
        "    return past\n",
        "\n",
        "  return past\n",
        "\n",
        "# def train_greykite(df, freq=\"D\"):\n",
        "#     metadata = MetadataParam(\n",
        "#         time_col=\"date\",\n",
        "#         value_col=\"value\",\n",
        "#         freq=freq,\n",
        "#         train_end_date=df['date'].iloc[-1]\n",
        "#     )\n",
        "#     forecaster = Forecaster()\n",
        "#     result = forecaster.run_forecast_config(\n",
        "#         df=df,\n",
        "#         config=ForecastConfig(\n",
        "#             model_template=ModelTemplateEnum.SILVERKITE.name,\n",
        "#             metadata_param=metadata\n",
        "#         )\n",
        "#     )\n",
        "\n",
        "#     trained_values  = result.forecast.df['forecast'].tolist()[:len(df)]\n",
        "#     return trained_values"
      ],
      "metadata": {
        "id": "WAU2CnoPGrtg"
      },
      "execution_count": 12,
      "outputs": []
    },
    {
      "cell_type": "code",
      "source": [
        " file_path = '/content/drive/MyDrive/DGdataset/Sample Time Series/daily/processed_daily.csv'\n",
        "df = pd.read_csv(file_path , index_col = 0)\n",
        "\n",
        "df['date'] = pd.to_datetime(df['date'])\n",
        "df.set_index(df['date'], inplace=True)\n",
        "df.sort_index(inplace=True)\n",
        "df.rename_axis('index',inplace=True)\n",
        "df.head()"
      ],
      "metadata": {
        "colab": {
          "base_uri": "https://localhost:8080/",
          "height": 238
        },
        "id": "Omg2GTpcGhGZ",
        "outputId": "b56a8fce-8d30-4880-bd55-c77387747256"
      },
      "execution_count": 6,
      "outputs": [
        {
          "output_type": "execute_result",
          "data": {
            "text/plain": [
              "                 date          value\n",
              "index                               \n",
              "2021-02-01 2021-02-01  903053.004725\n",
              "2021-02-02 2021-02-02  910297.753775\n",
              "2021-02-03 2021-02-03  912559.254575\n",
              "2021-02-04 2021-02-04  920697.253775\n",
              "2021-02-05 2021-02-05  927060.753775"
            ],
            "text/html": [
              "\n",
              "  <div id=\"df-95e84d84-2315-430f-8db8-881106f5c16e\" class=\"colab-df-container\">\n",
              "    <div>\n",
              "<style scoped>\n",
              "    .dataframe tbody tr th:only-of-type {\n",
              "        vertical-align: middle;\n",
              "    }\n",
              "\n",
              "    .dataframe tbody tr th {\n",
              "        vertical-align: top;\n",
              "    }\n",
              "\n",
              "    .dataframe thead th {\n",
              "        text-align: right;\n",
              "    }\n",
              "</style>\n",
              "<table border=\"1\" class=\"dataframe\">\n",
              "  <thead>\n",
              "    <tr style=\"text-align: right;\">\n",
              "      <th></th>\n",
              "      <th>date</th>\n",
              "      <th>value</th>\n",
              "    </tr>\n",
              "    <tr>\n",
              "      <th>index</th>\n",
              "      <th></th>\n",
              "      <th></th>\n",
              "    </tr>\n",
              "  </thead>\n",
              "  <tbody>\n",
              "    <tr>\n",
              "      <th>2021-02-01</th>\n",
              "      <td>2021-02-01</td>\n",
              "      <td>903053.004725</td>\n",
              "    </tr>\n",
              "    <tr>\n",
              "      <th>2021-02-02</th>\n",
              "      <td>2021-02-02</td>\n",
              "      <td>910297.753775</td>\n",
              "    </tr>\n",
              "    <tr>\n",
              "      <th>2021-02-03</th>\n",
              "      <td>2021-02-03</td>\n",
              "      <td>912559.254575</td>\n",
              "    </tr>\n",
              "    <tr>\n",
              "      <th>2021-02-04</th>\n",
              "      <td>2021-02-04</td>\n",
              "      <td>920697.253775</td>\n",
              "    </tr>\n",
              "    <tr>\n",
              "      <th>2021-02-05</th>\n",
              "      <td>2021-02-05</td>\n",
              "      <td>927060.753775</td>\n",
              "    </tr>\n",
              "  </tbody>\n",
              "</table>\n",
              "</div>\n",
              "    <div class=\"colab-df-buttons\">\n",
              "\n",
              "  <div class=\"colab-df-container\">\n",
              "    <button class=\"colab-df-convert\" onclick=\"convertToInteractive('df-95e84d84-2315-430f-8db8-881106f5c16e')\"\n",
              "            title=\"Convert this dataframe to an interactive table.\"\n",
              "            style=\"display:none;\">\n",
              "\n",
              "  <svg xmlns=\"http://www.w3.org/2000/svg\" height=\"24px\" viewBox=\"0 -960 960 960\">\n",
              "    <path d=\"M120-120v-720h720v720H120Zm60-500h600v-160H180v160Zm220 220h160v-160H400v160Zm0 220h160v-160H400v160ZM180-400h160v-160H180v160Zm440 0h160v-160H620v160ZM180-180h160v-160H180v160Zm440 0h160v-160H620v160Z\"/>\n",
              "  </svg>\n",
              "    </button>\n",
              "\n",
              "  <style>\n",
              "    .colab-df-container {\n",
              "      display:flex;\n",
              "      gap: 12px;\n",
              "    }\n",
              "\n",
              "    .colab-df-convert {\n",
              "      background-color: #E8F0FE;\n",
              "      border: none;\n",
              "      border-radius: 50%;\n",
              "      cursor: pointer;\n",
              "      display: none;\n",
              "      fill: #1967D2;\n",
              "      height: 32px;\n",
              "      padding: 0 0 0 0;\n",
              "      width: 32px;\n",
              "    }\n",
              "\n",
              "    .colab-df-convert:hover {\n",
              "      background-color: #E2EBFA;\n",
              "      box-shadow: 0px 1px 2px rgba(60, 64, 67, 0.3), 0px 1px 3px 1px rgba(60, 64, 67, 0.15);\n",
              "      fill: #174EA6;\n",
              "    }\n",
              "\n",
              "    .colab-df-buttons div {\n",
              "      margin-bottom: 4px;\n",
              "    }\n",
              "\n",
              "    [theme=dark] .colab-df-convert {\n",
              "      background-color: #3B4455;\n",
              "      fill: #D2E3FC;\n",
              "    }\n",
              "\n",
              "    [theme=dark] .colab-df-convert:hover {\n",
              "      background-color: #434B5C;\n",
              "      box-shadow: 0px 1px 3px 1px rgba(0, 0, 0, 0.15);\n",
              "      filter: drop-shadow(0px 1px 2px rgba(0, 0, 0, 0.3));\n",
              "      fill: #FFFFFF;\n",
              "    }\n",
              "  </style>\n",
              "\n",
              "    <script>\n",
              "      const buttonEl =\n",
              "        document.querySelector('#df-95e84d84-2315-430f-8db8-881106f5c16e button.colab-df-convert');\n",
              "      buttonEl.style.display =\n",
              "        google.colab.kernel.accessAllowed ? 'block' : 'none';\n",
              "\n",
              "      async function convertToInteractive(key) {\n",
              "        const element = document.querySelector('#df-95e84d84-2315-430f-8db8-881106f5c16e');\n",
              "        const dataTable =\n",
              "          await google.colab.kernel.invokeFunction('convertToInteractive',\n",
              "                                                    [key], {});\n",
              "        if (!dataTable) return;\n",
              "\n",
              "        const docLinkHtml = 'Like what you see? Visit the ' +\n",
              "          '<a target=\"_blank\" href=https://colab.research.google.com/notebooks/data_table.ipynb>data table notebook</a>'\n",
              "          + ' to learn more about interactive tables.';\n",
              "        element.innerHTML = '';\n",
              "        dataTable['output_type'] = 'display_data';\n",
              "        await google.colab.output.renderOutput(dataTable, element);\n",
              "        const docLink = document.createElement('div');\n",
              "        docLink.innerHTML = docLinkHtml;\n",
              "        element.appendChild(docLink);\n",
              "      }\n",
              "    </script>\n",
              "  </div>\n",
              "\n",
              "\n",
              "<div id=\"df-b4ed658d-5be6-4c89-b2b9-81bac205b7b5\">\n",
              "  <button class=\"colab-df-quickchart\" onclick=\"quickchart('df-b4ed658d-5be6-4c89-b2b9-81bac205b7b5')\"\n",
              "            title=\"Suggest charts.\"\n",
              "            style=\"display:none;\">\n",
              "\n",
              "<svg xmlns=\"http://www.w3.org/2000/svg\" height=\"24px\"viewBox=\"0 0 24 24\"\n",
              "     width=\"24px\">\n",
              "    <g>\n",
              "        <path d=\"M19 3H5c-1.1 0-2 .9-2 2v14c0 1.1.9 2 2 2h14c1.1 0 2-.9 2-2V5c0-1.1-.9-2-2-2zM9 17H7v-7h2v7zm4 0h-2V7h2v10zm4 0h-2v-4h2v4z\"/>\n",
              "    </g>\n",
              "</svg>\n",
              "  </button>\n",
              "\n",
              "<style>\n",
              "  .colab-df-quickchart {\n",
              "      --bg-color: #E8F0FE;\n",
              "      --fill-color: #1967D2;\n",
              "      --hover-bg-color: #E2EBFA;\n",
              "      --hover-fill-color: #174EA6;\n",
              "      --disabled-fill-color: #AAA;\n",
              "      --disabled-bg-color: #DDD;\n",
              "  }\n",
              "\n",
              "  [theme=dark] .colab-df-quickchart {\n",
              "      --bg-color: #3B4455;\n",
              "      --fill-color: #D2E3FC;\n",
              "      --hover-bg-color: #434B5C;\n",
              "      --hover-fill-color: #FFFFFF;\n",
              "      --disabled-bg-color: #3B4455;\n",
              "      --disabled-fill-color: #666;\n",
              "  }\n",
              "\n",
              "  .colab-df-quickchart {\n",
              "    background-color: var(--bg-color);\n",
              "    border: none;\n",
              "    border-radius: 50%;\n",
              "    cursor: pointer;\n",
              "    display: none;\n",
              "    fill: var(--fill-color);\n",
              "    height: 32px;\n",
              "    padding: 0;\n",
              "    width: 32px;\n",
              "  }\n",
              "\n",
              "  .colab-df-quickchart:hover {\n",
              "    background-color: var(--hover-bg-color);\n",
              "    box-shadow: 0 1px 2px rgba(60, 64, 67, 0.3), 0 1px 3px 1px rgba(60, 64, 67, 0.15);\n",
              "    fill: var(--button-hover-fill-color);\n",
              "  }\n",
              "\n",
              "  .colab-df-quickchart-complete:disabled,\n",
              "  .colab-df-quickchart-complete:disabled:hover {\n",
              "    background-color: var(--disabled-bg-color);\n",
              "    fill: var(--disabled-fill-color);\n",
              "    box-shadow: none;\n",
              "  }\n",
              "\n",
              "  .colab-df-spinner {\n",
              "    border: 2px solid var(--fill-color);\n",
              "    border-color: transparent;\n",
              "    border-bottom-color: var(--fill-color);\n",
              "    animation:\n",
              "      spin 1s steps(1) infinite;\n",
              "  }\n",
              "\n",
              "  @keyframes spin {\n",
              "    0% {\n",
              "      border-color: transparent;\n",
              "      border-bottom-color: var(--fill-color);\n",
              "      border-left-color: var(--fill-color);\n",
              "    }\n",
              "    20% {\n",
              "      border-color: transparent;\n",
              "      border-left-color: var(--fill-color);\n",
              "      border-top-color: var(--fill-color);\n",
              "    }\n",
              "    30% {\n",
              "      border-color: transparent;\n",
              "      border-left-color: var(--fill-color);\n",
              "      border-top-color: var(--fill-color);\n",
              "      border-right-color: var(--fill-color);\n",
              "    }\n",
              "    40% {\n",
              "      border-color: transparent;\n",
              "      border-right-color: var(--fill-color);\n",
              "      border-top-color: var(--fill-color);\n",
              "    }\n",
              "    60% {\n",
              "      border-color: transparent;\n",
              "      border-right-color: var(--fill-color);\n",
              "    }\n",
              "    80% {\n",
              "      border-color: transparent;\n",
              "      border-right-color: var(--fill-color);\n",
              "      border-bottom-color: var(--fill-color);\n",
              "    }\n",
              "    90% {\n",
              "      border-color: transparent;\n",
              "      border-bottom-color: var(--fill-color);\n",
              "    }\n",
              "  }\n",
              "</style>\n",
              "\n",
              "  <script>\n",
              "    async function quickchart(key) {\n",
              "      const quickchartButtonEl =\n",
              "        document.querySelector('#' + key + ' button');\n",
              "      quickchartButtonEl.disabled = true;  // To prevent multiple clicks.\n",
              "      quickchartButtonEl.classList.add('colab-df-spinner');\n",
              "      try {\n",
              "        const charts = await google.colab.kernel.invokeFunction(\n",
              "            'suggestCharts', [key], {});\n",
              "      } catch (error) {\n",
              "        console.error('Error during call to suggestCharts:', error);\n",
              "      }\n",
              "      quickchartButtonEl.classList.remove('colab-df-spinner');\n",
              "      quickchartButtonEl.classList.add('colab-df-quickchart-complete');\n",
              "    }\n",
              "    (() => {\n",
              "      let quickchartButtonEl =\n",
              "        document.querySelector('#df-b4ed658d-5be6-4c89-b2b9-81bac205b7b5 button');\n",
              "      quickchartButtonEl.style.display =\n",
              "        google.colab.kernel.accessAllowed ? 'block' : 'none';\n",
              "    })();\n",
              "  </script>\n",
              "</div>\n",
              "    </div>\n",
              "  </div>\n"
            ]
          },
          "metadata": {},
          "execution_count": 6
        }
      ]
    },
    {
      "cell_type": "code",
      "source": [
        "df.tail()"
      ],
      "metadata": {
        "colab": {
          "base_uri": "https://localhost:8080/",
          "height": 238
        },
        "id": "BMd5k_GnHIPO",
        "outputId": "8940c177-3c5a-4c86-e32b-5b4c92a25e4b"
      },
      "execution_count": 7,
      "outputs": [
        {
          "output_type": "execute_result",
          "data": {
            "text/plain": [
              "                 date     value\n",
              "index                          \n",
              "2023-01-28 2023-01-28      27.0\n",
              "2023-01-29 2023-01-29  153181.0\n",
              "2023-01-30 2023-01-30  541232.0\n",
              "2023-01-31 2023-01-31  712411.0\n",
              "2023-02-01 2023-02-01       1.0"
            ],
            "text/html": [
              "\n",
              "  <div id=\"df-a11cf970-2698-40b0-9136-8f1b7ac376c4\" class=\"colab-df-container\">\n",
              "    <div>\n",
              "<style scoped>\n",
              "    .dataframe tbody tr th:only-of-type {\n",
              "        vertical-align: middle;\n",
              "    }\n",
              "\n",
              "    .dataframe tbody tr th {\n",
              "        vertical-align: top;\n",
              "    }\n",
              "\n",
              "    .dataframe thead th {\n",
              "        text-align: right;\n",
              "    }\n",
              "</style>\n",
              "<table border=\"1\" class=\"dataframe\">\n",
              "  <thead>\n",
              "    <tr style=\"text-align: right;\">\n",
              "      <th></th>\n",
              "      <th>date</th>\n",
              "      <th>value</th>\n",
              "    </tr>\n",
              "    <tr>\n",
              "      <th>index</th>\n",
              "      <th></th>\n",
              "      <th></th>\n",
              "    </tr>\n",
              "  </thead>\n",
              "  <tbody>\n",
              "    <tr>\n",
              "      <th>2023-01-28</th>\n",
              "      <td>2023-01-28</td>\n",
              "      <td>27.0</td>\n",
              "    </tr>\n",
              "    <tr>\n",
              "      <th>2023-01-29</th>\n",
              "      <td>2023-01-29</td>\n",
              "      <td>153181.0</td>\n",
              "    </tr>\n",
              "    <tr>\n",
              "      <th>2023-01-30</th>\n",
              "      <td>2023-01-30</td>\n",
              "      <td>541232.0</td>\n",
              "    </tr>\n",
              "    <tr>\n",
              "      <th>2023-01-31</th>\n",
              "      <td>2023-01-31</td>\n",
              "      <td>712411.0</td>\n",
              "    </tr>\n",
              "    <tr>\n",
              "      <th>2023-02-01</th>\n",
              "      <td>2023-02-01</td>\n",
              "      <td>1.0</td>\n",
              "    </tr>\n",
              "  </tbody>\n",
              "</table>\n",
              "</div>\n",
              "    <div class=\"colab-df-buttons\">\n",
              "\n",
              "  <div class=\"colab-df-container\">\n",
              "    <button class=\"colab-df-convert\" onclick=\"convertToInteractive('df-a11cf970-2698-40b0-9136-8f1b7ac376c4')\"\n",
              "            title=\"Convert this dataframe to an interactive table.\"\n",
              "            style=\"display:none;\">\n",
              "\n",
              "  <svg xmlns=\"http://www.w3.org/2000/svg\" height=\"24px\" viewBox=\"0 -960 960 960\">\n",
              "    <path d=\"M120-120v-720h720v720H120Zm60-500h600v-160H180v160Zm220 220h160v-160H400v160Zm0 220h160v-160H400v160ZM180-400h160v-160H180v160Zm440 0h160v-160H620v160ZM180-180h160v-160H180v160Zm440 0h160v-160H620v160Z\"/>\n",
              "  </svg>\n",
              "    </button>\n",
              "\n",
              "  <style>\n",
              "    .colab-df-container {\n",
              "      display:flex;\n",
              "      gap: 12px;\n",
              "    }\n",
              "\n",
              "    .colab-df-convert {\n",
              "      background-color: #E8F0FE;\n",
              "      border: none;\n",
              "      border-radius: 50%;\n",
              "      cursor: pointer;\n",
              "      display: none;\n",
              "      fill: #1967D2;\n",
              "      height: 32px;\n",
              "      padding: 0 0 0 0;\n",
              "      width: 32px;\n",
              "    }\n",
              "\n",
              "    .colab-df-convert:hover {\n",
              "      background-color: #E2EBFA;\n",
              "      box-shadow: 0px 1px 2px rgba(60, 64, 67, 0.3), 0px 1px 3px 1px rgba(60, 64, 67, 0.15);\n",
              "      fill: #174EA6;\n",
              "    }\n",
              "\n",
              "    .colab-df-buttons div {\n",
              "      margin-bottom: 4px;\n",
              "    }\n",
              "\n",
              "    [theme=dark] .colab-df-convert {\n",
              "      background-color: #3B4455;\n",
              "      fill: #D2E3FC;\n",
              "    }\n",
              "\n",
              "    [theme=dark] .colab-df-convert:hover {\n",
              "      background-color: #434B5C;\n",
              "      box-shadow: 0px 1px 3px 1px rgba(0, 0, 0, 0.15);\n",
              "      filter: drop-shadow(0px 1px 2px rgba(0, 0, 0, 0.3));\n",
              "      fill: #FFFFFF;\n",
              "    }\n",
              "  </style>\n",
              "\n",
              "    <script>\n",
              "      const buttonEl =\n",
              "        document.querySelector('#df-a11cf970-2698-40b0-9136-8f1b7ac376c4 button.colab-df-convert');\n",
              "      buttonEl.style.display =\n",
              "        google.colab.kernel.accessAllowed ? 'block' : 'none';\n",
              "\n",
              "      async function convertToInteractive(key) {\n",
              "        const element = document.querySelector('#df-a11cf970-2698-40b0-9136-8f1b7ac376c4');\n",
              "        const dataTable =\n",
              "          await google.colab.kernel.invokeFunction('convertToInteractive',\n",
              "                                                    [key], {});\n",
              "        if (!dataTable) return;\n",
              "\n",
              "        const docLinkHtml = 'Like what you see? Visit the ' +\n",
              "          '<a target=\"_blank\" href=https://colab.research.google.com/notebooks/data_table.ipynb>data table notebook</a>'\n",
              "          + ' to learn more about interactive tables.';\n",
              "        element.innerHTML = '';\n",
              "        dataTable['output_type'] = 'display_data';\n",
              "        await google.colab.output.renderOutput(dataTable, element);\n",
              "        const docLink = document.createElement('div');\n",
              "        docLink.innerHTML = docLinkHtml;\n",
              "        element.appendChild(docLink);\n",
              "      }\n",
              "    </script>\n",
              "  </div>\n",
              "\n",
              "\n",
              "<div id=\"df-e258fea7-6346-47cc-aa04-4af44726abd8\">\n",
              "  <button class=\"colab-df-quickchart\" onclick=\"quickchart('df-e258fea7-6346-47cc-aa04-4af44726abd8')\"\n",
              "            title=\"Suggest charts.\"\n",
              "            style=\"display:none;\">\n",
              "\n",
              "<svg xmlns=\"http://www.w3.org/2000/svg\" height=\"24px\"viewBox=\"0 0 24 24\"\n",
              "     width=\"24px\">\n",
              "    <g>\n",
              "        <path d=\"M19 3H5c-1.1 0-2 .9-2 2v14c0 1.1.9 2 2 2h14c1.1 0 2-.9 2-2V5c0-1.1-.9-2-2-2zM9 17H7v-7h2v7zm4 0h-2V7h2v10zm4 0h-2v-4h2v4z\"/>\n",
              "    </g>\n",
              "</svg>\n",
              "  </button>\n",
              "\n",
              "<style>\n",
              "  .colab-df-quickchart {\n",
              "      --bg-color: #E8F0FE;\n",
              "      --fill-color: #1967D2;\n",
              "      --hover-bg-color: #E2EBFA;\n",
              "      --hover-fill-color: #174EA6;\n",
              "      --disabled-fill-color: #AAA;\n",
              "      --disabled-bg-color: #DDD;\n",
              "  }\n",
              "\n",
              "  [theme=dark] .colab-df-quickchart {\n",
              "      --bg-color: #3B4455;\n",
              "      --fill-color: #D2E3FC;\n",
              "      --hover-bg-color: #434B5C;\n",
              "      --hover-fill-color: #FFFFFF;\n",
              "      --disabled-bg-color: #3B4455;\n",
              "      --disabled-fill-color: #666;\n",
              "  }\n",
              "\n",
              "  .colab-df-quickchart {\n",
              "    background-color: var(--bg-color);\n",
              "    border: none;\n",
              "    border-radius: 50%;\n",
              "    cursor: pointer;\n",
              "    display: none;\n",
              "    fill: var(--fill-color);\n",
              "    height: 32px;\n",
              "    padding: 0;\n",
              "    width: 32px;\n",
              "  }\n",
              "\n",
              "  .colab-df-quickchart:hover {\n",
              "    background-color: var(--hover-bg-color);\n",
              "    box-shadow: 0 1px 2px rgba(60, 64, 67, 0.3), 0 1px 3px 1px rgba(60, 64, 67, 0.15);\n",
              "    fill: var(--button-hover-fill-color);\n",
              "  }\n",
              "\n",
              "  .colab-df-quickchart-complete:disabled,\n",
              "  .colab-df-quickchart-complete:disabled:hover {\n",
              "    background-color: var(--disabled-bg-color);\n",
              "    fill: var(--disabled-fill-color);\n",
              "    box-shadow: none;\n",
              "  }\n",
              "\n",
              "  .colab-df-spinner {\n",
              "    border: 2px solid var(--fill-color);\n",
              "    border-color: transparent;\n",
              "    border-bottom-color: var(--fill-color);\n",
              "    animation:\n",
              "      spin 1s steps(1) infinite;\n",
              "  }\n",
              "\n",
              "  @keyframes spin {\n",
              "    0% {\n",
              "      border-color: transparent;\n",
              "      border-bottom-color: var(--fill-color);\n",
              "      border-left-color: var(--fill-color);\n",
              "    }\n",
              "    20% {\n",
              "      border-color: transparent;\n",
              "      border-left-color: var(--fill-color);\n",
              "      border-top-color: var(--fill-color);\n",
              "    }\n",
              "    30% {\n",
              "      border-color: transparent;\n",
              "      border-left-color: var(--fill-color);\n",
              "      border-top-color: var(--fill-color);\n",
              "      border-right-color: var(--fill-color);\n",
              "    }\n",
              "    40% {\n",
              "      border-color: transparent;\n",
              "      border-right-color: var(--fill-color);\n",
              "      border-top-color: var(--fill-color);\n",
              "    }\n",
              "    60% {\n",
              "      border-color: transparent;\n",
              "      border-right-color: var(--fill-color);\n",
              "    }\n",
              "    80% {\n",
              "      border-color: transparent;\n",
              "      border-right-color: var(--fill-color);\n",
              "      border-bottom-color: var(--fill-color);\n",
              "    }\n",
              "    90% {\n",
              "      border-color: transparent;\n",
              "      border-bottom-color: var(--fill-color);\n",
              "    }\n",
              "  }\n",
              "</style>\n",
              "\n",
              "  <script>\n",
              "    async function quickchart(key) {\n",
              "      const quickchartButtonEl =\n",
              "        document.querySelector('#' + key + ' button');\n",
              "      quickchartButtonEl.disabled = true;  // To prevent multiple clicks.\n",
              "      quickchartButtonEl.classList.add('colab-df-spinner');\n",
              "      try {\n",
              "        const charts = await google.colab.kernel.invokeFunction(\n",
              "            'suggestCharts', [key], {});\n",
              "      } catch (error) {\n",
              "        console.error('Error during call to suggestCharts:', error);\n",
              "      }\n",
              "      quickchartButtonEl.classList.remove('colab-df-spinner');\n",
              "      quickchartButtonEl.classList.add('colab-df-quickchart-complete');\n",
              "    }\n",
              "    (() => {\n",
              "      let quickchartButtonEl =\n",
              "        document.querySelector('#df-e258fea7-6346-47cc-aa04-4af44726abd8 button');\n",
              "      quickchartButtonEl.style.display =\n",
              "        google.colab.kernel.accessAllowed ? 'block' : 'none';\n",
              "    })();\n",
              "  </script>\n",
              "</div>\n",
              "    </div>\n",
              "  </div>\n"
            ]
          },
          "metadata": {},
          "execution_count": 7
        }
      ]
    },
    {
      "cell_type": "code",
      "source": [
        "df.info()"
      ],
      "metadata": {
        "colab": {
          "base_uri": "https://localhost:8080/"
        },
        "id": "qjFAFQ2aJ0dT",
        "outputId": "c77c1c1b-1286-4def-fc88-75fe9b2fa970"
      },
      "execution_count": 8,
      "outputs": [
        {
          "output_type": "stream",
          "name": "stdout",
          "text": [
            "<class 'pandas.core.frame.DataFrame'>\n",
            "DatetimeIndex: 731 entries, 2021-02-01 to 2023-02-01\n",
            "Data columns (total 2 columns):\n",
            " #   Column  Non-Null Count  Dtype         \n",
            "---  ------  --------------  -----         \n",
            " 0   date    731 non-null    datetime64[ns]\n",
            " 1   value   731 non-null    float64       \n",
            "dtypes: datetime64[ns](1), float64(1)\n",
            "memory usage: 17.1 KB\n"
          ]
        }
      ]
    },
    {
      "cell_type": "code",
      "source": [
        "import warnings\n",
        "import logging\n",
        "import sys\n",
        "\n",
        "\n",
        "warnings.filterwarnings(\"ignore\")\n",
        "warnings.filterwarnings(\"ignore\", category=FutureWarning, module=\"prophet\")\n",
        "\n",
        "logging.basicConfig(level=logging.WARNING)\n",
        "\n",
        "# stdout_orig = sys.stdout\n",
        "# stderr_orig = sys.stderr\n",
        "\n",
        "# sys.stdout = open(\"output.log\", \"w\")  # Replace \"output.log\" with the desired file name\n",
        "# sys.stderr = open(\"error.log\", \"w\")    # Replace \"error.log\" with the desired file name"
      ],
      "metadata": {
        "id": "ym1ONFBAKv6C"
      },
      "execution_count": null,
      "outputs": []
    },
    {
      "cell_type": "code",
      "source": [
        "def generate_data(df , sample_size = 100):\n",
        "\n",
        "  results_df = pd.DataFrame(columns =[\n",
        "      'Sample Index',\n",
        "      'Mean',\n",
        "      'Variance',\n",
        "      'Skewness',\n",
        "      'Kurtosis',\n",
        "      'Trend Mean',\n",
        "      'Seasonal Mean',\n",
        "      'Residual Mean',\n",
        "      'Best Model',\n",
        "  ])\n",
        "  track_log = {}\n",
        "\n",
        "  #(len(df)-sample_size)\n",
        "  for start_index in range(len(df)-sample_size):\n",
        "    sample_df = df.iloc[start_index:start_index+sample_size]\n",
        "\n",
        "    true_values = sample_df['value']\n",
        "\n",
        "    mape_prophet = calculate_mape(true_values, forecast_prophet(sample_df))\n",
        "    mape_arima = calculate_mape(true_values, forecast_arima(sample_df))\n",
        "    mape_ets = calculate_mape(true_values, forecast_ets(sample_df))\n",
        "    mape_xgboost = calculate_mape(true_values, forecast_xgboost(sample_df))\n",
        "    # mape_greykite = calculate_mape(true_values, train_greykite(sample_df))\n",
        "    # mape_xgboost = float(\"inf\")\n",
        "    mape_greykite = float(\"inf\")\n",
        "\n",
        "    res = [\n",
        "        ('Prophet', mape_prophet),\n",
        "        ('ARIMA', mape_arima),\n",
        "        ('ETS', mape_ets),\n",
        "        ('XGBoost', mape_xgboost),\n",
        "        ('Greykite', mape_greykite)\n",
        "    ]\n",
        "\n",
        "    track_log[start_index] = res\n",
        "    best_model = min(res, key=lambda x: x[1])[0]\n",
        "\n",
        "    # Calculate statistical features\n",
        "    mean = sample_df['value'].mean()\n",
        "    variance = sample_df['value'].var()\n",
        "    skewness = skew(sample_df['value'])\n",
        "    kurt = kurtosis(sample_df['value'])\n",
        "\n",
        "    # Calculate time-based features\n",
        "    result = seasonal_decompose(sample_df['value'], model='additive', extrapolate_trend='freq')\n",
        "    trend_mean = result.trend.mean()\n",
        "    seasonal_mean = result.seasonal.mean()\n",
        "    residual_mean = result.resid.mean()\n",
        "\n",
        "    result_dict = {\n",
        "          'Sample Index': start_index,\n",
        "          'Mean': mean,\n",
        "          'Variance': variance,\n",
        "          'Skewness': skewness,\n",
        "          'Kurtosis': kurt,\n",
        "          'Trend Mean': trend_mean,\n",
        "          'Seasonal Mean': seasonal_mean,\n",
        "          'Residual Mean': residual_mean,\n",
        "          'Best Model': best_model,\n",
        "      }\n",
        "\n",
        "    results_df = results_df.append(result_dict, ignore_index=True)\n",
        "    print(\"+++++++++++++++++++++++++++++++++++++++++++++++++++++++++++++++++++++++++++++++++++++++\" , start_index)\n",
        "    print(\"+++++++++++++++++++++++++++++++++++++++++++++++++++++++++++++++++++++++++++++++++++++++\" , result_dict)\n",
        "\n",
        "\n",
        "  return track_log , results_df"
      ],
      "metadata": {
        "id": "srYk5akZHMY5"
      },
      "execution_count": null,
      "outputs": []
    },
    {
      "cell_type": "code",
      "source": [
        "from sklearn.model_selection import TimeSeriesSplit\n",
        "\n",
        "n_splits = 200\n",
        "tscv = TimeSeriesSplit(n_splits=n_splits)\n",
        "\n",
        "X = df.drop(['value'], axis=1)\n",
        "y = df['value']\n",
        "\n",
        "results_df = pd.DataFrame(columns =[\n",
        "    'Sample Index',\n",
        "    'Mean',\n",
        "    'Variance',\n",
        "    'Skewness',\n",
        "    'Kurtosis',\n",
        "    'Trend Mean',\n",
        "    'Seasonal Mean',\n",
        "    'Residual Mean',\n",
        "    'Best Model',\n",
        "])\n",
        "track_log = {}\n",
        "\n",
        "for start_index, (train_index, test_index) in enumerate(tscv.split(X)):\n",
        "    X_train, X_test = X.iloc[train_index], X.iloc[test_index]\n",
        "    y_train, y_test = y[train_index], y[test_index]\n",
        "\n",
        "    sample_df = pd.concat([X_train, y_train], axis=1)\n",
        "\n",
        "\n",
        "    mape_prophet = calculate_mape(y_test, forecast_prophet(sample_df , forecast_period = len(X_test))[-len(X_test):] )\n",
        "    mape_auto_arima = calculate_mape(y_test, forecast_autoarima(sample_df, forecast_period = len(X_test))[-len(X_test):])\n",
        "    mape_ets = calculate_mape(y_test, forecast_ets(sample_df , forecast_period = len(X_test))[-len(X_test):])\n",
        "    mape_xgboost = calculate_mape(y_test, forecast_xgboost(sample_df ,  forecast_period = len(X_test) , date_to = X_test['date'][0])[-len(X_test):])\n",
        "\n",
        "\n",
        "    res = [\n",
        "        ('Prophet', mape_prophet),\n",
        "        ('ARIMA', mape_auto_arima),\n",
        "        ('ETS', mape_ets),\n",
        "        ('XGBoost', mape_xgboost),\n",
        "    ]\n",
        "\n",
        "    track_log[start_index] = res\n",
        "    best_model = min(res, key=lambda x: x[1])[0]\n",
        "\n",
        "    # Calculate statistical features\n",
        "    mean = sample_df['value'].mean()\n",
        "    variance = sample_df['value'].var()\n",
        "    skewness = skew(sample_df['value'])\n",
        "    kurt = kurtosis(sample_df['value'])\n",
        "\n",
        "    # Calculate time-based features\n",
        "    result = seasonal_decompose(sample_df['value'], model='additive', extrapolate_trend='freq')\n",
        "    trend_mean = result.trend.mean()\n",
        "    seasonal_mean = result.seasonal.mean()\n",
        "    residual_mean = result.resid.mean()\n",
        "\n",
        "    result_dict = {\n",
        "          'Sample Index': start_index,\n",
        "          'Mean': mean,\n",
        "          'Variance': variance,\n",
        "          'Skewness': skewness,\n",
        "          'Kurtosis': kurt,\n",
        "          'Trend Mean': trend_mean,\n",
        "          'Seasonal Mean': seasonal_mean,\n",
        "          'Residual Mean': residual_mean,\n",
        "          'Best Model': best_model,\n",
        "      }\n",
        "\n",
        "    results_df = results_df.append(result_dict, ignore_index=True)\n",
        "\n",
        "    print(\"+++++++++++++++++++++++++++++++++++++++++++++++++++++++++++++++++++++++++++++++++++++++\" , res)\n",
        "    print(\"+++++++++++++++++++++++++++++++++++++++++++++++++++++++++++++++++++++++++++++++++++++++\" , best_model , start_index , len(X_train) ,len(X_test))\n",
        "\n",
        "results_df.to_csv('/content/drive/MyDrive/DGdataset/Sample Time Series/daily/classification_attempt_6.csv')"
      ],
      "metadata": {
        "colab": {
          "base_uri": "https://localhost:8080/"
        },
        "id": "szVP3biOlrBn",
        "outputId": "8d0c435b-af6d-47f3-aa35-73f85966344f"
      },
      "execution_count": 10,
      "outputs": [
        {
          "output_type": "stream",
          "name": "stderr",
          "text": [
            "INFO:prophet:Disabling yearly seasonality. Run prophet with yearly_seasonality=True to override this.\n",
            "INFO:prophet:Disabling daily seasonality. Run prophet with daily_seasonality=True to override this.\n",
            "DEBUG:cmdstanpy:input tempfile: /tmp/tmpnc3vi0u7/y4qp6ea_.json\n",
            "DEBUG:cmdstanpy:input tempfile: /tmp/tmpnc3vi0u7/xgf00nt_.json\n",
            "DEBUG:cmdstanpy:idx 0\n",
            "DEBUG:cmdstanpy:running CmdStan, num_threads: None\n",
            "DEBUG:cmdstanpy:CmdStan args: ['/usr/local/lib/python3.10/dist-packages/prophet/stan_model/prophet_model.bin', 'random', 'seed=47387', 'data', 'file=/tmp/tmpnc3vi0u7/y4qp6ea_.json', 'init=/tmp/tmpnc3vi0u7/xgf00nt_.json', 'output', 'file=/tmp/tmpnc3vi0u7/prophet_modelmvlkul83/prophet_model-20231001045702.csv', 'method=optimize', 'algorithm=lbfgs', 'iter=10000']\n",
            "04:57:02 - cmdstanpy - INFO - Chain [1] start processing\n",
            "INFO:cmdstanpy:Chain [1] start processing\n",
            "04:57:02 - cmdstanpy - INFO - Chain [1] done processing\n",
            "INFO:cmdstanpy:Chain [1] done processing\n",
            "/usr/local/lib/python3.10/dist-packages/statsmodels/tsa/base/tsa_model.py:473: ValueWarning: No frequency information was provided, so inferred frequency D will be used.\n",
            "  self._init_dates(dates, freq)\n",
            "/usr/local/lib/python3.10/dist-packages/statsmodels/tsa/holtwinters/model.py:917: ConvergenceWarning: Optimization failed to converge. Check mle_retvals.\n",
            "  warnings.warn(\n",
            "<ipython-input-10-fd7e9e95ee04>:69: FutureWarning: The frame.append method is deprecated and will be removed from pandas in a future version. Use pandas.concat instead.\n",
            "  results_df = results_df.append(result_dict, ignore_index=True)\n",
            "INFO:prophet:Disabling yearly seasonality. Run prophet with yearly_seasonality=True to override this.\n",
            "INFO:prophet:Disabling daily seasonality. Run prophet with daily_seasonality=True to override this.\n",
            "DEBUG:cmdstanpy:input tempfile: /tmp/tmpnc3vi0u7/ew7inynh.json\n",
            "DEBUG:cmdstanpy:input tempfile: /tmp/tmpnc3vi0u7/3hsa628e.json\n",
            "DEBUG:cmdstanpy:idx 0\n",
            "DEBUG:cmdstanpy:running CmdStan, num_threads: None\n",
            "DEBUG:cmdstanpy:CmdStan args: ['/usr/local/lib/python3.10/dist-packages/prophet/stan_model/prophet_model.bin', 'random', 'seed=26515', 'data', 'file=/tmp/tmpnc3vi0u7/ew7inynh.json', 'init=/tmp/tmpnc3vi0u7/3hsa628e.json', 'output', 'file=/tmp/tmpnc3vi0u7/prophet_modellifjl1zt/prophet_model-20231001045722.csv', 'method=optimize', 'algorithm=lbfgs', 'iter=10000']\n",
            "04:57:22 - cmdstanpy - INFO - Chain [1] start processing\n",
            "INFO:cmdstanpy:Chain [1] start processing\n",
            "04:57:22 - cmdstanpy - INFO - Chain [1] done processing\n",
            "INFO:cmdstanpy:Chain [1] done processing\n"
          ]
        },
        {
          "output_type": "stream",
          "name": "stdout",
          "text": [
            "+++++++++++++++++++++++++++++++++++++++++++++++++++++++++++++++++++++++++++++++++++++++ [('Prophet', 7.6855), ('ARIMA', 10.5272), ('ETS', 11.9049), ('XGBoost', 9.1174)]\n",
            "+++++++++++++++++++++++++++++++++++++++++++++++++++++++++++++++++++++++++++++++++++++++ Prophet 0 131 3\n"
          ]
        },
        {
          "output_type": "stream",
          "name": "stderr",
          "text": [
            "/usr/local/lib/python3.10/dist-packages/statsmodels/tsa/base/tsa_model.py:473: ValueWarning: No frequency information was provided, so inferred frequency D will be used.\n",
            "  self._init_dates(dates, freq)\n",
            "/usr/local/lib/python3.10/dist-packages/statsmodels/tsa/holtwinters/model.py:917: ConvergenceWarning: Optimization failed to converge. Check mle_retvals.\n",
            "  warnings.warn(\n",
            "<ipython-input-10-fd7e9e95ee04>:69: FutureWarning: The frame.append method is deprecated and will be removed from pandas in a future version. Use pandas.concat instead.\n",
            "  results_df = results_df.append(result_dict, ignore_index=True)\n",
            "INFO:prophet:Disabling yearly seasonality. Run prophet with yearly_seasonality=True to override this.\n",
            "INFO:prophet:Disabling daily seasonality. Run prophet with daily_seasonality=True to override this.\n",
            "DEBUG:cmdstanpy:input tempfile: /tmp/tmpnc3vi0u7/ev3gb4rz.json\n",
            "DEBUG:cmdstanpy:input tempfile: /tmp/tmpnc3vi0u7/lew19wzp.json\n",
            "DEBUG:cmdstanpy:idx 0\n",
            "DEBUG:cmdstanpy:running CmdStan, num_threads: None\n",
            "DEBUG:cmdstanpy:CmdStan args: ['/usr/local/lib/python3.10/dist-packages/prophet/stan_model/prophet_model.bin', 'random', 'seed=63424', 'data', 'file=/tmp/tmpnc3vi0u7/ev3gb4rz.json', 'init=/tmp/tmpnc3vi0u7/lew19wzp.json', 'output', 'file=/tmp/tmpnc3vi0u7/prophet_modeldn7cy89j/prophet_model-20231001045728.csv', 'method=optimize', 'algorithm=lbfgs', 'iter=10000']\n",
            "04:57:28 - cmdstanpy - INFO - Chain [1] start processing\n",
            "INFO:cmdstanpy:Chain [1] start processing\n",
            "04:57:28 - cmdstanpy - INFO - Chain [1] done processing\n",
            "INFO:cmdstanpy:Chain [1] done processing\n"
          ]
        },
        {
          "output_type": "stream",
          "name": "stdout",
          "text": [
            "+++++++++++++++++++++++++++++++++++++++++++++++++++++++++++++++++++++++++++++++++++++++ [('Prophet', 33.8809), ('ARIMA', 25.0045), ('ETS', 47.0336), ('XGBoost', 25.0435)]\n",
            "+++++++++++++++++++++++++++++++++++++++++++++++++++++++++++++++++++++++++++++++++++++++ ARIMA 1 134 3\n"
          ]
        },
        {
          "output_type": "stream",
          "name": "stderr",
          "text": [
            "/usr/local/lib/python3.10/dist-packages/statsmodels/tsa/base/tsa_model.py:473: ValueWarning: No frequency information was provided, so inferred frequency D will be used.\n",
            "  self._init_dates(dates, freq)\n",
            "/usr/local/lib/python3.10/dist-packages/statsmodels/tsa/holtwinters/model.py:917: ConvergenceWarning: Optimization failed to converge. Check mle_retvals.\n",
            "  warnings.warn(\n",
            "<ipython-input-10-fd7e9e95ee04>:69: FutureWarning: The frame.append method is deprecated and will be removed from pandas in a future version. Use pandas.concat instead.\n",
            "  results_df = results_df.append(result_dict, ignore_index=True)\n",
            "INFO:prophet:Disabling yearly seasonality. Run prophet with yearly_seasonality=True to override this.\n",
            "INFO:prophet:Disabling daily seasonality. Run prophet with daily_seasonality=True to override this.\n",
            "DEBUG:cmdstanpy:input tempfile: /tmp/tmpnc3vi0u7/2v0teg_v.json\n",
            "DEBUG:cmdstanpy:input tempfile: /tmp/tmpnc3vi0u7/3z30tagf.json\n",
            "DEBUG:cmdstanpy:idx 0\n",
            "DEBUG:cmdstanpy:running CmdStan, num_threads: None\n",
            "DEBUG:cmdstanpy:CmdStan args: ['/usr/local/lib/python3.10/dist-packages/prophet/stan_model/prophet_model.bin', 'random', 'seed=64580', 'data', 'file=/tmp/tmpnc3vi0u7/2v0teg_v.json', 'init=/tmp/tmpnc3vi0u7/3z30tagf.json', 'output', 'file=/tmp/tmpnc3vi0u7/prophet_modelt881h164/prophet_model-20231001045734.csv', 'method=optimize', 'algorithm=lbfgs', 'iter=10000']\n",
            "04:57:34 - cmdstanpy - INFO - Chain [1] start processing\n",
            "INFO:cmdstanpy:Chain [1] start processing\n",
            "04:57:34 - cmdstanpy - INFO - Chain [1] done processing\n",
            "INFO:cmdstanpy:Chain [1] done processing\n"
          ]
        },
        {
          "output_type": "stream",
          "name": "stdout",
          "text": [
            "+++++++++++++++++++++++++++++++++++++++++++++++++++++++++++++++++++++++++++++++++++++++ [('Prophet', 32.8295), ('ARIMA', 25.4999), ('ETS', 22.4939), ('XGBoost', 27.6526)]\n",
            "+++++++++++++++++++++++++++++++++++++++++++++++++++++++++++++++++++++++++++++++++++++++ ETS 2 137 3\n"
          ]
        },
        {
          "output_type": "stream",
          "name": "stderr",
          "text": [
            "/usr/local/lib/python3.10/dist-packages/statsmodels/tsa/base/tsa_model.py:473: ValueWarning: No frequency information was provided, so inferred frequency D will be used.\n",
            "  self._init_dates(dates, freq)\n",
            "/usr/local/lib/python3.10/dist-packages/statsmodels/tsa/holtwinters/model.py:917: ConvergenceWarning: Optimization failed to converge. Check mle_retvals.\n",
            "  warnings.warn(\n",
            "<ipython-input-10-fd7e9e95ee04>:69: FutureWarning: The frame.append method is deprecated and will be removed from pandas in a future version. Use pandas.concat instead.\n",
            "  results_df = results_df.append(result_dict, ignore_index=True)\n",
            "INFO:prophet:Disabling yearly seasonality. Run prophet with yearly_seasonality=True to override this.\n",
            "INFO:prophet:Disabling daily seasonality. Run prophet with daily_seasonality=True to override this.\n",
            "DEBUG:cmdstanpy:input tempfile: /tmp/tmpnc3vi0u7/tx9ivcgr.json\n",
            "DEBUG:cmdstanpy:input tempfile: /tmp/tmpnc3vi0u7/a3w_iox1.json\n",
            "DEBUG:cmdstanpy:idx 0\n",
            "DEBUG:cmdstanpy:running CmdStan, num_threads: None\n",
            "DEBUG:cmdstanpy:CmdStan args: ['/usr/local/lib/python3.10/dist-packages/prophet/stan_model/prophet_model.bin', 'random', 'seed=23207', 'data', 'file=/tmp/tmpnc3vi0u7/tx9ivcgr.json', 'init=/tmp/tmpnc3vi0u7/a3w_iox1.json', 'output', 'file=/tmp/tmpnc3vi0u7/prophet_modelpsvfj8vi/prophet_model-20231001045738.csv', 'method=optimize', 'algorithm=lbfgs', 'iter=10000']\n",
            "04:57:38 - cmdstanpy - INFO - Chain [1] start processing\n",
            "INFO:cmdstanpy:Chain [1] start processing\n",
            "04:57:38 - cmdstanpy - INFO - Chain [1] done processing\n",
            "INFO:cmdstanpy:Chain [1] done processing\n"
          ]
        },
        {
          "output_type": "stream",
          "name": "stdout",
          "text": [
            "+++++++++++++++++++++++++++++++++++++++++++++++++++++++++++++++++++++++++++++++++++++++ [('Prophet', 20.0868), ('ARIMA', 20.7693), ('ETS', 28.5855), ('XGBoost', 13.2791)]\n",
            "+++++++++++++++++++++++++++++++++++++++++++++++++++++++++++++++++++++++++++++++++++++++ XGBoost 3 140 3\n"
          ]
        },
        {
          "output_type": "stream",
          "name": "stderr",
          "text": [
            "/usr/local/lib/python3.10/dist-packages/statsmodels/tsa/base/tsa_model.py:473: ValueWarning: No frequency information was provided, so inferred frequency D will be used.\n",
            "  self._init_dates(dates, freq)\n",
            "/usr/local/lib/python3.10/dist-packages/statsmodels/tsa/holtwinters/model.py:917: ConvergenceWarning: Optimization failed to converge. Check mle_retvals.\n",
            "  warnings.warn(\n",
            "<ipython-input-10-fd7e9e95ee04>:69: FutureWarning: The frame.append method is deprecated and will be removed from pandas in a future version. Use pandas.concat instead.\n",
            "  results_df = results_df.append(result_dict, ignore_index=True)\n",
            "INFO:prophet:Disabling yearly seasonality. Run prophet with yearly_seasonality=True to override this.\n",
            "INFO:prophet:Disabling daily seasonality. Run prophet with daily_seasonality=True to override this.\n",
            "DEBUG:cmdstanpy:input tempfile: /tmp/tmpnc3vi0u7/0czo3opt.json\n",
            "DEBUG:cmdstanpy:input tempfile: /tmp/tmpnc3vi0u7/0m9rg4qh.json\n",
            "DEBUG:cmdstanpy:idx 0\n",
            "DEBUG:cmdstanpy:running CmdStan, num_threads: None\n",
            "DEBUG:cmdstanpy:CmdStan args: ['/usr/local/lib/python3.10/dist-packages/prophet/stan_model/prophet_model.bin', 'random', 'seed=1275', 'data', 'file=/tmp/tmpnc3vi0u7/0czo3opt.json', 'init=/tmp/tmpnc3vi0u7/0m9rg4qh.json', 'output', 'file=/tmp/tmpnc3vi0u7/prophet_model3lbug9ue/prophet_model-20231001045746.csv', 'method=optimize', 'algorithm=lbfgs', 'iter=10000']\n",
            "04:57:46 - cmdstanpy - INFO - Chain [1] start processing\n",
            "INFO:cmdstanpy:Chain [1] start processing\n",
            "04:57:46 - cmdstanpy - INFO - Chain [1] done processing\n",
            "INFO:cmdstanpy:Chain [1] done processing\n"
          ]
        },
        {
          "output_type": "stream",
          "name": "stdout",
          "text": [
            "+++++++++++++++++++++++++++++++++++++++++++++++++++++++++++++++++++++++++++++++++++++++ [('Prophet', 14.0931), ('ARIMA', 4.0952), ('ETS', 18.3795), ('XGBoost', 15.3302)]\n",
            "+++++++++++++++++++++++++++++++++++++++++++++++++++++++++++++++++++++++++++++++++++++++ ARIMA 4 143 3\n"
          ]
        },
        {
          "output_type": "stream",
          "name": "stderr",
          "text": [
            "/usr/local/lib/python3.10/dist-packages/statsmodels/tsa/base/tsa_model.py:473: ValueWarning: No frequency information was provided, so inferred frequency D will be used.\n",
            "  self._init_dates(dates, freq)\n",
            "/usr/local/lib/python3.10/dist-packages/statsmodels/tsa/holtwinters/model.py:917: ConvergenceWarning: Optimization failed to converge. Check mle_retvals.\n",
            "  warnings.warn(\n",
            "<ipython-input-10-fd7e9e95ee04>:69: FutureWarning: The frame.append method is deprecated and will be removed from pandas in a future version. Use pandas.concat instead.\n",
            "  results_df = results_df.append(result_dict, ignore_index=True)\n",
            "INFO:prophet:Disabling yearly seasonality. Run prophet with yearly_seasonality=True to override this.\n",
            "INFO:prophet:Disabling daily seasonality. Run prophet with daily_seasonality=True to override this.\n",
            "DEBUG:cmdstanpy:input tempfile: /tmp/tmpnc3vi0u7/ygx6d5yz.json\n",
            "DEBUG:cmdstanpy:input tempfile: /tmp/tmpnc3vi0u7/o8vz858n.json\n",
            "DEBUG:cmdstanpy:idx 0\n",
            "DEBUG:cmdstanpy:running CmdStan, num_threads: None\n",
            "DEBUG:cmdstanpy:CmdStan args: ['/usr/local/lib/python3.10/dist-packages/prophet/stan_model/prophet_model.bin', 'random', 'seed=92929', 'data', 'file=/tmp/tmpnc3vi0u7/ygx6d5yz.json', 'init=/tmp/tmpnc3vi0u7/o8vz858n.json', 'output', 'file=/tmp/tmpnc3vi0u7/prophet_modelpfls5b0n/prophet_model-20231001045752.csv', 'method=optimize', 'algorithm=lbfgs', 'iter=10000']\n",
            "04:57:52 - cmdstanpy - INFO - Chain [1] start processing\n",
            "INFO:cmdstanpy:Chain [1] start processing\n",
            "04:57:52 - cmdstanpy - INFO - Chain [1] done processing\n",
            "INFO:cmdstanpy:Chain [1] done processing\n"
          ]
        },
        {
          "output_type": "stream",
          "name": "stdout",
          "text": [
            "+++++++++++++++++++++++++++++++++++++++++++++++++++++++++++++++++++++++++++++++++++++++ [('Prophet', 8.134), ('ARIMA', 6.2477), ('ETS', 9.5807), ('XGBoost', 13.2208)]\n",
            "+++++++++++++++++++++++++++++++++++++++++++++++++++++++++++++++++++++++++++++++++++++++ ARIMA 5 146 3\n"
          ]
        },
        {
          "output_type": "stream",
          "name": "stderr",
          "text": [
            "/usr/local/lib/python3.10/dist-packages/statsmodels/tsa/base/tsa_model.py:473: ValueWarning: No frequency information was provided, so inferred frequency D will be used.\n",
            "  self._init_dates(dates, freq)\n",
            "/usr/local/lib/python3.10/dist-packages/statsmodels/tsa/holtwinters/model.py:917: ConvergenceWarning: Optimization failed to converge. Check mle_retvals.\n",
            "  warnings.warn(\n",
            "<ipython-input-10-fd7e9e95ee04>:69: FutureWarning: The frame.append method is deprecated and will be removed from pandas in a future version. Use pandas.concat instead.\n",
            "  results_df = results_df.append(result_dict, ignore_index=True)\n",
            "INFO:prophet:Disabling yearly seasonality. Run prophet with yearly_seasonality=True to override this.\n",
            "INFO:prophet:Disabling daily seasonality. Run prophet with daily_seasonality=True to override this.\n",
            "DEBUG:cmdstanpy:input tempfile: /tmp/tmpnc3vi0u7/u2tukvqw.json\n",
            "DEBUG:cmdstanpy:input tempfile: /tmp/tmpnc3vi0u7/174b4ckd.json\n",
            "DEBUG:cmdstanpy:idx 0\n",
            "DEBUG:cmdstanpy:running CmdStan, num_threads: None\n",
            "DEBUG:cmdstanpy:CmdStan args: ['/usr/local/lib/python3.10/dist-packages/prophet/stan_model/prophet_model.bin', 'random', 'seed=17034', 'data', 'file=/tmp/tmpnc3vi0u7/u2tukvqw.json', 'init=/tmp/tmpnc3vi0u7/174b4ckd.json', 'output', 'file=/tmp/tmpnc3vi0u7/prophet_modelrlslgkwv/prophet_model-20231001045808.csv', 'method=optimize', 'algorithm=lbfgs', 'iter=10000']\n",
            "04:58:08 - cmdstanpy - INFO - Chain [1] start processing\n",
            "INFO:cmdstanpy:Chain [1] start processing\n",
            "04:58:08 - cmdstanpy - INFO - Chain [1] done processing\n",
            "INFO:cmdstanpy:Chain [1] done processing\n"
          ]
        },
        {
          "output_type": "stream",
          "name": "stdout",
          "text": [
            "+++++++++++++++++++++++++++++++++++++++++++++++++++++++++++++++++++++++++++++++++++++++ [('Prophet', 6.9967), ('ARIMA', 1.2088), ('ETS', 2.8798), ('XGBoost', 42.7734)]\n",
            "+++++++++++++++++++++++++++++++++++++++++++++++++++++++++++++++++++++++++++++++++++++++ ARIMA 6 149 3\n"
          ]
        },
        {
          "output_type": "stream",
          "name": "stderr",
          "text": [
            "/usr/local/lib/python3.10/dist-packages/statsmodels/tsa/base/tsa_model.py:473: ValueWarning: No frequency information was provided, so inferred frequency D will be used.\n",
            "  self._init_dates(dates, freq)\n",
            "/usr/local/lib/python3.10/dist-packages/statsmodels/tsa/holtwinters/model.py:917: ConvergenceWarning: Optimization failed to converge. Check mle_retvals.\n",
            "  warnings.warn(\n",
            "<ipython-input-10-fd7e9e95ee04>:69: FutureWarning: The frame.append method is deprecated and will be removed from pandas in a future version. Use pandas.concat instead.\n",
            "  results_df = results_df.append(result_dict, ignore_index=True)\n",
            "INFO:prophet:Disabling yearly seasonality. Run prophet with yearly_seasonality=True to override this.\n",
            "INFO:prophet:Disabling daily seasonality. Run prophet with daily_seasonality=True to override this.\n",
            "DEBUG:cmdstanpy:input tempfile: /tmp/tmpnc3vi0u7/7y642xpy.json\n",
            "DEBUG:cmdstanpy:input tempfile: /tmp/tmpnc3vi0u7/ip9t5w8m.json\n",
            "DEBUG:cmdstanpy:idx 0\n",
            "DEBUG:cmdstanpy:running CmdStan, num_threads: None\n",
            "DEBUG:cmdstanpy:CmdStan args: ['/usr/local/lib/python3.10/dist-packages/prophet/stan_model/prophet_model.bin', 'random', 'seed=53795', 'data', 'file=/tmp/tmpnc3vi0u7/7y642xpy.json', 'init=/tmp/tmpnc3vi0u7/ip9t5w8m.json', 'output', 'file=/tmp/tmpnc3vi0u7/prophet_model35q9ivj1/prophet_model-20231001045823.csv', 'method=optimize', 'algorithm=lbfgs', 'iter=10000']\n",
            "04:58:23 - cmdstanpy - INFO - Chain [1] start processing\n",
            "INFO:cmdstanpy:Chain [1] start processing\n",
            "04:58:23 - cmdstanpy - INFO - Chain [1] done processing\n",
            "INFO:cmdstanpy:Chain [1] done processing\n"
          ]
        },
        {
          "output_type": "stream",
          "name": "stdout",
          "text": [
            "+++++++++++++++++++++++++++++++++++++++++++++++++++++++++++++++++++++++++++++++++++++++ [('Prophet', 11.6679), ('ARIMA', 9.0425), ('ETS', 22.9558), ('XGBoost', 18.67)]\n",
            "+++++++++++++++++++++++++++++++++++++++++++++++++++++++++++++++++++++++++++++++++++++++ ARIMA 7 152 3\n"
          ]
        },
        {
          "output_type": "stream",
          "name": "stderr",
          "text": [
            "/usr/local/lib/python3.10/dist-packages/statsmodels/tsa/base/tsa_model.py:473: ValueWarning: No frequency information was provided, so inferred frequency D will be used.\n",
            "  self._init_dates(dates, freq)\n",
            "/usr/local/lib/python3.10/dist-packages/statsmodels/tsa/holtwinters/model.py:917: ConvergenceWarning: Optimization failed to converge. Check mle_retvals.\n",
            "  warnings.warn(\n",
            "<ipython-input-10-fd7e9e95ee04>:69: FutureWarning: The frame.append method is deprecated and will be removed from pandas in a future version. Use pandas.concat instead.\n",
            "  results_df = results_df.append(result_dict, ignore_index=True)\n",
            "INFO:prophet:Disabling yearly seasonality. Run prophet with yearly_seasonality=True to override this.\n",
            "INFO:prophet:Disabling daily seasonality. Run prophet with daily_seasonality=True to override this.\n",
            "DEBUG:cmdstanpy:input tempfile: /tmp/tmpnc3vi0u7/3nasqgh2.json\n",
            "DEBUG:cmdstanpy:input tempfile: /tmp/tmpnc3vi0u7/rmn7rmb1.json\n",
            "DEBUG:cmdstanpy:idx 0\n",
            "DEBUG:cmdstanpy:running CmdStan, num_threads: None\n",
            "DEBUG:cmdstanpy:CmdStan args: ['/usr/local/lib/python3.10/dist-packages/prophet/stan_model/prophet_model.bin', 'random', 'seed=49835', 'data', 'file=/tmp/tmpnc3vi0u7/3nasqgh2.json', 'init=/tmp/tmpnc3vi0u7/rmn7rmb1.json', 'output', 'file=/tmp/tmpnc3vi0u7/prophet_modeltmfj5jam/prophet_model-20231001045827.csv', 'method=optimize', 'algorithm=lbfgs', 'iter=10000']\n",
            "04:58:27 - cmdstanpy - INFO - Chain [1] start processing\n",
            "INFO:cmdstanpy:Chain [1] start processing\n",
            "04:58:27 - cmdstanpy - INFO - Chain [1] done processing\n",
            "INFO:cmdstanpy:Chain [1] done processing\n"
          ]
        },
        {
          "output_type": "stream",
          "name": "stdout",
          "text": [
            "+++++++++++++++++++++++++++++++++++++++++++++++++++++++++++++++++++++++++++++++++++++++ [('Prophet', 7.5939), ('ARIMA', 19.5503), ('ETS', 18.0956), ('XGBoost', 38.984)]\n",
            "+++++++++++++++++++++++++++++++++++++++++++++++++++++++++++++++++++++++++++++++++++++++ Prophet 8 155 3\n"
          ]
        },
        {
          "output_type": "stream",
          "name": "stderr",
          "text": [
            "/usr/local/lib/python3.10/dist-packages/statsmodels/tsa/base/tsa_model.py:473: ValueWarning: No frequency information was provided, so inferred frequency D will be used.\n",
            "  self._init_dates(dates, freq)\n",
            "/usr/local/lib/python3.10/dist-packages/statsmodels/tsa/holtwinters/model.py:917: ConvergenceWarning: Optimization failed to converge. Check mle_retvals.\n",
            "  warnings.warn(\n",
            "<ipython-input-10-fd7e9e95ee04>:69: FutureWarning: The frame.append method is deprecated and will be removed from pandas in a future version. Use pandas.concat instead.\n",
            "  results_df = results_df.append(result_dict, ignore_index=True)\n",
            "INFO:prophet:Disabling yearly seasonality. Run prophet with yearly_seasonality=True to override this.\n",
            "INFO:prophet:Disabling daily seasonality. Run prophet with daily_seasonality=True to override this.\n",
            "DEBUG:cmdstanpy:input tempfile: /tmp/tmpnc3vi0u7/14z2jhsa.json\n",
            "DEBUG:cmdstanpy:input tempfile: /tmp/tmpnc3vi0u7/6rklo7te.json\n",
            "DEBUG:cmdstanpy:idx 0\n",
            "DEBUG:cmdstanpy:running CmdStan, num_threads: None\n",
            "DEBUG:cmdstanpy:CmdStan args: ['/usr/local/lib/python3.10/dist-packages/prophet/stan_model/prophet_model.bin', 'random', 'seed=20597', 'data', 'file=/tmp/tmpnc3vi0u7/14z2jhsa.json', 'init=/tmp/tmpnc3vi0u7/6rklo7te.json', 'output', 'file=/tmp/tmpnc3vi0u7/prophet_model3cep_3be/prophet_model-20231001045830.csv', 'method=optimize', 'algorithm=lbfgs', 'iter=10000']\n",
            "04:58:30 - cmdstanpy - INFO - Chain [1] start processing\n",
            "INFO:cmdstanpy:Chain [1] start processing\n",
            "04:58:30 - cmdstanpy - INFO - Chain [1] done processing\n",
            "INFO:cmdstanpy:Chain [1] done processing\n"
          ]
        },
        {
          "output_type": "stream",
          "name": "stdout",
          "text": [
            "+++++++++++++++++++++++++++++++++++++++++++++++++++++++++++++++++++++++++++++++++++++++ [('Prophet', 17.874), ('ARIMA', 15.4918), ('ETS', 9.7231), ('XGBoost', 21.2661)]\n",
            "+++++++++++++++++++++++++++++++++++++++++++++++++++++++++++++++++++++++++++++++++++++++ ETS 9 158 3\n"
          ]
        },
        {
          "output_type": "stream",
          "name": "stderr",
          "text": [
            "/usr/local/lib/python3.10/dist-packages/statsmodels/tsa/base/tsa_model.py:473: ValueWarning: No frequency information was provided, so inferred frequency D will be used.\n",
            "  self._init_dates(dates, freq)\n",
            "/usr/local/lib/python3.10/dist-packages/statsmodels/tsa/holtwinters/model.py:917: ConvergenceWarning: Optimization failed to converge. Check mle_retvals.\n",
            "  warnings.warn(\n",
            "<ipython-input-10-fd7e9e95ee04>:69: FutureWarning: The frame.append method is deprecated and will be removed from pandas in a future version. Use pandas.concat instead.\n",
            "  results_df = results_df.append(result_dict, ignore_index=True)\n",
            "INFO:prophet:Disabling yearly seasonality. Run prophet with yearly_seasonality=True to override this.\n",
            "INFO:prophet:Disabling daily seasonality. Run prophet with daily_seasonality=True to override this.\n",
            "DEBUG:cmdstanpy:input tempfile: /tmp/tmpnc3vi0u7/7eesio_7.json\n",
            "DEBUG:cmdstanpy:input tempfile: /tmp/tmpnc3vi0u7/bji2snzt.json\n",
            "DEBUG:cmdstanpy:idx 0\n",
            "DEBUG:cmdstanpy:running CmdStan, num_threads: None\n",
            "DEBUG:cmdstanpy:CmdStan args: ['/usr/local/lib/python3.10/dist-packages/prophet/stan_model/prophet_model.bin', 'random', 'seed=60590', 'data', 'file=/tmp/tmpnc3vi0u7/7eesio_7.json', 'init=/tmp/tmpnc3vi0u7/bji2snzt.json', 'output', 'file=/tmp/tmpnc3vi0u7/prophet_modele21li2w1/prophet_model-20231001045849.csv', 'method=optimize', 'algorithm=lbfgs', 'iter=10000']\n",
            "04:58:49 - cmdstanpy - INFO - Chain [1] start processing\n",
            "INFO:cmdstanpy:Chain [1] start processing\n",
            "04:58:49 - cmdstanpy - INFO - Chain [1] done processing\n",
            "INFO:cmdstanpy:Chain [1] done processing\n"
          ]
        },
        {
          "output_type": "stream",
          "name": "stdout",
          "text": [
            "+++++++++++++++++++++++++++++++++++++++++++++++++++++++++++++++++++++++++++++++++++++++ [('Prophet', 6.1749), ('ARIMA', 10.299), ('ETS', 6.3276), ('XGBoost', 10.5734)]\n",
            "+++++++++++++++++++++++++++++++++++++++++++++++++++++++++++++++++++++++++++++++++++++++ Prophet 10 161 3\n"
          ]
        },
        {
          "output_type": "stream",
          "name": "stderr",
          "text": [
            "/usr/local/lib/python3.10/dist-packages/statsmodels/tsa/base/tsa_model.py:473: ValueWarning: No frequency information was provided, so inferred frequency D will be used.\n",
            "  self._init_dates(dates, freq)\n",
            "/usr/local/lib/python3.10/dist-packages/statsmodels/tsa/holtwinters/model.py:917: ConvergenceWarning: Optimization failed to converge. Check mle_retvals.\n",
            "  warnings.warn(\n",
            "<ipython-input-10-fd7e9e95ee04>:69: FutureWarning: The frame.append method is deprecated and will be removed from pandas in a future version. Use pandas.concat instead.\n",
            "  results_df = results_df.append(result_dict, ignore_index=True)\n",
            "INFO:prophet:Disabling yearly seasonality. Run prophet with yearly_seasonality=True to override this.\n",
            "INFO:prophet:Disabling daily seasonality. Run prophet with daily_seasonality=True to override this.\n",
            "DEBUG:cmdstanpy:input tempfile: /tmp/tmpnc3vi0u7/z6i55fge.json\n",
            "DEBUG:cmdstanpy:input tempfile: /tmp/tmpnc3vi0u7/skv9x634.json\n",
            "DEBUG:cmdstanpy:idx 0\n",
            "DEBUG:cmdstanpy:running CmdStan, num_threads: None\n",
            "DEBUG:cmdstanpy:CmdStan args: ['/usr/local/lib/python3.10/dist-packages/prophet/stan_model/prophet_model.bin', 'random', 'seed=68332', 'data', 'file=/tmp/tmpnc3vi0u7/z6i55fge.json', 'init=/tmp/tmpnc3vi0u7/skv9x634.json', 'output', 'file=/tmp/tmpnc3vi0u7/prophet_modelwuqjb3j1/prophet_model-20231001045853.csv', 'method=optimize', 'algorithm=lbfgs', 'iter=10000']\n",
            "04:58:53 - cmdstanpy - INFO - Chain [1] start processing\n",
            "INFO:cmdstanpy:Chain [1] start processing\n",
            "04:58:53 - cmdstanpy - INFO - Chain [1] done processing\n",
            "INFO:cmdstanpy:Chain [1] done processing\n"
          ]
        },
        {
          "output_type": "stream",
          "name": "stdout",
          "text": [
            "+++++++++++++++++++++++++++++++++++++++++++++++++++++++++++++++++++++++++++++++++++++++ [('Prophet', 11.0682), ('ARIMA', 5.1438), ('ETS', 7.5237), ('XGBoost', 11.8396)]\n",
            "+++++++++++++++++++++++++++++++++++++++++++++++++++++++++++++++++++++++++++++++++++++++ ARIMA 11 164 3\n"
          ]
        },
        {
          "output_type": "stream",
          "name": "stderr",
          "text": [
            "/usr/local/lib/python3.10/dist-packages/statsmodels/tsa/base/tsa_model.py:473: ValueWarning: No frequency information was provided, so inferred frequency D will be used.\n",
            "  self._init_dates(dates, freq)\n",
            "/usr/local/lib/python3.10/dist-packages/statsmodels/tsa/holtwinters/model.py:917: ConvergenceWarning: Optimization failed to converge. Check mle_retvals.\n",
            "  warnings.warn(\n",
            "<ipython-input-10-fd7e9e95ee04>:69: FutureWarning: The frame.append method is deprecated and will be removed from pandas in a future version. Use pandas.concat instead.\n",
            "  results_df = results_df.append(result_dict, ignore_index=True)\n",
            "INFO:prophet:Disabling yearly seasonality. Run prophet with yearly_seasonality=True to override this.\n",
            "INFO:prophet:Disabling daily seasonality. Run prophet with daily_seasonality=True to override this.\n",
            "DEBUG:cmdstanpy:input tempfile: /tmp/tmpnc3vi0u7/098dyihk.json\n",
            "DEBUG:cmdstanpy:input tempfile: /tmp/tmpnc3vi0u7/o60p5nsa.json\n",
            "DEBUG:cmdstanpy:idx 0\n",
            "DEBUG:cmdstanpy:running CmdStan, num_threads: None\n",
            "DEBUG:cmdstanpy:CmdStan args: ['/usr/local/lib/python3.10/dist-packages/prophet/stan_model/prophet_model.bin', 'random', 'seed=99048', 'data', 'file=/tmp/tmpnc3vi0u7/098dyihk.json', 'init=/tmp/tmpnc3vi0u7/o60p5nsa.json', 'output', 'file=/tmp/tmpnc3vi0u7/prophet_modelneljublh/prophet_model-20231001045859.csv', 'method=optimize', 'algorithm=lbfgs', 'iter=10000']\n",
            "04:58:59 - cmdstanpy - INFO - Chain [1] start processing\n",
            "INFO:cmdstanpy:Chain [1] start processing\n",
            "04:58:59 - cmdstanpy - INFO - Chain [1] done processing\n",
            "INFO:cmdstanpy:Chain [1] done processing\n"
          ]
        },
        {
          "output_type": "stream",
          "name": "stdout",
          "text": [
            "+++++++++++++++++++++++++++++++++++++++++++++++++++++++++++++++++++++++++++++++++++++++ [('Prophet', 11.8997), ('ARIMA', 7.4643), ('ETS', 11.4275), ('XGBoost', 17.2721)]\n",
            "+++++++++++++++++++++++++++++++++++++++++++++++++++++++++++++++++++++++++++++++++++++++ ARIMA 12 167 3\n"
          ]
        },
        {
          "output_type": "stream",
          "name": "stderr",
          "text": [
            "/usr/local/lib/python3.10/dist-packages/statsmodels/tsa/base/tsa_model.py:473: ValueWarning: No frequency information was provided, so inferred frequency D will be used.\n",
            "  self._init_dates(dates, freq)\n",
            "/usr/local/lib/python3.10/dist-packages/statsmodels/tsa/holtwinters/model.py:917: ConvergenceWarning: Optimization failed to converge. Check mle_retvals.\n",
            "  warnings.warn(\n",
            "<ipython-input-10-fd7e9e95ee04>:69: FutureWarning: The frame.append method is deprecated and will be removed from pandas in a future version. Use pandas.concat instead.\n",
            "  results_df = results_df.append(result_dict, ignore_index=True)\n",
            "INFO:prophet:Disabling yearly seasonality. Run prophet with yearly_seasonality=True to override this.\n",
            "INFO:prophet:Disabling daily seasonality. Run prophet with daily_seasonality=True to override this.\n",
            "DEBUG:cmdstanpy:input tempfile: /tmp/tmpnc3vi0u7/iqzg4k07.json\n",
            "DEBUG:cmdstanpy:input tempfile: /tmp/tmpnc3vi0u7/n_4bwttx.json\n",
            "DEBUG:cmdstanpy:idx 0\n",
            "DEBUG:cmdstanpy:running CmdStan, num_threads: None\n",
            "DEBUG:cmdstanpy:CmdStan args: ['/usr/local/lib/python3.10/dist-packages/prophet/stan_model/prophet_model.bin', 'random', 'seed=93244', 'data', 'file=/tmp/tmpnc3vi0u7/iqzg4k07.json', 'init=/tmp/tmpnc3vi0u7/n_4bwttx.json', 'output', 'file=/tmp/tmpnc3vi0u7/prophet_model3gbxuhsv/prophet_model-20231001045909.csv', 'method=optimize', 'algorithm=lbfgs', 'iter=10000']\n",
            "04:59:09 - cmdstanpy - INFO - Chain [1] start processing\n",
            "INFO:cmdstanpy:Chain [1] start processing\n",
            "04:59:09 - cmdstanpy - INFO - Chain [1] done processing\n",
            "INFO:cmdstanpy:Chain [1] done processing\n"
          ]
        },
        {
          "output_type": "stream",
          "name": "stdout",
          "text": [
            "+++++++++++++++++++++++++++++++++++++++++++++++++++++++++++++++++++++++++++++++++++++++ [('Prophet', 18.1359), ('ARIMA', 7.2321), ('ETS', 8.4664), ('XGBoost', 4.4617)]\n",
            "+++++++++++++++++++++++++++++++++++++++++++++++++++++++++++++++++++++++++++++++++++++++ XGBoost 13 170 3\n"
          ]
        },
        {
          "output_type": "stream",
          "name": "stderr",
          "text": [
            "/usr/local/lib/python3.10/dist-packages/statsmodels/tsa/base/tsa_model.py:473: ValueWarning: No frequency information was provided, so inferred frequency D will be used.\n",
            "  self._init_dates(dates, freq)\n",
            "/usr/local/lib/python3.10/dist-packages/statsmodels/tsa/holtwinters/model.py:917: ConvergenceWarning: Optimization failed to converge. Check mle_retvals.\n",
            "  warnings.warn(\n",
            "<ipython-input-10-fd7e9e95ee04>:69: FutureWarning: The frame.append method is deprecated and will be removed from pandas in a future version. Use pandas.concat instead.\n",
            "  results_df = results_df.append(result_dict, ignore_index=True)\n",
            "INFO:prophet:Disabling yearly seasonality. Run prophet with yearly_seasonality=True to override this.\n",
            "INFO:prophet:Disabling daily seasonality. Run prophet with daily_seasonality=True to override this.\n",
            "DEBUG:cmdstanpy:input tempfile: /tmp/tmpnc3vi0u7/8qn4_o74.json\n",
            "DEBUG:cmdstanpy:input tempfile: /tmp/tmpnc3vi0u7/63gqp70s.json\n",
            "DEBUG:cmdstanpy:idx 0\n",
            "DEBUG:cmdstanpy:running CmdStan, num_threads: None\n",
            "DEBUG:cmdstanpy:CmdStan args: ['/usr/local/lib/python3.10/dist-packages/prophet/stan_model/prophet_model.bin', 'random', 'seed=40335', 'data', 'file=/tmp/tmpnc3vi0u7/8qn4_o74.json', 'init=/tmp/tmpnc3vi0u7/63gqp70s.json', 'output', 'file=/tmp/tmpnc3vi0u7/prophet_modelinyomfb4/prophet_model-20231001045913.csv', 'method=optimize', 'algorithm=lbfgs', 'iter=10000']\n",
            "04:59:13 - cmdstanpy - INFO - Chain [1] start processing\n",
            "INFO:cmdstanpy:Chain [1] start processing\n",
            "04:59:13 - cmdstanpy - INFO - Chain [1] done processing\n",
            "INFO:cmdstanpy:Chain [1] done processing\n"
          ]
        },
        {
          "output_type": "stream",
          "name": "stdout",
          "text": [
            "+++++++++++++++++++++++++++++++++++++++++++++++++++++++++++++++++++++++++++++++++++++++ [('Prophet', 8.3603), ('ARIMA', 9.387), ('ETS', 21.0921), ('XGBoost', 11.593)]\n",
            "+++++++++++++++++++++++++++++++++++++++++++++++++++++++++++++++++++++++++++++++++++++++ Prophet 14 173 3\n"
          ]
        },
        {
          "output_type": "stream",
          "name": "stderr",
          "text": [
            "/usr/local/lib/python3.10/dist-packages/statsmodels/tsa/base/tsa_model.py:473: ValueWarning: No frequency information was provided, so inferred frequency D will be used.\n",
            "  self._init_dates(dates, freq)\n",
            "/usr/local/lib/python3.10/dist-packages/statsmodels/tsa/holtwinters/model.py:917: ConvergenceWarning: Optimization failed to converge. Check mle_retvals.\n",
            "  warnings.warn(\n",
            "<ipython-input-10-fd7e9e95ee04>:69: FutureWarning: The frame.append method is deprecated and will be removed from pandas in a future version. Use pandas.concat instead.\n",
            "  results_df = results_df.append(result_dict, ignore_index=True)\n",
            "INFO:prophet:Disabling yearly seasonality. Run prophet with yearly_seasonality=True to override this.\n",
            "INFO:prophet:Disabling daily seasonality. Run prophet with daily_seasonality=True to override this.\n",
            "DEBUG:cmdstanpy:input tempfile: /tmp/tmpnc3vi0u7/f8lsyqsu.json\n",
            "DEBUG:cmdstanpy:input tempfile: /tmp/tmpnc3vi0u7/bjixl3_w.json\n",
            "DEBUG:cmdstanpy:idx 0\n",
            "DEBUG:cmdstanpy:running CmdStan, num_threads: None\n",
            "DEBUG:cmdstanpy:CmdStan args: ['/usr/local/lib/python3.10/dist-packages/prophet/stan_model/prophet_model.bin', 'random', 'seed=17295', 'data', 'file=/tmp/tmpnc3vi0u7/f8lsyqsu.json', 'init=/tmp/tmpnc3vi0u7/bjixl3_w.json', 'output', 'file=/tmp/tmpnc3vi0u7/prophet_modeljd3q3um6/prophet_model-20231001045922.csv', 'method=optimize', 'algorithm=lbfgs', 'iter=10000']\n",
            "04:59:22 - cmdstanpy - INFO - Chain [1] start processing\n",
            "INFO:cmdstanpy:Chain [1] start processing\n",
            "04:59:22 - cmdstanpy - INFO - Chain [1] done processing\n",
            "INFO:cmdstanpy:Chain [1] done processing\n"
          ]
        },
        {
          "output_type": "stream",
          "name": "stdout",
          "text": [
            "+++++++++++++++++++++++++++++++++++++++++++++++++++++++++++++++++++++++++++++++++++++++ [('Prophet', 30.6541), ('ARIMA', 15.6912), ('ETS', 19.5446), ('XGBoost', 10.6124)]\n",
            "+++++++++++++++++++++++++++++++++++++++++++++++++++++++++++++++++++++++++++++++++++++++ XGBoost 15 176 3\n"
          ]
        },
        {
          "output_type": "stream",
          "name": "stderr",
          "text": [
            "/usr/local/lib/python3.10/dist-packages/statsmodels/tsa/base/tsa_model.py:473: ValueWarning: No frequency information was provided, so inferred frequency D will be used.\n",
            "  self._init_dates(dates, freq)\n",
            "/usr/local/lib/python3.10/dist-packages/statsmodels/tsa/holtwinters/model.py:917: ConvergenceWarning: Optimization failed to converge. Check mle_retvals.\n",
            "  warnings.warn(\n",
            "<ipython-input-10-fd7e9e95ee04>:69: FutureWarning: The frame.append method is deprecated and will be removed from pandas in a future version. Use pandas.concat instead.\n",
            "  results_df = results_df.append(result_dict, ignore_index=True)\n",
            "INFO:prophet:Disabling yearly seasonality. Run prophet with yearly_seasonality=True to override this.\n",
            "INFO:prophet:Disabling daily seasonality. Run prophet with daily_seasonality=True to override this.\n",
            "DEBUG:cmdstanpy:input tempfile: /tmp/tmpnc3vi0u7/g5uz3_vk.json\n",
            "DEBUG:cmdstanpy:input tempfile: /tmp/tmpnc3vi0u7/uajv8217.json\n",
            "DEBUG:cmdstanpy:idx 0\n",
            "DEBUG:cmdstanpy:running CmdStan, num_threads: None\n",
            "DEBUG:cmdstanpy:CmdStan args: ['/usr/local/lib/python3.10/dist-packages/prophet/stan_model/prophet_model.bin', 'random', 'seed=43912', 'data', 'file=/tmp/tmpnc3vi0u7/g5uz3_vk.json', 'init=/tmp/tmpnc3vi0u7/uajv8217.json', 'output', 'file=/tmp/tmpnc3vi0u7/prophet_modeloawc7re1/prophet_model-20231001045933.csv', 'method=optimize', 'algorithm=lbfgs', 'iter=10000']\n",
            "04:59:33 - cmdstanpy - INFO - Chain [1] start processing\n",
            "INFO:cmdstanpy:Chain [1] start processing\n",
            "04:59:33 - cmdstanpy - INFO - Chain [1] done processing\n",
            "INFO:cmdstanpy:Chain [1] done processing\n"
          ]
        },
        {
          "output_type": "stream",
          "name": "stdout",
          "text": [
            "+++++++++++++++++++++++++++++++++++++++++++++++++++++++++++++++++++++++++++++++++++++++ [('Prophet', 23.6405), ('ARIMA', 15.2215), ('ETS', 26.1047), ('XGBoost', 47.5371)]\n",
            "+++++++++++++++++++++++++++++++++++++++++++++++++++++++++++++++++++++++++++++++++++++++ ARIMA 16 179 3\n"
          ]
        },
        {
          "output_type": "stream",
          "name": "stderr",
          "text": [
            "/usr/local/lib/python3.10/dist-packages/statsmodels/tsa/base/tsa_model.py:473: ValueWarning: No frequency information was provided, so inferred frequency D will be used.\n",
            "  self._init_dates(dates, freq)\n",
            "/usr/local/lib/python3.10/dist-packages/statsmodels/tsa/holtwinters/model.py:917: ConvergenceWarning: Optimization failed to converge. Check mle_retvals.\n",
            "  warnings.warn(\n",
            "<ipython-input-10-fd7e9e95ee04>:69: FutureWarning: The frame.append method is deprecated and will be removed from pandas in a future version. Use pandas.concat instead.\n",
            "  results_df = results_df.append(result_dict, ignore_index=True)\n",
            "INFO:prophet:Disabling yearly seasonality. Run prophet with yearly_seasonality=True to override this.\n",
            "INFO:prophet:Disabling daily seasonality. Run prophet with daily_seasonality=True to override this.\n",
            "DEBUG:cmdstanpy:input tempfile: /tmp/tmpnc3vi0u7/hfuns_gt.json\n",
            "DEBUG:cmdstanpy:input tempfile: /tmp/tmpnc3vi0u7/0zy5x2oh.json\n",
            "DEBUG:cmdstanpy:idx 0\n",
            "DEBUG:cmdstanpy:running CmdStan, num_threads: None\n",
            "DEBUG:cmdstanpy:CmdStan args: ['/usr/local/lib/python3.10/dist-packages/prophet/stan_model/prophet_model.bin', 'random', 'seed=79966', 'data', 'file=/tmp/tmpnc3vi0u7/hfuns_gt.json', 'init=/tmp/tmpnc3vi0u7/0zy5x2oh.json', 'output', 'file=/tmp/tmpnc3vi0u7/prophet_model84hgg573/prophet_model-20231001045947.csv', 'method=optimize', 'algorithm=lbfgs', 'iter=10000']\n",
            "04:59:47 - cmdstanpy - INFO - Chain [1] start processing\n",
            "INFO:cmdstanpy:Chain [1] start processing\n",
            "04:59:47 - cmdstanpy - INFO - Chain [1] done processing\n",
            "INFO:cmdstanpy:Chain [1] done processing\n"
          ]
        },
        {
          "output_type": "stream",
          "name": "stdout",
          "text": [
            "+++++++++++++++++++++++++++++++++++++++++++++++++++++++++++++++++++++++++++++++++++++++ [('Prophet', 30.5627), ('ARIMA', 3.8953), ('ETS', 4.7276), ('XGBoost', 7.3688)]\n",
            "+++++++++++++++++++++++++++++++++++++++++++++++++++++++++++++++++++++++++++++++++++++++ ARIMA 17 182 3\n"
          ]
        },
        {
          "output_type": "stream",
          "name": "stderr",
          "text": [
            "/usr/local/lib/python3.10/dist-packages/statsmodels/tsa/base/tsa_model.py:473: ValueWarning: No frequency information was provided, so inferred frequency D will be used.\n",
            "  self._init_dates(dates, freq)\n",
            "/usr/local/lib/python3.10/dist-packages/statsmodels/tsa/holtwinters/model.py:917: ConvergenceWarning: Optimization failed to converge. Check mle_retvals.\n",
            "  warnings.warn(\n",
            "<ipython-input-10-fd7e9e95ee04>:69: FutureWarning: The frame.append method is deprecated and will be removed from pandas in a future version. Use pandas.concat instead.\n",
            "  results_df = results_df.append(result_dict, ignore_index=True)\n",
            "INFO:prophet:Disabling yearly seasonality. Run prophet with yearly_seasonality=True to override this.\n",
            "INFO:prophet:Disabling daily seasonality. Run prophet with daily_seasonality=True to override this.\n",
            "DEBUG:cmdstanpy:input tempfile: /tmp/tmpnc3vi0u7/r0vxvr1k.json\n"
          ]
        },
        {
          "output_type": "stream",
          "name": "stdout",
          "text": [
            "+++++++++++++++++++++++++++++++++++++++++++++++++++++++++++++++++++++++++++++++++++++++ [('Prophet', 25.2463), ('ARIMA', 3.5044), ('ETS', 10.9202), ('XGBoost', 7.4564)]\n",
            "+++++++++++++++++++++++++++++++++++++++++++++++++++++++++++++++++++++++++++++++++++++++ ARIMA 18 185 3\n"
          ]
        },
        {
          "output_type": "stream",
          "name": "stderr",
          "text": [
            "DEBUG:cmdstanpy:input tempfile: /tmp/tmpnc3vi0u7/n3pvhdlw.json\n",
            "DEBUG:cmdstanpy:idx 0\n",
            "DEBUG:cmdstanpy:running CmdStan, num_threads: None\n",
            "DEBUG:cmdstanpy:CmdStan args: ['/usr/local/lib/python3.10/dist-packages/prophet/stan_model/prophet_model.bin', 'random', 'seed=42132', 'data', 'file=/tmp/tmpnc3vi0u7/r0vxvr1k.json', 'init=/tmp/tmpnc3vi0u7/n3pvhdlw.json', 'output', 'file=/tmp/tmpnc3vi0u7/prophet_model__4b0rhk/prophet_model-20231001050004.csv', 'method=optimize', 'algorithm=lbfgs', 'iter=10000']\n",
            "05:00:04 - cmdstanpy - INFO - Chain [1] start processing\n",
            "INFO:cmdstanpy:Chain [1] start processing\n",
            "05:00:04 - cmdstanpy - INFO - Chain [1] done processing\n",
            "INFO:cmdstanpy:Chain [1] done processing\n",
            "/usr/local/lib/python3.10/dist-packages/statsmodels/tsa/base/tsa_model.py:473: ValueWarning: No frequency information was provided, so inferred frequency D will be used.\n",
            "  self._init_dates(dates, freq)\n",
            "/usr/local/lib/python3.10/dist-packages/statsmodels/tsa/holtwinters/model.py:917: ConvergenceWarning: Optimization failed to converge. Check mle_retvals.\n",
            "  warnings.warn(\n",
            "<ipython-input-10-fd7e9e95ee04>:69: FutureWarning: The frame.append method is deprecated and will be removed from pandas in a future version. Use pandas.concat instead.\n",
            "  results_df = results_df.append(result_dict, ignore_index=True)\n",
            "INFO:prophet:Disabling yearly seasonality. Run prophet with yearly_seasonality=True to override this.\n",
            "INFO:prophet:Disabling daily seasonality. Run prophet with daily_seasonality=True to override this.\n",
            "DEBUG:cmdstanpy:input tempfile: /tmp/tmpnc3vi0u7/vcl_aw61.json\n",
            "DEBUG:cmdstanpy:input tempfile: /tmp/tmpnc3vi0u7/uakhx1gp.json\n",
            "DEBUG:cmdstanpy:idx 0\n",
            "DEBUG:cmdstanpy:running CmdStan, num_threads: None\n",
            "DEBUG:cmdstanpy:CmdStan args: ['/usr/local/lib/python3.10/dist-packages/prophet/stan_model/prophet_model.bin', 'random', 'seed=20706', 'data', 'file=/tmp/tmpnc3vi0u7/vcl_aw61.json', 'init=/tmp/tmpnc3vi0u7/uakhx1gp.json', 'output', 'file=/tmp/tmpnc3vi0u7/prophet_model1c844brw/prophet_model-20231001050019.csv', 'method=optimize', 'algorithm=lbfgs', 'iter=10000']\n",
            "05:00:19 - cmdstanpy - INFO - Chain [1] start processing\n",
            "INFO:cmdstanpy:Chain [1] start processing\n",
            "05:00:19 - cmdstanpy - INFO - Chain [1] done processing\n",
            "INFO:cmdstanpy:Chain [1] done processing\n"
          ]
        },
        {
          "output_type": "stream",
          "name": "stdout",
          "text": [
            "+++++++++++++++++++++++++++++++++++++++++++++++++++++++++++++++++++++++++++++++++++++++ [('Prophet', 20.8548), ('ARIMA', 3.355), ('ETS', 7.5413), ('XGBoost', 18.1061)]\n",
            "+++++++++++++++++++++++++++++++++++++++++++++++++++++++++++++++++++++++++++++++++++++++ ARIMA 19 188 3\n"
          ]
        },
        {
          "output_type": "stream",
          "name": "stderr",
          "text": [
            "/usr/local/lib/python3.10/dist-packages/statsmodels/tsa/base/tsa_model.py:473: ValueWarning: No frequency information was provided, so inferred frequency D will be used.\n",
            "  self._init_dates(dates, freq)\n",
            "/usr/local/lib/python3.10/dist-packages/statsmodels/tsa/holtwinters/model.py:917: ConvergenceWarning: Optimization failed to converge. Check mle_retvals.\n",
            "  warnings.warn(\n",
            "<ipython-input-10-fd7e9e95ee04>:69: FutureWarning: The frame.append method is deprecated and will be removed from pandas in a future version. Use pandas.concat instead.\n",
            "  results_df = results_df.append(result_dict, ignore_index=True)\n",
            "INFO:prophet:Disabling yearly seasonality. Run prophet with yearly_seasonality=True to override this.\n",
            "INFO:prophet:Disabling daily seasonality. Run prophet with daily_seasonality=True to override this.\n",
            "DEBUG:cmdstanpy:input tempfile: /tmp/tmpnc3vi0u7/7lxcg6l4.json\n",
            "DEBUG:cmdstanpy:input tempfile: /tmp/tmpnc3vi0u7/zoxofec0.json\n",
            "DEBUG:cmdstanpy:idx 0\n",
            "DEBUG:cmdstanpy:running CmdStan, num_threads: None\n",
            "DEBUG:cmdstanpy:CmdStan args: ['/usr/local/lib/python3.10/dist-packages/prophet/stan_model/prophet_model.bin', 'random', 'seed=87132', 'data', 'file=/tmp/tmpnc3vi0u7/7lxcg6l4.json', 'init=/tmp/tmpnc3vi0u7/zoxofec0.json', 'output', 'file=/tmp/tmpnc3vi0u7/prophet_model2dqw68b5/prophet_model-20231001050036.csv', 'method=optimize', 'algorithm=lbfgs', 'iter=10000']\n",
            "05:00:36 - cmdstanpy - INFO - Chain [1] start processing\n",
            "INFO:cmdstanpy:Chain [1] start processing\n",
            "05:00:36 - cmdstanpy - INFO - Chain [1] done processing\n",
            "INFO:cmdstanpy:Chain [1] done processing\n"
          ]
        },
        {
          "output_type": "stream",
          "name": "stdout",
          "text": [
            "+++++++++++++++++++++++++++++++++++++++++++++++++++++++++++++++++++++++++++++++++++++++ [('Prophet', 25.4707), ('ARIMA', 2.9268), ('ETS', 7.0138), ('XGBoost', 8.0648)]\n",
            "+++++++++++++++++++++++++++++++++++++++++++++++++++++++++++++++++++++++++++++++++++++++ ARIMA 20 191 3\n"
          ]
        },
        {
          "output_type": "stream",
          "name": "stderr",
          "text": [
            "/usr/local/lib/python3.10/dist-packages/statsmodels/tsa/base/tsa_model.py:473: ValueWarning: No frequency information was provided, so inferred frequency D will be used.\n",
            "  self._init_dates(dates, freq)\n",
            "/usr/local/lib/python3.10/dist-packages/statsmodels/tsa/holtwinters/model.py:917: ConvergenceWarning: Optimization failed to converge. Check mle_retvals.\n",
            "  warnings.warn(\n",
            "<ipython-input-10-fd7e9e95ee04>:69: FutureWarning: The frame.append method is deprecated and will be removed from pandas in a future version. Use pandas.concat instead.\n",
            "  results_df = results_df.append(result_dict, ignore_index=True)\n",
            "INFO:prophet:Disabling yearly seasonality. Run prophet with yearly_seasonality=True to override this.\n",
            "INFO:prophet:Disabling daily seasonality. Run prophet with daily_seasonality=True to override this.\n",
            "DEBUG:cmdstanpy:input tempfile: /tmp/tmpnc3vi0u7/_kqy_928.json\n",
            "DEBUG:cmdstanpy:input tempfile: /tmp/tmpnc3vi0u7/3y22w2br.json\n",
            "DEBUG:cmdstanpy:idx 0\n",
            "DEBUG:cmdstanpy:running CmdStan, num_threads: None\n",
            "DEBUG:cmdstanpy:CmdStan args: ['/usr/local/lib/python3.10/dist-packages/prophet/stan_model/prophet_model.bin', 'random', 'seed=83739', 'data', 'file=/tmp/tmpnc3vi0u7/_kqy_928.json', 'init=/tmp/tmpnc3vi0u7/3y22w2br.json', 'output', 'file=/tmp/tmpnc3vi0u7/prophet_model8yy5acjn/prophet_model-20231001050051.csv', 'method=optimize', 'algorithm=lbfgs', 'iter=10000']\n",
            "05:00:51 - cmdstanpy - INFO - Chain [1] start processing\n",
            "INFO:cmdstanpy:Chain [1] start processing\n",
            "05:00:51 - cmdstanpy - INFO - Chain [1] done processing\n",
            "INFO:cmdstanpy:Chain [1] done processing\n"
          ]
        },
        {
          "output_type": "stream",
          "name": "stdout",
          "text": [
            "+++++++++++++++++++++++++++++++++++++++++++++++++++++++++++++++++++++++++++++++++++++++ [('Prophet', 9.9778), ('ARIMA', 5.2151), ('ETS', 13.5949), ('XGBoost', 13.5009)]\n",
            "+++++++++++++++++++++++++++++++++++++++++++++++++++++++++++++++++++++++++++++++++++++++ ARIMA 21 194 3\n"
          ]
        },
        {
          "output_type": "stream",
          "name": "stderr",
          "text": [
            "/usr/local/lib/python3.10/dist-packages/statsmodels/tsa/base/tsa_model.py:473: ValueWarning: No frequency information was provided, so inferred frequency D will be used.\n",
            "  self._init_dates(dates, freq)\n",
            "/usr/local/lib/python3.10/dist-packages/statsmodels/tsa/holtwinters/model.py:917: ConvergenceWarning: Optimization failed to converge. Check mle_retvals.\n",
            "  warnings.warn(\n",
            "<ipython-input-10-fd7e9e95ee04>:69: FutureWarning: The frame.append method is deprecated and will be removed from pandas in a future version. Use pandas.concat instead.\n",
            "  results_df = results_df.append(result_dict, ignore_index=True)\n",
            "INFO:prophet:Disabling yearly seasonality. Run prophet with yearly_seasonality=True to override this.\n",
            "INFO:prophet:Disabling daily seasonality. Run prophet with daily_seasonality=True to override this.\n",
            "DEBUG:cmdstanpy:input tempfile: /tmp/tmpnc3vi0u7/vtpkj5sa.json\n",
            "DEBUG:cmdstanpy:input tempfile: /tmp/tmpnc3vi0u7/ai2x30xh.json\n",
            "DEBUG:cmdstanpy:idx 0\n",
            "DEBUG:cmdstanpy:running CmdStan, num_threads: None\n",
            "DEBUG:cmdstanpy:CmdStan args: ['/usr/local/lib/python3.10/dist-packages/prophet/stan_model/prophet_model.bin', 'random', 'seed=24172', 'data', 'file=/tmp/tmpnc3vi0u7/vtpkj5sa.json', 'init=/tmp/tmpnc3vi0u7/ai2x30xh.json', 'output', 'file=/tmp/tmpnc3vi0u7/prophet_modelel092ob0/prophet_model-20231001050106.csv', 'method=optimize', 'algorithm=lbfgs', 'iter=10000']\n",
            "05:01:06 - cmdstanpy - INFO - Chain [1] start processing\n",
            "INFO:cmdstanpy:Chain [1] start processing\n",
            "05:01:06 - cmdstanpy - INFO - Chain [1] done processing\n",
            "INFO:cmdstanpy:Chain [1] done processing\n"
          ]
        },
        {
          "output_type": "stream",
          "name": "stdout",
          "text": [
            "+++++++++++++++++++++++++++++++++++++++++++++++++++++++++++++++++++++++++++++++++++++++ [('Prophet', 17.0811), ('ARIMA', 1.7547), ('ETS', 5.5252), ('XGBoost', 4.3236)]\n",
            "+++++++++++++++++++++++++++++++++++++++++++++++++++++++++++++++++++++++++++++++++++++++ ARIMA 22 197 3\n"
          ]
        },
        {
          "output_type": "stream",
          "name": "stderr",
          "text": [
            "/usr/local/lib/python3.10/dist-packages/statsmodels/tsa/base/tsa_model.py:473: ValueWarning: No frequency information was provided, so inferred frequency D will be used.\n",
            "  self._init_dates(dates, freq)\n",
            "/usr/local/lib/python3.10/dist-packages/statsmodels/tsa/holtwinters/model.py:917: ConvergenceWarning: Optimization failed to converge. Check mle_retvals.\n",
            "  warnings.warn(\n",
            "<ipython-input-10-fd7e9e95ee04>:69: FutureWarning: The frame.append method is deprecated and will be removed from pandas in a future version. Use pandas.concat instead.\n",
            "  results_df = results_df.append(result_dict, ignore_index=True)\n",
            "INFO:prophet:Disabling yearly seasonality. Run prophet with yearly_seasonality=True to override this.\n",
            "INFO:prophet:Disabling daily seasonality. Run prophet with daily_seasonality=True to override this.\n",
            "DEBUG:cmdstanpy:input tempfile: /tmp/tmpnc3vi0u7/3nlny07a.json\n",
            "DEBUG:cmdstanpy:input tempfile: /tmp/tmpnc3vi0u7/otlli6mr.json\n",
            "DEBUG:cmdstanpy:idx 0\n",
            "DEBUG:cmdstanpy:running CmdStan, num_threads: None\n",
            "DEBUG:cmdstanpy:CmdStan args: ['/usr/local/lib/python3.10/dist-packages/prophet/stan_model/prophet_model.bin', 'random', 'seed=45116', 'data', 'file=/tmp/tmpnc3vi0u7/3nlny07a.json', 'init=/tmp/tmpnc3vi0u7/otlli6mr.json', 'output', 'file=/tmp/tmpnc3vi0u7/prophet_modelpu1wudnk/prophet_model-20231001050123.csv', 'method=optimize', 'algorithm=lbfgs', 'iter=10000']\n",
            "05:01:23 - cmdstanpy - INFO - Chain [1] start processing\n",
            "INFO:cmdstanpy:Chain [1] start processing\n",
            "05:01:23 - cmdstanpy - INFO - Chain [1] done processing\n",
            "INFO:cmdstanpy:Chain [1] done processing\n"
          ]
        },
        {
          "output_type": "stream",
          "name": "stdout",
          "text": [
            "+++++++++++++++++++++++++++++++++++++++++++++++++++++++++++++++++++++++++++++++++++++++ [('Prophet', 5.0397), ('ARIMA', 4.3214), ('ETS', 12.8981), ('XGBoost', 15.014)]\n",
            "+++++++++++++++++++++++++++++++++++++++++++++++++++++++++++++++++++++++++++++++++++++++ ARIMA 23 200 3\n"
          ]
        },
        {
          "output_type": "stream",
          "name": "stderr",
          "text": [
            "/usr/local/lib/python3.10/dist-packages/statsmodels/tsa/base/tsa_model.py:473: ValueWarning: No frequency information was provided, so inferred frequency D will be used.\n",
            "  self._init_dates(dates, freq)\n",
            "/usr/local/lib/python3.10/dist-packages/statsmodels/tsa/holtwinters/model.py:917: ConvergenceWarning: Optimization failed to converge. Check mle_retvals.\n",
            "  warnings.warn(\n",
            "<ipython-input-10-fd7e9e95ee04>:69: FutureWarning: The frame.append method is deprecated and will be removed from pandas in a future version. Use pandas.concat instead.\n",
            "  results_df = results_df.append(result_dict, ignore_index=True)\n",
            "INFO:prophet:Disabling yearly seasonality. Run prophet with yearly_seasonality=True to override this.\n",
            "INFO:prophet:Disabling daily seasonality. Run prophet with daily_seasonality=True to override this.\n",
            "DEBUG:cmdstanpy:input tempfile: /tmp/tmpnc3vi0u7/vz8mbrp4.json\n",
            "DEBUG:cmdstanpy:input tempfile: /tmp/tmpnc3vi0u7/08cx99ew.json\n",
            "DEBUG:cmdstanpy:idx 0\n",
            "DEBUG:cmdstanpy:running CmdStan, num_threads: None\n",
            "DEBUG:cmdstanpy:CmdStan args: ['/usr/local/lib/python3.10/dist-packages/prophet/stan_model/prophet_model.bin', 'random', 'seed=43305', 'data', 'file=/tmp/tmpnc3vi0u7/vz8mbrp4.json', 'init=/tmp/tmpnc3vi0u7/08cx99ew.json', 'output', 'file=/tmp/tmpnc3vi0u7/prophet_model5io2pcck/prophet_model-20231001050131.csv', 'method=optimize', 'algorithm=lbfgs', 'iter=10000']\n",
            "05:01:31 - cmdstanpy - INFO - Chain [1] start processing\n",
            "INFO:cmdstanpy:Chain [1] start processing\n",
            "05:01:31 - cmdstanpy - INFO - Chain [1] done processing\n",
            "INFO:cmdstanpy:Chain [1] done processing\n"
          ]
        },
        {
          "output_type": "stream",
          "name": "stdout",
          "text": [
            "+++++++++++++++++++++++++++++++++++++++++++++++++++++++++++++++++++++++++++++++++++++++ [('Prophet', 10.2977), ('ARIMA', 6.0204), ('ETS', 18.3672), ('XGBoost', 4.1365)]\n",
            "+++++++++++++++++++++++++++++++++++++++++++++++++++++++++++++++++++++++++++++++++++++++ XGBoost 24 203 3\n"
          ]
        },
        {
          "output_type": "stream",
          "name": "stderr",
          "text": [
            "/usr/local/lib/python3.10/dist-packages/statsmodels/tsa/base/tsa_model.py:473: ValueWarning: No frequency information was provided, so inferred frequency D will be used.\n",
            "  self._init_dates(dates, freq)\n",
            "/usr/local/lib/python3.10/dist-packages/statsmodels/tsa/holtwinters/model.py:917: ConvergenceWarning: Optimization failed to converge. Check mle_retvals.\n",
            "  warnings.warn(\n",
            "<ipython-input-10-fd7e9e95ee04>:69: FutureWarning: The frame.append method is deprecated and will be removed from pandas in a future version. Use pandas.concat instead.\n",
            "  results_df = results_df.append(result_dict, ignore_index=True)\n",
            "INFO:prophet:Disabling yearly seasonality. Run prophet with yearly_seasonality=True to override this.\n",
            "INFO:prophet:Disabling daily seasonality. Run prophet with daily_seasonality=True to override this.\n",
            "DEBUG:cmdstanpy:input tempfile: /tmp/tmpnc3vi0u7/88unct7l.json\n",
            "DEBUG:cmdstanpy:input tempfile: /tmp/tmpnc3vi0u7/g7j0rpza.json\n",
            "DEBUG:cmdstanpy:idx 0\n",
            "DEBUG:cmdstanpy:running CmdStan, num_threads: None\n",
            "DEBUG:cmdstanpy:CmdStan args: ['/usr/local/lib/python3.10/dist-packages/prophet/stan_model/prophet_model.bin', 'random', 'seed=60588', 'data', 'file=/tmp/tmpnc3vi0u7/88unct7l.json', 'init=/tmp/tmpnc3vi0u7/g7j0rpza.json', 'output', 'file=/tmp/tmpnc3vi0u7/prophet_modelrt_f0qwd/prophet_model-20231001050147.csv', 'method=optimize', 'algorithm=lbfgs', 'iter=10000']\n",
            "05:01:47 - cmdstanpy - INFO - Chain [1] start processing\n",
            "INFO:cmdstanpy:Chain [1] start processing\n",
            "05:01:47 - cmdstanpy - INFO - Chain [1] done processing\n",
            "INFO:cmdstanpy:Chain [1] done processing\n"
          ]
        },
        {
          "output_type": "stream",
          "name": "stdout",
          "text": [
            "+++++++++++++++++++++++++++++++++++++++++++++++++++++++++++++++++++++++++++++++++++++++ [('Prophet', 5.0234), ('ARIMA', 3.1746), ('ETS', 7.7393), ('XGBoost', 11.9399)]\n",
            "+++++++++++++++++++++++++++++++++++++++++++++++++++++++++++++++++++++++++++++++++++++++ ARIMA 25 206 3\n"
          ]
        },
        {
          "output_type": "stream",
          "name": "stderr",
          "text": [
            "/usr/local/lib/python3.10/dist-packages/statsmodels/tsa/base/tsa_model.py:473: ValueWarning: No frequency information was provided, so inferred frequency D will be used.\n",
            "  self._init_dates(dates, freq)\n",
            "/usr/local/lib/python3.10/dist-packages/statsmodels/tsa/holtwinters/model.py:917: ConvergenceWarning: Optimization failed to converge. Check mle_retvals.\n",
            "  warnings.warn(\n",
            "<ipython-input-10-fd7e9e95ee04>:69: FutureWarning: The frame.append method is deprecated and will be removed from pandas in a future version. Use pandas.concat instead.\n",
            "  results_df = results_df.append(result_dict, ignore_index=True)\n",
            "INFO:prophet:Disabling yearly seasonality. Run prophet with yearly_seasonality=True to override this.\n",
            "INFO:prophet:Disabling daily seasonality. Run prophet with daily_seasonality=True to override this.\n",
            "DEBUG:cmdstanpy:input tempfile: /tmp/tmpnc3vi0u7/4rp9wliy.json\n",
            "DEBUG:cmdstanpy:input tempfile: /tmp/tmpnc3vi0u7/j04zgbs_.json\n",
            "DEBUG:cmdstanpy:idx 0\n",
            "DEBUG:cmdstanpy:running CmdStan, num_threads: None\n",
            "DEBUG:cmdstanpy:CmdStan args: ['/usr/local/lib/python3.10/dist-packages/prophet/stan_model/prophet_model.bin', 'random', 'seed=31817', 'data', 'file=/tmp/tmpnc3vi0u7/4rp9wliy.json', 'init=/tmp/tmpnc3vi0u7/j04zgbs_.json', 'output', 'file=/tmp/tmpnc3vi0u7/prophet_model60fjgwro/prophet_model-20231001050156.csv', 'method=optimize', 'algorithm=lbfgs', 'iter=10000']\n",
            "05:01:56 - cmdstanpy - INFO - Chain [1] start processing\n",
            "INFO:cmdstanpy:Chain [1] start processing\n",
            "05:01:56 - cmdstanpy - INFO - Chain [1] done processing\n",
            "INFO:cmdstanpy:Chain [1] done processing\n"
          ]
        },
        {
          "output_type": "stream",
          "name": "stdout",
          "text": [
            "+++++++++++++++++++++++++++++++++++++++++++++++++++++++++++++++++++++++++++++++++++++++ [('Prophet', 9.8217), ('ARIMA', 12.1026), ('ETS', 12.5367), ('XGBoost', 26.0907)]\n",
            "+++++++++++++++++++++++++++++++++++++++++++++++++++++++++++++++++++++++++++++++++++++++ Prophet 26 209 3\n"
          ]
        },
        {
          "output_type": "stream",
          "name": "stderr",
          "text": [
            "/usr/local/lib/python3.10/dist-packages/statsmodels/tsa/base/tsa_model.py:473: ValueWarning: No frequency information was provided, so inferred frequency D will be used.\n",
            "  self._init_dates(dates, freq)\n",
            "/usr/local/lib/python3.10/dist-packages/statsmodels/tsa/holtwinters/model.py:917: ConvergenceWarning: Optimization failed to converge. Check mle_retvals.\n",
            "  warnings.warn(\n",
            "<ipython-input-10-fd7e9e95ee04>:69: FutureWarning: The frame.append method is deprecated and will be removed from pandas in a future version. Use pandas.concat instead.\n",
            "  results_df = results_df.append(result_dict, ignore_index=True)\n",
            "INFO:prophet:Disabling yearly seasonality. Run prophet with yearly_seasonality=True to override this.\n",
            "INFO:prophet:Disabling daily seasonality. Run prophet with daily_seasonality=True to override this.\n",
            "DEBUG:cmdstanpy:input tempfile: /tmp/tmpnc3vi0u7/s6fruwvc.json\n",
            "DEBUG:cmdstanpy:input tempfile: /tmp/tmpnc3vi0u7/50zsvi5x.json\n",
            "DEBUG:cmdstanpy:idx 0\n",
            "DEBUG:cmdstanpy:running CmdStan, num_threads: None\n",
            "DEBUG:cmdstanpy:CmdStan args: ['/usr/local/lib/python3.10/dist-packages/prophet/stan_model/prophet_model.bin', 'random', 'seed=43182', 'data', 'file=/tmp/tmpnc3vi0u7/s6fruwvc.json', 'init=/tmp/tmpnc3vi0u7/50zsvi5x.json', 'output', 'file=/tmp/tmpnc3vi0u7/prophet_modelh2d9zee0/prophet_model-20231001050212.csv', 'method=optimize', 'algorithm=lbfgs', 'iter=10000']\n",
            "05:02:12 - cmdstanpy - INFO - Chain [1] start processing\n",
            "INFO:cmdstanpy:Chain [1] start processing\n",
            "05:02:12 - cmdstanpy - INFO - Chain [1] done processing\n",
            "INFO:cmdstanpy:Chain [1] done processing\n"
          ]
        },
        {
          "output_type": "stream",
          "name": "stdout",
          "text": [
            "+++++++++++++++++++++++++++++++++++++++++++++++++++++++++++++++++++++++++++++++++++++++ [('Prophet', 11.2852), ('ARIMA', 23.7503), ('ETS', 25.4676), ('XGBoost', 23.1747)]\n",
            "+++++++++++++++++++++++++++++++++++++++++++++++++++++++++++++++++++++++++++++++++++++++ Prophet 27 212 3\n"
          ]
        },
        {
          "output_type": "stream",
          "name": "stderr",
          "text": [
            "/usr/local/lib/python3.10/dist-packages/statsmodels/tsa/base/tsa_model.py:473: ValueWarning: No frequency information was provided, so inferred frequency D will be used.\n",
            "  self._init_dates(dates, freq)\n",
            "/usr/local/lib/python3.10/dist-packages/statsmodels/tsa/holtwinters/model.py:917: ConvergenceWarning: Optimization failed to converge. Check mle_retvals.\n",
            "  warnings.warn(\n",
            "<ipython-input-10-fd7e9e95ee04>:69: FutureWarning: The frame.append method is deprecated and will be removed from pandas in a future version. Use pandas.concat instead.\n",
            "  results_df = results_df.append(result_dict, ignore_index=True)\n",
            "INFO:prophet:Disabling yearly seasonality. Run prophet with yearly_seasonality=True to override this.\n",
            "INFO:prophet:Disabling daily seasonality. Run prophet with daily_seasonality=True to override this.\n",
            "DEBUG:cmdstanpy:input tempfile: /tmp/tmpnc3vi0u7/bvit682h.json\n",
            "DEBUG:cmdstanpy:input tempfile: /tmp/tmpnc3vi0u7/99cdrvj3.json\n",
            "DEBUG:cmdstanpy:idx 0\n",
            "DEBUG:cmdstanpy:running CmdStan, num_threads: None\n",
            "DEBUG:cmdstanpy:CmdStan args: ['/usr/local/lib/python3.10/dist-packages/prophet/stan_model/prophet_model.bin', 'random', 'seed=39547', 'data', 'file=/tmp/tmpnc3vi0u7/bvit682h.json', 'init=/tmp/tmpnc3vi0u7/99cdrvj3.json', 'output', 'file=/tmp/tmpnc3vi0u7/prophet_modeloall7nlt/prophet_model-20231001050219.csv', 'method=optimize', 'algorithm=lbfgs', 'iter=10000']\n",
            "05:02:19 - cmdstanpy - INFO - Chain [1] start processing\n",
            "INFO:cmdstanpy:Chain [1] start processing\n",
            "05:02:19 - cmdstanpy - INFO - Chain [1] done processing\n",
            "INFO:cmdstanpy:Chain [1] done processing\n"
          ]
        },
        {
          "output_type": "stream",
          "name": "stdout",
          "text": [
            "+++++++++++++++++++++++++++++++++++++++++++++++++++++++++++++++++++++++++++++++++++++++ [('Prophet', 19.838), ('ARIMA', 8.6792), ('ETS', 4.1826), ('XGBoost', 12.8226)]\n",
            "+++++++++++++++++++++++++++++++++++++++++++++++++++++++++++++++++++++++++++++++++++++++ ETS 28 215 3\n"
          ]
        },
        {
          "output_type": "stream",
          "name": "stderr",
          "text": [
            "/usr/local/lib/python3.10/dist-packages/statsmodels/tsa/base/tsa_model.py:473: ValueWarning: No frequency information was provided, so inferred frequency D will be used.\n",
            "  self._init_dates(dates, freq)\n",
            "/usr/local/lib/python3.10/dist-packages/statsmodels/tsa/holtwinters/model.py:917: ConvergenceWarning: Optimization failed to converge. Check mle_retvals.\n",
            "  warnings.warn(\n",
            "<ipython-input-10-fd7e9e95ee04>:69: FutureWarning: The frame.append method is deprecated and will be removed from pandas in a future version. Use pandas.concat instead.\n",
            "  results_df = results_df.append(result_dict, ignore_index=True)\n",
            "INFO:prophet:Disabling yearly seasonality. Run prophet with yearly_seasonality=True to override this.\n",
            "INFO:prophet:Disabling daily seasonality. Run prophet with daily_seasonality=True to override this.\n",
            "DEBUG:cmdstanpy:input tempfile: /tmp/tmpnc3vi0u7/jocp7mpv.json\n",
            "DEBUG:cmdstanpy:input tempfile: /tmp/tmpnc3vi0u7/kfbpb8cz.json\n",
            "DEBUG:cmdstanpy:idx 0\n",
            "DEBUG:cmdstanpy:running CmdStan, num_threads: None\n",
            "DEBUG:cmdstanpy:CmdStan args: ['/usr/local/lib/python3.10/dist-packages/prophet/stan_model/prophet_model.bin', 'random', 'seed=65213', 'data', 'file=/tmp/tmpnc3vi0u7/jocp7mpv.json', 'init=/tmp/tmpnc3vi0u7/kfbpb8cz.json', 'output', 'file=/tmp/tmpnc3vi0u7/prophet_modelmxg48g70/prophet_model-20231001050235.csv', 'method=optimize', 'algorithm=lbfgs', 'iter=10000']\n",
            "05:02:35 - cmdstanpy - INFO - Chain [1] start processing\n",
            "INFO:cmdstanpy:Chain [1] start processing\n",
            "05:02:35 - cmdstanpy - INFO - Chain [1] done processing\n",
            "INFO:cmdstanpy:Chain [1] done processing\n"
          ]
        },
        {
          "output_type": "stream",
          "name": "stdout",
          "text": [
            "+++++++++++++++++++++++++++++++++++++++++++++++++++++++++++++++++++++++++++++++++++++++ [('Prophet', 10.2992), ('ARIMA', 9.5441), ('ETS', 17.2654), ('XGBoost', 5.7974)]\n",
            "+++++++++++++++++++++++++++++++++++++++++++++++++++++++++++++++++++++++++++++++++++++++ XGBoost 29 218 3\n"
          ]
        },
        {
          "output_type": "stream",
          "name": "stderr",
          "text": [
            "/usr/local/lib/python3.10/dist-packages/statsmodels/tsa/base/tsa_model.py:473: ValueWarning: No frequency information was provided, so inferred frequency D will be used.\n",
            "  self._init_dates(dates, freq)\n",
            "/usr/local/lib/python3.10/dist-packages/statsmodels/tsa/holtwinters/model.py:917: ConvergenceWarning: Optimization failed to converge. Check mle_retvals.\n",
            "  warnings.warn(\n",
            "<ipython-input-10-fd7e9e95ee04>:69: FutureWarning: The frame.append method is deprecated and will be removed from pandas in a future version. Use pandas.concat instead.\n",
            "  results_df = results_df.append(result_dict, ignore_index=True)\n",
            "INFO:prophet:Disabling yearly seasonality. Run prophet with yearly_seasonality=True to override this.\n",
            "INFO:prophet:Disabling daily seasonality. Run prophet with daily_seasonality=True to override this.\n",
            "DEBUG:cmdstanpy:input tempfile: /tmp/tmpnc3vi0u7/z97xbi7g.json\n",
            "DEBUG:cmdstanpy:input tempfile: /tmp/tmpnc3vi0u7/giop8aif.json\n",
            "DEBUG:cmdstanpy:idx 0\n",
            "DEBUG:cmdstanpy:running CmdStan, num_threads: None\n",
            "DEBUG:cmdstanpy:CmdStan args: ['/usr/local/lib/python3.10/dist-packages/prophet/stan_model/prophet_model.bin', 'random', 'seed=15962', 'data', 'file=/tmp/tmpnc3vi0u7/z97xbi7g.json', 'init=/tmp/tmpnc3vi0u7/giop8aif.json', 'output', 'file=/tmp/tmpnc3vi0u7/prophet_model4d3tdw_8/prophet_model-20231001050252.csv', 'method=optimize', 'algorithm=lbfgs', 'iter=10000']\n",
            "05:02:52 - cmdstanpy - INFO - Chain [1] start processing\n",
            "INFO:cmdstanpy:Chain [1] start processing\n",
            "05:02:52 - cmdstanpy - INFO - Chain [1] done processing\n",
            "INFO:cmdstanpy:Chain [1] done processing\n"
          ]
        },
        {
          "output_type": "stream",
          "name": "stdout",
          "text": [
            "+++++++++++++++++++++++++++++++++++++++++++++++++++++++++++++++++++++++++++++++++++++++ [('Prophet', 18.1965), ('ARIMA', 1.586), ('ETS', 9.3789), ('XGBoost', 9.0402)]\n",
            "+++++++++++++++++++++++++++++++++++++++++++++++++++++++++++++++++++++++++++++++++++++++ ARIMA 30 221 3\n"
          ]
        },
        {
          "output_type": "stream",
          "name": "stderr",
          "text": [
            "/usr/local/lib/python3.10/dist-packages/statsmodels/tsa/base/tsa_model.py:473: ValueWarning: No frequency information was provided, so inferred frequency D will be used.\n",
            "  self._init_dates(dates, freq)\n",
            "/usr/local/lib/python3.10/dist-packages/statsmodels/tsa/holtwinters/model.py:917: ConvergenceWarning: Optimization failed to converge. Check mle_retvals.\n",
            "  warnings.warn(\n",
            "<ipython-input-10-fd7e9e95ee04>:69: FutureWarning: The frame.append method is deprecated and will be removed from pandas in a future version. Use pandas.concat instead.\n",
            "  results_df = results_df.append(result_dict, ignore_index=True)\n",
            "INFO:prophet:Disabling yearly seasonality. Run prophet with yearly_seasonality=True to override this.\n",
            "INFO:prophet:Disabling daily seasonality. Run prophet with daily_seasonality=True to override this.\n",
            "DEBUG:cmdstanpy:input tempfile: /tmp/tmpnc3vi0u7/up9sg8iw.json\n",
            "DEBUG:cmdstanpy:input tempfile: /tmp/tmpnc3vi0u7/vc2klutr.json\n",
            "DEBUG:cmdstanpy:idx 0\n",
            "DEBUG:cmdstanpy:running CmdStan, num_threads: None\n",
            "DEBUG:cmdstanpy:CmdStan args: ['/usr/local/lib/python3.10/dist-packages/prophet/stan_model/prophet_model.bin', 'random', 'seed=53551', 'data', 'file=/tmp/tmpnc3vi0u7/up9sg8iw.json', 'init=/tmp/tmpnc3vi0u7/vc2klutr.json', 'output', 'file=/tmp/tmpnc3vi0u7/prophet_modeliru0muqn/prophet_model-20231001050309.csv', 'method=optimize', 'algorithm=lbfgs', 'iter=10000']\n",
            "05:03:09 - cmdstanpy - INFO - Chain [1] start processing\n",
            "INFO:cmdstanpy:Chain [1] start processing\n",
            "05:03:09 - cmdstanpy - INFO - Chain [1] done processing\n",
            "INFO:cmdstanpy:Chain [1] done processing\n"
          ]
        },
        {
          "output_type": "stream",
          "name": "stdout",
          "text": [
            "+++++++++++++++++++++++++++++++++++++++++++++++++++++++++++++++++++++++++++++++++++++++ [('Prophet', 5.6077), ('ARIMA', 5.2987), ('ETS', 10.4822), ('XGBoost', 1.8335)]\n",
            "+++++++++++++++++++++++++++++++++++++++++++++++++++++++++++++++++++++++++++++++++++++++ XGBoost 31 224 3\n"
          ]
        },
        {
          "output_type": "stream",
          "name": "stderr",
          "text": [
            "/usr/local/lib/python3.10/dist-packages/statsmodels/tsa/base/tsa_model.py:473: ValueWarning: No frequency information was provided, so inferred frequency D will be used.\n",
            "  self._init_dates(dates, freq)\n",
            "/usr/local/lib/python3.10/dist-packages/statsmodels/tsa/holtwinters/model.py:917: ConvergenceWarning: Optimization failed to converge. Check mle_retvals.\n",
            "  warnings.warn(\n",
            "<ipython-input-10-fd7e9e95ee04>:69: FutureWarning: The frame.append method is deprecated and will be removed from pandas in a future version. Use pandas.concat instead.\n",
            "  results_df = results_df.append(result_dict, ignore_index=True)\n",
            "INFO:prophet:Disabling yearly seasonality. Run prophet with yearly_seasonality=True to override this.\n",
            "INFO:prophet:Disabling daily seasonality. Run prophet with daily_seasonality=True to override this.\n",
            "DEBUG:cmdstanpy:input tempfile: /tmp/tmpnc3vi0u7/a0oo6auy.json\n",
            "DEBUG:cmdstanpy:input tempfile: /tmp/tmpnc3vi0u7/2_fbtvb0.json\n",
            "DEBUG:cmdstanpy:idx 0\n",
            "DEBUG:cmdstanpy:running CmdStan, num_threads: None\n",
            "DEBUG:cmdstanpy:CmdStan args: ['/usr/local/lib/python3.10/dist-packages/prophet/stan_model/prophet_model.bin', 'random', 'seed=10491', 'data', 'file=/tmp/tmpnc3vi0u7/a0oo6auy.json', 'init=/tmp/tmpnc3vi0u7/2_fbtvb0.json', 'output', 'file=/tmp/tmpnc3vi0u7/prophet_modelnkg1ro0r/prophet_model-20231001050326.csv', 'method=optimize', 'algorithm=lbfgs', 'iter=10000']\n",
            "05:03:26 - cmdstanpy - INFO - Chain [1] start processing\n",
            "INFO:cmdstanpy:Chain [1] start processing\n",
            "05:03:26 - cmdstanpy - INFO - Chain [1] done processing\n",
            "INFO:cmdstanpy:Chain [1] done processing\n"
          ]
        },
        {
          "output_type": "stream",
          "name": "stdout",
          "text": [
            "+++++++++++++++++++++++++++++++++++++++++++++++++++++++++++++++++++++++++++++++++++++++ [('Prophet', 19.5626), ('ARIMA', 10.5993), ('ETS', 15.577), ('XGBoost', 16.2106)]\n",
            "+++++++++++++++++++++++++++++++++++++++++++++++++++++++++++++++++++++++++++++++++++++++ ARIMA 32 227 3\n"
          ]
        },
        {
          "output_type": "stream",
          "name": "stderr",
          "text": [
            "/usr/local/lib/python3.10/dist-packages/statsmodels/tsa/base/tsa_model.py:473: ValueWarning: No frequency information was provided, so inferred frequency D will be used.\n",
            "  self._init_dates(dates, freq)\n",
            "/usr/local/lib/python3.10/dist-packages/statsmodels/tsa/holtwinters/model.py:917: ConvergenceWarning: Optimization failed to converge. Check mle_retvals.\n",
            "  warnings.warn(\n",
            "<ipython-input-10-fd7e9e95ee04>:69: FutureWarning: The frame.append method is deprecated and will be removed from pandas in a future version. Use pandas.concat instead.\n",
            "  results_df = results_df.append(result_dict, ignore_index=True)\n",
            "INFO:prophet:Disabling yearly seasonality. Run prophet with yearly_seasonality=True to override this.\n",
            "INFO:prophet:Disabling daily seasonality. Run prophet with daily_seasonality=True to override this.\n",
            "DEBUG:cmdstanpy:input tempfile: /tmp/tmpnc3vi0u7/77gmwqey.json\n",
            "DEBUG:cmdstanpy:input tempfile: /tmp/tmpnc3vi0u7/ojh2c3s2.json\n",
            "DEBUG:cmdstanpy:idx 0\n",
            "DEBUG:cmdstanpy:running CmdStan, num_threads: None\n",
            "DEBUG:cmdstanpy:CmdStan args: ['/usr/local/lib/python3.10/dist-packages/prophet/stan_model/prophet_model.bin', 'random', 'seed=13586', 'data', 'file=/tmp/tmpnc3vi0u7/77gmwqey.json', 'init=/tmp/tmpnc3vi0u7/ojh2c3s2.json', 'output', 'file=/tmp/tmpnc3vi0u7/prophet_modelub3ju3kp/prophet_model-20231001050345.csv', 'method=optimize', 'algorithm=lbfgs', 'iter=10000']\n",
            "05:03:45 - cmdstanpy - INFO - Chain [1] start processing\n",
            "INFO:cmdstanpy:Chain [1] start processing\n",
            "05:03:45 - cmdstanpy - INFO - Chain [1] done processing\n",
            "INFO:cmdstanpy:Chain [1] done processing\n"
          ]
        },
        {
          "output_type": "stream",
          "name": "stdout",
          "text": [
            "+++++++++++++++++++++++++++++++++++++++++++++++++++++++++++++++++++++++++++++++++++++++ [('Prophet', 460956.1264), ('ARIMA', 441101.2739), ('ETS', 447305.3686), ('XGBoost', 435606.2434)]\n",
            "+++++++++++++++++++++++++++++++++++++++++++++++++++++++++++++++++++++++++++++++++++++++ XGBoost 33 230 3\n"
          ]
        },
        {
          "output_type": "stream",
          "name": "stderr",
          "text": [
            "/usr/local/lib/python3.10/dist-packages/statsmodels/tsa/base/tsa_model.py:473: ValueWarning: No frequency information was provided, so inferred frequency D will be used.\n",
            "  self._init_dates(dates, freq)\n",
            "/usr/local/lib/python3.10/dist-packages/statsmodels/tsa/holtwinters/model.py:917: ConvergenceWarning: Optimization failed to converge. Check mle_retvals.\n",
            "  warnings.warn(\n",
            "<ipython-input-10-fd7e9e95ee04>:69: FutureWarning: The frame.append method is deprecated and will be removed from pandas in a future version. Use pandas.concat instead.\n",
            "  results_df = results_df.append(result_dict, ignore_index=True)\n",
            "INFO:prophet:Disabling yearly seasonality. Run prophet with yearly_seasonality=True to override this.\n",
            "INFO:prophet:Disabling daily seasonality. Run prophet with daily_seasonality=True to override this.\n",
            "DEBUG:cmdstanpy:input tempfile: /tmp/tmpnc3vi0u7/5c3hfjdm.json\n",
            "DEBUG:cmdstanpy:input tempfile: /tmp/tmpnc3vi0u7/b9nwoncf.json\n",
            "DEBUG:cmdstanpy:idx 0\n",
            "DEBUG:cmdstanpy:running CmdStan, num_threads: None\n",
            "DEBUG:cmdstanpy:CmdStan args: ['/usr/local/lib/python3.10/dist-packages/prophet/stan_model/prophet_model.bin', 'random', 'seed=40181', 'data', 'file=/tmp/tmpnc3vi0u7/5c3hfjdm.json', 'init=/tmp/tmpnc3vi0u7/b9nwoncf.json', 'output', 'file=/tmp/tmpnc3vi0u7/prophet_modelmcn7v5nz/prophet_model-20231001050357.csv', 'method=optimize', 'algorithm=lbfgs', 'iter=10000']\n",
            "05:03:57 - cmdstanpy - INFO - Chain [1] start processing\n",
            "INFO:cmdstanpy:Chain [1] start processing\n",
            "05:03:57 - cmdstanpy - INFO - Chain [1] done processing\n",
            "INFO:cmdstanpy:Chain [1] done processing\n"
          ]
        },
        {
          "output_type": "stream",
          "name": "stdout",
          "text": [
            "+++++++++++++++++++++++++++++++++++++++++++++++++++++++++++++++++++++++++++++++++++++++ [('Prophet', 499064.4814), ('ARIMA', 270986.7783), ('ETS', 400540.5903), ('XGBoost', 293891.8912)]\n",
            "+++++++++++++++++++++++++++++++++++++++++++++++++++++++++++++++++++++++++++++++++++++++ ARIMA 34 233 3\n"
          ]
        },
        {
          "output_type": "stream",
          "name": "stderr",
          "text": [
            "/usr/local/lib/python3.10/dist-packages/statsmodels/tsa/base/tsa_model.py:473: ValueWarning: No frequency information was provided, so inferred frequency D will be used.\n",
            "  self._init_dates(dates, freq)\n",
            "/usr/local/lib/python3.10/dist-packages/statsmodels/tsa/holtwinters/model.py:917: ConvergenceWarning: Optimization failed to converge. Check mle_retvals.\n",
            "  warnings.warn(\n",
            "<ipython-input-10-fd7e9e95ee04>:69: FutureWarning: The frame.append method is deprecated and will be removed from pandas in a future version. Use pandas.concat instead.\n",
            "  results_df = results_df.append(result_dict, ignore_index=True)\n",
            "INFO:prophet:Disabling yearly seasonality. Run prophet with yearly_seasonality=True to override this.\n",
            "INFO:prophet:Disabling daily seasonality. Run prophet with daily_seasonality=True to override this.\n",
            "DEBUG:cmdstanpy:input tempfile: /tmp/tmpnc3vi0u7/xtu51rqn.json\n",
            "DEBUG:cmdstanpy:input tempfile: /tmp/tmpnc3vi0u7/s0hlxnq3.json\n",
            "DEBUG:cmdstanpy:idx 0\n",
            "DEBUG:cmdstanpy:running CmdStan, num_threads: None\n",
            "DEBUG:cmdstanpy:CmdStan args: ['/usr/local/lib/python3.10/dist-packages/prophet/stan_model/prophet_model.bin', 'random', 'seed=92545', 'data', 'file=/tmp/tmpnc3vi0u7/xtu51rqn.json', 'init=/tmp/tmpnc3vi0u7/s0hlxnq3.json', 'output', 'file=/tmp/tmpnc3vi0u7/prophet_modelt3m019dt/prophet_model-20231001050404.csv', 'method=optimize', 'algorithm=lbfgs', 'iter=10000']\n",
            "05:04:04 - cmdstanpy - INFO - Chain [1] start processing\n",
            "INFO:cmdstanpy:Chain [1] start processing\n",
            "05:04:04 - cmdstanpy - INFO - Chain [1] done processing\n",
            "INFO:cmdstanpy:Chain [1] done processing\n"
          ]
        },
        {
          "output_type": "stream",
          "name": "stdout",
          "text": [
            "+++++++++++++++++++++++++++++++++++++++++++++++++++++++++++++++++++++++++++++++++++++++ [('Prophet', 1159062.0857), ('ARIMA', 336579.9361), ('ETS', 178767.5371), ('XGBoost', 183245.9243)]\n",
            "+++++++++++++++++++++++++++++++++++++++++++++++++++++++++++++++++++++++++++++++++++++++ ETS 35 236 3\n"
          ]
        },
        {
          "output_type": "stream",
          "name": "stderr",
          "text": [
            "/usr/local/lib/python3.10/dist-packages/statsmodels/tsa/base/tsa_model.py:473: ValueWarning: No frequency information was provided, so inferred frequency D will be used.\n",
            "  self._init_dates(dates, freq)\n",
            "/usr/local/lib/python3.10/dist-packages/statsmodels/tsa/holtwinters/model.py:917: ConvergenceWarning: Optimization failed to converge. Check mle_retvals.\n",
            "  warnings.warn(\n",
            "<ipython-input-10-fd7e9e95ee04>:69: FutureWarning: The frame.append method is deprecated and will be removed from pandas in a future version. Use pandas.concat instead.\n",
            "  results_df = results_df.append(result_dict, ignore_index=True)\n",
            "INFO:prophet:Disabling yearly seasonality. Run prophet with yearly_seasonality=True to override this.\n",
            "INFO:prophet:Disabling daily seasonality. Run prophet with daily_seasonality=True to override this.\n",
            "DEBUG:cmdstanpy:input tempfile: /tmp/tmpnc3vi0u7/g6xh1ws1.json\n",
            "DEBUG:cmdstanpy:input tempfile: /tmp/tmpnc3vi0u7/o88teioc.json\n",
            "DEBUG:cmdstanpy:idx 0\n",
            "DEBUG:cmdstanpy:running CmdStan, num_threads: None\n",
            "DEBUG:cmdstanpy:CmdStan args: ['/usr/local/lib/python3.10/dist-packages/prophet/stan_model/prophet_model.bin', 'random', 'seed=45745', 'data', 'file=/tmp/tmpnc3vi0u7/g6xh1ws1.json', 'init=/tmp/tmpnc3vi0u7/o88teioc.json', 'output', 'file=/tmp/tmpnc3vi0u7/prophet_modelq2un1qdv/prophet_model-20231001050409.csv', 'method=optimize', 'algorithm=lbfgs', 'iter=10000']\n",
            "05:04:09 - cmdstanpy - INFO - Chain [1] start processing\n",
            "INFO:cmdstanpy:Chain [1] start processing\n",
            "05:04:09 - cmdstanpy - INFO - Chain [1] done processing\n",
            "INFO:cmdstanpy:Chain [1] done processing\n"
          ]
        },
        {
          "output_type": "stream",
          "name": "stdout",
          "text": [
            "+++++++++++++++++++++++++++++++++++++++++++++++++++++++++++++++++++++++++++++++++++++++ [('Prophet', 646883.9155), ('ARIMA', 138647.49), ('ETS', 41929.0634), ('XGBoost', 238067.6887)]\n",
            "+++++++++++++++++++++++++++++++++++++++++++++++++++++++++++++++++++++++++++++++++++++++ ETS 36 239 3\n"
          ]
        },
        {
          "output_type": "stream",
          "name": "stderr",
          "text": [
            "/usr/local/lib/python3.10/dist-packages/statsmodels/tsa/base/tsa_model.py:473: ValueWarning: No frequency information was provided, so inferred frequency D will be used.\n",
            "  self._init_dates(dates, freq)\n",
            "/usr/local/lib/python3.10/dist-packages/statsmodels/tsa/holtwinters/model.py:917: ConvergenceWarning: Optimization failed to converge. Check mle_retvals.\n",
            "  warnings.warn(\n",
            "<ipython-input-10-fd7e9e95ee04>:69: FutureWarning: The frame.append method is deprecated and will be removed from pandas in a future version. Use pandas.concat instead.\n",
            "  results_df = results_df.append(result_dict, ignore_index=True)\n",
            "INFO:prophet:Disabling yearly seasonality. Run prophet with yearly_seasonality=True to override this.\n",
            "INFO:prophet:Disabling daily seasonality. Run prophet with daily_seasonality=True to override this.\n",
            "DEBUG:cmdstanpy:input tempfile: /tmp/tmpnc3vi0u7/opmf9yjb.json\n",
            "DEBUG:cmdstanpy:input tempfile: /tmp/tmpnc3vi0u7/bfcfwpve.json\n",
            "DEBUG:cmdstanpy:idx 0\n",
            "DEBUG:cmdstanpy:running CmdStan, num_threads: None\n",
            "DEBUG:cmdstanpy:CmdStan args: ['/usr/local/lib/python3.10/dist-packages/prophet/stan_model/prophet_model.bin', 'random', 'seed=83463', 'data', 'file=/tmp/tmpnc3vi0u7/opmf9yjb.json', 'init=/tmp/tmpnc3vi0u7/bfcfwpve.json', 'output', 'file=/tmp/tmpnc3vi0u7/prophet_modelroarnx6e/prophet_model-20231001050416.csv', 'method=optimize', 'algorithm=lbfgs', 'iter=10000']\n",
            "05:04:16 - cmdstanpy - INFO - Chain [1] start processing\n",
            "INFO:cmdstanpy:Chain [1] start processing\n",
            "05:04:16 - cmdstanpy - INFO - Chain [1] done processing\n",
            "INFO:cmdstanpy:Chain [1] done processing\n"
          ]
        },
        {
          "output_type": "stream",
          "name": "stdout",
          "text": [
            "+++++++++++++++++++++++++++++++++++++++++++++++++++++++++++++++++++++++++++++++++++++++ [('Prophet', 450265.4244), ('ARIMA', 96136.6064), ('ETS', 126014.5264), ('XGBoost', 697337.6831)]\n",
            "+++++++++++++++++++++++++++++++++++++++++++++++++++++++++++++++++++++++++++++++++++++++ ARIMA 37 242 3\n"
          ]
        },
        {
          "output_type": "stream",
          "name": "stderr",
          "text": [
            "/usr/local/lib/python3.10/dist-packages/statsmodels/tsa/base/tsa_model.py:473: ValueWarning: No frequency information was provided, so inferred frequency D will be used.\n",
            "  self._init_dates(dates, freq)\n",
            "/usr/local/lib/python3.10/dist-packages/statsmodels/tsa/holtwinters/model.py:917: ConvergenceWarning: Optimization failed to converge. Check mle_retvals.\n",
            "  warnings.warn(\n",
            "<ipython-input-10-fd7e9e95ee04>:69: FutureWarning: The frame.append method is deprecated and will be removed from pandas in a future version. Use pandas.concat instead.\n",
            "  results_df = results_df.append(result_dict, ignore_index=True)\n",
            "INFO:prophet:Disabling yearly seasonality. Run prophet with yearly_seasonality=True to override this.\n",
            "INFO:prophet:Disabling daily seasonality. Run prophet with daily_seasonality=True to override this.\n",
            "DEBUG:cmdstanpy:input tempfile: /tmp/tmpnc3vi0u7/m61gdzxp.json\n",
            "DEBUG:cmdstanpy:input tempfile: /tmp/tmpnc3vi0u7/ad5_31ft.json\n",
            "DEBUG:cmdstanpy:idx 0\n",
            "DEBUG:cmdstanpy:running CmdStan, num_threads: None\n",
            "DEBUG:cmdstanpy:CmdStan args: ['/usr/local/lib/python3.10/dist-packages/prophet/stan_model/prophet_model.bin', 'random', 'seed=39348', 'data', 'file=/tmp/tmpnc3vi0u7/m61gdzxp.json', 'init=/tmp/tmpnc3vi0u7/ad5_31ft.json', 'output', 'file=/tmp/tmpnc3vi0u7/prophet_modelctk8d5mg/prophet_model-20231001050420.csv', 'method=optimize', 'algorithm=lbfgs', 'iter=10000']\n",
            "05:04:20 - cmdstanpy - INFO - Chain [1] start processing\n",
            "INFO:cmdstanpy:Chain [1] start processing\n",
            "05:04:20 - cmdstanpy - INFO - Chain [1] done processing\n",
            "INFO:cmdstanpy:Chain [1] done processing\n"
          ]
        },
        {
          "output_type": "stream",
          "name": "stdout",
          "text": [
            "+++++++++++++++++++++++++++++++++++++++++++++++++++++++++++++++++++++++++++++++++++++++ [('Prophet', 213157.6887), ('ARIMA', 68796.3796), ('ETS', 50468.3055), ('XGBoost', 43432.7466)]\n",
            "+++++++++++++++++++++++++++++++++++++++++++++++++++++++++++++++++++++++++++++++++++++++ XGBoost 38 245 3\n"
          ]
        },
        {
          "output_type": "stream",
          "name": "stderr",
          "text": [
            "/usr/local/lib/python3.10/dist-packages/statsmodels/tsa/base/tsa_model.py:473: ValueWarning: No frequency information was provided, so inferred frequency D will be used.\n",
            "  self._init_dates(dates, freq)\n",
            "/usr/local/lib/python3.10/dist-packages/statsmodels/tsa/holtwinters/model.py:917: ConvergenceWarning: Optimization failed to converge. Check mle_retvals.\n",
            "  warnings.warn(\n",
            "<ipython-input-10-fd7e9e95ee04>:69: FutureWarning: The frame.append method is deprecated and will be removed from pandas in a future version. Use pandas.concat instead.\n",
            "  results_df = results_df.append(result_dict, ignore_index=True)\n",
            "INFO:prophet:Disabling yearly seasonality. Run prophet with yearly_seasonality=True to override this.\n",
            "INFO:prophet:Disabling daily seasonality. Run prophet with daily_seasonality=True to override this.\n",
            "DEBUG:cmdstanpy:input tempfile: /tmp/tmpnc3vi0u7/hygb81zd.json\n",
            "DEBUG:cmdstanpy:input tempfile: /tmp/tmpnc3vi0u7/rpss2ycg.json\n",
            "DEBUG:cmdstanpy:idx 0\n",
            "DEBUG:cmdstanpy:running CmdStan, num_threads: None\n",
            "DEBUG:cmdstanpy:CmdStan args: ['/usr/local/lib/python3.10/dist-packages/prophet/stan_model/prophet_model.bin', 'random', 'seed=74809', 'data', 'file=/tmp/tmpnc3vi0u7/hygb81zd.json', 'init=/tmp/tmpnc3vi0u7/rpss2ycg.json', 'output', 'file=/tmp/tmpnc3vi0u7/prophet_modeluvqikboo/prophet_model-20231001050427.csv', 'method=optimize', 'algorithm=lbfgs', 'iter=10000']\n",
            "05:04:27 - cmdstanpy - INFO - Chain [1] start processing\n",
            "INFO:cmdstanpy:Chain [1] start processing\n",
            "05:04:27 - cmdstanpy - INFO - Chain [1] done processing\n",
            "INFO:cmdstanpy:Chain [1] done processing\n"
          ]
        },
        {
          "output_type": "stream",
          "name": "stdout",
          "text": [
            "+++++++++++++++++++++++++++++++++++++++++++++++++++++++++++++++++++++++++++++++++++++++ [('Prophet', 401399.7207), ('ARIMA', 67320.1205), ('ETS', 81044.0016), ('XGBoost', 17873.9995)]\n",
            "+++++++++++++++++++++++++++++++++++++++++++++++++++++++++++++++++++++++++++++++++++++++ XGBoost 39 248 3\n"
          ]
        },
        {
          "output_type": "stream",
          "name": "stderr",
          "text": [
            "/usr/local/lib/python3.10/dist-packages/statsmodels/tsa/base/tsa_model.py:473: ValueWarning: No frequency information was provided, so inferred frequency D will be used.\n",
            "  self._init_dates(dates, freq)\n",
            "/usr/local/lib/python3.10/dist-packages/statsmodels/tsa/holtwinters/model.py:917: ConvergenceWarning: Optimization failed to converge. Check mle_retvals.\n",
            "  warnings.warn(\n",
            "<ipython-input-10-fd7e9e95ee04>:69: FutureWarning: The frame.append method is deprecated and will be removed from pandas in a future version. Use pandas.concat instead.\n",
            "  results_df = results_df.append(result_dict, ignore_index=True)\n",
            "INFO:prophet:Disabling yearly seasonality. Run prophet with yearly_seasonality=True to override this.\n",
            "INFO:prophet:Disabling daily seasonality. Run prophet with daily_seasonality=True to override this.\n",
            "DEBUG:cmdstanpy:input tempfile: /tmp/tmpnc3vi0u7/e2zyl17k.json\n",
            "DEBUG:cmdstanpy:input tempfile: /tmp/tmpnc3vi0u7/6q93ceqy.json\n",
            "DEBUG:cmdstanpy:idx 0\n",
            "DEBUG:cmdstanpy:running CmdStan, num_threads: None\n",
            "DEBUG:cmdstanpy:CmdStan args: ['/usr/local/lib/python3.10/dist-packages/prophet/stan_model/prophet_model.bin', 'random', 'seed=10294', 'data', 'file=/tmp/tmpnc3vi0u7/e2zyl17k.json', 'init=/tmp/tmpnc3vi0u7/6q93ceqy.json', 'output', 'file=/tmp/tmpnc3vi0u7/prophet_model6y2m6pee/prophet_model-20231001050432.csv', 'method=optimize', 'algorithm=lbfgs', 'iter=10000']\n",
            "05:04:32 - cmdstanpy - INFO - Chain [1] start processing\n",
            "INFO:cmdstanpy:Chain [1] start processing\n",
            "05:04:32 - cmdstanpy - INFO - Chain [1] done processing\n",
            "INFO:cmdstanpy:Chain [1] done processing\n"
          ]
        },
        {
          "output_type": "stream",
          "name": "stdout",
          "text": [
            "+++++++++++++++++++++++++++++++++++++++++++++++++++++++++++++++++++++++++++++++++++++++ [('Prophet', 89569.0939), ('ARIMA', 23533.9888), ('ETS', 44755.7371), ('XGBoost', 791.6766)]\n",
            "+++++++++++++++++++++++++++++++++++++++++++++++++++++++++++++++++++++++++++++++++++++++ XGBoost 40 251 3\n"
          ]
        },
        {
          "output_type": "stream",
          "name": "stderr",
          "text": [
            "/usr/local/lib/python3.10/dist-packages/statsmodels/tsa/base/tsa_model.py:473: ValueWarning: No frequency information was provided, so inferred frequency D will be used.\n",
            "  self._init_dates(dates, freq)\n",
            "/usr/local/lib/python3.10/dist-packages/statsmodels/tsa/holtwinters/model.py:917: ConvergenceWarning: Optimization failed to converge. Check mle_retvals.\n",
            "  warnings.warn(\n",
            "<ipython-input-10-fd7e9e95ee04>:69: FutureWarning: The frame.append method is deprecated and will be removed from pandas in a future version. Use pandas.concat instead.\n",
            "  results_df = results_df.append(result_dict, ignore_index=True)\n",
            "INFO:prophet:Disabling yearly seasonality. Run prophet with yearly_seasonality=True to override this.\n",
            "INFO:prophet:Disabling daily seasonality. Run prophet with daily_seasonality=True to override this.\n",
            "DEBUG:cmdstanpy:input tempfile: /tmp/tmpnc3vi0u7/mj5wbsbp.json\n",
            "DEBUG:cmdstanpy:input tempfile: /tmp/tmpnc3vi0u7/0lsh4208.json\n",
            "DEBUG:cmdstanpy:idx 0\n",
            "DEBUG:cmdstanpy:running CmdStan, num_threads: None\n",
            "DEBUG:cmdstanpy:CmdStan args: ['/usr/local/lib/python3.10/dist-packages/prophet/stan_model/prophet_model.bin', 'random', 'seed=12854', 'data', 'file=/tmp/tmpnc3vi0u7/mj5wbsbp.json', 'init=/tmp/tmpnc3vi0u7/0lsh4208.json', 'output', 'file=/tmp/tmpnc3vi0u7/prophet_model26u6axip/prophet_model-20231001050436.csv', 'method=optimize', 'algorithm=lbfgs', 'iter=10000']\n",
            "05:04:36 - cmdstanpy - INFO - Chain [1] start processing\n",
            "INFO:cmdstanpy:Chain [1] start processing\n",
            "05:04:36 - cmdstanpy - INFO - Chain [1] done processing\n",
            "INFO:cmdstanpy:Chain [1] done processing\n"
          ]
        },
        {
          "output_type": "stream",
          "name": "stdout",
          "text": [
            "+++++++++++++++++++++++++++++++++++++++++++++++++++++++++++++++++++++++++++++++++++++++ [('Prophet', 10283.859), ('ARIMA', 22658.0076), ('ETS', 56801.4099), ('XGBoost', 10702.2642)]\n",
            "+++++++++++++++++++++++++++++++++++++++++++++++++++++++++++++++++++++++++++++++++++++++ Prophet 41 254 3\n"
          ]
        },
        {
          "output_type": "stream",
          "name": "stderr",
          "text": [
            "/usr/local/lib/python3.10/dist-packages/statsmodels/tsa/base/tsa_model.py:473: ValueWarning: No frequency information was provided, so inferred frequency D will be used.\n",
            "  self._init_dates(dates, freq)\n",
            "/usr/local/lib/python3.10/dist-packages/statsmodels/tsa/holtwinters/model.py:917: ConvergenceWarning: Optimization failed to converge. Check mle_retvals.\n",
            "  warnings.warn(\n",
            "<ipython-input-10-fd7e9e95ee04>:69: FutureWarning: The frame.append method is deprecated and will be removed from pandas in a future version. Use pandas.concat instead.\n",
            "  results_df = results_df.append(result_dict, ignore_index=True)\n",
            "INFO:prophet:Disabling yearly seasonality. Run prophet with yearly_seasonality=True to override this.\n",
            "INFO:prophet:Disabling daily seasonality. Run prophet with daily_seasonality=True to override this.\n",
            "DEBUG:cmdstanpy:input tempfile: /tmp/tmpnc3vi0u7/ey7j4c9x.json\n",
            "DEBUG:cmdstanpy:input tempfile: /tmp/tmpnc3vi0u7/r_kpswbg.json\n",
            "DEBUG:cmdstanpy:idx 0\n",
            "DEBUG:cmdstanpy:running CmdStan, num_threads: None\n",
            "DEBUG:cmdstanpy:CmdStan args: ['/usr/local/lib/python3.10/dist-packages/prophet/stan_model/prophet_model.bin', 'random', 'seed=97410', 'data', 'file=/tmp/tmpnc3vi0u7/ey7j4c9x.json', 'init=/tmp/tmpnc3vi0u7/r_kpswbg.json', 'output', 'file=/tmp/tmpnc3vi0u7/prophet_modelzhhnaqi9/prophet_model-20231001050443.csv', 'method=optimize', 'algorithm=lbfgs', 'iter=10000']\n",
            "05:04:43 - cmdstanpy - INFO - Chain [1] start processing\n",
            "INFO:cmdstanpy:Chain [1] start processing\n",
            "05:04:43 - cmdstanpy - INFO - Chain [1] done processing\n",
            "INFO:cmdstanpy:Chain [1] done processing\n"
          ]
        },
        {
          "output_type": "stream",
          "name": "stdout",
          "text": [
            "+++++++++++++++++++++++++++++++++++++++++++++++++++++++++++++++++++++++++++++++++++++++ [('Prophet', 305.8166), ('ARIMA', 81.8773), ('ETS', 221.1454), ('XGBoost', 75.9268)]\n",
            "+++++++++++++++++++++++++++++++++++++++++++++++++++++++++++++++++++++++++++++++++++++++ XGBoost 42 257 3\n"
          ]
        },
        {
          "output_type": "stream",
          "name": "stderr",
          "text": [
            "/usr/local/lib/python3.10/dist-packages/statsmodels/tsa/base/tsa_model.py:473: ValueWarning: No frequency information was provided, so inferred frequency D will be used.\n",
            "  self._init_dates(dates, freq)\n",
            "/usr/local/lib/python3.10/dist-packages/statsmodels/tsa/holtwinters/model.py:917: ConvergenceWarning: Optimization failed to converge. Check mle_retvals.\n",
            "  warnings.warn(\n",
            "<ipython-input-10-fd7e9e95ee04>:69: FutureWarning: The frame.append method is deprecated and will be removed from pandas in a future version. Use pandas.concat instead.\n",
            "  results_df = results_df.append(result_dict, ignore_index=True)\n",
            "INFO:prophet:Disabling yearly seasonality. Run prophet with yearly_seasonality=True to override this.\n",
            "INFO:prophet:Disabling daily seasonality. Run prophet with daily_seasonality=True to override this.\n",
            "DEBUG:cmdstanpy:input tempfile: /tmp/tmpnc3vi0u7/d0bqmn75.json\n",
            "DEBUG:cmdstanpy:input tempfile: /tmp/tmpnc3vi0u7/6_6niot6.json\n",
            "DEBUG:cmdstanpy:idx 0\n",
            "DEBUG:cmdstanpy:running CmdStan, num_threads: None\n",
            "DEBUG:cmdstanpy:CmdStan args: ['/usr/local/lib/python3.10/dist-packages/prophet/stan_model/prophet_model.bin', 'random', 'seed=27885', 'data', 'file=/tmp/tmpnc3vi0u7/d0bqmn75.json', 'init=/tmp/tmpnc3vi0u7/6_6niot6.json', 'output', 'file=/tmp/tmpnc3vi0u7/prophet_modely24bd_ld/prophet_model-20231001050447.csv', 'method=optimize', 'algorithm=lbfgs', 'iter=10000']\n",
            "05:04:47 - cmdstanpy - INFO - Chain [1] start processing\n",
            "INFO:cmdstanpy:Chain [1] start processing\n",
            "05:04:47 - cmdstanpy - INFO - Chain [1] done processing\n",
            "INFO:cmdstanpy:Chain [1] done processing\n"
          ]
        },
        {
          "output_type": "stream",
          "name": "stdout",
          "text": [
            "+++++++++++++++++++++++++++++++++++++++++++++++++++++++++++++++++++++++++++++++++++++++ [('Prophet', 202.1447), ('ARIMA', 88.4887), ('ETS', 89.3287), ('XGBoost', 47.4873)]\n",
            "+++++++++++++++++++++++++++++++++++++++++++++++++++++++++++++++++++++++++++++++++++++++ XGBoost 43 260 3\n"
          ]
        },
        {
          "output_type": "stream",
          "name": "stderr",
          "text": [
            "/usr/local/lib/python3.10/dist-packages/statsmodels/tsa/base/tsa_model.py:473: ValueWarning: No frequency information was provided, so inferred frequency D will be used.\n",
            "  self._init_dates(dates, freq)\n",
            "/usr/local/lib/python3.10/dist-packages/statsmodels/tsa/holtwinters/model.py:917: ConvergenceWarning: Optimization failed to converge. Check mle_retvals.\n",
            "  warnings.warn(\n",
            "<ipython-input-10-fd7e9e95ee04>:69: FutureWarning: The frame.append method is deprecated and will be removed from pandas in a future version. Use pandas.concat instead.\n",
            "  results_df = results_df.append(result_dict, ignore_index=True)\n",
            "INFO:prophet:Disabling yearly seasonality. Run prophet with yearly_seasonality=True to override this.\n",
            "INFO:prophet:Disabling daily seasonality. Run prophet with daily_seasonality=True to override this.\n",
            "DEBUG:cmdstanpy:input tempfile: /tmp/tmpnc3vi0u7/9p8us2i4.json\n",
            "DEBUG:cmdstanpy:input tempfile: /tmp/tmpnc3vi0u7/9or3p5cb.json\n",
            "DEBUG:cmdstanpy:idx 0\n",
            "DEBUG:cmdstanpy:running CmdStan, num_threads: None\n",
            "DEBUG:cmdstanpy:CmdStan args: ['/usr/local/lib/python3.10/dist-packages/prophet/stan_model/prophet_model.bin', 'random', 'seed=94436', 'data', 'file=/tmp/tmpnc3vi0u7/9p8us2i4.json', 'init=/tmp/tmpnc3vi0u7/9or3p5cb.json', 'output', 'file=/tmp/tmpnc3vi0u7/prophet_model5mfqj28g/prophet_model-20231001050455.csv', 'method=optimize', 'algorithm=lbfgs', 'iter=10000']\n",
            "05:04:55 - cmdstanpy - INFO - Chain [1] start processing\n",
            "INFO:cmdstanpy:Chain [1] start processing\n",
            "05:04:55 - cmdstanpy - INFO - Chain [1] done processing\n",
            "INFO:cmdstanpy:Chain [1] done processing\n"
          ]
        },
        {
          "output_type": "stream",
          "name": "stdout",
          "text": [
            "+++++++++++++++++++++++++++++++++++++++++++++++++++++++++++++++++++++++++++++++++++++++ [('Prophet', 231.3196), ('ARIMA', 289.5545), ('ETS', 131.9984), ('XGBoost', 119.06)]\n",
            "+++++++++++++++++++++++++++++++++++++++++++++++++++++++++++++++++++++++++++++++++++++++ XGBoost 44 263 3\n"
          ]
        },
        {
          "output_type": "stream",
          "name": "stderr",
          "text": [
            "/usr/local/lib/python3.10/dist-packages/statsmodels/tsa/base/tsa_model.py:473: ValueWarning: No frequency information was provided, so inferred frequency D will be used.\n",
            "  self._init_dates(dates, freq)\n",
            "/usr/local/lib/python3.10/dist-packages/statsmodels/tsa/holtwinters/model.py:917: ConvergenceWarning: Optimization failed to converge. Check mle_retvals.\n",
            "  warnings.warn(\n",
            "<ipython-input-10-fd7e9e95ee04>:69: FutureWarning: The frame.append method is deprecated and will be removed from pandas in a future version. Use pandas.concat instead.\n",
            "  results_df = results_df.append(result_dict, ignore_index=True)\n",
            "INFO:prophet:Disabling yearly seasonality. Run prophet with yearly_seasonality=True to override this.\n",
            "INFO:prophet:Disabling daily seasonality. Run prophet with daily_seasonality=True to override this.\n",
            "DEBUG:cmdstanpy:input tempfile: /tmp/tmpnc3vi0u7/biy6c0p9.json\n",
            "DEBUG:cmdstanpy:input tempfile: /tmp/tmpnc3vi0u7/rttqcccj.json\n",
            "DEBUG:cmdstanpy:idx 0\n",
            "DEBUG:cmdstanpy:running CmdStan, num_threads: None\n",
            "DEBUG:cmdstanpy:CmdStan args: ['/usr/local/lib/python3.10/dist-packages/prophet/stan_model/prophet_model.bin', 'random', 'seed=3512', 'data', 'file=/tmp/tmpnc3vi0u7/biy6c0p9.json', 'init=/tmp/tmpnc3vi0u7/rttqcccj.json', 'output', 'file=/tmp/tmpnc3vi0u7/prophet_modelh_xt8rgx/prophet_model-20231001050502.csv', 'method=optimize', 'algorithm=lbfgs', 'iter=10000']\n",
            "05:05:02 - cmdstanpy - INFO - Chain [1] start processing\n",
            "INFO:cmdstanpy:Chain [1] start processing\n",
            "05:05:02 - cmdstanpy - INFO - Chain [1] done processing\n",
            "INFO:cmdstanpy:Chain [1] done processing\n"
          ]
        },
        {
          "output_type": "stream",
          "name": "stdout",
          "text": [
            "+++++++++++++++++++++++++++++++++++++++++++++++++++++++++++++++++++++++++++++++++++++++ [('Prophet', 211.0136), ('ARIMA', 52.9992), ('ETS', 87.7459), ('XGBoost', 62.8088)]\n",
            "+++++++++++++++++++++++++++++++++++++++++++++++++++++++++++++++++++++++++++++++++++++++ ARIMA 45 266 3\n"
          ]
        },
        {
          "output_type": "stream",
          "name": "stderr",
          "text": [
            "/usr/local/lib/python3.10/dist-packages/statsmodels/tsa/base/tsa_model.py:473: ValueWarning: No frequency information was provided, so inferred frequency D will be used.\n",
            "  self._init_dates(dates, freq)\n",
            "/usr/local/lib/python3.10/dist-packages/statsmodels/tsa/holtwinters/model.py:917: ConvergenceWarning: Optimization failed to converge. Check mle_retvals.\n",
            "  warnings.warn(\n",
            "<ipython-input-10-fd7e9e95ee04>:69: FutureWarning: The frame.append method is deprecated and will be removed from pandas in a future version. Use pandas.concat instead.\n",
            "  results_df = results_df.append(result_dict, ignore_index=True)\n",
            "INFO:prophet:Disabling yearly seasonality. Run prophet with yearly_seasonality=True to override this.\n",
            "INFO:prophet:Disabling daily seasonality. Run prophet with daily_seasonality=True to override this.\n",
            "DEBUG:cmdstanpy:input tempfile: /tmp/tmpnc3vi0u7/k31i6atx.json\n",
            "DEBUG:cmdstanpy:input tempfile: /tmp/tmpnc3vi0u7/yph3msdq.json\n",
            "DEBUG:cmdstanpy:idx 0\n",
            "DEBUG:cmdstanpy:running CmdStan, num_threads: None\n",
            "DEBUG:cmdstanpy:CmdStan args: ['/usr/local/lib/python3.10/dist-packages/prophet/stan_model/prophet_model.bin', 'random', 'seed=80126', 'data', 'file=/tmp/tmpnc3vi0u7/k31i6atx.json', 'init=/tmp/tmpnc3vi0u7/yph3msdq.json', 'output', 'file=/tmp/tmpnc3vi0u7/prophet_modelrb8kmsic/prophet_model-20231001050509.csv', 'method=optimize', 'algorithm=lbfgs', 'iter=10000']\n",
            "05:05:09 - cmdstanpy - INFO - Chain [1] start processing\n",
            "INFO:cmdstanpy:Chain [1] start processing\n",
            "05:05:09 - cmdstanpy - INFO - Chain [1] done processing\n",
            "INFO:cmdstanpy:Chain [1] done processing\n"
          ]
        },
        {
          "output_type": "stream",
          "name": "stdout",
          "text": [
            "+++++++++++++++++++++++++++++++++++++++++++++++++++++++++++++++++++++++++++++++++++++++ [('Prophet', 147.0942), ('ARIMA', 57.8921), ('ETS', 36.5714), ('XGBoost', 91.7965)]\n",
            "+++++++++++++++++++++++++++++++++++++++++++++++++++++++++++++++++++++++++++++++++++++++ ETS 46 269 3\n"
          ]
        },
        {
          "output_type": "stream",
          "name": "stderr",
          "text": [
            "/usr/local/lib/python3.10/dist-packages/statsmodels/tsa/base/tsa_model.py:473: ValueWarning: No frequency information was provided, so inferred frequency D will be used.\n",
            "  self._init_dates(dates, freq)\n",
            "/usr/local/lib/python3.10/dist-packages/statsmodels/tsa/holtwinters/model.py:917: ConvergenceWarning: Optimization failed to converge. Check mle_retvals.\n",
            "  warnings.warn(\n",
            "<ipython-input-10-fd7e9e95ee04>:69: FutureWarning: The frame.append method is deprecated and will be removed from pandas in a future version. Use pandas.concat instead.\n",
            "  results_df = results_df.append(result_dict, ignore_index=True)\n",
            "INFO:prophet:Disabling yearly seasonality. Run prophet with yearly_seasonality=True to override this.\n",
            "INFO:prophet:Disabling daily seasonality. Run prophet with daily_seasonality=True to override this.\n",
            "DEBUG:cmdstanpy:input tempfile: /tmp/tmpnc3vi0u7/9pb2u1bh.json\n",
            "DEBUG:cmdstanpy:input tempfile: /tmp/tmpnc3vi0u7/5bs8lbqd.json\n",
            "DEBUG:cmdstanpy:idx 0\n",
            "DEBUG:cmdstanpy:running CmdStan, num_threads: None\n",
            "DEBUG:cmdstanpy:CmdStan args: ['/usr/local/lib/python3.10/dist-packages/prophet/stan_model/prophet_model.bin', 'random', 'seed=41741', 'data', 'file=/tmp/tmpnc3vi0u7/9pb2u1bh.json', 'init=/tmp/tmpnc3vi0u7/5bs8lbqd.json', 'output', 'file=/tmp/tmpnc3vi0u7/prophet_modely0uj_zz2/prophet_model-20231001050517.csv', 'method=optimize', 'algorithm=lbfgs', 'iter=10000']\n",
            "05:05:17 - cmdstanpy - INFO - Chain [1] start processing\n",
            "INFO:cmdstanpy:Chain [1] start processing\n",
            "05:05:17 - cmdstanpy - INFO - Chain [1] done processing\n",
            "INFO:cmdstanpy:Chain [1] done processing\n"
          ]
        },
        {
          "output_type": "stream",
          "name": "stdout",
          "text": [
            "+++++++++++++++++++++++++++++++++++++++++++++++++++++++++++++++++++++++++++++++++++++++ [('Prophet', 229.8859), ('ARIMA', 131.1525), ('ETS', 96.7117), ('XGBoost', 126.8769)]\n",
            "+++++++++++++++++++++++++++++++++++++++++++++++++++++++++++++++++++++++++++++++++++++++ ETS 47 272 3\n"
          ]
        },
        {
          "output_type": "stream",
          "name": "stderr",
          "text": [
            "/usr/local/lib/python3.10/dist-packages/statsmodels/tsa/base/tsa_model.py:473: ValueWarning: No frequency information was provided, so inferred frequency D will be used.\n",
            "  self._init_dates(dates, freq)\n",
            "/usr/local/lib/python3.10/dist-packages/statsmodels/tsa/holtwinters/model.py:917: ConvergenceWarning: Optimization failed to converge. Check mle_retvals.\n",
            "  warnings.warn(\n",
            "<ipython-input-10-fd7e9e95ee04>:69: FutureWarning: The frame.append method is deprecated and will be removed from pandas in a future version. Use pandas.concat instead.\n",
            "  results_df = results_df.append(result_dict, ignore_index=True)\n",
            "INFO:prophet:Disabling yearly seasonality. Run prophet with yearly_seasonality=True to override this.\n",
            "INFO:prophet:Disabling daily seasonality. Run prophet with daily_seasonality=True to override this.\n",
            "DEBUG:cmdstanpy:input tempfile: /tmp/tmpnc3vi0u7/6z9su4dr.json\n",
            "DEBUG:cmdstanpy:input tempfile: /tmp/tmpnc3vi0u7/f0ha31iv.json\n",
            "DEBUG:cmdstanpy:idx 0\n",
            "DEBUG:cmdstanpy:running CmdStan, num_threads: None\n",
            "DEBUG:cmdstanpy:CmdStan args: ['/usr/local/lib/python3.10/dist-packages/prophet/stan_model/prophet_model.bin', 'random', 'seed=28877', 'data', 'file=/tmp/tmpnc3vi0u7/6z9su4dr.json', 'init=/tmp/tmpnc3vi0u7/f0ha31iv.json', 'output', 'file=/tmp/tmpnc3vi0u7/prophet_modelvlm6y1t9/prophet_model-20231001050524.csv', 'method=optimize', 'algorithm=lbfgs', 'iter=10000']\n",
            "05:05:24 - cmdstanpy - INFO - Chain [1] start processing\n",
            "INFO:cmdstanpy:Chain [1] start processing\n",
            "05:05:24 - cmdstanpy - INFO - Chain [1] done processing\n",
            "INFO:cmdstanpy:Chain [1] done processing\n"
          ]
        },
        {
          "output_type": "stream",
          "name": "stdout",
          "text": [
            "+++++++++++++++++++++++++++++++++++++++++++++++++++++++++++++++++++++++++++++++++++++++ [('Prophet', 220.0691), ('ARIMA', 34.0137), ('ETS', 32.081), ('XGBoost', 18.156)]\n",
            "+++++++++++++++++++++++++++++++++++++++++++++++++++++++++++++++++++++++++++++++++++++++ XGBoost 48 275 3\n"
          ]
        },
        {
          "output_type": "stream",
          "name": "stderr",
          "text": [
            "/usr/local/lib/python3.10/dist-packages/statsmodels/tsa/base/tsa_model.py:473: ValueWarning: No frequency information was provided, so inferred frequency D will be used.\n",
            "  self._init_dates(dates, freq)\n",
            "/usr/local/lib/python3.10/dist-packages/statsmodels/tsa/holtwinters/model.py:917: ConvergenceWarning: Optimization failed to converge. Check mle_retvals.\n",
            "  warnings.warn(\n",
            "<ipython-input-10-fd7e9e95ee04>:69: FutureWarning: The frame.append method is deprecated and will be removed from pandas in a future version. Use pandas.concat instead.\n",
            "  results_df = results_df.append(result_dict, ignore_index=True)\n",
            "INFO:prophet:Disabling yearly seasonality. Run prophet with yearly_seasonality=True to override this.\n",
            "INFO:prophet:Disabling daily seasonality. Run prophet with daily_seasonality=True to override this.\n",
            "DEBUG:cmdstanpy:input tempfile: /tmp/tmpnc3vi0u7/bh5n92xb.json\n",
            "DEBUG:cmdstanpy:input tempfile: /tmp/tmpnc3vi0u7/46qjtg3x.json\n",
            "DEBUG:cmdstanpy:idx 0\n",
            "DEBUG:cmdstanpy:running CmdStan, num_threads: None\n",
            "DEBUG:cmdstanpy:CmdStan args: ['/usr/local/lib/python3.10/dist-packages/prophet/stan_model/prophet_model.bin', 'random', 'seed=93255', 'data', 'file=/tmp/tmpnc3vi0u7/bh5n92xb.json', 'init=/tmp/tmpnc3vi0u7/46qjtg3x.json', 'output', 'file=/tmp/tmpnc3vi0u7/prophet_modelnxf2ybeh/prophet_model-20231001050535.csv', 'method=optimize', 'algorithm=lbfgs', 'iter=10000']\n",
            "05:05:35 - cmdstanpy - INFO - Chain [1] start processing\n",
            "INFO:cmdstanpy:Chain [1] start processing\n",
            "05:05:35 - cmdstanpy - INFO - Chain [1] done processing\n",
            "INFO:cmdstanpy:Chain [1] done processing\n"
          ]
        },
        {
          "output_type": "stream",
          "name": "stdout",
          "text": [
            "+++++++++++++++++++++++++++++++++++++++++++++++++++++++++++++++++++++++++++++++++++++++ [('Prophet', 217.3156), ('ARIMA', 261.3502), ('ETS', 145.4782), ('XGBoost', 221.025)]\n",
            "+++++++++++++++++++++++++++++++++++++++++++++++++++++++++++++++++++++++++++++++++++++++ ETS 49 278 3\n"
          ]
        },
        {
          "output_type": "stream",
          "name": "stderr",
          "text": [
            "/usr/local/lib/python3.10/dist-packages/statsmodels/tsa/base/tsa_model.py:473: ValueWarning: No frequency information was provided, so inferred frequency D will be used.\n",
            "  self._init_dates(dates, freq)\n",
            "/usr/local/lib/python3.10/dist-packages/statsmodels/tsa/holtwinters/model.py:917: ConvergenceWarning: Optimization failed to converge. Check mle_retvals.\n",
            "  warnings.warn(\n",
            "<ipython-input-10-fd7e9e95ee04>:69: FutureWarning: The frame.append method is deprecated and will be removed from pandas in a future version. Use pandas.concat instead.\n",
            "  results_df = results_df.append(result_dict, ignore_index=True)\n",
            "INFO:prophet:Disabling yearly seasonality. Run prophet with yearly_seasonality=True to override this.\n",
            "INFO:prophet:Disabling daily seasonality. Run prophet with daily_seasonality=True to override this.\n",
            "DEBUG:cmdstanpy:input tempfile: /tmp/tmpnc3vi0u7/aaiar8_i.json\n",
            "DEBUG:cmdstanpy:input tempfile: /tmp/tmpnc3vi0u7/w3_oxsiy.json\n",
            "DEBUG:cmdstanpy:idx 0\n",
            "DEBUG:cmdstanpy:running CmdStan, num_threads: None\n",
            "DEBUG:cmdstanpy:CmdStan args: ['/usr/local/lib/python3.10/dist-packages/prophet/stan_model/prophet_model.bin', 'random', 'seed=83114', 'data', 'file=/tmp/tmpnc3vi0u7/aaiar8_i.json', 'init=/tmp/tmpnc3vi0u7/w3_oxsiy.json', 'output', 'file=/tmp/tmpnc3vi0u7/prophet_modeltrz8jxb3/prophet_model-20231001050544.csv', 'method=optimize', 'algorithm=lbfgs', 'iter=10000']\n",
            "05:05:44 - cmdstanpy - INFO - Chain [1] start processing\n",
            "INFO:cmdstanpy:Chain [1] start processing\n",
            "05:05:44 - cmdstanpy - INFO - Chain [1] done processing\n",
            "INFO:cmdstanpy:Chain [1] done processing\n"
          ]
        },
        {
          "output_type": "stream",
          "name": "stdout",
          "text": [
            "+++++++++++++++++++++++++++++++++++++++++++++++++++++++++++++++++++++++++++++++++++++++ [('Prophet', 219.7017), ('ARIMA', 31.1969), ('ETS', 63.9216), ('XGBoost', 29.6914)]\n",
            "+++++++++++++++++++++++++++++++++++++++++++++++++++++++++++++++++++++++++++++++++++++++ XGBoost 50 281 3\n"
          ]
        },
        {
          "output_type": "stream",
          "name": "stderr",
          "text": [
            "/usr/local/lib/python3.10/dist-packages/statsmodels/tsa/base/tsa_model.py:473: ValueWarning: No frequency information was provided, so inferred frequency D will be used.\n",
            "  self._init_dates(dates, freq)\n",
            "/usr/local/lib/python3.10/dist-packages/statsmodels/tsa/holtwinters/model.py:917: ConvergenceWarning: Optimization failed to converge. Check mle_retvals.\n",
            "  warnings.warn(\n",
            "<ipython-input-10-fd7e9e95ee04>:69: FutureWarning: The frame.append method is deprecated and will be removed from pandas in a future version. Use pandas.concat instead.\n",
            "  results_df = results_df.append(result_dict, ignore_index=True)\n",
            "INFO:prophet:Disabling yearly seasonality. Run prophet with yearly_seasonality=True to override this.\n",
            "INFO:prophet:Disabling daily seasonality. Run prophet with daily_seasonality=True to override this.\n",
            "DEBUG:cmdstanpy:input tempfile: /tmp/tmpnc3vi0u7/ywm5p1tc.json\n",
            "DEBUG:cmdstanpy:input tempfile: /tmp/tmpnc3vi0u7/koddrfms.json\n",
            "DEBUG:cmdstanpy:idx 0\n",
            "DEBUG:cmdstanpy:running CmdStan, num_threads: None\n",
            "DEBUG:cmdstanpy:CmdStan args: ['/usr/local/lib/python3.10/dist-packages/prophet/stan_model/prophet_model.bin', 'random', 'seed=45230', 'data', 'file=/tmp/tmpnc3vi0u7/ywm5p1tc.json', 'init=/tmp/tmpnc3vi0u7/koddrfms.json', 'output', 'file=/tmp/tmpnc3vi0u7/prophet_modelqw6_2ep0/prophet_model-20231001050550.csv', 'method=optimize', 'algorithm=lbfgs', 'iter=10000']\n",
            "05:05:50 - cmdstanpy - INFO - Chain [1] start processing\n",
            "INFO:cmdstanpy:Chain [1] start processing\n",
            "05:05:50 - cmdstanpy - INFO - Chain [1] done processing\n",
            "INFO:cmdstanpy:Chain [1] done processing\n"
          ]
        },
        {
          "output_type": "stream",
          "name": "stdout",
          "text": [
            "+++++++++++++++++++++++++++++++++++++++++++++++++++++++++++++++++++++++++++++++++++++++ [('Prophet', 129.3846), ('ARIMA', 141.0355), ('ETS', 132.8614), ('XGBoost', 182.8071)]\n",
            "+++++++++++++++++++++++++++++++++++++++++++++++++++++++++++++++++++++++++++++++++++++++ Prophet 51 284 3\n"
          ]
        },
        {
          "output_type": "stream",
          "name": "stderr",
          "text": [
            "/usr/local/lib/python3.10/dist-packages/statsmodels/tsa/base/tsa_model.py:473: ValueWarning: No frequency information was provided, so inferred frequency D will be used.\n",
            "  self._init_dates(dates, freq)\n",
            "/usr/local/lib/python3.10/dist-packages/statsmodels/tsa/holtwinters/model.py:917: ConvergenceWarning: Optimization failed to converge. Check mle_retvals.\n",
            "  warnings.warn(\n",
            "<ipython-input-10-fd7e9e95ee04>:69: FutureWarning: The frame.append method is deprecated and will be removed from pandas in a future version. Use pandas.concat instead.\n",
            "  results_df = results_df.append(result_dict, ignore_index=True)\n",
            "INFO:prophet:Disabling yearly seasonality. Run prophet with yearly_seasonality=True to override this.\n",
            "INFO:prophet:Disabling daily seasonality. Run prophet with daily_seasonality=True to override this.\n",
            "DEBUG:cmdstanpy:input tempfile: /tmp/tmpnc3vi0u7/s7_1hc4c.json\n",
            "DEBUG:cmdstanpy:input tempfile: /tmp/tmpnc3vi0u7/hizfj_yg.json\n",
            "DEBUG:cmdstanpy:idx 0\n",
            "DEBUG:cmdstanpy:running CmdStan, num_threads: None\n",
            "DEBUG:cmdstanpy:CmdStan args: ['/usr/local/lib/python3.10/dist-packages/prophet/stan_model/prophet_model.bin', 'random', 'seed=47998', 'data', 'file=/tmp/tmpnc3vi0u7/s7_1hc4c.json', 'init=/tmp/tmpnc3vi0u7/hizfj_yg.json', 'output', 'file=/tmp/tmpnc3vi0u7/prophet_model7s1kfqaz/prophet_model-20231001050559.csv', 'method=optimize', 'algorithm=lbfgs', 'iter=10000']\n",
            "05:05:59 - cmdstanpy - INFO - Chain [1] start processing\n",
            "INFO:cmdstanpy:Chain [1] start processing\n",
            "05:05:59 - cmdstanpy - INFO - Chain [1] done processing\n",
            "INFO:cmdstanpy:Chain [1] done processing\n"
          ]
        },
        {
          "output_type": "stream",
          "name": "stdout",
          "text": [
            "+++++++++++++++++++++++++++++++++++++++++++++++++++++++++++++++++++++++++++++++++++++++ [('Prophet', 203.7275), ('ARIMA', 29.1903), ('ETS', 43.5622), ('XGBoost', 29.0372)]\n",
            "+++++++++++++++++++++++++++++++++++++++++++++++++++++++++++++++++++++++++++++++++++++++ XGBoost 52 287 3\n"
          ]
        },
        {
          "output_type": "stream",
          "name": "stderr",
          "text": [
            "/usr/local/lib/python3.10/dist-packages/statsmodels/tsa/base/tsa_model.py:473: ValueWarning: No frequency information was provided, so inferred frequency D will be used.\n",
            "  self._init_dates(dates, freq)\n",
            "/usr/local/lib/python3.10/dist-packages/statsmodels/tsa/holtwinters/model.py:917: ConvergenceWarning: Optimization failed to converge. Check mle_retvals.\n",
            "  warnings.warn(\n",
            "<ipython-input-10-fd7e9e95ee04>:69: FutureWarning: The frame.append method is deprecated and will be removed from pandas in a future version. Use pandas.concat instead.\n",
            "  results_df = results_df.append(result_dict, ignore_index=True)\n",
            "INFO:prophet:Disabling yearly seasonality. Run prophet with yearly_seasonality=True to override this.\n",
            "INFO:prophet:Disabling daily seasonality. Run prophet with daily_seasonality=True to override this.\n",
            "DEBUG:cmdstanpy:input tempfile: /tmp/tmpnc3vi0u7/eomreffs.json\n",
            "DEBUG:cmdstanpy:input tempfile: /tmp/tmpnc3vi0u7/_ry6tsc5.json\n",
            "DEBUG:cmdstanpy:idx 0\n",
            "DEBUG:cmdstanpy:running CmdStan, num_threads: None\n",
            "DEBUG:cmdstanpy:CmdStan args: ['/usr/local/lib/python3.10/dist-packages/prophet/stan_model/prophet_model.bin', 'random', 'seed=47983', 'data', 'file=/tmp/tmpnc3vi0u7/eomreffs.json', 'init=/tmp/tmpnc3vi0u7/_ry6tsc5.json', 'output', 'file=/tmp/tmpnc3vi0u7/prophet_model87s80yef/prophet_model-20231001050605.csv', 'method=optimize', 'algorithm=lbfgs', 'iter=10000']\n",
            "05:06:06 - cmdstanpy - INFO - Chain [1] start processing\n",
            "INFO:cmdstanpy:Chain [1] start processing\n",
            "05:06:06 - cmdstanpy - INFO - Chain [1] done processing\n",
            "INFO:cmdstanpy:Chain [1] done processing\n"
          ]
        },
        {
          "output_type": "stream",
          "name": "stdout",
          "text": [
            "+++++++++++++++++++++++++++++++++++++++++++++++++++++++++++++++++++++++++++++++++++++++ [('Prophet', 142.8913), ('ARIMA', 24.5573), ('ETS', 37.1794), ('XGBoost', 57.7015)]\n",
            "+++++++++++++++++++++++++++++++++++++++++++++++++++++++++++++++++++++++++++++++++++++++ ARIMA 53 290 3\n"
          ]
        },
        {
          "output_type": "stream",
          "name": "stderr",
          "text": [
            "/usr/local/lib/python3.10/dist-packages/statsmodels/tsa/base/tsa_model.py:473: ValueWarning: No frequency information was provided, so inferred frequency D will be used.\n",
            "  self._init_dates(dates, freq)\n",
            "/usr/local/lib/python3.10/dist-packages/statsmodels/tsa/holtwinters/model.py:917: ConvergenceWarning: Optimization failed to converge. Check mle_retvals.\n",
            "  warnings.warn(\n",
            "<ipython-input-10-fd7e9e95ee04>:69: FutureWarning: The frame.append method is deprecated and will be removed from pandas in a future version. Use pandas.concat instead.\n",
            "  results_df = results_df.append(result_dict, ignore_index=True)\n",
            "INFO:prophet:Disabling yearly seasonality. Run prophet with yearly_seasonality=True to override this.\n",
            "INFO:prophet:Disabling daily seasonality. Run prophet with daily_seasonality=True to override this.\n",
            "DEBUG:cmdstanpy:input tempfile: /tmp/tmpnc3vi0u7/l6qh_c6u.json\n",
            "DEBUG:cmdstanpy:input tempfile: /tmp/tmpnc3vi0u7/ljm_36np.json\n",
            "DEBUG:cmdstanpy:idx 0\n",
            "DEBUG:cmdstanpy:running CmdStan, num_threads: None\n",
            "DEBUG:cmdstanpy:CmdStan args: ['/usr/local/lib/python3.10/dist-packages/prophet/stan_model/prophet_model.bin', 'random', 'seed=26263', 'data', 'file=/tmp/tmpnc3vi0u7/l6qh_c6u.json', 'init=/tmp/tmpnc3vi0u7/ljm_36np.json', 'output', 'file=/tmp/tmpnc3vi0u7/prophet_modeldftyfwq_/prophet_model-20231001050614.csv', 'method=optimize', 'algorithm=lbfgs', 'iter=10000']\n",
            "05:06:14 - cmdstanpy - INFO - Chain [1] start processing\n",
            "INFO:cmdstanpy:Chain [1] start processing\n",
            "05:06:14 - cmdstanpy - INFO - Chain [1] done processing\n",
            "INFO:cmdstanpy:Chain [1] done processing\n"
          ]
        },
        {
          "output_type": "stream",
          "name": "stdout",
          "text": [
            "+++++++++++++++++++++++++++++++++++++++++++++++++++++++++++++++++++++++++++++++++++++++ [('Prophet', 171.0081), ('ARIMA', 111.1425), ('ETS', 124.9076), ('XGBoost', 209.129)]\n",
            "+++++++++++++++++++++++++++++++++++++++++++++++++++++++++++++++++++++++++++++++++++++++ ARIMA 54 293 3\n"
          ]
        },
        {
          "output_type": "stream",
          "name": "stderr",
          "text": [
            "/usr/local/lib/python3.10/dist-packages/statsmodels/tsa/base/tsa_model.py:473: ValueWarning: No frequency information was provided, so inferred frequency D will be used.\n",
            "  self._init_dates(dates, freq)\n",
            "/usr/local/lib/python3.10/dist-packages/statsmodels/tsa/holtwinters/model.py:917: ConvergenceWarning: Optimization failed to converge. Check mle_retvals.\n",
            "  warnings.warn(\n",
            "<ipython-input-10-fd7e9e95ee04>:69: FutureWarning: The frame.append method is deprecated and will be removed from pandas in a future version. Use pandas.concat instead.\n",
            "  results_df = results_df.append(result_dict, ignore_index=True)\n",
            "INFO:prophet:Disabling yearly seasonality. Run prophet with yearly_seasonality=True to override this.\n",
            "INFO:prophet:Disabling daily seasonality. Run prophet with daily_seasonality=True to override this.\n",
            "DEBUG:cmdstanpy:input tempfile: /tmp/tmpnc3vi0u7/kvinm7d8.json\n",
            "DEBUG:cmdstanpy:input tempfile: /tmp/tmpnc3vi0u7/1p_vbs1v.json\n",
            "DEBUG:cmdstanpy:idx 0\n",
            "DEBUG:cmdstanpy:running CmdStan, num_threads: None\n",
            "DEBUG:cmdstanpy:CmdStan args: ['/usr/local/lib/python3.10/dist-packages/prophet/stan_model/prophet_model.bin', 'random', 'seed=44751', 'data', 'file=/tmp/tmpnc3vi0u7/kvinm7d8.json', 'init=/tmp/tmpnc3vi0u7/1p_vbs1v.json', 'output', 'file=/tmp/tmpnc3vi0u7/prophet_modelr1u6jzjd/prophet_model-20231001050620.csv', 'method=optimize', 'algorithm=lbfgs', 'iter=10000']\n",
            "05:06:20 - cmdstanpy - INFO - Chain [1] start processing\n",
            "INFO:cmdstanpy:Chain [1] start processing\n",
            "05:06:20 - cmdstanpy - INFO - Chain [1] done processing\n",
            "INFO:cmdstanpy:Chain [1] done processing\n"
          ]
        },
        {
          "output_type": "stream",
          "name": "stdout",
          "text": [
            "+++++++++++++++++++++++++++++++++++++++++++++++++++++++++++++++++++++++++++++++++++++++ [('Prophet', 304.7494), ('ARIMA', 76.706), ('ETS', 69.4415), ('XGBoost', 46.6206)]\n",
            "+++++++++++++++++++++++++++++++++++++++++++++++++++++++++++++++++++++++++++++++++++++++ XGBoost 55 296 3\n"
          ]
        },
        {
          "output_type": "stream",
          "name": "stderr",
          "text": [
            "/usr/local/lib/python3.10/dist-packages/statsmodels/tsa/base/tsa_model.py:473: ValueWarning: No frequency information was provided, so inferred frequency D will be used.\n",
            "  self._init_dates(dates, freq)\n",
            "/usr/local/lib/python3.10/dist-packages/statsmodels/tsa/holtwinters/model.py:917: ConvergenceWarning: Optimization failed to converge. Check mle_retvals.\n",
            "  warnings.warn(\n",
            "<ipython-input-10-fd7e9e95ee04>:69: FutureWarning: The frame.append method is deprecated and will be removed from pandas in a future version. Use pandas.concat instead.\n",
            "  results_df = results_df.append(result_dict, ignore_index=True)\n",
            "INFO:prophet:Disabling yearly seasonality. Run prophet with yearly_seasonality=True to override this.\n",
            "INFO:prophet:Disabling daily seasonality. Run prophet with daily_seasonality=True to override this.\n",
            "DEBUG:cmdstanpy:input tempfile: /tmp/tmpnc3vi0u7/ovs4yh17.json\n",
            "DEBUG:cmdstanpy:input tempfile: /tmp/tmpnc3vi0u7/8qzs8jq8.json\n",
            "DEBUG:cmdstanpy:idx 0\n",
            "DEBUG:cmdstanpy:running CmdStan, num_threads: None\n",
            "DEBUG:cmdstanpy:CmdStan args: ['/usr/local/lib/python3.10/dist-packages/prophet/stan_model/prophet_model.bin', 'random', 'seed=3241', 'data', 'file=/tmp/tmpnc3vi0u7/ovs4yh17.json', 'init=/tmp/tmpnc3vi0u7/8qzs8jq8.json', 'output', 'file=/tmp/tmpnc3vi0u7/prophet_modelsi833eoh/prophet_model-20231001050632.csv', 'method=optimize', 'algorithm=lbfgs', 'iter=10000']\n",
            "05:06:32 - cmdstanpy - INFO - Chain [1] start processing\n",
            "INFO:cmdstanpy:Chain [1] start processing\n",
            "05:06:32 - cmdstanpy - INFO - Chain [1] done processing\n",
            "INFO:cmdstanpy:Chain [1] done processing\n"
          ]
        },
        {
          "output_type": "stream",
          "name": "stdout",
          "text": [
            "+++++++++++++++++++++++++++++++++++++++++++++++++++++++++++++++++++++++++++++++++++++++ [('Prophet', 92.8283), ('ARIMA', 37.9483), ('ETS', 198.0145), ('XGBoost', 116.8449)]\n",
            "+++++++++++++++++++++++++++++++++++++++++++++++++++++++++++++++++++++++++++++++++++++++ ARIMA 56 299 3\n"
          ]
        },
        {
          "output_type": "stream",
          "name": "stderr",
          "text": [
            "/usr/local/lib/python3.10/dist-packages/statsmodels/tsa/base/tsa_model.py:473: ValueWarning: No frequency information was provided, so inferred frequency D will be used.\n",
            "  self._init_dates(dates, freq)\n",
            "/usr/local/lib/python3.10/dist-packages/statsmodels/tsa/holtwinters/model.py:917: ConvergenceWarning: Optimization failed to converge. Check mle_retvals.\n",
            "  warnings.warn(\n",
            "<ipython-input-10-fd7e9e95ee04>:69: FutureWarning: The frame.append method is deprecated and will be removed from pandas in a future version. Use pandas.concat instead.\n",
            "  results_df = results_df.append(result_dict, ignore_index=True)\n",
            "INFO:prophet:Disabling yearly seasonality. Run prophet with yearly_seasonality=True to override this.\n",
            "INFO:prophet:Disabling daily seasonality. Run prophet with daily_seasonality=True to override this.\n",
            "DEBUG:cmdstanpy:input tempfile: /tmp/tmpnc3vi0u7/23f5v4ld.json\n",
            "DEBUG:cmdstanpy:input tempfile: /tmp/tmpnc3vi0u7/cyqf0s5d.json\n",
            "DEBUG:cmdstanpy:idx 0\n",
            "DEBUG:cmdstanpy:running CmdStan, num_threads: None\n",
            "DEBUG:cmdstanpy:CmdStan args: ['/usr/local/lib/python3.10/dist-packages/prophet/stan_model/prophet_model.bin', 'random', 'seed=88133', 'data', 'file=/tmp/tmpnc3vi0u7/23f5v4ld.json', 'init=/tmp/tmpnc3vi0u7/cyqf0s5d.json', 'output', 'file=/tmp/tmpnc3vi0u7/prophet_model4mr5e8hg/prophet_model-20231001050641.csv', 'method=optimize', 'algorithm=lbfgs', 'iter=10000']\n",
            "05:06:41 - cmdstanpy - INFO - Chain [1] start processing\n",
            "INFO:cmdstanpy:Chain [1] start processing\n",
            "05:06:41 - cmdstanpy - INFO - Chain [1] done processing\n",
            "INFO:cmdstanpy:Chain [1] done processing\n"
          ]
        },
        {
          "output_type": "stream",
          "name": "stdout",
          "text": [
            "+++++++++++++++++++++++++++++++++++++++++++++++++++++++++++++++++++++++++++++++++++++++ [('Prophet', 178.3663), ('ARIMA', 19.1994), ('ETS', 65.1619), ('XGBoost', 39.0725)]\n",
            "+++++++++++++++++++++++++++++++++++++++++++++++++++++++++++++++++++++++++++++++++++++++ ARIMA 57 302 3\n"
          ]
        },
        {
          "output_type": "stream",
          "name": "stderr",
          "text": [
            "/usr/local/lib/python3.10/dist-packages/statsmodels/tsa/base/tsa_model.py:473: ValueWarning: No frequency information was provided, so inferred frequency D will be used.\n",
            "  self._init_dates(dates, freq)\n",
            "/usr/local/lib/python3.10/dist-packages/statsmodels/tsa/holtwinters/model.py:917: ConvergenceWarning: Optimization failed to converge. Check mle_retvals.\n",
            "  warnings.warn(\n",
            "<ipython-input-10-fd7e9e95ee04>:69: FutureWarning: The frame.append method is deprecated and will be removed from pandas in a future version. Use pandas.concat instead.\n",
            "  results_df = results_df.append(result_dict, ignore_index=True)\n",
            "INFO:prophet:Disabling yearly seasonality. Run prophet with yearly_seasonality=True to override this.\n",
            "INFO:prophet:Disabling daily seasonality. Run prophet with daily_seasonality=True to override this.\n",
            "DEBUG:cmdstanpy:input tempfile: /tmp/tmpnc3vi0u7/zgir4h7s.json\n",
            "DEBUG:cmdstanpy:input tempfile: /tmp/tmpnc3vi0u7/6_p2l68i.json\n",
            "DEBUG:cmdstanpy:idx 0\n",
            "DEBUG:cmdstanpy:running CmdStan, num_threads: None\n",
            "DEBUG:cmdstanpy:CmdStan args: ['/usr/local/lib/python3.10/dist-packages/prophet/stan_model/prophet_model.bin', 'random', 'seed=75102', 'data', 'file=/tmp/tmpnc3vi0u7/zgir4h7s.json', 'init=/tmp/tmpnc3vi0u7/6_p2l68i.json', 'output', 'file=/tmp/tmpnc3vi0u7/prophet_modelvdvr6x_k/prophet_model-20231001050652.csv', 'method=optimize', 'algorithm=lbfgs', 'iter=10000']\n",
            "05:06:52 - cmdstanpy - INFO - Chain [1] start processing\n",
            "INFO:cmdstanpy:Chain [1] start processing\n",
            "05:06:52 - cmdstanpy - INFO - Chain [1] done processing\n",
            "INFO:cmdstanpy:Chain [1] done processing\n"
          ]
        },
        {
          "output_type": "stream",
          "name": "stdout",
          "text": [
            "+++++++++++++++++++++++++++++++++++++++++++++++++++++++++++++++++++++++++++++++++++++++ [('Prophet', 96.182), ('ARIMA', 122.8215), ('ETS', 173.7423), ('XGBoost', 272.1468)]\n",
            "+++++++++++++++++++++++++++++++++++++++++++++++++++++++++++++++++++++++++++++++++++++++ Prophet 58 305 3\n"
          ]
        },
        {
          "output_type": "stream",
          "name": "stderr",
          "text": [
            "/usr/local/lib/python3.10/dist-packages/statsmodels/tsa/base/tsa_model.py:473: ValueWarning: No frequency information was provided, so inferred frequency D will be used.\n",
            "  self._init_dates(dates, freq)\n",
            "/usr/local/lib/python3.10/dist-packages/statsmodels/tsa/holtwinters/model.py:917: ConvergenceWarning: Optimization failed to converge. Check mle_retvals.\n",
            "  warnings.warn(\n",
            "<ipython-input-10-fd7e9e95ee04>:69: FutureWarning: The frame.append method is deprecated and will be removed from pandas in a future version. Use pandas.concat instead.\n",
            "  results_df = results_df.append(result_dict, ignore_index=True)\n",
            "INFO:prophet:Disabling yearly seasonality. Run prophet with yearly_seasonality=True to override this.\n",
            "INFO:prophet:Disabling daily seasonality. Run prophet with daily_seasonality=True to override this.\n",
            "DEBUG:cmdstanpy:input tempfile: /tmp/tmpnc3vi0u7/lo6rsrf0.json\n",
            "DEBUG:cmdstanpy:input tempfile: /tmp/tmpnc3vi0u7/p5g9ioiv.json\n",
            "DEBUG:cmdstanpy:idx 0\n",
            "DEBUG:cmdstanpy:running CmdStan, num_threads: None\n",
            "DEBUG:cmdstanpy:CmdStan args: ['/usr/local/lib/python3.10/dist-packages/prophet/stan_model/prophet_model.bin', 'random', 'seed=35441', 'data', 'file=/tmp/tmpnc3vi0u7/lo6rsrf0.json', 'init=/tmp/tmpnc3vi0u7/p5g9ioiv.json', 'output', 'file=/tmp/tmpnc3vi0u7/prophet_model7aag8wr7/prophet_model-20231001050704.csv', 'method=optimize', 'algorithm=lbfgs', 'iter=10000']\n",
            "05:07:04 - cmdstanpy - INFO - Chain [1] start processing\n",
            "INFO:cmdstanpy:Chain [1] start processing\n",
            "05:07:04 - cmdstanpy - INFO - Chain [1] done processing\n",
            "INFO:cmdstanpy:Chain [1] done processing\n"
          ]
        },
        {
          "output_type": "stream",
          "name": "stdout",
          "text": [
            "+++++++++++++++++++++++++++++++++++++++++++++++++++++++++++++++++++++++++++++++++++++++ [('Prophet', 170.5183), ('ARIMA', 14.7979), ('ETS', 49.3807), ('XGBoost', 40.6094)]\n",
            "+++++++++++++++++++++++++++++++++++++++++++++++++++++++++++++++++++++++++++++++++++++++ ARIMA 59 308 3\n"
          ]
        },
        {
          "output_type": "stream",
          "name": "stderr",
          "text": [
            "/usr/local/lib/python3.10/dist-packages/statsmodels/tsa/base/tsa_model.py:473: ValueWarning: No frequency information was provided, so inferred frequency D will be used.\n",
            "  self._init_dates(dates, freq)\n",
            "/usr/local/lib/python3.10/dist-packages/statsmodels/tsa/holtwinters/model.py:917: ConvergenceWarning: Optimization failed to converge. Check mle_retvals.\n",
            "  warnings.warn(\n",
            "<ipython-input-10-fd7e9e95ee04>:69: FutureWarning: The frame.append method is deprecated and will be removed from pandas in a future version. Use pandas.concat instead.\n",
            "  results_df = results_df.append(result_dict, ignore_index=True)\n",
            "INFO:prophet:Disabling yearly seasonality. Run prophet with yearly_seasonality=True to override this.\n",
            "INFO:prophet:Disabling daily seasonality. Run prophet with daily_seasonality=True to override this.\n",
            "DEBUG:cmdstanpy:input tempfile: /tmp/tmpnc3vi0u7/wyqgqsti.json\n",
            "DEBUG:cmdstanpy:input tempfile: /tmp/tmpnc3vi0u7/it4q7hz7.json\n",
            "DEBUG:cmdstanpy:idx 0\n",
            "DEBUG:cmdstanpy:running CmdStan, num_threads: None\n",
            "DEBUG:cmdstanpy:CmdStan args: ['/usr/local/lib/python3.10/dist-packages/prophet/stan_model/prophet_model.bin', 'random', 'seed=15207', 'data', 'file=/tmp/tmpnc3vi0u7/wyqgqsti.json', 'init=/tmp/tmpnc3vi0u7/it4q7hz7.json', 'output', 'file=/tmp/tmpnc3vi0u7/prophet_model0xjk6ka4/prophet_model-20231001050715.csv', 'method=optimize', 'algorithm=lbfgs', 'iter=10000']\n",
            "05:07:15 - cmdstanpy - INFO - Chain [1] start processing\n",
            "INFO:cmdstanpy:Chain [1] start processing\n",
            "05:07:15 - cmdstanpy - INFO - Chain [1] done processing\n",
            "INFO:cmdstanpy:Chain [1] done processing\n"
          ]
        },
        {
          "output_type": "stream",
          "name": "stdout",
          "text": [
            "+++++++++++++++++++++++++++++++++++++++++++++++++++++++++++++++++++++++++++++++++++++++ [('Prophet', 130.3827), ('ARIMA', 18.713), ('ETS', 65.5717), ('XGBoost', 20.9437)]\n",
            "+++++++++++++++++++++++++++++++++++++++++++++++++++++++++++++++++++++++++++++++++++++++ ARIMA 60 311 3\n"
          ]
        },
        {
          "output_type": "stream",
          "name": "stderr",
          "text": [
            "/usr/local/lib/python3.10/dist-packages/statsmodels/tsa/base/tsa_model.py:473: ValueWarning: No frequency information was provided, so inferred frequency D will be used.\n",
            "  self._init_dates(dates, freq)\n",
            "/usr/local/lib/python3.10/dist-packages/statsmodels/tsa/holtwinters/model.py:917: ConvergenceWarning: Optimization failed to converge. Check mle_retvals.\n",
            "  warnings.warn(\n",
            "<ipython-input-10-fd7e9e95ee04>:69: FutureWarning: The frame.append method is deprecated and will be removed from pandas in a future version. Use pandas.concat instead.\n",
            "  results_df = results_df.append(result_dict, ignore_index=True)\n",
            "INFO:prophet:Disabling yearly seasonality. Run prophet with yearly_seasonality=True to override this.\n",
            "INFO:prophet:Disabling daily seasonality. Run prophet with daily_seasonality=True to override this.\n",
            "DEBUG:cmdstanpy:input tempfile: /tmp/tmpnc3vi0u7/nmo1aoqd.json\n",
            "DEBUG:cmdstanpy:input tempfile: /tmp/tmpnc3vi0u7/gkuoph72.json\n",
            "DEBUG:cmdstanpy:idx 0\n",
            "DEBUG:cmdstanpy:running CmdStan, num_threads: None\n",
            "DEBUG:cmdstanpy:CmdStan args: ['/usr/local/lib/python3.10/dist-packages/prophet/stan_model/prophet_model.bin', 'random', 'seed=34668', 'data', 'file=/tmp/tmpnc3vi0u7/nmo1aoqd.json', 'init=/tmp/tmpnc3vi0u7/gkuoph72.json', 'output', 'file=/tmp/tmpnc3vi0u7/prophet_modelpztfdkuw/prophet_model-20231001050724.csv', 'method=optimize', 'algorithm=lbfgs', 'iter=10000']\n",
            "05:07:24 - cmdstanpy - INFO - Chain [1] start processing\n",
            "INFO:cmdstanpy:Chain [1] start processing\n",
            "05:07:24 - cmdstanpy - INFO - Chain [1] done processing\n",
            "INFO:cmdstanpy:Chain [1] done processing\n"
          ]
        },
        {
          "output_type": "stream",
          "name": "stdout",
          "text": [
            "+++++++++++++++++++++++++++++++++++++++++++++++++++++++++++++++++++++++++++++++++++++++ [('Prophet', 192.2008), ('ARIMA', 93.8669), ('ETS', 146.396), ('XGBoost', 155.1852)]\n",
            "+++++++++++++++++++++++++++++++++++++++++++++++++++++++++++++++++++++++++++++++++++++++ ARIMA 61 314 3\n"
          ]
        },
        {
          "output_type": "stream",
          "name": "stderr",
          "text": [
            "/usr/local/lib/python3.10/dist-packages/statsmodels/tsa/base/tsa_model.py:473: ValueWarning: No frequency information was provided, so inferred frequency D will be used.\n",
            "  self._init_dates(dates, freq)\n",
            "/usr/local/lib/python3.10/dist-packages/statsmodels/tsa/holtwinters/model.py:917: ConvergenceWarning: Optimization failed to converge. Check mle_retvals.\n",
            "  warnings.warn(\n",
            "<ipython-input-10-fd7e9e95ee04>:69: FutureWarning: The frame.append method is deprecated and will be removed from pandas in a future version. Use pandas.concat instead.\n",
            "  results_df = results_df.append(result_dict, ignore_index=True)\n",
            "INFO:prophet:Disabling yearly seasonality. Run prophet with yearly_seasonality=True to override this.\n",
            "INFO:prophet:Disabling daily seasonality. Run prophet with daily_seasonality=True to override this.\n",
            "DEBUG:cmdstanpy:input tempfile: /tmp/tmpnc3vi0u7/sjvc5hws.json\n",
            "DEBUG:cmdstanpy:input tempfile: /tmp/tmpnc3vi0u7/t90cdaf_.json\n",
            "DEBUG:cmdstanpy:idx 0\n",
            "DEBUG:cmdstanpy:running CmdStan, num_threads: None\n",
            "DEBUG:cmdstanpy:CmdStan args: ['/usr/local/lib/python3.10/dist-packages/prophet/stan_model/prophet_model.bin', 'random', 'seed=51567', 'data', 'file=/tmp/tmpnc3vi0u7/sjvc5hws.json', 'init=/tmp/tmpnc3vi0u7/t90cdaf_.json', 'output', 'file=/tmp/tmpnc3vi0u7/prophet_modelqodx26pd/prophet_model-20231001050738.csv', 'method=optimize', 'algorithm=lbfgs', 'iter=10000']\n",
            "05:07:38 - cmdstanpy - INFO - Chain [1] start processing\n",
            "INFO:cmdstanpy:Chain [1] start processing\n",
            "05:07:38 - cmdstanpy - INFO - Chain [1] done processing\n",
            "INFO:cmdstanpy:Chain [1] done processing\n"
          ]
        },
        {
          "output_type": "stream",
          "name": "stdout",
          "text": [
            "+++++++++++++++++++++++++++++++++++++++++++++++++++++++++++++++++++++++++++++++++++++++ [('Prophet', 161.3113), ('ARIMA', 21.1786), ('ETS', 26.3832), ('XGBoost', 33.3917)]\n",
            "+++++++++++++++++++++++++++++++++++++++++++++++++++++++++++++++++++++++++++++++++++++++ ARIMA 62 317 3\n"
          ]
        },
        {
          "output_type": "stream",
          "name": "stderr",
          "text": [
            "/usr/local/lib/python3.10/dist-packages/statsmodels/tsa/base/tsa_model.py:473: ValueWarning: No frequency information was provided, so inferred frequency D will be used.\n",
            "  self._init_dates(dates, freq)\n",
            "/usr/local/lib/python3.10/dist-packages/statsmodels/tsa/holtwinters/model.py:917: ConvergenceWarning: Optimization failed to converge. Check mle_retvals.\n",
            "  warnings.warn(\n",
            "<ipython-input-10-fd7e9e95ee04>:69: FutureWarning: The frame.append method is deprecated and will be removed from pandas in a future version. Use pandas.concat instead.\n",
            "  results_df = results_df.append(result_dict, ignore_index=True)\n",
            "INFO:prophet:Disabling yearly seasonality. Run prophet with yearly_seasonality=True to override this.\n",
            "INFO:prophet:Disabling daily seasonality. Run prophet with daily_seasonality=True to override this.\n",
            "DEBUG:cmdstanpy:input tempfile: /tmp/tmpnc3vi0u7/rxyhgj1_.json\n",
            "DEBUG:cmdstanpy:input tempfile: /tmp/tmpnc3vi0u7/iyvzud1i.json\n",
            "DEBUG:cmdstanpy:idx 0\n",
            "DEBUG:cmdstanpy:running CmdStan, num_threads: None\n",
            "DEBUG:cmdstanpy:CmdStan args: ['/usr/local/lib/python3.10/dist-packages/prophet/stan_model/prophet_model.bin', 'random', 'seed=21407', 'data', 'file=/tmp/tmpnc3vi0u7/rxyhgj1_.json', 'init=/tmp/tmpnc3vi0u7/iyvzud1i.json', 'output', 'file=/tmp/tmpnc3vi0u7/prophet_modelv_086_c0/prophet_model-20231001050750.csv', 'method=optimize', 'algorithm=lbfgs', 'iter=10000']\n",
            "05:07:50 - cmdstanpy - INFO - Chain [1] start processing\n",
            "INFO:cmdstanpy:Chain [1] start processing\n",
            "05:07:50 - cmdstanpy - INFO - Chain [1] done processing\n",
            "INFO:cmdstanpy:Chain [1] done processing\n"
          ]
        },
        {
          "output_type": "stream",
          "name": "stdout",
          "text": [
            "+++++++++++++++++++++++++++++++++++++++++++++++++++++++++++++++++++++++++++++++++++++++ [('Prophet', 165.8911), ('ARIMA', 83.4277), ('ETS', 204.291), ('XGBoost', 284.6451)]\n",
            "+++++++++++++++++++++++++++++++++++++++++++++++++++++++++++++++++++++++++++++++++++++++ ARIMA 63 320 3\n"
          ]
        },
        {
          "output_type": "stream",
          "name": "stderr",
          "text": [
            "/usr/local/lib/python3.10/dist-packages/statsmodels/tsa/base/tsa_model.py:473: ValueWarning: No frequency information was provided, so inferred frequency D will be used.\n",
            "  self._init_dates(dates, freq)\n",
            "/usr/local/lib/python3.10/dist-packages/statsmodels/tsa/holtwinters/model.py:917: ConvergenceWarning: Optimization failed to converge. Check mle_retvals.\n",
            "  warnings.warn(\n",
            "<ipython-input-10-fd7e9e95ee04>:69: FutureWarning: The frame.append method is deprecated and will be removed from pandas in a future version. Use pandas.concat instead.\n",
            "  results_df = results_df.append(result_dict, ignore_index=True)\n",
            "INFO:prophet:Disabling yearly seasonality. Run prophet with yearly_seasonality=True to override this.\n",
            "INFO:prophet:Disabling daily seasonality. Run prophet with daily_seasonality=True to override this.\n",
            "DEBUG:cmdstanpy:input tempfile: /tmp/tmpnc3vi0u7/xcmcgf76.json\n",
            "DEBUG:cmdstanpy:input tempfile: /tmp/tmpnc3vi0u7/lfa60by6.json\n",
            "DEBUG:cmdstanpy:idx 0\n",
            "DEBUG:cmdstanpy:running CmdStan, num_threads: None\n",
            "DEBUG:cmdstanpy:CmdStan args: ['/usr/local/lib/python3.10/dist-packages/prophet/stan_model/prophet_model.bin', 'random', 'seed=20597', 'data', 'file=/tmp/tmpnc3vi0u7/xcmcgf76.json', 'init=/tmp/tmpnc3vi0u7/lfa60by6.json', 'output', 'file=/tmp/tmpnc3vi0u7/prophet_modelq8tpjkb_/prophet_model-20231001050802.csv', 'method=optimize', 'algorithm=lbfgs', 'iter=10000']\n",
            "05:08:02 - cmdstanpy - INFO - Chain [1] start processing\n",
            "INFO:cmdstanpy:Chain [1] start processing\n",
            "05:08:02 - cmdstanpy - INFO - Chain [1] done processing\n",
            "INFO:cmdstanpy:Chain [1] done processing\n"
          ]
        },
        {
          "output_type": "stream",
          "name": "stdout",
          "text": [
            "+++++++++++++++++++++++++++++++++++++++++++++++++++++++++++++++++++++++++++++++++++++++ [('Prophet', 142.8816), ('ARIMA', 10.5454), ('ETS', 24.7395), ('XGBoost', 22.4409)]\n",
            "+++++++++++++++++++++++++++++++++++++++++++++++++++++++++++++++++++++++++++++++++++++++ ARIMA 64 323 3\n"
          ]
        },
        {
          "output_type": "stream",
          "name": "stderr",
          "text": [
            "/usr/local/lib/python3.10/dist-packages/statsmodels/tsa/base/tsa_model.py:473: ValueWarning: No frequency information was provided, so inferred frequency D will be used.\n",
            "  self._init_dates(dates, freq)\n",
            "/usr/local/lib/python3.10/dist-packages/statsmodels/tsa/holtwinters/model.py:917: ConvergenceWarning: Optimization failed to converge. Check mle_retvals.\n",
            "  warnings.warn(\n",
            "<ipython-input-10-fd7e9e95ee04>:69: FutureWarning: The frame.append method is deprecated and will be removed from pandas in a future version. Use pandas.concat instead.\n",
            "  results_df = results_df.append(result_dict, ignore_index=True)\n",
            "INFO:prophet:Disabling yearly seasonality. Run prophet with yearly_seasonality=True to override this.\n",
            "INFO:prophet:Disabling daily seasonality. Run prophet with daily_seasonality=True to override this.\n",
            "DEBUG:cmdstanpy:input tempfile: /tmp/tmpnc3vi0u7/s1ei4d8z.json\n",
            "DEBUG:cmdstanpy:input tempfile: /tmp/tmpnc3vi0u7/0kl3w4rf.json\n",
            "DEBUG:cmdstanpy:idx 0\n",
            "DEBUG:cmdstanpy:running CmdStan, num_threads: None\n",
            "DEBUG:cmdstanpy:CmdStan args: ['/usr/local/lib/python3.10/dist-packages/prophet/stan_model/prophet_model.bin', 'random', 'seed=48416', 'data', 'file=/tmp/tmpnc3vi0u7/s1ei4d8z.json', 'init=/tmp/tmpnc3vi0u7/0kl3w4rf.json', 'output', 'file=/tmp/tmpnc3vi0u7/prophet_modelk0zwh7m6/prophet_model-20231001050812.csv', 'method=optimize', 'algorithm=lbfgs', 'iter=10000']\n",
            "05:08:12 - cmdstanpy - INFO - Chain [1] start processing\n",
            "INFO:cmdstanpy:Chain [1] start processing\n",
            "05:08:12 - cmdstanpy - INFO - Chain [1] done processing\n",
            "INFO:cmdstanpy:Chain [1] done processing\n"
          ]
        },
        {
          "output_type": "stream",
          "name": "stdout",
          "text": [
            "+++++++++++++++++++++++++++++++++++++++++++++++++++++++++++++++++++++++++++++++++++++++ [('Prophet', 404.0027), ('ARIMA', 258.3126), ('ETS', 413.577), ('XGBoost', 459.0654)]\n",
            "+++++++++++++++++++++++++++++++++++++++++++++++++++++++++++++++++++++++++++++++++++++++ ARIMA 65 326 3\n"
          ]
        },
        {
          "output_type": "stream",
          "name": "stderr",
          "text": [
            "/usr/local/lib/python3.10/dist-packages/statsmodels/tsa/base/tsa_model.py:473: ValueWarning: No frequency information was provided, so inferred frequency D will be used.\n",
            "  self._init_dates(dates, freq)\n",
            "/usr/local/lib/python3.10/dist-packages/statsmodels/tsa/holtwinters/model.py:917: ConvergenceWarning: Optimization failed to converge. Check mle_retvals.\n",
            "  warnings.warn(\n",
            "<ipython-input-10-fd7e9e95ee04>:69: FutureWarning: The frame.append method is deprecated and will be removed from pandas in a future version. Use pandas.concat instead.\n",
            "  results_df = results_df.append(result_dict, ignore_index=True)\n",
            "INFO:prophet:Disabling yearly seasonality. Run prophet with yearly_seasonality=True to override this.\n",
            "INFO:prophet:Disabling daily seasonality. Run prophet with daily_seasonality=True to override this.\n",
            "DEBUG:cmdstanpy:input tempfile: /tmp/tmpnc3vi0u7/eyub8aj0.json\n",
            "DEBUG:cmdstanpy:input tempfile: /tmp/tmpnc3vi0u7/r6hw73eh.json\n",
            "DEBUG:cmdstanpy:idx 0\n",
            "DEBUG:cmdstanpy:running CmdStan, num_threads: None\n",
            "DEBUG:cmdstanpy:CmdStan args: ['/usr/local/lib/python3.10/dist-packages/prophet/stan_model/prophet_model.bin', 'random', 'seed=91031', 'data', 'file=/tmp/tmpnc3vi0u7/eyub8aj0.json', 'init=/tmp/tmpnc3vi0u7/r6hw73eh.json', 'output', 'file=/tmp/tmpnc3vi0u7/prophet_model0znd7vbj/prophet_model-20231001050823.csv', 'method=optimize', 'algorithm=lbfgs', 'iter=10000']\n",
            "05:08:23 - cmdstanpy - INFO - Chain [1] start processing\n",
            "INFO:cmdstanpy:Chain [1] start processing\n",
            "05:08:23 - cmdstanpy - INFO - Chain [1] done processing\n",
            "INFO:cmdstanpy:Chain [1] done processing\n"
          ]
        },
        {
          "output_type": "stream",
          "name": "stdout",
          "text": [
            "+++++++++++++++++++++++++++++++++++++++++++++++++++++++++++++++++++++++++++++++++++++++ [('Prophet', 136.4274), ('ARIMA', 26.8702), ('ETS', 62.8743), ('XGBoost', 42.3758)]\n",
            "+++++++++++++++++++++++++++++++++++++++++++++++++++++++++++++++++++++++++++++++++++++++ ARIMA 66 329 3\n"
          ]
        },
        {
          "output_type": "stream",
          "name": "stderr",
          "text": [
            "/usr/local/lib/python3.10/dist-packages/statsmodels/tsa/base/tsa_model.py:473: ValueWarning: No frequency information was provided, so inferred frequency D will be used.\n",
            "  self._init_dates(dates, freq)\n",
            "/usr/local/lib/python3.10/dist-packages/statsmodels/tsa/holtwinters/model.py:917: ConvergenceWarning: Optimization failed to converge. Check mle_retvals.\n",
            "  warnings.warn(\n",
            "<ipython-input-10-fd7e9e95ee04>:69: FutureWarning: The frame.append method is deprecated and will be removed from pandas in a future version. Use pandas.concat instead.\n",
            "  results_df = results_df.append(result_dict, ignore_index=True)\n",
            "INFO:prophet:Disabling yearly seasonality. Run prophet with yearly_seasonality=True to override this.\n",
            "INFO:prophet:Disabling daily seasonality. Run prophet with daily_seasonality=True to override this.\n",
            "DEBUG:cmdstanpy:input tempfile: /tmp/tmpnc3vi0u7/ixixffu_.json\n",
            "DEBUG:cmdstanpy:input tempfile: /tmp/tmpnc3vi0u7/ebs_hthz.json\n",
            "DEBUG:cmdstanpy:idx 0\n",
            "DEBUG:cmdstanpy:running CmdStan, num_threads: None\n",
            "DEBUG:cmdstanpy:CmdStan args: ['/usr/local/lib/python3.10/dist-packages/prophet/stan_model/prophet_model.bin', 'random', 'seed=63663', 'data', 'file=/tmp/tmpnc3vi0u7/ixixffu_.json', 'init=/tmp/tmpnc3vi0u7/ebs_hthz.json', 'output', 'file=/tmp/tmpnc3vi0u7/prophet_modelhsaoc9i6/prophet_model-20231001050834.csv', 'method=optimize', 'algorithm=lbfgs', 'iter=10000']\n",
            "05:08:34 - cmdstanpy - INFO - Chain [1] start processing\n",
            "INFO:cmdstanpy:Chain [1] start processing\n",
            "05:08:35 - cmdstanpy - INFO - Chain [1] done processing\n",
            "INFO:cmdstanpy:Chain [1] done processing\n"
          ]
        },
        {
          "output_type": "stream",
          "name": "stdout",
          "text": [
            "+++++++++++++++++++++++++++++++++++++++++++++++++++++++++++++++++++++++++++++++++++++++ [('Prophet', 171.3976), ('ARIMA', 14.8803), ('ETS', 83.4589), ('XGBoost', 1290.3662)]\n",
            "+++++++++++++++++++++++++++++++++++++++++++++++++++++++++++++++++++++++++++++++++++++++ ARIMA 67 332 3\n"
          ]
        },
        {
          "output_type": "stream",
          "name": "stderr",
          "text": [
            "/usr/local/lib/python3.10/dist-packages/statsmodels/tsa/base/tsa_model.py:473: ValueWarning: No frequency information was provided, so inferred frequency D will be used.\n",
            "  self._init_dates(dates, freq)\n",
            "/usr/local/lib/python3.10/dist-packages/statsmodels/tsa/holtwinters/model.py:917: ConvergenceWarning: Optimization failed to converge. Check mle_retvals.\n",
            "  warnings.warn(\n",
            "<ipython-input-10-fd7e9e95ee04>:69: FutureWarning: The frame.append method is deprecated and will be removed from pandas in a future version. Use pandas.concat instead.\n",
            "  results_df = results_df.append(result_dict, ignore_index=True)\n",
            "INFO:prophet:Disabling yearly seasonality. Run prophet with yearly_seasonality=True to override this.\n",
            "INFO:prophet:Disabling daily seasonality. Run prophet with daily_seasonality=True to override this.\n",
            "DEBUG:cmdstanpy:input tempfile: /tmp/tmpnc3vi0u7/lky0k427.json\n",
            "DEBUG:cmdstanpy:input tempfile: /tmp/tmpnc3vi0u7/tmc2by08.json\n",
            "DEBUG:cmdstanpy:idx 0\n",
            "DEBUG:cmdstanpy:running CmdStan, num_threads: None\n",
            "DEBUG:cmdstanpy:CmdStan args: ['/usr/local/lib/python3.10/dist-packages/prophet/stan_model/prophet_model.bin', 'random', 'seed=6862', 'data', 'file=/tmp/tmpnc3vi0u7/lky0k427.json', 'init=/tmp/tmpnc3vi0u7/tmc2by08.json', 'output', 'file=/tmp/tmpnc3vi0u7/prophet_modelqzw6vt5l/prophet_model-20231001050846.csv', 'method=optimize', 'algorithm=lbfgs', 'iter=10000']\n",
            "05:08:46 - cmdstanpy - INFO - Chain [1] start processing\n",
            "INFO:cmdstanpy:Chain [1] start processing\n",
            "05:08:46 - cmdstanpy - INFO - Chain [1] done processing\n",
            "INFO:cmdstanpy:Chain [1] done processing\n"
          ]
        },
        {
          "output_type": "stream",
          "name": "stdout",
          "text": [
            "+++++++++++++++++++++++++++++++++++++++++++++++++++++++++++++++++++++++++++++++++++++++ [('Prophet', 191.2103), ('ARIMA', 48.289), ('ETS', 109.5165), ('XGBoost', 170.9992)]\n",
            "+++++++++++++++++++++++++++++++++++++++++++++++++++++++++++++++++++++++++++++++++++++++ ARIMA 68 335 3\n"
          ]
        },
        {
          "output_type": "stream",
          "name": "stderr",
          "text": [
            "/usr/local/lib/python3.10/dist-packages/statsmodels/tsa/base/tsa_model.py:473: ValueWarning: No frequency information was provided, so inferred frequency D will be used.\n",
            "  self._init_dates(dates, freq)\n",
            "/usr/local/lib/python3.10/dist-packages/statsmodels/tsa/holtwinters/model.py:917: ConvergenceWarning: Optimization failed to converge. Check mle_retvals.\n",
            "  warnings.warn(\n",
            "<ipython-input-10-fd7e9e95ee04>:69: FutureWarning: The frame.append method is deprecated and will be removed from pandas in a future version. Use pandas.concat instead.\n",
            "  results_df = results_df.append(result_dict, ignore_index=True)\n",
            "INFO:prophet:Disabling yearly seasonality. Run prophet with yearly_seasonality=True to override this.\n",
            "INFO:prophet:Disabling daily seasonality. Run prophet with daily_seasonality=True to override this.\n",
            "DEBUG:cmdstanpy:input tempfile: /tmp/tmpnc3vi0u7/ifyf9y3l.json\n",
            "DEBUG:cmdstanpy:input tempfile: /tmp/tmpnc3vi0u7/f3hnlvru.json\n",
            "DEBUG:cmdstanpy:idx 0\n",
            "DEBUG:cmdstanpy:running CmdStan, num_threads: None\n",
            "DEBUG:cmdstanpy:CmdStan args: ['/usr/local/lib/python3.10/dist-packages/prophet/stan_model/prophet_model.bin', 'random', 'seed=14724', 'data', 'file=/tmp/tmpnc3vi0u7/ifyf9y3l.json', 'init=/tmp/tmpnc3vi0u7/f3hnlvru.json', 'output', 'file=/tmp/tmpnc3vi0u7/prophet_modelqwzdkttf/prophet_model-20231001050855.csv', 'method=optimize', 'algorithm=lbfgs', 'iter=10000']\n",
            "05:08:55 - cmdstanpy - INFO - Chain [1] start processing\n",
            "INFO:cmdstanpy:Chain [1] start processing\n",
            "05:08:56 - cmdstanpy - INFO - Chain [1] done processing\n",
            "INFO:cmdstanpy:Chain [1] done processing\n"
          ]
        },
        {
          "output_type": "stream",
          "name": "stdout",
          "text": [
            "+++++++++++++++++++++++++++++++++++++++++++++++++++++++++++++++++++++++++++++++++++++++ [('Prophet', 106.0598), ('ARIMA', 17.9527), ('ETS', 42.8189), ('XGBoost', 33.0282)]\n",
            "+++++++++++++++++++++++++++++++++++++++++++++++++++++++++++++++++++++++++++++++++++++++ ARIMA 69 338 3\n"
          ]
        },
        {
          "output_type": "stream",
          "name": "stderr",
          "text": [
            "/usr/local/lib/python3.10/dist-packages/statsmodels/tsa/base/tsa_model.py:473: ValueWarning: No frequency information was provided, so inferred frequency D will be used.\n",
            "  self._init_dates(dates, freq)\n",
            "/usr/local/lib/python3.10/dist-packages/statsmodels/tsa/holtwinters/model.py:917: ConvergenceWarning: Optimization failed to converge. Check mle_retvals.\n",
            "  warnings.warn(\n",
            "<ipython-input-10-fd7e9e95ee04>:69: FutureWarning: The frame.append method is deprecated and will be removed from pandas in a future version. Use pandas.concat instead.\n",
            "  results_df = results_df.append(result_dict, ignore_index=True)\n",
            "INFO:prophet:Disabling yearly seasonality. Run prophet with yearly_seasonality=True to override this.\n",
            "INFO:prophet:Disabling daily seasonality. Run prophet with daily_seasonality=True to override this.\n",
            "DEBUG:cmdstanpy:input tempfile: /tmp/tmpnc3vi0u7/wjliixih.json\n",
            "DEBUG:cmdstanpy:input tempfile: /tmp/tmpnc3vi0u7/25ar_b4c.json\n",
            "DEBUG:cmdstanpy:idx 0\n",
            "DEBUG:cmdstanpy:running CmdStan, num_threads: None\n",
            "DEBUG:cmdstanpy:CmdStan args: ['/usr/local/lib/python3.10/dist-packages/prophet/stan_model/prophet_model.bin', 'random', 'seed=61789', 'data', 'file=/tmp/tmpnc3vi0u7/wjliixih.json', 'init=/tmp/tmpnc3vi0u7/25ar_b4c.json', 'output', 'file=/tmp/tmpnc3vi0u7/prophet_model7oewncpu/prophet_model-20231001050907.csv', 'method=optimize', 'algorithm=lbfgs', 'iter=10000']\n",
            "05:09:07 - cmdstanpy - INFO - Chain [1] start processing\n",
            "INFO:cmdstanpy:Chain [1] start processing\n",
            "05:09:07 - cmdstanpy - INFO - Chain [1] done processing\n",
            "INFO:cmdstanpy:Chain [1] done processing\n"
          ]
        },
        {
          "output_type": "stream",
          "name": "stdout",
          "text": [
            "+++++++++++++++++++++++++++++++++++++++++++++++++++++++++++++++++++++++++++++++++++++++ [('Prophet', 279.0041), ('ARIMA', 139.0716), ('ETS', 252.1148), ('XGBoost', 318.1123)]\n",
            "+++++++++++++++++++++++++++++++++++++++++++++++++++++++++++++++++++++++++++++++++++++++ ARIMA 70 341 3\n"
          ]
        },
        {
          "output_type": "stream",
          "name": "stderr",
          "text": [
            "/usr/local/lib/python3.10/dist-packages/statsmodels/tsa/base/tsa_model.py:473: ValueWarning: No frequency information was provided, so inferred frequency D will be used.\n",
            "  self._init_dates(dates, freq)\n",
            "/usr/local/lib/python3.10/dist-packages/statsmodels/tsa/holtwinters/model.py:917: ConvergenceWarning: Optimization failed to converge. Check mle_retvals.\n",
            "  warnings.warn(\n",
            "<ipython-input-10-fd7e9e95ee04>:69: FutureWarning: The frame.append method is deprecated and will be removed from pandas in a future version. Use pandas.concat instead.\n",
            "  results_df = results_df.append(result_dict, ignore_index=True)\n",
            "INFO:prophet:Disabling yearly seasonality. Run prophet with yearly_seasonality=True to override this.\n",
            "INFO:prophet:Disabling daily seasonality. Run prophet with daily_seasonality=True to override this.\n",
            "DEBUG:cmdstanpy:input tempfile: /tmp/tmpnc3vi0u7/h7zw9qg4.json\n",
            "DEBUG:cmdstanpy:input tempfile: /tmp/tmpnc3vi0u7/3_qu9402.json\n",
            "DEBUG:cmdstanpy:idx 0\n",
            "DEBUG:cmdstanpy:running CmdStan, num_threads: None\n",
            "DEBUG:cmdstanpy:CmdStan args: ['/usr/local/lib/python3.10/dist-packages/prophet/stan_model/prophet_model.bin', 'random', 'seed=42786', 'data', 'file=/tmp/tmpnc3vi0u7/h7zw9qg4.json', 'init=/tmp/tmpnc3vi0u7/3_qu9402.json', 'output', 'file=/tmp/tmpnc3vi0u7/prophet_model9tg3n1vk/prophet_model-20231001050919.csv', 'method=optimize', 'algorithm=lbfgs', 'iter=10000']\n",
            "05:09:19 - cmdstanpy - INFO - Chain [1] start processing\n",
            "INFO:cmdstanpy:Chain [1] start processing\n",
            "05:09:19 - cmdstanpy - INFO - Chain [1] done processing\n",
            "INFO:cmdstanpy:Chain [1] done processing\n"
          ]
        },
        {
          "output_type": "stream",
          "name": "stdout",
          "text": [
            "+++++++++++++++++++++++++++++++++++++++++++++++++++++++++++++++++++++++++++++++++++++++ [('Prophet', 100.6345), ('ARIMA', 16.3569), ('ETS', 33.3161), ('XGBoost', 25.1291)]\n",
            "+++++++++++++++++++++++++++++++++++++++++++++++++++++++++++++++++++++++++++++++++++++++ ARIMA 71 344 3\n"
          ]
        },
        {
          "output_type": "stream",
          "name": "stderr",
          "text": [
            "/usr/local/lib/python3.10/dist-packages/statsmodels/tsa/base/tsa_model.py:473: ValueWarning: No frequency information was provided, so inferred frequency D will be used.\n",
            "  self._init_dates(dates, freq)\n",
            "/usr/local/lib/python3.10/dist-packages/statsmodels/tsa/holtwinters/model.py:917: ConvergenceWarning: Optimization failed to converge. Check mle_retvals.\n",
            "  warnings.warn(\n",
            "<ipython-input-10-fd7e9e95ee04>:69: FutureWarning: The frame.append method is deprecated and will be removed from pandas in a future version. Use pandas.concat instead.\n",
            "  results_df = results_df.append(result_dict, ignore_index=True)\n",
            "INFO:prophet:Disabling yearly seasonality. Run prophet with yearly_seasonality=True to override this.\n",
            "INFO:prophet:Disabling daily seasonality. Run prophet with daily_seasonality=True to override this.\n",
            "DEBUG:cmdstanpy:input tempfile: /tmp/tmpnc3vi0u7/jw7a5ght.json\n",
            "DEBUG:cmdstanpy:input tempfile: /tmp/tmpnc3vi0u7/t3hqhvns.json\n",
            "DEBUG:cmdstanpy:idx 0\n",
            "DEBUG:cmdstanpy:running CmdStan, num_threads: None\n",
            "DEBUG:cmdstanpy:CmdStan args: ['/usr/local/lib/python3.10/dist-packages/prophet/stan_model/prophet_model.bin', 'random', 'seed=50484', 'data', 'file=/tmp/tmpnc3vi0u7/jw7a5ght.json', 'init=/tmp/tmpnc3vi0u7/t3hqhvns.json', 'output', 'file=/tmp/tmpnc3vi0u7/prophet_model714yzxrt/prophet_model-20231001050931.csv', 'method=optimize', 'algorithm=lbfgs', 'iter=10000']\n",
            "05:09:31 - cmdstanpy - INFO - Chain [1] start processing\n",
            "INFO:cmdstanpy:Chain [1] start processing\n",
            "05:09:31 - cmdstanpy - INFO - Chain [1] done processing\n",
            "INFO:cmdstanpy:Chain [1] done processing\n"
          ]
        },
        {
          "output_type": "stream",
          "name": "stdout",
          "text": [
            "+++++++++++++++++++++++++++++++++++++++++++++++++++++++++++++++++++++++++++++++++++++++ [('Prophet', 213.0074), ('ARIMA', 31.1349), ('ETS', 187.5519), ('XGBoost', 158.0953)]\n",
            "+++++++++++++++++++++++++++++++++++++++++++++++++++++++++++++++++++++++++++++++++++++++ ARIMA 72 347 3\n"
          ]
        },
        {
          "output_type": "stream",
          "name": "stderr",
          "text": [
            "/usr/local/lib/python3.10/dist-packages/statsmodels/tsa/base/tsa_model.py:473: ValueWarning: No frequency information was provided, so inferred frequency D will be used.\n",
            "  self._init_dates(dates, freq)\n",
            "/usr/local/lib/python3.10/dist-packages/statsmodels/tsa/holtwinters/model.py:917: ConvergenceWarning: Optimization failed to converge. Check mle_retvals.\n",
            "  warnings.warn(\n",
            "<ipython-input-10-fd7e9e95ee04>:69: FutureWarning: The frame.append method is deprecated and will be removed from pandas in a future version. Use pandas.concat instead.\n",
            "  results_df = results_df.append(result_dict, ignore_index=True)\n",
            "INFO:prophet:Disabling yearly seasonality. Run prophet with yearly_seasonality=True to override this.\n",
            "INFO:prophet:Disabling daily seasonality. Run prophet with daily_seasonality=True to override this.\n",
            "DEBUG:cmdstanpy:input tempfile: /tmp/tmpnc3vi0u7/k_4m61kz.json\n",
            "DEBUG:cmdstanpy:input tempfile: /tmp/tmpnc3vi0u7/qva95nsm.json\n",
            "DEBUG:cmdstanpy:idx 0\n",
            "DEBUG:cmdstanpy:running CmdStan, num_threads: None\n",
            "DEBUG:cmdstanpy:CmdStan args: ['/usr/local/lib/python3.10/dist-packages/prophet/stan_model/prophet_model.bin', 'random', 'seed=61587', 'data', 'file=/tmp/tmpnc3vi0u7/k_4m61kz.json', 'init=/tmp/tmpnc3vi0u7/qva95nsm.json', 'output', 'file=/tmp/tmpnc3vi0u7/prophet_modelynikywpl/prophet_model-20231001050947.csv', 'method=optimize', 'algorithm=lbfgs', 'iter=10000']\n",
            "05:09:47 - cmdstanpy - INFO - Chain [1] start processing\n",
            "INFO:cmdstanpy:Chain [1] start processing\n",
            "05:09:47 - cmdstanpy - INFO - Chain [1] done processing\n",
            "INFO:cmdstanpy:Chain [1] done processing\n"
          ]
        },
        {
          "output_type": "stream",
          "name": "stdout",
          "text": [
            "+++++++++++++++++++++++++++++++++++++++++++++++++++++++++++++++++++++++++++++++++++++++ [('Prophet', 83.9028), ('ARIMA', 7.1792), ('ETS', 45.2014), ('XGBoost', 27.8397)]\n",
            "+++++++++++++++++++++++++++++++++++++++++++++++++++++++++++++++++++++++++++++++++++++++ ARIMA 73 350 3\n"
          ]
        },
        {
          "output_type": "stream",
          "name": "stderr",
          "text": [
            "/usr/local/lib/python3.10/dist-packages/statsmodels/tsa/base/tsa_model.py:473: ValueWarning: No frequency information was provided, so inferred frequency D will be used.\n",
            "  self._init_dates(dates, freq)\n",
            "/usr/local/lib/python3.10/dist-packages/statsmodels/tsa/holtwinters/model.py:917: ConvergenceWarning: Optimization failed to converge. Check mle_retvals.\n",
            "  warnings.warn(\n",
            "<ipython-input-10-fd7e9e95ee04>:69: FutureWarning: The frame.append method is deprecated and will be removed from pandas in a future version. Use pandas.concat instead.\n",
            "  results_df = results_df.append(result_dict, ignore_index=True)\n",
            "INFO:prophet:Disabling yearly seasonality. Run prophet with yearly_seasonality=True to override this.\n",
            "INFO:prophet:Disabling daily seasonality. Run prophet with daily_seasonality=True to override this.\n",
            "DEBUG:cmdstanpy:input tempfile: /tmp/tmpnc3vi0u7/q88zs7tx.json\n",
            "DEBUG:cmdstanpy:input tempfile: /tmp/tmpnc3vi0u7/o85tydmb.json\n",
            "DEBUG:cmdstanpy:idx 0\n",
            "DEBUG:cmdstanpy:running CmdStan, num_threads: None\n",
            "DEBUG:cmdstanpy:CmdStan args: ['/usr/local/lib/python3.10/dist-packages/prophet/stan_model/prophet_model.bin', 'random', 'seed=17024', 'data', 'file=/tmp/tmpnc3vi0u7/q88zs7tx.json', 'init=/tmp/tmpnc3vi0u7/o85tydmb.json', 'output', 'file=/tmp/tmpnc3vi0u7/prophet_modelww8a6jih/prophet_model-20231001050958.csv', 'method=optimize', 'algorithm=lbfgs', 'iter=10000']\n",
            "05:09:58 - cmdstanpy - INFO - Chain [1] start processing\n",
            "INFO:cmdstanpy:Chain [1] start processing\n",
            "05:09:59 - cmdstanpy - INFO - Chain [1] done processing\n",
            "INFO:cmdstanpy:Chain [1] done processing\n"
          ]
        },
        {
          "output_type": "stream",
          "name": "stdout",
          "text": [
            "+++++++++++++++++++++++++++++++++++++++++++++++++++++++++++++++++++++++++++++++++++++++ [('Prophet', 103.6535), ('ARIMA', 19.9693), ('ETS', 39.389), ('XGBoost', 21.0306)]\n",
            "+++++++++++++++++++++++++++++++++++++++++++++++++++++++++++++++++++++++++++++++++++++++ ARIMA 74 353 3\n"
          ]
        },
        {
          "output_type": "stream",
          "name": "stderr",
          "text": [
            "/usr/local/lib/python3.10/dist-packages/statsmodels/tsa/base/tsa_model.py:473: ValueWarning: No frequency information was provided, so inferred frequency D will be used.\n",
            "  self._init_dates(dates, freq)\n",
            "/usr/local/lib/python3.10/dist-packages/statsmodels/tsa/holtwinters/model.py:917: ConvergenceWarning: Optimization failed to converge. Check mle_retvals.\n",
            "  warnings.warn(\n",
            "<ipython-input-10-fd7e9e95ee04>:69: FutureWarning: The frame.append method is deprecated and will be removed from pandas in a future version. Use pandas.concat instead.\n",
            "  results_df = results_df.append(result_dict, ignore_index=True)\n",
            "INFO:prophet:Disabling yearly seasonality. Run prophet with yearly_seasonality=True to override this.\n",
            "INFO:prophet:Disabling daily seasonality. Run prophet with daily_seasonality=True to override this.\n",
            "DEBUG:cmdstanpy:input tempfile: /tmp/tmpnc3vi0u7/l6wx92vg.json\n",
            "DEBUG:cmdstanpy:input tempfile: /tmp/tmpnc3vi0u7/0_b2um1b.json\n",
            "DEBUG:cmdstanpy:idx 0\n",
            "DEBUG:cmdstanpy:running CmdStan, num_threads: None\n",
            "DEBUG:cmdstanpy:CmdStan args: ['/usr/local/lib/python3.10/dist-packages/prophet/stan_model/prophet_model.bin', 'random', 'seed=87689', 'data', 'file=/tmp/tmpnc3vi0u7/l6wx92vg.json', 'init=/tmp/tmpnc3vi0u7/0_b2um1b.json', 'output', 'file=/tmp/tmpnc3vi0u7/prophet_model59pr2i3i/prophet_model-20231001051011.csv', 'method=optimize', 'algorithm=lbfgs', 'iter=10000']\n",
            "05:10:11 - cmdstanpy - INFO - Chain [1] start processing\n",
            "INFO:cmdstanpy:Chain [1] start processing\n",
            "05:10:11 - cmdstanpy - INFO - Chain [1] done processing\n",
            "INFO:cmdstanpy:Chain [1] done processing\n"
          ]
        },
        {
          "output_type": "stream",
          "name": "stdout",
          "text": [
            "+++++++++++++++++++++++++++++++++++++++++++++++++++++++++++++++++++++++++++++++++++++++ [('Prophet', 217.4544), ('ARIMA', 61.9085), ('ETS', 128.8175), ('XGBoost', 188.6874)]\n",
            "+++++++++++++++++++++++++++++++++++++++++++++++++++++++++++++++++++++++++++++++++++++++ ARIMA 75 356 3\n"
          ]
        },
        {
          "output_type": "stream",
          "name": "stderr",
          "text": [
            "/usr/local/lib/python3.10/dist-packages/statsmodels/tsa/base/tsa_model.py:473: ValueWarning: No frequency information was provided, so inferred frequency D will be used.\n",
            "  self._init_dates(dates, freq)\n",
            "/usr/local/lib/python3.10/dist-packages/statsmodels/tsa/holtwinters/model.py:917: ConvergenceWarning: Optimization failed to converge. Check mle_retvals.\n",
            "  warnings.warn(\n",
            "<ipython-input-10-fd7e9e95ee04>:69: FutureWarning: The frame.append method is deprecated and will be removed from pandas in a future version. Use pandas.concat instead.\n",
            "  results_df = results_df.append(result_dict, ignore_index=True)\n",
            "INFO:prophet:Disabling yearly seasonality. Run prophet with yearly_seasonality=True to override this.\n",
            "INFO:prophet:Disabling daily seasonality. Run prophet with daily_seasonality=True to override this.\n",
            "DEBUG:cmdstanpy:input tempfile: /tmp/tmpnc3vi0u7/idpbi8sp.json\n",
            "DEBUG:cmdstanpy:input tempfile: /tmp/tmpnc3vi0u7/s0b7av4t.json\n",
            "DEBUG:cmdstanpy:idx 0\n",
            "DEBUG:cmdstanpy:running CmdStan, num_threads: None\n",
            "DEBUG:cmdstanpy:CmdStan args: ['/usr/local/lib/python3.10/dist-packages/prophet/stan_model/prophet_model.bin', 'random', 'seed=74531', 'data', 'file=/tmp/tmpnc3vi0u7/idpbi8sp.json', 'init=/tmp/tmpnc3vi0u7/s0b7av4t.json', 'output', 'file=/tmp/tmpnc3vi0u7/prophet_model3wkencs_/prophet_model-20231001051024.csv', 'method=optimize', 'algorithm=lbfgs', 'iter=10000']\n",
            "05:10:24 - cmdstanpy - INFO - Chain [1] start processing\n",
            "INFO:cmdstanpy:Chain [1] start processing\n",
            "05:10:24 - cmdstanpy - INFO - Chain [1] done processing\n",
            "INFO:cmdstanpy:Chain [1] done processing\n"
          ]
        },
        {
          "output_type": "stream",
          "name": "stdout",
          "text": [
            "+++++++++++++++++++++++++++++++++++++++++++++++++++++++++++++++++++++++++++++++++++++++ [('Prophet', 75.0395), ('ARIMA', 18.7969), ('ETS', 19.9147), ('XGBoost', 38.3382)]\n",
            "+++++++++++++++++++++++++++++++++++++++++++++++++++++++++++++++++++++++++++++++++++++++ ARIMA 76 359 3\n"
          ]
        },
        {
          "output_type": "stream",
          "name": "stderr",
          "text": [
            "/usr/local/lib/python3.10/dist-packages/statsmodels/tsa/base/tsa_model.py:473: ValueWarning: No frequency information was provided, so inferred frequency D will be used.\n",
            "  self._init_dates(dates, freq)\n",
            "/usr/local/lib/python3.10/dist-packages/statsmodels/tsa/holtwinters/model.py:917: ConvergenceWarning: Optimization failed to converge. Check mle_retvals.\n",
            "  warnings.warn(\n",
            "<ipython-input-10-fd7e9e95ee04>:69: FutureWarning: The frame.append method is deprecated and will be removed from pandas in a future version. Use pandas.concat instead.\n",
            "  results_df = results_df.append(result_dict, ignore_index=True)\n",
            "INFO:prophet:Disabling yearly seasonality. Run prophet with yearly_seasonality=True to override this.\n",
            "INFO:prophet:Disabling daily seasonality. Run prophet with daily_seasonality=True to override this.\n",
            "DEBUG:cmdstanpy:input tempfile: /tmp/tmpnc3vi0u7/34spgfcb.json\n",
            "DEBUG:cmdstanpy:input tempfile: /tmp/tmpnc3vi0u7/lsa24r12.json\n",
            "DEBUG:cmdstanpy:idx 0\n",
            "DEBUG:cmdstanpy:running CmdStan, num_threads: None\n",
            "DEBUG:cmdstanpy:CmdStan args: ['/usr/local/lib/python3.10/dist-packages/prophet/stan_model/prophet_model.bin', 'random', 'seed=45797', 'data', 'file=/tmp/tmpnc3vi0u7/34spgfcb.json', 'init=/tmp/tmpnc3vi0u7/lsa24r12.json', 'output', 'file=/tmp/tmpnc3vi0u7/prophet_modelavxbvuro/prophet_model-20231001051037.csv', 'method=optimize', 'algorithm=lbfgs', 'iter=10000']\n",
            "05:10:37 - cmdstanpy - INFO - Chain [1] start processing\n",
            "INFO:cmdstanpy:Chain [1] start processing\n",
            "05:10:37 - cmdstanpy - INFO - Chain [1] done processing\n",
            "INFO:cmdstanpy:Chain [1] done processing\n"
          ]
        },
        {
          "output_type": "stream",
          "name": "stdout",
          "text": [
            "+++++++++++++++++++++++++++++++++++++++++++++++++++++++++++++++++++++++++++++++++++++++ [('Prophet', 232.7726), ('ARIMA', 44.1018), ('ETS', 127.2873), ('XGBoost', 904.3773)]\n",
            "+++++++++++++++++++++++++++++++++++++++++++++++++++++++++++++++++++++++++++++++++++++++ ARIMA 77 362 3\n"
          ]
        },
        {
          "output_type": "stream",
          "name": "stderr",
          "text": [
            "/usr/local/lib/python3.10/dist-packages/statsmodels/tsa/base/tsa_model.py:473: ValueWarning: No frequency information was provided, so inferred frequency D will be used.\n",
            "  self._init_dates(dates, freq)\n",
            "/usr/local/lib/python3.10/dist-packages/statsmodels/tsa/holtwinters/model.py:917: ConvergenceWarning: Optimization failed to converge. Check mle_retvals.\n",
            "  warnings.warn(\n",
            "<ipython-input-10-fd7e9e95ee04>:69: FutureWarning: The frame.append method is deprecated and will be removed from pandas in a future version. Use pandas.concat instead.\n",
            "  results_df = results_df.append(result_dict, ignore_index=True)\n",
            "INFO:prophet:Disabling yearly seasonality. Run prophet with yearly_seasonality=True to override this.\n",
            "INFO:prophet:Disabling daily seasonality. Run prophet with daily_seasonality=True to override this.\n",
            "DEBUG:cmdstanpy:input tempfile: /tmp/tmpnc3vi0u7/j5gsbo61.json\n",
            "DEBUG:cmdstanpy:input tempfile: /tmp/tmpnc3vi0u7/zi7o5e4w.json\n",
            "DEBUG:cmdstanpy:idx 0\n",
            "DEBUG:cmdstanpy:running CmdStan, num_threads: None\n",
            "DEBUG:cmdstanpy:CmdStan args: ['/usr/local/lib/python3.10/dist-packages/prophet/stan_model/prophet_model.bin', 'random', 'seed=80115', 'data', 'file=/tmp/tmpnc3vi0u7/j5gsbo61.json', 'init=/tmp/tmpnc3vi0u7/zi7o5e4w.json', 'output', 'file=/tmp/tmpnc3vi0u7/prophet_model0d720g21/prophet_model-20231001051049.csv', 'method=optimize', 'algorithm=lbfgs', 'iter=10000']\n",
            "05:10:49 - cmdstanpy - INFO - Chain [1] start processing\n",
            "INFO:cmdstanpy:Chain [1] start processing\n",
            "05:10:49 - cmdstanpy - INFO - Chain [1] done processing\n",
            "INFO:cmdstanpy:Chain [1] done processing\n"
          ]
        },
        {
          "output_type": "stream",
          "name": "stdout",
          "text": [
            "+++++++++++++++++++++++++++++++++++++++++++++++++++++++++++++++++++++++++++++++++++++++ [('Prophet', 75.1875), ('ARIMA', 6.7245), ('ETS', 41.9491), ('XGBoost', 6.2451)]\n",
            "+++++++++++++++++++++++++++++++++++++++++++++++++++++++++++++++++++++++++++++++++++++++ XGBoost 78 365 3\n"
          ]
        },
        {
          "output_type": "stream",
          "name": "stderr",
          "text": [
            "/usr/local/lib/python3.10/dist-packages/statsmodels/tsa/base/tsa_model.py:473: ValueWarning: No frequency information was provided, so inferred frequency D will be used.\n",
            "  self._init_dates(dates, freq)\n",
            "/usr/local/lib/python3.10/dist-packages/statsmodels/tsa/holtwinters/model.py:917: ConvergenceWarning: Optimization failed to converge. Check mle_retvals.\n",
            "  warnings.warn(\n",
            "<ipython-input-10-fd7e9e95ee04>:69: FutureWarning: The frame.append method is deprecated and will be removed from pandas in a future version. Use pandas.concat instead.\n",
            "  results_df = results_df.append(result_dict, ignore_index=True)\n",
            "INFO:prophet:Disabling yearly seasonality. Run prophet with yearly_seasonality=True to override this.\n",
            "INFO:prophet:Disabling daily seasonality. Run prophet with daily_seasonality=True to override this.\n",
            "DEBUG:cmdstanpy:input tempfile: /tmp/tmpnc3vi0u7/3fycwlh4.json\n",
            "DEBUG:cmdstanpy:input tempfile: /tmp/tmpnc3vi0u7/ze7ba8_u.json\n",
            "DEBUG:cmdstanpy:idx 0\n",
            "DEBUG:cmdstanpy:running CmdStan, num_threads: None\n",
            "DEBUG:cmdstanpy:CmdStan args: ['/usr/local/lib/python3.10/dist-packages/prophet/stan_model/prophet_model.bin', 'random', 'seed=69699', 'data', 'file=/tmp/tmpnc3vi0u7/3fycwlh4.json', 'init=/tmp/tmpnc3vi0u7/ze7ba8_u.json', 'output', 'file=/tmp/tmpnc3vi0u7/prophet_modela317dvjx/prophet_model-20231001051102.csv', 'method=optimize', 'algorithm=lbfgs', 'iter=10000']\n",
            "05:11:02 - cmdstanpy - INFO - Chain [1] start processing\n",
            "INFO:cmdstanpy:Chain [1] start processing\n",
            "05:11:02 - cmdstanpy - INFO - Chain [1] done processing\n",
            "INFO:cmdstanpy:Chain [1] done processing\n"
          ]
        },
        {
          "output_type": "stream",
          "name": "stdout",
          "text": [
            "+++++++++++++++++++++++++++++++++++++++++++++++++++++++++++++++++++++++++++++++++++++++ [('Prophet', 274.7808), ('ARIMA', 68.1954), ('ETS', 181.8978), ('XGBoost', 222.2073)]\n",
            "+++++++++++++++++++++++++++++++++++++++++++++++++++++++++++++++++++++++++++++++++++++++ ARIMA 79 368 3\n"
          ]
        },
        {
          "output_type": "stream",
          "name": "stderr",
          "text": [
            "/usr/local/lib/python3.10/dist-packages/statsmodels/tsa/base/tsa_model.py:473: ValueWarning: No frequency information was provided, so inferred frequency D will be used.\n",
            "  self._init_dates(dates, freq)\n",
            "/usr/local/lib/python3.10/dist-packages/statsmodels/tsa/holtwinters/model.py:917: ConvergenceWarning: Optimization failed to converge. Check mle_retvals.\n",
            "  warnings.warn(\n",
            "<ipython-input-10-fd7e9e95ee04>:69: FutureWarning: The frame.append method is deprecated and will be removed from pandas in a future version. Use pandas.concat instead.\n",
            "  results_df = results_df.append(result_dict, ignore_index=True)\n",
            "INFO:prophet:Disabling yearly seasonality. Run prophet with yearly_seasonality=True to override this.\n",
            "INFO:prophet:Disabling daily seasonality. Run prophet with daily_seasonality=True to override this.\n",
            "DEBUG:cmdstanpy:input tempfile: /tmp/tmpnc3vi0u7/c91t2jp7.json\n",
            "DEBUG:cmdstanpy:input tempfile: /tmp/tmpnc3vi0u7/vmzgntlh.json\n",
            "DEBUG:cmdstanpy:idx 0\n",
            "DEBUG:cmdstanpy:running CmdStan, num_threads: None\n",
            "DEBUG:cmdstanpy:CmdStan args: ['/usr/local/lib/python3.10/dist-packages/prophet/stan_model/prophet_model.bin', 'random', 'seed=99627', 'data', 'file=/tmp/tmpnc3vi0u7/c91t2jp7.json', 'init=/tmp/tmpnc3vi0u7/vmzgntlh.json', 'output', 'file=/tmp/tmpnc3vi0u7/prophet_model8ktmk25u/prophet_model-20231001051113.csv', 'method=optimize', 'algorithm=lbfgs', 'iter=10000']\n",
            "05:11:13 - cmdstanpy - INFO - Chain [1] start processing\n",
            "INFO:cmdstanpy:Chain [1] start processing\n",
            "05:11:13 - cmdstanpy - INFO - Chain [1] done processing\n",
            "INFO:cmdstanpy:Chain [1] done processing\n"
          ]
        },
        {
          "output_type": "stream",
          "name": "stdout",
          "text": [
            "+++++++++++++++++++++++++++++++++++++++++++++++++++++++++++++++++++++++++++++++++++++++ [('Prophet', 71.7363), ('ARIMA', 18.1779), ('ETS', 29.0332), ('XGBoost', 14.8801)]\n",
            "+++++++++++++++++++++++++++++++++++++++++++++++++++++++++++++++++++++++++++++++++++++++ XGBoost 80 371 3\n"
          ]
        },
        {
          "output_type": "stream",
          "name": "stderr",
          "text": [
            "/usr/local/lib/python3.10/dist-packages/statsmodels/tsa/base/tsa_model.py:473: ValueWarning: No frequency information was provided, so inferred frequency D will be used.\n",
            "  self._init_dates(dates, freq)\n",
            "/usr/local/lib/python3.10/dist-packages/statsmodels/tsa/holtwinters/model.py:917: ConvergenceWarning: Optimization failed to converge. Check mle_retvals.\n",
            "  warnings.warn(\n",
            "<ipython-input-10-fd7e9e95ee04>:69: FutureWarning: The frame.append method is deprecated and will be removed from pandas in a future version. Use pandas.concat instead.\n",
            "  results_df = results_df.append(result_dict, ignore_index=True)\n",
            "INFO:prophet:Disabling yearly seasonality. Run prophet with yearly_seasonality=True to override this.\n",
            "INFO:prophet:Disabling daily seasonality. Run prophet with daily_seasonality=True to override this.\n",
            "DEBUG:cmdstanpy:input tempfile: /tmp/tmpnc3vi0u7/ktj9sd_c.json\n",
            "DEBUG:cmdstanpy:input tempfile: /tmp/tmpnc3vi0u7/rulgjhw6.json\n",
            "DEBUG:cmdstanpy:idx 0\n",
            "DEBUG:cmdstanpy:running CmdStan, num_threads: None\n",
            "DEBUG:cmdstanpy:CmdStan args: ['/usr/local/lib/python3.10/dist-packages/prophet/stan_model/prophet_model.bin', 'random', 'seed=31377', 'data', 'file=/tmp/tmpnc3vi0u7/ktj9sd_c.json', 'init=/tmp/tmpnc3vi0u7/rulgjhw6.json', 'output', 'file=/tmp/tmpnc3vi0u7/prophet_model9iqn2gmy/prophet_model-20231001051126.csv', 'method=optimize', 'algorithm=lbfgs', 'iter=10000']\n",
            "05:11:26 - cmdstanpy - INFO - Chain [1] start processing\n",
            "INFO:cmdstanpy:Chain [1] start processing\n",
            "05:11:26 - cmdstanpy - INFO - Chain [1] done processing\n",
            "INFO:cmdstanpy:Chain [1] done processing\n"
          ]
        },
        {
          "output_type": "stream",
          "name": "stdout",
          "text": [
            "+++++++++++++++++++++++++++++++++++++++++++++++++++++++++++++++++++++++++++++++++++++++ [('Prophet', 101.6271), ('ARIMA', 14.6879), ('ETS', 39.1231), ('XGBoost', 28.4904)]\n",
            "+++++++++++++++++++++++++++++++++++++++++++++++++++++++++++++++++++++++++++++++++++++++ ARIMA 81 374 3\n"
          ]
        },
        {
          "output_type": "stream",
          "name": "stderr",
          "text": [
            "/usr/local/lib/python3.10/dist-packages/statsmodels/tsa/base/tsa_model.py:473: ValueWarning: No frequency information was provided, so inferred frequency D will be used.\n",
            "  self._init_dates(dates, freq)\n",
            "/usr/local/lib/python3.10/dist-packages/statsmodels/tsa/holtwinters/model.py:917: ConvergenceWarning: Optimization failed to converge. Check mle_retvals.\n",
            "  warnings.warn(\n",
            "<ipython-input-10-fd7e9e95ee04>:69: FutureWarning: The frame.append method is deprecated and will be removed from pandas in a future version. Use pandas.concat instead.\n",
            "  results_df = results_df.append(result_dict, ignore_index=True)\n",
            "INFO:prophet:Disabling yearly seasonality. Run prophet with yearly_seasonality=True to override this.\n",
            "INFO:prophet:Disabling daily seasonality. Run prophet with daily_seasonality=True to override this.\n",
            "DEBUG:cmdstanpy:input tempfile: /tmp/tmpnc3vi0u7/uknvl6nd.json\n",
            "DEBUG:cmdstanpy:input tempfile: /tmp/tmpnc3vi0u7/omy1bz56.json\n",
            "DEBUG:cmdstanpy:idx 0\n",
            "DEBUG:cmdstanpy:running CmdStan, num_threads: None\n",
            "DEBUG:cmdstanpy:CmdStan args: ['/usr/local/lib/python3.10/dist-packages/prophet/stan_model/prophet_model.bin', 'random', 'seed=48552', 'data', 'file=/tmp/tmpnc3vi0u7/uknvl6nd.json', 'init=/tmp/tmpnc3vi0u7/omy1bz56.json', 'output', 'file=/tmp/tmpnc3vi0u7/prophet_modelw59c6nw6/prophet_model-20231001051139.csv', 'method=optimize', 'algorithm=lbfgs', 'iter=10000']\n",
            "05:11:39 - cmdstanpy - INFO - Chain [1] start processing\n",
            "INFO:cmdstanpy:Chain [1] start processing\n",
            "05:11:39 - cmdstanpy - INFO - Chain [1] done processing\n",
            "INFO:cmdstanpy:Chain [1] done processing\n"
          ]
        },
        {
          "output_type": "stream",
          "name": "stdout",
          "text": [
            "+++++++++++++++++++++++++++++++++++++++++++++++++++++++++++++++++++++++++++++++++++++++ [('Prophet', 246.8618), ('ARIMA', 67.2411), ('ETS', 137.12), ('XGBoost', 135.6537)]\n",
            "+++++++++++++++++++++++++++++++++++++++++++++++++++++++++++++++++++++++++++++++++++++++ ARIMA 82 377 3\n"
          ]
        },
        {
          "output_type": "stream",
          "name": "stderr",
          "text": [
            "/usr/local/lib/python3.10/dist-packages/statsmodels/tsa/base/tsa_model.py:473: ValueWarning: No frequency information was provided, so inferred frequency D will be used.\n",
            "  self._init_dates(dates, freq)\n",
            "/usr/local/lib/python3.10/dist-packages/statsmodels/tsa/holtwinters/model.py:917: ConvergenceWarning: Optimization failed to converge. Check mle_retvals.\n",
            "  warnings.warn(\n",
            "<ipython-input-10-fd7e9e95ee04>:69: FutureWarning: The frame.append method is deprecated and will be removed from pandas in a future version. Use pandas.concat instead.\n",
            "  results_df = results_df.append(result_dict, ignore_index=True)\n",
            "INFO:prophet:Disabling yearly seasonality. Run prophet with yearly_seasonality=True to override this.\n",
            "INFO:prophet:Disabling daily seasonality. Run prophet with daily_seasonality=True to override this.\n",
            "DEBUG:cmdstanpy:input tempfile: /tmp/tmpnc3vi0u7/8c4tlqes.json\n",
            "DEBUG:cmdstanpy:input tempfile: /tmp/tmpnc3vi0u7/stboar66.json\n",
            "DEBUG:cmdstanpy:idx 0\n",
            "DEBUG:cmdstanpy:running CmdStan, num_threads: None\n",
            "DEBUG:cmdstanpy:CmdStan args: ['/usr/local/lib/python3.10/dist-packages/prophet/stan_model/prophet_model.bin', 'random', 'seed=88217', 'data', 'file=/tmp/tmpnc3vi0u7/8c4tlqes.json', 'init=/tmp/tmpnc3vi0u7/stboar66.json', 'output', 'file=/tmp/tmpnc3vi0u7/prophet_modelbvphx11v/prophet_model-20231001051156.csv', 'method=optimize', 'algorithm=lbfgs', 'iter=10000']\n",
            "05:11:56 - cmdstanpy - INFO - Chain [1] start processing\n",
            "INFO:cmdstanpy:Chain [1] start processing\n",
            "05:11:56 - cmdstanpy - INFO - Chain [1] done processing\n",
            "INFO:cmdstanpy:Chain [1] done processing\n"
          ]
        },
        {
          "output_type": "stream",
          "name": "stdout",
          "text": [
            "+++++++++++++++++++++++++++++++++++++++++++++++++++++++++++++++++++++++++++++++++++++++ [('Prophet', 58.643), ('ARIMA', 9.9822), ('ETS', 22.9985), ('XGBoost', 27.5085)]\n",
            "+++++++++++++++++++++++++++++++++++++++++++++++++++++++++++++++++++++++++++++++++++++++ ARIMA 83 380 3\n"
          ]
        },
        {
          "output_type": "stream",
          "name": "stderr",
          "text": [
            "/usr/local/lib/python3.10/dist-packages/statsmodels/tsa/base/tsa_model.py:473: ValueWarning: No frequency information was provided, so inferred frequency D will be used.\n",
            "  self._init_dates(dates, freq)\n",
            "/usr/local/lib/python3.10/dist-packages/statsmodels/tsa/holtwinters/model.py:917: ConvergenceWarning: Optimization failed to converge. Check mle_retvals.\n",
            "  warnings.warn(\n",
            "<ipython-input-10-fd7e9e95ee04>:69: FutureWarning: The frame.append method is deprecated and will be removed from pandas in a future version. Use pandas.concat instead.\n",
            "  results_df = results_df.append(result_dict, ignore_index=True)\n",
            "INFO:prophet:Disabling yearly seasonality. Run prophet with yearly_seasonality=True to override this.\n",
            "INFO:prophet:Disabling daily seasonality. Run prophet with daily_seasonality=True to override this.\n",
            "DEBUG:cmdstanpy:input tempfile: /tmp/tmpnc3vi0u7/5vs04yw_.json\n",
            "DEBUG:cmdstanpy:input tempfile: /tmp/tmpnc3vi0u7/dimpgesr.json\n",
            "DEBUG:cmdstanpy:idx 0\n",
            "DEBUG:cmdstanpy:running CmdStan, num_threads: None\n",
            "DEBUG:cmdstanpy:CmdStan args: ['/usr/local/lib/python3.10/dist-packages/prophet/stan_model/prophet_model.bin', 'random', 'seed=49469', 'data', 'file=/tmp/tmpnc3vi0u7/5vs04yw_.json', 'init=/tmp/tmpnc3vi0u7/dimpgesr.json', 'output', 'file=/tmp/tmpnc3vi0u7/prophet_models5xbkvdt/prophet_model-20231001051209.csv', 'method=optimize', 'algorithm=lbfgs', 'iter=10000']\n",
            "05:12:09 - cmdstanpy - INFO - Chain [1] start processing\n",
            "INFO:cmdstanpy:Chain [1] start processing\n",
            "05:12:09 - cmdstanpy - INFO - Chain [1] done processing\n",
            "INFO:cmdstanpy:Chain [1] done processing\n"
          ]
        },
        {
          "output_type": "stream",
          "name": "stdout",
          "text": [
            "+++++++++++++++++++++++++++++++++++++++++++++++++++++++++++++++++++++++++++++++++++++++ [('Prophet', 214.5455), ('ARIMA', 50.0221), ('ETS', 236.3832), ('XGBoost', 143.0663)]\n",
            "+++++++++++++++++++++++++++++++++++++++++++++++++++++++++++++++++++++++++++++++++++++++ ARIMA 84 383 3\n"
          ]
        },
        {
          "output_type": "stream",
          "name": "stderr",
          "text": [
            "/usr/local/lib/python3.10/dist-packages/statsmodels/tsa/base/tsa_model.py:473: ValueWarning: No frequency information was provided, so inferred frequency D will be used.\n",
            "  self._init_dates(dates, freq)\n",
            "/usr/local/lib/python3.10/dist-packages/statsmodels/tsa/holtwinters/model.py:917: ConvergenceWarning: Optimization failed to converge. Check mle_retvals.\n",
            "  warnings.warn(\n",
            "<ipython-input-10-fd7e9e95ee04>:69: FutureWarning: The frame.append method is deprecated and will be removed from pandas in a future version. Use pandas.concat instead.\n",
            "  results_df = results_df.append(result_dict, ignore_index=True)\n",
            "INFO:prophet:Disabling yearly seasonality. Run prophet with yearly_seasonality=True to override this.\n",
            "INFO:prophet:Disabling daily seasonality. Run prophet with daily_seasonality=True to override this.\n",
            "DEBUG:cmdstanpy:input tempfile: /tmp/tmpnc3vi0u7/w3qjr8uk.json\n",
            "DEBUG:cmdstanpy:input tempfile: /tmp/tmpnc3vi0u7/cgi3t1h0.json\n",
            "DEBUG:cmdstanpy:idx 0\n",
            "DEBUG:cmdstanpy:running CmdStan, num_threads: None\n",
            "DEBUG:cmdstanpy:CmdStan args: ['/usr/local/lib/python3.10/dist-packages/prophet/stan_model/prophet_model.bin', 'random', 'seed=75363', 'data', 'file=/tmp/tmpnc3vi0u7/w3qjr8uk.json', 'init=/tmp/tmpnc3vi0u7/cgi3t1h0.json', 'output', 'file=/tmp/tmpnc3vi0u7/prophet_model4_0zfnz_/prophet_model-20231001051222.csv', 'method=optimize', 'algorithm=lbfgs', 'iter=10000']\n",
            "05:12:22 - cmdstanpy - INFO - Chain [1] start processing\n",
            "INFO:cmdstanpy:Chain [1] start processing\n",
            "05:12:22 - cmdstanpy - INFO - Chain [1] done processing\n",
            "INFO:cmdstanpy:Chain [1] done processing\n"
          ]
        },
        {
          "output_type": "stream",
          "name": "stdout",
          "text": [
            "+++++++++++++++++++++++++++++++++++++++++++++++++++++++++++++++++++++++++++++++++++++++ [('Prophet', 56.5377), ('ARIMA', 15.0784), ('ETS', 43.3378), ('XGBoost', 23.4344)]\n",
            "+++++++++++++++++++++++++++++++++++++++++++++++++++++++++++++++++++++++++++++++++++++++ ARIMA 85 386 3\n"
          ]
        },
        {
          "output_type": "stream",
          "name": "stderr",
          "text": [
            "/usr/local/lib/python3.10/dist-packages/statsmodels/tsa/base/tsa_model.py:473: ValueWarning: No frequency information was provided, so inferred frequency D will be used.\n",
            "  self._init_dates(dates, freq)\n",
            "/usr/local/lib/python3.10/dist-packages/statsmodels/tsa/holtwinters/model.py:917: ConvergenceWarning: Optimization failed to converge. Check mle_retvals.\n",
            "  warnings.warn(\n",
            "<ipython-input-10-fd7e9e95ee04>:69: FutureWarning: The frame.append method is deprecated and will be removed from pandas in a future version. Use pandas.concat instead.\n",
            "  results_df = results_df.append(result_dict, ignore_index=True)\n",
            "INFO:prophet:Disabling yearly seasonality. Run prophet with yearly_seasonality=True to override this.\n",
            "INFO:prophet:Disabling daily seasonality. Run prophet with daily_seasonality=True to override this.\n",
            "DEBUG:cmdstanpy:input tempfile: /tmp/tmpnc3vi0u7/1fmjhqg2.json\n",
            "DEBUG:cmdstanpy:input tempfile: /tmp/tmpnc3vi0u7/uywhxyhq.json\n",
            "DEBUG:cmdstanpy:idx 0\n",
            "DEBUG:cmdstanpy:running CmdStan, num_threads: None\n",
            "DEBUG:cmdstanpy:CmdStan args: ['/usr/local/lib/python3.10/dist-packages/prophet/stan_model/prophet_model.bin', 'random', 'seed=90435', 'data', 'file=/tmp/tmpnc3vi0u7/1fmjhqg2.json', 'init=/tmp/tmpnc3vi0u7/uywhxyhq.json', 'output', 'file=/tmp/tmpnc3vi0u7/prophet_modelu7dyx1e6/prophet_model-20231001051233.csv', 'method=optimize', 'algorithm=lbfgs', 'iter=10000']\n",
            "05:12:33 - cmdstanpy - INFO - Chain [1] start processing\n",
            "INFO:cmdstanpy:Chain [1] start processing\n",
            "05:12:33 - cmdstanpy - INFO - Chain [1] done processing\n",
            "INFO:cmdstanpy:Chain [1] done processing\n"
          ]
        },
        {
          "output_type": "stream",
          "name": "stdout",
          "text": [
            "+++++++++++++++++++++++++++++++++++++++++++++++++++++++++++++++++++++++++++++++++++++++ [('Prophet', 197.3765), ('ARIMA', 29.7925), ('ETS', 94.0557), ('XGBoost', 104.5121)]\n",
            "+++++++++++++++++++++++++++++++++++++++++++++++++++++++++++++++++++++++++++++++++++++++ ARIMA 86 389 3\n"
          ]
        },
        {
          "output_type": "stream",
          "name": "stderr",
          "text": [
            "/usr/local/lib/python3.10/dist-packages/statsmodels/tsa/base/tsa_model.py:473: ValueWarning: No frequency information was provided, so inferred frequency D will be used.\n",
            "  self._init_dates(dates, freq)\n",
            "/usr/local/lib/python3.10/dist-packages/statsmodels/tsa/holtwinters/model.py:917: ConvergenceWarning: Optimization failed to converge. Check mle_retvals.\n",
            "  warnings.warn(\n",
            "<ipython-input-10-fd7e9e95ee04>:69: FutureWarning: The frame.append method is deprecated and will be removed from pandas in a future version. Use pandas.concat instead.\n",
            "  results_df = results_df.append(result_dict, ignore_index=True)\n",
            "INFO:prophet:Disabling yearly seasonality. Run prophet with yearly_seasonality=True to override this.\n",
            "INFO:prophet:Disabling daily seasonality. Run prophet with daily_seasonality=True to override this.\n",
            "DEBUG:cmdstanpy:input tempfile: /tmp/tmpnc3vi0u7/mtejyt48.json\n",
            "DEBUG:cmdstanpy:input tempfile: /tmp/tmpnc3vi0u7/c5_mr8rk.json\n",
            "DEBUG:cmdstanpy:idx 0\n",
            "DEBUG:cmdstanpy:running CmdStan, num_threads: None\n",
            "DEBUG:cmdstanpy:CmdStan args: ['/usr/local/lib/python3.10/dist-packages/prophet/stan_model/prophet_model.bin', 'random', 'seed=46649', 'data', 'file=/tmp/tmpnc3vi0u7/mtejyt48.json', 'init=/tmp/tmpnc3vi0u7/c5_mr8rk.json', 'output', 'file=/tmp/tmpnc3vi0u7/prophet_modeldb5efd3r/prophet_model-20231001051246.csv', 'method=optimize', 'algorithm=lbfgs', 'iter=10000']\n",
            "05:12:46 - cmdstanpy - INFO - Chain [1] start processing\n",
            "INFO:cmdstanpy:Chain [1] start processing\n",
            "05:12:46 - cmdstanpy - INFO - Chain [1] done processing\n",
            "INFO:cmdstanpy:Chain [1] done processing\n"
          ]
        },
        {
          "output_type": "stream",
          "name": "stdout",
          "text": [
            "+++++++++++++++++++++++++++++++++++++++++++++++++++++++++++++++++++++++++++++++++++++++ [('Prophet', 65.3998), ('ARIMA', 34.2909), ('ETS', 53.2709), ('XGBoost', 43.4909)]\n",
            "+++++++++++++++++++++++++++++++++++++++++++++++++++++++++++++++++++++++++++++++++++++++ ARIMA 87 392 3\n"
          ]
        },
        {
          "output_type": "stream",
          "name": "stderr",
          "text": [
            "/usr/local/lib/python3.10/dist-packages/statsmodels/tsa/base/tsa_model.py:473: ValueWarning: No frequency information was provided, so inferred frequency D will be used.\n",
            "  self._init_dates(dates, freq)\n",
            "/usr/local/lib/python3.10/dist-packages/statsmodels/tsa/holtwinters/model.py:917: ConvergenceWarning: Optimization failed to converge. Check mle_retvals.\n",
            "  warnings.warn(\n",
            "<ipython-input-10-fd7e9e95ee04>:69: FutureWarning: The frame.append method is deprecated and will be removed from pandas in a future version. Use pandas.concat instead.\n",
            "  results_df = results_df.append(result_dict, ignore_index=True)\n",
            "INFO:prophet:Disabling yearly seasonality. Run prophet with yearly_seasonality=True to override this.\n",
            "INFO:prophet:Disabling daily seasonality. Run prophet with daily_seasonality=True to override this.\n",
            "DEBUG:cmdstanpy:input tempfile: /tmp/tmpnc3vi0u7/ju148cww.json\n",
            "DEBUG:cmdstanpy:input tempfile: /tmp/tmpnc3vi0u7/htoe6ol9.json\n",
            "DEBUG:cmdstanpy:idx 0\n",
            "DEBUG:cmdstanpy:running CmdStan, num_threads: None\n",
            "DEBUG:cmdstanpy:CmdStan args: ['/usr/local/lib/python3.10/dist-packages/prophet/stan_model/prophet_model.bin', 'random', 'seed=93685', 'data', 'file=/tmp/tmpnc3vi0u7/ju148cww.json', 'init=/tmp/tmpnc3vi0u7/htoe6ol9.json', 'output', 'file=/tmp/tmpnc3vi0u7/prophet_modelzplyt1uf/prophet_model-20231001051300.csv', 'method=optimize', 'algorithm=lbfgs', 'iter=10000']\n",
            "05:13:00 - cmdstanpy - INFO - Chain [1] start processing\n",
            "INFO:cmdstanpy:Chain [1] start processing\n",
            "05:13:00 - cmdstanpy - INFO - Chain [1] done processing\n",
            "INFO:cmdstanpy:Chain [1] done processing\n"
          ]
        },
        {
          "output_type": "stream",
          "name": "stdout",
          "text": [
            "+++++++++++++++++++++++++++++++++++++++++++++++++++++++++++++++++++++++++++++++++++++++ [('Prophet', 80.2978), ('ARIMA', 18.1888), ('ETS', 43.1024), ('XGBoost', 43.6184)]\n",
            "+++++++++++++++++++++++++++++++++++++++++++++++++++++++++++++++++++++++++++++++++++++++ ARIMA 88 395 3\n"
          ]
        },
        {
          "output_type": "stream",
          "name": "stderr",
          "text": [
            "/usr/local/lib/python3.10/dist-packages/statsmodels/tsa/base/tsa_model.py:473: ValueWarning: No frequency information was provided, so inferred frequency D will be used.\n",
            "  self._init_dates(dates, freq)\n",
            "/usr/local/lib/python3.10/dist-packages/statsmodels/tsa/holtwinters/model.py:917: ConvergenceWarning: Optimization failed to converge. Check mle_retvals.\n",
            "  warnings.warn(\n",
            "<ipython-input-10-fd7e9e95ee04>:69: FutureWarning: The frame.append method is deprecated and will be removed from pandas in a future version. Use pandas.concat instead.\n",
            "  results_df = results_df.append(result_dict, ignore_index=True)\n",
            "INFO:prophet:Disabling yearly seasonality. Run prophet with yearly_seasonality=True to override this.\n",
            "INFO:prophet:Disabling daily seasonality. Run prophet with daily_seasonality=True to override this.\n",
            "DEBUG:cmdstanpy:input tempfile: /tmp/tmpnc3vi0u7/lbyzb7bf.json\n",
            "DEBUG:cmdstanpy:input tempfile: /tmp/tmpnc3vi0u7/vu7lo9sh.json\n",
            "DEBUG:cmdstanpy:idx 0\n",
            "DEBUG:cmdstanpy:running CmdStan, num_threads: None\n",
            "DEBUG:cmdstanpy:CmdStan args: ['/usr/local/lib/python3.10/dist-packages/prophet/stan_model/prophet_model.bin', 'random', 'seed=59629', 'data', 'file=/tmp/tmpnc3vi0u7/lbyzb7bf.json', 'init=/tmp/tmpnc3vi0u7/vu7lo9sh.json', 'output', 'file=/tmp/tmpnc3vi0u7/prophet_model74gw2_dk/prophet_model-20231001051313.csv', 'method=optimize', 'algorithm=lbfgs', 'iter=10000']\n",
            "05:13:13 - cmdstanpy - INFO - Chain [1] start processing\n",
            "INFO:cmdstanpy:Chain [1] start processing\n",
            "05:13:13 - cmdstanpy - INFO - Chain [1] done processing\n",
            "INFO:cmdstanpy:Chain [1] done processing\n"
          ]
        },
        {
          "output_type": "stream",
          "name": "stdout",
          "text": [
            "+++++++++++++++++++++++++++++++++++++++++++++++++++++++++++++++++++++++++++++++++++++++ [('Prophet', 223.3814), ('ARIMA', 307.0274), ('ETS', 247.8034), ('XGBoost', 399.7895)]\n",
            "+++++++++++++++++++++++++++++++++++++++++++++++++++++++++++++++++++++++++++++++++++++++ Prophet 89 398 3\n"
          ]
        },
        {
          "output_type": "stream",
          "name": "stderr",
          "text": [
            "/usr/local/lib/python3.10/dist-packages/statsmodels/tsa/base/tsa_model.py:473: ValueWarning: No frequency information was provided, so inferred frequency D will be used.\n",
            "  self._init_dates(dates, freq)\n",
            "/usr/local/lib/python3.10/dist-packages/statsmodels/tsa/holtwinters/model.py:917: ConvergenceWarning: Optimization failed to converge. Check mle_retvals.\n",
            "  warnings.warn(\n",
            "<ipython-input-10-fd7e9e95ee04>:69: FutureWarning: The frame.append method is deprecated and will be removed from pandas in a future version. Use pandas.concat instead.\n",
            "  results_df = results_df.append(result_dict, ignore_index=True)\n",
            "INFO:prophet:Disabling yearly seasonality. Run prophet with yearly_seasonality=True to override this.\n",
            "INFO:prophet:Disabling daily seasonality. Run prophet with daily_seasonality=True to override this.\n",
            "DEBUG:cmdstanpy:input tempfile: /tmp/tmpnc3vi0u7/znhuxjpi.json\n",
            "DEBUG:cmdstanpy:input tempfile: /tmp/tmpnc3vi0u7/_7_j3efd.json\n",
            "DEBUG:cmdstanpy:idx 0\n",
            "DEBUG:cmdstanpy:running CmdStan, num_threads: None\n",
            "DEBUG:cmdstanpy:CmdStan args: ['/usr/local/lib/python3.10/dist-packages/prophet/stan_model/prophet_model.bin', 'random', 'seed=47932', 'data', 'file=/tmp/tmpnc3vi0u7/znhuxjpi.json', 'init=/tmp/tmpnc3vi0u7/_7_j3efd.json', 'output', 'file=/tmp/tmpnc3vi0u7/prophet_modelpynbr7qb/prophet_model-20231001051327.csv', 'method=optimize', 'algorithm=lbfgs', 'iter=10000']\n",
            "05:13:27 - cmdstanpy - INFO - Chain [1] start processing\n",
            "INFO:cmdstanpy:Chain [1] start processing\n",
            "05:13:27 - cmdstanpy - INFO - Chain [1] done processing\n",
            "INFO:cmdstanpy:Chain [1] done processing\n"
          ]
        },
        {
          "output_type": "stream",
          "name": "stdout",
          "text": [
            "+++++++++++++++++++++++++++++++++++++++++++++++++++++++++++++++++++++++++++++++++++++++ [('Prophet', 49.268), ('ARIMA', 25.882), ('ETS', 41.3993), ('XGBoost', 52.1686)]\n",
            "+++++++++++++++++++++++++++++++++++++++++++++++++++++++++++++++++++++++++++++++++++++++ ARIMA 90 401 3\n"
          ]
        },
        {
          "output_type": "stream",
          "name": "stderr",
          "text": [
            "/usr/local/lib/python3.10/dist-packages/statsmodels/tsa/base/tsa_model.py:473: ValueWarning: No frequency information was provided, so inferred frequency D will be used.\n",
            "  self._init_dates(dates, freq)\n",
            "/usr/local/lib/python3.10/dist-packages/statsmodels/tsa/holtwinters/model.py:917: ConvergenceWarning: Optimization failed to converge. Check mle_retvals.\n",
            "  warnings.warn(\n",
            "<ipython-input-10-fd7e9e95ee04>:69: FutureWarning: The frame.append method is deprecated and will be removed from pandas in a future version. Use pandas.concat instead.\n",
            "  results_df = results_df.append(result_dict, ignore_index=True)\n",
            "INFO:prophet:Disabling yearly seasonality. Run prophet with yearly_seasonality=True to override this.\n",
            "INFO:prophet:Disabling daily seasonality. Run prophet with daily_seasonality=True to override this.\n",
            "DEBUG:cmdstanpy:input tempfile: /tmp/tmpnc3vi0u7/uw2de3z5.json\n",
            "DEBUG:cmdstanpy:input tempfile: /tmp/tmpnc3vi0u7/uqd5692e.json\n",
            "DEBUG:cmdstanpy:idx 0\n",
            "DEBUG:cmdstanpy:running CmdStan, num_threads: None\n",
            "DEBUG:cmdstanpy:CmdStan args: ['/usr/local/lib/python3.10/dist-packages/prophet/stan_model/prophet_model.bin', 'random', 'seed=2175', 'data', 'file=/tmp/tmpnc3vi0u7/uw2de3z5.json', 'init=/tmp/tmpnc3vi0u7/uqd5692e.json', 'output', 'file=/tmp/tmpnc3vi0u7/prophet_modelso_lhklb/prophet_model-20231001051341.csv', 'method=optimize', 'algorithm=lbfgs', 'iter=10000']\n",
            "05:13:41 - cmdstanpy - INFO - Chain [1] start processing\n",
            "INFO:cmdstanpy:Chain [1] start processing\n",
            "05:13:41 - cmdstanpy - INFO - Chain [1] done processing\n",
            "INFO:cmdstanpy:Chain [1] done processing\n"
          ]
        },
        {
          "output_type": "stream",
          "name": "stdout",
          "text": [
            "+++++++++++++++++++++++++++++++++++++++++++++++++++++++++++++++++++++++++++++++++++++++ [('Prophet', 251.355), ('ARIMA', 42.482), ('ETS', 127.6284), ('XGBoost', 98.9677)]\n",
            "+++++++++++++++++++++++++++++++++++++++++++++++++++++++++++++++++++++++++++++++++++++++ ARIMA 91 404 3\n"
          ]
        },
        {
          "output_type": "stream",
          "name": "stderr",
          "text": [
            "/usr/local/lib/python3.10/dist-packages/statsmodels/tsa/base/tsa_model.py:473: ValueWarning: No frequency information was provided, so inferred frequency D will be used.\n",
            "  self._init_dates(dates, freq)\n",
            "/usr/local/lib/python3.10/dist-packages/statsmodels/tsa/holtwinters/model.py:917: ConvergenceWarning: Optimization failed to converge. Check mle_retvals.\n",
            "  warnings.warn(\n",
            "<ipython-input-10-fd7e9e95ee04>:69: FutureWarning: The frame.append method is deprecated and will be removed from pandas in a future version. Use pandas.concat instead.\n",
            "  results_df = results_df.append(result_dict, ignore_index=True)\n",
            "INFO:prophet:Disabling yearly seasonality. Run prophet with yearly_seasonality=True to override this.\n",
            "INFO:prophet:Disabling daily seasonality. Run prophet with daily_seasonality=True to override this.\n",
            "DEBUG:cmdstanpy:input tempfile: /tmp/tmpnc3vi0u7/44synj5u.json\n"
          ]
        },
        {
          "output_type": "stream",
          "name": "stdout",
          "text": [
            "+++++++++++++++++++++++++++++++++++++++++++++++++++++++++++++++++++++++++++++++++++++++ [('Prophet', 49.6162), ('ARIMA', 5.2481), ('ETS', 34.9358), ('XGBoost', 11.939)]\n",
            "+++++++++++++++++++++++++++++++++++++++++++++++++++++++++++++++++++++++++++++++++++++++ ARIMA 92 407 3\n"
          ]
        },
        {
          "output_type": "stream",
          "name": "stderr",
          "text": [
            "DEBUG:cmdstanpy:input tempfile: /tmp/tmpnc3vi0u7/tman3jd4.json\n",
            "DEBUG:cmdstanpy:idx 0\n",
            "DEBUG:cmdstanpy:running CmdStan, num_threads: None\n",
            "DEBUG:cmdstanpy:CmdStan args: ['/usr/local/lib/python3.10/dist-packages/prophet/stan_model/prophet_model.bin', 'random', 'seed=61474', 'data', 'file=/tmp/tmpnc3vi0u7/44synj5u.json', 'init=/tmp/tmpnc3vi0u7/tman3jd4.json', 'output', 'file=/tmp/tmpnc3vi0u7/prophet_model9u279ikn/prophet_model-20231001051357.csv', 'method=optimize', 'algorithm=lbfgs', 'iter=10000']\n",
            "05:13:57 - cmdstanpy - INFO - Chain [1] start processing\n",
            "INFO:cmdstanpy:Chain [1] start processing\n",
            "05:13:58 - cmdstanpy - INFO - Chain [1] done processing\n",
            "INFO:cmdstanpy:Chain [1] done processing\n",
            "/usr/local/lib/python3.10/dist-packages/statsmodels/tsa/base/tsa_model.py:473: ValueWarning: No frequency information was provided, so inferred frequency D will be used.\n",
            "  self._init_dates(dates, freq)\n",
            "/usr/local/lib/python3.10/dist-packages/statsmodels/tsa/holtwinters/model.py:917: ConvergenceWarning: Optimization failed to converge. Check mle_retvals.\n",
            "  warnings.warn(\n",
            "<ipython-input-10-fd7e9e95ee04>:69: FutureWarning: The frame.append method is deprecated and will be removed from pandas in a future version. Use pandas.concat instead.\n",
            "  results_df = results_df.append(result_dict, ignore_index=True)\n",
            "INFO:prophet:Disabling yearly seasonality. Run prophet with yearly_seasonality=True to override this.\n",
            "INFO:prophet:Disabling daily seasonality. Run prophet with daily_seasonality=True to override this.\n",
            "DEBUG:cmdstanpy:input tempfile: /tmp/tmpnc3vi0u7/ydkt6xbi.json\n",
            "DEBUG:cmdstanpy:input tempfile: /tmp/tmpnc3vi0u7/7h3ux3vm.json\n",
            "DEBUG:cmdstanpy:idx 0\n",
            "DEBUG:cmdstanpy:running CmdStan, num_threads: None\n",
            "DEBUG:cmdstanpy:CmdStan args: ['/usr/local/lib/python3.10/dist-packages/prophet/stan_model/prophet_model.bin', 'random', 'seed=97118', 'data', 'file=/tmp/tmpnc3vi0u7/ydkt6xbi.json', 'init=/tmp/tmpnc3vi0u7/7h3ux3vm.json', 'output', 'file=/tmp/tmpnc3vi0u7/prophet_modelw2f0ijk4/prophet_model-20231001051410.csv', 'method=optimize', 'algorithm=lbfgs', 'iter=10000']\n",
            "05:14:10 - cmdstanpy - INFO - Chain [1] start processing\n",
            "INFO:cmdstanpy:Chain [1] start processing\n",
            "05:14:10 - cmdstanpy - INFO - Chain [1] done processing\n",
            "INFO:cmdstanpy:Chain [1] done processing\n"
          ]
        },
        {
          "output_type": "stream",
          "name": "stdout",
          "text": [
            "+++++++++++++++++++++++++++++++++++++++++++++++++++++++++++++++++++++++++++++++++++++++ [('Prophet', 268.9803), ('ARIMA', 62.0892), ('ETS', 131.109), ('XGBoost', 138.3496)]\n",
            "+++++++++++++++++++++++++++++++++++++++++++++++++++++++++++++++++++++++++++++++++++++++ ARIMA 93 410 3\n"
          ]
        },
        {
          "output_type": "stream",
          "name": "stderr",
          "text": [
            "/usr/local/lib/python3.10/dist-packages/statsmodels/tsa/base/tsa_model.py:473: ValueWarning: No frequency information was provided, so inferred frequency D will be used.\n",
            "  self._init_dates(dates, freq)\n",
            "/usr/local/lib/python3.10/dist-packages/statsmodels/tsa/holtwinters/model.py:917: ConvergenceWarning: Optimization failed to converge. Check mle_retvals.\n",
            "  warnings.warn(\n",
            "<ipython-input-10-fd7e9e95ee04>:69: FutureWarning: The frame.append method is deprecated and will be removed from pandas in a future version. Use pandas.concat instead.\n",
            "  results_df = results_df.append(result_dict, ignore_index=True)\n",
            "INFO:prophet:Disabling yearly seasonality. Run prophet with yearly_seasonality=True to override this.\n",
            "INFO:prophet:Disabling daily seasonality. Run prophet with daily_seasonality=True to override this.\n",
            "DEBUG:cmdstanpy:input tempfile: /tmp/tmpnc3vi0u7/ydg91s5s.json\n",
            "DEBUG:cmdstanpy:input tempfile: /tmp/tmpnc3vi0u7/8ypr2hc3.json\n",
            "DEBUG:cmdstanpy:idx 0\n",
            "DEBUG:cmdstanpy:running CmdStan, num_threads: None\n",
            "DEBUG:cmdstanpy:CmdStan args: ['/usr/local/lib/python3.10/dist-packages/prophet/stan_model/prophet_model.bin', 'random', 'seed=22936', 'data', 'file=/tmp/tmpnc3vi0u7/ydg91s5s.json', 'init=/tmp/tmpnc3vi0u7/8ypr2hc3.json', 'output', 'file=/tmp/tmpnc3vi0u7/prophet_modelmtzpq11e/prophet_model-20231001051423.csv', 'method=optimize', 'algorithm=lbfgs', 'iter=10000']\n",
            "05:14:23 - cmdstanpy - INFO - Chain [1] start processing\n",
            "INFO:cmdstanpy:Chain [1] start processing\n",
            "05:14:23 - cmdstanpy - INFO - Chain [1] done processing\n",
            "INFO:cmdstanpy:Chain [1] done processing\n"
          ]
        },
        {
          "output_type": "stream",
          "name": "stdout",
          "text": [
            "+++++++++++++++++++++++++++++++++++++++++++++++++++++++++++++++++++++++++++++++++++++++ [('Prophet', 49.9718), ('ARIMA', 26.4129), ('ETS', 51.6215), ('XGBoost', 7.6568)]\n",
            "+++++++++++++++++++++++++++++++++++++++++++++++++++++++++++++++++++++++++++++++++++++++ XGBoost 94 413 3\n"
          ]
        },
        {
          "output_type": "stream",
          "name": "stderr",
          "text": [
            "/usr/local/lib/python3.10/dist-packages/statsmodels/tsa/base/tsa_model.py:473: ValueWarning: No frequency information was provided, so inferred frequency D will be used.\n",
            "  self._init_dates(dates, freq)\n",
            "/usr/local/lib/python3.10/dist-packages/statsmodels/tsa/holtwinters/model.py:917: ConvergenceWarning: Optimization failed to converge. Check mle_retvals.\n",
            "  warnings.warn(\n",
            "<ipython-input-10-fd7e9e95ee04>:69: FutureWarning: The frame.append method is deprecated and will be removed from pandas in a future version. Use pandas.concat instead.\n",
            "  results_df = results_df.append(result_dict, ignore_index=True)\n",
            "INFO:prophet:Disabling yearly seasonality. Run prophet with yearly_seasonality=True to override this.\n",
            "INFO:prophet:Disabling daily seasonality. Run prophet with daily_seasonality=True to override this.\n",
            "DEBUG:cmdstanpy:input tempfile: /tmp/tmpnc3vi0u7/9p5nz2vk.json\n",
            "DEBUG:cmdstanpy:input tempfile: /tmp/tmpnc3vi0u7/opl1930p.json\n",
            "DEBUG:cmdstanpy:idx 0\n",
            "DEBUG:cmdstanpy:running CmdStan, num_threads: None\n",
            "DEBUG:cmdstanpy:CmdStan args: ['/usr/local/lib/python3.10/dist-packages/prophet/stan_model/prophet_model.bin', 'random', 'seed=11479', 'data', 'file=/tmp/tmpnc3vi0u7/9p5nz2vk.json', 'init=/tmp/tmpnc3vi0u7/opl1930p.json', 'output', 'file=/tmp/tmpnc3vi0u7/prophet_models3nte1cw/prophet_model-20231001051437.csv', 'method=optimize', 'algorithm=lbfgs', 'iter=10000']\n",
            "05:14:37 - cmdstanpy - INFO - Chain [1] start processing\n",
            "INFO:cmdstanpy:Chain [1] start processing\n",
            "05:14:37 - cmdstanpy - INFO - Chain [1] done processing\n",
            "INFO:cmdstanpy:Chain [1] done processing\n"
          ]
        },
        {
          "output_type": "stream",
          "name": "stdout",
          "text": [
            "+++++++++++++++++++++++++++++++++++++++++++++++++++++++++++++++++++++++++++++++++++++++ [('Prophet', 85.265), ('ARIMA', 9.1252), ('ETS', 32.149), ('XGBoost', 11.9916)]\n",
            "+++++++++++++++++++++++++++++++++++++++++++++++++++++++++++++++++++++++++++++++++++++++ ARIMA 95 416 3\n"
          ]
        },
        {
          "output_type": "stream",
          "name": "stderr",
          "text": [
            "/usr/local/lib/python3.10/dist-packages/statsmodels/tsa/base/tsa_model.py:473: ValueWarning: No frequency information was provided, so inferred frequency D will be used.\n",
            "  self._init_dates(dates, freq)\n",
            "/usr/local/lib/python3.10/dist-packages/statsmodels/tsa/holtwinters/model.py:917: ConvergenceWarning: Optimization failed to converge. Check mle_retvals.\n",
            "  warnings.warn(\n",
            "<ipython-input-10-fd7e9e95ee04>:69: FutureWarning: The frame.append method is deprecated and will be removed from pandas in a future version. Use pandas.concat instead.\n",
            "  results_df = results_df.append(result_dict, ignore_index=True)\n",
            "INFO:prophet:Disabling yearly seasonality. Run prophet with yearly_seasonality=True to override this.\n",
            "INFO:prophet:Disabling daily seasonality. Run prophet with daily_seasonality=True to override this.\n",
            "DEBUG:cmdstanpy:input tempfile: /tmp/tmpnc3vi0u7/i8ul8grc.json\n",
            "DEBUG:cmdstanpy:input tempfile: /tmp/tmpnc3vi0u7/bujko1ao.json\n",
            "DEBUG:cmdstanpy:idx 0\n",
            "DEBUG:cmdstanpy:running CmdStan, num_threads: None\n",
            "DEBUG:cmdstanpy:CmdStan args: ['/usr/local/lib/python3.10/dist-packages/prophet/stan_model/prophet_model.bin', 'random', 'seed=56811', 'data', 'file=/tmp/tmpnc3vi0u7/i8ul8grc.json', 'init=/tmp/tmpnc3vi0u7/bujko1ao.json', 'output', 'file=/tmp/tmpnc3vi0u7/prophet_model57m047yo/prophet_model-20231001051452.csv', 'method=optimize', 'algorithm=lbfgs', 'iter=10000']\n",
            "05:14:52 - cmdstanpy - INFO - Chain [1] start processing\n",
            "INFO:cmdstanpy:Chain [1] start processing\n",
            "05:14:52 - cmdstanpy - INFO - Chain [1] done processing\n",
            "INFO:cmdstanpy:Chain [1] done processing\n"
          ]
        },
        {
          "output_type": "stream",
          "name": "stdout",
          "text": [
            "+++++++++++++++++++++++++++++++++++++++++++++++++++++++++++++++++++++++++++++++++++++++ [('Prophet', 146.4987), ('ARIMA', 32.5533), ('ETS', 101.9632), ('XGBoost', 98.3323)]\n",
            "+++++++++++++++++++++++++++++++++++++++++++++++++++++++++++++++++++++++++++++++++++++++ ARIMA 96 419 3\n"
          ]
        },
        {
          "output_type": "stream",
          "name": "stderr",
          "text": [
            "/usr/local/lib/python3.10/dist-packages/statsmodels/tsa/base/tsa_model.py:473: ValueWarning: No frequency information was provided, so inferred frequency D will be used.\n",
            "  self._init_dates(dates, freq)\n",
            "/usr/local/lib/python3.10/dist-packages/statsmodels/tsa/holtwinters/model.py:917: ConvergenceWarning: Optimization failed to converge. Check mle_retvals.\n",
            "  warnings.warn(\n",
            "<ipython-input-10-fd7e9e95ee04>:69: FutureWarning: The frame.append method is deprecated and will be removed from pandas in a future version. Use pandas.concat instead.\n",
            "  results_df = results_df.append(result_dict, ignore_index=True)\n",
            "INFO:prophet:Disabling yearly seasonality. Run prophet with yearly_seasonality=True to override this.\n",
            "INFO:prophet:Disabling daily seasonality. Run prophet with daily_seasonality=True to override this.\n",
            "DEBUG:cmdstanpy:input tempfile: /tmp/tmpnc3vi0u7/zk9lk3dj.json\n",
            "DEBUG:cmdstanpy:input tempfile: /tmp/tmpnc3vi0u7/8g0i9m7j.json\n",
            "DEBUG:cmdstanpy:idx 0\n",
            "DEBUG:cmdstanpy:running CmdStan, num_threads: None\n",
            "DEBUG:cmdstanpy:CmdStan args: ['/usr/local/lib/python3.10/dist-packages/prophet/stan_model/prophet_model.bin', 'random', 'seed=71804', 'data', 'file=/tmp/tmpnc3vi0u7/zk9lk3dj.json', 'init=/tmp/tmpnc3vi0u7/8g0i9m7j.json', 'output', 'file=/tmp/tmpnc3vi0u7/prophet_model14n24b6g/prophet_model-20231001051505.csv', 'method=optimize', 'algorithm=lbfgs', 'iter=10000']\n",
            "05:15:05 - cmdstanpy - INFO - Chain [1] start processing\n",
            "INFO:cmdstanpy:Chain [1] start processing\n",
            "05:15:05 - cmdstanpy - INFO - Chain [1] done processing\n",
            "INFO:cmdstanpy:Chain [1] done processing\n"
          ]
        },
        {
          "output_type": "stream",
          "name": "stdout",
          "text": [
            "+++++++++++++++++++++++++++++++++++++++++++++++++++++++++++++++++++++++++++++++++++++++ [('Prophet', 46.448), ('ARIMA', 12.8079), ('ETS', 32.3449), ('XGBoost', 78.1392)]\n",
            "+++++++++++++++++++++++++++++++++++++++++++++++++++++++++++++++++++++++++++++++++++++++ ARIMA 97 422 3\n"
          ]
        },
        {
          "output_type": "stream",
          "name": "stderr",
          "text": [
            "/usr/local/lib/python3.10/dist-packages/statsmodels/tsa/base/tsa_model.py:473: ValueWarning: No frequency information was provided, so inferred frequency D will be used.\n",
            "  self._init_dates(dates, freq)\n",
            "/usr/local/lib/python3.10/dist-packages/statsmodels/tsa/holtwinters/model.py:917: ConvergenceWarning: Optimization failed to converge. Check mle_retvals.\n",
            "  warnings.warn(\n",
            "<ipython-input-10-fd7e9e95ee04>:69: FutureWarning: The frame.append method is deprecated and will be removed from pandas in a future version. Use pandas.concat instead.\n",
            "  results_df = results_df.append(result_dict, ignore_index=True)\n",
            "INFO:prophet:Disabling yearly seasonality. Run prophet with yearly_seasonality=True to override this.\n",
            "INFO:prophet:Disabling daily seasonality. Run prophet with daily_seasonality=True to override this.\n",
            "DEBUG:cmdstanpy:input tempfile: /tmp/tmpnc3vi0u7/v3wzdq0d.json\n",
            "DEBUG:cmdstanpy:input tempfile: /tmp/tmpnc3vi0u7/lkefoek_.json\n",
            "DEBUG:cmdstanpy:idx 0\n",
            "DEBUG:cmdstanpy:running CmdStan, num_threads: None\n",
            "DEBUG:cmdstanpy:CmdStan args: ['/usr/local/lib/python3.10/dist-packages/prophet/stan_model/prophet_model.bin', 'random', 'seed=77783', 'data', 'file=/tmp/tmpnc3vi0u7/v3wzdq0d.json', 'init=/tmp/tmpnc3vi0u7/lkefoek_.json', 'output', 'file=/tmp/tmpnc3vi0u7/prophet_model_vorzigd/prophet_model-20231001051520.csv', 'method=optimize', 'algorithm=lbfgs', 'iter=10000']\n",
            "05:15:20 - cmdstanpy - INFO - Chain [1] start processing\n",
            "INFO:cmdstanpy:Chain [1] start processing\n",
            "05:15:20 - cmdstanpy - INFO - Chain [1] done processing\n",
            "INFO:cmdstanpy:Chain [1] done processing\n"
          ]
        },
        {
          "output_type": "stream",
          "name": "stdout",
          "text": [
            "+++++++++++++++++++++++++++++++++++++++++++++++++++++++++++++++++++++++++++++++++++++++ [('Prophet', 141.5138), ('ARIMA', 24.5845), ('ETS', 73.0988), ('XGBoost', 188.2949)]\n",
            "+++++++++++++++++++++++++++++++++++++++++++++++++++++++++++++++++++++++++++++++++++++++ ARIMA 98 425 3\n"
          ]
        },
        {
          "output_type": "stream",
          "name": "stderr",
          "text": [
            "/usr/local/lib/python3.10/dist-packages/statsmodels/tsa/base/tsa_model.py:473: ValueWarning: No frequency information was provided, so inferred frequency D will be used.\n",
            "  self._init_dates(dates, freq)\n",
            "/usr/local/lib/python3.10/dist-packages/statsmodels/tsa/holtwinters/model.py:917: ConvergenceWarning: Optimization failed to converge. Check mle_retvals.\n",
            "  warnings.warn(\n",
            "<ipython-input-10-fd7e9e95ee04>:69: FutureWarning: The frame.append method is deprecated and will be removed from pandas in a future version. Use pandas.concat instead.\n",
            "  results_df = results_df.append(result_dict, ignore_index=True)\n",
            "INFO:prophet:Disabling yearly seasonality. Run prophet with yearly_seasonality=True to override this.\n",
            "INFO:prophet:Disabling daily seasonality. Run prophet with daily_seasonality=True to override this.\n",
            "DEBUG:cmdstanpy:input tempfile: /tmp/tmpnc3vi0u7/4qwvgrie.json\n",
            "DEBUG:cmdstanpy:input tempfile: /tmp/tmpnc3vi0u7/0143yduj.json\n",
            "DEBUG:cmdstanpy:idx 0\n",
            "DEBUG:cmdstanpy:running CmdStan, num_threads: None\n",
            "DEBUG:cmdstanpy:CmdStan args: ['/usr/local/lib/python3.10/dist-packages/prophet/stan_model/prophet_model.bin', 'random', 'seed=5731', 'data', 'file=/tmp/tmpnc3vi0u7/4qwvgrie.json', 'init=/tmp/tmpnc3vi0u7/0143yduj.json', 'output', 'file=/tmp/tmpnc3vi0u7/prophet_model9ycamepz/prophet_model-20231001051534.csv', 'method=optimize', 'algorithm=lbfgs', 'iter=10000']\n",
            "05:15:34 - cmdstanpy - INFO - Chain [1] start processing\n",
            "INFO:cmdstanpy:Chain [1] start processing\n",
            "05:15:34 - cmdstanpy - INFO - Chain [1] done processing\n",
            "INFO:cmdstanpy:Chain [1] done processing\n"
          ]
        },
        {
          "output_type": "stream",
          "name": "stdout",
          "text": [
            "+++++++++++++++++++++++++++++++++++++++++++++++++++++++++++++++++++++++++++++++++++++++ [('Prophet', 69.376), ('ARIMA', 35.4857), ('ETS', 56.1094), ('XGBoost', 42.2546)]\n",
            "+++++++++++++++++++++++++++++++++++++++++++++++++++++++++++++++++++++++++++++++++++++++ ARIMA 99 428 3\n"
          ]
        },
        {
          "output_type": "stream",
          "name": "stderr",
          "text": [
            "/usr/local/lib/python3.10/dist-packages/statsmodels/tsa/base/tsa_model.py:473: ValueWarning: No frequency information was provided, so inferred frequency D will be used.\n",
            "  self._init_dates(dates, freq)\n",
            "/usr/local/lib/python3.10/dist-packages/statsmodels/tsa/holtwinters/model.py:917: ConvergenceWarning: Optimization failed to converge. Check mle_retvals.\n",
            "  warnings.warn(\n",
            "<ipython-input-10-fd7e9e95ee04>:69: FutureWarning: The frame.append method is deprecated and will be removed from pandas in a future version. Use pandas.concat instead.\n",
            "  results_df = results_df.append(result_dict, ignore_index=True)\n",
            "INFO:prophet:Disabling yearly seasonality. Run prophet with yearly_seasonality=True to override this.\n",
            "INFO:prophet:Disabling daily seasonality. Run prophet with daily_seasonality=True to override this.\n",
            "DEBUG:cmdstanpy:input tempfile: /tmp/tmpnc3vi0u7/ft9dksro.json\n",
            "DEBUG:cmdstanpy:input tempfile: /tmp/tmpnc3vi0u7/2srnrasd.json\n",
            "DEBUG:cmdstanpy:idx 0\n",
            "DEBUG:cmdstanpy:running CmdStan, num_threads: None\n",
            "DEBUG:cmdstanpy:CmdStan args: ['/usr/local/lib/python3.10/dist-packages/prophet/stan_model/prophet_model.bin', 'random', 'seed=20436', 'data', 'file=/tmp/tmpnc3vi0u7/ft9dksro.json', 'init=/tmp/tmpnc3vi0u7/2srnrasd.json', 'output', 'file=/tmp/tmpnc3vi0u7/prophet_modelt4e5k6as/prophet_model-20231001051549.csv', 'method=optimize', 'algorithm=lbfgs', 'iter=10000']\n",
            "05:15:49 - cmdstanpy - INFO - Chain [1] start processing\n",
            "INFO:cmdstanpy:Chain [1] start processing\n",
            "05:15:49 - cmdstanpy - INFO - Chain [1] done processing\n",
            "INFO:cmdstanpy:Chain [1] done processing\n"
          ]
        },
        {
          "output_type": "stream",
          "name": "stdout",
          "text": [
            "+++++++++++++++++++++++++++++++++++++++++++++++++++++++++++++++++++++++++++++++++++++++ [('Prophet', 189.6029), ('ARIMA', 175.8448), ('ETS', 268.4181), ('XGBoost', 159.2578)]\n",
            "+++++++++++++++++++++++++++++++++++++++++++++++++++++++++++++++++++++++++++++++++++++++ XGBoost 100 431 3\n"
          ]
        },
        {
          "output_type": "stream",
          "name": "stderr",
          "text": [
            "/usr/local/lib/python3.10/dist-packages/statsmodels/tsa/base/tsa_model.py:473: ValueWarning: No frequency information was provided, so inferred frequency D will be used.\n",
            "  self._init_dates(dates, freq)\n",
            "/usr/local/lib/python3.10/dist-packages/statsmodels/tsa/holtwinters/model.py:917: ConvergenceWarning: Optimization failed to converge. Check mle_retvals.\n",
            "  warnings.warn(\n",
            "<ipython-input-10-fd7e9e95ee04>:69: FutureWarning: The frame.append method is deprecated and will be removed from pandas in a future version. Use pandas.concat instead.\n",
            "  results_df = results_df.append(result_dict, ignore_index=True)\n",
            "INFO:prophet:Disabling yearly seasonality. Run prophet with yearly_seasonality=True to override this.\n",
            "INFO:prophet:Disabling daily seasonality. Run prophet with daily_seasonality=True to override this.\n",
            "DEBUG:cmdstanpy:input tempfile: /tmp/tmpnc3vi0u7/gaw4gvhm.json\n",
            "DEBUG:cmdstanpy:input tempfile: /tmp/tmpnc3vi0u7/783pukwt.json\n",
            "DEBUG:cmdstanpy:idx 0\n",
            "DEBUG:cmdstanpy:running CmdStan, num_threads: None\n",
            "DEBUG:cmdstanpy:CmdStan args: ['/usr/local/lib/python3.10/dist-packages/prophet/stan_model/prophet_model.bin', 'random', 'seed=32506', 'data', 'file=/tmp/tmpnc3vi0u7/gaw4gvhm.json', 'init=/tmp/tmpnc3vi0u7/783pukwt.json', 'output', 'file=/tmp/tmpnc3vi0u7/prophet_modelyrz0z49p/prophet_model-20231001051606.csv', 'method=optimize', 'algorithm=lbfgs', 'iter=10000']\n",
            "05:16:06 - cmdstanpy - INFO - Chain [1] start processing\n",
            "INFO:cmdstanpy:Chain [1] start processing\n",
            "05:16:06 - cmdstanpy - INFO - Chain [1] done processing\n",
            "INFO:cmdstanpy:Chain [1] done processing\n"
          ]
        },
        {
          "output_type": "stream",
          "name": "stdout",
          "text": [
            "+++++++++++++++++++++++++++++++++++++++++++++++++++++++++++++++++++++++++++++++++++++++ [('Prophet', 27.5655), ('ARIMA', 37.238), ('ETS', 7.494), ('XGBoost', 62.33)]\n",
            "+++++++++++++++++++++++++++++++++++++++++++++++++++++++++++++++++++++++++++++++++++++++ ETS 101 434 3\n"
          ]
        },
        {
          "output_type": "stream",
          "name": "stderr",
          "text": [
            "/usr/local/lib/python3.10/dist-packages/statsmodels/tsa/base/tsa_model.py:473: ValueWarning: No frequency information was provided, so inferred frequency D will be used.\n",
            "  self._init_dates(dates, freq)\n",
            "/usr/local/lib/python3.10/dist-packages/statsmodels/tsa/holtwinters/model.py:917: ConvergenceWarning: Optimization failed to converge. Check mle_retvals.\n",
            "  warnings.warn(\n",
            "<ipython-input-10-fd7e9e95ee04>:69: FutureWarning: The frame.append method is deprecated and will be removed from pandas in a future version. Use pandas.concat instead.\n",
            "  results_df = results_df.append(result_dict, ignore_index=True)\n",
            "INFO:prophet:Disabling yearly seasonality. Run prophet with yearly_seasonality=True to override this.\n",
            "INFO:prophet:Disabling daily seasonality. Run prophet with daily_seasonality=True to override this.\n",
            "DEBUG:cmdstanpy:input tempfile: /tmp/tmpnc3vi0u7/hnhj_g35.json\n",
            "DEBUG:cmdstanpy:input tempfile: /tmp/tmpnc3vi0u7/1upf1g2e.json\n",
            "DEBUG:cmdstanpy:idx 0\n",
            "DEBUG:cmdstanpy:running CmdStan, num_threads: None\n",
            "DEBUG:cmdstanpy:CmdStan args: ['/usr/local/lib/python3.10/dist-packages/prophet/stan_model/prophet_model.bin', 'random', 'seed=18682', 'data', 'file=/tmp/tmpnc3vi0u7/hnhj_g35.json', 'init=/tmp/tmpnc3vi0u7/1upf1g2e.json', 'output', 'file=/tmp/tmpnc3vi0u7/prophet_modeldivl4fe9/prophet_model-20231001051622.csv', 'method=optimize', 'algorithm=lbfgs', 'iter=10000']\n",
            "05:16:22 - cmdstanpy - INFO - Chain [1] start processing\n",
            "INFO:cmdstanpy:Chain [1] start processing\n",
            "05:16:22 - cmdstanpy - INFO - Chain [1] done processing\n",
            "INFO:cmdstanpy:Chain [1] done processing\n"
          ]
        },
        {
          "output_type": "stream",
          "name": "stdout",
          "text": [
            "+++++++++++++++++++++++++++++++++++++++++++++++++++++++++++++++++++++++++++++++++++++++ [('Prophet', 93.7337), ('ARIMA', 23.2284), ('ETS', 44.7331), ('XGBoost', 19.5788)]\n",
            "+++++++++++++++++++++++++++++++++++++++++++++++++++++++++++++++++++++++++++++++++++++++ XGBoost 102 437 3\n"
          ]
        },
        {
          "output_type": "stream",
          "name": "stderr",
          "text": [
            "/usr/local/lib/python3.10/dist-packages/statsmodels/tsa/base/tsa_model.py:473: ValueWarning: No frequency information was provided, so inferred frequency D will be used.\n",
            "  self._init_dates(dates, freq)\n",
            "/usr/local/lib/python3.10/dist-packages/statsmodels/tsa/holtwinters/model.py:917: ConvergenceWarning: Optimization failed to converge. Check mle_retvals.\n",
            "  warnings.warn(\n",
            "<ipython-input-10-fd7e9e95ee04>:69: FutureWarning: The frame.append method is deprecated and will be removed from pandas in a future version. Use pandas.concat instead.\n",
            "  results_df = results_df.append(result_dict, ignore_index=True)\n",
            "INFO:prophet:Disabling yearly seasonality. Run prophet with yearly_seasonality=True to override this.\n",
            "INFO:prophet:Disabling daily seasonality. Run prophet with daily_seasonality=True to override this.\n",
            "DEBUG:cmdstanpy:input tempfile: /tmp/tmpnc3vi0u7/cptfa1bx.json\n",
            "DEBUG:cmdstanpy:input tempfile: /tmp/tmpnc3vi0u7/z853nks0.json\n",
            "DEBUG:cmdstanpy:idx 0\n",
            "DEBUG:cmdstanpy:running CmdStan, num_threads: None\n",
            "DEBUG:cmdstanpy:CmdStan args: ['/usr/local/lib/python3.10/dist-packages/prophet/stan_model/prophet_model.bin', 'random', 'seed=19703', 'data', 'file=/tmp/tmpnc3vi0u7/cptfa1bx.json', 'init=/tmp/tmpnc3vi0u7/z853nks0.json', 'output', 'file=/tmp/tmpnc3vi0u7/prophet_model6gx9fhln/prophet_model-20231001051642.csv', 'method=optimize', 'algorithm=lbfgs', 'iter=10000']\n",
            "05:16:42 - cmdstanpy - INFO - Chain [1] start processing\n",
            "INFO:cmdstanpy:Chain [1] start processing\n",
            "05:16:42 - cmdstanpy - INFO - Chain [1] done processing\n",
            "INFO:cmdstanpy:Chain [1] done processing\n"
          ]
        },
        {
          "output_type": "stream",
          "name": "stdout",
          "text": [
            "+++++++++++++++++++++++++++++++++++++++++++++++++++++++++++++++++++++++++++++++++++++++ [('Prophet', 197.831), ('ARIMA', 17.4603), ('ETS', 107.1085), ('XGBoost', 144.6301)]\n",
            "+++++++++++++++++++++++++++++++++++++++++++++++++++++++++++++++++++++++++++++++++++++++ ARIMA 103 440 3\n"
          ]
        },
        {
          "output_type": "stream",
          "name": "stderr",
          "text": [
            "/usr/local/lib/python3.10/dist-packages/statsmodels/tsa/base/tsa_model.py:473: ValueWarning: No frequency information was provided, so inferred frequency D will be used.\n",
            "  self._init_dates(dates, freq)\n",
            "/usr/local/lib/python3.10/dist-packages/statsmodels/tsa/holtwinters/model.py:917: ConvergenceWarning: Optimization failed to converge. Check mle_retvals.\n",
            "  warnings.warn(\n",
            "<ipython-input-10-fd7e9e95ee04>:69: FutureWarning: The frame.append method is deprecated and will be removed from pandas in a future version. Use pandas.concat instead.\n",
            "  results_df = results_df.append(result_dict, ignore_index=True)\n",
            "INFO:prophet:Disabling yearly seasonality. Run prophet with yearly_seasonality=True to override this.\n",
            "INFO:prophet:Disabling daily seasonality. Run prophet with daily_seasonality=True to override this.\n",
            "DEBUG:cmdstanpy:input tempfile: /tmp/tmpnc3vi0u7/811aqlup.json\n",
            "DEBUG:cmdstanpy:input tempfile: /tmp/tmpnc3vi0u7/m2ff8_4x.json\n",
            "DEBUG:cmdstanpy:idx 0\n",
            "DEBUG:cmdstanpy:running CmdStan, num_threads: None\n",
            "DEBUG:cmdstanpy:CmdStan args: ['/usr/local/lib/python3.10/dist-packages/prophet/stan_model/prophet_model.bin', 'random', 'seed=20401', 'data', 'file=/tmp/tmpnc3vi0u7/811aqlup.json', 'init=/tmp/tmpnc3vi0u7/m2ff8_4x.json', 'output', 'file=/tmp/tmpnc3vi0u7/prophet_modeler9_ctl6/prophet_model-20231001051706.csv', 'method=optimize', 'algorithm=lbfgs', 'iter=10000']\n",
            "05:17:06 - cmdstanpy - INFO - Chain [1] start processing\n",
            "INFO:cmdstanpy:Chain [1] start processing\n",
            "05:17:06 - cmdstanpy - INFO - Chain [1] done processing\n",
            "INFO:cmdstanpy:Chain [1] done processing\n"
          ]
        },
        {
          "output_type": "stream",
          "name": "stdout",
          "text": [
            "+++++++++++++++++++++++++++++++++++++++++++++++++++++++++++++++++++++++++++++++++++++++ [('Prophet', 38.2213), ('ARIMA', 9.1909), ('ETS', 25.6922), ('XGBoost', 20.0357)]\n",
            "+++++++++++++++++++++++++++++++++++++++++++++++++++++++++++++++++++++++++++++++++++++++ ARIMA 104 443 3\n"
          ]
        },
        {
          "output_type": "stream",
          "name": "stderr",
          "text": [
            "/usr/local/lib/python3.10/dist-packages/statsmodels/tsa/base/tsa_model.py:473: ValueWarning: No frequency information was provided, so inferred frequency D will be used.\n",
            "  self._init_dates(dates, freq)\n",
            "/usr/local/lib/python3.10/dist-packages/statsmodels/tsa/holtwinters/model.py:917: ConvergenceWarning: Optimization failed to converge. Check mle_retvals.\n",
            "  warnings.warn(\n",
            "<ipython-input-10-fd7e9e95ee04>:69: FutureWarning: The frame.append method is deprecated and will be removed from pandas in a future version. Use pandas.concat instead.\n",
            "  results_df = results_df.append(result_dict, ignore_index=True)\n",
            "INFO:prophet:Disabling yearly seasonality. Run prophet with yearly_seasonality=True to override this.\n",
            "INFO:prophet:Disabling daily seasonality. Run prophet with daily_seasonality=True to override this.\n",
            "DEBUG:cmdstanpy:input tempfile: /tmp/tmpnc3vi0u7/6teglwc0.json\n",
            "DEBUG:cmdstanpy:input tempfile: /tmp/tmpnc3vi0u7/vrcekl1s.json\n",
            "DEBUG:cmdstanpy:idx 0\n",
            "DEBUG:cmdstanpy:running CmdStan, num_threads: None\n",
            "DEBUG:cmdstanpy:CmdStan args: ['/usr/local/lib/python3.10/dist-packages/prophet/stan_model/prophet_model.bin', 'random', 'seed=97404', 'data', 'file=/tmp/tmpnc3vi0u7/6teglwc0.json', 'init=/tmp/tmpnc3vi0u7/vrcekl1s.json', 'output', 'file=/tmp/tmpnc3vi0u7/prophet_modelpqch3z89/prophet_model-20231001051728.csv', 'method=optimize', 'algorithm=lbfgs', 'iter=10000']\n",
            "05:17:28 - cmdstanpy - INFO - Chain [1] start processing\n",
            "INFO:cmdstanpy:Chain [1] start processing\n",
            "05:17:28 - cmdstanpy - INFO - Chain [1] done processing\n",
            "INFO:cmdstanpy:Chain [1] done processing\n"
          ]
        },
        {
          "output_type": "stream",
          "name": "stdout",
          "text": [
            "+++++++++++++++++++++++++++++++++++++++++++++++++++++++++++++++++++++++++++++++++++++++ [('Prophet', 433.3647), ('ARIMA', 90.7216), ('ETS', 267.7496), ('XGBoost', 161.937)]\n",
            "+++++++++++++++++++++++++++++++++++++++++++++++++++++++++++++++++++++++++++++++++++++++ ARIMA 105 446 3\n"
          ]
        },
        {
          "output_type": "stream",
          "name": "stderr",
          "text": [
            "/usr/local/lib/python3.10/dist-packages/statsmodels/tsa/base/tsa_model.py:473: ValueWarning: No frequency information was provided, so inferred frequency D will be used.\n",
            "  self._init_dates(dates, freq)\n",
            "/usr/local/lib/python3.10/dist-packages/statsmodels/tsa/holtwinters/model.py:917: ConvergenceWarning: Optimization failed to converge. Check mle_retvals.\n",
            "  warnings.warn(\n",
            "<ipython-input-10-fd7e9e95ee04>:69: FutureWarning: The frame.append method is deprecated and will be removed from pandas in a future version. Use pandas.concat instead.\n",
            "  results_df = results_df.append(result_dict, ignore_index=True)\n",
            "INFO:prophet:Disabling yearly seasonality. Run prophet with yearly_seasonality=True to override this.\n",
            "INFO:prophet:Disabling daily seasonality. Run prophet with daily_seasonality=True to override this.\n",
            "DEBUG:cmdstanpy:input tempfile: /tmp/tmpnc3vi0u7/ozo3lf1d.json\n",
            "DEBUG:cmdstanpy:input tempfile: /tmp/tmpnc3vi0u7/xen12kjx.json\n",
            "DEBUG:cmdstanpy:idx 0\n",
            "DEBUG:cmdstanpy:running CmdStan, num_threads: None\n",
            "DEBUG:cmdstanpy:CmdStan args: ['/usr/local/lib/python3.10/dist-packages/prophet/stan_model/prophet_model.bin', 'random', 'seed=31401', 'data', 'file=/tmp/tmpnc3vi0u7/ozo3lf1d.json', 'init=/tmp/tmpnc3vi0u7/xen12kjx.json', 'output', 'file=/tmp/tmpnc3vi0u7/prophet_modellm7jlddx/prophet_model-20231001051750.csv', 'method=optimize', 'algorithm=lbfgs', 'iter=10000']\n",
            "05:17:50 - cmdstanpy - INFO - Chain [1] start processing\n",
            "INFO:cmdstanpy:Chain [1] start processing\n",
            "05:17:50 - cmdstanpy - INFO - Chain [1] done processing\n",
            "INFO:cmdstanpy:Chain [1] done processing\n"
          ]
        },
        {
          "output_type": "stream",
          "name": "stdout",
          "text": [
            "+++++++++++++++++++++++++++++++++++++++++++++++++++++++++++++++++++++++++++++++++++++++ [('Prophet', 35.206), ('ARIMA', 6.3336), ('ETS', 41.6281), ('XGBoost', 11.4677)]\n",
            "+++++++++++++++++++++++++++++++++++++++++++++++++++++++++++++++++++++++++++++++++++++++ ARIMA 106 449 3\n"
          ]
        },
        {
          "output_type": "stream",
          "name": "stderr",
          "text": [
            "/usr/local/lib/python3.10/dist-packages/statsmodels/tsa/base/tsa_model.py:473: ValueWarning: No frequency information was provided, so inferred frequency D will be used.\n",
            "  self._init_dates(dates, freq)\n",
            "/usr/local/lib/python3.10/dist-packages/statsmodels/tsa/holtwinters/model.py:917: ConvergenceWarning: Optimization failed to converge. Check mle_retvals.\n",
            "  warnings.warn(\n",
            "<ipython-input-10-fd7e9e95ee04>:69: FutureWarning: The frame.append method is deprecated and will be removed from pandas in a future version. Use pandas.concat instead.\n",
            "  results_df = results_df.append(result_dict, ignore_index=True)\n",
            "INFO:prophet:Disabling yearly seasonality. Run prophet with yearly_seasonality=True to override this.\n",
            "INFO:prophet:Disabling daily seasonality. Run prophet with daily_seasonality=True to override this.\n",
            "DEBUG:cmdstanpy:input tempfile: /tmp/tmpnc3vi0u7/pv711vke.json\n",
            "DEBUG:cmdstanpy:input tempfile: /tmp/tmpnc3vi0u7/7ibv9zb9.json\n",
            "DEBUG:cmdstanpy:idx 0\n",
            "DEBUG:cmdstanpy:running CmdStan, num_threads: None\n",
            "DEBUG:cmdstanpy:CmdStan args: ['/usr/local/lib/python3.10/dist-packages/prophet/stan_model/prophet_model.bin', 'random', 'seed=2343', 'data', 'file=/tmp/tmpnc3vi0u7/pv711vke.json', 'init=/tmp/tmpnc3vi0u7/7ibv9zb9.json', 'output', 'file=/tmp/tmpnc3vi0u7/prophet_modelle324lli/prophet_model-20231001051816.csv', 'method=optimize', 'algorithm=lbfgs', 'iter=10000']\n",
            "05:18:16 - cmdstanpy - INFO - Chain [1] start processing\n",
            "INFO:cmdstanpy:Chain [1] start processing\n",
            "05:18:16 - cmdstanpy - INFO - Chain [1] done processing\n",
            "INFO:cmdstanpy:Chain [1] done processing\n"
          ]
        },
        {
          "output_type": "stream",
          "name": "stdout",
          "text": [
            "+++++++++++++++++++++++++++++++++++++++++++++++++++++++++++++++++++++++++++++++++++++++ [('Prophet', 212.521), ('ARIMA', 14.0795), ('ETS', 124.1032), ('XGBoost', 214.6748)]\n",
            "+++++++++++++++++++++++++++++++++++++++++++++++++++++++++++++++++++++++++++++++++++++++ ARIMA 107 452 3\n"
          ]
        },
        {
          "output_type": "stream",
          "name": "stderr",
          "text": [
            "/usr/local/lib/python3.10/dist-packages/statsmodels/tsa/base/tsa_model.py:473: ValueWarning: No frequency information was provided, so inferred frequency D will be used.\n",
            "  self._init_dates(dates, freq)\n",
            "/usr/local/lib/python3.10/dist-packages/statsmodels/tsa/holtwinters/model.py:917: ConvergenceWarning: Optimization failed to converge. Check mle_retvals.\n",
            "  warnings.warn(\n",
            "<ipython-input-10-fd7e9e95ee04>:69: FutureWarning: The frame.append method is deprecated and will be removed from pandas in a future version. Use pandas.concat instead.\n",
            "  results_df = results_df.append(result_dict, ignore_index=True)\n",
            "INFO:prophet:Disabling yearly seasonality. Run prophet with yearly_seasonality=True to override this.\n",
            "INFO:prophet:Disabling daily seasonality. Run prophet with daily_seasonality=True to override this.\n",
            "DEBUG:cmdstanpy:input tempfile: /tmp/tmpnc3vi0u7/0fjeersa.json\n",
            "DEBUG:cmdstanpy:input tempfile: /tmp/tmpnc3vi0u7/0bvpd_po.json\n",
            "DEBUG:cmdstanpy:idx 0\n",
            "DEBUG:cmdstanpy:running CmdStan, num_threads: None\n",
            "DEBUG:cmdstanpy:CmdStan args: ['/usr/local/lib/python3.10/dist-packages/prophet/stan_model/prophet_model.bin', 'random', 'seed=15437', 'data', 'file=/tmp/tmpnc3vi0u7/0fjeersa.json', 'init=/tmp/tmpnc3vi0u7/0bvpd_po.json', 'output', 'file=/tmp/tmpnc3vi0u7/prophet_modeluh8_4348/prophet_model-20231001051831.csv', 'method=optimize', 'algorithm=lbfgs', 'iter=10000']\n",
            "05:18:31 - cmdstanpy - INFO - Chain [1] start processing\n",
            "INFO:cmdstanpy:Chain [1] start processing\n",
            "05:18:31 - cmdstanpy - INFO - Chain [1] done processing\n",
            "INFO:cmdstanpy:Chain [1] done processing\n"
          ]
        },
        {
          "output_type": "stream",
          "name": "stdout",
          "text": [
            "+++++++++++++++++++++++++++++++++++++++++++++++++++++++++++++++++++++++++++++++++++++++ [('Prophet', 37.5937), ('ARIMA', 13.0985), ('ETS', 23.2677), ('XGBoost', 54.4465)]\n",
            "+++++++++++++++++++++++++++++++++++++++++++++++++++++++++++++++++++++++++++++++++++++++ ARIMA 108 455 3\n"
          ]
        },
        {
          "output_type": "stream",
          "name": "stderr",
          "text": [
            "/usr/local/lib/python3.10/dist-packages/statsmodels/tsa/base/tsa_model.py:473: ValueWarning: No frequency information was provided, so inferred frequency D will be used.\n",
            "  self._init_dates(dates, freq)\n",
            "/usr/local/lib/python3.10/dist-packages/statsmodels/tsa/holtwinters/model.py:917: ConvergenceWarning: Optimization failed to converge. Check mle_retvals.\n",
            "  warnings.warn(\n",
            "<ipython-input-10-fd7e9e95ee04>:69: FutureWarning: The frame.append method is deprecated and will be removed from pandas in a future version. Use pandas.concat instead.\n",
            "  results_df = results_df.append(result_dict, ignore_index=True)\n",
            "INFO:prophet:Disabling yearly seasonality. Run prophet with yearly_seasonality=True to override this.\n",
            "INFO:prophet:Disabling daily seasonality. Run prophet with daily_seasonality=True to override this.\n",
            "DEBUG:cmdstanpy:input tempfile: /tmp/tmpnc3vi0u7/04stvahn.json\n",
            "DEBUG:cmdstanpy:input tempfile: /tmp/tmpnc3vi0u7/v94zv9hv.json\n",
            "DEBUG:cmdstanpy:idx 0\n",
            "DEBUG:cmdstanpy:running CmdStan, num_threads: None\n",
            "DEBUG:cmdstanpy:CmdStan args: ['/usr/local/lib/python3.10/dist-packages/prophet/stan_model/prophet_model.bin', 'random', 'seed=87945', 'data', 'file=/tmp/tmpnc3vi0u7/04stvahn.json', 'init=/tmp/tmpnc3vi0u7/v94zv9hv.json', 'output', 'file=/tmp/tmpnc3vi0u7/prophet_modelbbutkxmq/prophet_model-20231001051857.csv', 'method=optimize', 'algorithm=lbfgs', 'iter=10000']\n",
            "05:18:57 - cmdstanpy - INFO - Chain [1] start processing\n",
            "INFO:cmdstanpy:Chain [1] start processing\n",
            "05:18:57 - cmdstanpy - INFO - Chain [1] done processing\n",
            "INFO:cmdstanpy:Chain [1] done processing\n"
          ]
        },
        {
          "output_type": "stream",
          "name": "stdout",
          "text": [
            "+++++++++++++++++++++++++++++++++++++++++++++++++++++++++++++++++++++++++++++++++++++++ [('Prophet', 83.0677), ('ARIMA', 13.6605), ('ETS', 34.262), ('XGBoost', 27.8447)]\n",
            "+++++++++++++++++++++++++++++++++++++++++++++++++++++++++++++++++++++++++++++++++++++++ ARIMA 109 458 3\n"
          ]
        },
        {
          "output_type": "stream",
          "name": "stderr",
          "text": [
            "/usr/local/lib/python3.10/dist-packages/statsmodels/tsa/base/tsa_model.py:473: ValueWarning: No frequency information was provided, so inferred frequency D will be used.\n",
            "  self._init_dates(dates, freq)\n",
            "/usr/local/lib/python3.10/dist-packages/statsmodels/tsa/holtwinters/model.py:917: ConvergenceWarning: Optimization failed to converge. Check mle_retvals.\n",
            "  warnings.warn(\n",
            "<ipython-input-10-fd7e9e95ee04>:69: FutureWarning: The frame.append method is deprecated and will be removed from pandas in a future version. Use pandas.concat instead.\n",
            "  results_df = results_df.append(result_dict, ignore_index=True)\n",
            "INFO:prophet:Disabling yearly seasonality. Run prophet with yearly_seasonality=True to override this.\n",
            "INFO:prophet:Disabling daily seasonality. Run prophet with daily_seasonality=True to override this.\n",
            "DEBUG:cmdstanpy:input tempfile: /tmp/tmpnc3vi0u7/3o385zq8.json\n",
            "DEBUG:cmdstanpy:input tempfile: /tmp/tmpnc3vi0u7/2kkknwm0.json\n",
            "DEBUG:cmdstanpy:idx 0\n",
            "DEBUG:cmdstanpy:running CmdStan, num_threads: None\n",
            "DEBUG:cmdstanpy:CmdStan args: ['/usr/local/lib/python3.10/dist-packages/prophet/stan_model/prophet_model.bin', 'random', 'seed=33965', 'data', 'file=/tmp/tmpnc3vi0u7/3o385zq8.json', 'init=/tmp/tmpnc3vi0u7/2kkknwm0.json', 'output', 'file=/tmp/tmpnc3vi0u7/prophet_modelsqoqiz5z/prophet_model-20231001051919.csv', 'method=optimize', 'algorithm=lbfgs', 'iter=10000']\n",
            "05:19:19 - cmdstanpy - INFO - Chain [1] start processing\n",
            "INFO:cmdstanpy:Chain [1] start processing\n",
            "05:19:19 - cmdstanpy - INFO - Chain [1] done processing\n",
            "INFO:cmdstanpy:Chain [1] done processing\n"
          ]
        },
        {
          "output_type": "stream",
          "name": "stdout",
          "text": [
            "+++++++++++++++++++++++++++++++++++++++++++++++++++++++++++++++++++++++++++++++++++++++ [('Prophet', 410.97), ('ARIMA', 90.7558), ('ETS', 238.9017), ('XGBoost', 276.9669)]\n",
            "+++++++++++++++++++++++++++++++++++++++++++++++++++++++++++++++++++++++++++++++++++++++ ARIMA 110 461 3\n"
          ]
        },
        {
          "output_type": "stream",
          "name": "stderr",
          "text": [
            "/usr/local/lib/python3.10/dist-packages/statsmodels/tsa/base/tsa_model.py:473: ValueWarning: No frequency information was provided, so inferred frequency D will be used.\n",
            "  self._init_dates(dates, freq)\n",
            "/usr/local/lib/python3.10/dist-packages/statsmodels/tsa/holtwinters/model.py:917: ConvergenceWarning: Optimization failed to converge. Check mle_retvals.\n",
            "  warnings.warn(\n",
            "<ipython-input-10-fd7e9e95ee04>:69: FutureWarning: The frame.append method is deprecated and will be removed from pandas in a future version. Use pandas.concat instead.\n",
            "  results_df = results_df.append(result_dict, ignore_index=True)\n",
            "INFO:prophet:Disabling yearly seasonality. Run prophet with yearly_seasonality=True to override this.\n",
            "INFO:prophet:Disabling daily seasonality. Run prophet with daily_seasonality=True to override this.\n",
            "DEBUG:cmdstanpy:input tempfile: /tmp/tmpnc3vi0u7/0qjzt7kl.json\n",
            "DEBUG:cmdstanpy:input tempfile: /tmp/tmpnc3vi0u7/2mkc4pmv.json\n",
            "DEBUG:cmdstanpy:idx 0\n",
            "DEBUG:cmdstanpy:running CmdStan, num_threads: None\n",
            "DEBUG:cmdstanpy:CmdStan args: ['/usr/local/lib/python3.10/dist-packages/prophet/stan_model/prophet_model.bin', 'random', 'seed=91704', 'data', 'file=/tmp/tmpnc3vi0u7/0qjzt7kl.json', 'init=/tmp/tmpnc3vi0u7/2mkc4pmv.json', 'output', 'file=/tmp/tmpnc3vi0u7/prophet_modelxndnw_lt/prophet_model-20231001051945.csv', 'method=optimize', 'algorithm=lbfgs', 'iter=10000']\n",
            "05:19:45 - cmdstanpy - INFO - Chain [1] start processing\n",
            "INFO:cmdstanpy:Chain [1] start processing\n",
            "05:19:45 - cmdstanpy - INFO - Chain [1] done processing\n",
            "INFO:cmdstanpy:Chain [1] done processing\n"
          ]
        },
        {
          "output_type": "stream",
          "name": "stdout",
          "text": [
            "+++++++++++++++++++++++++++++++++++++++++++++++++++++++++++++++++++++++++++++++++++++++ [('Prophet', 35.5309), ('ARIMA', 1.9587), ('ETS', 17.1711), ('XGBoost', 26.6046)]\n",
            "+++++++++++++++++++++++++++++++++++++++++++++++++++++++++++++++++++++++++++++++++++++++ ARIMA 111 464 3\n"
          ]
        },
        {
          "output_type": "stream",
          "name": "stderr",
          "text": [
            "/usr/local/lib/python3.10/dist-packages/statsmodels/tsa/base/tsa_model.py:473: ValueWarning: No frequency information was provided, so inferred frequency D will be used.\n",
            "  self._init_dates(dates, freq)\n",
            "/usr/local/lib/python3.10/dist-packages/statsmodels/tsa/holtwinters/model.py:917: ConvergenceWarning: Optimization failed to converge. Check mle_retvals.\n",
            "  warnings.warn(\n",
            "<ipython-input-10-fd7e9e95ee04>:69: FutureWarning: The frame.append method is deprecated and will be removed from pandas in a future version. Use pandas.concat instead.\n",
            "  results_df = results_df.append(result_dict, ignore_index=True)\n",
            "INFO:prophet:Disabling yearly seasonality. Run prophet with yearly_seasonality=True to override this.\n",
            "INFO:prophet:Disabling daily seasonality. Run prophet with daily_seasonality=True to override this.\n",
            "DEBUG:cmdstanpy:input tempfile: /tmp/tmpnc3vi0u7/_6zkrzjn.json\n",
            "DEBUG:cmdstanpy:input tempfile: /tmp/tmpnc3vi0u7/n9c103sm.json\n",
            "DEBUG:cmdstanpy:idx 0\n",
            "DEBUG:cmdstanpy:running CmdStan, num_threads: None\n",
            "DEBUG:cmdstanpy:CmdStan args: ['/usr/local/lib/python3.10/dist-packages/prophet/stan_model/prophet_model.bin', 'random', 'seed=66296', 'data', 'file=/tmp/tmpnc3vi0u7/_6zkrzjn.json', 'init=/tmp/tmpnc3vi0u7/n9c103sm.json', 'output', 'file=/tmp/tmpnc3vi0u7/prophet_modeld0tmy2c7/prophet_model-20231001052008.csv', 'method=optimize', 'algorithm=lbfgs', 'iter=10000']\n",
            "05:20:08 - cmdstanpy - INFO - Chain [1] start processing\n",
            "INFO:cmdstanpy:Chain [1] start processing\n",
            "05:20:08 - cmdstanpy - INFO - Chain [1] done processing\n",
            "INFO:cmdstanpy:Chain [1] done processing\n"
          ]
        },
        {
          "output_type": "stream",
          "name": "stdout",
          "text": [
            "+++++++++++++++++++++++++++++++++++++++++++++++++++++++++++++++++++++++++++++++++++++++ [('Prophet', 217.5964), ('ARIMA', 23.1126), ('ETS', 231.8321), ('XGBoost', 103.2722)]\n",
            "+++++++++++++++++++++++++++++++++++++++++++++++++++++++++++++++++++++++++++++++++++++++ ARIMA 112 467 3\n"
          ]
        },
        {
          "output_type": "stream",
          "name": "stderr",
          "text": [
            "/usr/local/lib/python3.10/dist-packages/statsmodels/tsa/base/tsa_model.py:473: ValueWarning: No frequency information was provided, so inferred frequency D will be used.\n",
            "  self._init_dates(dates, freq)\n",
            "/usr/local/lib/python3.10/dist-packages/statsmodels/tsa/holtwinters/model.py:917: ConvergenceWarning: Optimization failed to converge. Check mle_retvals.\n",
            "  warnings.warn(\n",
            "<ipython-input-10-fd7e9e95ee04>:69: FutureWarning: The frame.append method is deprecated and will be removed from pandas in a future version. Use pandas.concat instead.\n",
            "  results_df = results_df.append(result_dict, ignore_index=True)\n",
            "INFO:prophet:Disabling yearly seasonality. Run prophet with yearly_seasonality=True to override this.\n",
            "INFO:prophet:Disabling daily seasonality. Run prophet with daily_seasonality=True to override this.\n",
            "DEBUG:cmdstanpy:input tempfile: /tmp/tmpnc3vi0u7/zbv1jq3d.json\n",
            "DEBUG:cmdstanpy:input tempfile: /tmp/tmpnc3vi0u7/f4w9ez3d.json\n",
            "DEBUG:cmdstanpy:idx 0\n",
            "DEBUG:cmdstanpy:running CmdStan, num_threads: None\n",
            "DEBUG:cmdstanpy:CmdStan args: ['/usr/local/lib/python3.10/dist-packages/prophet/stan_model/prophet_model.bin', 'random', 'seed=4935', 'data', 'file=/tmp/tmpnc3vi0u7/zbv1jq3d.json', 'init=/tmp/tmpnc3vi0u7/f4w9ez3d.json', 'output', 'file=/tmp/tmpnc3vi0u7/prophet_model8uou2lrq/prophet_model-20231001052025.csv', 'method=optimize', 'algorithm=lbfgs', 'iter=10000']\n",
            "05:20:25 - cmdstanpy - INFO - Chain [1] start processing\n",
            "INFO:cmdstanpy:Chain [1] start processing\n",
            "05:20:25 - cmdstanpy - INFO - Chain [1] done processing\n",
            "INFO:cmdstanpy:Chain [1] done processing\n"
          ]
        },
        {
          "output_type": "stream",
          "name": "stdout",
          "text": [
            "+++++++++++++++++++++++++++++++++++++++++++++++++++++++++++++++++++++++++++++++++++++++ [('Prophet', 31.9666), ('ARIMA', 9.6592), ('ETS', 42.1828), ('XGBoost', 15.2118)]\n",
            "+++++++++++++++++++++++++++++++++++++++++++++++++++++++++++++++++++++++++++++++++++++++ ARIMA 113 470 3\n"
          ]
        },
        {
          "output_type": "stream",
          "name": "stderr",
          "text": [
            "/usr/local/lib/python3.10/dist-packages/statsmodels/tsa/base/tsa_model.py:473: ValueWarning: No frequency information was provided, so inferred frequency D will be used.\n",
            "  self._init_dates(dates, freq)\n",
            "/usr/local/lib/python3.10/dist-packages/statsmodels/tsa/holtwinters/model.py:917: ConvergenceWarning: Optimization failed to converge. Check mle_retvals.\n",
            "  warnings.warn(\n",
            "<ipython-input-10-fd7e9e95ee04>:69: FutureWarning: The frame.append method is deprecated and will be removed from pandas in a future version. Use pandas.concat instead.\n",
            "  results_df = results_df.append(result_dict, ignore_index=True)\n",
            "INFO:prophet:Disabling yearly seasonality. Run prophet with yearly_seasonality=True to override this.\n",
            "INFO:prophet:Disabling daily seasonality. Run prophet with daily_seasonality=True to override this.\n",
            "DEBUG:cmdstanpy:input tempfile: /tmp/tmpnc3vi0u7/f989si2g.json\n",
            "DEBUG:cmdstanpy:input tempfile: /tmp/tmpnc3vi0u7/hb1ycylw.json\n",
            "DEBUG:cmdstanpy:idx 0\n",
            "DEBUG:cmdstanpy:running CmdStan, num_threads: None\n",
            "DEBUG:cmdstanpy:CmdStan args: ['/usr/local/lib/python3.10/dist-packages/prophet/stan_model/prophet_model.bin', 'random', 'seed=65165', 'data', 'file=/tmp/tmpnc3vi0u7/f989si2g.json', 'init=/tmp/tmpnc3vi0u7/hb1ycylw.json', 'output', 'file=/tmp/tmpnc3vi0u7/prophet_model4jds9wkd/prophet_model-20231001052041.csv', 'method=optimize', 'algorithm=lbfgs', 'iter=10000']\n",
            "05:20:41 - cmdstanpy - INFO - Chain [1] start processing\n",
            "INFO:cmdstanpy:Chain [1] start processing\n",
            "05:20:41 - cmdstanpy - INFO - Chain [1] done processing\n",
            "INFO:cmdstanpy:Chain [1] done processing\n"
          ]
        },
        {
          "output_type": "stream",
          "name": "stdout",
          "text": [
            "+++++++++++++++++++++++++++++++++++++++++++++++++++++++++++++++++++++++++++++++++++++++ [('Prophet', 229.2135), ('ARIMA', 41.448), ('ETS', 143.6497), ('XGBoost', 122.7482)]\n",
            "+++++++++++++++++++++++++++++++++++++++++++++++++++++++++++++++++++++++++++++++++++++++ ARIMA 114 473 3\n"
          ]
        },
        {
          "output_type": "stream",
          "name": "stderr",
          "text": [
            "/usr/local/lib/python3.10/dist-packages/statsmodels/tsa/base/tsa_model.py:473: ValueWarning: No frequency information was provided, so inferred frequency D will be used.\n",
            "  self._init_dates(dates, freq)\n",
            "/usr/local/lib/python3.10/dist-packages/statsmodels/tsa/holtwinters/model.py:917: ConvergenceWarning: Optimization failed to converge. Check mle_retvals.\n",
            "  warnings.warn(\n",
            "<ipython-input-10-fd7e9e95ee04>:69: FutureWarning: The frame.append method is deprecated and will be removed from pandas in a future version. Use pandas.concat instead.\n",
            "  results_df = results_df.append(result_dict, ignore_index=True)\n",
            "INFO:prophet:Disabling yearly seasonality. Run prophet with yearly_seasonality=True to override this.\n",
            "INFO:prophet:Disabling daily seasonality. Run prophet with daily_seasonality=True to override this.\n",
            "DEBUG:cmdstanpy:input tempfile: /tmp/tmpnc3vi0u7/vytbqz6t.json\n",
            "DEBUG:cmdstanpy:input tempfile: /tmp/tmpnc3vi0u7/f5jic3_l.json\n",
            "DEBUG:cmdstanpy:idx 0\n",
            "DEBUG:cmdstanpy:running CmdStan, num_threads: None\n",
            "DEBUG:cmdstanpy:CmdStan args: ['/usr/local/lib/python3.10/dist-packages/prophet/stan_model/prophet_model.bin', 'random', 'seed=26981', 'data', 'file=/tmp/tmpnc3vi0u7/vytbqz6t.json', 'init=/tmp/tmpnc3vi0u7/f5jic3_l.json', 'output', 'file=/tmp/tmpnc3vi0u7/prophet_modelkk3ghjlr/prophet_model-20231001052107.csv', 'method=optimize', 'algorithm=lbfgs', 'iter=10000']\n",
            "05:21:07 - cmdstanpy - INFO - Chain [1] start processing\n",
            "INFO:cmdstanpy:Chain [1] start processing\n",
            "05:21:07 - cmdstanpy - INFO - Chain [1] done processing\n",
            "INFO:cmdstanpy:Chain [1] done processing\n"
          ]
        },
        {
          "output_type": "stream",
          "name": "stdout",
          "text": [
            "+++++++++++++++++++++++++++++++++++++++++++++++++++++++++++++++++++++++++++++++++++++++ [('Prophet', 34.6561), ('ARIMA', 14.4218), ('ETS', 40.7466), ('XGBoost', 8.4006)]\n",
            "+++++++++++++++++++++++++++++++++++++++++++++++++++++++++++++++++++++++++++++++++++++++ XGBoost 115 476 3\n"
          ]
        },
        {
          "output_type": "stream",
          "name": "stderr",
          "text": [
            "/usr/local/lib/python3.10/dist-packages/statsmodels/tsa/base/tsa_model.py:473: ValueWarning: No frequency information was provided, so inferred frequency D will be used.\n",
            "  self._init_dates(dates, freq)\n",
            "/usr/local/lib/python3.10/dist-packages/statsmodels/tsa/holtwinters/model.py:917: ConvergenceWarning: Optimization failed to converge. Check mle_retvals.\n",
            "  warnings.warn(\n",
            "<ipython-input-10-fd7e9e95ee04>:69: FutureWarning: The frame.append method is deprecated and will be removed from pandas in a future version. Use pandas.concat instead.\n",
            "  results_df = results_df.append(result_dict, ignore_index=True)\n",
            "INFO:prophet:Disabling yearly seasonality. Run prophet with yearly_seasonality=True to override this.\n",
            "INFO:prophet:Disabling daily seasonality. Run prophet with daily_seasonality=True to override this.\n",
            "DEBUG:cmdstanpy:input tempfile: /tmp/tmpnc3vi0u7/zrs4c5vc.json\n",
            "DEBUG:cmdstanpy:input tempfile: /tmp/tmpnc3vi0u7/3_pb_6jk.json\n",
            "DEBUG:cmdstanpy:idx 0\n",
            "DEBUG:cmdstanpy:running CmdStan, num_threads: None\n",
            "DEBUG:cmdstanpy:CmdStan args: ['/usr/local/lib/python3.10/dist-packages/prophet/stan_model/prophet_model.bin', 'random', 'seed=49218', 'data', 'file=/tmp/tmpnc3vi0u7/zrs4c5vc.json', 'init=/tmp/tmpnc3vi0u7/3_pb_6jk.json', 'output', 'file=/tmp/tmpnc3vi0u7/prophet_modelkn_5bnqd/prophet_model-20231001052133.csv', 'method=optimize', 'algorithm=lbfgs', 'iter=10000']\n",
            "05:21:33 - cmdstanpy - INFO - Chain [1] start processing\n",
            "INFO:cmdstanpy:Chain [1] start processing\n",
            "05:21:33 - cmdstanpy - INFO - Chain [1] done processing\n",
            "INFO:cmdstanpy:Chain [1] done processing\n"
          ]
        },
        {
          "output_type": "stream",
          "name": "stdout",
          "text": [
            "+++++++++++++++++++++++++++++++++++++++++++++++++++++++++++++++++++++++++++++++++++++++ [('Prophet', 71.0609), ('ARIMA', 18.2661), ('ETS', 43.0912), ('XGBoost', 57.561)]\n",
            "+++++++++++++++++++++++++++++++++++++++++++++++++++++++++++++++++++++++++++++++++++++++ ARIMA 116 479 3\n"
          ]
        },
        {
          "output_type": "stream",
          "name": "stderr",
          "text": [
            "/usr/local/lib/python3.10/dist-packages/statsmodels/tsa/base/tsa_model.py:473: ValueWarning: No frequency information was provided, so inferred frequency D will be used.\n",
            "  self._init_dates(dates, freq)\n",
            "/usr/local/lib/python3.10/dist-packages/statsmodels/tsa/holtwinters/model.py:917: ConvergenceWarning: Optimization failed to converge. Check mle_retvals.\n",
            "  warnings.warn(\n",
            "<ipython-input-10-fd7e9e95ee04>:69: FutureWarning: The frame.append method is deprecated and will be removed from pandas in a future version. Use pandas.concat instead.\n",
            "  results_df = results_df.append(result_dict, ignore_index=True)\n",
            "INFO:prophet:Disabling yearly seasonality. Run prophet with yearly_seasonality=True to override this.\n",
            "INFO:prophet:Disabling daily seasonality. Run prophet with daily_seasonality=True to override this.\n",
            "DEBUG:cmdstanpy:input tempfile: /tmp/tmpnc3vi0u7/cw5s_8ip.json\n",
            "DEBUG:cmdstanpy:input tempfile: /tmp/tmpnc3vi0u7/wpgxkmmt.json\n",
            "DEBUG:cmdstanpy:idx 0\n",
            "DEBUG:cmdstanpy:running CmdStan, num_threads: None\n",
            "DEBUG:cmdstanpy:CmdStan args: ['/usr/local/lib/python3.10/dist-packages/prophet/stan_model/prophet_model.bin', 'random', 'seed=49896', 'data', 'file=/tmp/tmpnc3vi0u7/cw5s_8ip.json', 'init=/tmp/tmpnc3vi0u7/wpgxkmmt.json', 'output', 'file=/tmp/tmpnc3vi0u7/prophet_modelmboz1edp/prophet_model-20231001052156.csv', 'method=optimize', 'algorithm=lbfgs', 'iter=10000']\n",
            "05:21:56 - cmdstanpy - INFO - Chain [1] start processing\n",
            "INFO:cmdstanpy:Chain [1] start processing\n",
            "05:21:56 - cmdstanpy - INFO - Chain [1] done processing\n",
            "INFO:cmdstanpy:Chain [1] done processing\n"
          ]
        },
        {
          "output_type": "stream",
          "name": "stdout",
          "text": [
            "+++++++++++++++++++++++++++++++++++++++++++++++++++++++++++++++++++++++++++++++++++++++ [('Prophet', 193.8941), ('ARIMA', 112.6146), ('ETS', 146.7567), ('XGBoost', 288.0117)]\n",
            "+++++++++++++++++++++++++++++++++++++++++++++++++++++++++++++++++++++++++++++++++++++++ ARIMA 117 482 3\n"
          ]
        },
        {
          "output_type": "stream",
          "name": "stderr",
          "text": [
            "/usr/local/lib/python3.10/dist-packages/statsmodels/tsa/base/tsa_model.py:473: ValueWarning: No frequency information was provided, so inferred frequency D will be used.\n",
            "  self._init_dates(dates, freq)\n",
            "/usr/local/lib/python3.10/dist-packages/statsmodels/tsa/holtwinters/model.py:917: ConvergenceWarning: Optimization failed to converge. Check mle_retvals.\n",
            "  warnings.warn(\n",
            "<ipython-input-10-fd7e9e95ee04>:69: FutureWarning: The frame.append method is deprecated and will be removed from pandas in a future version. Use pandas.concat instead.\n",
            "  results_df = results_df.append(result_dict, ignore_index=True)\n",
            "INFO:prophet:Disabling yearly seasonality. Run prophet with yearly_seasonality=True to override this.\n",
            "INFO:prophet:Disabling daily seasonality. Run prophet with daily_seasonality=True to override this.\n",
            "DEBUG:cmdstanpy:input tempfile: /tmp/tmpnc3vi0u7/64nv51vf.json\n",
            "DEBUG:cmdstanpy:input tempfile: /tmp/tmpnc3vi0u7/pthatnly.json\n",
            "DEBUG:cmdstanpy:idx 0\n",
            "DEBUG:cmdstanpy:running CmdStan, num_threads: None\n",
            "DEBUG:cmdstanpy:CmdStan args: ['/usr/local/lib/python3.10/dist-packages/prophet/stan_model/prophet_model.bin', 'random', 'seed=42154', 'data', 'file=/tmp/tmpnc3vi0u7/64nv51vf.json', 'init=/tmp/tmpnc3vi0u7/pthatnly.json', 'output', 'file=/tmp/tmpnc3vi0u7/prophet_modelg4ili6jm/prophet_model-20231001052212.csv', 'method=optimize', 'algorithm=lbfgs', 'iter=10000']\n",
            "05:22:12 - cmdstanpy - INFO - Chain [1] start processing\n",
            "INFO:cmdstanpy:Chain [1] start processing\n",
            "05:22:12 - cmdstanpy - INFO - Chain [1] done processing\n",
            "INFO:cmdstanpy:Chain [1] done processing\n"
          ]
        },
        {
          "output_type": "stream",
          "name": "stdout",
          "text": [
            "+++++++++++++++++++++++++++++++++++++++++++++++++++++++++++++++++++++++++++++++++++++++ [('Prophet', 47.613), ('ARIMA', 27.5219), ('ETS', 45.4385), ('XGBoost', 47.6871)]\n",
            "+++++++++++++++++++++++++++++++++++++++++++++++++++++++++++++++++++++++++++++++++++++++ ARIMA 118 485 3\n"
          ]
        },
        {
          "output_type": "stream",
          "name": "stderr",
          "text": [
            "/usr/local/lib/python3.10/dist-packages/statsmodels/tsa/base/tsa_model.py:473: ValueWarning: No frequency information was provided, so inferred frequency D will be used.\n",
            "  self._init_dates(dates, freq)\n",
            "/usr/local/lib/python3.10/dist-packages/statsmodels/tsa/holtwinters/model.py:917: ConvergenceWarning: Optimization failed to converge. Check mle_retvals.\n",
            "  warnings.warn(\n",
            "<ipython-input-10-fd7e9e95ee04>:69: FutureWarning: The frame.append method is deprecated and will be removed from pandas in a future version. Use pandas.concat instead.\n",
            "  results_df = results_df.append(result_dict, ignore_index=True)\n",
            "INFO:prophet:Disabling yearly seasonality. Run prophet with yearly_seasonality=True to override this.\n",
            "INFO:prophet:Disabling daily seasonality. Run prophet with daily_seasonality=True to override this.\n",
            "DEBUG:cmdstanpy:input tempfile: /tmp/tmpnc3vi0u7/9el_1noc.json\n",
            "DEBUG:cmdstanpy:input tempfile: /tmp/tmpnc3vi0u7/0j011ha5.json\n",
            "DEBUG:cmdstanpy:idx 0\n",
            "DEBUG:cmdstanpy:running CmdStan, num_threads: None\n",
            "DEBUG:cmdstanpy:CmdStan args: ['/usr/local/lib/python3.10/dist-packages/prophet/stan_model/prophet_model.bin', 'random', 'seed=36265', 'data', 'file=/tmp/tmpnc3vi0u7/9el_1noc.json', 'init=/tmp/tmpnc3vi0u7/0j011ha5.json', 'output', 'file=/tmp/tmpnc3vi0u7/prophet_modelxdy1wf3w/prophet_model-20231001052239.csv', 'method=optimize', 'algorithm=lbfgs', 'iter=10000']\n",
            "05:22:39 - cmdstanpy - INFO - Chain [1] start processing\n",
            "INFO:cmdstanpy:Chain [1] start processing\n",
            "05:22:39 - cmdstanpy - INFO - Chain [1] done processing\n",
            "INFO:cmdstanpy:Chain [1] done processing\n"
          ]
        },
        {
          "output_type": "stream",
          "name": "stdout",
          "text": [
            "+++++++++++++++++++++++++++++++++++++++++++++++++++++++++++++++++++++++++++++++++++++++ [('Prophet', 193.6304), ('ARIMA', 57.5669), ('ETS', 161.1223), ('XGBoost', 211.2664)]\n",
            "+++++++++++++++++++++++++++++++++++++++++++++++++++++++++++++++++++++++++++++++++++++++ ARIMA 119 488 3\n"
          ]
        },
        {
          "output_type": "stream",
          "name": "stderr",
          "text": [
            "/usr/local/lib/python3.10/dist-packages/statsmodels/tsa/base/tsa_model.py:473: ValueWarning: No frequency information was provided, so inferred frequency D will be used.\n",
            "  self._init_dates(dates, freq)\n",
            "/usr/local/lib/python3.10/dist-packages/statsmodels/tsa/holtwinters/model.py:917: ConvergenceWarning: Optimization failed to converge. Check mle_retvals.\n",
            "  warnings.warn(\n",
            "<ipython-input-10-fd7e9e95ee04>:69: FutureWarning: The frame.append method is deprecated and will be removed from pandas in a future version. Use pandas.concat instead.\n",
            "  results_df = results_df.append(result_dict, ignore_index=True)\n",
            "INFO:prophet:Disabling yearly seasonality. Run prophet with yearly_seasonality=True to override this.\n",
            "INFO:prophet:Disabling daily seasonality. Run prophet with daily_seasonality=True to override this.\n",
            "DEBUG:cmdstanpy:input tempfile: /tmp/tmpnc3vi0u7/yr_0d_eg.json\n",
            "DEBUG:cmdstanpy:input tempfile: /tmp/tmpnc3vi0u7/ejfo_uz1.json\n",
            "DEBUG:cmdstanpy:idx 0\n",
            "DEBUG:cmdstanpy:running CmdStan, num_threads: None\n",
            "DEBUG:cmdstanpy:CmdStan args: ['/usr/local/lib/python3.10/dist-packages/prophet/stan_model/prophet_model.bin', 'random', 'seed=59738', 'data', 'file=/tmp/tmpnc3vi0u7/yr_0d_eg.json', 'init=/tmp/tmpnc3vi0u7/ejfo_uz1.json', 'output', 'file=/tmp/tmpnc3vi0u7/prophet_modelzfozkc21/prophet_model-20231001052255.csv', 'method=optimize', 'algorithm=lbfgs', 'iter=10000']\n",
            "05:22:55 - cmdstanpy - INFO - Chain [1] start processing\n",
            "INFO:cmdstanpy:Chain [1] start processing\n",
            "05:22:55 - cmdstanpy - INFO - Chain [1] done processing\n",
            "INFO:cmdstanpy:Chain [1] done processing\n"
          ]
        },
        {
          "output_type": "stream",
          "name": "stdout",
          "text": [
            "+++++++++++++++++++++++++++++++++++++++++++++++++++++++++++++++++++++++++++++++++++++++ [('Prophet', 42.1654), ('ARIMA', 11.1221), ('ETS', 30.8588), ('XGBoost', 16.0445)]\n",
            "+++++++++++++++++++++++++++++++++++++++++++++++++++++++++++++++++++++++++++++++++++++++ ARIMA 120 491 3\n"
          ]
        },
        {
          "output_type": "stream",
          "name": "stderr",
          "text": [
            "/usr/local/lib/python3.10/dist-packages/statsmodels/tsa/base/tsa_model.py:473: ValueWarning: No frequency information was provided, so inferred frequency D will be used.\n",
            "  self._init_dates(dates, freq)\n",
            "/usr/local/lib/python3.10/dist-packages/statsmodels/tsa/holtwinters/model.py:917: ConvergenceWarning: Optimization failed to converge. Check mle_retvals.\n",
            "  warnings.warn(\n",
            "<ipython-input-10-fd7e9e95ee04>:69: FutureWarning: The frame.append method is deprecated and will be removed from pandas in a future version. Use pandas.concat instead.\n",
            "  results_df = results_df.append(result_dict, ignore_index=True)\n",
            "INFO:prophet:Disabling yearly seasonality. Run prophet with yearly_seasonality=True to override this.\n",
            "INFO:prophet:Disabling daily seasonality. Run prophet with daily_seasonality=True to override this.\n",
            "DEBUG:cmdstanpy:input tempfile: /tmp/tmpnc3vi0u7/cabos4o3.json\n",
            "DEBUG:cmdstanpy:input tempfile: /tmp/tmpnc3vi0u7/h8y6zniv.json\n",
            "DEBUG:cmdstanpy:idx 0\n",
            "DEBUG:cmdstanpy:running CmdStan, num_threads: None\n",
            "DEBUG:cmdstanpy:CmdStan args: ['/usr/local/lib/python3.10/dist-packages/prophet/stan_model/prophet_model.bin', 'random', 'seed=6621', 'data', 'file=/tmp/tmpnc3vi0u7/cabos4o3.json', 'init=/tmp/tmpnc3vi0u7/h8y6zniv.json', 'output', 'file=/tmp/tmpnc3vi0u7/prophet_modele9kfkr_r/prophet_model-20231001052311.csv', 'method=optimize', 'algorithm=lbfgs', 'iter=10000']\n",
            "05:23:11 - cmdstanpy - INFO - Chain [1] start processing\n",
            "INFO:cmdstanpy:Chain [1] start processing\n",
            "05:23:11 - cmdstanpy - INFO - Chain [1] done processing\n",
            "INFO:cmdstanpy:Chain [1] done processing\n"
          ]
        },
        {
          "output_type": "stream",
          "name": "stdout",
          "text": [
            "+++++++++++++++++++++++++++++++++++++++++++++++++++++++++++++++++++++++++++++++++++++++ [('Prophet', 194.4972), ('ARIMA', 73.6028), ('ETS', 136.2219), ('XGBoost', 104.2245)]\n",
            "+++++++++++++++++++++++++++++++++++++++++++++++++++++++++++++++++++++++++++++++++++++++ ARIMA 121 494 3\n"
          ]
        },
        {
          "output_type": "stream",
          "name": "stderr",
          "text": [
            "/usr/local/lib/python3.10/dist-packages/statsmodels/tsa/base/tsa_model.py:473: ValueWarning: No frequency information was provided, so inferred frequency D will be used.\n",
            "  self._init_dates(dates, freq)\n",
            "/usr/local/lib/python3.10/dist-packages/statsmodels/tsa/holtwinters/model.py:917: ConvergenceWarning: Optimization failed to converge. Check mle_retvals.\n",
            "  warnings.warn(\n",
            "<ipython-input-10-fd7e9e95ee04>:69: FutureWarning: The frame.append method is deprecated and will be removed from pandas in a future version. Use pandas.concat instead.\n",
            "  results_df = results_df.append(result_dict, ignore_index=True)\n",
            "INFO:prophet:Disabling yearly seasonality. Run prophet with yearly_seasonality=True to override this.\n",
            "INFO:prophet:Disabling daily seasonality. Run prophet with daily_seasonality=True to override this.\n",
            "DEBUG:cmdstanpy:input tempfile: /tmp/tmpnc3vi0u7/6lun2lxy.json\n",
            "DEBUG:cmdstanpy:input tempfile: /tmp/tmpnc3vi0u7/30s9rav8.json\n",
            "DEBUG:cmdstanpy:idx 0\n",
            "DEBUG:cmdstanpy:running CmdStan, num_threads: None\n",
            "DEBUG:cmdstanpy:CmdStan args: ['/usr/local/lib/python3.10/dist-packages/prophet/stan_model/prophet_model.bin', 'random', 'seed=43751', 'data', 'file=/tmp/tmpnc3vi0u7/6lun2lxy.json', 'init=/tmp/tmpnc3vi0u7/30s9rav8.json', 'output', 'file=/tmp/tmpnc3vi0u7/prophet_modelef1ysxd9/prophet_model-20231001052328.csv', 'method=optimize', 'algorithm=lbfgs', 'iter=10000']\n",
            "05:23:28 - cmdstanpy - INFO - Chain [1] start processing\n",
            "INFO:cmdstanpy:Chain [1] start processing\n",
            "05:23:28 - cmdstanpy - INFO - Chain [1] done processing\n",
            "INFO:cmdstanpy:Chain [1] done processing\n"
          ]
        },
        {
          "output_type": "stream",
          "name": "stdout",
          "text": [
            "+++++++++++++++++++++++++++++++++++++++++++++++++++++++++++++++++++++++++++++++++++++++ [('Prophet', 35.4864), ('ARIMA', 23.3545), ('ETS', 37.0756), ('XGBoost', 51.7258)]\n",
            "+++++++++++++++++++++++++++++++++++++++++++++++++++++++++++++++++++++++++++++++++++++++ ARIMA 122 497 3\n"
          ]
        },
        {
          "output_type": "stream",
          "name": "stderr",
          "text": [
            "/usr/local/lib/python3.10/dist-packages/statsmodels/tsa/base/tsa_model.py:473: ValueWarning: No frequency information was provided, so inferred frequency D will be used.\n",
            "  self._init_dates(dates, freq)\n",
            "/usr/local/lib/python3.10/dist-packages/statsmodels/tsa/holtwinters/model.py:917: ConvergenceWarning: Optimization failed to converge. Check mle_retvals.\n",
            "  warnings.warn(\n",
            "<ipython-input-10-fd7e9e95ee04>:69: FutureWarning: The frame.append method is deprecated and will be removed from pandas in a future version. Use pandas.concat instead.\n",
            "  results_df = results_df.append(result_dict, ignore_index=True)\n",
            "INFO:prophet:Disabling yearly seasonality. Run prophet with yearly_seasonality=True to override this.\n",
            "INFO:prophet:Disabling daily seasonality. Run prophet with daily_seasonality=True to override this.\n",
            "DEBUG:cmdstanpy:input tempfile: /tmp/tmpnc3vi0u7/xpii34gp.json\n",
            "DEBUG:cmdstanpy:input tempfile: /tmp/tmpnc3vi0u7/47lbv1un.json\n",
            "DEBUG:cmdstanpy:idx 0\n",
            "DEBUG:cmdstanpy:running CmdStan, num_threads: None\n",
            "DEBUG:cmdstanpy:CmdStan args: ['/usr/local/lib/python3.10/dist-packages/prophet/stan_model/prophet_model.bin', 'random', 'seed=89510', 'data', 'file=/tmp/tmpnc3vi0u7/xpii34gp.json', 'init=/tmp/tmpnc3vi0u7/47lbv1un.json', 'output', 'file=/tmp/tmpnc3vi0u7/prophet_model5mol5_gn/prophet_model-20231001052345.csv', 'method=optimize', 'algorithm=lbfgs', 'iter=10000']\n",
            "05:23:45 - cmdstanpy - INFO - Chain [1] start processing\n",
            "INFO:cmdstanpy:Chain [1] start processing\n",
            "05:23:45 - cmdstanpy - INFO - Chain [1] done processing\n",
            "INFO:cmdstanpy:Chain [1] done processing\n"
          ]
        },
        {
          "output_type": "stream",
          "name": "stdout",
          "text": [
            "+++++++++++++++++++++++++++++++++++++++++++++++++++++++++++++++++++++++++++++++++++++++ [('Prophet', 91.8086), ('ARIMA', 26.8448), ('ETS', 56.6812), ('XGBoost', 99.8772)]\n",
            "+++++++++++++++++++++++++++++++++++++++++++++++++++++++++++++++++++++++++++++++++++++++ ARIMA 123 500 3\n"
          ]
        },
        {
          "output_type": "stream",
          "name": "stderr",
          "text": [
            "/usr/local/lib/python3.10/dist-packages/statsmodels/tsa/base/tsa_model.py:473: ValueWarning: No frequency information was provided, so inferred frequency D will be used.\n",
            "  self._init_dates(dates, freq)\n",
            "/usr/local/lib/python3.10/dist-packages/statsmodels/tsa/holtwinters/model.py:917: ConvergenceWarning: Optimization failed to converge. Check mle_retvals.\n",
            "  warnings.warn(\n",
            "<ipython-input-10-fd7e9e95ee04>:69: FutureWarning: The frame.append method is deprecated and will be removed from pandas in a future version. Use pandas.concat instead.\n",
            "  results_df = results_df.append(result_dict, ignore_index=True)\n",
            "INFO:prophet:Disabling yearly seasonality. Run prophet with yearly_seasonality=True to override this.\n",
            "INFO:prophet:Disabling daily seasonality. Run prophet with daily_seasonality=True to override this.\n",
            "DEBUG:cmdstanpy:input tempfile: /tmp/tmpnc3vi0u7/8d339gyv.json\n",
            "DEBUG:cmdstanpy:input tempfile: /tmp/tmpnc3vi0u7/2hsjyzph.json\n",
            "DEBUG:cmdstanpy:idx 0\n",
            "DEBUG:cmdstanpy:running CmdStan, num_threads: None\n",
            "DEBUG:cmdstanpy:CmdStan args: ['/usr/local/lib/python3.10/dist-packages/prophet/stan_model/prophet_model.bin', 'random', 'seed=84289', 'data', 'file=/tmp/tmpnc3vi0u7/8d339gyv.json', 'init=/tmp/tmpnc3vi0u7/2hsjyzph.json', 'output', 'file=/tmp/tmpnc3vi0u7/prophet_modelukghlwgo/prophet_model-20231001052402.csv', 'method=optimize', 'algorithm=lbfgs', 'iter=10000']\n",
            "05:24:02 - cmdstanpy - INFO - Chain [1] start processing\n",
            "INFO:cmdstanpy:Chain [1] start processing\n"
          ]
        },
        {
          "output_type": "stream",
          "name": "stdout",
          "text": [
            "+++++++++++++++++++++++++++++++++++++++++++++++++++++++++++++++++++++++++++++++++++++++ [('Prophet', 141.4877), ('ARIMA', 27.1895), ('ETS', 98.8297), ('XGBoost', 52.3817)]\n",
            "+++++++++++++++++++++++++++++++++++++++++++++++++++++++++++++++++++++++++++++++++++++++ ARIMA 124 503 3\n"
          ]
        },
        {
          "output_type": "stream",
          "name": "stderr",
          "text": [
            "05:24:02 - cmdstanpy - INFO - Chain [1] done processing\n",
            "INFO:cmdstanpy:Chain [1] done processing\n",
            "/usr/local/lib/python3.10/dist-packages/statsmodels/tsa/base/tsa_model.py:473: ValueWarning: No frequency information was provided, so inferred frequency D will be used.\n",
            "  self._init_dates(dates, freq)\n",
            "/usr/local/lib/python3.10/dist-packages/statsmodels/tsa/holtwinters/model.py:917: ConvergenceWarning: Optimization failed to converge. Check mle_retvals.\n",
            "  warnings.warn(\n",
            "<ipython-input-10-fd7e9e95ee04>:69: FutureWarning: The frame.append method is deprecated and will be removed from pandas in a future version. Use pandas.concat instead.\n",
            "  results_df = results_df.append(result_dict, ignore_index=True)\n",
            "INFO:prophet:Disabling yearly seasonality. Run prophet with yearly_seasonality=True to override this.\n",
            "INFO:prophet:Disabling daily seasonality. Run prophet with daily_seasonality=True to override this.\n",
            "DEBUG:cmdstanpy:input tempfile: /tmp/tmpnc3vi0u7/s7ys6sgc.json\n",
            "DEBUG:cmdstanpy:input tempfile: /tmp/tmpnc3vi0u7/mmc7njg5.json\n",
            "DEBUG:cmdstanpy:idx 0\n",
            "DEBUG:cmdstanpy:running CmdStan, num_threads: None\n",
            "DEBUG:cmdstanpy:CmdStan args: ['/usr/local/lib/python3.10/dist-packages/prophet/stan_model/prophet_model.bin', 'random', 'seed=15274', 'data', 'file=/tmp/tmpnc3vi0u7/s7ys6sgc.json', 'init=/tmp/tmpnc3vi0u7/mmc7njg5.json', 'output', 'file=/tmp/tmpnc3vi0u7/prophet_modelijl5xatm/prophet_model-20231001052422.csv', 'method=optimize', 'algorithm=lbfgs', 'iter=10000']\n",
            "05:24:22 - cmdstanpy - INFO - Chain [1] start processing\n",
            "INFO:cmdstanpy:Chain [1] start processing\n",
            "05:24:22 - cmdstanpy - INFO - Chain [1] done processing\n",
            "INFO:cmdstanpy:Chain [1] done processing\n"
          ]
        },
        {
          "output_type": "stream",
          "name": "stdout",
          "text": [
            "+++++++++++++++++++++++++++++++++++++++++++++++++++++++++++++++++++++++++++++++++++++++ [('Prophet', 33.2757), ('ARIMA', 9.2299), ('ETS', 29.1745), ('XGBoost', 89.8627)]\n",
            "+++++++++++++++++++++++++++++++++++++++++++++++++++++++++++++++++++++++++++++++++++++++ ARIMA 125 506 3\n"
          ]
        },
        {
          "output_type": "stream",
          "name": "stderr",
          "text": [
            "/usr/local/lib/python3.10/dist-packages/statsmodels/tsa/base/tsa_model.py:473: ValueWarning: No frequency information was provided, so inferred frequency D will be used.\n",
            "  self._init_dates(dates, freq)\n",
            "/usr/local/lib/python3.10/dist-packages/statsmodels/tsa/holtwinters/model.py:917: ConvergenceWarning: Optimization failed to converge. Check mle_retvals.\n",
            "  warnings.warn(\n",
            "<ipython-input-10-fd7e9e95ee04>:69: FutureWarning: The frame.append method is deprecated and will be removed from pandas in a future version. Use pandas.concat instead.\n",
            "  results_df = results_df.append(result_dict, ignore_index=True)\n",
            "INFO:prophet:Disabling yearly seasonality. Run prophet with yearly_seasonality=True to override this.\n",
            "INFO:prophet:Disabling daily seasonality. Run prophet with daily_seasonality=True to override this.\n",
            "DEBUG:cmdstanpy:input tempfile: /tmp/tmpnc3vi0u7/qv87d3ru.json\n",
            "DEBUG:cmdstanpy:input tempfile: /tmp/tmpnc3vi0u7/ma8ogl8o.json\n",
            "DEBUG:cmdstanpy:idx 0\n",
            "DEBUG:cmdstanpy:running CmdStan, num_threads: None\n",
            "DEBUG:cmdstanpy:CmdStan args: ['/usr/local/lib/python3.10/dist-packages/prophet/stan_model/prophet_model.bin', 'random', 'seed=23001', 'data', 'file=/tmp/tmpnc3vi0u7/qv87d3ru.json', 'init=/tmp/tmpnc3vi0u7/ma8ogl8o.json', 'output', 'file=/tmp/tmpnc3vi0u7/prophet_modelgw00yxyn/prophet_model-20231001052439.csv', 'method=optimize', 'algorithm=lbfgs', 'iter=10000']\n",
            "05:24:39 - cmdstanpy - INFO - Chain [1] start processing\n",
            "INFO:cmdstanpy:Chain [1] start processing\n",
            "05:24:39 - cmdstanpy - INFO - Chain [1] done processing\n",
            "INFO:cmdstanpy:Chain [1] done processing\n"
          ]
        },
        {
          "output_type": "stream",
          "name": "stdout",
          "text": [
            "+++++++++++++++++++++++++++++++++++++++++++++++++++++++++++++++++++++++++++++++++++++++ [('Prophet', 157.3109), ('ARIMA', 33.7079), ('ETS', 111.4435), ('XGBoost', 103.9132)]\n",
            "+++++++++++++++++++++++++++++++++++++++++++++++++++++++++++++++++++++++++++++++++++++++ ARIMA 126 509 3\n"
          ]
        },
        {
          "output_type": "stream",
          "name": "stderr",
          "text": [
            "/usr/local/lib/python3.10/dist-packages/statsmodels/tsa/base/tsa_model.py:473: ValueWarning: No frequency information was provided, so inferred frequency D will be used.\n",
            "  self._init_dates(dates, freq)\n",
            "/usr/local/lib/python3.10/dist-packages/statsmodels/tsa/holtwinters/model.py:917: ConvergenceWarning: Optimization failed to converge. Check mle_retvals.\n",
            "  warnings.warn(\n",
            "<ipython-input-10-fd7e9e95ee04>:69: FutureWarning: The frame.append method is deprecated and will be removed from pandas in a future version. Use pandas.concat instead.\n",
            "  results_df = results_df.append(result_dict, ignore_index=True)\n",
            "INFO:prophet:Disabling yearly seasonality. Run prophet with yearly_seasonality=True to override this.\n",
            "INFO:prophet:Disabling daily seasonality. Run prophet with daily_seasonality=True to override this.\n",
            "DEBUG:cmdstanpy:input tempfile: /tmp/tmpnc3vi0u7/c7wis_3c.json\n",
            "DEBUG:cmdstanpy:input tempfile: /tmp/tmpnc3vi0u7/hhys2dcs.json\n",
            "DEBUG:cmdstanpy:idx 0\n",
            "DEBUG:cmdstanpy:running CmdStan, num_threads: None\n",
            "DEBUG:cmdstanpy:CmdStan args: ['/usr/local/lib/python3.10/dist-packages/prophet/stan_model/prophet_model.bin', 'random', 'seed=67915', 'data', 'file=/tmp/tmpnc3vi0u7/c7wis_3c.json', 'init=/tmp/tmpnc3vi0u7/hhys2dcs.json', 'output', 'file=/tmp/tmpnc3vi0u7/prophet_model0r6rnhsf/prophet_model-20231001052456.csv', 'method=optimize', 'algorithm=lbfgs', 'iter=10000']\n",
            "05:24:56 - cmdstanpy - INFO - Chain [1] start processing\n",
            "INFO:cmdstanpy:Chain [1] start processing\n",
            "05:24:56 - cmdstanpy - INFO - Chain [1] done processing\n",
            "INFO:cmdstanpy:Chain [1] done processing\n"
          ]
        },
        {
          "output_type": "stream",
          "name": "stdout",
          "text": [
            "+++++++++++++++++++++++++++++++++++++++++++++++++++++++++++++++++++++++++++++++++++++++ [('Prophet', 40.7001), ('ARIMA', 10.5822), ('ETS', 34.4995), ('XGBoost', 43.973)]\n",
            "+++++++++++++++++++++++++++++++++++++++++++++++++++++++++++++++++++++++++++++++++++++++ ARIMA 127 512 3\n"
          ]
        },
        {
          "output_type": "stream",
          "name": "stderr",
          "text": [
            "/usr/local/lib/python3.10/dist-packages/statsmodels/tsa/base/tsa_model.py:473: ValueWarning: No frequency information was provided, so inferred frequency D will be used.\n",
            "  self._init_dates(dates, freq)\n",
            "/usr/local/lib/python3.10/dist-packages/statsmodels/tsa/holtwinters/model.py:917: ConvergenceWarning: Optimization failed to converge. Check mle_retvals.\n",
            "  warnings.warn(\n",
            "<ipython-input-10-fd7e9e95ee04>:69: FutureWarning: The frame.append method is deprecated and will be removed from pandas in a future version. Use pandas.concat instead.\n",
            "  results_df = results_df.append(result_dict, ignore_index=True)\n",
            "INFO:prophet:Disabling yearly seasonality. Run prophet with yearly_seasonality=True to override this.\n",
            "INFO:prophet:Disabling daily seasonality. Run prophet with daily_seasonality=True to override this.\n",
            "DEBUG:cmdstanpy:input tempfile: /tmp/tmpnc3vi0u7/wv8ewqsz.json\n",
            "DEBUG:cmdstanpy:input tempfile: /tmp/tmpnc3vi0u7/gds_rdav.json\n",
            "DEBUG:cmdstanpy:idx 0\n",
            "DEBUG:cmdstanpy:running CmdStan, num_threads: None\n",
            "DEBUG:cmdstanpy:CmdStan args: ['/usr/local/lib/python3.10/dist-packages/prophet/stan_model/prophet_model.bin', 'random', 'seed=48435', 'data', 'file=/tmp/tmpnc3vi0u7/wv8ewqsz.json', 'init=/tmp/tmpnc3vi0u7/gds_rdav.json', 'output', 'file=/tmp/tmpnc3vi0u7/prophet_modelk4111788/prophet_model-20231001052513.csv', 'method=optimize', 'algorithm=lbfgs', 'iter=10000']\n",
            "05:25:13 - cmdstanpy - INFO - Chain [1] start processing\n",
            "INFO:cmdstanpy:Chain [1] start processing\n",
            "05:25:13 - cmdstanpy - INFO - Chain [1] done processing\n",
            "INFO:cmdstanpy:Chain [1] done processing\n"
          ]
        },
        {
          "output_type": "stream",
          "name": "stdout",
          "text": [
            "+++++++++++++++++++++++++++++++++++++++++++++++++++++++++++++++++++++++++++++++++++++++ [('Prophet', 173.1408), ('ARIMA', 47.562), ('ETS', 158.7351), ('XGBoost', 141.9406)]\n",
            "+++++++++++++++++++++++++++++++++++++++++++++++++++++++++++++++++++++++++++++++++++++++ ARIMA 128 515 3\n"
          ]
        },
        {
          "output_type": "stream",
          "name": "stderr",
          "text": [
            "/usr/local/lib/python3.10/dist-packages/statsmodels/tsa/base/tsa_model.py:473: ValueWarning: No frequency information was provided, so inferred frequency D will be used.\n",
            "  self._init_dates(dates, freq)\n",
            "/usr/local/lib/python3.10/dist-packages/statsmodels/tsa/holtwinters/model.py:917: ConvergenceWarning: Optimization failed to converge. Check mle_retvals.\n",
            "  warnings.warn(\n",
            "<ipython-input-10-fd7e9e95ee04>:69: FutureWarning: The frame.append method is deprecated and will be removed from pandas in a future version. Use pandas.concat instead.\n",
            "  results_df = results_df.append(result_dict, ignore_index=True)\n",
            "INFO:prophet:Disabling yearly seasonality. Run prophet with yearly_seasonality=True to override this.\n",
            "INFO:prophet:Disabling daily seasonality. Run prophet with daily_seasonality=True to override this.\n",
            "DEBUG:cmdstanpy:input tempfile: /tmp/tmpnc3vi0u7/tjqu55lx.json\n",
            "DEBUG:cmdstanpy:input tempfile: /tmp/tmpnc3vi0u7/6qfiuyoy.json\n",
            "DEBUG:cmdstanpy:idx 0\n",
            "DEBUG:cmdstanpy:running CmdStan, num_threads: None\n",
            "DEBUG:cmdstanpy:CmdStan args: ['/usr/local/lib/python3.10/dist-packages/prophet/stan_model/prophet_model.bin', 'random', 'seed=54836', 'data', 'file=/tmp/tmpnc3vi0u7/tjqu55lx.json', 'init=/tmp/tmpnc3vi0u7/6qfiuyoy.json', 'output', 'file=/tmp/tmpnc3vi0u7/prophet_modeljqwmoafk/prophet_model-20231001052529.csv', 'method=optimize', 'algorithm=lbfgs', 'iter=10000']\n",
            "05:25:29 - cmdstanpy - INFO - Chain [1] start processing\n",
            "INFO:cmdstanpy:Chain [1] start processing\n",
            "05:25:30 - cmdstanpy - INFO - Chain [1] done processing\n",
            "INFO:cmdstanpy:Chain [1] done processing\n"
          ]
        },
        {
          "output_type": "stream",
          "name": "stdout",
          "text": [
            "+++++++++++++++++++++++++++++++++++++++++++++++++++++++++++++++++++++++++++++++++++++++ [('Prophet', 54.8115), ('ARIMA', 44.4237), ('ETS', 64.6438), ('XGBoost', 102.6798)]\n",
            "+++++++++++++++++++++++++++++++++++++++++++++++++++++++++++++++++++++++++++++++++++++++ ARIMA 129 518 3\n"
          ]
        },
        {
          "output_type": "stream",
          "name": "stderr",
          "text": [
            "/usr/local/lib/python3.10/dist-packages/statsmodels/tsa/base/tsa_model.py:473: ValueWarning: No frequency information was provided, so inferred frequency D will be used.\n",
            "  self._init_dates(dates, freq)\n",
            "/usr/local/lib/python3.10/dist-packages/statsmodels/tsa/holtwinters/model.py:917: ConvergenceWarning: Optimization failed to converge. Check mle_retvals.\n",
            "  warnings.warn(\n",
            "<ipython-input-10-fd7e9e95ee04>:69: FutureWarning: The frame.append method is deprecated and will be removed from pandas in a future version. Use pandas.concat instead.\n",
            "  results_df = results_df.append(result_dict, ignore_index=True)\n",
            "INFO:prophet:Disabling yearly seasonality. Run prophet with yearly_seasonality=True to override this.\n",
            "INFO:prophet:Disabling daily seasonality. Run prophet with daily_seasonality=True to override this.\n",
            "DEBUG:cmdstanpy:input tempfile: /tmp/tmpnc3vi0u7/_5xteqtg.json\n",
            "DEBUG:cmdstanpy:input tempfile: /tmp/tmpnc3vi0u7/f8xn9jx5.json\n",
            "DEBUG:cmdstanpy:idx 0\n",
            "DEBUG:cmdstanpy:running CmdStan, num_threads: None\n",
            "DEBUG:cmdstanpy:CmdStan args: ['/usr/local/lib/python3.10/dist-packages/prophet/stan_model/prophet_model.bin', 'random', 'seed=17234', 'data', 'file=/tmp/tmpnc3vi0u7/_5xteqtg.json', 'init=/tmp/tmpnc3vi0u7/f8xn9jx5.json', 'output', 'file=/tmp/tmpnc3vi0u7/prophet_modeldixpwa15/prophet_model-20231001052546.csv', 'method=optimize', 'algorithm=lbfgs', 'iter=10000']\n",
            "05:25:46 - cmdstanpy - INFO - Chain [1] start processing\n",
            "INFO:cmdstanpy:Chain [1] start processing\n",
            "05:25:47 - cmdstanpy - INFO - Chain [1] done processing\n",
            "INFO:cmdstanpy:Chain [1] done processing\n"
          ]
        },
        {
          "output_type": "stream",
          "name": "stdout",
          "text": [
            "+++++++++++++++++++++++++++++++++++++++++++++++++++++++++++++++++++++++++++++++++++++++ [('Prophet', 83.4258), ('ARIMA', 31.1403), ('ETS', 51.4442), ('XGBoost', 125.9335)]\n",
            "+++++++++++++++++++++++++++++++++++++++++++++++++++++++++++++++++++++++++++++++++++++++ ARIMA 130 521 3\n"
          ]
        },
        {
          "output_type": "stream",
          "name": "stderr",
          "text": [
            "/usr/local/lib/python3.10/dist-packages/statsmodels/tsa/base/tsa_model.py:473: ValueWarning: No frequency information was provided, so inferred frequency D will be used.\n",
            "  self._init_dates(dates, freq)\n",
            "/usr/local/lib/python3.10/dist-packages/statsmodels/tsa/holtwinters/model.py:917: ConvergenceWarning: Optimization failed to converge. Check mle_retvals.\n",
            "  warnings.warn(\n",
            "<ipython-input-10-fd7e9e95ee04>:69: FutureWarning: The frame.append method is deprecated and will be removed from pandas in a future version. Use pandas.concat instead.\n",
            "  results_df = results_df.append(result_dict, ignore_index=True)\n",
            "INFO:prophet:Disabling yearly seasonality. Run prophet with yearly_seasonality=True to override this.\n",
            "INFO:prophet:Disabling daily seasonality. Run prophet with daily_seasonality=True to override this.\n",
            "DEBUG:cmdstanpy:input tempfile: /tmp/tmpnc3vi0u7/914jc8jh.json\n",
            "DEBUG:cmdstanpy:input tempfile: /tmp/tmpnc3vi0u7/2x4lyh3_.json\n",
            "DEBUG:cmdstanpy:idx 0\n",
            "DEBUG:cmdstanpy:running CmdStan, num_threads: None\n",
            "DEBUG:cmdstanpy:CmdStan args: ['/usr/local/lib/python3.10/dist-packages/prophet/stan_model/prophet_model.bin', 'random', 'seed=84062', 'data', 'file=/tmp/tmpnc3vi0u7/914jc8jh.json', 'init=/tmp/tmpnc3vi0u7/2x4lyh3_.json', 'output', 'file=/tmp/tmpnc3vi0u7/prophet_model1agv9mro/prophet_model-20231001052614.csv', 'method=optimize', 'algorithm=lbfgs', 'iter=10000']\n",
            "05:26:14 - cmdstanpy - INFO - Chain [1] start processing\n",
            "INFO:cmdstanpy:Chain [1] start processing\n",
            "05:26:14 - cmdstanpy - INFO - Chain [1] done processing\n",
            "INFO:cmdstanpy:Chain [1] done processing\n"
          ]
        },
        {
          "output_type": "stream",
          "name": "stdout",
          "text": [
            "+++++++++++++++++++++++++++++++++++++++++++++++++++++++++++++++++++++++++++++++++++++++ [('Prophet', 99.3937), ('ARIMA', 13.3702), ('ETS', 67.2345), ('XGBoost', 40.9191)]\n",
            "+++++++++++++++++++++++++++++++++++++++++++++++++++++++++++++++++++++++++++++++++++++++ ARIMA 131 524 3\n"
          ]
        },
        {
          "output_type": "stream",
          "name": "stderr",
          "text": [
            "/usr/local/lib/python3.10/dist-packages/statsmodels/tsa/base/tsa_model.py:473: ValueWarning: No frequency information was provided, so inferred frequency D will be used.\n",
            "  self._init_dates(dates, freq)\n",
            "/usr/local/lib/python3.10/dist-packages/statsmodels/tsa/holtwinters/model.py:917: ConvergenceWarning: Optimization failed to converge. Check mle_retvals.\n",
            "  warnings.warn(\n",
            "<ipython-input-10-fd7e9e95ee04>:69: FutureWarning: The frame.append method is deprecated and will be removed from pandas in a future version. Use pandas.concat instead.\n",
            "  results_df = results_df.append(result_dict, ignore_index=True)\n",
            "INFO:prophet:Disabling yearly seasonality. Run prophet with yearly_seasonality=True to override this.\n",
            "INFO:prophet:Disabling daily seasonality. Run prophet with daily_seasonality=True to override this.\n",
            "DEBUG:cmdstanpy:input tempfile: /tmp/tmpnc3vi0u7/w8shvo1r.json\n",
            "DEBUG:cmdstanpy:input tempfile: /tmp/tmpnc3vi0u7/7nh1szw0.json\n",
            "DEBUG:cmdstanpy:idx 0\n",
            "DEBUG:cmdstanpy:running CmdStan, num_threads: None\n",
            "DEBUG:cmdstanpy:CmdStan args: ['/usr/local/lib/python3.10/dist-packages/prophet/stan_model/prophet_model.bin', 'random', 'seed=97442', 'data', 'file=/tmp/tmpnc3vi0u7/w8shvo1r.json', 'init=/tmp/tmpnc3vi0u7/7nh1szw0.json', 'output', 'file=/tmp/tmpnc3vi0u7/prophet_modelkkscisx3/prophet_model-20231001052632.csv', 'method=optimize', 'algorithm=lbfgs', 'iter=10000']\n",
            "05:26:32 - cmdstanpy - INFO - Chain [1] start processing\n",
            "INFO:cmdstanpy:Chain [1] start processing\n",
            "05:26:32 - cmdstanpy - INFO - Chain [1] done processing\n",
            "INFO:cmdstanpy:Chain [1] done processing\n"
          ]
        },
        {
          "output_type": "stream",
          "name": "stdout",
          "text": [
            "+++++++++++++++++++++++++++++++++++++++++++++++++++++++++++++++++++++++++++++++++++++++ [('Prophet', 36.6841), ('ARIMA', 13.4935), ('ETS', 10.1051), ('XGBoost', 58.9268)]\n",
            "+++++++++++++++++++++++++++++++++++++++++++++++++++++++++++++++++++++++++++++++++++++++ ETS 132 527 3\n"
          ]
        },
        {
          "output_type": "stream",
          "name": "stderr",
          "text": [
            "/usr/local/lib/python3.10/dist-packages/statsmodels/tsa/base/tsa_model.py:473: ValueWarning: No frequency information was provided, so inferred frequency D will be used.\n",
            "  self._init_dates(dates, freq)\n",
            "/usr/local/lib/python3.10/dist-packages/statsmodels/tsa/holtwinters/model.py:917: ConvergenceWarning: Optimization failed to converge. Check mle_retvals.\n",
            "  warnings.warn(\n",
            "<ipython-input-10-fd7e9e95ee04>:69: FutureWarning: The frame.append method is deprecated and will be removed from pandas in a future version. Use pandas.concat instead.\n",
            "  results_df = results_df.append(result_dict, ignore_index=True)\n",
            "INFO:prophet:Disabling yearly seasonality. Run prophet with yearly_seasonality=True to override this.\n",
            "INFO:prophet:Disabling daily seasonality. Run prophet with daily_seasonality=True to override this.\n",
            "DEBUG:cmdstanpy:input tempfile: /tmp/tmpnc3vi0u7/8yn66art.json\n",
            "DEBUG:cmdstanpy:input tempfile: /tmp/tmpnc3vi0u7/k6bbhien.json\n",
            "DEBUG:cmdstanpy:idx 0\n",
            "DEBUG:cmdstanpy:running CmdStan, num_threads: None\n",
            "DEBUG:cmdstanpy:CmdStan args: ['/usr/local/lib/python3.10/dist-packages/prophet/stan_model/prophet_model.bin', 'random', 'seed=40696', 'data', 'file=/tmp/tmpnc3vi0u7/8yn66art.json', 'init=/tmp/tmpnc3vi0u7/k6bbhien.json', 'output', 'file=/tmp/tmpnc3vi0u7/prophet_model39jdmz_m/prophet_model-20231001052649.csv', 'method=optimize', 'algorithm=lbfgs', 'iter=10000']\n",
            "05:26:49 - cmdstanpy - INFO - Chain [1] start processing\n",
            "INFO:cmdstanpy:Chain [1] start processing\n",
            "05:26:49 - cmdstanpy - INFO - Chain [1] done processing\n",
            "INFO:cmdstanpy:Chain [1] done processing\n"
          ]
        },
        {
          "output_type": "stream",
          "name": "stdout",
          "text": [
            "+++++++++++++++++++++++++++++++++++++++++++++++++++++++++++++++++++++++++++++++++++++++ [('Prophet', 174.5008), ('ARIMA', 59.4504), ('ETS', 121.8036), ('XGBoost', 95.0243)]\n",
            "+++++++++++++++++++++++++++++++++++++++++++++++++++++++++++++++++++++++++++++++++++++++ ARIMA 133 530 3\n"
          ]
        },
        {
          "output_type": "stream",
          "name": "stderr",
          "text": [
            "/usr/local/lib/python3.10/dist-packages/statsmodels/tsa/base/tsa_model.py:473: ValueWarning: No frequency information was provided, so inferred frequency D will be used.\n",
            "  self._init_dates(dates, freq)\n",
            "/usr/local/lib/python3.10/dist-packages/statsmodels/tsa/holtwinters/model.py:917: ConvergenceWarning: Optimization failed to converge. Check mle_retvals.\n",
            "  warnings.warn(\n",
            "<ipython-input-10-fd7e9e95ee04>:69: FutureWarning: The frame.append method is deprecated and will be removed from pandas in a future version. Use pandas.concat instead.\n",
            "  results_df = results_df.append(result_dict, ignore_index=True)\n",
            "INFO:prophet:Disabling yearly seasonality. Run prophet with yearly_seasonality=True to override this.\n",
            "INFO:prophet:Disabling daily seasonality. Run prophet with daily_seasonality=True to override this.\n",
            "DEBUG:cmdstanpy:input tempfile: /tmp/tmpnc3vi0u7/2yrszfef.json\n",
            "DEBUG:cmdstanpy:input tempfile: /tmp/tmpnc3vi0u7/hxrkq1z9.json\n",
            "DEBUG:cmdstanpy:idx 0\n",
            "DEBUG:cmdstanpy:running CmdStan, num_threads: None\n",
            "DEBUG:cmdstanpy:CmdStan args: ['/usr/local/lib/python3.10/dist-packages/prophet/stan_model/prophet_model.bin', 'random', 'seed=51189', 'data', 'file=/tmp/tmpnc3vi0u7/2yrszfef.json', 'init=/tmp/tmpnc3vi0u7/hxrkq1z9.json', 'output', 'file=/tmp/tmpnc3vi0u7/prophet_modelz_u9bj79/prophet_model-20231001052717.csv', 'method=optimize', 'algorithm=lbfgs', 'iter=10000']\n",
            "05:27:17 - cmdstanpy - INFO - Chain [1] start processing\n",
            "INFO:cmdstanpy:Chain [1] start processing\n",
            "05:27:17 - cmdstanpy - INFO - Chain [1] done processing\n",
            "INFO:cmdstanpy:Chain [1] done processing\n"
          ]
        },
        {
          "output_type": "stream",
          "name": "stdout",
          "text": [
            "+++++++++++++++++++++++++++++++++++++++++++++++++++++++++++++++++++++++++++++++++++++++ [('Prophet', 119.4645), ('ARIMA', 206.5086), ('ETS', 126.7488), ('XGBoost', 249.2689)]\n",
            "+++++++++++++++++++++++++++++++++++++++++++++++++++++++++++++++++++++++++++++++++++++++ Prophet 134 533 3\n"
          ]
        },
        {
          "output_type": "stream",
          "name": "stderr",
          "text": [
            "/usr/local/lib/python3.10/dist-packages/statsmodels/tsa/base/tsa_model.py:473: ValueWarning: No frequency information was provided, so inferred frequency D will be used.\n",
            "  self._init_dates(dates, freq)\n",
            "/usr/local/lib/python3.10/dist-packages/statsmodels/tsa/holtwinters/model.py:917: ConvergenceWarning: Optimization failed to converge. Check mle_retvals.\n",
            "  warnings.warn(\n",
            "<ipython-input-10-fd7e9e95ee04>:69: FutureWarning: The frame.append method is deprecated and will be removed from pandas in a future version. Use pandas.concat instead.\n",
            "  results_df = results_df.append(result_dict, ignore_index=True)\n",
            "INFO:prophet:Disabling yearly seasonality. Run prophet with yearly_seasonality=True to override this.\n",
            "INFO:prophet:Disabling daily seasonality. Run prophet with daily_seasonality=True to override this.\n",
            "DEBUG:cmdstanpy:input tempfile: /tmp/tmpnc3vi0u7/lqgc1g_h.json\n",
            "DEBUG:cmdstanpy:input tempfile: /tmp/tmpnc3vi0u7/eoo1wl24.json\n",
            "DEBUG:cmdstanpy:idx 0\n",
            "DEBUG:cmdstanpy:running CmdStan, num_threads: None\n",
            "DEBUG:cmdstanpy:CmdStan args: ['/usr/local/lib/python3.10/dist-packages/prophet/stan_model/prophet_model.bin', 'random', 'seed=29736', 'data', 'file=/tmp/tmpnc3vi0u7/lqgc1g_h.json', 'init=/tmp/tmpnc3vi0u7/eoo1wl24.json', 'output', 'file=/tmp/tmpnc3vi0u7/prophet_modelwgmpvvci/prophet_model-20231001052744.csv', 'method=optimize', 'algorithm=lbfgs', 'iter=10000']\n",
            "05:27:44 - cmdstanpy - INFO - Chain [1] start processing\n",
            "INFO:cmdstanpy:Chain [1] start processing\n",
            "05:27:44 - cmdstanpy - INFO - Chain [1] done processing\n",
            "INFO:cmdstanpy:Chain [1] done processing\n"
          ]
        },
        {
          "output_type": "stream",
          "name": "stdout",
          "text": [
            "+++++++++++++++++++++++++++++++++++++++++++++++++++++++++++++++++++++++++++++++++++++++ [('Prophet', 135.8089), ('ARIMA', 85.2255), ('ETS', 57.6561), ('XGBoost', 98.5403)]\n",
            "+++++++++++++++++++++++++++++++++++++++++++++++++++++++++++++++++++++++++++++++++++++++ ETS 135 536 3\n"
          ]
        },
        {
          "output_type": "stream",
          "name": "stderr",
          "text": [
            "/usr/local/lib/python3.10/dist-packages/statsmodels/tsa/base/tsa_model.py:473: ValueWarning: No frequency information was provided, so inferred frequency D will be used.\n",
            "  self._init_dates(dates, freq)\n",
            "/usr/local/lib/python3.10/dist-packages/statsmodels/tsa/holtwinters/model.py:917: ConvergenceWarning: Optimization failed to converge. Check mle_retvals.\n",
            "  warnings.warn(\n",
            "<ipython-input-10-fd7e9e95ee04>:69: FutureWarning: The frame.append method is deprecated and will be removed from pandas in a future version. Use pandas.concat instead.\n",
            "  results_df = results_df.append(result_dict, ignore_index=True)\n",
            "INFO:prophet:Disabling yearly seasonality. Run prophet with yearly_seasonality=True to override this.\n",
            "INFO:prophet:Disabling daily seasonality. Run prophet with daily_seasonality=True to override this.\n",
            "DEBUG:cmdstanpy:input tempfile: /tmp/tmpnc3vi0u7/5cm3k4ce.json\n",
            "DEBUG:cmdstanpy:input tempfile: /tmp/tmpnc3vi0u7/7p3crysm.json\n",
            "DEBUG:cmdstanpy:idx 0\n",
            "DEBUG:cmdstanpy:running CmdStan, num_threads: None\n",
            "DEBUG:cmdstanpy:CmdStan args: ['/usr/local/lib/python3.10/dist-packages/prophet/stan_model/prophet_model.bin', 'random', 'seed=32408', 'data', 'file=/tmp/tmpnc3vi0u7/5cm3k4ce.json', 'init=/tmp/tmpnc3vi0u7/7p3crysm.json', 'output', 'file=/tmp/tmpnc3vi0u7/prophet_model_3bnu9pe/prophet_model-20231001052809.csv', 'method=optimize', 'algorithm=lbfgs', 'iter=10000']\n",
            "05:28:09 - cmdstanpy - INFO - Chain [1] start processing\n",
            "INFO:cmdstanpy:Chain [1] start processing\n",
            "05:28:09 - cmdstanpy - INFO - Chain [1] done processing\n",
            "INFO:cmdstanpy:Chain [1] done processing\n"
          ]
        },
        {
          "output_type": "stream",
          "name": "stdout",
          "text": [
            "+++++++++++++++++++++++++++++++++++++++++++++++++++++++++++++++++++++++++++++++++++++++ [('Prophet', 37.1007), ('ARIMA', 29.8711), ('ETS', 44.0157), ('XGBoost', 21.1543)]\n",
            "+++++++++++++++++++++++++++++++++++++++++++++++++++++++++++++++++++++++++++++++++++++++ XGBoost 136 539 3\n"
          ]
        },
        {
          "output_type": "stream",
          "name": "stderr",
          "text": [
            "/usr/local/lib/python3.10/dist-packages/statsmodels/tsa/base/tsa_model.py:473: ValueWarning: No frequency information was provided, so inferred frequency D will be used.\n",
            "  self._init_dates(dates, freq)\n",
            "/usr/local/lib/python3.10/dist-packages/statsmodels/tsa/holtwinters/model.py:917: ConvergenceWarning: Optimization failed to converge. Check mle_retvals.\n",
            "  warnings.warn(\n",
            "<ipython-input-10-fd7e9e95ee04>:69: FutureWarning: The frame.append method is deprecated and will be removed from pandas in a future version. Use pandas.concat instead.\n",
            "  results_df = results_df.append(result_dict, ignore_index=True)\n",
            "INFO:prophet:Disabling yearly seasonality. Run prophet with yearly_seasonality=True to override this.\n",
            "INFO:prophet:Disabling daily seasonality. Run prophet with daily_seasonality=True to override this.\n",
            "DEBUG:cmdstanpy:input tempfile: /tmp/tmpnc3vi0u7/r8e_iv9w.json\n",
            "DEBUG:cmdstanpy:input tempfile: /tmp/tmpnc3vi0u7/_6_hqa17.json\n",
            "DEBUG:cmdstanpy:idx 0\n",
            "DEBUG:cmdstanpy:running CmdStan, num_threads: None\n",
            "DEBUG:cmdstanpy:CmdStan args: ['/usr/local/lib/python3.10/dist-packages/prophet/stan_model/prophet_model.bin', 'random', 'seed=95888', 'data', 'file=/tmp/tmpnc3vi0u7/r8e_iv9w.json', 'init=/tmp/tmpnc3vi0u7/_6_hqa17.json', 'output', 'file=/tmp/tmpnc3vi0u7/prophet_modelr_k49uye/prophet_model-20231001052837.csv', 'method=optimize', 'algorithm=lbfgs', 'iter=10000']\n",
            "05:28:37 - cmdstanpy - INFO - Chain [1] start processing\n",
            "INFO:cmdstanpy:Chain [1] start processing\n",
            "05:28:37 - cmdstanpy - INFO - Chain [1] done processing\n",
            "INFO:cmdstanpy:Chain [1] done processing\n"
          ]
        },
        {
          "output_type": "stream",
          "name": "stdout",
          "text": [
            "+++++++++++++++++++++++++++++++++++++++++++++++++++++++++++++++++++++++++++++++++++++++ [('Prophet', 67.5964), ('ARIMA', 23.4431), ('ETS', 35.2789), ('XGBoost', 46.8969)]\n",
            "+++++++++++++++++++++++++++++++++++++++++++++++++++++++++++++++++++++++++++++++++++++++ ARIMA 137 542 3\n"
          ]
        },
        {
          "output_type": "stream",
          "name": "stderr",
          "text": [
            "/usr/local/lib/python3.10/dist-packages/statsmodels/tsa/base/tsa_model.py:473: ValueWarning: No frequency information was provided, so inferred frequency D will be used.\n",
            "  self._init_dates(dates, freq)\n",
            "/usr/local/lib/python3.10/dist-packages/statsmodels/tsa/holtwinters/model.py:917: ConvergenceWarning: Optimization failed to converge. Check mle_retvals.\n",
            "  warnings.warn(\n",
            "<ipython-input-10-fd7e9e95ee04>:69: FutureWarning: The frame.append method is deprecated and will be removed from pandas in a future version. Use pandas.concat instead.\n",
            "  results_df = results_df.append(result_dict, ignore_index=True)\n",
            "INFO:prophet:Disabling yearly seasonality. Run prophet with yearly_seasonality=True to override this.\n",
            "INFO:prophet:Disabling daily seasonality. Run prophet with daily_seasonality=True to override this.\n",
            "DEBUG:cmdstanpy:input tempfile: /tmp/tmpnc3vi0u7/z5iyycst.json\n",
            "DEBUG:cmdstanpy:input tempfile: /tmp/tmpnc3vi0u7/sal41n2v.json\n",
            "DEBUG:cmdstanpy:idx 0\n",
            "DEBUG:cmdstanpy:running CmdStan, num_threads: None\n",
            "DEBUG:cmdstanpy:CmdStan args: ['/usr/local/lib/python3.10/dist-packages/prophet/stan_model/prophet_model.bin', 'random', 'seed=59909', 'data', 'file=/tmp/tmpnc3vi0u7/z5iyycst.json', 'init=/tmp/tmpnc3vi0u7/sal41n2v.json', 'output', 'file=/tmp/tmpnc3vi0u7/prophet_modelr_veoc29/prophet_model-20231001052905.csv', 'method=optimize', 'algorithm=lbfgs', 'iter=10000']\n",
            "05:29:05 - cmdstanpy - INFO - Chain [1] start processing\n",
            "INFO:cmdstanpy:Chain [1] start processing\n",
            "05:29:05 - cmdstanpy - INFO - Chain [1] done processing\n",
            "INFO:cmdstanpy:Chain [1] done processing\n"
          ]
        },
        {
          "output_type": "stream",
          "name": "stdout",
          "text": [
            "+++++++++++++++++++++++++++++++++++++++++++++++++++++++++++++++++++++++++++++++++++++++ [('Prophet', 115.7721), ('ARIMA', 22.5138), ('ETS', 88.7464), ('XGBoost', 141.3766)]\n",
            "+++++++++++++++++++++++++++++++++++++++++++++++++++++++++++++++++++++++++++++++++++++++ ARIMA 138 545 3\n"
          ]
        },
        {
          "output_type": "stream",
          "name": "stderr",
          "text": [
            "/usr/local/lib/python3.10/dist-packages/statsmodels/tsa/base/tsa_model.py:473: ValueWarning: No frequency information was provided, so inferred frequency D will be used.\n",
            "  self._init_dates(dates, freq)\n",
            "/usr/local/lib/python3.10/dist-packages/statsmodels/tsa/holtwinters/model.py:917: ConvergenceWarning: Optimization failed to converge. Check mle_retvals.\n",
            "  warnings.warn(\n",
            "<ipython-input-10-fd7e9e95ee04>:69: FutureWarning: The frame.append method is deprecated and will be removed from pandas in a future version. Use pandas.concat instead.\n",
            "  results_df = results_df.append(result_dict, ignore_index=True)\n",
            "INFO:prophet:Disabling yearly seasonality. Run prophet with yearly_seasonality=True to override this.\n",
            "INFO:prophet:Disabling daily seasonality. Run prophet with daily_seasonality=True to override this.\n",
            "DEBUG:cmdstanpy:input tempfile: /tmp/tmpnc3vi0u7/zply500g.json\n",
            "DEBUG:cmdstanpy:input tempfile: /tmp/tmpnc3vi0u7/b4lxu1m9.json\n",
            "DEBUG:cmdstanpy:idx 0\n",
            "DEBUG:cmdstanpy:running CmdStan, num_threads: None\n",
            "DEBUG:cmdstanpy:CmdStan args: ['/usr/local/lib/python3.10/dist-packages/prophet/stan_model/prophet_model.bin', 'random', 'seed=39114', 'data', 'file=/tmp/tmpnc3vi0u7/zply500g.json', 'init=/tmp/tmpnc3vi0u7/b4lxu1m9.json', 'output', 'file=/tmp/tmpnc3vi0u7/prophet_modeljmkhfjd_/prophet_model-20231001052922.csv', 'method=optimize', 'algorithm=lbfgs', 'iter=10000']\n",
            "05:29:22 - cmdstanpy - INFO - Chain [1] start processing\n",
            "INFO:cmdstanpy:Chain [1] start processing\n",
            "05:29:22 - cmdstanpy - INFO - Chain [1] done processing\n",
            "INFO:cmdstanpy:Chain [1] done processing\n"
          ]
        },
        {
          "output_type": "stream",
          "name": "stdout",
          "text": [
            "+++++++++++++++++++++++++++++++++++++++++++++++++++++++++++++++++++++++++++++++++++++++ [('Prophet', 38.0494), ('ARIMA', 13.2263), ('ETS', 18.7439), ('XGBoost', 16.1129)]\n",
            "+++++++++++++++++++++++++++++++++++++++++++++++++++++++++++++++++++++++++++++++++++++++ ARIMA 139 548 3\n"
          ]
        },
        {
          "output_type": "stream",
          "name": "stderr",
          "text": [
            "/usr/local/lib/python3.10/dist-packages/statsmodels/tsa/base/tsa_model.py:473: ValueWarning: No frequency information was provided, so inferred frequency D will be used.\n",
            "  self._init_dates(dates, freq)\n",
            "/usr/local/lib/python3.10/dist-packages/statsmodels/tsa/holtwinters/model.py:917: ConvergenceWarning: Optimization failed to converge. Check mle_retvals.\n",
            "  warnings.warn(\n",
            "<ipython-input-10-fd7e9e95ee04>:69: FutureWarning: The frame.append method is deprecated and will be removed from pandas in a future version. Use pandas.concat instead.\n",
            "  results_df = results_df.append(result_dict, ignore_index=True)\n",
            "INFO:prophet:Disabling yearly seasonality. Run prophet with yearly_seasonality=True to override this.\n",
            "INFO:prophet:Disabling daily seasonality. Run prophet with daily_seasonality=True to override this.\n",
            "DEBUG:cmdstanpy:input tempfile: /tmp/tmpnc3vi0u7/pdp30nio.json\n",
            "DEBUG:cmdstanpy:input tempfile: /tmp/tmpnc3vi0u7/a2uvgx33.json\n",
            "DEBUG:cmdstanpy:idx 0\n",
            "DEBUG:cmdstanpy:running CmdStan, num_threads: None\n",
            "DEBUG:cmdstanpy:CmdStan args: ['/usr/local/lib/python3.10/dist-packages/prophet/stan_model/prophet_model.bin', 'random', 'seed=29575', 'data', 'file=/tmp/tmpnc3vi0u7/pdp30nio.json', 'init=/tmp/tmpnc3vi0u7/a2uvgx33.json', 'output', 'file=/tmp/tmpnc3vi0u7/prophet_model2iavzg72/prophet_model-20231001052950.csv', 'method=optimize', 'algorithm=lbfgs', 'iter=10000']\n",
            "05:29:50 - cmdstanpy - INFO - Chain [1] start processing\n",
            "INFO:cmdstanpy:Chain [1] start processing\n",
            "05:29:50 - cmdstanpy - INFO - Chain [1] done processing\n",
            "INFO:cmdstanpy:Chain [1] done processing\n"
          ]
        },
        {
          "output_type": "stream",
          "name": "stdout",
          "text": [
            "+++++++++++++++++++++++++++++++++++++++++++++++++++++++++++++++++++++++++++++++++++++++ [('Prophet', 141.5074), ('ARIMA', 38.6105), ('ETS', 145.6484), ('XGBoost', 133.3353)]\n",
            "+++++++++++++++++++++++++++++++++++++++++++++++++++++++++++++++++++++++++++++++++++++++ ARIMA 140 551 3\n"
          ]
        },
        {
          "output_type": "stream",
          "name": "stderr",
          "text": [
            "/usr/local/lib/python3.10/dist-packages/statsmodels/tsa/base/tsa_model.py:473: ValueWarning: No frequency information was provided, so inferred frequency D will be used.\n",
            "  self._init_dates(dates, freq)\n",
            "/usr/local/lib/python3.10/dist-packages/statsmodels/tsa/holtwinters/model.py:917: ConvergenceWarning: Optimization failed to converge. Check mle_retvals.\n",
            "  warnings.warn(\n",
            "<ipython-input-10-fd7e9e95ee04>:69: FutureWarning: The frame.append method is deprecated and will be removed from pandas in a future version. Use pandas.concat instead.\n",
            "  results_df = results_df.append(result_dict, ignore_index=True)\n",
            "INFO:prophet:Disabling yearly seasonality. Run prophet with yearly_seasonality=True to override this.\n",
            "INFO:prophet:Disabling daily seasonality. Run prophet with daily_seasonality=True to override this.\n",
            "DEBUG:cmdstanpy:input tempfile: /tmp/tmpnc3vi0u7/z74fjpgf.json\n",
            "DEBUG:cmdstanpy:input tempfile: /tmp/tmpnc3vi0u7/f51d10uk.json\n",
            "DEBUG:cmdstanpy:idx 0\n",
            "DEBUG:cmdstanpy:running CmdStan, num_threads: None\n",
            "DEBUG:cmdstanpy:CmdStan args: ['/usr/local/lib/python3.10/dist-packages/prophet/stan_model/prophet_model.bin', 'random', 'seed=81542', 'data', 'file=/tmp/tmpnc3vi0u7/z74fjpgf.json', 'init=/tmp/tmpnc3vi0u7/f51d10uk.json', 'output', 'file=/tmp/tmpnc3vi0u7/prophet_model_zy0a6y2/prophet_model-20231001053018.csv', 'method=optimize', 'algorithm=lbfgs', 'iter=10000']\n",
            "05:30:18 - cmdstanpy - INFO - Chain [1] start processing\n",
            "INFO:cmdstanpy:Chain [1] start processing\n",
            "05:30:18 - cmdstanpy - INFO - Chain [1] done processing\n",
            "INFO:cmdstanpy:Chain [1] done processing\n"
          ]
        },
        {
          "output_type": "stream",
          "name": "stdout",
          "text": [
            "+++++++++++++++++++++++++++++++++++++++++++++++++++++++++++++++++++++++++++++++++++++++ [('Prophet', 47.9921), ('ARIMA', 22.4474), ('ETS', 52.7695), ('XGBoost', 17.1453)]\n",
            "+++++++++++++++++++++++++++++++++++++++++++++++++++++++++++++++++++++++++++++++++++++++ XGBoost 141 554 3\n"
          ]
        },
        {
          "output_type": "stream",
          "name": "stderr",
          "text": [
            "/usr/local/lib/python3.10/dist-packages/statsmodels/tsa/base/tsa_model.py:473: ValueWarning: No frequency information was provided, so inferred frequency D will be used.\n",
            "  self._init_dates(dates, freq)\n",
            "/usr/local/lib/python3.10/dist-packages/statsmodels/tsa/holtwinters/model.py:917: ConvergenceWarning: Optimization failed to converge. Check mle_retvals.\n",
            "  warnings.warn(\n",
            "<ipython-input-10-fd7e9e95ee04>:69: FutureWarning: The frame.append method is deprecated and will be removed from pandas in a future version. Use pandas.concat instead.\n",
            "  results_df = results_df.append(result_dict, ignore_index=True)\n",
            "INFO:prophet:Disabling yearly seasonality. Run prophet with yearly_seasonality=True to override this.\n",
            "INFO:prophet:Disabling daily seasonality. Run prophet with daily_seasonality=True to override this.\n",
            "DEBUG:cmdstanpy:input tempfile: /tmp/tmpnc3vi0u7/eujeojjt.json\n",
            "DEBUG:cmdstanpy:input tempfile: /tmp/tmpnc3vi0u7/zpkb4w99.json\n",
            "DEBUG:cmdstanpy:idx 0\n",
            "DEBUG:cmdstanpy:running CmdStan, num_threads: None\n",
            "DEBUG:cmdstanpy:CmdStan args: ['/usr/local/lib/python3.10/dist-packages/prophet/stan_model/prophet_model.bin', 'random', 'seed=98809', 'data', 'file=/tmp/tmpnc3vi0u7/eujeojjt.json', 'init=/tmp/tmpnc3vi0u7/zpkb4w99.json', 'output', 'file=/tmp/tmpnc3vi0u7/prophet_model1e5pa1wj/prophet_model-20231001053036.csv', 'method=optimize', 'algorithm=lbfgs', 'iter=10000']\n",
            "05:30:36 - cmdstanpy - INFO - Chain [1] start processing\n",
            "INFO:cmdstanpy:Chain [1] start processing\n",
            "05:30:36 - cmdstanpy - INFO - Chain [1] done processing\n",
            "INFO:cmdstanpy:Chain [1] done processing\n"
          ]
        },
        {
          "output_type": "stream",
          "name": "stdout",
          "text": [
            "+++++++++++++++++++++++++++++++++++++++++++++++++++++++++++++++++++++++++++++++++++++++ [('Prophet', 106.969), ('ARIMA', 65.2411), ('ETS', 114.9113), ('XGBoost', 96.8086)]\n",
            "+++++++++++++++++++++++++++++++++++++++++++++++++++++++++++++++++++++++++++++++++++++++ ARIMA 142 557 3\n"
          ]
        },
        {
          "output_type": "stream",
          "name": "stderr",
          "text": [
            "/usr/local/lib/python3.10/dist-packages/statsmodels/tsa/base/tsa_model.py:473: ValueWarning: No frequency information was provided, so inferred frequency D will be used.\n",
            "  self._init_dates(dates, freq)\n",
            "/usr/local/lib/python3.10/dist-packages/statsmodels/tsa/holtwinters/model.py:917: ConvergenceWarning: Optimization failed to converge. Check mle_retvals.\n",
            "  warnings.warn(\n",
            "<ipython-input-10-fd7e9e95ee04>:69: FutureWarning: The frame.append method is deprecated and will be removed from pandas in a future version. Use pandas.concat instead.\n",
            "  results_df = results_df.append(result_dict, ignore_index=True)\n",
            "INFO:prophet:Disabling yearly seasonality. Run prophet with yearly_seasonality=True to override this.\n",
            "INFO:prophet:Disabling daily seasonality. Run prophet with daily_seasonality=True to override this.\n",
            "DEBUG:cmdstanpy:input tempfile: /tmp/tmpnc3vi0u7/q5ufhs63.json\n",
            "DEBUG:cmdstanpy:input tempfile: /tmp/tmpnc3vi0u7/k4n2a3zt.json\n",
            "DEBUG:cmdstanpy:idx 0\n",
            "DEBUG:cmdstanpy:running CmdStan, num_threads: None\n",
            "DEBUG:cmdstanpy:CmdStan args: ['/usr/local/lib/python3.10/dist-packages/prophet/stan_model/prophet_model.bin', 'random', 'seed=79406', 'data', 'file=/tmp/tmpnc3vi0u7/q5ufhs63.json', 'init=/tmp/tmpnc3vi0u7/k4n2a3zt.json', 'output', 'file=/tmp/tmpnc3vi0u7/prophet_modelx1rmko_h/prophet_model-20231001053105.csv', 'method=optimize', 'algorithm=lbfgs', 'iter=10000']\n",
            "05:31:05 - cmdstanpy - INFO - Chain [1] start processing\n",
            "INFO:cmdstanpy:Chain [1] start processing\n",
            "05:31:05 - cmdstanpy - INFO - Chain [1] done processing\n",
            "INFO:cmdstanpy:Chain [1] done processing\n"
          ]
        },
        {
          "output_type": "stream",
          "name": "stdout",
          "text": [
            "+++++++++++++++++++++++++++++++++++++++++++++++++++++++++++++++++++++++++++++++++++++++ [('Prophet', 42.779), ('ARIMA', 11.4558), ('ETS', 29.2608), ('XGBoost', 13.0667)]\n",
            "+++++++++++++++++++++++++++++++++++++++++++++++++++++++++++++++++++++++++++++++++++++++ ARIMA 143 560 3\n"
          ]
        },
        {
          "output_type": "stream",
          "name": "stderr",
          "text": [
            "/usr/local/lib/python3.10/dist-packages/statsmodels/tsa/base/tsa_model.py:473: ValueWarning: No frequency information was provided, so inferred frequency D will be used.\n",
            "  self._init_dates(dates, freq)\n",
            "/usr/local/lib/python3.10/dist-packages/statsmodels/tsa/holtwinters/model.py:917: ConvergenceWarning: Optimization failed to converge. Check mle_retvals.\n",
            "  warnings.warn(\n",
            "<ipython-input-10-fd7e9e95ee04>:69: FutureWarning: The frame.append method is deprecated and will be removed from pandas in a future version. Use pandas.concat instead.\n",
            "  results_df = results_df.append(result_dict, ignore_index=True)\n",
            "INFO:prophet:Disabling yearly seasonality. Run prophet with yearly_seasonality=True to override this.\n",
            "INFO:prophet:Disabling daily seasonality. Run prophet with daily_seasonality=True to override this.\n",
            "DEBUG:cmdstanpy:input tempfile: /tmp/tmpnc3vi0u7/tsbst8_d.json\n",
            "DEBUG:cmdstanpy:input tempfile: /tmp/tmpnc3vi0u7/p9rkjaqs.json\n",
            "DEBUG:cmdstanpy:idx 0\n",
            "DEBUG:cmdstanpy:running CmdStan, num_threads: None\n",
            "DEBUG:cmdstanpy:CmdStan args: ['/usr/local/lib/python3.10/dist-packages/prophet/stan_model/prophet_model.bin', 'random', 'seed=63839', 'data', 'file=/tmp/tmpnc3vi0u7/tsbst8_d.json', 'init=/tmp/tmpnc3vi0u7/p9rkjaqs.json', 'output', 'file=/tmp/tmpnc3vi0u7/prophet_model_ntfygae/prophet_model-20231001053124.csv', 'method=optimize', 'algorithm=lbfgs', 'iter=10000']\n",
            "05:31:24 - cmdstanpy - INFO - Chain [1] start processing\n",
            "INFO:cmdstanpy:Chain [1] start processing\n",
            "05:31:24 - cmdstanpy - INFO - Chain [1] done processing\n",
            "INFO:cmdstanpy:Chain [1] done processing\n"
          ]
        },
        {
          "output_type": "stream",
          "name": "stdout",
          "text": [
            "+++++++++++++++++++++++++++++++++++++++++++++++++++++++++++++++++++++++++++++++++++++++ [('Prophet', 61.5426), ('ARIMA', 14.2627), ('ETS', 39.6628), ('XGBoost', 30.4301)]\n",
            "+++++++++++++++++++++++++++++++++++++++++++++++++++++++++++++++++++++++++++++++++++++++ ARIMA 144 563 3\n"
          ]
        },
        {
          "output_type": "stream",
          "name": "stderr",
          "text": [
            "/usr/local/lib/python3.10/dist-packages/statsmodels/tsa/base/tsa_model.py:473: ValueWarning: No frequency information was provided, so inferred frequency D will be used.\n",
            "  self._init_dates(dates, freq)\n",
            "/usr/local/lib/python3.10/dist-packages/statsmodels/tsa/holtwinters/model.py:917: ConvergenceWarning: Optimization failed to converge. Check mle_retvals.\n",
            "  warnings.warn(\n",
            "<ipython-input-10-fd7e9e95ee04>:69: FutureWarning: The frame.append method is deprecated and will be removed from pandas in a future version. Use pandas.concat instead.\n",
            "  results_df = results_df.append(result_dict, ignore_index=True)\n",
            "INFO:prophet:Disabling yearly seasonality. Run prophet with yearly_seasonality=True to override this.\n",
            "INFO:prophet:Disabling daily seasonality. Run prophet with daily_seasonality=True to override this.\n",
            "DEBUG:cmdstanpy:input tempfile: /tmp/tmpnc3vi0u7/e47kdeq7.json\n",
            "DEBUG:cmdstanpy:input tempfile: /tmp/tmpnc3vi0u7/48jwd85_.json\n",
            "DEBUG:cmdstanpy:idx 0\n",
            "DEBUG:cmdstanpy:running CmdStan, num_threads: None\n",
            "DEBUG:cmdstanpy:CmdStan args: ['/usr/local/lib/python3.10/dist-packages/prophet/stan_model/prophet_model.bin', 'random', 'seed=25653', 'data', 'file=/tmp/tmpnc3vi0u7/e47kdeq7.json', 'init=/tmp/tmpnc3vi0u7/48jwd85_.json', 'output', 'file=/tmp/tmpnc3vi0u7/prophet_model8ezcrqmw/prophet_model-20231001053142.csv', 'method=optimize', 'algorithm=lbfgs', 'iter=10000']\n",
            "05:31:43 - cmdstanpy - INFO - Chain [1] start processing\n",
            "INFO:cmdstanpy:Chain [1] start processing\n",
            "05:31:43 - cmdstanpy - INFO - Chain [1] done processing\n",
            "INFO:cmdstanpy:Chain [1] done processing\n"
          ]
        },
        {
          "output_type": "stream",
          "name": "stdout",
          "text": [
            "+++++++++++++++++++++++++++++++++++++++++++++++++++++++++++++++++++++++++++++++++++++++ [('Prophet', 89.4345), ('ARIMA', 38.7553), ('ETS', 79.9159), ('XGBoost', 120.73)]\n",
            "+++++++++++++++++++++++++++++++++++++++++++++++++++++++++++++++++++++++++++++++++++++++ ARIMA 145 566 3\n"
          ]
        },
        {
          "output_type": "stream",
          "name": "stderr",
          "text": [
            "/usr/local/lib/python3.10/dist-packages/statsmodels/tsa/base/tsa_model.py:473: ValueWarning: No frequency information was provided, so inferred frequency D will be used.\n",
            "  self._init_dates(dates, freq)\n",
            "/usr/local/lib/python3.10/dist-packages/statsmodels/tsa/holtwinters/model.py:917: ConvergenceWarning: Optimization failed to converge. Check mle_retvals.\n",
            "  warnings.warn(\n",
            "<ipython-input-10-fd7e9e95ee04>:69: FutureWarning: The frame.append method is deprecated and will be removed from pandas in a future version. Use pandas.concat instead.\n",
            "  results_df = results_df.append(result_dict, ignore_index=True)\n",
            "INFO:prophet:Disabling yearly seasonality. Run prophet with yearly_seasonality=True to override this.\n",
            "INFO:prophet:Disabling daily seasonality. Run prophet with daily_seasonality=True to override this.\n",
            "DEBUG:cmdstanpy:input tempfile: /tmp/tmpnc3vi0u7/_2gwwloz.json\n",
            "DEBUG:cmdstanpy:input tempfile: /tmp/tmpnc3vi0u7/qb29bnjn.json\n",
            "DEBUG:cmdstanpy:idx 0\n",
            "DEBUG:cmdstanpy:running CmdStan, num_threads: None\n",
            "DEBUG:cmdstanpy:CmdStan args: ['/usr/local/lib/python3.10/dist-packages/prophet/stan_model/prophet_model.bin', 'random', 'seed=94032', 'data', 'file=/tmp/tmpnc3vi0u7/_2gwwloz.json', 'init=/tmp/tmpnc3vi0u7/qb29bnjn.json', 'output', 'file=/tmp/tmpnc3vi0u7/prophet_modelbxmvbe4w/prophet_model-20231001053211.csv', 'method=optimize', 'algorithm=lbfgs', 'iter=10000']\n",
            "05:32:11 - cmdstanpy - INFO - Chain [1] start processing\n",
            "INFO:cmdstanpy:Chain [1] start processing\n",
            "05:32:12 - cmdstanpy - INFO - Chain [1] done processing\n",
            "INFO:cmdstanpy:Chain [1] done processing\n"
          ]
        },
        {
          "output_type": "stream",
          "name": "stdout",
          "text": [
            "+++++++++++++++++++++++++++++++++++++++++++++++++++++++++++++++++++++++++++++++++++++++ [('Prophet', 44.1409), ('ARIMA', 4.5617), ('ETS', 18.2488), ('XGBoost', 17.5475)]\n",
            "+++++++++++++++++++++++++++++++++++++++++++++++++++++++++++++++++++++++++++++++++++++++ ARIMA 146 569 3\n"
          ]
        },
        {
          "output_type": "stream",
          "name": "stderr",
          "text": [
            "/usr/local/lib/python3.10/dist-packages/statsmodels/tsa/base/tsa_model.py:473: ValueWarning: No frequency information was provided, so inferred frequency D will be used.\n",
            "  self._init_dates(dates, freq)\n",
            "/usr/local/lib/python3.10/dist-packages/statsmodels/tsa/holtwinters/model.py:917: ConvergenceWarning: Optimization failed to converge. Check mle_retvals.\n",
            "  warnings.warn(\n",
            "<ipython-input-10-fd7e9e95ee04>:69: FutureWarning: The frame.append method is deprecated and will be removed from pandas in a future version. Use pandas.concat instead.\n",
            "  results_df = results_df.append(result_dict, ignore_index=True)\n",
            "INFO:prophet:Disabling yearly seasonality. Run prophet with yearly_seasonality=True to override this.\n",
            "INFO:prophet:Disabling daily seasonality. Run prophet with daily_seasonality=True to override this.\n",
            "DEBUG:cmdstanpy:input tempfile: /tmp/tmpnc3vi0u7/59wznf2j.json\n",
            "DEBUG:cmdstanpy:input tempfile: /tmp/tmpnc3vi0u7/h8bo4y3f.json\n",
            "DEBUG:cmdstanpy:idx 0\n",
            "DEBUG:cmdstanpy:running CmdStan, num_threads: None\n",
            "DEBUG:cmdstanpy:CmdStan args: ['/usr/local/lib/python3.10/dist-packages/prophet/stan_model/prophet_model.bin', 'random', 'seed=47560', 'data', 'file=/tmp/tmpnc3vi0u7/59wznf2j.json', 'init=/tmp/tmpnc3vi0u7/h8bo4y3f.json', 'output', 'file=/tmp/tmpnc3vi0u7/prophet_modelp6hg2bfe/prophet_model-20231001053240.csv', 'method=optimize', 'algorithm=lbfgs', 'iter=10000']\n",
            "05:32:40 - cmdstanpy - INFO - Chain [1] start processing\n",
            "INFO:cmdstanpy:Chain [1] start processing\n",
            "05:32:40 - cmdstanpy - INFO - Chain [1] done processing\n",
            "INFO:cmdstanpy:Chain [1] done processing\n"
          ]
        },
        {
          "output_type": "stream",
          "name": "stdout",
          "text": [
            "+++++++++++++++++++++++++++++++++++++++++++++++++++++++++++++++++++++++++++++++++++++++ [('Prophet', 98.3567), ('ARIMA', 33.7848), ('ETS', 118.2715), ('XGBoost', 140.8542)]\n",
            "+++++++++++++++++++++++++++++++++++++++++++++++++++++++++++++++++++++++++++++++++++++++ ARIMA 147 572 3\n"
          ]
        },
        {
          "output_type": "stream",
          "name": "stderr",
          "text": [
            "/usr/local/lib/python3.10/dist-packages/statsmodels/tsa/base/tsa_model.py:473: ValueWarning: No frequency information was provided, so inferred frequency D will be used.\n",
            "  self._init_dates(dates, freq)\n",
            "/usr/local/lib/python3.10/dist-packages/statsmodels/tsa/holtwinters/model.py:917: ConvergenceWarning: Optimization failed to converge. Check mle_retvals.\n",
            "  warnings.warn(\n",
            "<ipython-input-10-fd7e9e95ee04>:69: FutureWarning: The frame.append method is deprecated and will be removed from pandas in a future version. Use pandas.concat instead.\n",
            "  results_df = results_df.append(result_dict, ignore_index=True)\n",
            "INFO:prophet:Disabling yearly seasonality. Run prophet with yearly_seasonality=True to override this.\n",
            "INFO:prophet:Disabling daily seasonality. Run prophet with daily_seasonality=True to override this.\n",
            "DEBUG:cmdstanpy:input tempfile: /tmp/tmpnc3vi0u7/v5zuug06.json\n",
            "DEBUG:cmdstanpy:input tempfile: /tmp/tmpnc3vi0u7/a1sq7jmp.json\n",
            "DEBUG:cmdstanpy:idx 0\n",
            "DEBUG:cmdstanpy:running CmdStan, num_threads: None\n",
            "DEBUG:cmdstanpy:CmdStan args: ['/usr/local/lib/python3.10/dist-packages/prophet/stan_model/prophet_model.bin', 'random', 'seed=65646', 'data', 'file=/tmp/tmpnc3vi0u7/v5zuug06.json', 'init=/tmp/tmpnc3vi0u7/a1sq7jmp.json', 'output', 'file=/tmp/tmpnc3vi0u7/prophet_modelr_lgurfo/prophet_model-20231001053258.csv', 'method=optimize', 'algorithm=lbfgs', 'iter=10000']\n",
            "05:32:59 - cmdstanpy - INFO - Chain [1] start processing\n",
            "INFO:cmdstanpy:Chain [1] start processing\n",
            "05:32:59 - cmdstanpy - INFO - Chain [1] done processing\n",
            "INFO:cmdstanpy:Chain [1] done processing\n"
          ]
        },
        {
          "output_type": "stream",
          "name": "stdout",
          "text": [
            "+++++++++++++++++++++++++++++++++++++++++++++++++++++++++++++++++++++++++++++++++++++++ [('Prophet', 47.2879), ('ARIMA', 5.3923), ('ETS', 26.694), ('XGBoost', 36.0146)]\n",
            "+++++++++++++++++++++++++++++++++++++++++++++++++++++++++++++++++++++++++++++++++++++++ ARIMA 148 575 3\n"
          ]
        },
        {
          "output_type": "stream",
          "name": "stderr",
          "text": [
            "/usr/local/lib/python3.10/dist-packages/statsmodels/tsa/base/tsa_model.py:473: ValueWarning: No frequency information was provided, so inferred frequency D will be used.\n",
            "  self._init_dates(dates, freq)\n",
            "/usr/local/lib/python3.10/dist-packages/statsmodels/tsa/holtwinters/model.py:917: ConvergenceWarning: Optimization failed to converge. Check mle_retvals.\n",
            "  warnings.warn(\n",
            "<ipython-input-10-fd7e9e95ee04>:69: FutureWarning: The frame.append method is deprecated and will be removed from pandas in a future version. Use pandas.concat instead.\n",
            "  results_df = results_df.append(result_dict, ignore_index=True)\n",
            "INFO:prophet:Disabling yearly seasonality. Run prophet with yearly_seasonality=True to override this.\n",
            "INFO:prophet:Disabling daily seasonality. Run prophet with daily_seasonality=True to override this.\n",
            "DEBUG:cmdstanpy:input tempfile: /tmp/tmpnc3vi0u7/p80uepmg.json\n",
            "DEBUG:cmdstanpy:input tempfile: /tmp/tmpnc3vi0u7/hqo879h2.json\n",
            "DEBUG:cmdstanpy:idx 0\n",
            "DEBUG:cmdstanpy:running CmdStan, num_threads: None\n",
            "DEBUG:cmdstanpy:CmdStan args: ['/usr/local/lib/python3.10/dist-packages/prophet/stan_model/prophet_model.bin', 'random', 'seed=92971', 'data', 'file=/tmp/tmpnc3vi0u7/p80uepmg.json', 'init=/tmp/tmpnc3vi0u7/hqo879h2.json', 'output', 'file=/tmp/tmpnc3vi0u7/prophet_modelok17_746/prophet_model-20231001053317.csv', 'method=optimize', 'algorithm=lbfgs', 'iter=10000']\n",
            "05:33:17 - cmdstanpy - INFO - Chain [1] start processing\n",
            "INFO:cmdstanpy:Chain [1] start processing\n",
            "05:33:17 - cmdstanpy - INFO - Chain [1] done processing\n",
            "INFO:cmdstanpy:Chain [1] done processing\n"
          ]
        },
        {
          "output_type": "stream",
          "name": "stdout",
          "text": [
            "+++++++++++++++++++++++++++++++++++++++++++++++++++++++++++++++++++++++++++++++++++++++ [('Prophet', 87.8046), ('ARIMA', 34.4824), ('ETS', 94.0744), ('XGBoost', 182.2041)]\n",
            "+++++++++++++++++++++++++++++++++++++++++++++++++++++++++++++++++++++++++++++++++++++++ ARIMA 149 578 3\n"
          ]
        },
        {
          "output_type": "stream",
          "name": "stderr",
          "text": [
            "/usr/local/lib/python3.10/dist-packages/statsmodels/tsa/base/tsa_model.py:473: ValueWarning: No frequency information was provided, so inferred frequency D will be used.\n",
            "  self._init_dates(dates, freq)\n",
            "/usr/local/lib/python3.10/dist-packages/statsmodels/tsa/holtwinters/model.py:917: ConvergenceWarning: Optimization failed to converge. Check mle_retvals.\n",
            "  warnings.warn(\n",
            "<ipython-input-10-fd7e9e95ee04>:69: FutureWarning: The frame.append method is deprecated and will be removed from pandas in a future version. Use pandas.concat instead.\n",
            "  results_df = results_df.append(result_dict, ignore_index=True)\n",
            "INFO:prophet:Disabling yearly seasonality. Run prophet with yearly_seasonality=True to override this.\n",
            "INFO:prophet:Disabling daily seasonality. Run prophet with daily_seasonality=True to override this.\n",
            "DEBUG:cmdstanpy:input tempfile: /tmp/tmpnc3vi0u7/3qboucoh.json\n",
            "DEBUG:cmdstanpy:input tempfile: /tmp/tmpnc3vi0u7/42iiofcc.json\n",
            "DEBUG:cmdstanpy:idx 0\n",
            "DEBUG:cmdstanpy:running CmdStan, num_threads: None\n",
            "DEBUG:cmdstanpy:CmdStan args: ['/usr/local/lib/python3.10/dist-packages/prophet/stan_model/prophet_model.bin', 'random', 'seed=68670', 'data', 'file=/tmp/tmpnc3vi0u7/3qboucoh.json', 'init=/tmp/tmpnc3vi0u7/42iiofcc.json', 'output', 'file=/tmp/tmpnc3vi0u7/prophet_modelj07s22om/prophet_model-20231001053345.csv', 'method=optimize', 'algorithm=lbfgs', 'iter=10000']\n",
            "05:33:45 - cmdstanpy - INFO - Chain [1] start processing\n",
            "INFO:cmdstanpy:Chain [1] start processing\n",
            "05:33:45 - cmdstanpy - INFO - Chain [1] done processing\n",
            "INFO:cmdstanpy:Chain [1] done processing\n"
          ]
        },
        {
          "output_type": "stream",
          "name": "stdout",
          "text": [
            "+++++++++++++++++++++++++++++++++++++++++++++++++++++++++++++++++++++++++++++++++++++++ [('Prophet', 44.9698), ('ARIMA', 38.9863), ('ETS', 53.9178), ('XGBoost', 84.8101)]\n",
            "+++++++++++++++++++++++++++++++++++++++++++++++++++++++++++++++++++++++++++++++++++++++ ARIMA 150 581 3\n"
          ]
        },
        {
          "output_type": "stream",
          "name": "stderr",
          "text": [
            "/usr/local/lib/python3.10/dist-packages/statsmodels/tsa/base/tsa_model.py:473: ValueWarning: No frequency information was provided, so inferred frequency D will be used.\n",
            "  self._init_dates(dates, freq)\n",
            "/usr/local/lib/python3.10/dist-packages/statsmodels/tsa/holtwinters/model.py:917: ConvergenceWarning: Optimization failed to converge. Check mle_retvals.\n",
            "  warnings.warn(\n",
            "<ipython-input-10-fd7e9e95ee04>:69: FutureWarning: The frame.append method is deprecated and will be removed from pandas in a future version. Use pandas.concat instead.\n",
            "  results_df = results_df.append(result_dict, ignore_index=True)\n",
            "INFO:prophet:Disabling yearly seasonality. Run prophet with yearly_seasonality=True to override this.\n",
            "INFO:prophet:Disabling daily seasonality. Run prophet with daily_seasonality=True to override this.\n",
            "DEBUG:cmdstanpy:input tempfile: /tmp/tmpnc3vi0u7/gq4x6i2w.json\n",
            "DEBUG:cmdstanpy:input tempfile: /tmp/tmpnc3vi0u7/z1ns44fx.json\n",
            "DEBUG:cmdstanpy:idx 0\n",
            "DEBUG:cmdstanpy:running CmdStan, num_threads: None\n",
            "DEBUG:cmdstanpy:CmdStan args: ['/usr/local/lib/python3.10/dist-packages/prophet/stan_model/prophet_model.bin', 'random', 'seed=81137', 'data', 'file=/tmp/tmpnc3vi0u7/gq4x6i2w.json', 'init=/tmp/tmpnc3vi0u7/z1ns44fx.json', 'output', 'file=/tmp/tmpnc3vi0u7/prophet_modelvkl5mvx7/prophet_model-20231001053403.csv', 'method=optimize', 'algorithm=lbfgs', 'iter=10000']\n",
            "05:34:03 - cmdstanpy - INFO - Chain [1] start processing\n",
            "INFO:cmdstanpy:Chain [1] start processing\n",
            "05:34:03 - cmdstanpy - INFO - Chain [1] done processing\n",
            "INFO:cmdstanpy:Chain [1] done processing\n"
          ]
        },
        {
          "output_type": "stream",
          "name": "stdout",
          "text": [
            "+++++++++++++++++++++++++++++++++++++++++++++++++++++++++++++++++++++++++++++++++++++++ [('Prophet', 68.1934), ('ARIMA', 30.2627), ('ETS', 55.8342), ('XGBoost', 28.0049)]\n",
            "+++++++++++++++++++++++++++++++++++++++++++++++++++++++++++++++++++++++++++++++++++++++ XGBoost 151 584 3\n"
          ]
        },
        {
          "output_type": "stream",
          "name": "stderr",
          "text": [
            "/usr/local/lib/python3.10/dist-packages/statsmodels/tsa/base/tsa_model.py:473: ValueWarning: No frequency information was provided, so inferred frequency D will be used.\n",
            "  self._init_dates(dates, freq)\n",
            "/usr/local/lib/python3.10/dist-packages/statsmodels/tsa/holtwinters/model.py:917: ConvergenceWarning: Optimization failed to converge. Check mle_retvals.\n",
            "  warnings.warn(\n",
            "<ipython-input-10-fd7e9e95ee04>:69: FutureWarning: The frame.append method is deprecated and will be removed from pandas in a future version. Use pandas.concat instead.\n",
            "  results_df = results_df.append(result_dict, ignore_index=True)\n",
            "INFO:prophet:Disabling yearly seasonality. Run prophet with yearly_seasonality=True to override this.\n",
            "INFO:prophet:Disabling daily seasonality. Run prophet with daily_seasonality=True to override this.\n",
            "DEBUG:cmdstanpy:input tempfile: /tmp/tmpnc3vi0u7/s0r78y4j.json\n",
            "DEBUG:cmdstanpy:input tempfile: /tmp/tmpnc3vi0u7/04fea86q.json\n",
            "DEBUG:cmdstanpy:idx 0\n",
            "DEBUG:cmdstanpy:running CmdStan, num_threads: None\n",
            "DEBUG:cmdstanpy:CmdStan args: ['/usr/local/lib/python3.10/dist-packages/prophet/stan_model/prophet_model.bin', 'random', 'seed=10800', 'data', 'file=/tmp/tmpnc3vi0u7/s0r78y4j.json', 'init=/tmp/tmpnc3vi0u7/04fea86q.json', 'output', 'file=/tmp/tmpnc3vi0u7/prophet_model4wyle7l6/prophet_model-20231001053432.csv', 'method=optimize', 'algorithm=lbfgs', 'iter=10000']\n",
            "05:34:32 - cmdstanpy - INFO - Chain [1] start processing\n",
            "INFO:cmdstanpy:Chain [1] start processing\n",
            "05:34:32 - cmdstanpy - INFO - Chain [1] done processing\n",
            "INFO:cmdstanpy:Chain [1] done processing\n"
          ]
        },
        {
          "output_type": "stream",
          "name": "stdout",
          "text": [
            "+++++++++++++++++++++++++++++++++++++++++++++++++++++++++++++++++++++++++++++++++++++++ [('Prophet', 94.6151), ('ARIMA', 27.427), ('ETS', 95.7445), ('XGBoost', 104.091)]\n",
            "+++++++++++++++++++++++++++++++++++++++++++++++++++++++++++++++++++++++++++++++++++++++ ARIMA 152 587 3\n"
          ]
        },
        {
          "output_type": "stream",
          "name": "stderr",
          "text": [
            "/usr/local/lib/python3.10/dist-packages/statsmodels/tsa/base/tsa_model.py:473: ValueWarning: No frequency information was provided, so inferred frequency D will be used.\n",
            "  self._init_dates(dates, freq)\n",
            "/usr/local/lib/python3.10/dist-packages/statsmodels/tsa/holtwinters/model.py:917: ConvergenceWarning: Optimization failed to converge. Check mle_retvals.\n",
            "  warnings.warn(\n",
            "<ipython-input-10-fd7e9e95ee04>:69: FutureWarning: The frame.append method is deprecated and will be removed from pandas in a future version. Use pandas.concat instead.\n",
            "  results_df = results_df.append(result_dict, ignore_index=True)\n",
            "INFO:prophet:Disabling yearly seasonality. Run prophet with yearly_seasonality=True to override this.\n",
            "INFO:prophet:Disabling daily seasonality. Run prophet with daily_seasonality=True to override this.\n",
            "DEBUG:cmdstanpy:input tempfile: /tmp/tmpnc3vi0u7/f8djv46z.json\n",
            "DEBUG:cmdstanpy:input tempfile: /tmp/tmpnc3vi0u7/zqe7vncq.json\n",
            "DEBUG:cmdstanpy:idx 0\n",
            "DEBUG:cmdstanpy:running CmdStan, num_threads: None\n",
            "DEBUG:cmdstanpy:CmdStan args: ['/usr/local/lib/python3.10/dist-packages/prophet/stan_model/prophet_model.bin', 'random', 'seed=34661', 'data', 'file=/tmp/tmpnc3vi0u7/f8djv46z.json', 'init=/tmp/tmpnc3vi0u7/zqe7vncq.json', 'output', 'file=/tmp/tmpnc3vi0u7/prophet_modelntvcxgu0/prophet_model-20231001053450.csv', 'method=optimize', 'algorithm=lbfgs', 'iter=10000']\n",
            "05:34:50 - cmdstanpy - INFO - Chain [1] start processing\n",
            "INFO:cmdstanpy:Chain [1] start processing\n",
            "05:34:51 - cmdstanpy - INFO - Chain [1] done processing\n",
            "INFO:cmdstanpy:Chain [1] done processing\n"
          ]
        },
        {
          "output_type": "stream",
          "name": "stdout",
          "text": [
            "+++++++++++++++++++++++++++++++++++++++++++++++++++++++++++++++++++++++++++++++++++++++ [('Prophet', 36.2648), ('ARIMA', 17.6492), ('ETS', 16.7605), ('XGBoost', 25.8619)]\n",
            "+++++++++++++++++++++++++++++++++++++++++++++++++++++++++++++++++++++++++++++++++++++++ ETS 153 590 3\n"
          ]
        },
        {
          "output_type": "stream",
          "name": "stderr",
          "text": [
            "/usr/local/lib/python3.10/dist-packages/statsmodels/tsa/base/tsa_model.py:473: ValueWarning: No frequency information was provided, so inferred frequency D will be used.\n",
            "  self._init_dates(dates, freq)\n",
            "/usr/local/lib/python3.10/dist-packages/statsmodels/tsa/holtwinters/model.py:917: ConvergenceWarning: Optimization failed to converge. Check mle_retvals.\n",
            "  warnings.warn(\n",
            "<ipython-input-10-fd7e9e95ee04>:69: FutureWarning: The frame.append method is deprecated and will be removed from pandas in a future version. Use pandas.concat instead.\n",
            "  results_df = results_df.append(result_dict, ignore_index=True)\n",
            "INFO:prophet:Disabling yearly seasonality. Run prophet with yearly_seasonality=True to override this.\n",
            "INFO:prophet:Disabling daily seasonality. Run prophet with daily_seasonality=True to override this.\n",
            "DEBUG:cmdstanpy:input tempfile: /tmp/tmpnc3vi0u7/7t0mydo4.json\n",
            "DEBUG:cmdstanpy:input tempfile: /tmp/tmpnc3vi0u7/uf0e4lkv.json\n",
            "DEBUG:cmdstanpy:idx 0\n",
            "DEBUG:cmdstanpy:running CmdStan, num_threads: None\n",
            "DEBUG:cmdstanpy:CmdStan args: ['/usr/local/lib/python3.10/dist-packages/prophet/stan_model/prophet_model.bin', 'random', 'seed=75052', 'data', 'file=/tmp/tmpnc3vi0u7/7t0mydo4.json', 'init=/tmp/tmpnc3vi0u7/uf0e4lkv.json', 'output', 'file=/tmp/tmpnc3vi0u7/prophet_modellv_0zbjc/prophet_model-20231001053518.csv', 'method=optimize', 'algorithm=lbfgs', 'iter=10000']\n",
            "05:35:18 - cmdstanpy - INFO - Chain [1] start processing\n",
            "INFO:cmdstanpy:Chain [1] start processing\n",
            "05:35:19 - cmdstanpy - INFO - Chain [1] done processing\n",
            "INFO:cmdstanpy:Chain [1] done processing\n"
          ]
        },
        {
          "output_type": "stream",
          "name": "stdout",
          "text": [
            "+++++++++++++++++++++++++++++++++++++++++++++++++++++++++++++++++++++++++++++++++++++++ [('Prophet', 95.6468), ('ARIMA', 16.9179), ('ETS', 102.2397), ('XGBoost', 144.1306)]\n",
            "+++++++++++++++++++++++++++++++++++++++++++++++++++++++++++++++++++++++++++++++++++++++ ARIMA 154 593 3\n"
          ]
        },
        {
          "output_type": "stream",
          "name": "stderr",
          "text": [
            "/usr/local/lib/python3.10/dist-packages/statsmodels/tsa/base/tsa_model.py:473: ValueWarning: No frequency information was provided, so inferred frequency D will be used.\n",
            "  self._init_dates(dates, freq)\n",
            "/usr/local/lib/python3.10/dist-packages/statsmodels/tsa/holtwinters/model.py:917: ConvergenceWarning: Optimization failed to converge. Check mle_retvals.\n",
            "  warnings.warn(\n",
            "<ipython-input-10-fd7e9e95ee04>:69: FutureWarning: The frame.append method is deprecated and will be removed from pandas in a future version. Use pandas.concat instead.\n",
            "  results_df = results_df.append(result_dict, ignore_index=True)\n",
            "INFO:prophet:Disabling yearly seasonality. Run prophet with yearly_seasonality=True to override this.\n",
            "INFO:prophet:Disabling daily seasonality. Run prophet with daily_seasonality=True to override this.\n",
            "DEBUG:cmdstanpy:input tempfile: /tmp/tmpnc3vi0u7/lqal00z3.json\n",
            "DEBUG:cmdstanpy:input tempfile: /tmp/tmpnc3vi0u7/emeokhfr.json\n",
            "DEBUG:cmdstanpy:idx 0\n",
            "DEBUG:cmdstanpy:running CmdStan, num_threads: None\n",
            "DEBUG:cmdstanpy:CmdStan args: ['/usr/local/lib/python3.10/dist-packages/prophet/stan_model/prophet_model.bin', 'random', 'seed=79603', 'data', 'file=/tmp/tmpnc3vi0u7/lqal00z3.json', 'init=/tmp/tmpnc3vi0u7/emeokhfr.json', 'output', 'file=/tmp/tmpnc3vi0u7/prophet_modelocpxkv71/prophet_model-20231001053547.csv', 'method=optimize', 'algorithm=lbfgs', 'iter=10000']\n",
            "05:35:47 - cmdstanpy - INFO - Chain [1] start processing\n",
            "INFO:cmdstanpy:Chain [1] start processing\n",
            "05:35:47 - cmdstanpy - INFO - Chain [1] done processing\n",
            "INFO:cmdstanpy:Chain [1] done processing\n"
          ]
        },
        {
          "output_type": "stream",
          "name": "stdout",
          "text": [
            "+++++++++++++++++++++++++++++++++++++++++++++++++++++++++++++++++++++++++++++++++++++++ [('Prophet', 43.8251), ('ARIMA', 12.0389), ('ETS', 31.6997), ('XGBoost', 184.2998)]\n",
            "+++++++++++++++++++++++++++++++++++++++++++++++++++++++++++++++++++++++++++++++++++++++ ARIMA 155 596 3\n"
          ]
        },
        {
          "output_type": "stream",
          "name": "stderr",
          "text": [
            "/usr/local/lib/python3.10/dist-packages/statsmodels/tsa/base/tsa_model.py:473: ValueWarning: No frequency information was provided, so inferred frequency D will be used.\n",
            "  self._init_dates(dates, freq)\n",
            "/usr/local/lib/python3.10/dist-packages/statsmodels/tsa/holtwinters/model.py:917: ConvergenceWarning: Optimization failed to converge. Check mle_retvals.\n",
            "  warnings.warn(\n",
            "<ipython-input-10-fd7e9e95ee04>:69: FutureWarning: The frame.append method is deprecated and will be removed from pandas in a future version. Use pandas.concat instead.\n",
            "  results_df = results_df.append(result_dict, ignore_index=True)\n",
            "INFO:prophet:Disabling yearly seasonality. Run prophet with yearly_seasonality=True to override this.\n",
            "INFO:prophet:Disabling daily seasonality. Run prophet with daily_seasonality=True to override this.\n",
            "DEBUG:cmdstanpy:input tempfile: /tmp/tmpnc3vi0u7/zicq2i9u.json\n",
            "DEBUG:cmdstanpy:input tempfile: /tmp/tmpnc3vi0u7/ufdggpq8.json\n",
            "DEBUG:cmdstanpy:idx 0\n",
            "DEBUG:cmdstanpy:running CmdStan, num_threads: None\n",
            "DEBUG:cmdstanpy:CmdStan args: ['/usr/local/lib/python3.10/dist-packages/prophet/stan_model/prophet_model.bin', 'random', 'seed=10383', 'data', 'file=/tmp/tmpnc3vi0u7/zicq2i9u.json', 'init=/tmp/tmpnc3vi0u7/ufdggpq8.json', 'output', 'file=/tmp/tmpnc3vi0u7/prophet_modelu_u06b1q/prophet_model-20231001053616.csv', 'method=optimize', 'algorithm=lbfgs', 'iter=10000']\n",
            "05:36:16 - cmdstanpy - INFO - Chain [1] start processing\n",
            "INFO:cmdstanpy:Chain [1] start processing\n",
            "05:36:16 - cmdstanpy - INFO - Chain [1] done processing\n",
            "INFO:cmdstanpy:Chain [1] done processing\n"
          ]
        },
        {
          "output_type": "stream",
          "name": "stdout",
          "text": [
            "+++++++++++++++++++++++++++++++++++++++++++++++++++++++++++++++++++++++++++++++++++++++ [('Prophet', 67.3923), ('ARIMA', 21.4464), ('ETS', 96.4143), ('XGBoost', 104.7546)]\n",
            "+++++++++++++++++++++++++++++++++++++++++++++++++++++++++++++++++++++++++++++++++++++++ ARIMA 156 599 3\n"
          ]
        },
        {
          "output_type": "stream",
          "name": "stderr",
          "text": [
            "/usr/local/lib/python3.10/dist-packages/statsmodels/tsa/base/tsa_model.py:473: ValueWarning: No frequency information was provided, so inferred frequency D will be used.\n",
            "  self._init_dates(dates, freq)\n",
            "/usr/local/lib/python3.10/dist-packages/statsmodels/tsa/holtwinters/model.py:917: ConvergenceWarning: Optimization failed to converge. Check mle_retvals.\n",
            "  warnings.warn(\n",
            "<ipython-input-10-fd7e9e95ee04>:69: FutureWarning: The frame.append method is deprecated and will be removed from pandas in a future version. Use pandas.concat instead.\n",
            "  results_df = results_df.append(result_dict, ignore_index=True)\n",
            "INFO:prophet:Disabling yearly seasonality. Run prophet with yearly_seasonality=True to override this.\n",
            "INFO:prophet:Disabling daily seasonality. Run prophet with daily_seasonality=True to override this.\n",
            "DEBUG:cmdstanpy:input tempfile: /tmp/tmpnc3vi0u7/_0tyxh82.json\n",
            "DEBUG:cmdstanpy:input tempfile: /tmp/tmpnc3vi0u7/bfzjytai.json\n",
            "DEBUG:cmdstanpy:idx 0\n",
            "DEBUG:cmdstanpy:running CmdStan, num_threads: None\n",
            "DEBUG:cmdstanpy:CmdStan args: ['/usr/local/lib/python3.10/dist-packages/prophet/stan_model/prophet_model.bin', 'random', 'seed=31003', 'data', 'file=/tmp/tmpnc3vi0u7/_0tyxh82.json', 'init=/tmp/tmpnc3vi0u7/bfzjytai.json', 'output', 'file=/tmp/tmpnc3vi0u7/prophet_modelfprtpok7/prophet_model-20231001053646.csv', 'method=optimize', 'algorithm=lbfgs', 'iter=10000']\n",
            "05:36:46 - cmdstanpy - INFO - Chain [1] start processing\n",
            "INFO:cmdstanpy:Chain [1] start processing\n",
            "05:36:46 - cmdstanpy - INFO - Chain [1] done processing\n",
            "INFO:cmdstanpy:Chain [1] done processing\n"
          ]
        },
        {
          "output_type": "stream",
          "name": "stdout",
          "text": [
            "+++++++++++++++++++++++++++++++++++++++++++++++++++++++++++++++++++++++++++++++++++++++ [('Prophet', 37.756), ('ARIMA', 8.6876), ('ETS', 33.0403), ('XGBoost', 111.7784)]\n",
            "+++++++++++++++++++++++++++++++++++++++++++++++++++++++++++++++++++++++++++++++++++++++ ARIMA 157 602 3\n"
          ]
        },
        {
          "output_type": "stream",
          "name": "stderr",
          "text": [
            "/usr/local/lib/python3.10/dist-packages/statsmodels/tsa/base/tsa_model.py:473: ValueWarning: No frequency information was provided, so inferred frequency D will be used.\n",
            "  self._init_dates(dates, freq)\n",
            "/usr/local/lib/python3.10/dist-packages/statsmodels/tsa/holtwinters/model.py:917: ConvergenceWarning: Optimization failed to converge. Check mle_retvals.\n",
            "  warnings.warn(\n",
            "<ipython-input-10-fd7e9e95ee04>:69: FutureWarning: The frame.append method is deprecated and will be removed from pandas in a future version. Use pandas.concat instead.\n",
            "  results_df = results_df.append(result_dict, ignore_index=True)\n",
            "INFO:prophet:Disabling yearly seasonality. Run prophet with yearly_seasonality=True to override this.\n",
            "INFO:prophet:Disabling daily seasonality. Run prophet with daily_seasonality=True to override this.\n",
            "DEBUG:cmdstanpy:input tempfile: /tmp/tmpnc3vi0u7/1khwfekd.json\n",
            "DEBUG:cmdstanpy:input tempfile: /tmp/tmpnc3vi0u7/zd9u4jpk.json\n",
            "DEBUG:cmdstanpy:idx 0\n",
            "DEBUG:cmdstanpy:running CmdStan, num_threads: None\n",
            "DEBUG:cmdstanpy:CmdStan args: ['/usr/local/lib/python3.10/dist-packages/prophet/stan_model/prophet_model.bin', 'random', 'seed=43791', 'data', 'file=/tmp/tmpnc3vi0u7/1khwfekd.json', 'init=/tmp/tmpnc3vi0u7/zd9u4jpk.json', 'output', 'file=/tmp/tmpnc3vi0u7/prophet_model5p9b2mhm/prophet_model-20231001053716.csv', 'method=optimize', 'algorithm=lbfgs', 'iter=10000']\n",
            "05:37:16 - cmdstanpy - INFO - Chain [1] start processing\n",
            "INFO:cmdstanpy:Chain [1] start processing\n"
          ]
        },
        {
          "output_type": "stream",
          "name": "stdout",
          "text": [
            "+++++++++++++++++++++++++++++++++++++++++++++++++++++++++++++++++++++++++++++++++++++++ [('Prophet', 50.2585), ('ARIMA', 16.5818), ('ETS', 35.0542), ('XGBoost', 238.7724)]\n",
            "+++++++++++++++++++++++++++++++++++++++++++++++++++++++++++++++++++++++++++++++++++++++ ARIMA 158 605 3\n"
          ]
        },
        {
          "output_type": "stream",
          "name": "stderr",
          "text": [
            "05:37:16 - cmdstanpy - INFO - Chain [1] done processing\n",
            "INFO:cmdstanpy:Chain [1] done processing\n",
            "/usr/local/lib/python3.10/dist-packages/statsmodels/tsa/base/tsa_model.py:473: ValueWarning: No frequency information was provided, so inferred frequency D will be used.\n",
            "  self._init_dates(dates, freq)\n",
            "/usr/local/lib/python3.10/dist-packages/statsmodels/tsa/holtwinters/model.py:917: ConvergenceWarning: Optimization failed to converge. Check mle_retvals.\n",
            "  warnings.warn(\n",
            "<ipython-input-10-fd7e9e95ee04>:69: FutureWarning: The frame.append method is deprecated and will be removed from pandas in a future version. Use pandas.concat instead.\n",
            "  results_df = results_df.append(result_dict, ignore_index=True)\n",
            "INFO:prophet:Disabling yearly seasonality. Run prophet with yearly_seasonality=True to override this.\n",
            "INFO:prophet:Disabling daily seasonality. Run prophet with daily_seasonality=True to override this.\n",
            "DEBUG:cmdstanpy:input tempfile: /tmp/tmpnc3vi0u7/zjao2hx_.json\n",
            "DEBUG:cmdstanpy:input tempfile: /tmp/tmpnc3vi0u7/qtmyvfej.json\n",
            "DEBUG:cmdstanpy:idx 0\n",
            "DEBUG:cmdstanpy:running CmdStan, num_threads: None\n",
            "DEBUG:cmdstanpy:CmdStan args: ['/usr/local/lib/python3.10/dist-packages/prophet/stan_model/prophet_model.bin', 'random', 'seed=55012', 'data', 'file=/tmp/tmpnc3vi0u7/zjao2hx_.json', 'init=/tmp/tmpnc3vi0u7/qtmyvfej.json', 'output', 'file=/tmp/tmpnc3vi0u7/prophet_model22j6w_il/prophet_model-20231001053743.csv', 'method=optimize', 'algorithm=lbfgs', 'iter=10000']\n",
            "05:37:43 - cmdstanpy - INFO - Chain [1] start processing\n",
            "INFO:cmdstanpy:Chain [1] start processing\n"
          ]
        },
        {
          "output_type": "stream",
          "name": "stdout",
          "text": [
            "+++++++++++++++++++++++++++++++++++++++++++++++++++++++++++++++++++++++++++++++++++++++ [('Prophet', 81.8046), ('ARIMA', 19.8647), ('ETS', 75.7801), ('XGBoost', 33.1903)]\n",
            "+++++++++++++++++++++++++++++++++++++++++++++++++++++++++++++++++++++++++++++++++++++++ ARIMA 159 608 3\n"
          ]
        },
        {
          "output_type": "stream",
          "name": "stderr",
          "text": [
            "05:37:43 - cmdstanpy - INFO - Chain [1] done processing\n",
            "INFO:cmdstanpy:Chain [1] done processing\n",
            "/usr/local/lib/python3.10/dist-packages/statsmodels/tsa/base/tsa_model.py:473: ValueWarning: No frequency information was provided, so inferred frequency D will be used.\n",
            "  self._init_dates(dates, freq)\n",
            "/usr/local/lib/python3.10/dist-packages/statsmodels/tsa/holtwinters/model.py:917: ConvergenceWarning: Optimization failed to converge. Check mle_retvals.\n",
            "  warnings.warn(\n",
            "<ipython-input-10-fd7e9e95ee04>:69: FutureWarning: The frame.append method is deprecated and will be removed from pandas in a future version. Use pandas.concat instead.\n",
            "  results_df = results_df.append(result_dict, ignore_index=True)\n",
            "INFO:prophet:Disabling yearly seasonality. Run prophet with yearly_seasonality=True to override this.\n",
            "INFO:prophet:Disabling daily seasonality. Run prophet with daily_seasonality=True to override this.\n",
            "DEBUG:cmdstanpy:input tempfile: /tmp/tmpnc3vi0u7/xk59ea7o.json\n",
            "DEBUG:cmdstanpy:input tempfile: /tmp/tmpnc3vi0u7/cz6w7p77.json\n",
            "DEBUG:cmdstanpy:idx 0\n",
            "DEBUG:cmdstanpy:running CmdStan, num_threads: None\n",
            "DEBUG:cmdstanpy:CmdStan args: ['/usr/local/lib/python3.10/dist-packages/prophet/stan_model/prophet_model.bin', 'random', 'seed=77050', 'data', 'file=/tmp/tmpnc3vi0u7/xk59ea7o.json', 'init=/tmp/tmpnc3vi0u7/cz6w7p77.json', 'output', 'file=/tmp/tmpnc3vi0u7/prophet_model58c05ofz/prophet_model-20231001053804.csv', 'method=optimize', 'algorithm=lbfgs', 'iter=10000']\n",
            "05:38:04 - cmdstanpy - INFO - Chain [1] start processing\n",
            "INFO:cmdstanpy:Chain [1] start processing\n",
            "05:38:04 - cmdstanpy - INFO - Chain [1] done processing\n",
            "INFO:cmdstanpy:Chain [1] done processing\n"
          ]
        },
        {
          "output_type": "stream",
          "name": "stdout",
          "text": [
            "+++++++++++++++++++++++++++++++++++++++++++++++++++++++++++++++++++++++++++++++++++++++ [('Prophet', 38.9311), ('ARIMA', 9.3966), ('ETS', 17.8563), ('XGBoost', 31.0477)]\n",
            "+++++++++++++++++++++++++++++++++++++++++++++++++++++++++++++++++++++++++++++++++++++++ ARIMA 160 611 3\n"
          ]
        },
        {
          "output_type": "stream",
          "name": "stderr",
          "text": [
            "/usr/local/lib/python3.10/dist-packages/statsmodels/tsa/base/tsa_model.py:473: ValueWarning: No frequency information was provided, so inferred frequency D will be used.\n",
            "  self._init_dates(dates, freq)\n",
            "/usr/local/lib/python3.10/dist-packages/statsmodels/tsa/holtwinters/model.py:917: ConvergenceWarning: Optimization failed to converge. Check mle_retvals.\n",
            "  warnings.warn(\n",
            "<ipython-input-10-fd7e9e95ee04>:69: FutureWarning: The frame.append method is deprecated and will be removed from pandas in a future version. Use pandas.concat instead.\n",
            "  results_df = results_df.append(result_dict, ignore_index=True)\n",
            "INFO:prophet:Disabling yearly seasonality. Run prophet with yearly_seasonality=True to override this.\n",
            "INFO:prophet:Disabling daily seasonality. Run prophet with daily_seasonality=True to override this.\n",
            "DEBUG:cmdstanpy:input tempfile: /tmp/tmpnc3vi0u7/ij2uu61n.json\n",
            "DEBUG:cmdstanpy:input tempfile: /tmp/tmpnc3vi0u7/emf1hjrq.json\n",
            "DEBUG:cmdstanpy:idx 0\n",
            "DEBUG:cmdstanpy:running CmdStan, num_threads: None\n",
            "DEBUG:cmdstanpy:CmdStan args: ['/usr/local/lib/python3.10/dist-packages/prophet/stan_model/prophet_model.bin', 'random', 'seed=46539', 'data', 'file=/tmp/tmpnc3vi0u7/ij2uu61n.json', 'init=/tmp/tmpnc3vi0u7/emf1hjrq.json', 'output', 'file=/tmp/tmpnc3vi0u7/prophet_modelgy3n4sfo/prophet_model-20231001053822.csv', 'method=optimize', 'algorithm=lbfgs', 'iter=10000']\n",
            "05:38:23 - cmdstanpy - INFO - Chain [1] start processing\n",
            "INFO:cmdstanpy:Chain [1] start processing\n",
            "05:38:23 - cmdstanpy - INFO - Chain [1] done processing\n",
            "INFO:cmdstanpy:Chain [1] done processing\n"
          ]
        },
        {
          "output_type": "stream",
          "name": "stdout",
          "text": [
            "+++++++++++++++++++++++++++++++++++++++++++++++++++++++++++++++++++++++++++++++++++++++ [('Prophet', 88.2789), ('ARIMA', 41.9853), ('ETS', 97.2776), ('XGBoost', 87.1447)]\n",
            "+++++++++++++++++++++++++++++++++++++++++++++++++++++++++++++++++++++++++++++++++++++++ ARIMA 161 614 3\n"
          ]
        },
        {
          "output_type": "stream",
          "name": "stderr",
          "text": [
            "/usr/local/lib/python3.10/dist-packages/statsmodels/tsa/base/tsa_model.py:473: ValueWarning: No frequency information was provided, so inferred frequency D will be used.\n",
            "  self._init_dates(dates, freq)\n",
            "/usr/local/lib/python3.10/dist-packages/statsmodels/tsa/holtwinters/model.py:917: ConvergenceWarning: Optimization failed to converge. Check mle_retvals.\n",
            "  warnings.warn(\n",
            "<ipython-input-10-fd7e9e95ee04>:69: FutureWarning: The frame.append method is deprecated and will be removed from pandas in a future version. Use pandas.concat instead.\n",
            "  results_df = results_df.append(result_dict, ignore_index=True)\n",
            "INFO:prophet:Disabling yearly seasonality. Run prophet with yearly_seasonality=True to override this.\n",
            "INFO:prophet:Disabling daily seasonality. Run prophet with daily_seasonality=True to override this.\n",
            "DEBUG:cmdstanpy:input tempfile: /tmp/tmpnc3vi0u7/mwqxu60d.json\n",
            "DEBUG:cmdstanpy:input tempfile: /tmp/tmpnc3vi0u7/n0qakehe.json\n",
            "DEBUG:cmdstanpy:idx 0\n",
            "DEBUG:cmdstanpy:running CmdStan, num_threads: None\n",
            "DEBUG:cmdstanpy:CmdStan args: ['/usr/local/lib/python3.10/dist-packages/prophet/stan_model/prophet_model.bin', 'random', 'seed=64161', 'data', 'file=/tmp/tmpnc3vi0u7/mwqxu60d.json', 'init=/tmp/tmpnc3vi0u7/n0qakehe.json', 'output', 'file=/tmp/tmpnc3vi0u7/prophet_modelkzcje0o7/prophet_model-20231001053842.csv', 'method=optimize', 'algorithm=lbfgs', 'iter=10000']\n",
            "05:38:42 - cmdstanpy - INFO - Chain [1] start processing\n",
            "INFO:cmdstanpy:Chain [1] start processing\n",
            "05:38:42 - cmdstanpy - INFO - Chain [1] done processing\n",
            "INFO:cmdstanpy:Chain [1] done processing\n"
          ]
        },
        {
          "output_type": "stream",
          "name": "stdout",
          "text": [
            "+++++++++++++++++++++++++++++++++++++++++++++++++++++++++++++++++++++++++++++++++++++++ [('Prophet', 30.9927), ('ARIMA', 9.8278), ('ETS', 27.2679), ('XGBoost', 8.5929)]\n",
            "+++++++++++++++++++++++++++++++++++++++++++++++++++++++++++++++++++++++++++++++++++++++ XGBoost 162 617 3\n"
          ]
        },
        {
          "output_type": "stream",
          "name": "stderr",
          "text": [
            "/usr/local/lib/python3.10/dist-packages/statsmodels/tsa/base/tsa_model.py:473: ValueWarning: No frequency information was provided, so inferred frequency D will be used.\n",
            "  self._init_dates(dates, freq)\n",
            "/usr/local/lib/python3.10/dist-packages/statsmodels/tsa/holtwinters/model.py:917: ConvergenceWarning: Optimization failed to converge. Check mle_retvals.\n",
            "  warnings.warn(\n",
            "<ipython-input-10-fd7e9e95ee04>:69: FutureWarning: The frame.append method is deprecated and will be removed from pandas in a future version. Use pandas.concat instead.\n",
            "  results_df = results_df.append(result_dict, ignore_index=True)\n",
            "INFO:prophet:Disabling yearly seasonality. Run prophet with yearly_seasonality=True to override this.\n",
            "INFO:prophet:Disabling daily seasonality. Run prophet with daily_seasonality=True to override this.\n",
            "DEBUG:cmdstanpy:input tempfile: /tmp/tmpnc3vi0u7/rbebv2vj.json\n",
            "DEBUG:cmdstanpy:input tempfile: /tmp/tmpnc3vi0u7/oet61zoy.json\n",
            "DEBUG:cmdstanpy:idx 0\n",
            "DEBUG:cmdstanpy:running CmdStan, num_threads: None\n",
            "DEBUG:cmdstanpy:CmdStan args: ['/usr/local/lib/python3.10/dist-packages/prophet/stan_model/prophet_model.bin', 'random', 'seed=96976', 'data', 'file=/tmp/tmpnc3vi0u7/rbebv2vj.json', 'init=/tmp/tmpnc3vi0u7/oet61zoy.json', 'output', 'file=/tmp/tmpnc3vi0u7/prophet_modelrhb5f4l9/prophet_model-20231001053904.csv', 'method=optimize', 'algorithm=lbfgs', 'iter=10000']\n",
            "05:39:04 - cmdstanpy - INFO - Chain [1] start processing\n",
            "INFO:cmdstanpy:Chain [1] start processing\n"
          ]
        },
        {
          "output_type": "stream",
          "name": "stdout",
          "text": [
            "+++++++++++++++++++++++++++++++++++++++++++++++++++++++++++++++++++++++++++++++++++++++ [('Prophet', 94.3476), ('ARIMA', 25.0026), ('ETS', 110.6536), ('XGBoost', 117.3695)]\n",
            "+++++++++++++++++++++++++++++++++++++++++++++++++++++++++++++++++++++++++++++++++++++++ ARIMA 163 620 3\n"
          ]
        },
        {
          "output_type": "stream",
          "name": "stderr",
          "text": [
            "05:39:04 - cmdstanpy - INFO - Chain [1] done processing\n",
            "INFO:cmdstanpy:Chain [1] done processing\n",
            "/usr/local/lib/python3.10/dist-packages/statsmodels/tsa/base/tsa_model.py:473: ValueWarning: No frequency information was provided, so inferred frequency D will be used.\n",
            "  self._init_dates(dates, freq)\n",
            "/usr/local/lib/python3.10/dist-packages/statsmodels/tsa/holtwinters/model.py:917: ConvergenceWarning: Optimization failed to converge. Check mle_retvals.\n",
            "  warnings.warn(\n",
            "<ipython-input-10-fd7e9e95ee04>:69: FutureWarning: The frame.append method is deprecated and will be removed from pandas in a future version. Use pandas.concat instead.\n",
            "  results_df = results_df.append(result_dict, ignore_index=True)\n",
            "INFO:prophet:Disabling yearly seasonality. Run prophet with yearly_seasonality=True to override this.\n",
            "INFO:prophet:Disabling daily seasonality. Run prophet with daily_seasonality=True to override this.\n",
            "DEBUG:cmdstanpy:input tempfile: /tmp/tmpnc3vi0u7/ms2bg_9v.json\n",
            "DEBUG:cmdstanpy:input tempfile: /tmp/tmpnc3vi0u7/qeb9boof.json\n",
            "DEBUG:cmdstanpy:idx 0\n",
            "DEBUG:cmdstanpy:running CmdStan, num_threads: None\n",
            "DEBUG:cmdstanpy:CmdStan args: ['/usr/local/lib/python3.10/dist-packages/prophet/stan_model/prophet_model.bin', 'random', 'seed=46073', 'data', 'file=/tmp/tmpnc3vi0u7/ms2bg_9v.json', 'init=/tmp/tmpnc3vi0u7/qeb9boof.json', 'output', 'file=/tmp/tmpnc3vi0u7/prophet_modelfs6fp8f9/prophet_model-20231001053923.csv', 'method=optimize', 'algorithm=lbfgs', 'iter=10000']\n",
            "05:39:23 - cmdstanpy - INFO - Chain [1] start processing\n",
            "INFO:cmdstanpy:Chain [1] start processing\n",
            "05:39:23 - cmdstanpy - INFO - Chain [1] done processing\n",
            "INFO:cmdstanpy:Chain [1] done processing\n"
          ]
        },
        {
          "output_type": "stream",
          "name": "stdout",
          "text": [
            "+++++++++++++++++++++++++++++++++++++++++++++++++++++++++++++++++++++++++++++++++++++++ [('Prophet', 37.5703), ('ARIMA', 19.9165), ('ETS', 33.2486), ('XGBoost', 63.7085)]\n",
            "+++++++++++++++++++++++++++++++++++++++++++++++++++++++++++++++++++++++++++++++++++++++ ARIMA 164 623 3\n"
          ]
        },
        {
          "output_type": "stream",
          "name": "stderr",
          "text": [
            "/usr/local/lib/python3.10/dist-packages/statsmodels/tsa/base/tsa_model.py:473: ValueWarning: No frequency information was provided, so inferred frequency D will be used.\n",
            "  self._init_dates(dates, freq)\n",
            "/usr/local/lib/python3.10/dist-packages/statsmodels/tsa/holtwinters/model.py:917: ConvergenceWarning: Optimization failed to converge. Check mle_retvals.\n",
            "  warnings.warn(\n",
            "<ipython-input-10-fd7e9e95ee04>:69: FutureWarning: The frame.append method is deprecated and will be removed from pandas in a future version. Use pandas.concat instead.\n",
            "  results_df = results_df.append(result_dict, ignore_index=True)\n",
            "INFO:prophet:Disabling yearly seasonality. Run prophet with yearly_seasonality=True to override this.\n",
            "INFO:prophet:Disabling daily seasonality. Run prophet with daily_seasonality=True to override this.\n",
            "DEBUG:cmdstanpy:input tempfile: /tmp/tmpnc3vi0u7/r8bzovx1.json\n",
            "DEBUG:cmdstanpy:input tempfile: /tmp/tmpnc3vi0u7/zi0_1vx4.json\n",
            "DEBUG:cmdstanpy:idx 0\n",
            "DEBUG:cmdstanpy:running CmdStan, num_threads: None\n",
            "DEBUG:cmdstanpy:CmdStan args: ['/usr/local/lib/python3.10/dist-packages/prophet/stan_model/prophet_model.bin', 'random', 'seed=71381', 'data', 'file=/tmp/tmpnc3vi0u7/r8bzovx1.json', 'init=/tmp/tmpnc3vi0u7/zi0_1vx4.json', 'output', 'file=/tmp/tmpnc3vi0u7/prophet_modelsmqw3vkz/prophet_model-20231001053941.csv', 'method=optimize', 'algorithm=lbfgs', 'iter=10000']\n",
            "05:39:41 - cmdstanpy - INFO - Chain [1] start processing\n",
            "INFO:cmdstanpy:Chain [1] start processing\n",
            "05:39:41 - cmdstanpy - INFO - Chain [1] done processing\n",
            "INFO:cmdstanpy:Chain [1] done processing\n"
          ]
        },
        {
          "output_type": "stream",
          "name": "stdout",
          "text": [
            "+++++++++++++++++++++++++++++++++++++++++++++++++++++++++++++++++++++++++++++++++++++++ [('Prophet', 47.1463), ('ARIMA', 12.7041), ('ETS', 31.4828), ('XGBoost', 122.2878)]\n",
            "+++++++++++++++++++++++++++++++++++++++++++++++++++++++++++++++++++++++++++++++++++++++ ARIMA 165 626 3\n"
          ]
        },
        {
          "output_type": "stream",
          "name": "stderr",
          "text": [
            "/usr/local/lib/python3.10/dist-packages/statsmodels/tsa/base/tsa_model.py:473: ValueWarning: No frequency information was provided, so inferred frequency D will be used.\n",
            "  self._init_dates(dates, freq)\n",
            "/usr/local/lib/python3.10/dist-packages/statsmodels/tsa/holtwinters/model.py:917: ConvergenceWarning: Optimization failed to converge. Check mle_retvals.\n",
            "  warnings.warn(\n",
            "<ipython-input-10-fd7e9e95ee04>:69: FutureWarning: The frame.append method is deprecated and will be removed from pandas in a future version. Use pandas.concat instead.\n",
            "  results_df = results_df.append(result_dict, ignore_index=True)\n",
            "INFO:prophet:Disabling yearly seasonality. Run prophet with yearly_seasonality=True to override this.\n",
            "INFO:prophet:Disabling daily seasonality. Run prophet with daily_seasonality=True to override this.\n",
            "DEBUG:cmdstanpy:input tempfile: /tmp/tmpnc3vi0u7/it_msfqu.json\n",
            "DEBUG:cmdstanpy:input tempfile: /tmp/tmpnc3vi0u7/6opg4gcv.json\n",
            "DEBUG:cmdstanpy:idx 0\n",
            "DEBUG:cmdstanpy:running CmdStan, num_threads: None\n",
            "DEBUG:cmdstanpy:CmdStan args: ['/usr/local/lib/python3.10/dist-packages/prophet/stan_model/prophet_model.bin', 'random', 'seed=19132', 'data', 'file=/tmp/tmpnc3vi0u7/it_msfqu.json', 'init=/tmp/tmpnc3vi0u7/6opg4gcv.json', 'output', 'file=/tmp/tmpnc3vi0u7/prophet_modelqx1f5knz/prophet_model-20231001054000.csv', 'method=optimize', 'algorithm=lbfgs', 'iter=10000']\n",
            "05:40:00 - cmdstanpy - INFO - Chain [1] start processing\n",
            "INFO:cmdstanpy:Chain [1] start processing\n",
            "05:40:00 - cmdstanpy - INFO - Chain [1] done processing\n",
            "INFO:cmdstanpy:Chain [1] done processing\n"
          ]
        },
        {
          "output_type": "stream",
          "name": "stdout",
          "text": [
            "+++++++++++++++++++++++++++++++++++++++++++++++++++++++++++++++++++++++++++++++++++++++ [('Prophet', 81.0233), ('ARIMA', 36.8679), ('ETS', 77.4097), ('XGBoost', 118.3663)]\n",
            "+++++++++++++++++++++++++++++++++++++++++++++++++++++++++++++++++++++++++++++++++++++++ ARIMA 166 629 3\n"
          ]
        },
        {
          "output_type": "stream",
          "name": "stderr",
          "text": [
            "/usr/local/lib/python3.10/dist-packages/statsmodels/tsa/base/tsa_model.py:473: ValueWarning: No frequency information was provided, so inferred frequency D will be used.\n",
            "  self._init_dates(dates, freq)\n",
            "/usr/local/lib/python3.10/dist-packages/statsmodels/tsa/holtwinters/model.py:917: ConvergenceWarning: Optimization failed to converge. Check mle_retvals.\n",
            "  warnings.warn(\n",
            "<ipython-input-10-fd7e9e95ee04>:69: FutureWarning: The frame.append method is deprecated and will be removed from pandas in a future version. Use pandas.concat instead.\n",
            "  results_df = results_df.append(result_dict, ignore_index=True)\n",
            "INFO:prophet:Disabling yearly seasonality. Run prophet with yearly_seasonality=True to override this.\n",
            "INFO:prophet:Disabling daily seasonality. Run prophet with daily_seasonality=True to override this.\n",
            "DEBUG:cmdstanpy:input tempfile: /tmp/tmpnc3vi0u7/ytorm_f3.json\n",
            "DEBUG:cmdstanpy:input tempfile: /tmp/tmpnc3vi0u7/_79byrp8.json\n",
            "DEBUG:cmdstanpy:idx 0\n",
            "DEBUG:cmdstanpy:running CmdStan, num_threads: None\n",
            "DEBUG:cmdstanpy:CmdStan args: ['/usr/local/lib/python3.10/dist-packages/prophet/stan_model/prophet_model.bin', 'random', 'seed=25312', 'data', 'file=/tmp/tmpnc3vi0u7/ytorm_f3.json', 'init=/tmp/tmpnc3vi0u7/_79byrp8.json', 'output', 'file=/tmp/tmpnc3vi0u7/prophet_modely2fkp5z5/prophet_model-20231001054022.csv', 'method=optimize', 'algorithm=lbfgs', 'iter=10000']\n",
            "05:40:22 - cmdstanpy - INFO - Chain [1] start processing\n",
            "INFO:cmdstanpy:Chain [1] start processing\n",
            "05:40:22 - cmdstanpy - INFO - Chain [1] done processing\n",
            "INFO:cmdstanpy:Chain [1] done processing\n"
          ]
        },
        {
          "output_type": "stream",
          "name": "stdout",
          "text": [
            "+++++++++++++++++++++++++++++++++++++++++++++++++++++++++++++++++++++++++++++++++++++++ [('Prophet', 38.0096), ('ARIMA', 12.0468), ('ETS', 17.6786), ('XGBoost', 28.8447)]\n",
            "+++++++++++++++++++++++++++++++++++++++++++++++++++++++++++++++++++++++++++++++++++++++ ARIMA 167 632 3\n"
          ]
        },
        {
          "output_type": "stream",
          "name": "stderr",
          "text": [
            "/usr/local/lib/python3.10/dist-packages/statsmodels/tsa/base/tsa_model.py:473: ValueWarning: No frequency information was provided, so inferred frequency D will be used.\n",
            "  self._init_dates(dates, freq)\n",
            "/usr/local/lib/python3.10/dist-packages/statsmodels/tsa/holtwinters/model.py:917: ConvergenceWarning: Optimization failed to converge. Check mle_retvals.\n",
            "  warnings.warn(\n",
            "<ipython-input-10-fd7e9e95ee04>:69: FutureWarning: The frame.append method is deprecated and will be removed from pandas in a future version. Use pandas.concat instead.\n",
            "  results_df = results_df.append(result_dict, ignore_index=True)\n",
            "INFO:prophet:Disabling yearly seasonality. Run prophet with yearly_seasonality=True to override this.\n",
            "INFO:prophet:Disabling daily seasonality. Run prophet with daily_seasonality=True to override this.\n",
            "DEBUG:cmdstanpy:input tempfile: /tmp/tmpnc3vi0u7/ggvd_m6f.json\n",
            "DEBUG:cmdstanpy:input tempfile: /tmp/tmpnc3vi0u7/h6jdzn0t.json\n",
            "DEBUG:cmdstanpy:idx 0\n",
            "DEBUG:cmdstanpy:running CmdStan, num_threads: None\n",
            "DEBUG:cmdstanpy:CmdStan args: ['/usr/local/lib/python3.10/dist-packages/prophet/stan_model/prophet_model.bin', 'random', 'seed=75846', 'data', 'file=/tmp/tmpnc3vi0u7/ggvd_m6f.json', 'init=/tmp/tmpnc3vi0u7/h6jdzn0t.json', 'output', 'file=/tmp/tmpnc3vi0u7/prophet_modelzq6rseqt/prophet_model-20231001054041.csv', 'method=optimize', 'algorithm=lbfgs', 'iter=10000']\n",
            "05:40:41 - cmdstanpy - INFO - Chain [1] start processing\n",
            "INFO:cmdstanpy:Chain [1] start processing\n",
            "05:40:41 - cmdstanpy - INFO - Chain [1] done processing\n",
            "INFO:cmdstanpy:Chain [1] done processing\n"
          ]
        },
        {
          "output_type": "stream",
          "name": "stdout",
          "text": [
            "+++++++++++++++++++++++++++++++++++++++++++++++++++++++++++++++++++++++++++++++++++++++ [('Prophet', 72.4332), ('ARIMA', 35.1371), ('ETS', 110.5488), ('XGBoost', 100.9065)]\n",
            "+++++++++++++++++++++++++++++++++++++++++++++++++++++++++++++++++++++++++++++++++++++++ ARIMA 168 635 3\n"
          ]
        },
        {
          "output_type": "stream",
          "name": "stderr",
          "text": [
            "/usr/local/lib/python3.10/dist-packages/statsmodels/tsa/base/tsa_model.py:473: ValueWarning: No frequency information was provided, so inferred frequency D will be used.\n",
            "  self._init_dates(dates, freq)\n",
            "/usr/local/lib/python3.10/dist-packages/statsmodels/tsa/holtwinters/model.py:917: ConvergenceWarning: Optimization failed to converge. Check mle_retvals.\n",
            "  warnings.warn(\n",
            "<ipython-input-10-fd7e9e95ee04>:69: FutureWarning: The frame.append method is deprecated and will be removed from pandas in a future version. Use pandas.concat instead.\n",
            "  results_df = results_df.append(result_dict, ignore_index=True)\n",
            "INFO:prophet:Disabling yearly seasonality. Run prophet with yearly_seasonality=True to override this.\n",
            "INFO:prophet:Disabling daily seasonality. Run prophet with daily_seasonality=True to override this.\n",
            "DEBUG:cmdstanpy:input tempfile: /tmp/tmpnc3vi0u7/17wm_g_5.json\n",
            "DEBUG:cmdstanpy:input tempfile: /tmp/tmpnc3vi0u7/c14kbub9.json\n",
            "DEBUG:cmdstanpy:idx 0\n",
            "DEBUG:cmdstanpy:running CmdStan, num_threads: None\n",
            "DEBUG:cmdstanpy:CmdStan args: ['/usr/local/lib/python3.10/dist-packages/prophet/stan_model/prophet_model.bin', 'random', 'seed=95092', 'data', 'file=/tmp/tmpnc3vi0u7/17wm_g_5.json', 'init=/tmp/tmpnc3vi0u7/c14kbub9.json', 'output', 'file=/tmp/tmpnc3vi0u7/prophet_modelm6f3m01w/prophet_model-20231001054101.csv', 'method=optimize', 'algorithm=lbfgs', 'iter=10000']\n",
            "05:41:01 - cmdstanpy - INFO - Chain [1] start processing\n",
            "INFO:cmdstanpy:Chain [1] start processing\n",
            "05:41:01 - cmdstanpy - INFO - Chain [1] done processing\n",
            "INFO:cmdstanpy:Chain [1] done processing\n"
          ]
        },
        {
          "output_type": "stream",
          "name": "stdout",
          "text": [
            "+++++++++++++++++++++++++++++++++++++++++++++++++++++++++++++++++++++++++++++++++++++++ [('Prophet', 34.9039), ('ARIMA', 5.2819), ('ETS', 31.9969), ('XGBoost', 12.4763)]\n",
            "+++++++++++++++++++++++++++++++++++++++++++++++++++++++++++++++++++++++++++++++++++++++ ARIMA 169 638 3\n"
          ]
        },
        {
          "output_type": "stream",
          "name": "stderr",
          "text": [
            "/usr/local/lib/python3.10/dist-packages/statsmodels/tsa/base/tsa_model.py:473: ValueWarning: No frequency information was provided, so inferred frequency D will be used.\n",
            "  self._init_dates(dates, freq)\n",
            "/usr/local/lib/python3.10/dist-packages/statsmodels/tsa/holtwinters/model.py:917: ConvergenceWarning: Optimization failed to converge. Check mle_retvals.\n",
            "  warnings.warn(\n",
            "<ipython-input-10-fd7e9e95ee04>:69: FutureWarning: The frame.append method is deprecated and will be removed from pandas in a future version. Use pandas.concat instead.\n",
            "  results_df = results_df.append(result_dict, ignore_index=True)\n",
            "INFO:prophet:Disabling yearly seasonality. Run prophet with yearly_seasonality=True to override this.\n",
            "INFO:prophet:Disabling daily seasonality. Run prophet with daily_seasonality=True to override this.\n",
            "DEBUG:cmdstanpy:input tempfile: /tmp/tmpnc3vi0u7/m03i1hxl.json\n",
            "DEBUG:cmdstanpy:input tempfile: /tmp/tmpnc3vi0u7/kf_semj2.json\n",
            "DEBUG:cmdstanpy:idx 0\n",
            "DEBUG:cmdstanpy:running CmdStan, num_threads: None\n",
            "DEBUG:cmdstanpy:CmdStan args: ['/usr/local/lib/python3.10/dist-packages/prophet/stan_model/prophet_model.bin', 'random', 'seed=48071', 'data', 'file=/tmp/tmpnc3vi0u7/m03i1hxl.json', 'init=/tmp/tmpnc3vi0u7/kf_semj2.json', 'output', 'file=/tmp/tmpnc3vi0u7/prophet_modelvjoyr416/prophet_model-20231001054122.csv', 'method=optimize', 'algorithm=lbfgs', 'iter=10000']\n",
            "05:41:22 - cmdstanpy - INFO - Chain [1] start processing\n",
            "INFO:cmdstanpy:Chain [1] start processing\n"
          ]
        },
        {
          "output_type": "stream",
          "name": "stdout",
          "text": [
            "+++++++++++++++++++++++++++++++++++++++++++++++++++++++++++++++++++++++++++++++++++++++ [('Prophet', 75.9171), ('ARIMA', 36.9953), ('ETS', 93.4163), ('XGBoost', 132.2129)]\n",
            "+++++++++++++++++++++++++++++++++++++++++++++++++++++++++++++++++++++++++++++++++++++++ ARIMA 170 641 3\n"
          ]
        },
        {
          "output_type": "stream",
          "name": "stderr",
          "text": [
            "05:41:22 - cmdstanpy - INFO - Chain [1] done processing\n",
            "INFO:cmdstanpy:Chain [1] done processing\n",
            "/usr/local/lib/python3.10/dist-packages/statsmodels/tsa/base/tsa_model.py:473: ValueWarning: No frequency information was provided, so inferred frequency D will be used.\n",
            "  self._init_dates(dates, freq)\n",
            "/usr/local/lib/python3.10/dist-packages/statsmodels/tsa/holtwinters/model.py:917: ConvergenceWarning: Optimization failed to converge. Check mle_retvals.\n",
            "  warnings.warn(\n",
            "<ipython-input-10-fd7e9e95ee04>:69: FutureWarning: The frame.append method is deprecated and will be removed from pandas in a future version. Use pandas.concat instead.\n",
            "  results_df = results_df.append(result_dict, ignore_index=True)\n",
            "INFO:prophet:Disabling yearly seasonality. Run prophet with yearly_seasonality=True to override this.\n",
            "INFO:prophet:Disabling daily seasonality. Run prophet with daily_seasonality=True to override this.\n",
            "DEBUG:cmdstanpy:input tempfile: /tmp/tmpnc3vi0u7/tc3pfi9h.json\n",
            "DEBUG:cmdstanpy:input tempfile: /tmp/tmpnc3vi0u7/uqitcrlu.json\n",
            "DEBUG:cmdstanpy:idx 0\n",
            "DEBUG:cmdstanpy:running CmdStan, num_threads: None\n",
            "DEBUG:cmdstanpy:CmdStan args: ['/usr/local/lib/python3.10/dist-packages/prophet/stan_model/prophet_model.bin', 'random', 'seed=71818', 'data', 'file=/tmp/tmpnc3vi0u7/tc3pfi9h.json', 'init=/tmp/tmpnc3vi0u7/uqitcrlu.json', 'output', 'file=/tmp/tmpnc3vi0u7/prophet_modelp7fxn21q/prophet_model-20231001054143.csv', 'method=optimize', 'algorithm=lbfgs', 'iter=10000']\n",
            "05:41:43 - cmdstanpy - INFO - Chain [1] start processing\n",
            "INFO:cmdstanpy:Chain [1] start processing\n",
            "05:41:43 - cmdstanpy - INFO - Chain [1] done processing\n",
            "INFO:cmdstanpy:Chain [1] done processing\n"
          ]
        },
        {
          "output_type": "stream",
          "name": "stdout",
          "text": [
            "+++++++++++++++++++++++++++++++++++++++++++++++++++++++++++++++++++++++++++++++++++++++ [('Prophet', 34.38), ('ARIMA', 15.0917), ('ETS', 29.8927), ('XGBoost', 17.2576)]\n",
            "+++++++++++++++++++++++++++++++++++++++++++++++++++++++++++++++++++++++++++++++++++++++ ARIMA 171 644 3\n"
          ]
        },
        {
          "output_type": "stream",
          "name": "stderr",
          "text": [
            "/usr/local/lib/python3.10/dist-packages/statsmodels/tsa/base/tsa_model.py:473: ValueWarning: No frequency information was provided, so inferred frequency D will be used.\n",
            "  self._init_dates(dates, freq)\n",
            "/usr/local/lib/python3.10/dist-packages/statsmodels/tsa/holtwinters/model.py:917: ConvergenceWarning: Optimization failed to converge. Check mle_retvals.\n",
            "  warnings.warn(\n",
            "<ipython-input-10-fd7e9e95ee04>:69: FutureWarning: The frame.append method is deprecated and will be removed from pandas in a future version. Use pandas.concat instead.\n",
            "  results_df = results_df.append(result_dict, ignore_index=True)\n",
            "INFO:prophet:Disabling yearly seasonality. Run prophet with yearly_seasonality=True to override this.\n",
            "INFO:prophet:Disabling daily seasonality. Run prophet with daily_seasonality=True to override this.\n",
            "DEBUG:cmdstanpy:input tempfile: /tmp/tmpnc3vi0u7/26gk7nq3.json\n",
            "DEBUG:cmdstanpy:input tempfile: /tmp/tmpnc3vi0u7/6c0dgxrz.json\n",
            "DEBUG:cmdstanpy:idx 0\n",
            "DEBUG:cmdstanpy:running CmdStan, num_threads: None\n",
            "DEBUG:cmdstanpy:CmdStan args: ['/usr/local/lib/python3.10/dist-packages/prophet/stan_model/prophet_model.bin', 'random', 'seed=13615', 'data', 'file=/tmp/tmpnc3vi0u7/26gk7nq3.json', 'init=/tmp/tmpnc3vi0u7/6c0dgxrz.json', 'output', 'file=/tmp/tmpnc3vi0u7/prophet_model9b_jin6n/prophet_model-20231001054203.csv', 'method=optimize', 'algorithm=lbfgs', 'iter=10000']\n",
            "05:42:03 - cmdstanpy - INFO - Chain [1] start processing\n"
          ]
        },
        {
          "output_type": "stream",
          "name": "stdout",
          "text": [
            "+++++++++++++++++++++++++++++++++++++++++++++++++++++++++++++++++++++++++++++++++++++++ [('Prophet', 45.8434), ('ARIMA', 18.5339), ('ETS', 38.1414), ('XGBoost', 44.9153)]\n",
            "+++++++++++++++++++++++++++++++++++++++++++++++++++++++++++++++++++++++++++++++++++++++ ARIMA 172 647 3\n"
          ]
        },
        {
          "output_type": "stream",
          "name": "stderr",
          "text": [
            "INFO:cmdstanpy:Chain [1] start processing\n",
            "05:42:03 - cmdstanpy - INFO - Chain [1] done processing\n",
            "INFO:cmdstanpy:Chain [1] done processing\n",
            "/usr/local/lib/python3.10/dist-packages/statsmodels/tsa/base/tsa_model.py:473: ValueWarning: No frequency information was provided, so inferred frequency D will be used.\n",
            "  self._init_dates(dates, freq)\n",
            "/usr/local/lib/python3.10/dist-packages/statsmodels/tsa/holtwinters/model.py:917: ConvergenceWarning: Optimization failed to converge. Check mle_retvals.\n",
            "  warnings.warn(\n",
            "<ipython-input-10-fd7e9e95ee04>:69: FutureWarning: The frame.append method is deprecated and will be removed from pandas in a future version. Use pandas.concat instead.\n",
            "  results_df = results_df.append(result_dict, ignore_index=True)\n",
            "INFO:prophet:Disabling yearly seasonality. Run prophet with yearly_seasonality=True to override this.\n",
            "INFO:prophet:Disabling daily seasonality. Run prophet with daily_seasonality=True to override this.\n",
            "DEBUG:cmdstanpy:input tempfile: /tmp/tmpnc3vi0u7/qvwiw2i7.json\n",
            "DEBUG:cmdstanpy:input tempfile: /tmp/tmpnc3vi0u7/4v85ijkz.json\n",
            "DEBUG:cmdstanpy:idx 0\n",
            "DEBUG:cmdstanpy:running CmdStan, num_threads: None\n",
            "DEBUG:cmdstanpy:CmdStan args: ['/usr/local/lib/python3.10/dist-packages/prophet/stan_model/prophet_model.bin', 'random', 'seed=69959', 'data', 'file=/tmp/tmpnc3vi0u7/qvwiw2i7.json', 'init=/tmp/tmpnc3vi0u7/4v85ijkz.json', 'output', 'file=/tmp/tmpnc3vi0u7/prophet_modelrse91ode/prophet_model-20231001054225.csv', 'method=optimize', 'algorithm=lbfgs', 'iter=10000']\n",
            "05:42:25 - cmdstanpy - INFO - Chain [1] start processing\n",
            "INFO:cmdstanpy:Chain [1] start processing\n"
          ]
        },
        {
          "output_type": "stream",
          "name": "stdout",
          "text": [
            "+++++++++++++++++++++++++++++++++++++++++++++++++++++++++++++++++++++++++++++++++++++++ [('Prophet', 88.8671), ('ARIMA', 81.5935), ('ETS', 92.7348), ('XGBoost', 155.1306)]\n",
            "+++++++++++++++++++++++++++++++++++++++++++++++++++++++++++++++++++++++++++++++++++++++ ARIMA 173 650 3\n"
          ]
        },
        {
          "output_type": "stream",
          "name": "stderr",
          "text": [
            "05:42:25 - cmdstanpy - INFO - Chain [1] done processing\n",
            "INFO:cmdstanpy:Chain [1] done processing\n",
            "/usr/local/lib/python3.10/dist-packages/statsmodels/tsa/base/tsa_model.py:473: ValueWarning: No frequency information was provided, so inferred frequency D will be used.\n",
            "  self._init_dates(dates, freq)\n",
            "/usr/local/lib/python3.10/dist-packages/statsmodels/tsa/holtwinters/model.py:917: ConvergenceWarning: Optimization failed to converge. Check mle_retvals.\n",
            "  warnings.warn(\n",
            "<ipython-input-10-fd7e9e95ee04>:69: FutureWarning: The frame.append method is deprecated and will be removed from pandas in a future version. Use pandas.concat instead.\n",
            "  results_df = results_df.append(result_dict, ignore_index=True)\n",
            "INFO:prophet:Disabling yearly seasonality. Run prophet with yearly_seasonality=True to override this.\n",
            "INFO:prophet:Disabling daily seasonality. Run prophet with daily_seasonality=True to override this.\n",
            "DEBUG:cmdstanpy:input tempfile: /tmp/tmpnc3vi0u7/29squ2i8.json\n",
            "DEBUG:cmdstanpy:input tempfile: /tmp/tmpnc3vi0u7/pjwwdrbi.json\n",
            "DEBUG:cmdstanpy:idx 0\n",
            "DEBUG:cmdstanpy:running CmdStan, num_threads: None\n",
            "DEBUG:cmdstanpy:CmdStan args: ['/usr/local/lib/python3.10/dist-packages/prophet/stan_model/prophet_model.bin', 'random', 'seed=66916', 'data', 'file=/tmp/tmpnc3vi0u7/29squ2i8.json', 'init=/tmp/tmpnc3vi0u7/pjwwdrbi.json', 'output', 'file=/tmp/tmpnc3vi0u7/prophet_modelefpr1hk7/prophet_model-20231001054245.csv', 'method=optimize', 'algorithm=lbfgs', 'iter=10000']\n",
            "05:42:45 - cmdstanpy - INFO - Chain [1] start processing\n",
            "INFO:cmdstanpy:Chain [1] start processing\n",
            "05:42:45 - cmdstanpy - INFO - Chain [1] done processing\n",
            "INFO:cmdstanpy:Chain [1] done processing\n"
          ]
        },
        {
          "output_type": "stream",
          "name": "stdout",
          "text": [
            "+++++++++++++++++++++++++++++++++++++++++++++++++++++++++++++++++++++++++++++++++++++++ [('Prophet', 29.8027), ('ARIMA', 25.9523), ('ETS', 37.3096), ('XGBoost', 20.5564)]\n",
            "+++++++++++++++++++++++++++++++++++++++++++++++++++++++++++++++++++++++++++++++++++++++ XGBoost 174 653 3\n"
          ]
        },
        {
          "output_type": "stream",
          "name": "stderr",
          "text": [
            "/usr/local/lib/python3.10/dist-packages/statsmodels/tsa/base/tsa_model.py:473: ValueWarning: No frequency information was provided, so inferred frequency D will be used.\n",
            "  self._init_dates(dates, freq)\n",
            "/usr/local/lib/python3.10/dist-packages/statsmodels/tsa/holtwinters/model.py:917: ConvergenceWarning: Optimization failed to converge. Check mle_retvals.\n",
            "  warnings.warn(\n",
            "<ipython-input-10-fd7e9e95ee04>:69: FutureWarning: The frame.append method is deprecated and will be removed from pandas in a future version. Use pandas.concat instead.\n",
            "  results_df = results_df.append(result_dict, ignore_index=True)\n",
            "INFO:prophet:Disabling yearly seasonality. Run prophet with yearly_seasonality=True to override this.\n",
            "INFO:prophet:Disabling daily seasonality. Run prophet with daily_seasonality=True to override this.\n",
            "DEBUG:cmdstanpy:input tempfile: /tmp/tmpnc3vi0u7/oanjnfex.json\n",
            "DEBUG:cmdstanpy:input tempfile: /tmp/tmpnc3vi0u7/__exf15g.json\n",
            "DEBUG:cmdstanpy:idx 0\n",
            "DEBUG:cmdstanpy:running CmdStan, num_threads: None\n",
            "DEBUG:cmdstanpy:CmdStan args: ['/usr/local/lib/python3.10/dist-packages/prophet/stan_model/prophet_model.bin', 'random', 'seed=48834', 'data', 'file=/tmp/tmpnc3vi0u7/oanjnfex.json', 'init=/tmp/tmpnc3vi0u7/__exf15g.json', 'output', 'file=/tmp/tmpnc3vi0u7/prophet_modeldq6m0dkq/prophet_model-20231001054304.csv', 'method=optimize', 'algorithm=lbfgs', 'iter=10000']\n",
            "05:43:04 - cmdstanpy - INFO - Chain [1] start processing\n",
            "INFO:cmdstanpy:Chain [1] start processing\n",
            "05:43:04 - cmdstanpy - INFO - Chain [1] done processing\n",
            "INFO:cmdstanpy:Chain [1] done processing\n"
          ]
        },
        {
          "output_type": "stream",
          "name": "stdout",
          "text": [
            "+++++++++++++++++++++++++++++++++++++++++++++++++++++++++++++++++++++++++++++++++++++++ [('Prophet', 71.8899), ('ARIMA', 28.0967), ('ETS', 76.3442), ('XGBoost', 106.6467)]\n",
            "+++++++++++++++++++++++++++++++++++++++++++++++++++++++++++++++++++++++++++++++++++++++ ARIMA 175 656 3\n"
          ]
        },
        {
          "output_type": "stream",
          "name": "stderr",
          "text": [
            "/usr/local/lib/python3.10/dist-packages/statsmodels/tsa/base/tsa_model.py:473: ValueWarning: No frequency information was provided, so inferred frequency D will be used.\n",
            "  self._init_dates(dates, freq)\n",
            "/usr/local/lib/python3.10/dist-packages/statsmodels/tsa/holtwinters/model.py:917: ConvergenceWarning: Optimization failed to converge. Check mle_retvals.\n",
            "  warnings.warn(\n",
            "<ipython-input-10-fd7e9e95ee04>:69: FutureWarning: The frame.append method is deprecated and will be removed from pandas in a future version. Use pandas.concat instead.\n",
            "  results_df = results_df.append(result_dict, ignore_index=True)\n",
            "INFO:prophet:Disabling yearly seasonality. Run prophet with yearly_seasonality=True to override this.\n",
            "INFO:prophet:Disabling daily seasonality. Run prophet with daily_seasonality=True to override this.\n",
            "DEBUG:cmdstanpy:input tempfile: /tmp/tmpnc3vi0u7/s9xf15e7.json\n",
            "DEBUG:cmdstanpy:input tempfile: /tmp/tmpnc3vi0u7/1a7n58vr.json\n",
            "DEBUG:cmdstanpy:idx 0\n",
            "DEBUG:cmdstanpy:running CmdStan, num_threads: None\n",
            "DEBUG:cmdstanpy:CmdStan args: ['/usr/local/lib/python3.10/dist-packages/prophet/stan_model/prophet_model.bin', 'random', 'seed=56842', 'data', 'file=/tmp/tmpnc3vi0u7/s9xf15e7.json', 'init=/tmp/tmpnc3vi0u7/1a7n58vr.json', 'output', 'file=/tmp/tmpnc3vi0u7/prophet_modelnemu3t78/prophet_model-20231001054333.csv', 'method=optimize', 'algorithm=lbfgs', 'iter=10000']\n",
            "05:43:33 - cmdstanpy - INFO - Chain [1] start processing\n",
            "INFO:cmdstanpy:Chain [1] start processing\n"
          ]
        },
        {
          "output_type": "stream",
          "name": "stdout",
          "text": [
            "+++++++++++++++++++++++++++++++++++++++++++++++++++++++++++++++++++++++++++++++++++++++ [('Prophet', 29.5183), ('ARIMA', 35.1093), ('ETS', 28.8394), ('XGBoost', 51.4056)]\n",
            "+++++++++++++++++++++++++++++++++++++++++++++++++++++++++++++++++++++++++++++++++++++++ ETS 176 659 3\n"
          ]
        },
        {
          "output_type": "stream",
          "name": "stderr",
          "text": [
            "05:43:33 - cmdstanpy - INFO - Chain [1] done processing\n",
            "INFO:cmdstanpy:Chain [1] done processing\n",
            "/usr/local/lib/python3.10/dist-packages/statsmodels/tsa/base/tsa_model.py:473: ValueWarning: No frequency information was provided, so inferred frequency D will be used.\n",
            "  self._init_dates(dates, freq)\n",
            "/usr/local/lib/python3.10/dist-packages/statsmodels/tsa/holtwinters/model.py:917: ConvergenceWarning: Optimization failed to converge. Check mle_retvals.\n",
            "  warnings.warn(\n",
            "<ipython-input-10-fd7e9e95ee04>:69: FutureWarning: The frame.append method is deprecated and will be removed from pandas in a future version. Use pandas.concat instead.\n",
            "  results_df = results_df.append(result_dict, ignore_index=True)\n",
            "INFO:prophet:Disabling yearly seasonality. Run prophet with yearly_seasonality=True to override this.\n",
            "INFO:prophet:Disabling daily seasonality. Run prophet with daily_seasonality=True to override this.\n",
            "DEBUG:cmdstanpy:input tempfile: /tmp/tmpnc3vi0u7/hqjxbbzk.json\n",
            "DEBUG:cmdstanpy:input tempfile: /tmp/tmpnc3vi0u7/_bz6sb6l.json\n",
            "DEBUG:cmdstanpy:idx 0\n",
            "DEBUG:cmdstanpy:running CmdStan, num_threads: None\n",
            "DEBUG:cmdstanpy:CmdStan args: ['/usr/local/lib/python3.10/dist-packages/prophet/stan_model/prophet_model.bin', 'random', 'seed=96445', 'data', 'file=/tmp/tmpnc3vi0u7/hqjxbbzk.json', 'init=/tmp/tmpnc3vi0u7/_bz6sb6l.json', 'output', 'file=/tmp/tmpnc3vi0u7/prophet_model6rqkjfjd/prophet_model-20231001054402.csv', 'method=optimize', 'algorithm=lbfgs', 'iter=10000']\n",
            "05:44:02 - cmdstanpy - INFO - Chain [1] start processing\n",
            "INFO:cmdstanpy:Chain [1] start processing\n",
            "05:44:02 - cmdstanpy - INFO - Chain [1] done processing\n",
            "INFO:cmdstanpy:Chain [1] done processing\n"
          ]
        },
        {
          "output_type": "stream",
          "name": "stdout",
          "text": [
            "+++++++++++++++++++++++++++++++++++++++++++++++++++++++++++++++++++++++++++++++++++++++ [('Prophet', 71.1173), ('ARIMA', 30.192), ('ETS', 57.6757), ('XGBoost', 93.3181)]\n",
            "+++++++++++++++++++++++++++++++++++++++++++++++++++++++++++++++++++++++++++++++++++++++ ARIMA 177 662 3\n"
          ]
        },
        {
          "output_type": "stream",
          "name": "stderr",
          "text": [
            "/usr/local/lib/python3.10/dist-packages/statsmodels/tsa/base/tsa_model.py:473: ValueWarning: No frequency information was provided, so inferred frequency D will be used.\n",
            "  self._init_dates(dates, freq)\n",
            "/usr/local/lib/python3.10/dist-packages/statsmodels/tsa/holtwinters/model.py:917: ConvergenceWarning: Optimization failed to converge. Check mle_retvals.\n",
            "  warnings.warn(\n",
            "<ipython-input-10-fd7e9e95ee04>:69: FutureWarning: The frame.append method is deprecated and will be removed from pandas in a future version. Use pandas.concat instead.\n",
            "  results_df = results_df.append(result_dict, ignore_index=True)\n",
            "INFO:prophet:Disabling yearly seasonality. Run prophet with yearly_seasonality=True to override this.\n",
            "INFO:prophet:Disabling daily seasonality. Run prophet with daily_seasonality=True to override this.\n",
            "DEBUG:cmdstanpy:input tempfile: /tmp/tmpnc3vi0u7/fxmbshq3.json\n",
            "DEBUG:cmdstanpy:input tempfile: /tmp/tmpnc3vi0u7/ytdqgzp1.json\n",
            "DEBUG:cmdstanpy:idx 0\n",
            "DEBUG:cmdstanpy:running CmdStan, num_threads: None\n",
            "DEBUG:cmdstanpy:CmdStan args: ['/usr/local/lib/python3.10/dist-packages/prophet/stan_model/prophet_model.bin', 'random', 'seed=3948', 'data', 'file=/tmp/tmpnc3vi0u7/fxmbshq3.json', 'init=/tmp/tmpnc3vi0u7/ytdqgzp1.json', 'output', 'file=/tmp/tmpnc3vi0u7/prophet_model446v_lwp/prophet_model-20231001054431.csv', 'method=optimize', 'algorithm=lbfgs', 'iter=10000']\n",
            "05:44:31 - cmdstanpy - INFO - Chain [1] start processing\n",
            "INFO:cmdstanpy:Chain [1] start processing\n",
            "05:44:31 - cmdstanpy - INFO - Chain [1] done processing\n",
            "INFO:cmdstanpy:Chain [1] done processing\n"
          ]
        },
        {
          "output_type": "stream",
          "name": "stdout",
          "text": [
            "+++++++++++++++++++++++++++++++++++++++++++++++++++++++++++++++++++++++++++++++++++++++ [('Prophet', 31.2176), ('ARIMA', 27.3006), ('ETS', 44.8747), ('XGBoost', 9.5891)]\n",
            "+++++++++++++++++++++++++++++++++++++++++++++++++++++++++++++++++++++++++++++++++++++++ XGBoost 178 665 3\n"
          ]
        },
        {
          "output_type": "stream",
          "name": "stderr",
          "text": [
            "/usr/local/lib/python3.10/dist-packages/statsmodels/tsa/base/tsa_model.py:473: ValueWarning: No frequency information was provided, so inferred frequency D will be used.\n",
            "  self._init_dates(dates, freq)\n",
            "/usr/local/lib/python3.10/dist-packages/statsmodels/tsa/holtwinters/model.py:917: ConvergenceWarning: Optimization failed to converge. Check mle_retvals.\n",
            "  warnings.warn(\n",
            "<ipython-input-10-fd7e9e95ee04>:69: FutureWarning: The frame.append method is deprecated and will be removed from pandas in a future version. Use pandas.concat instead.\n",
            "  results_df = results_df.append(result_dict, ignore_index=True)\n",
            "INFO:prophet:Disabling yearly seasonality. Run prophet with yearly_seasonality=True to override this.\n",
            "INFO:prophet:Disabling daily seasonality. Run prophet with daily_seasonality=True to override this.\n",
            "DEBUG:cmdstanpy:input tempfile: /tmp/tmpnc3vi0u7/smuu_19h.json\n",
            "DEBUG:cmdstanpy:input tempfile: /tmp/tmpnc3vi0u7/5s8h_r37.json\n",
            "DEBUG:cmdstanpy:idx 0\n",
            "DEBUG:cmdstanpy:running CmdStan, num_threads: None\n",
            "DEBUG:cmdstanpy:CmdStan args: ['/usr/local/lib/python3.10/dist-packages/prophet/stan_model/prophet_model.bin', 'random', 'seed=26001', 'data', 'file=/tmp/tmpnc3vi0u7/smuu_19h.json', 'init=/tmp/tmpnc3vi0u7/5s8h_r37.json', 'output', 'file=/tmp/tmpnc3vi0u7/prophet_modeloaat6uwq/prophet_model-20231001054504.csv', 'method=optimize', 'algorithm=lbfgs', 'iter=10000']\n",
            "05:45:04 - cmdstanpy - INFO - Chain [1] start processing\n",
            "INFO:cmdstanpy:Chain [1] start processing\n",
            "05:45:04 - cmdstanpy - INFO - Chain [1] done processing\n",
            "INFO:cmdstanpy:Chain [1] done processing\n"
          ]
        },
        {
          "output_type": "stream",
          "name": "stdout",
          "text": [
            "+++++++++++++++++++++++++++++++++++++++++++++++++++++++++++++++++++++++++++++++++++++++ [('Prophet', 36.0105), ('ARIMA', 8.9685), ('ETS', 27.4892), ('XGBoost', 49.4308)]\n",
            "+++++++++++++++++++++++++++++++++++++++++++++++++++++++++++++++++++++++++++++++++++++++ ARIMA 179 668 3\n"
          ]
        },
        {
          "output_type": "stream",
          "name": "stderr",
          "text": [
            "/usr/local/lib/python3.10/dist-packages/statsmodels/tsa/base/tsa_model.py:473: ValueWarning: No frequency information was provided, so inferred frequency D will be used.\n",
            "  self._init_dates(dates, freq)\n",
            "/usr/local/lib/python3.10/dist-packages/statsmodels/tsa/holtwinters/model.py:917: ConvergenceWarning: Optimization failed to converge. Check mle_retvals.\n",
            "  warnings.warn(\n",
            "<ipython-input-10-fd7e9e95ee04>:69: FutureWarning: The frame.append method is deprecated and will be removed from pandas in a future version. Use pandas.concat instead.\n",
            "  results_df = results_df.append(result_dict, ignore_index=True)\n",
            "INFO:prophet:Disabling yearly seasonality. Run prophet with yearly_seasonality=True to override this.\n",
            "INFO:prophet:Disabling daily seasonality. Run prophet with daily_seasonality=True to override this.\n",
            "DEBUG:cmdstanpy:input tempfile: /tmp/tmpnc3vi0u7/3huegird.json\n",
            "DEBUG:cmdstanpy:input tempfile: /tmp/tmpnc3vi0u7/n7anb0uk.json\n",
            "DEBUG:cmdstanpy:idx 0\n",
            "DEBUG:cmdstanpy:running CmdStan, num_threads: None\n",
            "DEBUG:cmdstanpy:CmdStan args: ['/usr/local/lib/python3.10/dist-packages/prophet/stan_model/prophet_model.bin', 'random', 'seed=51698', 'data', 'file=/tmp/tmpnc3vi0u7/3huegird.json', 'init=/tmp/tmpnc3vi0u7/n7anb0uk.json', 'output', 'file=/tmp/tmpnc3vi0u7/prophet_modeld0rs43r8/prophet_model-20231001054534.csv', 'method=optimize', 'algorithm=lbfgs', 'iter=10000']\n",
            "05:45:34 - cmdstanpy - INFO - Chain [1] start processing\n",
            "INFO:cmdstanpy:Chain [1] start processing\n",
            "05:45:34 - cmdstanpy - INFO - Chain [1] done processing\n",
            "INFO:cmdstanpy:Chain [1] done processing\n"
          ]
        },
        {
          "output_type": "stream",
          "name": "stdout",
          "text": [
            "+++++++++++++++++++++++++++++++++++++++++++++++++++++++++++++++++++++++++++++++++++++++ [('Prophet', 61.8653), ('ARIMA', 28.171), ('ETS', 64.1849), ('XGBoost', 59.9044)]\n",
            "+++++++++++++++++++++++++++++++++++++++++++++++++++++++++++++++++++++++++++++++++++++++ ARIMA 180 671 3\n"
          ]
        },
        {
          "output_type": "stream",
          "name": "stderr",
          "text": [
            "/usr/local/lib/python3.10/dist-packages/statsmodels/tsa/base/tsa_model.py:473: ValueWarning: No frequency information was provided, so inferred frequency D will be used.\n",
            "  self._init_dates(dates, freq)\n",
            "/usr/local/lib/python3.10/dist-packages/statsmodels/tsa/holtwinters/model.py:917: ConvergenceWarning: Optimization failed to converge. Check mle_retvals.\n",
            "  warnings.warn(\n",
            "<ipython-input-10-fd7e9e95ee04>:69: FutureWarning: The frame.append method is deprecated and will be removed from pandas in a future version. Use pandas.concat instead.\n",
            "  results_df = results_df.append(result_dict, ignore_index=True)\n",
            "INFO:prophet:Disabling yearly seasonality. Run prophet with yearly_seasonality=True to override this.\n",
            "INFO:prophet:Disabling daily seasonality. Run prophet with daily_seasonality=True to override this.\n",
            "DEBUG:cmdstanpy:input tempfile: /tmp/tmpnc3vi0u7/sf45qrdl.json\n",
            "DEBUG:cmdstanpy:input tempfile: /tmp/tmpnc3vi0u7/tjpjh2vp.json\n",
            "DEBUG:cmdstanpy:idx 0\n",
            "DEBUG:cmdstanpy:running CmdStan, num_threads: None\n",
            "DEBUG:cmdstanpy:CmdStan args: ['/usr/local/lib/python3.10/dist-packages/prophet/stan_model/prophet_model.bin', 'random', 'seed=8290', 'data', 'file=/tmp/tmpnc3vi0u7/sf45qrdl.json', 'init=/tmp/tmpnc3vi0u7/tjpjh2vp.json', 'output', 'file=/tmp/tmpnc3vi0u7/prophet_model79dvbgy8/prophet_model-20231001054604.csv', 'method=optimize', 'algorithm=lbfgs', 'iter=10000']\n",
            "05:46:04 - cmdstanpy - INFO - Chain [1] start processing\n",
            "INFO:cmdstanpy:Chain [1] start processing\n",
            "05:46:04 - cmdstanpy - INFO - Chain [1] done processing\n",
            "INFO:cmdstanpy:Chain [1] done processing\n"
          ]
        },
        {
          "output_type": "stream",
          "name": "stdout",
          "text": [
            "+++++++++++++++++++++++++++++++++++++++++++++++++++++++++++++++++++++++++++++++++++++++ [('Prophet', 25.386), ('ARIMA', 8.7739), ('ETS', 17.516), ('XGBoost', 23.5545)]\n",
            "+++++++++++++++++++++++++++++++++++++++++++++++++++++++++++++++++++++++++++++++++++++++ ARIMA 181 674 3\n"
          ]
        },
        {
          "output_type": "stream",
          "name": "stderr",
          "text": [
            "/usr/local/lib/python3.10/dist-packages/statsmodels/tsa/base/tsa_model.py:473: ValueWarning: No frequency information was provided, so inferred frequency D will be used.\n",
            "  self._init_dates(dates, freq)\n",
            "/usr/local/lib/python3.10/dist-packages/statsmodels/tsa/holtwinters/model.py:917: ConvergenceWarning: Optimization failed to converge. Check mle_retvals.\n",
            "  warnings.warn(\n",
            "<ipython-input-10-fd7e9e95ee04>:69: FutureWarning: The frame.append method is deprecated and will be removed from pandas in a future version. Use pandas.concat instead.\n",
            "  results_df = results_df.append(result_dict, ignore_index=True)\n",
            "INFO:prophet:Disabling yearly seasonality. Run prophet with yearly_seasonality=True to override this.\n",
            "INFO:prophet:Disabling daily seasonality. Run prophet with daily_seasonality=True to override this.\n",
            "DEBUG:cmdstanpy:input tempfile: /tmp/tmpnc3vi0u7/h943wjyd.json\n",
            "DEBUG:cmdstanpy:input tempfile: /tmp/tmpnc3vi0u7/qtjwuapx.json\n",
            "DEBUG:cmdstanpy:idx 0\n",
            "DEBUG:cmdstanpy:running CmdStan, num_threads: None\n",
            "DEBUG:cmdstanpy:CmdStan args: ['/usr/local/lib/python3.10/dist-packages/prophet/stan_model/prophet_model.bin', 'random', 'seed=4219', 'data', 'file=/tmp/tmpnc3vi0u7/h943wjyd.json', 'init=/tmp/tmpnc3vi0u7/qtjwuapx.json', 'output', 'file=/tmp/tmpnc3vi0u7/prophet_modelte82oc8i/prophet_model-20231001054634.csv', 'method=optimize', 'algorithm=lbfgs', 'iter=10000']\n",
            "05:46:34 - cmdstanpy - INFO - Chain [1] start processing\n",
            "INFO:cmdstanpy:Chain [1] start processing\n"
          ]
        },
        {
          "output_type": "stream",
          "name": "stdout",
          "text": [
            "+++++++++++++++++++++++++++++++++++++++++++++++++++++++++++++++++++++++++++++++++++++++ [('Prophet', 74.0705), ('ARIMA', 25.7774), ('ETS', 92.4066), ('XGBoost', 79.0716)]\n",
            "+++++++++++++++++++++++++++++++++++++++++++++++++++++++++++++++++++++++++++++++++++++++ ARIMA 182 677 3\n"
          ]
        },
        {
          "output_type": "stream",
          "name": "stderr",
          "text": [
            "05:46:34 - cmdstanpy - INFO - Chain [1] done processing\n",
            "INFO:cmdstanpy:Chain [1] done processing\n",
            "/usr/local/lib/python3.10/dist-packages/statsmodels/tsa/base/tsa_model.py:473: ValueWarning: No frequency information was provided, so inferred frequency D will be used.\n",
            "  self._init_dates(dates, freq)\n",
            "/usr/local/lib/python3.10/dist-packages/statsmodels/tsa/holtwinters/model.py:917: ConvergenceWarning: Optimization failed to converge. Check mle_retvals.\n",
            "  warnings.warn(\n",
            "<ipython-input-10-fd7e9e95ee04>:69: FutureWarning: The frame.append method is deprecated and will be removed from pandas in a future version. Use pandas.concat instead.\n",
            "  results_df = results_df.append(result_dict, ignore_index=True)\n",
            "INFO:prophet:Disabling yearly seasonality. Run prophet with yearly_seasonality=True to override this.\n",
            "INFO:prophet:Disabling daily seasonality. Run prophet with daily_seasonality=True to override this.\n",
            "DEBUG:cmdstanpy:input tempfile: /tmp/tmpnc3vi0u7/9wd3q3wj.json\n",
            "DEBUG:cmdstanpy:input tempfile: /tmp/tmpnc3vi0u7/t6vkj1e4.json\n",
            "DEBUG:cmdstanpy:idx 0\n",
            "DEBUG:cmdstanpy:running CmdStan, num_threads: None\n",
            "DEBUG:cmdstanpy:CmdStan args: ['/usr/local/lib/python3.10/dist-packages/prophet/stan_model/prophet_model.bin', 'random', 'seed=50068', 'data', 'file=/tmp/tmpnc3vi0u7/9wd3q3wj.json', 'init=/tmp/tmpnc3vi0u7/t6vkj1e4.json', 'output', 'file=/tmp/tmpnc3vi0u7/prophet_modelp60d3840/prophet_model-20231001054706.csv', 'method=optimize', 'algorithm=lbfgs', 'iter=10000']\n",
            "05:47:06 - cmdstanpy - INFO - Chain [1] start processing\n",
            "INFO:cmdstanpy:Chain [1] start processing\n",
            "05:47:06 - cmdstanpy - INFO - Chain [1] done processing\n",
            "INFO:cmdstanpy:Chain [1] done processing\n"
          ]
        },
        {
          "output_type": "stream",
          "name": "stdout",
          "text": [
            "+++++++++++++++++++++++++++++++++++++++++++++++++++++++++++++++++++++++++++++++++++++++ [('Prophet', 20.349), ('ARIMA', 12.9121), ('ETS', 22.2117), ('XGBoost', 12.8916)]\n",
            "+++++++++++++++++++++++++++++++++++++++++++++++++++++++++++++++++++++++++++++++++++++++ XGBoost 183 680 3\n"
          ]
        },
        {
          "output_type": "stream",
          "name": "stderr",
          "text": [
            "/usr/local/lib/python3.10/dist-packages/statsmodels/tsa/base/tsa_model.py:473: ValueWarning: No frequency information was provided, so inferred frequency D will be used.\n",
            "  self._init_dates(dates, freq)\n",
            "/usr/local/lib/python3.10/dist-packages/statsmodels/tsa/holtwinters/model.py:917: ConvergenceWarning: Optimization failed to converge. Check mle_retvals.\n",
            "  warnings.warn(\n",
            "<ipython-input-10-fd7e9e95ee04>:69: FutureWarning: The frame.append method is deprecated and will be removed from pandas in a future version. Use pandas.concat instead.\n",
            "  results_df = results_df.append(result_dict, ignore_index=True)\n",
            "INFO:prophet:Disabling yearly seasonality. Run prophet with yearly_seasonality=True to override this.\n",
            "INFO:prophet:Disabling daily seasonality. Run prophet with daily_seasonality=True to override this.\n",
            "DEBUG:cmdstanpy:input tempfile: /tmp/tmpnc3vi0u7/7h7retiz.json\n",
            "DEBUG:cmdstanpy:input tempfile: /tmp/tmpnc3vi0u7/y01jkuzl.json\n",
            "DEBUG:cmdstanpy:idx 0\n",
            "DEBUG:cmdstanpy:running CmdStan, num_threads: None\n",
            "DEBUG:cmdstanpy:CmdStan args: ['/usr/local/lib/python3.10/dist-packages/prophet/stan_model/prophet_model.bin', 'random', 'seed=73596', 'data', 'file=/tmp/tmpnc3vi0u7/7h7retiz.json', 'init=/tmp/tmpnc3vi0u7/y01jkuzl.json', 'output', 'file=/tmp/tmpnc3vi0u7/prophet_model9mundms6/prophet_model-20231001054736.csv', 'method=optimize', 'algorithm=lbfgs', 'iter=10000']\n",
            "05:47:36 - cmdstanpy - INFO - Chain [1] start processing\n",
            "INFO:cmdstanpy:Chain [1] start processing\n",
            "05:47:36 - cmdstanpy - INFO - Chain [1] done processing\n",
            "INFO:cmdstanpy:Chain [1] done processing\n"
          ]
        },
        {
          "output_type": "stream",
          "name": "stdout",
          "text": [
            "+++++++++++++++++++++++++++++++++++++++++++++++++++++++++++++++++++++++++++++++++++++++ [('Prophet', 63.6103), ('ARIMA', 13.9271), ('ETS', 70.7915), ('XGBoost', 72.7372)]\n",
            "+++++++++++++++++++++++++++++++++++++++++++++++++++++++++++++++++++++++++++++++++++++++ ARIMA 184 683 3\n"
          ]
        },
        {
          "output_type": "stream",
          "name": "stderr",
          "text": [
            "/usr/local/lib/python3.10/dist-packages/statsmodels/tsa/base/tsa_model.py:473: ValueWarning: No frequency information was provided, so inferred frequency D will be used.\n",
            "  self._init_dates(dates, freq)\n",
            "/usr/local/lib/python3.10/dist-packages/statsmodels/tsa/holtwinters/model.py:917: ConvergenceWarning: Optimization failed to converge. Check mle_retvals.\n",
            "  warnings.warn(\n",
            "<ipython-input-10-fd7e9e95ee04>:69: FutureWarning: The frame.append method is deprecated and will be removed from pandas in a future version. Use pandas.concat instead.\n",
            "  results_df = results_df.append(result_dict, ignore_index=True)\n",
            "INFO:prophet:Disabling yearly seasonality. Run prophet with yearly_seasonality=True to override this.\n",
            "INFO:prophet:Disabling daily seasonality. Run prophet with daily_seasonality=True to override this.\n",
            "DEBUG:cmdstanpy:input tempfile: /tmp/tmpnc3vi0u7/gx0czosf.json\n",
            "DEBUG:cmdstanpy:input tempfile: /tmp/tmpnc3vi0u7/xr8kz8vh.json\n",
            "DEBUG:cmdstanpy:idx 0\n",
            "DEBUG:cmdstanpy:running CmdStan, num_threads: None\n",
            "DEBUG:cmdstanpy:CmdStan args: ['/usr/local/lib/python3.10/dist-packages/prophet/stan_model/prophet_model.bin', 'random', 'seed=5751', 'data', 'file=/tmp/tmpnc3vi0u7/gx0czosf.json', 'init=/tmp/tmpnc3vi0u7/xr8kz8vh.json', 'output', 'file=/tmp/tmpnc3vi0u7/prophet_model4tom71qi/prophet_model-20231001054806.csv', 'method=optimize', 'algorithm=lbfgs', 'iter=10000']\n",
            "05:48:06 - cmdstanpy - INFO - Chain [1] start processing\n",
            "INFO:cmdstanpy:Chain [1] start processing\n"
          ]
        },
        {
          "output_type": "stream",
          "name": "stdout",
          "text": [
            "+++++++++++++++++++++++++++++++++++++++++++++++++++++++++++++++++++++++++++++++++++++++ [('Prophet', 23.7453), ('ARIMA', 10.1669), ('ETS', 35.2346), ('XGBoost', 20.2901)]\n",
            "+++++++++++++++++++++++++++++++++++++++++++++++++++++++++++++++++++++++++++++++++++++++ ARIMA 185 686 3\n"
          ]
        },
        {
          "output_type": "stream",
          "name": "stderr",
          "text": [
            "05:48:06 - cmdstanpy - INFO - Chain [1] done processing\n",
            "INFO:cmdstanpy:Chain [1] done processing\n",
            "/usr/local/lib/python3.10/dist-packages/statsmodels/tsa/base/tsa_model.py:473: ValueWarning: No frequency information was provided, so inferred frequency D will be used.\n",
            "  self._init_dates(dates, freq)\n",
            "/usr/local/lib/python3.10/dist-packages/statsmodels/tsa/holtwinters/model.py:917: ConvergenceWarning: Optimization failed to converge. Check mle_retvals.\n",
            "  warnings.warn(\n",
            "<ipython-input-10-fd7e9e95ee04>:69: FutureWarning: The frame.append method is deprecated and will be removed from pandas in a future version. Use pandas.concat instead.\n",
            "  results_df = results_df.append(result_dict, ignore_index=True)\n",
            "INFO:prophet:Disabling yearly seasonality. Run prophet with yearly_seasonality=True to override this.\n",
            "INFO:prophet:Disabling daily seasonality. Run prophet with daily_seasonality=True to override this.\n",
            "DEBUG:cmdstanpy:input tempfile: /tmp/tmpnc3vi0u7/5wt3p4no.json\n",
            "DEBUG:cmdstanpy:input tempfile: /tmp/tmpnc3vi0u7/nzprxl2p.json\n",
            "DEBUG:cmdstanpy:idx 0\n",
            "DEBUG:cmdstanpy:running CmdStan, num_threads: None\n",
            "DEBUG:cmdstanpy:CmdStan args: ['/usr/local/lib/python3.10/dist-packages/prophet/stan_model/prophet_model.bin', 'random', 'seed=74231', 'data', 'file=/tmp/tmpnc3vi0u7/5wt3p4no.json', 'init=/tmp/tmpnc3vi0u7/nzprxl2p.json', 'output', 'file=/tmp/tmpnc3vi0u7/prophet_model32fags5q/prophet_model-20231001054833.csv', 'method=optimize', 'algorithm=lbfgs', 'iter=10000']\n",
            "05:48:33 - cmdstanpy - INFO - Chain [1] start processing\n",
            "INFO:cmdstanpy:Chain [1] start processing\n"
          ]
        },
        {
          "output_type": "stream",
          "name": "stdout",
          "text": [
            "+++++++++++++++++++++++++++++++++++++++++++++++++++++++++++++++++++++++++++++++++++++++ [('Prophet', 44.3286), ('ARIMA', 25.5659), ('ETS', 43.8224), ('XGBoost', 18.6859)]\n",
            "+++++++++++++++++++++++++++++++++++++++++++++++++++++++++++++++++++++++++++++++++++++++ XGBoost 186 689 3\n"
          ]
        },
        {
          "output_type": "stream",
          "name": "stderr",
          "text": [
            "05:48:34 - cmdstanpy - INFO - Chain [1] done processing\n",
            "INFO:cmdstanpy:Chain [1] done processing\n",
            "/usr/local/lib/python3.10/dist-packages/statsmodels/tsa/base/tsa_model.py:473: ValueWarning: No frequency information was provided, so inferred frequency D will be used.\n",
            "  self._init_dates(dates, freq)\n",
            "/usr/local/lib/python3.10/dist-packages/statsmodels/tsa/holtwinters/model.py:917: ConvergenceWarning: Optimization failed to converge. Check mle_retvals.\n",
            "  warnings.warn(\n",
            "<ipython-input-10-fd7e9e95ee04>:69: FutureWarning: The frame.append method is deprecated and will be removed from pandas in a future version. Use pandas.concat instead.\n",
            "  results_df = results_df.append(result_dict, ignore_index=True)\n",
            "INFO:prophet:Disabling yearly seasonality. Run prophet with yearly_seasonality=True to override this.\n",
            "INFO:prophet:Disabling daily seasonality. Run prophet with daily_seasonality=True to override this.\n",
            "DEBUG:cmdstanpy:input tempfile: /tmp/tmpnc3vi0u7/6kg3_jvc.json\n",
            "DEBUG:cmdstanpy:input tempfile: /tmp/tmpnc3vi0u7/u3gxtdyx.json\n",
            "DEBUG:cmdstanpy:idx 0\n",
            "DEBUG:cmdstanpy:running CmdStan, num_threads: None\n",
            "DEBUG:cmdstanpy:CmdStan args: ['/usr/local/lib/python3.10/dist-packages/prophet/stan_model/prophet_model.bin', 'random', 'seed=51915', 'data', 'file=/tmp/tmpnc3vi0u7/6kg3_jvc.json', 'init=/tmp/tmpnc3vi0u7/u3gxtdyx.json', 'output', 'file=/tmp/tmpnc3vi0u7/prophet_model5rm6i_40/prophet_model-20231001054903.csv', 'method=optimize', 'algorithm=lbfgs', 'iter=10000']\n",
            "05:49:03 - cmdstanpy - INFO - Chain [1] start processing\n",
            "INFO:cmdstanpy:Chain [1] start processing\n"
          ]
        },
        {
          "output_type": "stream",
          "name": "stdout",
          "text": [
            "+++++++++++++++++++++++++++++++++++++++++++++++++++++++++++++++++++++++++++++++++++++++ [('Prophet', 66.7247), ('ARIMA', 33.1698), ('ETS', 67.8166), ('XGBoost', 146.2004)]\n",
            "+++++++++++++++++++++++++++++++++++++++++++++++++++++++++++++++++++++++++++++++++++++++ ARIMA 187 692 3\n"
          ]
        },
        {
          "output_type": "stream",
          "name": "stderr",
          "text": [
            "05:49:03 - cmdstanpy - INFO - Chain [1] done processing\n",
            "INFO:cmdstanpy:Chain [1] done processing\n",
            "/usr/local/lib/python3.10/dist-packages/statsmodels/tsa/base/tsa_model.py:473: ValueWarning: No frequency information was provided, so inferred frequency D will be used.\n",
            "  self._init_dates(dates, freq)\n",
            "/usr/local/lib/python3.10/dist-packages/statsmodels/tsa/holtwinters/model.py:917: ConvergenceWarning: Optimization failed to converge. Check mle_retvals.\n",
            "  warnings.warn(\n",
            "<ipython-input-10-fd7e9e95ee04>:69: FutureWarning: The frame.append method is deprecated and will be removed from pandas in a future version. Use pandas.concat instead.\n",
            "  results_df = results_df.append(result_dict, ignore_index=True)\n",
            "INFO:prophet:Disabling yearly seasonality. Run prophet with yearly_seasonality=True to override this.\n",
            "INFO:prophet:Disabling daily seasonality. Run prophet with daily_seasonality=True to override this.\n",
            "DEBUG:cmdstanpy:input tempfile: /tmp/tmpnc3vi0u7/0nszjwly.json\n",
            "DEBUG:cmdstanpy:input tempfile: /tmp/tmpnc3vi0u7/6ntw4k50.json\n",
            "DEBUG:cmdstanpy:idx 0\n",
            "DEBUG:cmdstanpy:running CmdStan, num_threads: None\n",
            "DEBUG:cmdstanpy:CmdStan args: ['/usr/local/lib/python3.10/dist-packages/prophet/stan_model/prophet_model.bin', 'random', 'seed=47498', 'data', 'file=/tmp/tmpnc3vi0u7/0nszjwly.json', 'init=/tmp/tmpnc3vi0u7/6ntw4k50.json', 'output', 'file=/tmp/tmpnc3vi0u7/prophet_model93yn0589/prophet_model-20231001054934.csv', 'method=optimize', 'algorithm=lbfgs', 'iter=10000']\n",
            "05:49:34 - cmdstanpy - INFO - Chain [1] start processing\n",
            "INFO:cmdstanpy:Chain [1] start processing\n",
            "05:49:34 - cmdstanpy - INFO - Chain [1] done processing\n",
            "INFO:cmdstanpy:Chain [1] done processing\n"
          ]
        },
        {
          "output_type": "stream",
          "name": "stdout",
          "text": [
            "+++++++++++++++++++++++++++++++++++++++++++++++++++++++++++++++++++++++++++++++++++++++ [('Prophet', 23.0665), ('ARIMA', 24.3811), ('ETS', 30.243), ('XGBoost', 21.7611)]\n",
            "+++++++++++++++++++++++++++++++++++++++++++++++++++++++++++++++++++++++++++++++++++++++ XGBoost 188 695 3\n"
          ]
        },
        {
          "output_type": "stream",
          "name": "stderr",
          "text": [
            "/usr/local/lib/python3.10/dist-packages/statsmodels/tsa/base/tsa_model.py:473: ValueWarning: No frequency information was provided, so inferred frequency D will be used.\n",
            "  self._init_dates(dates, freq)\n",
            "/usr/local/lib/python3.10/dist-packages/statsmodels/tsa/holtwinters/model.py:917: ConvergenceWarning: Optimization failed to converge. Check mle_retvals.\n",
            "  warnings.warn(\n",
            "<ipython-input-10-fd7e9e95ee04>:69: FutureWarning: The frame.append method is deprecated and will be removed from pandas in a future version. Use pandas.concat instead.\n",
            "  results_df = results_df.append(result_dict, ignore_index=True)\n",
            "INFO:prophet:Disabling yearly seasonality. Run prophet with yearly_seasonality=True to override this.\n",
            "INFO:prophet:Disabling daily seasonality. Run prophet with daily_seasonality=True to override this.\n",
            "DEBUG:cmdstanpy:input tempfile: /tmp/tmpnc3vi0u7/8jd__oz7.json\n",
            "DEBUG:cmdstanpy:input tempfile: /tmp/tmpnc3vi0u7/9v2_w30_.json\n",
            "DEBUG:cmdstanpy:idx 0\n",
            "DEBUG:cmdstanpy:running CmdStan, num_threads: None\n",
            "DEBUG:cmdstanpy:CmdStan args: ['/usr/local/lib/python3.10/dist-packages/prophet/stan_model/prophet_model.bin', 'random', 'seed=24574', 'data', 'file=/tmp/tmpnc3vi0u7/8jd__oz7.json', 'init=/tmp/tmpnc3vi0u7/9v2_w30_.json', 'output', 'file=/tmp/tmpnc3vi0u7/prophet_modeljfrrivd7/prophet_model-20231001055005.csv', 'method=optimize', 'algorithm=lbfgs', 'iter=10000']\n",
            "05:50:05 - cmdstanpy - INFO - Chain [1] start processing\n",
            "INFO:cmdstanpy:Chain [1] start processing\n",
            "05:50:05 - cmdstanpy - INFO - Chain [1] done processing\n",
            "INFO:cmdstanpy:Chain [1] done processing\n"
          ]
        },
        {
          "output_type": "stream",
          "name": "stdout",
          "text": [
            "+++++++++++++++++++++++++++++++++++++++++++++++++++++++++++++++++++++++++++++++++++++++ [('Prophet', 86.3881), ('ARIMA', 24.0284), ('ETS', 86.0508), ('XGBoost', 64.5297)]\n",
            "+++++++++++++++++++++++++++++++++++++++++++++++++++++++++++++++++++++++++++++++++++++++ ARIMA 189 698 3\n"
          ]
        },
        {
          "output_type": "stream",
          "name": "stderr",
          "text": [
            "/usr/local/lib/python3.10/dist-packages/statsmodels/tsa/base/tsa_model.py:473: ValueWarning: No frequency information was provided, so inferred frequency D will be used.\n",
            "  self._init_dates(dates, freq)\n",
            "/usr/local/lib/python3.10/dist-packages/statsmodels/tsa/holtwinters/model.py:917: ConvergenceWarning: Optimization failed to converge. Check mle_retvals.\n",
            "  warnings.warn(\n",
            "<ipython-input-10-fd7e9e95ee04>:69: FutureWarning: The frame.append method is deprecated and will be removed from pandas in a future version. Use pandas.concat instead.\n",
            "  results_df = results_df.append(result_dict, ignore_index=True)\n",
            "INFO:prophet:Disabling yearly seasonality. Run prophet with yearly_seasonality=True to override this.\n",
            "INFO:prophet:Disabling daily seasonality. Run prophet with daily_seasonality=True to override this.\n",
            "DEBUG:cmdstanpy:input tempfile: /tmp/tmpnc3vi0u7/1h8vjqb8.json\n",
            "DEBUG:cmdstanpy:input tempfile: /tmp/tmpnc3vi0u7/mvk9vlok.json\n",
            "DEBUG:cmdstanpy:idx 0\n",
            "DEBUG:cmdstanpy:running CmdStan, num_threads: None\n",
            "DEBUG:cmdstanpy:CmdStan args: ['/usr/local/lib/python3.10/dist-packages/prophet/stan_model/prophet_model.bin', 'random', 'seed=58379', 'data', 'file=/tmp/tmpnc3vi0u7/1h8vjqb8.json', 'init=/tmp/tmpnc3vi0u7/mvk9vlok.json', 'output', 'file=/tmp/tmpnc3vi0u7/prophet_modelm2ot91if/prophet_model-20231001055040.csv', 'method=optimize', 'algorithm=lbfgs', 'iter=10000']\n",
            "05:50:40 - cmdstanpy - INFO - Chain [1] start processing\n",
            "INFO:cmdstanpy:Chain [1] start processing\n",
            "05:50:41 - cmdstanpy - INFO - Chain [1] done processing\n",
            "INFO:cmdstanpy:Chain [1] done processing\n"
          ]
        },
        {
          "output_type": "stream",
          "name": "stdout",
          "text": [
            "+++++++++++++++++++++++++++++++++++++++++++++++++++++++++++++++++++++++++++++++++++++++ [('Prophet', 32.3342), ('ARIMA', 23.3842), ('ETS', 46.5884), ('XGBoost', 37.3203)]\n",
            "+++++++++++++++++++++++++++++++++++++++++++++++++++++++++++++++++++++++++++++++++++++++ ARIMA 190 701 3\n"
          ]
        },
        {
          "output_type": "stream",
          "name": "stderr",
          "text": [
            "/usr/local/lib/python3.10/dist-packages/statsmodels/tsa/base/tsa_model.py:473: ValueWarning: No frequency information was provided, so inferred frequency D will be used.\n",
            "  self._init_dates(dates, freq)\n",
            "/usr/local/lib/python3.10/dist-packages/statsmodels/tsa/holtwinters/model.py:917: ConvergenceWarning: Optimization failed to converge. Check mle_retvals.\n",
            "  warnings.warn(\n",
            "<ipython-input-10-fd7e9e95ee04>:69: FutureWarning: The frame.append method is deprecated and will be removed from pandas in a future version. Use pandas.concat instead.\n",
            "  results_df = results_df.append(result_dict, ignore_index=True)\n",
            "INFO:prophet:Disabling yearly seasonality. Run prophet with yearly_seasonality=True to override this.\n",
            "INFO:prophet:Disabling daily seasonality. Run prophet with daily_seasonality=True to override this.\n",
            "DEBUG:cmdstanpy:input tempfile: /tmp/tmpnc3vi0u7/u1uzvtdj.json\n",
            "DEBUG:cmdstanpy:input tempfile: /tmp/tmpnc3vi0u7/4uxj5zp3.json\n",
            "DEBUG:cmdstanpy:idx 0\n",
            "DEBUG:cmdstanpy:running CmdStan, num_threads: None\n",
            "DEBUG:cmdstanpy:CmdStan args: ['/usr/local/lib/python3.10/dist-packages/prophet/stan_model/prophet_model.bin', 'random', 'seed=10927', 'data', 'file=/tmp/tmpnc3vi0u7/u1uzvtdj.json', 'init=/tmp/tmpnc3vi0u7/4uxj5zp3.json', 'output', 'file=/tmp/tmpnc3vi0u7/prophet_modelyu_p7id8/prophet_model-20231001055112.csv', 'method=optimize', 'algorithm=lbfgs', 'iter=10000']\n",
            "05:51:12 - cmdstanpy - INFO - Chain [1] start processing\n",
            "INFO:cmdstanpy:Chain [1] start processing\n"
          ]
        },
        {
          "output_type": "stream",
          "name": "stdout",
          "text": [
            "+++++++++++++++++++++++++++++++++++++++++++++++++++++++++++++++++++++++++++++++++++++++ [('Prophet', 50.1429), ('ARIMA', 11.0896), ('ETS', 62.5975), ('XGBoost', 48.411)]\n",
            "+++++++++++++++++++++++++++++++++++++++++++++++++++++++++++++++++++++++++++++++++++++++ ARIMA 191 704 3\n"
          ]
        },
        {
          "output_type": "stream",
          "name": "stderr",
          "text": [
            "05:51:12 - cmdstanpy - INFO - Chain [1] done processing\n",
            "INFO:cmdstanpy:Chain [1] done processing\n",
            "/usr/local/lib/python3.10/dist-packages/statsmodels/tsa/base/tsa_model.py:473: ValueWarning: No frequency information was provided, so inferred frequency D will be used.\n",
            "  self._init_dates(dates, freq)\n",
            "/usr/local/lib/python3.10/dist-packages/statsmodels/tsa/holtwinters/model.py:917: ConvergenceWarning: Optimization failed to converge. Check mle_retvals.\n",
            "  warnings.warn(\n",
            "<ipython-input-10-fd7e9e95ee04>:69: FutureWarning: The frame.append method is deprecated and will be removed from pandas in a future version. Use pandas.concat instead.\n",
            "  results_df = results_df.append(result_dict, ignore_index=True)\n",
            "INFO:prophet:Disabling yearly seasonality. Run prophet with yearly_seasonality=True to override this.\n",
            "INFO:prophet:Disabling daily seasonality. Run prophet with daily_seasonality=True to override this.\n",
            "DEBUG:cmdstanpy:input tempfile: /tmp/tmpnc3vi0u7/bcvncbro.json\n",
            "DEBUG:cmdstanpy:input tempfile: /tmp/tmpnc3vi0u7/fzpb1rfk.json\n",
            "DEBUG:cmdstanpy:idx 0\n",
            "DEBUG:cmdstanpy:running CmdStan, num_threads: None\n",
            "DEBUG:cmdstanpy:CmdStan args: ['/usr/local/lib/python3.10/dist-packages/prophet/stan_model/prophet_model.bin', 'random', 'seed=43345', 'data', 'file=/tmp/tmpnc3vi0u7/bcvncbro.json', 'init=/tmp/tmpnc3vi0u7/fzpb1rfk.json', 'output', 'file=/tmp/tmpnc3vi0u7/prophet_modelf3_boxba/prophet_model-20231001055142.csv', 'method=optimize', 'algorithm=lbfgs', 'iter=10000']\n",
            "05:51:42 - cmdstanpy - INFO - Chain [1] start processing\n",
            "INFO:cmdstanpy:Chain [1] start processing\n"
          ]
        },
        {
          "output_type": "stream",
          "name": "stdout",
          "text": [
            "+++++++++++++++++++++++++++++++++++++++++++++++++++++++++++++++++++++++++++++++++++++++ [('Prophet', 29.817), ('ARIMA', 13.4004), ('ETS', 27.2985), ('XGBoost', 11.4315)]\n",
            "+++++++++++++++++++++++++++++++++++++++++++++++++++++++++++++++++++++++++++++++++++++++ XGBoost 192 707 3\n"
          ]
        },
        {
          "output_type": "stream",
          "name": "stderr",
          "text": [
            "05:51:42 - cmdstanpy - INFO - Chain [1] done processing\n",
            "INFO:cmdstanpy:Chain [1] done processing\n",
            "/usr/local/lib/python3.10/dist-packages/statsmodels/tsa/base/tsa_model.py:473: ValueWarning: No frequency information was provided, so inferred frequency D will be used.\n",
            "  self._init_dates(dates, freq)\n",
            "/usr/local/lib/python3.10/dist-packages/statsmodels/tsa/holtwinters/model.py:917: ConvergenceWarning: Optimization failed to converge. Check mle_retvals.\n",
            "  warnings.warn(\n",
            "<ipython-input-10-fd7e9e95ee04>:69: FutureWarning: The frame.append method is deprecated and will be removed from pandas in a future version. Use pandas.concat instead.\n",
            "  results_df = results_df.append(result_dict, ignore_index=True)\n",
            "INFO:prophet:Disabling yearly seasonality. Run prophet with yearly_seasonality=True to override this.\n",
            "INFO:prophet:Disabling daily seasonality. Run prophet with daily_seasonality=True to override this.\n",
            "DEBUG:cmdstanpy:input tempfile: /tmp/tmpnc3vi0u7/j3ub2np3.json\n",
            "DEBUG:cmdstanpy:input tempfile: /tmp/tmpnc3vi0u7/hnn01et9.json\n",
            "DEBUG:cmdstanpy:idx 0\n",
            "DEBUG:cmdstanpy:running CmdStan, num_threads: None\n",
            "DEBUG:cmdstanpy:CmdStan args: ['/usr/local/lib/python3.10/dist-packages/prophet/stan_model/prophet_model.bin', 'random', 'seed=34461', 'data', 'file=/tmp/tmpnc3vi0u7/j3ub2np3.json', 'init=/tmp/tmpnc3vi0u7/hnn01et9.json', 'output', 'file=/tmp/tmpnc3vi0u7/prophet_modellpzbsam5/prophet_model-20231001055212.csv', 'method=optimize', 'algorithm=lbfgs', 'iter=10000']\n",
            "05:52:12 - cmdstanpy - INFO - Chain [1] start processing\n",
            "INFO:cmdstanpy:Chain [1] start processing\n"
          ]
        },
        {
          "output_type": "stream",
          "name": "stdout",
          "text": [
            "+++++++++++++++++++++++++++++++++++++++++++++++++++++++++++++++++++++++++++++++++++++++ [('Prophet', 39.5339), ('ARIMA', 18.4204), ('ETS', 30.9074), ('XGBoost', 20.9833)]\n",
            "+++++++++++++++++++++++++++++++++++++++++++++++++++++++++++++++++++++++++++++++++++++++ ARIMA 193 710 3\n"
          ]
        },
        {
          "output_type": "stream",
          "name": "stderr",
          "text": [
            "05:52:12 - cmdstanpy - INFO - Chain [1] done processing\n",
            "INFO:cmdstanpy:Chain [1] done processing\n",
            "/usr/local/lib/python3.10/dist-packages/statsmodels/tsa/base/tsa_model.py:473: ValueWarning: No frequency information was provided, so inferred frequency D will be used.\n",
            "  self._init_dates(dates, freq)\n",
            "/usr/local/lib/python3.10/dist-packages/statsmodels/tsa/holtwinters/model.py:917: ConvergenceWarning: Optimization failed to converge. Check mle_retvals.\n",
            "  warnings.warn(\n",
            "<ipython-input-10-fd7e9e95ee04>:69: FutureWarning: The frame.append method is deprecated and will be removed from pandas in a future version. Use pandas.concat instead.\n",
            "  results_df = results_df.append(result_dict, ignore_index=True)\n",
            "INFO:prophet:Disabling yearly seasonality. Run prophet with yearly_seasonality=True to override this.\n",
            "INFO:prophet:Disabling daily seasonality. Run prophet with daily_seasonality=True to override this.\n",
            "DEBUG:cmdstanpy:input tempfile: /tmp/tmpnc3vi0u7/qsi7ts5_.json\n",
            "DEBUG:cmdstanpy:input tempfile: /tmp/tmpnc3vi0u7/_v8idvd1.json\n",
            "DEBUG:cmdstanpy:idx 0\n",
            "DEBUG:cmdstanpy:running CmdStan, num_threads: None\n",
            "DEBUG:cmdstanpy:CmdStan args: ['/usr/local/lib/python3.10/dist-packages/prophet/stan_model/prophet_model.bin', 'random', 'seed=43199', 'data', 'file=/tmp/tmpnc3vi0u7/qsi7ts5_.json', 'init=/tmp/tmpnc3vi0u7/_v8idvd1.json', 'output', 'file=/tmp/tmpnc3vi0u7/prophet_modelq9maxsnf/prophet_model-20231001055243.csv', 'method=optimize', 'algorithm=lbfgs', 'iter=10000']\n",
            "05:52:43 - cmdstanpy - INFO - Chain [1] start processing\n",
            "INFO:cmdstanpy:Chain [1] start processing\n"
          ]
        },
        {
          "output_type": "stream",
          "name": "stdout",
          "text": [
            "+++++++++++++++++++++++++++++++++++++++++++++++++++++++++++++++++++++++++++++++++++++++ [('Prophet', 45.0038), ('ARIMA', 10.7272), ('ETS', 48.3333), ('XGBoost', 57.1623)]\n",
            "+++++++++++++++++++++++++++++++++++++++++++++++++++++++++++++++++++++++++++++++++++++++ ARIMA 194 713 3\n"
          ]
        },
        {
          "output_type": "stream",
          "name": "stderr",
          "text": [
            "05:52:43 - cmdstanpy - INFO - Chain [1] done processing\n",
            "INFO:cmdstanpy:Chain [1] done processing\n",
            "/usr/local/lib/python3.10/dist-packages/statsmodels/tsa/base/tsa_model.py:473: ValueWarning: No frequency information was provided, so inferred frequency D will be used.\n",
            "  self._init_dates(dates, freq)\n",
            "/usr/local/lib/python3.10/dist-packages/statsmodels/tsa/holtwinters/model.py:917: ConvergenceWarning: Optimization failed to converge. Check mle_retvals.\n",
            "  warnings.warn(\n",
            "<ipython-input-10-fd7e9e95ee04>:69: FutureWarning: The frame.append method is deprecated and will be removed from pandas in a future version. Use pandas.concat instead.\n",
            "  results_df = results_df.append(result_dict, ignore_index=True)\n",
            "INFO:prophet:Disabling yearly seasonality. Run prophet with yearly_seasonality=True to override this.\n",
            "INFO:prophet:Disabling daily seasonality. Run prophet with daily_seasonality=True to override this.\n",
            "DEBUG:cmdstanpy:input tempfile: /tmp/tmpnc3vi0u7/fhroy_r7.json\n",
            "DEBUG:cmdstanpy:input tempfile: /tmp/tmpnc3vi0u7/k89u_9cn.json\n",
            "DEBUG:cmdstanpy:idx 0\n",
            "DEBUG:cmdstanpy:running CmdStan, num_threads: None\n",
            "DEBUG:cmdstanpy:CmdStan args: ['/usr/local/lib/python3.10/dist-packages/prophet/stan_model/prophet_model.bin', 'random', 'seed=53527', 'data', 'file=/tmp/tmpnc3vi0u7/fhroy_r7.json', 'init=/tmp/tmpnc3vi0u7/k89u_9cn.json', 'output', 'file=/tmp/tmpnc3vi0u7/prophet_model5q9rhtdt/prophet_model-20231001055314.csv', 'method=optimize', 'algorithm=lbfgs', 'iter=10000']\n",
            "05:53:14 - cmdstanpy - INFO - Chain [1] start processing\n",
            "INFO:cmdstanpy:Chain [1] start processing\n",
            "05:53:14 - cmdstanpy - INFO - Chain [1] done processing\n",
            "INFO:cmdstanpy:Chain [1] done processing\n"
          ]
        },
        {
          "output_type": "stream",
          "name": "stdout",
          "text": [
            "+++++++++++++++++++++++++++++++++++++++++++++++++++++++++++++++++++++++++++++++++++++++ [('Prophet', 44.1444), ('ARIMA', 29.7253), ('ETS', 41.4952), ('XGBoost', 42.4474)]\n",
            "+++++++++++++++++++++++++++++++++++++++++++++++++++++++++++++++++++++++++++++++++++++++ ARIMA 195 716 3\n"
          ]
        },
        {
          "output_type": "stream",
          "name": "stderr",
          "text": [
            "/usr/local/lib/python3.10/dist-packages/statsmodels/tsa/base/tsa_model.py:473: ValueWarning: No frequency information was provided, so inferred frequency D will be used.\n",
            "  self._init_dates(dates, freq)\n",
            "/usr/local/lib/python3.10/dist-packages/statsmodels/tsa/holtwinters/model.py:917: ConvergenceWarning: Optimization failed to converge. Check mle_retvals.\n",
            "  warnings.warn(\n",
            "<ipython-input-10-fd7e9e95ee04>:69: FutureWarning: The frame.append method is deprecated and will be removed from pandas in a future version. Use pandas.concat instead.\n",
            "  results_df = results_df.append(result_dict, ignore_index=True)\n",
            "INFO:prophet:Disabling yearly seasonality. Run prophet with yearly_seasonality=True to override this.\n",
            "INFO:prophet:Disabling daily seasonality. Run prophet with daily_seasonality=True to override this.\n",
            "DEBUG:cmdstanpy:input tempfile: /tmp/tmpnc3vi0u7/rp_udgru.json\n",
            "DEBUG:cmdstanpy:input tempfile: /tmp/tmpnc3vi0u7/ha4dzdph.json\n",
            "DEBUG:cmdstanpy:idx 0\n",
            "DEBUG:cmdstanpy:running CmdStan, num_threads: None\n",
            "DEBUG:cmdstanpy:CmdStan args: ['/usr/local/lib/python3.10/dist-packages/prophet/stan_model/prophet_model.bin', 'random', 'seed=34054', 'data', 'file=/tmp/tmpnc3vi0u7/rp_udgru.json', 'init=/tmp/tmpnc3vi0u7/ha4dzdph.json', 'output', 'file=/tmp/tmpnc3vi0u7/prophet_model9yg6tbnb/prophet_model-20231001055344.csv', 'method=optimize', 'algorithm=lbfgs', 'iter=10000']\n",
            "05:53:44 - cmdstanpy - INFO - Chain [1] start processing\n",
            "INFO:cmdstanpy:Chain [1] start processing\n"
          ]
        },
        {
          "output_type": "stream",
          "name": "stdout",
          "text": [
            "+++++++++++++++++++++++++++++++++++++++++++++++++++++++++++++++++++++++++++++++++++++++ [('Prophet', 35.3821), ('ARIMA', 32.7827), ('ETS', 69.0641), ('XGBoost', 58.3656)]\n",
            "+++++++++++++++++++++++++++++++++++++++++++++++++++++++++++++++++++++++++++++++++++++++ ARIMA 196 719 3\n"
          ]
        },
        {
          "output_type": "stream",
          "name": "stderr",
          "text": [
            "05:53:44 - cmdstanpy - INFO - Chain [1] done processing\n",
            "INFO:cmdstanpy:Chain [1] done processing\n",
            "/usr/local/lib/python3.10/dist-packages/statsmodels/tsa/base/tsa_model.py:473: ValueWarning: No frequency information was provided, so inferred frequency D will be used.\n",
            "  self._init_dates(dates, freq)\n",
            "/usr/local/lib/python3.10/dist-packages/statsmodels/tsa/holtwinters/model.py:917: ConvergenceWarning: Optimization failed to converge. Check mle_retvals.\n",
            "  warnings.warn(\n",
            "<ipython-input-10-fd7e9e95ee04>:69: FutureWarning: The frame.append method is deprecated and will be removed from pandas in a future version. Use pandas.concat instead.\n",
            "  results_df = results_df.append(result_dict, ignore_index=True)\n",
            "INFO:prophet:Disabling yearly seasonality. Run prophet with yearly_seasonality=True to override this.\n",
            "INFO:prophet:Disabling daily seasonality. Run prophet with daily_seasonality=True to override this.\n",
            "DEBUG:cmdstanpy:input tempfile: /tmp/tmpnc3vi0u7/99hey4rb.json\n",
            "DEBUG:cmdstanpy:input tempfile: /tmp/tmpnc3vi0u7/pmgm29as.json\n",
            "DEBUG:cmdstanpy:idx 0\n",
            "DEBUG:cmdstanpy:running CmdStan, num_threads: None\n",
            "DEBUG:cmdstanpy:CmdStan args: ['/usr/local/lib/python3.10/dist-packages/prophet/stan_model/prophet_model.bin', 'random', 'seed=34492', 'data', 'file=/tmp/tmpnc3vi0u7/99hey4rb.json', 'init=/tmp/tmpnc3vi0u7/pmgm29as.json', 'output', 'file=/tmp/tmpnc3vi0u7/prophet_modeljds4uqo6/prophet_model-20231001055413.csv', 'method=optimize', 'algorithm=lbfgs', 'iter=10000']\n",
            "05:54:13 - cmdstanpy - INFO - Chain [1] start processing\n",
            "INFO:cmdstanpy:Chain [1] start processing\n"
          ]
        },
        {
          "output_type": "stream",
          "name": "stdout",
          "text": [
            "+++++++++++++++++++++++++++++++++++++++++++++++++++++++++++++++++++++++++++++++++++++++ [('Prophet', 44.9497), ('ARIMA', 12.4498), ('ETS', 32.0526), ('XGBoost', 9.5594)]\n",
            "+++++++++++++++++++++++++++++++++++++++++++++++++++++++++++++++++++++++++++++++++++++++ XGBoost 197 722 3\n"
          ]
        },
        {
          "output_type": "stream",
          "name": "stderr",
          "text": [
            "05:54:13 - cmdstanpy - INFO - Chain [1] done processing\n",
            "INFO:cmdstanpy:Chain [1] done processing\n",
            "/usr/local/lib/python3.10/dist-packages/statsmodels/tsa/base/tsa_model.py:473: ValueWarning: No frequency information was provided, so inferred frequency D will be used.\n",
            "  self._init_dates(dates, freq)\n",
            "/usr/local/lib/python3.10/dist-packages/statsmodels/tsa/holtwinters/model.py:917: ConvergenceWarning: Optimization failed to converge. Check mle_retvals.\n",
            "  warnings.warn(\n",
            "<ipython-input-10-fd7e9e95ee04>:69: FutureWarning: The frame.append method is deprecated and will be removed from pandas in a future version. Use pandas.concat instead.\n",
            "  results_df = results_df.append(result_dict, ignore_index=True)\n",
            "INFO:prophet:Disabling yearly seasonality. Run prophet with yearly_seasonality=True to override this.\n",
            "INFO:prophet:Disabling daily seasonality. Run prophet with daily_seasonality=True to override this.\n",
            "DEBUG:cmdstanpy:input tempfile: /tmp/tmpnc3vi0u7/2d4fklmz.json\n",
            "DEBUG:cmdstanpy:input tempfile: /tmp/tmpnc3vi0u7/zc5jhha7.json\n",
            "DEBUG:cmdstanpy:idx 0\n",
            "DEBUG:cmdstanpy:running CmdStan, num_threads: None\n",
            "DEBUG:cmdstanpy:CmdStan args: ['/usr/local/lib/python3.10/dist-packages/prophet/stan_model/prophet_model.bin', 'random', 'seed=57652', 'data', 'file=/tmp/tmpnc3vi0u7/2d4fklmz.json', 'init=/tmp/tmpnc3vi0u7/zc5jhha7.json', 'output', 'file=/tmp/tmpnc3vi0u7/prophet_modelgp0b4fu8/prophet_model-20231001055437.csv', 'method=optimize', 'algorithm=lbfgs', 'iter=10000']\n",
            "05:54:37 - cmdstanpy - INFO - Chain [1] start processing\n",
            "INFO:cmdstanpy:Chain [1] start processing\n",
            "05:54:38 - cmdstanpy - INFO - Chain [1] done processing\n",
            "INFO:cmdstanpy:Chain [1] done processing\n"
          ]
        },
        {
          "output_type": "stream",
          "name": "stdout",
          "text": [
            "+++++++++++++++++++++++++++++++++++++++++++++++++++++++++++++++++++++++++++++++++++++++ [('Prophet', 345473.6148), ('ARIMA', 337974.8431), ('ETS', 506102.0268), ('XGBoost', 252254.8934)]\n",
            "+++++++++++++++++++++++++++++++++++++++++++++++++++++++++++++++++++++++++++++++++++++++ XGBoost 198 725 3\n"
          ]
        },
        {
          "output_type": "stream",
          "name": "stderr",
          "text": [
            "/usr/local/lib/python3.10/dist-packages/statsmodels/tsa/base/tsa_model.py:473: ValueWarning: No frequency information was provided, so inferred frequency D will be used.\n",
            "  self._init_dates(dates, freq)\n",
            "/usr/local/lib/python3.10/dist-packages/statsmodels/tsa/holtwinters/model.py:917: ConvergenceWarning: Optimization failed to converge. Check mle_retvals.\n",
            "  warnings.warn(\n"
          ]
        },
        {
          "output_type": "stream",
          "name": "stdout",
          "text": [
            "+++++++++++++++++++++++++++++++++++++++++++++++++++++++++++++++++++++++++++++++++++++++ [('Prophet', 8937577.7878), ('ARIMA', 11086053.4454), ('ETS', 8878404.2548), ('XGBoost', 9604409.7159)]\n",
            "+++++++++++++++++++++++++++++++++++++++++++++++++++++++++++++++++++++++++++++++++++++++ ETS 199 728 3\n"
          ]
        },
        {
          "output_type": "stream",
          "name": "stderr",
          "text": [
            "<ipython-input-10-fd7e9e95ee04>:69: FutureWarning: The frame.append method is deprecated and will be removed from pandas in a future version. Use pandas.concat instead.\n",
            "  results_df = results_df.append(result_dict, ignore_index=True)\n"
          ]
        }
      ]
    },
    {
      "cell_type": "code",
      "source": [
        "results_df.head()"
      ],
      "metadata": {
        "colab": {
          "base_uri": "https://localhost:8080/",
          "height": 206
        },
        "id": "eiqlEOnijATn",
        "outputId": "6792b28f-fd43-41c8-c9e9-249c95c846e4"
      },
      "execution_count": 11,
      "outputs": [
        {
          "output_type": "execute_result",
          "data": {
            "text/plain": [
              "  Sample Index          Mean      Variance  Skewness  Kurtosis    Trend Mean  \\\n",
              "0            0  1.170354e+06  4.007895e+10  1.398559  3.071583  1.170865e+06   \n",
              "1            1  1.173173e+06  4.021102e+10  1.345245  2.854922  1.173717e+06   \n",
              "2            2  1.165945e+06  4.167459e+10  1.259848  2.653146  1.170509e+06   \n",
              "3            3  1.161884e+06  4.173290e+10  1.257650  2.661183  1.162507e+06   \n",
              "4            4  1.154895e+06  4.314659e+10  1.184845  2.477578  1.153841e+06   \n",
              "\n",
              "   Seasonal Mean  Residual Mean Best Model  \n",
              "0  -3.686601e+03    3176.103442    Prophet  \n",
              "1  -4.948876e+02     -48.892901      ARIMA  \n",
              "2  -2.861151e+03   -1702.486047        ETS  \n",
              "3   1.455192e-11    -623.829597    XGBoost  \n",
              "4  -1.812498e+03    2866.969396      ARIMA  "
            ],
            "text/html": [
              "\n",
              "  <div id=\"df-83af9c3e-e3d7-420b-b145-e7f318b1b2c5\" class=\"colab-df-container\">\n",
              "    <div>\n",
              "<style scoped>\n",
              "    .dataframe tbody tr th:only-of-type {\n",
              "        vertical-align: middle;\n",
              "    }\n",
              "\n",
              "    .dataframe tbody tr th {\n",
              "        vertical-align: top;\n",
              "    }\n",
              "\n",
              "    .dataframe thead th {\n",
              "        text-align: right;\n",
              "    }\n",
              "</style>\n",
              "<table border=\"1\" class=\"dataframe\">\n",
              "  <thead>\n",
              "    <tr style=\"text-align: right;\">\n",
              "      <th></th>\n",
              "      <th>Sample Index</th>\n",
              "      <th>Mean</th>\n",
              "      <th>Variance</th>\n",
              "      <th>Skewness</th>\n",
              "      <th>Kurtosis</th>\n",
              "      <th>Trend Mean</th>\n",
              "      <th>Seasonal Mean</th>\n",
              "      <th>Residual Mean</th>\n",
              "      <th>Best Model</th>\n",
              "    </tr>\n",
              "  </thead>\n",
              "  <tbody>\n",
              "    <tr>\n",
              "      <th>0</th>\n",
              "      <td>0</td>\n",
              "      <td>1.170354e+06</td>\n",
              "      <td>4.007895e+10</td>\n",
              "      <td>1.398559</td>\n",
              "      <td>3.071583</td>\n",
              "      <td>1.170865e+06</td>\n",
              "      <td>-3.686601e+03</td>\n",
              "      <td>3176.103442</td>\n",
              "      <td>Prophet</td>\n",
              "    </tr>\n",
              "    <tr>\n",
              "      <th>1</th>\n",
              "      <td>1</td>\n",
              "      <td>1.173173e+06</td>\n",
              "      <td>4.021102e+10</td>\n",
              "      <td>1.345245</td>\n",
              "      <td>2.854922</td>\n",
              "      <td>1.173717e+06</td>\n",
              "      <td>-4.948876e+02</td>\n",
              "      <td>-48.892901</td>\n",
              "      <td>ARIMA</td>\n",
              "    </tr>\n",
              "    <tr>\n",
              "      <th>2</th>\n",
              "      <td>2</td>\n",
              "      <td>1.165945e+06</td>\n",
              "      <td>4.167459e+10</td>\n",
              "      <td>1.259848</td>\n",
              "      <td>2.653146</td>\n",
              "      <td>1.170509e+06</td>\n",
              "      <td>-2.861151e+03</td>\n",
              "      <td>-1702.486047</td>\n",
              "      <td>ETS</td>\n",
              "    </tr>\n",
              "    <tr>\n",
              "      <th>3</th>\n",
              "      <td>3</td>\n",
              "      <td>1.161884e+06</td>\n",
              "      <td>4.173290e+10</td>\n",
              "      <td>1.257650</td>\n",
              "      <td>2.661183</td>\n",
              "      <td>1.162507e+06</td>\n",
              "      <td>1.455192e-11</td>\n",
              "      <td>-623.829597</td>\n",
              "      <td>XGBoost</td>\n",
              "    </tr>\n",
              "    <tr>\n",
              "      <th>4</th>\n",
              "      <td>4</td>\n",
              "      <td>1.154895e+06</td>\n",
              "      <td>4.314659e+10</td>\n",
              "      <td>1.184845</td>\n",
              "      <td>2.477578</td>\n",
              "      <td>1.153841e+06</td>\n",
              "      <td>-1.812498e+03</td>\n",
              "      <td>2866.969396</td>\n",
              "      <td>ARIMA</td>\n",
              "    </tr>\n",
              "  </tbody>\n",
              "</table>\n",
              "</div>\n",
              "    <div class=\"colab-df-buttons\">\n",
              "\n",
              "  <div class=\"colab-df-container\">\n",
              "    <button class=\"colab-df-convert\" onclick=\"convertToInteractive('df-83af9c3e-e3d7-420b-b145-e7f318b1b2c5')\"\n",
              "            title=\"Convert this dataframe to an interactive table.\"\n",
              "            style=\"display:none;\">\n",
              "\n",
              "  <svg xmlns=\"http://www.w3.org/2000/svg\" height=\"24px\" viewBox=\"0 -960 960 960\">\n",
              "    <path d=\"M120-120v-720h720v720H120Zm60-500h600v-160H180v160Zm220 220h160v-160H400v160Zm0 220h160v-160H400v160ZM180-400h160v-160H180v160Zm440 0h160v-160H620v160ZM180-180h160v-160H180v160Zm440 0h160v-160H620v160Z\"/>\n",
              "  </svg>\n",
              "    </button>\n",
              "\n",
              "  <style>\n",
              "    .colab-df-container {\n",
              "      display:flex;\n",
              "      gap: 12px;\n",
              "    }\n",
              "\n",
              "    .colab-df-convert {\n",
              "      background-color: #E8F0FE;\n",
              "      border: none;\n",
              "      border-radius: 50%;\n",
              "      cursor: pointer;\n",
              "      display: none;\n",
              "      fill: #1967D2;\n",
              "      height: 32px;\n",
              "      padding: 0 0 0 0;\n",
              "      width: 32px;\n",
              "    }\n",
              "\n",
              "    .colab-df-convert:hover {\n",
              "      background-color: #E2EBFA;\n",
              "      box-shadow: 0px 1px 2px rgba(60, 64, 67, 0.3), 0px 1px 3px 1px rgba(60, 64, 67, 0.15);\n",
              "      fill: #174EA6;\n",
              "    }\n",
              "\n",
              "    .colab-df-buttons div {\n",
              "      margin-bottom: 4px;\n",
              "    }\n",
              "\n",
              "    [theme=dark] .colab-df-convert {\n",
              "      background-color: #3B4455;\n",
              "      fill: #D2E3FC;\n",
              "    }\n",
              "\n",
              "    [theme=dark] .colab-df-convert:hover {\n",
              "      background-color: #434B5C;\n",
              "      box-shadow: 0px 1px 3px 1px rgba(0, 0, 0, 0.15);\n",
              "      filter: drop-shadow(0px 1px 2px rgba(0, 0, 0, 0.3));\n",
              "      fill: #FFFFFF;\n",
              "    }\n",
              "  </style>\n",
              "\n",
              "    <script>\n",
              "      const buttonEl =\n",
              "        document.querySelector('#df-83af9c3e-e3d7-420b-b145-e7f318b1b2c5 button.colab-df-convert');\n",
              "      buttonEl.style.display =\n",
              "        google.colab.kernel.accessAllowed ? 'block' : 'none';\n",
              "\n",
              "      async function convertToInteractive(key) {\n",
              "        const element = document.querySelector('#df-83af9c3e-e3d7-420b-b145-e7f318b1b2c5');\n",
              "        const dataTable =\n",
              "          await google.colab.kernel.invokeFunction('convertToInteractive',\n",
              "                                                    [key], {});\n",
              "        if (!dataTable) return;\n",
              "\n",
              "        const docLinkHtml = 'Like what you see? Visit the ' +\n",
              "          '<a target=\"_blank\" href=https://colab.research.google.com/notebooks/data_table.ipynb>data table notebook</a>'\n",
              "          + ' to learn more about interactive tables.';\n",
              "        element.innerHTML = '';\n",
              "        dataTable['output_type'] = 'display_data';\n",
              "        await google.colab.output.renderOutput(dataTable, element);\n",
              "        const docLink = document.createElement('div');\n",
              "        docLink.innerHTML = docLinkHtml;\n",
              "        element.appendChild(docLink);\n",
              "      }\n",
              "    </script>\n",
              "  </div>\n",
              "\n",
              "\n",
              "<div id=\"df-86f9e5af-744a-4866-8234-3f04916949fd\">\n",
              "  <button class=\"colab-df-quickchart\" onclick=\"quickchart('df-86f9e5af-744a-4866-8234-3f04916949fd')\"\n",
              "            title=\"Suggest charts.\"\n",
              "            style=\"display:none;\">\n",
              "\n",
              "<svg xmlns=\"http://www.w3.org/2000/svg\" height=\"24px\"viewBox=\"0 0 24 24\"\n",
              "     width=\"24px\">\n",
              "    <g>\n",
              "        <path d=\"M19 3H5c-1.1 0-2 .9-2 2v14c0 1.1.9 2 2 2h14c1.1 0 2-.9 2-2V5c0-1.1-.9-2-2-2zM9 17H7v-7h2v7zm4 0h-2V7h2v10zm4 0h-2v-4h2v4z\"/>\n",
              "    </g>\n",
              "</svg>\n",
              "  </button>\n",
              "\n",
              "<style>\n",
              "  .colab-df-quickchart {\n",
              "      --bg-color: #E8F0FE;\n",
              "      --fill-color: #1967D2;\n",
              "      --hover-bg-color: #E2EBFA;\n",
              "      --hover-fill-color: #174EA6;\n",
              "      --disabled-fill-color: #AAA;\n",
              "      --disabled-bg-color: #DDD;\n",
              "  }\n",
              "\n",
              "  [theme=dark] .colab-df-quickchart {\n",
              "      --bg-color: #3B4455;\n",
              "      --fill-color: #D2E3FC;\n",
              "      --hover-bg-color: #434B5C;\n",
              "      --hover-fill-color: #FFFFFF;\n",
              "      --disabled-bg-color: #3B4455;\n",
              "      --disabled-fill-color: #666;\n",
              "  }\n",
              "\n",
              "  .colab-df-quickchart {\n",
              "    background-color: var(--bg-color);\n",
              "    border: none;\n",
              "    border-radius: 50%;\n",
              "    cursor: pointer;\n",
              "    display: none;\n",
              "    fill: var(--fill-color);\n",
              "    height: 32px;\n",
              "    padding: 0;\n",
              "    width: 32px;\n",
              "  }\n",
              "\n",
              "  .colab-df-quickchart:hover {\n",
              "    background-color: var(--hover-bg-color);\n",
              "    box-shadow: 0 1px 2px rgba(60, 64, 67, 0.3), 0 1px 3px 1px rgba(60, 64, 67, 0.15);\n",
              "    fill: var(--button-hover-fill-color);\n",
              "  }\n",
              "\n",
              "  .colab-df-quickchart-complete:disabled,\n",
              "  .colab-df-quickchart-complete:disabled:hover {\n",
              "    background-color: var(--disabled-bg-color);\n",
              "    fill: var(--disabled-fill-color);\n",
              "    box-shadow: none;\n",
              "  }\n",
              "\n",
              "  .colab-df-spinner {\n",
              "    border: 2px solid var(--fill-color);\n",
              "    border-color: transparent;\n",
              "    border-bottom-color: var(--fill-color);\n",
              "    animation:\n",
              "      spin 1s steps(1) infinite;\n",
              "  }\n",
              "\n",
              "  @keyframes spin {\n",
              "    0% {\n",
              "      border-color: transparent;\n",
              "      border-bottom-color: var(--fill-color);\n",
              "      border-left-color: var(--fill-color);\n",
              "    }\n",
              "    20% {\n",
              "      border-color: transparent;\n",
              "      border-left-color: var(--fill-color);\n",
              "      border-top-color: var(--fill-color);\n",
              "    }\n",
              "    30% {\n",
              "      border-color: transparent;\n",
              "      border-left-color: var(--fill-color);\n",
              "      border-top-color: var(--fill-color);\n",
              "      border-right-color: var(--fill-color);\n",
              "    }\n",
              "    40% {\n",
              "      border-color: transparent;\n",
              "      border-right-color: var(--fill-color);\n",
              "      border-top-color: var(--fill-color);\n",
              "    }\n",
              "    60% {\n",
              "      border-color: transparent;\n",
              "      border-right-color: var(--fill-color);\n",
              "    }\n",
              "    80% {\n",
              "      border-color: transparent;\n",
              "      border-right-color: var(--fill-color);\n",
              "      border-bottom-color: var(--fill-color);\n",
              "    }\n",
              "    90% {\n",
              "      border-color: transparent;\n",
              "      border-bottom-color: var(--fill-color);\n",
              "    }\n",
              "  }\n",
              "</style>\n",
              "\n",
              "  <script>\n",
              "    async function quickchart(key) {\n",
              "      const quickchartButtonEl =\n",
              "        document.querySelector('#' + key + ' button');\n",
              "      quickchartButtonEl.disabled = true;  // To prevent multiple clicks.\n",
              "      quickchartButtonEl.classList.add('colab-df-spinner');\n",
              "      try {\n",
              "        const charts = await google.colab.kernel.invokeFunction(\n",
              "            'suggestCharts', [key], {});\n",
              "      } catch (error) {\n",
              "        console.error('Error during call to suggestCharts:', error);\n",
              "      }\n",
              "      quickchartButtonEl.classList.remove('colab-df-spinner');\n",
              "      quickchartButtonEl.classList.add('colab-df-quickchart-complete');\n",
              "    }\n",
              "    (() => {\n",
              "      let quickchartButtonEl =\n",
              "        document.querySelector('#df-86f9e5af-744a-4866-8234-3f04916949fd button');\n",
              "      quickchartButtonEl.style.display =\n",
              "        google.colab.kernel.accessAllowed ? 'block' : 'none';\n",
              "    })();\n",
              "  </script>\n",
              "</div>\n",
              "    </div>\n",
              "  </div>\n"
            ]
          },
          "metadata": {},
          "execution_count": 11
        }
      ]
    },
    {
      "cell_type": "code",
      "source": [
        "track_log"
      ],
      "metadata": {
        "colab": {
          "base_uri": "https://localhost:8080/"
        },
        "id": "bwzb49qy2UFd",
        "outputId": "0943f600-4bb5-4281-da6a-dd3a5ef398be"
      },
      "execution_count": 12,
      "outputs": [
        {
          "output_type": "execute_result",
          "data": {
            "text/plain": [
              "{0: [('Prophet', 7.6855),\n",
              "  ('ARIMA', 10.5272),\n",
              "  ('ETS', 11.9049),\n",
              "  ('XGBoost', 9.1174)],\n",
              " 1: [('Prophet', 33.8809),\n",
              "  ('ARIMA', 25.0045),\n",
              "  ('ETS', 47.0336),\n",
              "  ('XGBoost', 25.0435)],\n",
              " 2: [('Prophet', 32.8295),\n",
              "  ('ARIMA', 25.4999),\n",
              "  ('ETS', 22.4939),\n",
              "  ('XGBoost', 27.6526)],\n",
              " 3: [('Prophet', 20.0868),\n",
              "  ('ARIMA', 20.7693),\n",
              "  ('ETS', 28.5855),\n",
              "  ('XGBoost', 13.2791)],\n",
              " 4: [('Prophet', 14.0931),\n",
              "  ('ARIMA', 4.0952),\n",
              "  ('ETS', 18.3795),\n",
              "  ('XGBoost', 15.3302)],\n",
              " 5: [('Prophet', 8.134),\n",
              "  ('ARIMA', 6.2477),\n",
              "  ('ETS', 9.5807),\n",
              "  ('XGBoost', 13.2208)],\n",
              " 6: [('Prophet', 6.9967),\n",
              "  ('ARIMA', 1.2088),\n",
              "  ('ETS', 2.8798),\n",
              "  ('XGBoost', 42.7734)],\n",
              " 7: [('Prophet', 11.6679),\n",
              "  ('ARIMA', 9.0425),\n",
              "  ('ETS', 22.9558),\n",
              "  ('XGBoost', 18.67)],\n",
              " 8: [('Prophet', 7.5939),\n",
              "  ('ARIMA', 19.5503),\n",
              "  ('ETS', 18.0956),\n",
              "  ('XGBoost', 38.984)],\n",
              " 9: [('Prophet', 17.874),\n",
              "  ('ARIMA', 15.4918),\n",
              "  ('ETS', 9.7231),\n",
              "  ('XGBoost', 21.2661)],\n",
              " 10: [('Prophet', 6.1749),\n",
              "  ('ARIMA', 10.299),\n",
              "  ('ETS', 6.3276),\n",
              "  ('XGBoost', 10.5734)],\n",
              " 11: [('Prophet', 11.0682),\n",
              "  ('ARIMA', 5.1438),\n",
              "  ('ETS', 7.5237),\n",
              "  ('XGBoost', 11.8396)],\n",
              " 12: [('Prophet', 11.8997),\n",
              "  ('ARIMA', 7.4643),\n",
              "  ('ETS', 11.4275),\n",
              "  ('XGBoost', 17.2721)],\n",
              " 13: [('Prophet', 18.1359),\n",
              "  ('ARIMA', 7.2321),\n",
              "  ('ETS', 8.4664),\n",
              "  ('XGBoost', 4.4617)],\n",
              " 14: [('Prophet', 8.3603),\n",
              "  ('ARIMA', 9.387),\n",
              "  ('ETS', 21.0921),\n",
              "  ('XGBoost', 11.593)],\n",
              " 15: [('Prophet', 30.6541),\n",
              "  ('ARIMA', 15.6912),\n",
              "  ('ETS', 19.5446),\n",
              "  ('XGBoost', 10.6124)],\n",
              " 16: [('Prophet', 23.6405),\n",
              "  ('ARIMA', 15.2215),\n",
              "  ('ETS', 26.1047),\n",
              "  ('XGBoost', 47.5371)],\n",
              " 17: [('Prophet', 30.5627),\n",
              "  ('ARIMA', 3.8953),\n",
              "  ('ETS', 4.7276),\n",
              "  ('XGBoost', 7.3688)],\n",
              " 18: [('Prophet', 25.2463),\n",
              "  ('ARIMA', 3.5044),\n",
              "  ('ETS', 10.9202),\n",
              "  ('XGBoost', 7.4564)],\n",
              " 19: [('Prophet', 20.8548),\n",
              "  ('ARIMA', 3.355),\n",
              "  ('ETS', 7.5413),\n",
              "  ('XGBoost', 18.1061)],\n",
              " 20: [('Prophet', 25.4707),\n",
              "  ('ARIMA', 2.9268),\n",
              "  ('ETS', 7.0138),\n",
              "  ('XGBoost', 8.0648)],\n",
              " 21: [('Prophet', 9.9778),\n",
              "  ('ARIMA', 5.2151),\n",
              "  ('ETS', 13.5949),\n",
              "  ('XGBoost', 13.5009)],\n",
              " 22: [('Prophet', 17.0811),\n",
              "  ('ARIMA', 1.7547),\n",
              "  ('ETS', 5.5252),\n",
              "  ('XGBoost', 4.3236)],\n",
              " 23: [('Prophet', 5.0397),\n",
              "  ('ARIMA', 4.3214),\n",
              "  ('ETS', 12.8981),\n",
              "  ('XGBoost', 15.014)],\n",
              " 24: [('Prophet', 10.2977),\n",
              "  ('ARIMA', 6.0204),\n",
              "  ('ETS', 18.3672),\n",
              "  ('XGBoost', 4.1365)],\n",
              " 25: [('Prophet', 5.0234),\n",
              "  ('ARIMA', 3.1746),\n",
              "  ('ETS', 7.7393),\n",
              "  ('XGBoost', 11.9399)],\n",
              " 26: [('Prophet', 9.8217),\n",
              "  ('ARIMA', 12.1026),\n",
              "  ('ETS', 12.5367),\n",
              "  ('XGBoost', 26.0907)],\n",
              " 27: [('Prophet', 11.2852),\n",
              "  ('ARIMA', 23.7503),\n",
              "  ('ETS', 25.4676),\n",
              "  ('XGBoost', 23.1747)],\n",
              " 28: [('Prophet', 19.838),\n",
              "  ('ARIMA', 8.6792),\n",
              "  ('ETS', 4.1826),\n",
              "  ('XGBoost', 12.8226)],\n",
              " 29: [('Prophet', 10.2992),\n",
              "  ('ARIMA', 9.5441),\n",
              "  ('ETS', 17.2654),\n",
              "  ('XGBoost', 5.7974)],\n",
              " 30: [('Prophet', 18.1965),\n",
              "  ('ARIMA', 1.586),\n",
              "  ('ETS', 9.3789),\n",
              "  ('XGBoost', 9.0402)],\n",
              " 31: [('Prophet', 5.6077),\n",
              "  ('ARIMA', 5.2987),\n",
              "  ('ETS', 10.4822),\n",
              "  ('XGBoost', 1.8335)],\n",
              " 32: [('Prophet', 19.5626),\n",
              "  ('ARIMA', 10.5993),\n",
              "  ('ETS', 15.577),\n",
              "  ('XGBoost', 16.2106)],\n",
              " 33: [('Prophet', 460956.1264),\n",
              "  ('ARIMA', 441101.2739),\n",
              "  ('ETS', 447305.3686),\n",
              "  ('XGBoost', 435606.2434)],\n",
              " 34: [('Prophet', 499064.4814),\n",
              "  ('ARIMA', 270986.7783),\n",
              "  ('ETS', 400540.5903),\n",
              "  ('XGBoost', 293891.8912)],\n",
              " 35: [('Prophet', 1159062.0857),\n",
              "  ('ARIMA', 336579.9361),\n",
              "  ('ETS', 178767.5371),\n",
              "  ('XGBoost', 183245.9243)],\n",
              " 36: [('Prophet', 646883.9155),\n",
              "  ('ARIMA', 138647.49),\n",
              "  ('ETS', 41929.0634),\n",
              "  ('XGBoost', 238067.6887)],\n",
              " 37: [('Prophet', 450265.4244),\n",
              "  ('ARIMA', 96136.6064),\n",
              "  ('ETS', 126014.5264),\n",
              "  ('XGBoost', 697337.6831)],\n",
              " 38: [('Prophet', 213157.6887),\n",
              "  ('ARIMA', 68796.3796),\n",
              "  ('ETS', 50468.3055),\n",
              "  ('XGBoost', 43432.7466)],\n",
              " 39: [('Prophet', 401399.7207),\n",
              "  ('ARIMA', 67320.1205),\n",
              "  ('ETS', 81044.0016),\n",
              "  ('XGBoost', 17873.9995)],\n",
              " 40: [('Prophet', 89569.0939),\n",
              "  ('ARIMA', 23533.9888),\n",
              "  ('ETS', 44755.7371),\n",
              "  ('XGBoost', 791.6766)],\n",
              " 41: [('Prophet', 10283.859),\n",
              "  ('ARIMA', 22658.0076),\n",
              "  ('ETS', 56801.4099),\n",
              "  ('XGBoost', 10702.2642)],\n",
              " 42: [('Prophet', 305.8166),\n",
              "  ('ARIMA', 81.8773),\n",
              "  ('ETS', 221.1454),\n",
              "  ('XGBoost', 75.9268)],\n",
              " 43: [('Prophet', 202.1447),\n",
              "  ('ARIMA', 88.4887),\n",
              "  ('ETS', 89.3287),\n",
              "  ('XGBoost', 47.4873)],\n",
              " 44: [('Prophet', 231.3196),\n",
              "  ('ARIMA', 289.5545),\n",
              "  ('ETS', 131.9984),\n",
              "  ('XGBoost', 119.06)],\n",
              " 45: [('Prophet', 211.0136),\n",
              "  ('ARIMA', 52.9992),\n",
              "  ('ETS', 87.7459),\n",
              "  ('XGBoost', 62.8088)],\n",
              " 46: [('Prophet', 147.0942),\n",
              "  ('ARIMA', 57.8921),\n",
              "  ('ETS', 36.5714),\n",
              "  ('XGBoost', 91.7965)],\n",
              " 47: [('Prophet', 229.8859),\n",
              "  ('ARIMA', 131.1525),\n",
              "  ('ETS', 96.7117),\n",
              "  ('XGBoost', 126.8769)],\n",
              " 48: [('Prophet', 220.0691),\n",
              "  ('ARIMA', 34.0137),\n",
              "  ('ETS', 32.081),\n",
              "  ('XGBoost', 18.156)],\n",
              " 49: [('Prophet', 217.3156),\n",
              "  ('ARIMA', 261.3502),\n",
              "  ('ETS', 145.4782),\n",
              "  ('XGBoost', 221.025)],\n",
              " 50: [('Prophet', 219.7017),\n",
              "  ('ARIMA', 31.1969),\n",
              "  ('ETS', 63.9216),\n",
              "  ('XGBoost', 29.6914)],\n",
              " 51: [('Prophet', 129.3846),\n",
              "  ('ARIMA', 141.0355),\n",
              "  ('ETS', 132.8614),\n",
              "  ('XGBoost', 182.8071)],\n",
              " 52: [('Prophet', 203.7275),\n",
              "  ('ARIMA', 29.1903),\n",
              "  ('ETS', 43.5622),\n",
              "  ('XGBoost', 29.0372)],\n",
              " 53: [('Prophet', 142.8913),\n",
              "  ('ARIMA', 24.5573),\n",
              "  ('ETS', 37.1794),\n",
              "  ('XGBoost', 57.7015)],\n",
              " 54: [('Prophet', 171.0081),\n",
              "  ('ARIMA', 111.1425),\n",
              "  ('ETS', 124.9076),\n",
              "  ('XGBoost', 209.129)],\n",
              " 55: [('Prophet', 304.7494),\n",
              "  ('ARIMA', 76.706),\n",
              "  ('ETS', 69.4415),\n",
              "  ('XGBoost', 46.6206)],\n",
              " 56: [('Prophet', 92.8283),\n",
              "  ('ARIMA', 37.9483),\n",
              "  ('ETS', 198.0145),\n",
              "  ('XGBoost', 116.8449)],\n",
              " 57: [('Prophet', 178.3663),\n",
              "  ('ARIMA', 19.1994),\n",
              "  ('ETS', 65.1619),\n",
              "  ('XGBoost', 39.0725)],\n",
              " 58: [('Prophet', 96.182),\n",
              "  ('ARIMA', 122.8215),\n",
              "  ('ETS', 173.7423),\n",
              "  ('XGBoost', 272.1468)],\n",
              " 59: [('Prophet', 170.5183),\n",
              "  ('ARIMA', 14.7979),\n",
              "  ('ETS', 49.3807),\n",
              "  ('XGBoost', 40.6094)],\n",
              " 60: [('Prophet', 130.3827),\n",
              "  ('ARIMA', 18.713),\n",
              "  ('ETS', 65.5717),\n",
              "  ('XGBoost', 20.9437)],\n",
              " 61: [('Prophet', 192.2008),\n",
              "  ('ARIMA', 93.8669),\n",
              "  ('ETS', 146.396),\n",
              "  ('XGBoost', 155.1852)],\n",
              " 62: [('Prophet', 161.3113),\n",
              "  ('ARIMA', 21.1786),\n",
              "  ('ETS', 26.3832),\n",
              "  ('XGBoost', 33.3917)],\n",
              " 63: [('Prophet', 165.8911),\n",
              "  ('ARIMA', 83.4277),\n",
              "  ('ETS', 204.291),\n",
              "  ('XGBoost', 284.6451)],\n",
              " 64: [('Prophet', 142.8816),\n",
              "  ('ARIMA', 10.5454),\n",
              "  ('ETS', 24.7395),\n",
              "  ('XGBoost', 22.4409)],\n",
              " 65: [('Prophet', 404.0027),\n",
              "  ('ARIMA', 258.3126),\n",
              "  ('ETS', 413.577),\n",
              "  ('XGBoost', 459.0654)],\n",
              " 66: [('Prophet', 136.4274),\n",
              "  ('ARIMA', 26.8702),\n",
              "  ('ETS', 62.8743),\n",
              "  ('XGBoost', 42.3758)],\n",
              " 67: [('Prophet', 171.3976),\n",
              "  ('ARIMA', 14.8803),\n",
              "  ('ETS', 83.4589),\n",
              "  ('XGBoost', 1290.3662)],\n",
              " 68: [('Prophet', 191.2103),\n",
              "  ('ARIMA', 48.289),\n",
              "  ('ETS', 109.5165),\n",
              "  ('XGBoost', 170.9992)],\n",
              " 69: [('Prophet', 106.0598),\n",
              "  ('ARIMA', 17.9527),\n",
              "  ('ETS', 42.8189),\n",
              "  ('XGBoost', 33.0282)],\n",
              " 70: [('Prophet', 279.0041),\n",
              "  ('ARIMA', 139.0716),\n",
              "  ('ETS', 252.1148),\n",
              "  ('XGBoost', 318.1123)],\n",
              " 71: [('Prophet', 100.6345),\n",
              "  ('ARIMA', 16.3569),\n",
              "  ('ETS', 33.3161),\n",
              "  ('XGBoost', 25.1291)],\n",
              " 72: [('Prophet', 213.0074),\n",
              "  ('ARIMA', 31.1349),\n",
              "  ('ETS', 187.5519),\n",
              "  ('XGBoost', 158.0953)],\n",
              " 73: [('Prophet', 83.9028),\n",
              "  ('ARIMA', 7.1792),\n",
              "  ('ETS', 45.2014),\n",
              "  ('XGBoost', 27.8397)],\n",
              " 74: [('Prophet', 103.6535),\n",
              "  ('ARIMA', 19.9693),\n",
              "  ('ETS', 39.389),\n",
              "  ('XGBoost', 21.0306)],\n",
              " 75: [('Prophet', 217.4544),\n",
              "  ('ARIMA', 61.9085),\n",
              "  ('ETS', 128.8175),\n",
              "  ('XGBoost', 188.6874)],\n",
              " 76: [('Prophet', 75.0395),\n",
              "  ('ARIMA', 18.7969),\n",
              "  ('ETS', 19.9147),\n",
              "  ('XGBoost', 38.3382)],\n",
              " 77: [('Prophet', 232.7726),\n",
              "  ('ARIMA', 44.1018),\n",
              "  ('ETS', 127.2873),\n",
              "  ('XGBoost', 904.3773)],\n",
              " 78: [('Prophet', 75.1875),\n",
              "  ('ARIMA', 6.7245),\n",
              "  ('ETS', 41.9491),\n",
              "  ('XGBoost', 6.2451)],\n",
              " 79: [('Prophet', 274.7808),\n",
              "  ('ARIMA', 68.1954),\n",
              "  ('ETS', 181.8978),\n",
              "  ('XGBoost', 222.2073)],\n",
              " 80: [('Prophet', 71.7363),\n",
              "  ('ARIMA', 18.1779),\n",
              "  ('ETS', 29.0332),\n",
              "  ('XGBoost', 14.8801)],\n",
              " 81: [('Prophet', 101.6271),\n",
              "  ('ARIMA', 14.6879),\n",
              "  ('ETS', 39.1231),\n",
              "  ('XGBoost', 28.4904)],\n",
              " 82: [('Prophet', 246.8618),\n",
              "  ('ARIMA', 67.2411),\n",
              "  ('ETS', 137.12),\n",
              "  ('XGBoost', 135.6537)],\n",
              " 83: [('Prophet', 58.643),\n",
              "  ('ARIMA', 9.9822),\n",
              "  ('ETS', 22.9985),\n",
              "  ('XGBoost', 27.5085)],\n",
              " 84: [('Prophet', 214.5455),\n",
              "  ('ARIMA', 50.0221),\n",
              "  ('ETS', 236.3832),\n",
              "  ('XGBoost', 143.0663)],\n",
              " 85: [('Prophet', 56.5377),\n",
              "  ('ARIMA', 15.0784),\n",
              "  ('ETS', 43.3378),\n",
              "  ('XGBoost', 23.4344)],\n",
              " 86: [('Prophet', 197.3765),\n",
              "  ('ARIMA', 29.7925),\n",
              "  ('ETS', 94.0557),\n",
              "  ('XGBoost', 104.5121)],\n",
              " 87: [('Prophet', 65.3998),\n",
              "  ('ARIMA', 34.2909),\n",
              "  ('ETS', 53.2709),\n",
              "  ('XGBoost', 43.4909)],\n",
              " 88: [('Prophet', 80.2978),\n",
              "  ('ARIMA', 18.1888),\n",
              "  ('ETS', 43.1024),\n",
              "  ('XGBoost', 43.6184)],\n",
              " 89: [('Prophet', 223.3814),\n",
              "  ('ARIMA', 307.0274),\n",
              "  ('ETS', 247.8034),\n",
              "  ('XGBoost', 399.7895)],\n",
              " 90: [('Prophet', 49.268),\n",
              "  ('ARIMA', 25.882),\n",
              "  ('ETS', 41.3993),\n",
              "  ('XGBoost', 52.1686)],\n",
              " 91: [('Prophet', 251.355),\n",
              "  ('ARIMA', 42.482),\n",
              "  ('ETS', 127.6284),\n",
              "  ('XGBoost', 98.9677)],\n",
              " 92: [('Prophet', 49.6162),\n",
              "  ('ARIMA', 5.2481),\n",
              "  ('ETS', 34.9358),\n",
              "  ('XGBoost', 11.939)],\n",
              " 93: [('Prophet', 268.9803),\n",
              "  ('ARIMA', 62.0892),\n",
              "  ('ETS', 131.109),\n",
              "  ('XGBoost', 138.3496)],\n",
              " 94: [('Prophet', 49.9718),\n",
              "  ('ARIMA', 26.4129),\n",
              "  ('ETS', 51.6215),\n",
              "  ('XGBoost', 7.6568)],\n",
              " 95: [('Prophet', 85.265),\n",
              "  ('ARIMA', 9.1252),\n",
              "  ('ETS', 32.149),\n",
              "  ('XGBoost', 11.9916)],\n",
              " 96: [('Prophet', 146.4987),\n",
              "  ('ARIMA', 32.5533),\n",
              "  ('ETS', 101.9632),\n",
              "  ('XGBoost', 98.3323)],\n",
              " 97: [('Prophet', 46.448),\n",
              "  ('ARIMA', 12.8079),\n",
              "  ('ETS', 32.3449),\n",
              "  ('XGBoost', 78.1392)],\n",
              " 98: [('Prophet', 141.5138),\n",
              "  ('ARIMA', 24.5845),\n",
              "  ('ETS', 73.0988),\n",
              "  ('XGBoost', 188.2949)],\n",
              " 99: [('Prophet', 69.376),\n",
              "  ('ARIMA', 35.4857),\n",
              "  ('ETS', 56.1094),\n",
              "  ('XGBoost', 42.2546)],\n",
              " 100: [('Prophet', 189.6029),\n",
              "  ('ARIMA', 175.8448),\n",
              "  ('ETS', 268.4181),\n",
              "  ('XGBoost', 159.2578)],\n",
              " 101: [('Prophet', 27.5655),\n",
              "  ('ARIMA', 37.238),\n",
              "  ('ETS', 7.494),\n",
              "  ('XGBoost', 62.33)],\n",
              " 102: [('Prophet', 93.7337),\n",
              "  ('ARIMA', 23.2284),\n",
              "  ('ETS', 44.7331),\n",
              "  ('XGBoost', 19.5788)],\n",
              " 103: [('Prophet', 197.831),\n",
              "  ('ARIMA', 17.4603),\n",
              "  ('ETS', 107.1085),\n",
              "  ('XGBoost', 144.6301)],\n",
              " 104: [('Prophet', 38.2213),\n",
              "  ('ARIMA', 9.1909),\n",
              "  ('ETS', 25.6922),\n",
              "  ('XGBoost', 20.0357)],\n",
              " 105: [('Prophet', 433.3647),\n",
              "  ('ARIMA', 90.7216),\n",
              "  ('ETS', 267.7496),\n",
              "  ('XGBoost', 161.937)],\n",
              " 106: [('Prophet', 35.206),\n",
              "  ('ARIMA', 6.3336),\n",
              "  ('ETS', 41.6281),\n",
              "  ('XGBoost', 11.4677)],\n",
              " 107: [('Prophet', 212.521),\n",
              "  ('ARIMA', 14.0795),\n",
              "  ('ETS', 124.1032),\n",
              "  ('XGBoost', 214.6748)],\n",
              " 108: [('Prophet', 37.5937),\n",
              "  ('ARIMA', 13.0985),\n",
              "  ('ETS', 23.2677),\n",
              "  ('XGBoost', 54.4465)],\n",
              " 109: [('Prophet', 83.0677),\n",
              "  ('ARIMA', 13.6605),\n",
              "  ('ETS', 34.262),\n",
              "  ('XGBoost', 27.8447)],\n",
              " 110: [('Prophet', 410.97),\n",
              "  ('ARIMA', 90.7558),\n",
              "  ('ETS', 238.9017),\n",
              "  ('XGBoost', 276.9669)],\n",
              " 111: [('Prophet', 35.5309),\n",
              "  ('ARIMA', 1.9587),\n",
              "  ('ETS', 17.1711),\n",
              "  ('XGBoost', 26.6046)],\n",
              " 112: [('Prophet', 217.5964),\n",
              "  ('ARIMA', 23.1126),\n",
              "  ('ETS', 231.8321),\n",
              "  ('XGBoost', 103.2722)],\n",
              " 113: [('Prophet', 31.9666),\n",
              "  ('ARIMA', 9.6592),\n",
              "  ('ETS', 42.1828),\n",
              "  ('XGBoost', 15.2118)],\n",
              " 114: [('Prophet', 229.2135),\n",
              "  ('ARIMA', 41.448),\n",
              "  ('ETS', 143.6497),\n",
              "  ('XGBoost', 122.7482)],\n",
              " 115: [('Prophet', 34.6561),\n",
              "  ('ARIMA', 14.4218),\n",
              "  ('ETS', 40.7466),\n",
              "  ('XGBoost', 8.4006)],\n",
              " 116: [('Prophet', 71.0609),\n",
              "  ('ARIMA', 18.2661),\n",
              "  ('ETS', 43.0912),\n",
              "  ('XGBoost', 57.561)],\n",
              " 117: [('Prophet', 193.8941),\n",
              "  ('ARIMA', 112.6146),\n",
              "  ('ETS', 146.7567),\n",
              "  ('XGBoost', 288.0117)],\n",
              " 118: [('Prophet', 47.613),\n",
              "  ('ARIMA', 27.5219),\n",
              "  ('ETS', 45.4385),\n",
              "  ('XGBoost', 47.6871)],\n",
              " 119: [('Prophet', 193.6304),\n",
              "  ('ARIMA', 57.5669),\n",
              "  ('ETS', 161.1223),\n",
              "  ('XGBoost', 211.2664)],\n",
              " 120: [('Prophet', 42.1654),\n",
              "  ('ARIMA', 11.1221),\n",
              "  ('ETS', 30.8588),\n",
              "  ('XGBoost', 16.0445)],\n",
              " 121: [('Prophet', 194.4972),\n",
              "  ('ARIMA', 73.6028),\n",
              "  ('ETS', 136.2219),\n",
              "  ('XGBoost', 104.2245)],\n",
              " 122: [('Prophet', 35.4864),\n",
              "  ('ARIMA', 23.3545),\n",
              "  ('ETS', 37.0756),\n",
              "  ('XGBoost', 51.7258)],\n",
              " 123: [('Prophet', 91.8086),\n",
              "  ('ARIMA', 26.8448),\n",
              "  ('ETS', 56.6812),\n",
              "  ('XGBoost', 99.8772)],\n",
              " 124: [('Prophet', 141.4877),\n",
              "  ('ARIMA', 27.1895),\n",
              "  ('ETS', 98.8297),\n",
              "  ('XGBoost', 52.3817)],\n",
              " 125: [('Prophet', 33.2757),\n",
              "  ('ARIMA', 9.2299),\n",
              "  ('ETS', 29.1745),\n",
              "  ('XGBoost', 89.8627)],\n",
              " 126: [('Prophet', 157.3109),\n",
              "  ('ARIMA', 33.7079),\n",
              "  ('ETS', 111.4435),\n",
              "  ('XGBoost', 103.9132)],\n",
              " 127: [('Prophet', 40.7001),\n",
              "  ('ARIMA', 10.5822),\n",
              "  ('ETS', 34.4995),\n",
              "  ('XGBoost', 43.973)],\n",
              " 128: [('Prophet', 173.1408),\n",
              "  ('ARIMA', 47.562),\n",
              "  ('ETS', 158.7351),\n",
              "  ('XGBoost', 141.9406)],\n",
              " 129: [('Prophet', 54.8115),\n",
              "  ('ARIMA', 44.4237),\n",
              "  ('ETS', 64.6438),\n",
              "  ('XGBoost', 102.6798)],\n",
              " 130: [('Prophet', 83.4258),\n",
              "  ('ARIMA', 31.1403),\n",
              "  ('ETS', 51.4442),\n",
              "  ('XGBoost', 125.9335)],\n",
              " 131: [('Prophet', 99.3937),\n",
              "  ('ARIMA', 13.3702),\n",
              "  ('ETS', 67.2345),\n",
              "  ('XGBoost', 40.9191)],\n",
              " 132: [('Prophet', 36.6841),\n",
              "  ('ARIMA', 13.4935),\n",
              "  ('ETS', 10.1051),\n",
              "  ('XGBoost', 58.9268)],\n",
              " 133: [('Prophet', 174.5008),\n",
              "  ('ARIMA', 59.4504),\n",
              "  ('ETS', 121.8036),\n",
              "  ('XGBoost', 95.0243)],\n",
              " 134: [('Prophet', 119.4645),\n",
              "  ('ARIMA', 206.5086),\n",
              "  ('ETS', 126.7488),\n",
              "  ('XGBoost', 249.2689)],\n",
              " 135: [('Prophet', 135.8089),\n",
              "  ('ARIMA', 85.2255),\n",
              "  ('ETS', 57.6561),\n",
              "  ('XGBoost', 98.5403)],\n",
              " 136: [('Prophet', 37.1007),\n",
              "  ('ARIMA', 29.8711),\n",
              "  ('ETS', 44.0157),\n",
              "  ('XGBoost', 21.1543)],\n",
              " 137: [('Prophet', 67.5964),\n",
              "  ('ARIMA', 23.4431),\n",
              "  ('ETS', 35.2789),\n",
              "  ('XGBoost', 46.8969)],\n",
              " 138: [('Prophet', 115.7721),\n",
              "  ('ARIMA', 22.5138),\n",
              "  ('ETS', 88.7464),\n",
              "  ('XGBoost', 141.3766)],\n",
              " 139: [('Prophet', 38.0494),\n",
              "  ('ARIMA', 13.2263),\n",
              "  ('ETS', 18.7439),\n",
              "  ('XGBoost', 16.1129)],\n",
              " 140: [('Prophet', 141.5074),\n",
              "  ('ARIMA', 38.6105),\n",
              "  ('ETS', 145.6484),\n",
              "  ('XGBoost', 133.3353)],\n",
              " 141: [('Prophet', 47.9921),\n",
              "  ('ARIMA', 22.4474),\n",
              "  ('ETS', 52.7695),\n",
              "  ('XGBoost', 17.1453)],\n",
              " 142: [('Prophet', 106.969),\n",
              "  ('ARIMA', 65.2411),\n",
              "  ('ETS', 114.9113),\n",
              "  ('XGBoost', 96.8086)],\n",
              " 143: [('Prophet', 42.779),\n",
              "  ('ARIMA', 11.4558),\n",
              "  ('ETS', 29.2608),\n",
              "  ('XGBoost', 13.0667)],\n",
              " 144: [('Prophet', 61.5426),\n",
              "  ('ARIMA', 14.2627),\n",
              "  ('ETS', 39.6628),\n",
              "  ('XGBoost', 30.4301)],\n",
              " 145: [('Prophet', 89.4345),\n",
              "  ('ARIMA', 38.7553),\n",
              "  ('ETS', 79.9159),\n",
              "  ('XGBoost', 120.73)],\n",
              " 146: [('Prophet', 44.1409),\n",
              "  ('ARIMA', 4.5617),\n",
              "  ('ETS', 18.2488),\n",
              "  ('XGBoost', 17.5475)],\n",
              " 147: [('Prophet', 98.3567),\n",
              "  ('ARIMA', 33.7848),\n",
              "  ('ETS', 118.2715),\n",
              "  ('XGBoost', 140.8542)],\n",
              " 148: [('Prophet', 47.2879),\n",
              "  ('ARIMA', 5.3923),\n",
              "  ('ETS', 26.694),\n",
              "  ('XGBoost', 36.0146)],\n",
              " 149: [('Prophet', 87.8046),\n",
              "  ('ARIMA', 34.4824),\n",
              "  ('ETS', 94.0744),\n",
              "  ('XGBoost', 182.2041)],\n",
              " 150: [('Prophet', 44.9698),\n",
              "  ('ARIMA', 38.9863),\n",
              "  ('ETS', 53.9178),\n",
              "  ('XGBoost', 84.8101)],\n",
              " 151: [('Prophet', 68.1934),\n",
              "  ('ARIMA', 30.2627),\n",
              "  ('ETS', 55.8342),\n",
              "  ('XGBoost', 28.0049)],\n",
              " 152: [('Prophet', 94.6151),\n",
              "  ('ARIMA', 27.427),\n",
              "  ('ETS', 95.7445),\n",
              "  ('XGBoost', 104.091)],\n",
              " 153: [('Prophet', 36.2648),\n",
              "  ('ARIMA', 17.6492),\n",
              "  ('ETS', 16.7605),\n",
              "  ('XGBoost', 25.8619)],\n",
              " 154: [('Prophet', 95.6468),\n",
              "  ('ARIMA', 16.9179),\n",
              "  ('ETS', 102.2397),\n",
              "  ('XGBoost', 144.1306)],\n",
              " 155: [('Prophet', 43.8251),\n",
              "  ('ARIMA', 12.0389),\n",
              "  ('ETS', 31.6997),\n",
              "  ('XGBoost', 184.2998)],\n",
              " 156: [('Prophet', 67.3923),\n",
              "  ('ARIMA', 21.4464),\n",
              "  ('ETS', 96.4143),\n",
              "  ('XGBoost', 104.7546)],\n",
              " 157: [('Prophet', 37.756),\n",
              "  ('ARIMA', 8.6876),\n",
              "  ('ETS', 33.0403),\n",
              "  ('XGBoost', 111.7784)],\n",
              " 158: [('Prophet', 50.2585),\n",
              "  ('ARIMA', 16.5818),\n",
              "  ('ETS', 35.0542),\n",
              "  ('XGBoost', 238.7724)],\n",
              " 159: [('Prophet', 81.8046),\n",
              "  ('ARIMA', 19.8647),\n",
              "  ('ETS', 75.7801),\n",
              "  ('XGBoost', 33.1903)],\n",
              " 160: [('Prophet', 38.9311),\n",
              "  ('ARIMA', 9.3966),\n",
              "  ('ETS', 17.8563),\n",
              "  ('XGBoost', 31.0477)],\n",
              " 161: [('Prophet', 88.2789),\n",
              "  ('ARIMA', 41.9853),\n",
              "  ('ETS', 97.2776),\n",
              "  ('XGBoost', 87.1447)],\n",
              " 162: [('Prophet', 30.9927),\n",
              "  ('ARIMA', 9.8278),\n",
              "  ('ETS', 27.2679),\n",
              "  ('XGBoost', 8.5929)],\n",
              " 163: [('Prophet', 94.3476),\n",
              "  ('ARIMA', 25.0026),\n",
              "  ('ETS', 110.6536),\n",
              "  ('XGBoost', 117.3695)],\n",
              " 164: [('Prophet', 37.5703),\n",
              "  ('ARIMA', 19.9165),\n",
              "  ('ETS', 33.2486),\n",
              "  ('XGBoost', 63.7085)],\n",
              " 165: [('Prophet', 47.1463),\n",
              "  ('ARIMA', 12.7041),\n",
              "  ('ETS', 31.4828),\n",
              "  ('XGBoost', 122.2878)],\n",
              " 166: [('Prophet', 81.0233),\n",
              "  ('ARIMA', 36.8679),\n",
              "  ('ETS', 77.4097),\n",
              "  ('XGBoost', 118.3663)],\n",
              " 167: [('Prophet', 38.0096),\n",
              "  ('ARIMA', 12.0468),\n",
              "  ('ETS', 17.6786),\n",
              "  ('XGBoost', 28.8447)],\n",
              " 168: [('Prophet', 72.4332),\n",
              "  ('ARIMA', 35.1371),\n",
              "  ('ETS', 110.5488),\n",
              "  ('XGBoost', 100.9065)],\n",
              " 169: [('Prophet', 34.9039),\n",
              "  ('ARIMA', 5.2819),\n",
              "  ('ETS', 31.9969),\n",
              "  ('XGBoost', 12.4763)],\n",
              " 170: [('Prophet', 75.9171),\n",
              "  ('ARIMA', 36.9953),\n",
              "  ('ETS', 93.4163),\n",
              "  ('XGBoost', 132.2129)],\n",
              " 171: [('Prophet', 34.38),\n",
              "  ('ARIMA', 15.0917),\n",
              "  ('ETS', 29.8927),\n",
              "  ('XGBoost', 17.2576)],\n",
              " 172: [('Prophet', 45.8434),\n",
              "  ('ARIMA', 18.5339),\n",
              "  ('ETS', 38.1414),\n",
              "  ('XGBoost', 44.9153)],\n",
              " 173: [('Prophet', 88.8671),\n",
              "  ('ARIMA', 81.5935),\n",
              "  ('ETS', 92.7348),\n",
              "  ('XGBoost', 155.1306)],\n",
              " 174: [('Prophet', 29.8027),\n",
              "  ('ARIMA', 25.9523),\n",
              "  ('ETS', 37.3096),\n",
              "  ('XGBoost', 20.5564)],\n",
              " 175: [('Prophet', 71.8899),\n",
              "  ('ARIMA', 28.0967),\n",
              "  ('ETS', 76.3442),\n",
              "  ('XGBoost', 106.6467)],\n",
              " 176: [('Prophet', 29.5183),\n",
              "  ('ARIMA', 35.1093),\n",
              "  ('ETS', 28.8394),\n",
              "  ('XGBoost', 51.4056)],\n",
              " 177: [('Prophet', 71.1173),\n",
              "  ('ARIMA', 30.192),\n",
              "  ('ETS', 57.6757),\n",
              "  ('XGBoost', 93.3181)],\n",
              " 178: [('Prophet', 31.2176),\n",
              "  ('ARIMA', 27.3006),\n",
              "  ('ETS', 44.8747),\n",
              "  ('XGBoost', 9.5891)],\n",
              " 179: [('Prophet', 36.0105),\n",
              "  ('ARIMA', 8.9685),\n",
              "  ('ETS', 27.4892),\n",
              "  ('XGBoost', 49.4308)],\n",
              " 180: [('Prophet', 61.8653),\n",
              "  ('ARIMA', 28.171),\n",
              "  ('ETS', 64.1849),\n",
              "  ('XGBoost', 59.9044)],\n",
              " 181: [('Prophet', 25.386),\n",
              "  ('ARIMA', 8.7739),\n",
              "  ('ETS', 17.516),\n",
              "  ('XGBoost', 23.5545)],\n",
              " 182: [('Prophet', 74.0705),\n",
              "  ('ARIMA', 25.7774),\n",
              "  ('ETS', 92.4066),\n",
              "  ('XGBoost', 79.0716)],\n",
              " 183: [('Prophet', 20.349),\n",
              "  ('ARIMA', 12.9121),\n",
              "  ('ETS', 22.2117),\n",
              "  ('XGBoost', 12.8916)],\n",
              " 184: [('Prophet', 63.6103),\n",
              "  ('ARIMA', 13.9271),\n",
              "  ('ETS', 70.7915),\n",
              "  ('XGBoost', 72.7372)],\n",
              " 185: [('Prophet', 23.7453),\n",
              "  ('ARIMA', 10.1669),\n",
              "  ('ETS', 35.2346),\n",
              "  ('XGBoost', 20.2901)],\n",
              " 186: [('Prophet', 44.3286),\n",
              "  ('ARIMA', 25.5659),\n",
              "  ('ETS', 43.8224),\n",
              "  ('XGBoost', 18.6859)],\n",
              " 187: [('Prophet', 66.7247),\n",
              "  ('ARIMA', 33.1698),\n",
              "  ('ETS', 67.8166),\n",
              "  ('XGBoost', 146.2004)],\n",
              " 188: [('Prophet', 23.0665),\n",
              "  ('ARIMA', 24.3811),\n",
              "  ('ETS', 30.243),\n",
              "  ('XGBoost', 21.7611)],\n",
              " 189: [('Prophet', 86.3881),\n",
              "  ('ARIMA', 24.0284),\n",
              "  ('ETS', 86.0508),\n",
              "  ('XGBoost', 64.5297)],\n",
              " 190: [('Prophet', 32.3342),\n",
              "  ('ARIMA', 23.3842),\n",
              "  ('ETS', 46.5884),\n",
              "  ('XGBoost', 37.3203)],\n",
              " 191: [('Prophet', 50.1429),\n",
              "  ('ARIMA', 11.0896),\n",
              "  ('ETS', 62.5975),\n",
              "  ('XGBoost', 48.411)],\n",
              " 192: [('Prophet', 29.817),\n",
              "  ('ARIMA', 13.4004),\n",
              "  ('ETS', 27.2985),\n",
              "  ('XGBoost', 11.4315)],\n",
              " 193: [('Prophet', 39.5339),\n",
              "  ('ARIMA', 18.4204),\n",
              "  ('ETS', 30.9074),\n",
              "  ('XGBoost', 20.9833)],\n",
              " 194: [('Prophet', 45.0038),\n",
              "  ('ARIMA', 10.7272),\n",
              "  ('ETS', 48.3333),\n",
              "  ('XGBoost', 57.1623)],\n",
              " 195: [('Prophet', 44.1444),\n",
              "  ('ARIMA', 29.7253),\n",
              "  ('ETS', 41.4952),\n",
              "  ('XGBoost', 42.4474)],\n",
              " 196: [('Prophet', 35.3821),\n",
              "  ('ARIMA', 32.7827),\n",
              "  ('ETS', 69.0641),\n",
              "  ('XGBoost', 58.3656)],\n",
              " 197: [('Prophet', 44.9497),\n",
              "  ('ARIMA', 12.4498),\n",
              "  ('ETS', 32.0526),\n",
              "  ('XGBoost', 9.5594)],\n",
              " 198: [('Prophet', 345473.6148),\n",
              "  ('ARIMA', 337974.8431),\n",
              "  ('ETS', 506102.0268),\n",
              "  ('XGBoost', 252254.8934)],\n",
              " 199: [('Prophet', 8937577.7878),\n",
              "  ('ARIMA', 11086053.4454),\n",
              "  ('ETS', 8878404.2548),\n",
              "  ('XGBoost', 9604409.7159)]}"
            ]
          },
          "metadata": {},
          "execution_count": 12
        }
      ]
    },
    {
      "cell_type": "code",
      "source": [
        "results_df['Best Model'].value_counts()"
      ],
      "metadata": {
        "colab": {
          "base_uri": "https://localhost:8080/"
        },
        "id": "VXMbU5LzYtu7",
        "outputId": "b68f1fe7-7282-4ac5-c917-f32011e45c3e"
      },
      "execution_count": 14,
      "outputs": [
        {
          "output_type": "execute_result",
          "data": {
            "text/plain": [
              "ARIMA      140\n",
              "XGBoost     35\n",
              "ETS         14\n",
              "Prophet     11\n",
              "Name: Best Model, dtype: int64"
            ]
          },
          "metadata": {},
          "execution_count": 14
        }
      ]
    },
    {
      "cell_type": "markdown",
      "source": [
        "# **Data Generation for rest of the data for classification Model**"
      ],
      "metadata": {
        "id": "mG2SjwAomnIV"
      }
    },
    {
      "cell_type": "code",
      "source": [
        "from sklearn.model_selection import TimeSeriesSplit"
      ],
      "metadata": {
        "id": "0zj1lWkWuqhC"
      },
      "execution_count": 7,
      "outputs": []
    },
    {
      "cell_type": "code",
      "source": [
        "folder_path = [\"/content/drive/MyDrive/DGdataset/Sample Time Series/weekly/processed_weekly.csv\" ]\n",
        "temp = []\n",
        "\n",
        "for index , folder in enumerate(folder_path):\n",
        "\n",
        "  df = pd.read_csv(folder)\n",
        "  print(df.info())\n",
        "  df['date'] = pd.to_datetime(df['date'])\n",
        "  df.set_index(df['date'], inplace=True)\n",
        "  df.sort_index(inplace=True)\n",
        "  df.rename_axis('index',inplace=True)\n",
        "\n",
        "\n",
        "  n_splits = 75\n",
        "\n",
        "  tscv = TimeSeriesSplit(n_splits=n_splits)\n",
        "\n",
        "  X = df.drop(['value'], axis=1)\n",
        "  y = df['value']\n",
        "\n",
        "  results_df = pd.DataFrame(columns =[\n",
        "      'Sample Index',\n",
        "      'Mean',\n",
        "      'Variance',\n",
        "      'Skewness',\n",
        "      'Kurtosis',\n",
        "      'Trend Mean',\n",
        "      'Seasonal Mean',\n",
        "      'Residual Mean',\n",
        "      'Best Model',\n",
        "  ])\n",
        "  track_log = {}\n",
        "\n",
        "  for start_index, (train_index, test_index) in enumerate(tscv.split(X)):\n",
        "      X_train, X_test = X.iloc[train_index], X.iloc[test_index]\n",
        "      y_train, y_test = y[train_index], y[test_index]\n",
        "\n",
        "      sample_df = pd.concat([X_train, y_train], axis=1)\n",
        "\n",
        "\n",
        "      mape_prophet = calculate_mape(y_test, forecast_prophet(sample_df , forecast_period = len(X_test))[-len(X_test):] )\n",
        "      mape_auto_arima = calculate_mape(y_test, forecast_autoarima(sample_df, forecast_period = len(X_test))[-len(X_test):])\n",
        "      mape_ets = calculate_mape(y_test, forecast_ets(sample_df , forecast_period = len(X_test))[-len(X_test):])\n",
        "      mape_xgboost = calculate_mape(y_test, forecast_xgboost(sample_df ,  forecast_period = len(X_test) , date_to = X_test['date'][0])[-len(X_test):])\n",
        "\n",
        "\n",
        "      res = [\n",
        "          ('Prophet', mape_prophet),\n",
        "          ('ARIMA', mape_auto_arima),\n",
        "          ('ETS', mape_ets),\n",
        "          ('XGBoost', mape_xgboost),\n",
        "      ]\n",
        "\n",
        "      track_log[start_index] = res\n",
        "      best_model = min(res, key=lambda x: x[1])[0]\n",
        "\n",
        "      # Calculate statistical features\n",
        "      mean = sample_df['value'].mean()\n",
        "      variance = sample_df['value'].var()\n",
        "      skewness = skew(sample_df['value'])\n",
        "      kurt = kurtosis(sample_df['value'])\n",
        "\n",
        "      # Calculate time-based features\n",
        "      try:\n",
        "          result = seasonal_decompose(\n",
        "              sample_df[\"value\"], model=\"additive\", extrapolate_trend=\"freq\"\n",
        "          )\n",
        "          trend_mean = result.trend.mean()\n",
        "          seasonal_mean = result.seasonal.mean()\n",
        "          residual_mean = result.resid.mean()\n",
        "      except:\n",
        "          result = seasonal_decompose(\n",
        "              sample_df[\"value\"], model=\"additive\", extrapolate_trend=\"freq\", period=1\n",
        "          )\n",
        "          trend_mean = result.trend.mean()\n",
        "          seasonal_mean = result.seasonal.mean()\n",
        "          residual_mean = result.resid.mean()\n",
        "\n",
        "\n",
        "      result_dict = {\n",
        "            'Sample Index': start_index,\n",
        "            'Mean': mean,\n",
        "            'Variance': variance,\n",
        "            'Skewness': skewness,\n",
        "            'Kurtosis': kurt,\n",
        "            'Trend Mean': trend_mean,\n",
        "            'Seasonal Mean': seasonal_mean,\n",
        "            'Residual Mean': residual_mean,\n",
        "            'Best Model': best_model,\n",
        "        }\n",
        "\n",
        "      results_df = results_df.append(result_dict, ignore_index=True)\n",
        "\n",
        "      print(\"+++++++++++++++++++++++++++++++++++++++++++++++++++++++++++++++++++++++++++++++++++++++\" , res)\n",
        "      print(\"+++++++++++++++++++++++++++++++++++++++++++++++++++++++++++++++++++++++++++++++++++++++\" , best_model , start_index , len(X_train) ,len(X_test))\n",
        "\n",
        "  temp.append(track_log)\n",
        "  if \"hourly\" in folder:\n",
        "    print(\"+++++++++++++++++++++++++++++++++++++++++++++++++++++++++++++++++++++++++++++++++++++++hourly\")\n",
        "    print(results_df['Best Model'].value_counts())\n",
        "\n",
        "    results_df.to_csv('/content/drive/MyDrive/DGdataset/Sample Time Series/hourly/classification_attempt_1.csv')\n",
        "\n",
        "  if \"weekly\" in folder:\n",
        "    print(\"+++++++++++++++++++++++++++++++++++++++++++++++++++++++++++++++++++++++++++++++++++++++weekly\")\n",
        "    print(results_df['Best Model'].value_counts())\n",
        "\n",
        "    results_df.to_csv('/content/drive/MyDrive/DGdataset/Sample Time Series/weekly/classification_attempt_1.csv')\n",
        "\n",
        "  if \"monthly\" in folder:\n",
        "    print(\"+++++++++++++++++++++++++++++++++++++++++++++++++++++++++++++++++++++++++++++++++++++++monthly\")\n",
        "    print(results_df['Best Model'].value_counts())\n",
        "\n",
        "    results_df.to_csv('/content/drive/MyDrive/DGdataset/Sample Time Series/monthly/classification_attempt_1.csv')\n",
        "\n"
      ],
      "metadata": {
        "colab": {
          "base_uri": "https://localhost:8080/"
        },
        "outputId": "76d69ae1-b387-47a8-ddba-10f31cd980c2",
        "id": "fAWVGMLbmnIW"
      },
      "execution_count": 14,
      "outputs": [
        {
          "output_type": "stream",
          "name": "stderr",
          "text": [
            "INFO:prophet:Disabling yearly seasonality. Run prophet with yearly_seasonality=True to override this.\n",
            "INFO:prophet:Disabling weekly seasonality. Run prophet with weekly_seasonality=True to override this.\n",
            "INFO:prophet:Disabling daily seasonality. Run prophet with daily_seasonality=True to override this.\n",
            "INFO:prophet:n_changepoints greater than number of observations. Using 2.\n"
          ]
        },
        {
          "output_type": "stream",
          "name": "stdout",
          "text": [
            "<class 'pandas.core.frame.DataFrame'>\n",
            "RangeIndex: 79 entries, 0 to 78\n",
            "Data columns (total 2 columns):\n",
            " #   Column  Non-Null Count  Dtype  \n",
            "---  ------  --------------  -----  \n",
            " 0   date    79 non-null     object \n",
            " 1   value   79 non-null     float64\n",
            "dtypes: float64(1), object(1)\n",
            "memory usage: 1.4+ KB\n",
            "None\n"
          ]
        },
        {
          "output_type": "stream",
          "name": "stderr",
          "text": [
            "DEBUG:cmdstanpy:input tempfile: /tmp/tmpz20i81ve/dxg3_bip.json\n",
            "DEBUG:cmdstanpy:input tempfile: /tmp/tmpz20i81ve/79lpz4ai.json\n",
            "DEBUG:cmdstanpy:idx 0\n",
            "DEBUG:cmdstanpy:running CmdStan, num_threads: None\n",
            "DEBUG:cmdstanpy:CmdStan args: ['/usr/local/lib/python3.10/dist-packages/prophet/stan_model/prophet_model.bin', 'random', 'seed=90773', 'data', 'file=/tmp/tmpz20i81ve/dxg3_bip.json', 'init=/tmp/tmpz20i81ve/79lpz4ai.json', 'output', 'file=/tmp/tmpz20i81ve/prophet_modelo5omjvh5/prophet_model-20231001111742.csv', 'method=optimize', 'algorithm=newton', 'iter=10000']\n",
            "11:17:42 - cmdstanpy - INFO - Chain [1] start processing\n",
            "INFO:cmdstanpy:Chain [1] start processing\n",
            "11:17:42 - cmdstanpy - INFO - Chain [1] done processing\n",
            "INFO:cmdstanpy:Chain [1] done processing\n",
            "/usr/local/lib/python3.10/dist-packages/statsmodels/tsa/base/tsa_model.py:473: ValueWarning: No frequency information was provided, so inferred frequency W-MON will be used.\n",
            "  self._init_dates(dates, freq)\n",
            "/usr/local/lib/python3.10/dist-packages/statsmodels/tsa/base/tsa_model.py:473: ValueWarning: No frequency information was provided, so inferred frequency W-MON will be used.\n",
            "  self._init_dates(dates, freq)\n",
            "<ipython-input-14-94b3a4e46828>:89: FutureWarning: The frame.append method is deprecated and will be removed from pandas in a future version. Use pandas.concat instead.\n",
            "  results_df = results_df.append(result_dict, ignore_index=True)\n",
            "INFO:prophet:Disabling yearly seasonality. Run prophet with yearly_seasonality=True to override this.\n",
            "INFO:prophet:Disabling weekly seasonality. Run prophet with weekly_seasonality=True to override this.\n",
            "INFO:prophet:Disabling daily seasonality. Run prophet with daily_seasonality=True to override this.\n",
            "INFO:prophet:n_changepoints greater than number of observations. Using 3.\n",
            "DEBUG:cmdstanpy:input tempfile: /tmp/tmpz20i81ve/jhwm34p4.json\n",
            "DEBUG:cmdstanpy:input tempfile: /tmp/tmpz20i81ve/me6j6km8.json\n",
            "DEBUG:cmdstanpy:idx 0\n",
            "DEBUG:cmdstanpy:running CmdStan, num_threads: None\n",
            "DEBUG:cmdstanpy:CmdStan args: ['/usr/local/lib/python3.10/dist-packages/prophet/stan_model/prophet_model.bin', 'random', 'seed=53381', 'data', 'file=/tmp/tmpz20i81ve/jhwm34p4.json', 'init=/tmp/tmpz20i81ve/me6j6km8.json', 'output', 'file=/tmp/tmpz20i81ve/prophet_model19ioisg1/prophet_model-20231001111744.csv', 'method=optimize', 'algorithm=newton', 'iter=10000']\n",
            "11:17:44 - cmdstanpy - INFO - Chain [1] start processing\n",
            "INFO:cmdstanpy:Chain [1] start processing\n"
          ]
        },
        {
          "output_type": "stream",
          "name": "stdout",
          "text": [
            "+++++++++++++++++++++++++++++++++++++++++++++++++++++++++++++++++++++++++++++++++++++++ [('Prophet', 11.0062), ('ARIMA', 9.3276), ('ETS', 9.0695), ('XGBoost', 8.7394)]\n",
            "+++++++++++++++++++++++++++++++++++++++++++++++++++++++++++++++++++++++++++++++++++++++ XGBoost 0 4 1\n"
          ]
        },
        {
          "output_type": "stream",
          "name": "stderr",
          "text": [
            "11:17:44 - cmdstanpy - INFO - Chain [1] done processing\n",
            "INFO:cmdstanpy:Chain [1] done processing\n",
            "/usr/local/lib/python3.10/dist-packages/statsmodels/tsa/base/tsa_model.py:473: ValueWarning: No frequency information was provided, so inferred frequency W-MON will be used.\n",
            "  self._init_dates(dates, freq)\n",
            "/usr/local/lib/python3.10/dist-packages/statsmodels/tsa/base/tsa_model.py:473: ValueWarning: No frequency information was provided, so inferred frequency W-MON will be used.\n",
            "  self._init_dates(dates, freq)\n",
            "/usr/local/lib/python3.10/dist-packages/statsmodels/tsa/holtwinters/model.py:917: ConvergenceWarning: Optimization failed to converge. Check mle_retvals.\n",
            "  warnings.warn(\n",
            "<ipython-input-14-94b3a4e46828>:89: FutureWarning: The frame.append method is deprecated and will be removed from pandas in a future version. Use pandas.concat instead.\n",
            "  results_df = results_df.append(result_dict, ignore_index=True)\n",
            "INFO:prophet:Disabling yearly seasonality. Run prophet with yearly_seasonality=True to override this.\n",
            "INFO:prophet:Disabling weekly seasonality. Run prophet with weekly_seasonality=True to override this.\n",
            "INFO:prophet:Disabling daily seasonality. Run prophet with daily_seasonality=True to override this.\n",
            "INFO:prophet:n_changepoints greater than number of observations. Using 3.\n",
            "DEBUG:cmdstanpy:input tempfile: /tmp/tmpz20i81ve/vbrjn01h.json\n",
            "DEBUG:cmdstanpy:input tempfile: /tmp/tmpz20i81ve/9etj0tfw.json\n",
            "DEBUG:cmdstanpy:idx 0\n",
            "DEBUG:cmdstanpy:running CmdStan, num_threads: None\n",
            "DEBUG:cmdstanpy:CmdStan args: ['/usr/local/lib/python3.10/dist-packages/prophet/stan_model/prophet_model.bin', 'random', 'seed=52615', 'data', 'file=/tmp/tmpz20i81ve/vbrjn01h.json', 'init=/tmp/tmpz20i81ve/9etj0tfw.json', 'output', 'file=/tmp/tmpz20i81ve/prophet_modelzf462gpx/prophet_model-20231001111746.csv', 'method=optimize', 'algorithm=newton', 'iter=10000']\n",
            "11:17:46 - cmdstanpy - INFO - Chain [1] start processing\n",
            "INFO:cmdstanpy:Chain [1] start processing\n",
            "11:17:46 - cmdstanpy - INFO - Chain [1] done processing\n",
            "INFO:cmdstanpy:Chain [1] done processing\n"
          ]
        },
        {
          "output_type": "stream",
          "name": "stdout",
          "text": [
            "+++++++++++++++++++++++++++++++++++++++++++++++++++++++++++++++++++++++++++++++++++++++ [('Prophet', 4.8666), ('ARIMA', 2.2163), ('ETS', 4.134), ('XGBoost', 0.054)]\n",
            "+++++++++++++++++++++++++++++++++++++++++++++++++++++++++++++++++++++++++++++++++++++++ XGBoost 1 5 1\n"
          ]
        },
        {
          "output_type": "stream",
          "name": "stderr",
          "text": [
            "/usr/local/lib/python3.10/dist-packages/statsmodels/tsa/base/tsa_model.py:473: ValueWarning: No frequency information was provided, so inferred frequency W-MON will be used.\n",
            "  self._init_dates(dates, freq)\n",
            "/usr/local/lib/python3.10/dist-packages/statsmodels/tsa/base/tsa_model.py:473: ValueWarning: No frequency information was provided, so inferred frequency W-MON will be used.\n",
            "  self._init_dates(dates, freq)\n",
            "/usr/local/lib/python3.10/dist-packages/statsmodels/tsa/holtwinters/model.py:917: ConvergenceWarning: Optimization failed to converge. Check mle_retvals.\n",
            "  warnings.warn(\n",
            "<ipython-input-14-94b3a4e46828>:89: FutureWarning: The frame.append method is deprecated and will be removed from pandas in a future version. Use pandas.concat instead.\n",
            "  results_df = results_df.append(result_dict, ignore_index=True)\n",
            "INFO:prophet:Disabling yearly seasonality. Run prophet with yearly_seasonality=True to override this.\n",
            "INFO:prophet:Disabling weekly seasonality. Run prophet with weekly_seasonality=True to override this.\n",
            "INFO:prophet:Disabling daily seasonality. Run prophet with daily_seasonality=True to override this.\n",
            "INFO:prophet:n_changepoints greater than number of observations. Using 4.\n",
            "DEBUG:cmdstanpy:input tempfile: /tmp/tmpz20i81ve/85u0gwdp.json\n",
            "DEBUG:cmdstanpy:input tempfile: /tmp/tmpz20i81ve/m38lin3d.json\n",
            "DEBUG:cmdstanpy:idx 0\n",
            "DEBUG:cmdstanpy:running CmdStan, num_threads: None\n",
            "DEBUG:cmdstanpy:CmdStan args: ['/usr/local/lib/python3.10/dist-packages/prophet/stan_model/prophet_model.bin', 'random', 'seed=1848', 'data', 'file=/tmp/tmpz20i81ve/85u0gwdp.json', 'init=/tmp/tmpz20i81ve/m38lin3d.json', 'output', 'file=/tmp/tmpz20i81ve/prophet_modelbpsxikw2/prophet_model-20231001111747.csv', 'method=optimize', 'algorithm=newton', 'iter=10000']\n",
            "11:17:47 - cmdstanpy - INFO - Chain [1] start processing\n",
            "INFO:cmdstanpy:Chain [1] start processing\n",
            "11:17:47 - cmdstanpy - INFO - Chain [1] done processing\n",
            "INFO:cmdstanpy:Chain [1] done processing\n"
          ]
        },
        {
          "output_type": "stream",
          "name": "stdout",
          "text": [
            "+++++++++++++++++++++++++++++++++++++++++++++++++++++++++++++++++++++++++++++++++++++++ [('Prophet', 1.1517), ('ARIMA', 0.1028), ('ETS', 1.5376), ('XGBoost', 3.2329)]\n",
            "+++++++++++++++++++++++++++++++++++++++++++++++++++++++++++++++++++++++++++++++++++++++ ARIMA 2 6 1\n"
          ]
        },
        {
          "output_type": "stream",
          "name": "stderr",
          "text": [
            "/usr/local/lib/python3.10/dist-packages/statsmodels/tsa/base/tsa_model.py:473: ValueWarning: No frequency information was provided, so inferred frequency W-MON will be used.\n",
            "  self._init_dates(dates, freq)\n",
            "/usr/local/lib/python3.10/dist-packages/statsmodels/tsa/base/tsa_model.py:473: ValueWarning: No frequency information was provided, so inferred frequency W-MON will be used.\n",
            "  self._init_dates(dates, freq)\n",
            "/usr/local/lib/python3.10/dist-packages/statsmodels/tsa/holtwinters/model.py:917: ConvergenceWarning: Optimization failed to converge. Check mle_retvals.\n",
            "  warnings.warn(\n",
            "<ipython-input-14-94b3a4e46828>:89: FutureWarning: The frame.append method is deprecated and will be removed from pandas in a future version. Use pandas.concat instead.\n",
            "  results_df = results_df.append(result_dict, ignore_index=True)\n",
            "INFO:prophet:Disabling yearly seasonality. Run prophet with yearly_seasonality=True to override this.\n",
            "INFO:prophet:Disabling weekly seasonality. Run prophet with weekly_seasonality=True to override this.\n",
            "INFO:prophet:Disabling daily seasonality. Run prophet with daily_seasonality=True to override this.\n",
            "INFO:prophet:n_changepoints greater than number of observations. Using 5.\n",
            "DEBUG:cmdstanpy:input tempfile: /tmp/tmpz20i81ve/imbgeog1.json\n",
            "DEBUG:cmdstanpy:input tempfile: /tmp/tmpz20i81ve/r_h5z6ob.json\n",
            "DEBUG:cmdstanpy:idx 0\n",
            "DEBUG:cmdstanpy:running CmdStan, num_threads: None\n",
            "DEBUG:cmdstanpy:CmdStan args: ['/usr/local/lib/python3.10/dist-packages/prophet/stan_model/prophet_model.bin', 'random', 'seed=88432', 'data', 'file=/tmp/tmpz20i81ve/imbgeog1.json', 'init=/tmp/tmpz20i81ve/r_h5z6ob.json', 'output', 'file=/tmp/tmpz20i81ve/prophet_model4u7u5e66/prophet_model-20231001111748.csv', 'method=optimize', 'algorithm=newton', 'iter=10000']\n",
            "11:17:48 - cmdstanpy - INFO - Chain [1] start processing\n",
            "INFO:cmdstanpy:Chain [1] start processing\n",
            "11:17:48 - cmdstanpy - INFO - Chain [1] done processing\n",
            "INFO:cmdstanpy:Chain [1] done processing\n"
          ]
        },
        {
          "output_type": "stream",
          "name": "stdout",
          "text": [
            "+++++++++++++++++++++++++++++++++++++++++++++++++++++++++++++++++++++++++++++++++++++++ [('Prophet', 32.3899), ('ARIMA', 31.8824), ('ETS', 32.5961), ('XGBoost', 31.3423)]\n",
            "+++++++++++++++++++++++++++++++++++++++++++++++++++++++++++++++++++++++++++++++++++++++ XGBoost 3 7 1\n"
          ]
        },
        {
          "output_type": "stream",
          "name": "stderr",
          "text": [
            "/usr/local/lib/python3.10/dist-packages/statsmodels/tsa/base/tsa_model.py:473: ValueWarning: No frequency information was provided, so inferred frequency W-MON will be used.\n",
            "  self._init_dates(dates, freq)\n",
            "/usr/local/lib/python3.10/dist-packages/statsmodels/tsa/base/tsa_model.py:473: ValueWarning: No frequency information was provided, so inferred frequency W-MON will be used.\n",
            "  self._init_dates(dates, freq)\n",
            "/usr/local/lib/python3.10/dist-packages/statsmodels/tsa/holtwinters/model.py:917: ConvergenceWarning: Optimization failed to converge. Check mle_retvals.\n",
            "  warnings.warn(\n",
            "<ipython-input-14-94b3a4e46828>:89: FutureWarning: The frame.append method is deprecated and will be removed from pandas in a future version. Use pandas.concat instead.\n",
            "  results_df = results_df.append(result_dict, ignore_index=True)\n",
            "INFO:prophet:Disabling yearly seasonality. Run prophet with yearly_seasonality=True to override this.\n",
            "INFO:prophet:Disabling weekly seasonality. Run prophet with weekly_seasonality=True to override this.\n",
            "INFO:prophet:Disabling daily seasonality. Run prophet with daily_seasonality=True to override this.\n",
            "INFO:prophet:n_changepoints greater than number of observations. Using 6.\n",
            "DEBUG:cmdstanpy:input tempfile: /tmp/tmpz20i81ve/zq3in0_a.json\n",
            "DEBUG:cmdstanpy:input tempfile: /tmp/tmpz20i81ve/5vw_v8xc.json\n",
            "DEBUG:cmdstanpy:idx 0\n",
            "DEBUG:cmdstanpy:running CmdStan, num_threads: None\n",
            "DEBUG:cmdstanpy:CmdStan args: ['/usr/local/lib/python3.10/dist-packages/prophet/stan_model/prophet_model.bin', 'random', 'seed=54350', 'data', 'file=/tmp/tmpz20i81ve/zq3in0_a.json', 'init=/tmp/tmpz20i81ve/5vw_v8xc.json', 'output', 'file=/tmp/tmpz20i81ve/prophet_model4ddz673e/prophet_model-20231001111750.csv', 'method=optimize', 'algorithm=newton', 'iter=10000']\n",
            "11:17:50 - cmdstanpy - INFO - Chain [1] start processing\n",
            "INFO:cmdstanpy:Chain [1] start processing\n",
            "11:17:50 - cmdstanpy - INFO - Chain [1] done processing\n",
            "INFO:cmdstanpy:Chain [1] done processing\n"
          ]
        },
        {
          "output_type": "stream",
          "name": "stdout",
          "text": [
            "+++++++++++++++++++++++++++++++++++++++++++++++++++++++++++++++++++++++++++++++++++++++ [('Prophet', 45.0684), ('ARIMA', 51.3381), ('ETS', 37.56), ('XGBoost', 33.3411)]\n",
            "+++++++++++++++++++++++++++++++++++++++++++++++++++++++++++++++++++++++++++++++++++++++ XGBoost 4 8 1\n"
          ]
        },
        {
          "output_type": "stream",
          "name": "stderr",
          "text": [
            "/usr/local/lib/python3.10/dist-packages/statsmodels/tsa/base/tsa_model.py:473: ValueWarning: No frequency information was provided, so inferred frequency W-MON will be used.\n",
            "  self._init_dates(dates, freq)\n",
            "/usr/local/lib/python3.10/dist-packages/statsmodels/tsa/base/tsa_model.py:473: ValueWarning: No frequency information was provided, so inferred frequency W-MON will be used.\n",
            "  self._init_dates(dates, freq)\n",
            "/usr/local/lib/python3.10/dist-packages/statsmodels/tsa/holtwinters/model.py:917: ConvergenceWarning: Optimization failed to converge. Check mle_retvals.\n",
            "  warnings.warn(\n",
            "<ipython-input-14-94b3a4e46828>:89: FutureWarning: The frame.append method is deprecated and will be removed from pandas in a future version. Use pandas.concat instead.\n",
            "  results_df = results_df.append(result_dict, ignore_index=True)\n",
            "INFO:prophet:Disabling yearly seasonality. Run prophet with yearly_seasonality=True to override this.\n",
            "INFO:prophet:Disabling weekly seasonality. Run prophet with weekly_seasonality=True to override this.\n",
            "INFO:prophet:Disabling daily seasonality. Run prophet with daily_seasonality=True to override this.\n",
            "INFO:prophet:n_changepoints greater than number of observations. Using 7.\n",
            "DEBUG:cmdstanpy:input tempfile: /tmp/tmpz20i81ve/tijume0d.json\n",
            "DEBUG:cmdstanpy:input tempfile: /tmp/tmpz20i81ve/ms1w2mzd.json\n",
            "DEBUG:cmdstanpy:idx 0\n",
            "DEBUG:cmdstanpy:running CmdStan, num_threads: None\n",
            "DEBUG:cmdstanpy:CmdStan args: ['/usr/local/lib/python3.10/dist-packages/prophet/stan_model/prophet_model.bin', 'random', 'seed=99502', 'data', 'file=/tmp/tmpz20i81ve/tijume0d.json', 'init=/tmp/tmpz20i81ve/ms1w2mzd.json', 'output', 'file=/tmp/tmpz20i81ve/prophet_model5evhp5w0/prophet_model-20231001111751.csv', 'method=optimize', 'algorithm=newton', 'iter=10000']\n",
            "11:17:51 - cmdstanpy - INFO - Chain [1] start processing\n",
            "INFO:cmdstanpy:Chain [1] start processing\n",
            "11:17:51 - cmdstanpy - INFO - Chain [1] done processing\n",
            "INFO:cmdstanpy:Chain [1] done processing\n"
          ]
        },
        {
          "output_type": "stream",
          "name": "stdout",
          "text": [
            "+++++++++++++++++++++++++++++++++++++++++++++++++++++++++++++++++++++++++++++++++++++++ [('Prophet', 23.2615), ('ARIMA', 14.7365), ('ETS', 4.2008), ('XGBoost', 4.4068)]\n",
            "+++++++++++++++++++++++++++++++++++++++++++++++++++++++++++++++++++++++++++++++++++++++ ETS 5 9 1\n"
          ]
        },
        {
          "output_type": "stream",
          "name": "stderr",
          "text": [
            "/usr/local/lib/python3.10/dist-packages/statsmodels/tsa/base/tsa_model.py:473: ValueWarning: No frequency information was provided, so inferred frequency W-MON will be used.\n",
            "  self._init_dates(dates, freq)\n",
            "/usr/local/lib/python3.10/dist-packages/statsmodels/tsa/base/tsa_model.py:473: ValueWarning: No frequency information was provided, so inferred frequency W-MON will be used.\n",
            "  self._init_dates(dates, freq)\n",
            "/usr/local/lib/python3.10/dist-packages/statsmodels/tsa/holtwinters/model.py:917: ConvergenceWarning: Optimization failed to converge. Check mle_retvals.\n",
            "  warnings.warn(\n",
            "<ipython-input-14-94b3a4e46828>:89: FutureWarning: The frame.append method is deprecated and will be removed from pandas in a future version. Use pandas.concat instead.\n",
            "  results_df = results_df.append(result_dict, ignore_index=True)\n",
            "INFO:prophet:Disabling yearly seasonality. Run prophet with yearly_seasonality=True to override this.\n",
            "INFO:prophet:Disabling weekly seasonality. Run prophet with weekly_seasonality=True to override this.\n",
            "INFO:prophet:Disabling daily seasonality. Run prophet with daily_seasonality=True to override this.\n",
            "INFO:prophet:n_changepoints greater than number of observations. Using 7.\n",
            "DEBUG:cmdstanpy:input tempfile: /tmp/tmpz20i81ve/zq0eryh2.json\n",
            "DEBUG:cmdstanpy:input tempfile: /tmp/tmpz20i81ve/sfv2lr9z.json\n",
            "DEBUG:cmdstanpy:idx 0\n",
            "DEBUG:cmdstanpy:running CmdStan, num_threads: None\n",
            "DEBUG:cmdstanpy:CmdStan args: ['/usr/local/lib/python3.10/dist-packages/prophet/stan_model/prophet_model.bin', 'random', 'seed=84622', 'data', 'file=/tmp/tmpz20i81ve/zq0eryh2.json', 'init=/tmp/tmpz20i81ve/sfv2lr9z.json', 'output', 'file=/tmp/tmpz20i81ve/prophet_modelbnn5s0l9/prophet_model-20231001111753.csv', 'method=optimize', 'algorithm=newton', 'iter=10000']\n",
            "11:17:53 - cmdstanpy - INFO - Chain [1] start processing\n",
            "INFO:cmdstanpy:Chain [1] start processing\n",
            "11:17:53 - cmdstanpy - INFO - Chain [1] done processing\n",
            "INFO:cmdstanpy:Chain [1] done processing\n"
          ]
        },
        {
          "output_type": "stream",
          "name": "stdout",
          "text": [
            "+++++++++++++++++++++++++++++++++++++++++++++++++++++++++++++++++++++++++++++++++++++++ [('Prophet', 14.8259), ('ARIMA', 26.3541), ('ETS', 30.0793), ('XGBoost', 29.9187)]\n",
            "+++++++++++++++++++++++++++++++++++++++++++++++++++++++++++++++++++++++++++++++++++++++ Prophet 6 10 1\n"
          ]
        },
        {
          "output_type": "stream",
          "name": "stderr",
          "text": [
            "/usr/local/lib/python3.10/dist-packages/statsmodels/tsa/base/tsa_model.py:473: ValueWarning: No frequency information was provided, so inferred frequency W-MON will be used.\n",
            "  self._init_dates(dates, freq)\n",
            "/usr/local/lib/python3.10/dist-packages/statsmodels/tsa/base/tsa_model.py:473: ValueWarning: No frequency information was provided, so inferred frequency W-MON will be used.\n",
            "  self._init_dates(dates, freq)\n",
            "/usr/local/lib/python3.10/dist-packages/statsmodels/tsa/holtwinters/model.py:917: ConvergenceWarning: Optimization failed to converge. Check mle_retvals.\n",
            "  warnings.warn(\n",
            "<ipython-input-14-94b3a4e46828>:89: FutureWarning: The frame.append method is deprecated and will be removed from pandas in a future version. Use pandas.concat instead.\n",
            "  results_df = results_df.append(result_dict, ignore_index=True)\n",
            "INFO:prophet:Disabling yearly seasonality. Run prophet with yearly_seasonality=True to override this.\n",
            "INFO:prophet:Disabling weekly seasonality. Run prophet with weekly_seasonality=True to override this.\n",
            "INFO:prophet:Disabling daily seasonality. Run prophet with daily_seasonality=True to override this.\n",
            "INFO:prophet:n_changepoints greater than number of observations. Using 8.\n",
            "DEBUG:cmdstanpy:input tempfile: /tmp/tmpz20i81ve/un9u73ik.json\n",
            "DEBUG:cmdstanpy:input tempfile: /tmp/tmpz20i81ve/751vw02c.json\n",
            "DEBUG:cmdstanpy:idx 0\n",
            "DEBUG:cmdstanpy:running CmdStan, num_threads: None\n",
            "DEBUG:cmdstanpy:CmdStan args: ['/usr/local/lib/python3.10/dist-packages/prophet/stan_model/prophet_model.bin', 'random', 'seed=37247', 'data', 'file=/tmp/tmpz20i81ve/un9u73ik.json', 'init=/tmp/tmpz20i81ve/751vw02c.json', 'output', 'file=/tmp/tmpz20i81ve/prophet_modelr_59qxgc/prophet_model-20231001111754.csv', 'method=optimize', 'algorithm=newton', 'iter=10000']\n",
            "11:17:54 - cmdstanpy - INFO - Chain [1] start processing\n",
            "INFO:cmdstanpy:Chain [1] start processing\n",
            "11:17:54 - cmdstanpy - INFO - Chain [1] done processing\n",
            "INFO:cmdstanpy:Chain [1] done processing\n"
          ]
        },
        {
          "output_type": "stream",
          "name": "stdout",
          "text": [
            "+++++++++++++++++++++++++++++++++++++++++++++++++++++++++++++++++++++++++++++++++++++++ [('Prophet', 2.805), ('ARIMA', 40.4424), ('ETS', 10.8869), ('XGBoost', 10.9511)]\n",
            "+++++++++++++++++++++++++++++++++++++++++++++++++++++++++++++++++++++++++++++++++++++++ Prophet 7 11 1\n"
          ]
        },
        {
          "output_type": "stream",
          "name": "stderr",
          "text": [
            "/usr/local/lib/python3.10/dist-packages/statsmodels/tsa/base/tsa_model.py:473: ValueWarning: No frequency information was provided, so inferred frequency W-MON will be used.\n",
            "  self._init_dates(dates, freq)\n",
            "/usr/local/lib/python3.10/dist-packages/statsmodels/tsa/base/tsa_model.py:473: ValueWarning: No frequency information was provided, so inferred frequency W-MON will be used.\n",
            "  self._init_dates(dates, freq)\n",
            "/usr/local/lib/python3.10/dist-packages/statsmodels/tsa/holtwinters/model.py:917: ConvergenceWarning: Optimization failed to converge. Check mle_retvals.\n",
            "  warnings.warn(\n",
            "<ipython-input-14-94b3a4e46828>:89: FutureWarning: The frame.append method is deprecated and will be removed from pandas in a future version. Use pandas.concat instead.\n",
            "  results_df = results_df.append(result_dict, ignore_index=True)\n",
            "INFO:prophet:Disabling yearly seasonality. Run prophet with yearly_seasonality=True to override this.\n",
            "INFO:prophet:Disabling weekly seasonality. Run prophet with weekly_seasonality=True to override this.\n",
            "INFO:prophet:Disabling daily seasonality. Run prophet with daily_seasonality=True to override this.\n",
            "INFO:prophet:n_changepoints greater than number of observations. Using 9.\n",
            "DEBUG:cmdstanpy:input tempfile: /tmp/tmpz20i81ve/v_v3uhj8.json\n",
            "DEBUG:cmdstanpy:input tempfile: /tmp/tmpz20i81ve/mf5ldk8t.json\n",
            "DEBUG:cmdstanpy:idx 0\n",
            "DEBUG:cmdstanpy:running CmdStan, num_threads: None\n",
            "DEBUG:cmdstanpy:CmdStan args: ['/usr/local/lib/python3.10/dist-packages/prophet/stan_model/prophet_model.bin', 'random', 'seed=71364', 'data', 'file=/tmp/tmpz20i81ve/v_v3uhj8.json', 'init=/tmp/tmpz20i81ve/mf5ldk8t.json', 'output', 'file=/tmp/tmpz20i81ve/prophet_model96ug775a/prophet_model-20231001111756.csv', 'method=optimize', 'algorithm=newton', 'iter=10000']\n",
            "11:17:56 - cmdstanpy - INFO - Chain [1] start processing\n",
            "INFO:cmdstanpy:Chain [1] start processing\n",
            "11:17:56 - cmdstanpy - INFO - Chain [1] done processing\n",
            "INFO:cmdstanpy:Chain [1] done processing\n"
          ]
        },
        {
          "output_type": "stream",
          "name": "stdout",
          "text": [
            "+++++++++++++++++++++++++++++++++++++++++++++++++++++++++++++++++++++++++++++++++++++++ [('Prophet', 18.9498), ('ARIMA', 19.0654), ('ETS', 23.7972), ('XGBoost', 7.9198)]\n",
            "+++++++++++++++++++++++++++++++++++++++++++++++++++++++++++++++++++++++++++++++++++++++ XGBoost 8 12 1\n"
          ]
        },
        {
          "output_type": "stream",
          "name": "stderr",
          "text": [
            "/usr/local/lib/python3.10/dist-packages/statsmodels/tsa/base/tsa_model.py:473: ValueWarning: No frequency information was provided, so inferred frequency W-MON will be used.\n",
            "  self._init_dates(dates, freq)\n",
            "/usr/local/lib/python3.10/dist-packages/statsmodels/tsa/base/tsa_model.py:473: ValueWarning: No frequency information was provided, so inferred frequency W-MON will be used.\n",
            "  self._init_dates(dates, freq)\n",
            "/usr/local/lib/python3.10/dist-packages/statsmodels/tsa/holtwinters/model.py:917: ConvergenceWarning: Optimization failed to converge. Check mle_retvals.\n",
            "  warnings.warn(\n",
            "<ipython-input-14-94b3a4e46828>:89: FutureWarning: The frame.append method is deprecated and will be removed from pandas in a future version. Use pandas.concat instead.\n",
            "  results_df = results_df.append(result_dict, ignore_index=True)\n",
            "INFO:prophet:Disabling yearly seasonality. Run prophet with yearly_seasonality=True to override this.\n",
            "INFO:prophet:Disabling weekly seasonality. Run prophet with weekly_seasonality=True to override this.\n",
            "INFO:prophet:Disabling daily seasonality. Run prophet with daily_seasonality=True to override this.\n",
            "INFO:prophet:n_changepoints greater than number of observations. Using 10.\n",
            "DEBUG:cmdstanpy:input tempfile: /tmp/tmpz20i81ve/zw0vdg0k.json\n",
            "DEBUG:cmdstanpy:input tempfile: /tmp/tmpz20i81ve/640luxto.json\n",
            "DEBUG:cmdstanpy:idx 0\n",
            "DEBUG:cmdstanpy:running CmdStan, num_threads: None\n",
            "DEBUG:cmdstanpy:CmdStan args: ['/usr/local/lib/python3.10/dist-packages/prophet/stan_model/prophet_model.bin', 'random', 'seed=8333', 'data', 'file=/tmp/tmpz20i81ve/zw0vdg0k.json', 'init=/tmp/tmpz20i81ve/640luxto.json', 'output', 'file=/tmp/tmpz20i81ve/prophet_model6dglpg7i/prophet_model-20231001111757.csv', 'method=optimize', 'algorithm=newton', 'iter=10000']\n",
            "11:17:57 - cmdstanpy - INFO - Chain [1] start processing\n",
            "INFO:cmdstanpy:Chain [1] start processing\n",
            "11:17:57 - cmdstanpy - INFO - Chain [1] done processing\n",
            "INFO:cmdstanpy:Chain [1] done processing\n"
          ]
        },
        {
          "output_type": "stream",
          "name": "stdout",
          "text": [
            "+++++++++++++++++++++++++++++++++++++++++++++++++++++++++++++++++++++++++++++++++++++++ [('Prophet', 10.6468), ('ARIMA', 0.2183), ('ETS', 0.3371), ('XGBoost', 2.8034)]\n",
            "+++++++++++++++++++++++++++++++++++++++++++++++++++++++++++++++++++++++++++++++++++++++ ARIMA 9 13 1\n"
          ]
        },
        {
          "output_type": "stream",
          "name": "stderr",
          "text": [
            "/usr/local/lib/python3.10/dist-packages/statsmodels/tsa/base/tsa_model.py:473: ValueWarning: No frequency information was provided, so inferred frequency W-MON will be used.\n",
            "  self._init_dates(dates, freq)\n",
            "/usr/local/lib/python3.10/dist-packages/statsmodels/tsa/base/tsa_model.py:473: ValueWarning: No frequency information was provided, so inferred frequency W-MON will be used.\n",
            "  self._init_dates(dates, freq)\n",
            "/usr/local/lib/python3.10/dist-packages/statsmodels/tsa/holtwinters/model.py:917: ConvergenceWarning: Optimization failed to converge. Check mle_retvals.\n",
            "  warnings.warn(\n",
            "<ipython-input-14-94b3a4e46828>:89: FutureWarning: The frame.append method is deprecated and will be removed from pandas in a future version. Use pandas.concat instead.\n",
            "  results_df = results_df.append(result_dict, ignore_index=True)\n",
            "INFO:prophet:Disabling yearly seasonality. Run prophet with yearly_seasonality=True to override this.\n",
            "INFO:prophet:Disabling weekly seasonality. Run prophet with weekly_seasonality=True to override this.\n",
            "INFO:prophet:Disabling daily seasonality. Run prophet with daily_seasonality=True to override this.\n",
            "INFO:prophet:n_changepoints greater than number of observations. Using 11.\n",
            "DEBUG:cmdstanpy:input tempfile: /tmp/tmpz20i81ve/t1spbb0u.json\n",
            "DEBUG:cmdstanpy:input tempfile: /tmp/tmpz20i81ve/qsv2uof9.json\n",
            "DEBUG:cmdstanpy:idx 0\n",
            "DEBUG:cmdstanpy:running CmdStan, num_threads: None\n",
            "DEBUG:cmdstanpy:CmdStan args: ['/usr/local/lib/python3.10/dist-packages/prophet/stan_model/prophet_model.bin', 'random', 'seed=63821', 'data', 'file=/tmp/tmpz20i81ve/t1spbb0u.json', 'init=/tmp/tmpz20i81ve/qsv2uof9.json', 'output', 'file=/tmp/tmpz20i81ve/prophet_model_1eu2mxl/prophet_model-20231001111759.csv', 'method=optimize', 'algorithm=newton', 'iter=10000']\n",
            "11:17:59 - cmdstanpy - INFO - Chain [1] start processing\n",
            "INFO:cmdstanpy:Chain [1] start processing\n",
            "11:17:59 - cmdstanpy - INFO - Chain [1] done processing\n",
            "INFO:cmdstanpy:Chain [1] done processing\n"
          ]
        },
        {
          "output_type": "stream",
          "name": "stdout",
          "text": [
            "+++++++++++++++++++++++++++++++++++++++++++++++++++++++++++++++++++++++++++++++++++++++ [('Prophet', 9.7758), ('ARIMA', 5.9769), ('ETS', 5.9785), ('XGBoost', 24.5897)]\n",
            "+++++++++++++++++++++++++++++++++++++++++++++++++++++++++++++++++++++++++++++++++++++++ ARIMA 10 14 1\n"
          ]
        },
        {
          "output_type": "stream",
          "name": "stderr",
          "text": [
            "/usr/local/lib/python3.10/dist-packages/statsmodels/tsa/base/tsa_model.py:473: ValueWarning: No frequency information was provided, so inferred frequency W-MON will be used.\n",
            "  self._init_dates(dates, freq)\n",
            "/usr/local/lib/python3.10/dist-packages/statsmodels/tsa/base/tsa_model.py:473: ValueWarning: No frequency information was provided, so inferred frequency W-MON will be used.\n",
            "  self._init_dates(dates, freq)\n",
            "/usr/local/lib/python3.10/dist-packages/statsmodels/tsa/holtwinters/model.py:917: ConvergenceWarning: Optimization failed to converge. Check mle_retvals.\n",
            "  warnings.warn(\n",
            "<ipython-input-14-94b3a4e46828>:89: FutureWarning: The frame.append method is deprecated and will be removed from pandas in a future version. Use pandas.concat instead.\n",
            "  results_df = results_df.append(result_dict, ignore_index=True)\n",
            "INFO:prophet:Disabling yearly seasonality. Run prophet with yearly_seasonality=True to override this.\n",
            "INFO:prophet:Disabling weekly seasonality. Run prophet with weekly_seasonality=True to override this.\n",
            "INFO:prophet:Disabling daily seasonality. Run prophet with daily_seasonality=True to override this.\n",
            "INFO:prophet:n_changepoints greater than number of observations. Using 11.\n",
            "DEBUG:cmdstanpy:input tempfile: /tmp/tmpz20i81ve/5ykyuxtm.json\n",
            "DEBUG:cmdstanpy:input tempfile: /tmp/tmpz20i81ve/qwexe_rh.json\n",
            "DEBUG:cmdstanpy:idx 0\n",
            "DEBUG:cmdstanpy:running CmdStan, num_threads: None\n",
            "DEBUG:cmdstanpy:CmdStan args: ['/usr/local/lib/python3.10/dist-packages/prophet/stan_model/prophet_model.bin', 'random', 'seed=72686', 'data', 'file=/tmp/tmpz20i81ve/5ykyuxtm.json', 'init=/tmp/tmpz20i81ve/qwexe_rh.json', 'output', 'file=/tmp/tmpz20i81ve/prophet_modelhkaicg7j/prophet_model-20231001111800.csv', 'method=optimize', 'algorithm=newton', 'iter=10000']\n",
            "11:18:00 - cmdstanpy - INFO - Chain [1] start processing\n",
            "INFO:cmdstanpy:Chain [1] start processing\n",
            "11:18:00 - cmdstanpy - INFO - Chain [1] done processing\n",
            "INFO:cmdstanpy:Chain [1] done processing\n"
          ]
        },
        {
          "output_type": "stream",
          "name": "stdout",
          "text": [
            "+++++++++++++++++++++++++++++++++++++++++++++++++++++++++++++++++++++++++++++++++++++++ [('Prophet', 11.5412), ('ARIMA', 15.8741), ('ETS', 15.8394), ('XGBoost', 1.6401)]\n",
            "+++++++++++++++++++++++++++++++++++++++++++++++++++++++++++++++++++++++++++++++++++++++ XGBoost 11 15 1\n"
          ]
        },
        {
          "output_type": "stream",
          "name": "stderr",
          "text": [
            "/usr/local/lib/python3.10/dist-packages/statsmodels/tsa/base/tsa_model.py:473: ValueWarning: No frequency information was provided, so inferred frequency W-MON will be used.\n",
            "  self._init_dates(dates, freq)\n",
            "/usr/local/lib/python3.10/dist-packages/statsmodels/tsa/base/tsa_model.py:473: ValueWarning: No frequency information was provided, so inferred frequency W-MON will be used.\n",
            "  self._init_dates(dates, freq)\n",
            "/usr/local/lib/python3.10/dist-packages/statsmodels/tsa/holtwinters/model.py:917: ConvergenceWarning: Optimization failed to converge. Check mle_retvals.\n",
            "  warnings.warn(\n",
            "<ipython-input-14-94b3a4e46828>:89: FutureWarning: The frame.append method is deprecated and will be removed from pandas in a future version. Use pandas.concat instead.\n",
            "  results_df = results_df.append(result_dict, ignore_index=True)\n",
            "INFO:prophet:Disabling yearly seasonality. Run prophet with yearly_seasonality=True to override this.\n",
            "INFO:prophet:Disabling weekly seasonality. Run prophet with weekly_seasonality=True to override this.\n",
            "INFO:prophet:Disabling daily seasonality. Run prophet with daily_seasonality=True to override this.\n",
            "INFO:prophet:n_changepoints greater than number of observations. Using 12.\n",
            "DEBUG:cmdstanpy:input tempfile: /tmp/tmpz20i81ve/1kcw4_4f.json\n",
            "DEBUG:cmdstanpy:input tempfile: /tmp/tmpz20i81ve/q_lvdb2x.json\n",
            "DEBUG:cmdstanpy:idx 0\n",
            "DEBUG:cmdstanpy:running CmdStan, num_threads: None\n",
            "DEBUG:cmdstanpy:CmdStan args: ['/usr/local/lib/python3.10/dist-packages/prophet/stan_model/prophet_model.bin', 'random', 'seed=15272', 'data', 'file=/tmp/tmpz20i81ve/1kcw4_4f.json', 'init=/tmp/tmpz20i81ve/q_lvdb2x.json', 'output', 'file=/tmp/tmpz20i81ve/prophet_modelfwlorqdf/prophet_model-20231001111801.csv', 'method=optimize', 'algorithm=newton', 'iter=10000']\n",
            "11:18:01 - cmdstanpy - INFO - Chain [1] start processing\n",
            "INFO:cmdstanpy:Chain [1] start processing\n",
            "11:18:01 - cmdstanpy - INFO - Chain [1] done processing\n",
            "INFO:cmdstanpy:Chain [1] done processing\n"
          ]
        },
        {
          "output_type": "stream",
          "name": "stdout",
          "text": [
            "+++++++++++++++++++++++++++++++++++++++++++++++++++++++++++++++++++++++++++++++++++++++ [('Prophet', 6.3437), ('ARIMA', 6.2558), ('ETS', 6.1816), ('XGBoost', 1.9175)]\n",
            "+++++++++++++++++++++++++++++++++++++++++++++++++++++++++++++++++++++++++++++++++++++++ XGBoost 12 16 1\n"
          ]
        },
        {
          "output_type": "stream",
          "name": "stderr",
          "text": [
            "/usr/local/lib/python3.10/dist-packages/statsmodels/tsa/base/tsa_model.py:473: ValueWarning: No frequency information was provided, so inferred frequency W-MON will be used.\n",
            "  self._init_dates(dates, freq)\n",
            "/usr/local/lib/python3.10/dist-packages/statsmodels/tsa/base/tsa_model.py:473: ValueWarning: No frequency information was provided, so inferred frequency W-MON will be used.\n",
            "  self._init_dates(dates, freq)\n",
            "/usr/local/lib/python3.10/dist-packages/statsmodels/tsa/holtwinters/model.py:917: ConvergenceWarning: Optimization failed to converge. Check mle_retvals.\n",
            "  warnings.warn(\n",
            "<ipython-input-14-94b3a4e46828>:89: FutureWarning: The frame.append method is deprecated and will be removed from pandas in a future version. Use pandas.concat instead.\n",
            "  results_df = results_df.append(result_dict, ignore_index=True)\n",
            "INFO:prophet:Disabling yearly seasonality. Run prophet with yearly_seasonality=True to override this.\n",
            "INFO:prophet:Disabling weekly seasonality. Run prophet with weekly_seasonality=True to override this.\n",
            "INFO:prophet:Disabling daily seasonality. Run prophet with daily_seasonality=True to override this.\n",
            "INFO:prophet:n_changepoints greater than number of observations. Using 13.\n",
            "DEBUG:cmdstanpy:input tempfile: /tmp/tmpz20i81ve/53lbfinr.json\n",
            "DEBUG:cmdstanpy:input tempfile: /tmp/tmpz20i81ve/mas0_er1.json\n",
            "DEBUG:cmdstanpy:idx 0\n",
            "DEBUG:cmdstanpy:running CmdStan, num_threads: None\n",
            "DEBUG:cmdstanpy:CmdStan args: ['/usr/local/lib/python3.10/dist-packages/prophet/stan_model/prophet_model.bin', 'random', 'seed=69145', 'data', 'file=/tmp/tmpz20i81ve/53lbfinr.json', 'init=/tmp/tmpz20i81ve/mas0_er1.json', 'output', 'file=/tmp/tmpz20i81ve/prophet_modelt98u9a4r/prophet_model-20231001111802.csv', 'method=optimize', 'algorithm=newton', 'iter=10000']\n",
            "11:18:02 - cmdstanpy - INFO - Chain [1] start processing\n",
            "INFO:cmdstanpy:Chain [1] start processing\n",
            "11:18:02 - cmdstanpy - INFO - Chain [1] done processing\n",
            "INFO:cmdstanpy:Chain [1] done processing\n"
          ]
        },
        {
          "output_type": "stream",
          "name": "stdout",
          "text": [
            "+++++++++++++++++++++++++++++++++++++++++++++++++++++++++++++++++++++++++++++++++++++++ [('Prophet', 3.6802), ('ARIMA', 4.7411), ('ETS', 4.7705), ('XGBoost', 3.896)]\n",
            "+++++++++++++++++++++++++++++++++++++++++++++++++++++++++++++++++++++++++++++++++++++++ Prophet 13 17 1\n"
          ]
        },
        {
          "output_type": "stream",
          "name": "stderr",
          "text": [
            "/usr/local/lib/python3.10/dist-packages/statsmodels/tsa/base/tsa_model.py:473: ValueWarning: No frequency information was provided, so inferred frequency W-MON will be used.\n",
            "  self._init_dates(dates, freq)\n",
            "/usr/local/lib/python3.10/dist-packages/statsmodels/tsa/base/tsa_model.py:473: ValueWarning: No frequency information was provided, so inferred frequency W-MON will be used.\n",
            "  self._init_dates(dates, freq)\n",
            "/usr/local/lib/python3.10/dist-packages/statsmodels/tsa/holtwinters/model.py:917: ConvergenceWarning: Optimization failed to converge. Check mle_retvals.\n",
            "  warnings.warn(\n",
            "<ipython-input-14-94b3a4e46828>:89: FutureWarning: The frame.append method is deprecated and will be removed from pandas in a future version. Use pandas.concat instead.\n",
            "  results_df = results_df.append(result_dict, ignore_index=True)\n",
            "INFO:prophet:Disabling yearly seasonality. Run prophet with yearly_seasonality=True to override this.\n",
            "INFO:prophet:Disabling weekly seasonality. Run prophet with weekly_seasonality=True to override this.\n",
            "INFO:prophet:Disabling daily seasonality. Run prophet with daily_seasonality=True to override this.\n",
            "INFO:prophet:n_changepoints greater than number of observations. Using 14.\n",
            "DEBUG:cmdstanpy:input tempfile: /tmp/tmpz20i81ve/96creijg.json\n",
            "DEBUG:cmdstanpy:input tempfile: /tmp/tmpz20i81ve/133r27b1.json\n",
            "DEBUG:cmdstanpy:idx 0\n",
            "DEBUG:cmdstanpy:running CmdStan, num_threads: None\n",
            "DEBUG:cmdstanpy:CmdStan args: ['/usr/local/lib/python3.10/dist-packages/prophet/stan_model/prophet_model.bin', 'random', 'seed=65286', 'data', 'file=/tmp/tmpz20i81ve/96creijg.json', 'init=/tmp/tmpz20i81ve/133r27b1.json', 'output', 'file=/tmp/tmpz20i81ve/prophet_model7m332ur9/prophet_model-20231001111802.csv', 'method=optimize', 'algorithm=newton', 'iter=10000']\n",
            "11:18:02 - cmdstanpy - INFO - Chain [1] start processing\n",
            "INFO:cmdstanpy:Chain [1] start processing\n",
            "11:18:02 - cmdstanpy - INFO - Chain [1] done processing\n",
            "INFO:cmdstanpy:Chain [1] done processing\n"
          ]
        },
        {
          "output_type": "stream",
          "name": "stdout",
          "text": [
            "+++++++++++++++++++++++++++++++++++++++++++++++++++++++++++++++++++++++++++++++++++++++ [('Prophet', 9.0182), ('ARIMA', 2.2479), ('ETS', 2.2235), ('XGBoost', 5.4775)]\n",
            "+++++++++++++++++++++++++++++++++++++++++++++++++++++++++++++++++++++++++++++++++++++++ ETS 14 18 1\n"
          ]
        },
        {
          "output_type": "stream",
          "name": "stderr",
          "text": [
            "/usr/local/lib/python3.10/dist-packages/statsmodels/tsa/base/tsa_model.py:473: ValueWarning: No frequency information was provided, so inferred frequency W-MON will be used.\n",
            "  self._init_dates(dates, freq)\n",
            "/usr/local/lib/python3.10/dist-packages/statsmodels/tsa/base/tsa_model.py:473: ValueWarning: No frequency information was provided, so inferred frequency W-MON will be used.\n",
            "  self._init_dates(dates, freq)\n",
            "/usr/local/lib/python3.10/dist-packages/statsmodels/tsa/holtwinters/model.py:917: ConvergenceWarning: Optimization failed to converge. Check mle_retvals.\n",
            "  warnings.warn(\n",
            "<ipython-input-14-94b3a4e46828>:89: FutureWarning: The frame.append method is deprecated and will be removed from pandas in a future version. Use pandas.concat instead.\n",
            "  results_df = results_df.append(result_dict, ignore_index=True)\n",
            "INFO:prophet:Disabling yearly seasonality. Run prophet with yearly_seasonality=True to override this.\n",
            "INFO:prophet:Disabling weekly seasonality. Run prophet with weekly_seasonality=True to override this.\n",
            "INFO:prophet:Disabling daily seasonality. Run prophet with daily_seasonality=True to override this.\n",
            "INFO:prophet:n_changepoints greater than number of observations. Using 15.\n",
            "DEBUG:cmdstanpy:input tempfile: /tmp/tmpz20i81ve/d8o8u2ho.json\n",
            "DEBUG:cmdstanpy:input tempfile: /tmp/tmpz20i81ve/s34hz1dk.json\n",
            "DEBUG:cmdstanpy:idx 0\n",
            "DEBUG:cmdstanpy:running CmdStan, num_threads: None\n",
            "DEBUG:cmdstanpy:CmdStan args: ['/usr/local/lib/python3.10/dist-packages/prophet/stan_model/prophet_model.bin', 'random', 'seed=93797', 'data', 'file=/tmp/tmpz20i81ve/d8o8u2ho.json', 'init=/tmp/tmpz20i81ve/s34hz1dk.json', 'output', 'file=/tmp/tmpz20i81ve/prophet_modelrxbir0qm/prophet_model-20231001111803.csv', 'method=optimize', 'algorithm=newton', 'iter=10000']\n",
            "11:18:03 - cmdstanpy - INFO - Chain [1] start processing\n",
            "INFO:cmdstanpy:Chain [1] start processing\n",
            "11:18:03 - cmdstanpy - INFO - Chain [1] done processing\n",
            "INFO:cmdstanpy:Chain [1] done processing\n"
          ]
        },
        {
          "output_type": "stream",
          "name": "stdout",
          "text": [
            "+++++++++++++++++++++++++++++++++++++++++++++++++++++++++++++++++++++++++++++++++++++++ [('Prophet', 18.4922), ('ARIMA', 6.8399), ('ETS', 6.8517), ('XGBoost', 4.3401)]\n",
            "+++++++++++++++++++++++++++++++++++++++++++++++++++++++++++++++++++++++++++++++++++++++ XGBoost 15 19 1\n"
          ]
        },
        {
          "output_type": "stream",
          "name": "stderr",
          "text": [
            "/usr/local/lib/python3.10/dist-packages/statsmodels/tsa/base/tsa_model.py:473: ValueWarning: No frequency information was provided, so inferred frequency W-MON will be used.\n",
            "  self._init_dates(dates, freq)\n",
            "/usr/local/lib/python3.10/dist-packages/statsmodels/tsa/base/tsa_model.py:473: ValueWarning: No frequency information was provided, so inferred frequency W-MON will be used.\n",
            "  self._init_dates(dates, freq)\n",
            "/usr/local/lib/python3.10/dist-packages/statsmodels/tsa/holtwinters/model.py:917: ConvergenceWarning: Optimization failed to converge. Check mle_retvals.\n",
            "  warnings.warn(\n",
            "<ipython-input-14-94b3a4e46828>:89: FutureWarning: The frame.append method is deprecated and will be removed from pandas in a future version. Use pandas.concat instead.\n",
            "  results_df = results_df.append(result_dict, ignore_index=True)\n",
            "INFO:prophet:Disabling yearly seasonality. Run prophet with yearly_seasonality=True to override this.\n",
            "INFO:prophet:Disabling weekly seasonality. Run prophet with weekly_seasonality=True to override this.\n",
            "INFO:prophet:Disabling daily seasonality. Run prophet with daily_seasonality=True to override this.\n",
            "INFO:prophet:n_changepoints greater than number of observations. Using 15.\n",
            "DEBUG:cmdstanpy:input tempfile: /tmp/tmpz20i81ve/fuspj65k.json\n",
            "DEBUG:cmdstanpy:input tempfile: /tmp/tmpz20i81ve/50i5iaqn.json\n",
            "DEBUG:cmdstanpy:idx 0\n",
            "DEBUG:cmdstanpy:running CmdStan, num_threads: None\n",
            "DEBUG:cmdstanpy:CmdStan args: ['/usr/local/lib/python3.10/dist-packages/prophet/stan_model/prophet_model.bin', 'random', 'seed=87578', 'data', 'file=/tmp/tmpz20i81ve/fuspj65k.json', 'init=/tmp/tmpz20i81ve/50i5iaqn.json', 'output', 'file=/tmp/tmpz20i81ve/prophet_modelis4r_m7d/prophet_model-20231001111804.csv', 'method=optimize', 'algorithm=newton', 'iter=10000']\n",
            "11:18:04 - cmdstanpy - INFO - Chain [1] start processing\n",
            "INFO:cmdstanpy:Chain [1] start processing\n",
            "11:18:04 - cmdstanpy - INFO - Chain [1] done processing\n",
            "INFO:cmdstanpy:Chain [1] done processing\n"
          ]
        },
        {
          "output_type": "stream",
          "name": "stdout",
          "text": [
            "+++++++++++++++++++++++++++++++++++++++++++++++++++++++++++++++++++++++++++++++++++++++ [('Prophet', 28.225), ('ARIMA', 7.9275), ('ETS', 7.9644), ('XGBoost', 12.1636)]\n",
            "+++++++++++++++++++++++++++++++++++++++++++++++++++++++++++++++++++++++++++++++++++++++ ARIMA 16 20 1\n"
          ]
        },
        {
          "output_type": "stream",
          "name": "stderr",
          "text": [
            "/usr/local/lib/python3.10/dist-packages/statsmodels/tsa/base/tsa_model.py:473: ValueWarning: No frequency information was provided, so inferred frequency W-MON will be used.\n",
            "  self._init_dates(dates, freq)\n",
            "/usr/local/lib/python3.10/dist-packages/statsmodels/tsa/base/tsa_model.py:473: ValueWarning: No frequency information was provided, so inferred frequency W-MON will be used.\n",
            "  self._init_dates(dates, freq)\n",
            "/usr/local/lib/python3.10/dist-packages/statsmodels/tsa/holtwinters/model.py:917: ConvergenceWarning: Optimization failed to converge. Check mle_retvals.\n",
            "  warnings.warn(\n",
            "<ipython-input-14-94b3a4e46828>:89: FutureWarning: The frame.append method is deprecated and will be removed from pandas in a future version. Use pandas.concat instead.\n",
            "  results_df = results_df.append(result_dict, ignore_index=True)\n",
            "INFO:prophet:Disabling yearly seasonality. Run prophet with yearly_seasonality=True to override this.\n",
            "INFO:prophet:Disabling weekly seasonality. Run prophet with weekly_seasonality=True to override this.\n",
            "INFO:prophet:Disabling daily seasonality. Run prophet with daily_seasonality=True to override this.\n",
            "INFO:prophet:n_changepoints greater than number of observations. Using 16.\n",
            "DEBUG:cmdstanpy:input tempfile: /tmp/tmpz20i81ve/10c1wax5.json\n",
            "DEBUG:cmdstanpy:input tempfile: /tmp/tmpz20i81ve/8up1vtrj.json\n",
            "DEBUG:cmdstanpy:idx 0\n",
            "DEBUG:cmdstanpy:running CmdStan, num_threads: None\n",
            "DEBUG:cmdstanpy:CmdStan args: ['/usr/local/lib/python3.10/dist-packages/prophet/stan_model/prophet_model.bin', 'random', 'seed=94895', 'data', 'file=/tmp/tmpz20i81ve/10c1wax5.json', 'init=/tmp/tmpz20i81ve/8up1vtrj.json', 'output', 'file=/tmp/tmpz20i81ve/prophet_modelqtyqpu7a/prophet_model-20231001111804.csv', 'method=optimize', 'algorithm=newton', 'iter=10000']\n",
            "11:18:04 - cmdstanpy - INFO - Chain [1] start processing\n",
            "INFO:cmdstanpy:Chain [1] start processing\n",
            "11:18:04 - cmdstanpy - INFO - Chain [1] done processing\n",
            "INFO:cmdstanpy:Chain [1] done processing\n"
          ]
        },
        {
          "output_type": "stream",
          "name": "stdout",
          "text": [
            "+++++++++++++++++++++++++++++++++++++++++++++++++++++++++++++++++++++++++++++++++++++++ [('Prophet', 11.5595), ('ARIMA', 12.1521), ('ETS', 12.1171), ('XGBoost', 5.7643)]\n",
            "+++++++++++++++++++++++++++++++++++++++++++++++++++++++++++++++++++++++++++++++++++++++ XGBoost 17 21 1\n"
          ]
        },
        {
          "output_type": "stream",
          "name": "stderr",
          "text": [
            "/usr/local/lib/python3.10/dist-packages/statsmodels/tsa/base/tsa_model.py:473: ValueWarning: No frequency information was provided, so inferred frequency W-MON will be used.\n",
            "  self._init_dates(dates, freq)\n",
            "/usr/local/lib/python3.10/dist-packages/statsmodels/tsa/base/tsa_model.py:473: ValueWarning: No frequency information was provided, so inferred frequency W-MON will be used.\n",
            "  self._init_dates(dates, freq)\n",
            "/usr/local/lib/python3.10/dist-packages/statsmodels/tsa/holtwinters/model.py:917: ConvergenceWarning: Optimization failed to converge. Check mle_retvals.\n",
            "  warnings.warn(\n",
            "<ipython-input-14-94b3a4e46828>:89: FutureWarning: The frame.append method is deprecated and will be removed from pandas in a future version. Use pandas.concat instead.\n",
            "  results_df = results_df.append(result_dict, ignore_index=True)\n",
            "INFO:prophet:Disabling yearly seasonality. Run prophet with yearly_seasonality=True to override this.\n",
            "INFO:prophet:Disabling weekly seasonality. Run prophet with weekly_seasonality=True to override this.\n",
            "INFO:prophet:Disabling daily seasonality. Run prophet with daily_seasonality=True to override this.\n",
            "INFO:prophet:n_changepoints greater than number of observations. Using 17.\n",
            "DEBUG:cmdstanpy:input tempfile: /tmp/tmpz20i81ve/rucmia9f.json\n",
            "DEBUG:cmdstanpy:input tempfile: /tmp/tmpz20i81ve/07dt_1by.json\n",
            "DEBUG:cmdstanpy:idx 0\n",
            "DEBUG:cmdstanpy:running CmdStan, num_threads: None\n",
            "DEBUG:cmdstanpy:CmdStan args: ['/usr/local/lib/python3.10/dist-packages/prophet/stan_model/prophet_model.bin', 'random', 'seed=35402', 'data', 'file=/tmp/tmpz20i81ve/rucmia9f.json', 'init=/tmp/tmpz20i81ve/07dt_1by.json', 'output', 'file=/tmp/tmpz20i81ve/prophet_model1w4fxha3/prophet_model-20231001111805.csv', 'method=optimize', 'algorithm=newton', 'iter=10000']\n",
            "11:18:05 - cmdstanpy - INFO - Chain [1] start processing\n",
            "INFO:cmdstanpy:Chain [1] start processing\n",
            "11:18:05 - cmdstanpy - INFO - Chain [1] done processing\n",
            "INFO:cmdstanpy:Chain [1] done processing\n"
          ]
        },
        {
          "output_type": "stream",
          "name": "stdout",
          "text": [
            "+++++++++++++++++++++++++++++++++++++++++++++++++++++++++++++++++++++++++++++++++++++++ [('Prophet', 3.4483), ('ARIMA', 14.2946), ('ETS', 14.3466), ('XGBoost', 13.2527)]\n",
            "+++++++++++++++++++++++++++++++++++++++++++++++++++++++++++++++++++++++++++++++++++++++ Prophet 18 22 1\n"
          ]
        },
        {
          "output_type": "stream",
          "name": "stderr",
          "text": [
            "/usr/local/lib/python3.10/dist-packages/statsmodels/tsa/base/tsa_model.py:473: ValueWarning: No frequency information was provided, so inferred frequency W-MON will be used.\n",
            "  self._init_dates(dates, freq)\n",
            "/usr/local/lib/python3.10/dist-packages/statsmodels/tsa/base/tsa_model.py:473: ValueWarning: No frequency information was provided, so inferred frequency W-MON will be used.\n",
            "  self._init_dates(dates, freq)\n",
            "/usr/local/lib/python3.10/dist-packages/statsmodels/tsa/holtwinters/model.py:917: ConvergenceWarning: Optimization failed to converge. Check mle_retvals.\n",
            "  warnings.warn(\n",
            "<ipython-input-14-94b3a4e46828>:89: FutureWarning: The frame.append method is deprecated and will be removed from pandas in a future version. Use pandas.concat instead.\n",
            "  results_df = results_df.append(result_dict, ignore_index=True)\n",
            "INFO:prophet:Disabling yearly seasonality. Run prophet with yearly_seasonality=True to override this.\n",
            "INFO:prophet:Disabling weekly seasonality. Run prophet with weekly_seasonality=True to override this.\n",
            "INFO:prophet:Disabling daily seasonality. Run prophet with daily_seasonality=True to override this.\n",
            "INFO:prophet:n_changepoints greater than number of observations. Using 18.\n",
            "DEBUG:cmdstanpy:input tempfile: /tmp/tmpz20i81ve/9095epv6.json\n",
            "DEBUG:cmdstanpy:input tempfile: /tmp/tmpz20i81ve/cn4nshto.json\n",
            "DEBUG:cmdstanpy:idx 0\n",
            "DEBUG:cmdstanpy:running CmdStan, num_threads: None\n",
            "DEBUG:cmdstanpy:CmdStan args: ['/usr/local/lib/python3.10/dist-packages/prophet/stan_model/prophet_model.bin', 'random', 'seed=36501', 'data', 'file=/tmp/tmpz20i81ve/9095epv6.json', 'init=/tmp/tmpz20i81ve/cn4nshto.json', 'output', 'file=/tmp/tmpz20i81ve/prophet_modelauqgb_cm/prophet_model-20231001111806.csv', 'method=optimize', 'algorithm=newton', 'iter=10000']\n",
            "11:18:06 - cmdstanpy - INFO - Chain [1] start processing\n",
            "INFO:cmdstanpy:Chain [1] start processing\n",
            "11:18:06 - cmdstanpy - INFO - Chain [1] done processing\n",
            "INFO:cmdstanpy:Chain [1] done processing\n"
          ]
        },
        {
          "output_type": "stream",
          "name": "stdout",
          "text": [
            "+++++++++++++++++++++++++++++++++++++++++++++++++++++++++++++++++++++++++++++++++++++++ [('Prophet', 2.3801), ('ARIMA', 2.8621), ('ETS', 2.7883), ('XGBoost', 11.5924)]\n",
            "+++++++++++++++++++++++++++++++++++++++++++++++++++++++++++++++++++++++++++++++++++++++ Prophet 19 23 1\n"
          ]
        },
        {
          "output_type": "stream",
          "name": "stderr",
          "text": [
            "/usr/local/lib/python3.10/dist-packages/statsmodels/tsa/base/tsa_model.py:473: ValueWarning: No frequency information was provided, so inferred frequency W-MON will be used.\n",
            "  self._init_dates(dates, freq)\n",
            "/usr/local/lib/python3.10/dist-packages/statsmodels/tsa/holtwinters/model.py:917: ConvergenceWarning: Optimization failed to converge. Check mle_retvals.\n",
            "  warnings.warn(\n",
            "<ipython-input-14-94b3a4e46828>:89: FutureWarning: The frame.append method is deprecated and will be removed from pandas in a future version. Use pandas.concat instead.\n",
            "  results_df = results_df.append(result_dict, ignore_index=True)\n",
            "INFO:prophet:Disabling yearly seasonality. Run prophet with yearly_seasonality=True to override this.\n",
            "INFO:prophet:Disabling weekly seasonality. Run prophet with weekly_seasonality=True to override this.\n",
            "INFO:prophet:Disabling daily seasonality. Run prophet with daily_seasonality=True to override this.\n",
            "INFO:prophet:n_changepoints greater than number of observations. Using 19.\n",
            "DEBUG:cmdstanpy:input tempfile: /tmp/tmpz20i81ve/q8m6xwdw.json\n",
            "DEBUG:cmdstanpy:input tempfile: /tmp/tmpz20i81ve/46uqhka7.json\n",
            "DEBUG:cmdstanpy:idx 0\n",
            "DEBUG:cmdstanpy:running CmdStan, num_threads: None\n",
            "DEBUG:cmdstanpy:CmdStan args: ['/usr/local/lib/python3.10/dist-packages/prophet/stan_model/prophet_model.bin', 'random', 'seed=21703', 'data', 'file=/tmp/tmpz20i81ve/q8m6xwdw.json', 'init=/tmp/tmpz20i81ve/46uqhka7.json', 'output', 'file=/tmp/tmpz20i81ve/prophet_model224kes4x/prophet_model-20231001111806.csv', 'method=optimize', 'algorithm=newton', 'iter=10000']\n",
            "11:18:06 - cmdstanpy - INFO - Chain [1] start processing\n",
            "INFO:cmdstanpy:Chain [1] start processing\n",
            "11:18:06 - cmdstanpy - INFO - Chain [1] done processing\n",
            "INFO:cmdstanpy:Chain [1] done processing\n"
          ]
        },
        {
          "output_type": "stream",
          "name": "stdout",
          "text": [
            "+++++++++++++++++++++++++++++++++++++++++++++++++++++++++++++++++++++++++++++++++++++++ [('Prophet', 8.901), ('ARIMA', 3.9266), ('ETS', 21.7492), ('XGBoost', 7.0518)]\n",
            "+++++++++++++++++++++++++++++++++++++++++++++++++++++++++++++++++++++++++++++++++++++++ ARIMA 20 24 1\n"
          ]
        },
        {
          "output_type": "stream",
          "name": "stderr",
          "text": [
            "/usr/local/lib/python3.10/dist-packages/statsmodels/tsa/base/tsa_model.py:473: ValueWarning: No frequency information was provided, so inferred frequency W-MON will be used.\n",
            "  self._init_dates(dates, freq)\n",
            "/usr/local/lib/python3.10/dist-packages/statsmodels/tsa/holtwinters/model.py:917: ConvergenceWarning: Optimization failed to converge. Check mle_retvals.\n",
            "  warnings.warn(\n",
            "<ipython-input-14-94b3a4e46828>:89: FutureWarning: The frame.append method is deprecated and will be removed from pandas in a future version. Use pandas.concat instead.\n",
            "  results_df = results_df.append(result_dict, ignore_index=True)\n",
            "INFO:prophet:Disabling yearly seasonality. Run prophet with yearly_seasonality=True to override this.\n",
            "INFO:prophet:Disabling weekly seasonality. Run prophet with weekly_seasonality=True to override this.\n",
            "INFO:prophet:Disabling daily seasonality. Run prophet with daily_seasonality=True to override this.\n",
            "INFO:prophet:n_changepoints greater than number of observations. Using 19.\n",
            "DEBUG:cmdstanpy:input tempfile: /tmp/tmpz20i81ve/58qu3hbz.json\n",
            "DEBUG:cmdstanpy:input tempfile: /tmp/tmpz20i81ve/uwejopbp.json\n",
            "DEBUG:cmdstanpy:idx 0\n",
            "DEBUG:cmdstanpy:running CmdStan, num_threads: None\n",
            "DEBUG:cmdstanpy:CmdStan args: ['/usr/local/lib/python3.10/dist-packages/prophet/stan_model/prophet_model.bin', 'random', 'seed=60653', 'data', 'file=/tmp/tmpz20i81ve/58qu3hbz.json', 'init=/tmp/tmpz20i81ve/uwejopbp.json', 'output', 'file=/tmp/tmpz20i81ve/prophet_modelhxoodw69/prophet_model-20231001111807.csv', 'method=optimize', 'algorithm=newton', 'iter=10000']\n",
            "11:18:07 - cmdstanpy - INFO - Chain [1] start processing\n",
            "INFO:cmdstanpy:Chain [1] start processing\n",
            "11:18:07 - cmdstanpy - INFO - Chain [1] done processing\n",
            "INFO:cmdstanpy:Chain [1] done processing\n"
          ]
        },
        {
          "output_type": "stream",
          "name": "stdout",
          "text": [
            "+++++++++++++++++++++++++++++++++++++++++++++++++++++++++++++++++++++++++++++++++++++++ [('Prophet', 32.3816), ('ARIMA', 20.1209), ('ETS', 30.2754), ('XGBoost', 10.1106)]\n",
            "+++++++++++++++++++++++++++++++++++++++++++++++++++++++++++++++++++++++++++++++++++++++ XGBoost 21 25 1\n"
          ]
        },
        {
          "output_type": "stream",
          "name": "stderr",
          "text": [
            "/usr/local/lib/python3.10/dist-packages/statsmodels/tsa/base/tsa_model.py:473: ValueWarning: No frequency information was provided, so inferred frequency W-MON will be used.\n",
            "  self._init_dates(dates, freq)\n",
            "/usr/local/lib/python3.10/dist-packages/statsmodels/tsa/holtwinters/model.py:917: ConvergenceWarning: Optimization failed to converge. Check mle_retvals.\n",
            "  warnings.warn(\n",
            "<ipython-input-14-94b3a4e46828>:89: FutureWarning: The frame.append method is deprecated and will be removed from pandas in a future version. Use pandas.concat instead.\n",
            "  results_df = results_df.append(result_dict, ignore_index=True)\n",
            "INFO:prophet:Disabling yearly seasonality. Run prophet with yearly_seasonality=True to override this.\n",
            "INFO:prophet:Disabling weekly seasonality. Run prophet with weekly_seasonality=True to override this.\n",
            "INFO:prophet:Disabling daily seasonality. Run prophet with daily_seasonality=True to override this.\n",
            "INFO:prophet:n_changepoints greater than number of observations. Using 20.\n",
            "DEBUG:cmdstanpy:input tempfile: /tmp/tmpz20i81ve/hwujhxnt.json\n",
            "DEBUG:cmdstanpy:input tempfile: /tmp/tmpz20i81ve/jx7hxogn.json\n",
            "DEBUG:cmdstanpy:idx 0\n",
            "DEBUG:cmdstanpy:running CmdStan, num_threads: None\n",
            "DEBUG:cmdstanpy:CmdStan args: ['/usr/local/lib/python3.10/dist-packages/prophet/stan_model/prophet_model.bin', 'random', 'seed=55606', 'data', 'file=/tmp/tmpz20i81ve/hwujhxnt.json', 'init=/tmp/tmpz20i81ve/jx7hxogn.json', 'output', 'file=/tmp/tmpz20i81ve/prophet_modelpqm6y8hf/prophet_model-20231001111808.csv', 'method=optimize', 'algorithm=newton', 'iter=10000']\n",
            "11:18:08 - cmdstanpy - INFO - Chain [1] start processing\n",
            "INFO:cmdstanpy:Chain [1] start processing\n",
            "11:18:08 - cmdstanpy - INFO - Chain [1] done processing\n",
            "INFO:cmdstanpy:Chain [1] done processing\n"
          ]
        },
        {
          "output_type": "stream",
          "name": "stdout",
          "text": [
            "+++++++++++++++++++++++++++++++++++++++++++++++++++++++++++++++++++++++++++++++++++++++ [('Prophet', 55.1119), ('ARIMA', 18.5732), ('ETS', 31.2563), ('XGBoost', 40.3069)]\n",
            "+++++++++++++++++++++++++++++++++++++++++++++++++++++++++++++++++++++++++++++++++++++++ ARIMA 22 26 1\n"
          ]
        },
        {
          "output_type": "stream",
          "name": "stderr",
          "text": [
            "/usr/local/lib/python3.10/dist-packages/statsmodels/tsa/base/tsa_model.py:473: ValueWarning: No frequency information was provided, so inferred frequency W-MON will be used.\n",
            "  self._init_dates(dates, freq)\n",
            "/usr/local/lib/python3.10/dist-packages/statsmodels/tsa/holtwinters/model.py:917: ConvergenceWarning: Optimization failed to converge. Check mle_retvals.\n",
            "  warnings.warn(\n",
            "<ipython-input-14-94b3a4e46828>:89: FutureWarning: The frame.append method is deprecated and will be removed from pandas in a future version. Use pandas.concat instead.\n",
            "  results_df = results_df.append(result_dict, ignore_index=True)\n",
            "INFO:prophet:Disabling yearly seasonality. Run prophet with yearly_seasonality=True to override this.\n",
            "INFO:prophet:Disabling weekly seasonality. Run prophet with weekly_seasonality=True to override this.\n",
            "INFO:prophet:Disabling daily seasonality. Run prophet with daily_seasonality=True to override this.\n",
            "INFO:prophet:n_changepoints greater than number of observations. Using 21.\n",
            "DEBUG:cmdstanpy:input tempfile: /tmp/tmpz20i81ve/nu008v7m.json\n",
            "DEBUG:cmdstanpy:input tempfile: /tmp/tmpz20i81ve/4p04p939.json\n",
            "DEBUG:cmdstanpy:idx 0\n",
            "DEBUG:cmdstanpy:running CmdStan, num_threads: None\n",
            "DEBUG:cmdstanpy:CmdStan args: ['/usr/local/lib/python3.10/dist-packages/prophet/stan_model/prophet_model.bin', 'random', 'seed=98430', 'data', 'file=/tmp/tmpz20i81ve/nu008v7m.json', 'init=/tmp/tmpz20i81ve/4p04p939.json', 'output', 'file=/tmp/tmpz20i81ve/prophet_model3i0lcs6y/prophet_model-20231001111808.csv', 'method=optimize', 'algorithm=newton', 'iter=10000']\n",
            "11:18:08 - cmdstanpy - INFO - Chain [1] start processing\n",
            "INFO:cmdstanpy:Chain [1] start processing\n",
            "11:18:08 - cmdstanpy - INFO - Chain [1] done processing\n",
            "INFO:cmdstanpy:Chain [1] done processing\n"
          ]
        },
        {
          "output_type": "stream",
          "name": "stdout",
          "text": [
            "+++++++++++++++++++++++++++++++++++++++++++++++++++++++++++++++++++++++++++++++++++++++ [('Prophet', 37.708), ('ARIMA', 8.6572), ('ETS', 24.7715), ('XGBoost', 15.7842)]\n",
            "+++++++++++++++++++++++++++++++++++++++++++++++++++++++++++++++++++++++++++++++++++++++ ARIMA 23 27 1\n"
          ]
        },
        {
          "output_type": "stream",
          "name": "stderr",
          "text": [
            "/usr/local/lib/python3.10/dist-packages/statsmodels/tsa/base/tsa_model.py:473: ValueWarning: No frequency information was provided, so inferred frequency W-MON will be used.\n",
            "  self._init_dates(dates, freq)\n",
            "/usr/local/lib/python3.10/dist-packages/statsmodels/tsa/holtwinters/model.py:917: ConvergenceWarning: Optimization failed to converge. Check mle_retvals.\n",
            "  warnings.warn(\n",
            "<ipython-input-14-94b3a4e46828>:89: FutureWarning: The frame.append method is deprecated and will be removed from pandas in a future version. Use pandas.concat instead.\n",
            "  results_df = results_df.append(result_dict, ignore_index=True)\n",
            "INFO:prophet:Disabling yearly seasonality. Run prophet with yearly_seasonality=True to override this.\n",
            "INFO:prophet:Disabling weekly seasonality. Run prophet with weekly_seasonality=True to override this.\n",
            "INFO:prophet:Disabling daily seasonality. Run prophet with daily_seasonality=True to override this.\n",
            "INFO:prophet:n_changepoints greater than number of observations. Using 22.\n",
            "DEBUG:cmdstanpy:input tempfile: /tmp/tmpz20i81ve/_so6wbya.json\n",
            "DEBUG:cmdstanpy:input tempfile: /tmp/tmpz20i81ve/8plzaggk.json\n",
            "DEBUG:cmdstanpy:idx 0\n",
            "DEBUG:cmdstanpy:running CmdStan, num_threads: None\n",
            "DEBUG:cmdstanpy:CmdStan args: ['/usr/local/lib/python3.10/dist-packages/prophet/stan_model/prophet_model.bin', 'random', 'seed=57673', 'data', 'file=/tmp/tmpz20i81ve/_so6wbya.json', 'init=/tmp/tmpz20i81ve/8plzaggk.json', 'output', 'file=/tmp/tmpz20i81ve/prophet_modelu_co0t8t/prophet_model-20231001111809.csv', 'method=optimize', 'algorithm=newton', 'iter=10000']\n",
            "11:18:09 - cmdstanpy - INFO - Chain [1] start processing\n",
            "INFO:cmdstanpy:Chain [1] start processing\n",
            "11:18:09 - cmdstanpy - INFO - Chain [1] done processing\n",
            "INFO:cmdstanpy:Chain [1] done processing\n"
          ]
        },
        {
          "output_type": "stream",
          "name": "stdout",
          "text": [
            "+++++++++++++++++++++++++++++++++++++++++++++++++++++++++++++++++++++++++++++++++++++++ [('Prophet', 45.8458), ('ARIMA', 7.7762), ('ETS', 14.8476), ('XGBoost', 2.3554)]\n",
            "+++++++++++++++++++++++++++++++++++++++++++++++++++++++++++++++++++++++++++++++++++++++ XGBoost 24 28 1\n"
          ]
        },
        {
          "output_type": "stream",
          "name": "stderr",
          "text": [
            "/usr/local/lib/python3.10/dist-packages/statsmodels/tsa/base/tsa_model.py:473: ValueWarning: No frequency information was provided, so inferred frequency W-MON will be used.\n",
            "  self._init_dates(dates, freq)\n",
            "/usr/local/lib/python3.10/dist-packages/statsmodels/tsa/holtwinters/model.py:917: ConvergenceWarning: Optimization failed to converge. Check mle_retvals.\n",
            "  warnings.warn(\n",
            "<ipython-input-14-94b3a4e46828>:89: FutureWarning: The frame.append method is deprecated and will be removed from pandas in a future version. Use pandas.concat instead.\n",
            "  results_df = results_df.append(result_dict, ignore_index=True)\n",
            "INFO:prophet:Disabling yearly seasonality. Run prophet with yearly_seasonality=True to override this.\n",
            "INFO:prophet:Disabling weekly seasonality. Run prophet with weekly_seasonality=True to override this.\n",
            "INFO:prophet:Disabling daily seasonality. Run prophet with daily_seasonality=True to override this.\n",
            "INFO:prophet:n_changepoints greater than number of observations. Using 23.\n",
            "DEBUG:cmdstanpy:input tempfile: /tmp/tmpz20i81ve/tvkv8mq4.json\n",
            "DEBUG:cmdstanpy:input tempfile: /tmp/tmpz20i81ve/_wcruuz1.json\n",
            "DEBUG:cmdstanpy:idx 0\n",
            "DEBUG:cmdstanpy:running CmdStan, num_threads: None\n",
            "DEBUG:cmdstanpy:CmdStan args: ['/usr/local/lib/python3.10/dist-packages/prophet/stan_model/prophet_model.bin', 'random', 'seed=23301', 'data', 'file=/tmp/tmpz20i81ve/tvkv8mq4.json', 'init=/tmp/tmpz20i81ve/_wcruuz1.json', 'output', 'file=/tmp/tmpz20i81ve/prophet_model5rn0qpbi/prophet_model-20231001111809.csv', 'method=optimize', 'algorithm=newton', 'iter=10000']\n",
            "11:18:09 - cmdstanpy - INFO - Chain [1] start processing\n",
            "INFO:cmdstanpy:Chain [1] start processing\n"
          ]
        },
        {
          "output_type": "stream",
          "name": "stdout",
          "text": [
            "+++++++++++++++++++++++++++++++++++++++++++++++++++++++++++++++++++++++++++++++++++++++ [('Prophet', 27.9112), ('ARIMA', 10.3829), ('ETS', 4.527), ('XGBoost', 1.8343)]\n",
            "+++++++++++++++++++++++++++++++++++++++++++++++++++++++++++++++++++++++++++++++++++++++ XGBoost 25 29 1\n"
          ]
        },
        {
          "output_type": "stream",
          "name": "stderr",
          "text": [
            "11:18:10 - cmdstanpy - INFO - Chain [1] done processing\n",
            "INFO:cmdstanpy:Chain [1] done processing\n",
            "/usr/local/lib/python3.10/dist-packages/statsmodels/tsa/base/tsa_model.py:473: ValueWarning: No frequency information was provided, so inferred frequency W-MON will be used.\n",
            "  self._init_dates(dates, freq)\n",
            "/usr/local/lib/python3.10/dist-packages/statsmodels/tsa/holtwinters/model.py:917: ConvergenceWarning: Optimization failed to converge. Check mle_retvals.\n",
            "  warnings.warn(\n",
            "<ipython-input-14-94b3a4e46828>:89: FutureWarning: The frame.append method is deprecated and will be removed from pandas in a future version. Use pandas.concat instead.\n",
            "  results_df = results_df.append(result_dict, ignore_index=True)\n",
            "INFO:prophet:Disabling yearly seasonality. Run prophet with yearly_seasonality=True to override this.\n",
            "INFO:prophet:Disabling weekly seasonality. Run prophet with weekly_seasonality=True to override this.\n",
            "INFO:prophet:Disabling daily seasonality. Run prophet with daily_seasonality=True to override this.\n",
            "INFO:prophet:n_changepoints greater than number of observations. Using 23.\n",
            "DEBUG:cmdstanpy:input tempfile: /tmp/tmpz20i81ve/x0z58lzt.json\n",
            "DEBUG:cmdstanpy:input tempfile: /tmp/tmpz20i81ve/7mpnpizd.json\n",
            "DEBUG:cmdstanpy:idx 0\n",
            "DEBUG:cmdstanpy:running CmdStan, num_threads: None\n",
            "DEBUG:cmdstanpy:CmdStan args: ['/usr/local/lib/python3.10/dist-packages/prophet/stan_model/prophet_model.bin', 'random', 'seed=11548', 'data', 'file=/tmp/tmpz20i81ve/x0z58lzt.json', 'init=/tmp/tmpz20i81ve/7mpnpizd.json', 'output', 'file=/tmp/tmpz20i81ve/prophet_modelyjezgq26/prophet_model-20231001111810.csv', 'method=optimize', 'algorithm=newton', 'iter=10000']\n",
            "11:18:10 - cmdstanpy - INFO - Chain [1] start processing\n",
            "INFO:cmdstanpy:Chain [1] start processing\n"
          ]
        },
        {
          "output_type": "stream",
          "name": "stdout",
          "text": [
            "+++++++++++++++++++++++++++++++++++++++++++++++++++++++++++++++++++++++++++++++++++++++ [('Prophet', 10.1056), ('ARIMA', 12.8224), ('ETS', 26.1785), ('XGBoost', 18.1317)]\n",
            "+++++++++++++++++++++++++++++++++++++++++++++++++++++++++++++++++++++++++++++++++++++++ Prophet 26 30 1\n"
          ]
        },
        {
          "output_type": "stream",
          "name": "stderr",
          "text": [
            "11:18:10 - cmdstanpy - INFO - Chain [1] done processing\n",
            "INFO:cmdstanpy:Chain [1] done processing\n",
            "/usr/local/lib/python3.10/dist-packages/statsmodels/tsa/base/tsa_model.py:473: ValueWarning: No frequency information was provided, so inferred frequency W-MON will be used.\n",
            "  self._init_dates(dates, freq)\n",
            "/usr/local/lib/python3.10/dist-packages/statsmodels/tsa/holtwinters/model.py:917: ConvergenceWarning: Optimization failed to converge. Check mle_retvals.\n",
            "  warnings.warn(\n",
            "<ipython-input-14-94b3a4e46828>:89: FutureWarning: The frame.append method is deprecated and will be removed from pandas in a future version. Use pandas.concat instead.\n",
            "  results_df = results_df.append(result_dict, ignore_index=True)\n",
            "INFO:prophet:Disabling yearly seasonality. Run prophet with yearly_seasonality=True to override this.\n",
            "INFO:prophet:Disabling weekly seasonality. Run prophet with weekly_seasonality=True to override this.\n",
            "INFO:prophet:Disabling daily seasonality. Run prophet with daily_seasonality=True to override this.\n",
            "INFO:prophet:n_changepoints greater than number of observations. Using 24.\n",
            "DEBUG:cmdstanpy:input tempfile: /tmp/tmpz20i81ve/bxqcta0k.json\n",
            "DEBUG:cmdstanpy:input tempfile: /tmp/tmpz20i81ve/g1bvbd36.json\n",
            "DEBUG:cmdstanpy:idx 0\n",
            "DEBUG:cmdstanpy:running CmdStan, num_threads: None\n",
            "DEBUG:cmdstanpy:CmdStan args: ['/usr/local/lib/python3.10/dist-packages/prophet/stan_model/prophet_model.bin', 'random', 'seed=26377', 'data', 'file=/tmp/tmpz20i81ve/bxqcta0k.json', 'init=/tmp/tmpz20i81ve/g1bvbd36.json', 'output', 'file=/tmp/tmpz20i81ve/prophet_modelon_odzcu/prophet_model-20231001111814.csv', 'method=optimize', 'algorithm=newton', 'iter=10000']\n",
            "11:18:14 - cmdstanpy - INFO - Chain [1] start processing\n",
            "INFO:cmdstanpy:Chain [1] start processing\n"
          ]
        },
        {
          "output_type": "stream",
          "name": "stdout",
          "text": [
            "+++++++++++++++++++++++++++++++++++++++++++++++++++++++++++++++++++++++++++++++++++++++ [('Prophet', 5.5018), ('ARIMA', 4.6582), ('ETS', 0.1452), ('XGBoost', 19.1747)]\n",
            "+++++++++++++++++++++++++++++++++++++++++++++++++++++++++++++++++++++++++++++++++++++++ ETS 27 31 1\n"
          ]
        },
        {
          "output_type": "stream",
          "name": "stderr",
          "text": [
            "11:18:15 - cmdstanpy - INFO - Chain [1] done processing\n",
            "INFO:cmdstanpy:Chain [1] done processing\n",
            "/usr/local/lib/python3.10/dist-packages/statsmodels/tsa/base/tsa_model.py:473: ValueWarning: No frequency information was provided, so inferred frequency W-MON will be used.\n",
            "  self._init_dates(dates, freq)\n",
            "/usr/local/lib/python3.10/dist-packages/statsmodels/tsa/holtwinters/model.py:917: ConvergenceWarning: Optimization failed to converge. Check mle_retvals.\n",
            "  warnings.warn(\n",
            "<ipython-input-14-94b3a4e46828>:89: FutureWarning: The frame.append method is deprecated and will be removed from pandas in a future version. Use pandas.concat instead.\n",
            "  results_df = results_df.append(result_dict, ignore_index=True)\n",
            "INFO:prophet:Disabling yearly seasonality. Run prophet with yearly_seasonality=True to override this.\n",
            "INFO:prophet:Disabling weekly seasonality. Run prophet with weekly_seasonality=True to override this.\n",
            "INFO:prophet:Disabling daily seasonality. Run prophet with daily_seasonality=True to override this.\n",
            "DEBUG:cmdstanpy:input tempfile: /tmp/tmpz20i81ve/za_cqbv4.json\n",
            "DEBUG:cmdstanpy:input tempfile: /tmp/tmpz20i81ve/14es0uf8.json\n",
            "DEBUG:cmdstanpy:idx 0\n",
            "DEBUG:cmdstanpy:running CmdStan, num_threads: None\n",
            "DEBUG:cmdstanpy:CmdStan args: ['/usr/local/lib/python3.10/dist-packages/prophet/stan_model/prophet_model.bin', 'random', 'seed=17258', 'data', 'file=/tmp/tmpz20i81ve/za_cqbv4.json', 'init=/tmp/tmpz20i81ve/14es0uf8.json', 'output', 'file=/tmp/tmpz20i81ve/prophet_modellwddkqjb/prophet_model-20231001111816.csv', 'method=optimize', 'algorithm=newton', 'iter=10000']\n",
            "11:18:16 - cmdstanpy - INFO - Chain [1] start processing\n",
            "INFO:cmdstanpy:Chain [1] start processing\n",
            "11:18:16 - cmdstanpy - INFO - Chain [1] done processing\n",
            "INFO:cmdstanpy:Chain [1] done processing\n"
          ]
        },
        {
          "output_type": "stream",
          "name": "stdout",
          "text": [
            "+++++++++++++++++++++++++++++++++++++++++++++++++++++++++++++++++++++++++++++++++++++++ [('Prophet', 3.6477), ('ARIMA', 9.4909), ('ETS', 11.7907), ('XGBoost', 20.7528)]\n",
            "+++++++++++++++++++++++++++++++++++++++++++++++++++++++++++++++++++++++++++++++++++++++ Prophet 28 32 1\n"
          ]
        },
        {
          "output_type": "stream",
          "name": "stderr",
          "text": [
            "/usr/local/lib/python3.10/dist-packages/statsmodels/tsa/base/tsa_model.py:473: ValueWarning: No frequency information was provided, so inferred frequency W-MON will be used.\n",
            "  self._init_dates(dates, freq)\n",
            "/usr/local/lib/python3.10/dist-packages/statsmodels/tsa/holtwinters/model.py:917: ConvergenceWarning: Optimization failed to converge. Check mle_retvals.\n",
            "  warnings.warn(\n",
            "<ipython-input-14-94b3a4e46828>:89: FutureWarning: The frame.append method is deprecated and will be removed from pandas in a future version. Use pandas.concat instead.\n",
            "  results_df = results_df.append(result_dict, ignore_index=True)\n",
            "INFO:prophet:Disabling yearly seasonality. Run prophet with yearly_seasonality=True to override this.\n",
            "INFO:prophet:Disabling weekly seasonality. Run prophet with weekly_seasonality=True to override this.\n",
            "INFO:prophet:Disabling daily seasonality. Run prophet with daily_seasonality=True to override this.\n",
            "DEBUG:cmdstanpy:input tempfile: /tmp/tmpz20i81ve/k5y9gby4.json\n",
            "DEBUG:cmdstanpy:input tempfile: /tmp/tmpz20i81ve/92to_j14.json\n",
            "DEBUG:cmdstanpy:idx 0\n",
            "DEBUG:cmdstanpy:running CmdStan, num_threads: None\n",
            "DEBUG:cmdstanpy:CmdStan args: ['/usr/local/lib/python3.10/dist-packages/prophet/stan_model/prophet_model.bin', 'random', 'seed=12221', 'data', 'file=/tmp/tmpz20i81ve/k5y9gby4.json', 'init=/tmp/tmpz20i81ve/92to_j14.json', 'output', 'file=/tmp/tmpz20i81ve/prophet_model2zuuh25b/prophet_model-20231001111816.csv', 'method=optimize', 'algorithm=newton', 'iter=10000']\n",
            "11:18:16 - cmdstanpy - INFO - Chain [1] start processing\n",
            "INFO:cmdstanpy:Chain [1] start processing\n",
            "11:18:16 - cmdstanpy - INFO - Chain [1] done processing\n",
            "INFO:cmdstanpy:Chain [1] done processing\n"
          ]
        },
        {
          "output_type": "stream",
          "name": "stdout",
          "text": [
            "+++++++++++++++++++++++++++++++++++++++++++++++++++++++++++++++++++++++++++++++++++++++ [('Prophet', 13.925), ('ARIMA', 15.9552), ('ETS', 22.2101), ('XGBoost', 7.6454)]\n",
            "+++++++++++++++++++++++++++++++++++++++++++++++++++++++++++++++++++++++++++++++++++++++ XGBoost 29 33 1\n"
          ]
        },
        {
          "output_type": "stream",
          "name": "stderr",
          "text": [
            "/usr/local/lib/python3.10/dist-packages/statsmodels/tsa/base/tsa_model.py:473: ValueWarning: No frequency information was provided, so inferred frequency W-MON will be used.\n",
            "  self._init_dates(dates, freq)\n",
            "/usr/local/lib/python3.10/dist-packages/statsmodels/tsa/holtwinters/model.py:917: ConvergenceWarning: Optimization failed to converge. Check mle_retvals.\n",
            "  warnings.warn(\n",
            "<ipython-input-14-94b3a4e46828>:89: FutureWarning: The frame.append method is deprecated and will be removed from pandas in a future version. Use pandas.concat instead.\n",
            "  results_df = results_df.append(result_dict, ignore_index=True)\n",
            "INFO:prophet:Disabling yearly seasonality. Run prophet with yearly_seasonality=True to override this.\n",
            "INFO:prophet:Disabling weekly seasonality. Run prophet with weekly_seasonality=True to override this.\n",
            "INFO:prophet:Disabling daily seasonality. Run prophet with daily_seasonality=True to override this.\n",
            "DEBUG:cmdstanpy:input tempfile: /tmp/tmpz20i81ve/k6kwp78x.json\n",
            "DEBUG:cmdstanpy:input tempfile: /tmp/tmpz20i81ve/8vk6h98m.json\n",
            "DEBUG:cmdstanpy:idx 0\n",
            "DEBUG:cmdstanpy:running CmdStan, num_threads: None\n",
            "DEBUG:cmdstanpy:CmdStan args: ['/usr/local/lib/python3.10/dist-packages/prophet/stan_model/prophet_model.bin', 'random', 'seed=17790', 'data', 'file=/tmp/tmpz20i81ve/k6kwp78x.json', 'init=/tmp/tmpz20i81ve/8vk6h98m.json', 'output', 'file=/tmp/tmpz20i81ve/prophet_modelekhkwdye/prophet_model-20231001111817.csv', 'method=optimize', 'algorithm=newton', 'iter=10000']\n",
            "11:18:17 - cmdstanpy - INFO - Chain [1] start processing\n",
            "INFO:cmdstanpy:Chain [1] start processing\n",
            "11:18:17 - cmdstanpy - INFO - Chain [1] done processing\n",
            "INFO:cmdstanpy:Chain [1] done processing\n"
          ]
        },
        {
          "output_type": "stream",
          "name": "stdout",
          "text": [
            "+++++++++++++++++++++++++++++++++++++++++++++++++++++++++++++++++++++++++++++++++++++++ [('Prophet', 48.8955), ('ARIMA', 30.4181), ('ETS', 11.9324), ('XGBoost', 23.7131)]\n",
            "+++++++++++++++++++++++++++++++++++++++++++++++++++++++++++++++++++++++++++++++++++++++ ETS 30 34 1\n"
          ]
        },
        {
          "output_type": "stream",
          "name": "stderr",
          "text": [
            "/usr/local/lib/python3.10/dist-packages/statsmodels/tsa/base/tsa_model.py:473: ValueWarning: No frequency information was provided, so inferred frequency W-MON will be used.\n",
            "  self._init_dates(dates, freq)\n",
            "/usr/local/lib/python3.10/dist-packages/statsmodels/tsa/holtwinters/model.py:917: ConvergenceWarning: Optimization failed to converge. Check mle_retvals.\n",
            "  warnings.warn(\n",
            "<ipython-input-14-94b3a4e46828>:89: FutureWarning: The frame.append method is deprecated and will be removed from pandas in a future version. Use pandas.concat instead.\n",
            "  results_df = results_df.append(result_dict, ignore_index=True)\n",
            "INFO:prophet:Disabling yearly seasonality. Run prophet with yearly_seasonality=True to override this.\n",
            "INFO:prophet:Disabling weekly seasonality. Run prophet with weekly_seasonality=True to override this.\n",
            "INFO:prophet:Disabling daily seasonality. Run prophet with daily_seasonality=True to override this.\n",
            "DEBUG:cmdstanpy:input tempfile: /tmp/tmpz20i81ve/2lk67fi0.json\n",
            "DEBUG:cmdstanpy:input tempfile: /tmp/tmpz20i81ve/22u9kfn9.json\n",
            "DEBUG:cmdstanpy:idx 0\n",
            "DEBUG:cmdstanpy:running CmdStan, num_threads: None\n",
            "DEBUG:cmdstanpy:CmdStan args: ['/usr/local/lib/python3.10/dist-packages/prophet/stan_model/prophet_model.bin', 'random', 'seed=55667', 'data', 'file=/tmp/tmpz20i81ve/2lk67fi0.json', 'init=/tmp/tmpz20i81ve/22u9kfn9.json', 'output', 'file=/tmp/tmpz20i81ve/prophet_modelb2szsgyq/prophet_model-20231001111817.csv', 'method=optimize', 'algorithm=newton', 'iter=10000']\n",
            "11:18:17 - cmdstanpy - INFO - Chain [1] start processing\n",
            "INFO:cmdstanpy:Chain [1] start processing\n"
          ]
        },
        {
          "output_type": "stream",
          "name": "stdout",
          "text": [
            "+++++++++++++++++++++++++++++++++++++++++++++++++++++++++++++++++++++++++++++++++++++++ [('Prophet', 16.8369), ('ARIMA', 19.6933), ('ETS', 20.4189), ('XGBoost', 3.7184)]\n",
            "+++++++++++++++++++++++++++++++++++++++++++++++++++++++++++++++++++++++++++++++++++++++ XGBoost 31 35 1\n"
          ]
        },
        {
          "output_type": "stream",
          "name": "stderr",
          "text": [
            "11:18:18 - cmdstanpy - INFO - Chain [1] done processing\n",
            "INFO:cmdstanpy:Chain [1] done processing\n",
            "/usr/local/lib/python3.10/dist-packages/statsmodels/tsa/base/tsa_model.py:473: ValueWarning: No frequency information was provided, so inferred frequency W-MON will be used.\n",
            "  self._init_dates(dates, freq)\n",
            "/usr/local/lib/python3.10/dist-packages/statsmodels/tsa/holtwinters/model.py:917: ConvergenceWarning: Optimization failed to converge. Check mle_retvals.\n",
            "  warnings.warn(\n",
            "<ipython-input-14-94b3a4e46828>:89: FutureWarning: The frame.append method is deprecated and will be removed from pandas in a future version. Use pandas.concat instead.\n",
            "  results_df = results_df.append(result_dict, ignore_index=True)\n",
            "INFO:prophet:Disabling yearly seasonality. Run prophet with yearly_seasonality=True to override this.\n",
            "INFO:prophet:Disabling weekly seasonality. Run prophet with weekly_seasonality=True to override this.\n",
            "INFO:prophet:Disabling daily seasonality. Run prophet with daily_seasonality=True to override this.\n",
            "DEBUG:cmdstanpy:input tempfile: /tmp/tmpz20i81ve/rs1h9k30.json\n",
            "DEBUG:cmdstanpy:input tempfile: /tmp/tmpz20i81ve/7_ktx82r.json\n",
            "DEBUG:cmdstanpy:idx 0\n",
            "DEBUG:cmdstanpy:running CmdStan, num_threads: None\n",
            "DEBUG:cmdstanpy:CmdStan args: ['/usr/local/lib/python3.10/dist-packages/prophet/stan_model/prophet_model.bin', 'random', 'seed=36874', 'data', 'file=/tmp/tmpz20i81ve/rs1h9k30.json', 'init=/tmp/tmpz20i81ve/7_ktx82r.json', 'output', 'file=/tmp/tmpz20i81ve/prophet_modelx2naotx7/prophet_model-20231001111818.csv', 'method=optimize', 'algorithm=newton', 'iter=10000']\n",
            "11:18:18 - cmdstanpy - INFO - Chain [1] start processing\n",
            "INFO:cmdstanpy:Chain [1] start processing\n",
            "11:18:18 - cmdstanpy - INFO - Chain [1] done processing\n",
            "INFO:cmdstanpy:Chain [1] done processing\n"
          ]
        },
        {
          "output_type": "stream",
          "name": "stdout",
          "text": [
            "+++++++++++++++++++++++++++++++++++++++++++++++++++++++++++++++++++++++++++++++++++++++ [('Prophet', 8.4649), ('ARIMA', 6.8824), ('ETS', 2.0186), ('XGBoost', 1.594)]\n",
            "+++++++++++++++++++++++++++++++++++++++++++++++++++++++++++++++++++++++++++++++++++++++ XGBoost 32 36 1\n"
          ]
        },
        {
          "output_type": "stream",
          "name": "stderr",
          "text": [
            "/usr/local/lib/python3.10/dist-packages/statsmodels/tsa/base/tsa_model.py:473: ValueWarning: No frequency information was provided, so inferred frequency W-MON will be used.\n",
            "  self._init_dates(dates, freq)\n",
            "/usr/local/lib/python3.10/dist-packages/statsmodels/tsa/holtwinters/model.py:917: ConvergenceWarning: Optimization failed to converge. Check mle_retvals.\n",
            "  warnings.warn(\n",
            "<ipython-input-14-94b3a4e46828>:89: FutureWarning: The frame.append method is deprecated and will be removed from pandas in a future version. Use pandas.concat instead.\n",
            "  results_df = results_df.append(result_dict, ignore_index=True)\n",
            "INFO:prophet:Disabling yearly seasonality. Run prophet with yearly_seasonality=True to override this.\n",
            "INFO:prophet:Disabling weekly seasonality. Run prophet with weekly_seasonality=True to override this.\n",
            "INFO:prophet:Disabling daily seasonality. Run prophet with daily_seasonality=True to override this.\n",
            "DEBUG:cmdstanpy:input tempfile: /tmp/tmpz20i81ve/z32uzotx.json\n",
            "DEBUG:cmdstanpy:input tempfile: /tmp/tmpz20i81ve/yj007cc4.json\n",
            "DEBUG:cmdstanpy:idx 0\n",
            "DEBUG:cmdstanpy:running CmdStan, num_threads: None\n",
            "DEBUG:cmdstanpy:CmdStan args: ['/usr/local/lib/python3.10/dist-packages/prophet/stan_model/prophet_model.bin', 'random', 'seed=26876', 'data', 'file=/tmp/tmpz20i81ve/z32uzotx.json', 'init=/tmp/tmpz20i81ve/yj007cc4.json', 'output', 'file=/tmp/tmpz20i81ve/prophet_modelgpq24821/prophet_model-20231001111819.csv', 'method=optimize', 'algorithm=newton', 'iter=10000']\n",
            "11:18:19 - cmdstanpy - INFO - Chain [1] start processing\n",
            "INFO:cmdstanpy:Chain [1] start processing\n"
          ]
        },
        {
          "output_type": "stream",
          "name": "stdout",
          "text": [
            "+++++++++++++++++++++++++++++++++++++++++++++++++++++++++++++++++++++++++++++++++++++++ [('Prophet', 10.2243), ('ARIMA', 1.177), ('ETS', 8.4188), ('XGBoost', 2.684)]\n",
            "+++++++++++++++++++++++++++++++++++++++++++++++++++++++++++++++++++++++++++++++++++++++ ARIMA 33 37 1\n"
          ]
        },
        {
          "output_type": "stream",
          "name": "stderr",
          "text": [
            "11:18:19 - cmdstanpy - INFO - Chain [1] done processing\n",
            "INFO:cmdstanpy:Chain [1] done processing\n",
            "/usr/local/lib/python3.10/dist-packages/statsmodels/tsa/base/tsa_model.py:473: ValueWarning: No frequency information was provided, so inferred frequency W-MON will be used.\n",
            "  self._init_dates(dates, freq)\n",
            "/usr/local/lib/python3.10/dist-packages/statsmodels/tsa/holtwinters/model.py:917: ConvergenceWarning: Optimization failed to converge. Check mle_retvals.\n",
            "  warnings.warn(\n",
            "<ipython-input-14-94b3a4e46828>:89: FutureWarning: The frame.append method is deprecated and will be removed from pandas in a future version. Use pandas.concat instead.\n",
            "  results_df = results_df.append(result_dict, ignore_index=True)\n",
            "INFO:prophet:Disabling yearly seasonality. Run prophet with yearly_seasonality=True to override this.\n",
            "INFO:prophet:Disabling weekly seasonality. Run prophet with weekly_seasonality=True to override this.\n",
            "INFO:prophet:Disabling daily seasonality. Run prophet with daily_seasonality=True to override this.\n",
            "DEBUG:cmdstanpy:input tempfile: /tmp/tmpz20i81ve/27dab7te.json\n",
            "DEBUG:cmdstanpy:input tempfile: /tmp/tmpz20i81ve/p33no8f_.json\n",
            "DEBUG:cmdstanpy:idx 0\n",
            "DEBUG:cmdstanpy:running CmdStan, num_threads: None\n",
            "DEBUG:cmdstanpy:CmdStan args: ['/usr/local/lib/python3.10/dist-packages/prophet/stan_model/prophet_model.bin', 'random', 'seed=7162', 'data', 'file=/tmp/tmpz20i81ve/27dab7te.json', 'init=/tmp/tmpz20i81ve/p33no8f_.json', 'output', 'file=/tmp/tmpz20i81ve/prophet_modelwybpl961/prophet_model-20231001111819.csv', 'method=optimize', 'algorithm=newton', 'iter=10000']\n",
            "11:18:19 - cmdstanpy - INFO - Chain [1] start processing\n",
            "INFO:cmdstanpy:Chain [1] start processing\n"
          ]
        },
        {
          "output_type": "stream",
          "name": "stdout",
          "text": [
            "+++++++++++++++++++++++++++++++++++++++++++++++++++++++++++++++++++++++++++++++++++++++ [('Prophet', 43.2582), ('ARIMA', 29.6627), ('ETS', 25.0221), ('XGBoost', 8.118)]\n",
            "+++++++++++++++++++++++++++++++++++++++++++++++++++++++++++++++++++++++++++++++++++++++ XGBoost 34 38 1\n"
          ]
        },
        {
          "output_type": "stream",
          "name": "stderr",
          "text": [
            "11:18:20 - cmdstanpy - INFO - Chain [1] done processing\n",
            "INFO:cmdstanpy:Chain [1] done processing\n",
            "/usr/local/lib/python3.10/dist-packages/statsmodels/tsa/base/tsa_model.py:473: ValueWarning: No frequency information was provided, so inferred frequency W-MON will be used.\n",
            "  self._init_dates(dates, freq)\n",
            "/usr/local/lib/python3.10/dist-packages/statsmodels/tsa/holtwinters/model.py:917: ConvergenceWarning: Optimization failed to converge. Check mle_retvals.\n",
            "  warnings.warn(\n",
            "<ipython-input-14-94b3a4e46828>:89: FutureWarning: The frame.append method is deprecated and will be removed from pandas in a future version. Use pandas.concat instead.\n",
            "  results_df = results_df.append(result_dict, ignore_index=True)\n",
            "INFO:prophet:Disabling yearly seasonality. Run prophet with yearly_seasonality=True to override this.\n",
            "INFO:prophet:Disabling weekly seasonality. Run prophet with weekly_seasonality=True to override this.\n",
            "INFO:prophet:Disabling daily seasonality. Run prophet with daily_seasonality=True to override this.\n",
            "DEBUG:cmdstanpy:input tempfile: /tmp/tmpz20i81ve/mks65o6v.json\n",
            "DEBUG:cmdstanpy:input tempfile: /tmp/tmpz20i81ve/kmyuqnxo.json\n",
            "DEBUG:cmdstanpy:idx 0\n",
            "DEBUG:cmdstanpy:running CmdStan, num_threads: None\n",
            "DEBUG:cmdstanpy:CmdStan args: ['/usr/local/lib/python3.10/dist-packages/prophet/stan_model/prophet_model.bin', 'random', 'seed=26250', 'data', 'file=/tmp/tmpz20i81ve/mks65o6v.json', 'init=/tmp/tmpz20i81ve/kmyuqnxo.json', 'output', 'file=/tmp/tmpz20i81ve/prophet_modelkotzwqtd/prophet_model-20231001111820.csv', 'method=optimize', 'algorithm=newton', 'iter=10000']\n",
            "11:18:20 - cmdstanpy - INFO - Chain [1] start processing\n",
            "INFO:cmdstanpy:Chain [1] start processing\n"
          ]
        },
        {
          "output_type": "stream",
          "name": "stdout",
          "text": [
            "+++++++++++++++++++++++++++++++++++++++++++++++++++++++++++++++++++++++++++++++++++++++ [('Prophet', 29.8155), ('ARIMA', 7.7942), ('ETS', 11.7119), ('XGBoost', 2.7096)]\n",
            "+++++++++++++++++++++++++++++++++++++++++++++++++++++++++++++++++++++++++++++++++++++++ XGBoost 35 39 1\n"
          ]
        },
        {
          "output_type": "stream",
          "name": "stderr",
          "text": [
            "11:18:20 - cmdstanpy - INFO - Chain [1] done processing\n",
            "INFO:cmdstanpy:Chain [1] done processing\n",
            "/usr/local/lib/python3.10/dist-packages/statsmodels/tsa/base/tsa_model.py:473: ValueWarning: No frequency information was provided, so inferred frequency W-MON will be used.\n",
            "  self._init_dates(dates, freq)\n",
            "/usr/local/lib/python3.10/dist-packages/statsmodels/tsa/holtwinters/model.py:917: ConvergenceWarning: Optimization failed to converge. Check mle_retvals.\n",
            "  warnings.warn(\n",
            "<ipython-input-14-94b3a4e46828>:89: FutureWarning: The frame.append method is deprecated and will be removed from pandas in a future version. Use pandas.concat instead.\n",
            "  results_df = results_df.append(result_dict, ignore_index=True)\n",
            "INFO:prophet:Disabling yearly seasonality. Run prophet with yearly_seasonality=True to override this.\n",
            "INFO:prophet:Disabling weekly seasonality. Run prophet with weekly_seasonality=True to override this.\n",
            "INFO:prophet:Disabling daily seasonality. Run prophet with daily_seasonality=True to override this.\n",
            "DEBUG:cmdstanpy:input tempfile: /tmp/tmpz20i81ve/055jdutf.json\n",
            "DEBUG:cmdstanpy:input tempfile: /tmp/tmpz20i81ve/lqpvm3jl.json\n",
            "DEBUG:cmdstanpy:idx 0\n",
            "DEBUG:cmdstanpy:running CmdStan, num_threads: None\n",
            "DEBUG:cmdstanpy:CmdStan args: ['/usr/local/lib/python3.10/dist-packages/prophet/stan_model/prophet_model.bin', 'random', 'seed=76394', 'data', 'file=/tmp/tmpz20i81ve/055jdutf.json', 'init=/tmp/tmpz20i81ve/lqpvm3jl.json', 'output', 'file=/tmp/tmpz20i81ve/prophet_modelms42c3ys/prophet_model-20231001111821.csv', 'method=optimize', 'algorithm=newton', 'iter=10000']\n",
            "11:18:21 - cmdstanpy - INFO - Chain [1] start processing\n",
            "INFO:cmdstanpy:Chain [1] start processing\n"
          ]
        },
        {
          "output_type": "stream",
          "name": "stdout",
          "text": [
            "+++++++++++++++++++++++++++++++++++++++++++++++++++++++++++++++++++++++++++++++++++++++ [('Prophet', 5.0384), ('ARIMA', 18.193), ('ETS', 17.5198), ('XGBoost', 8.6624)]\n",
            "+++++++++++++++++++++++++++++++++++++++++++++++++++++++++++++++++++++++++++++++++++++++ Prophet 36 40 1\n"
          ]
        },
        {
          "output_type": "stream",
          "name": "stderr",
          "text": [
            "11:18:21 - cmdstanpy - INFO - Chain [1] done processing\n",
            "INFO:cmdstanpy:Chain [1] done processing\n",
            "/usr/local/lib/python3.10/dist-packages/statsmodels/tsa/base/tsa_model.py:473: ValueWarning: No frequency information was provided, so inferred frequency W-MON will be used.\n",
            "  self._init_dates(dates, freq)\n",
            "/usr/local/lib/python3.10/dist-packages/statsmodels/tsa/holtwinters/model.py:917: ConvergenceWarning: Optimization failed to converge. Check mle_retvals.\n",
            "  warnings.warn(\n",
            "<ipython-input-14-94b3a4e46828>:89: FutureWarning: The frame.append method is deprecated and will be removed from pandas in a future version. Use pandas.concat instead.\n",
            "  results_df = results_df.append(result_dict, ignore_index=True)\n",
            "INFO:prophet:Disabling yearly seasonality. Run prophet with yearly_seasonality=True to override this.\n",
            "INFO:prophet:Disabling weekly seasonality. Run prophet with weekly_seasonality=True to override this.\n",
            "INFO:prophet:Disabling daily seasonality. Run prophet with daily_seasonality=True to override this.\n",
            "DEBUG:cmdstanpy:input tempfile: /tmp/tmpz20i81ve/a505zyer.json\n",
            "DEBUG:cmdstanpy:input tempfile: /tmp/tmpz20i81ve/dby813aa.json\n",
            "DEBUG:cmdstanpy:idx 0\n",
            "DEBUG:cmdstanpy:running CmdStan, num_threads: None\n",
            "DEBUG:cmdstanpy:CmdStan args: ['/usr/local/lib/python3.10/dist-packages/prophet/stan_model/prophet_model.bin', 'random', 'seed=81791', 'data', 'file=/tmp/tmpz20i81ve/a505zyer.json', 'init=/tmp/tmpz20i81ve/dby813aa.json', 'output', 'file=/tmp/tmpz20i81ve/prophet_modeldcwykh6g/prophet_model-20231001111821.csv', 'method=optimize', 'algorithm=newton', 'iter=10000']\n",
            "11:18:21 - cmdstanpy - INFO - Chain [1] start processing\n",
            "INFO:cmdstanpy:Chain [1] start processing\n",
            "11:18:22 - cmdstanpy - INFO - Chain [1] done processing\n",
            "INFO:cmdstanpy:Chain [1] done processing\n"
          ]
        },
        {
          "output_type": "stream",
          "name": "stdout",
          "text": [
            "+++++++++++++++++++++++++++++++++++++++++++++++++++++++++++++++++++++++++++++++++++++++ [('Prophet', 14.9974), ('ARIMA', 8.9191), ('ETS', 19.9116), ('XGBoost', 2.7126)]\n",
            "+++++++++++++++++++++++++++++++++++++++++++++++++++++++++++++++++++++++++++++++++++++++ XGBoost 37 41 1\n"
          ]
        },
        {
          "output_type": "stream",
          "name": "stderr",
          "text": [
            "/usr/local/lib/python3.10/dist-packages/statsmodels/tsa/base/tsa_model.py:473: ValueWarning: No frequency information was provided, so inferred frequency W-MON will be used.\n",
            "  self._init_dates(dates, freq)\n",
            "/usr/local/lib/python3.10/dist-packages/statsmodels/tsa/holtwinters/model.py:917: ConvergenceWarning: Optimization failed to converge. Check mle_retvals.\n",
            "  warnings.warn(\n",
            "<ipython-input-14-94b3a4e46828>:89: FutureWarning: The frame.append method is deprecated and will be removed from pandas in a future version. Use pandas.concat instead.\n",
            "  results_df = results_df.append(result_dict, ignore_index=True)\n",
            "INFO:prophet:Disabling yearly seasonality. Run prophet with yearly_seasonality=True to override this.\n",
            "INFO:prophet:Disabling weekly seasonality. Run prophet with weekly_seasonality=True to override this.\n",
            "INFO:prophet:Disabling daily seasonality. Run prophet with daily_seasonality=True to override this.\n",
            "DEBUG:cmdstanpy:input tempfile: /tmp/tmpz20i81ve/f8yscmlx.json\n",
            "DEBUG:cmdstanpy:input tempfile: /tmp/tmpz20i81ve/e67y6lel.json\n",
            "DEBUG:cmdstanpy:idx 0\n",
            "DEBUG:cmdstanpy:running CmdStan, num_threads: None\n",
            "DEBUG:cmdstanpy:CmdStan args: ['/usr/local/lib/python3.10/dist-packages/prophet/stan_model/prophet_model.bin', 'random', 'seed=93328', 'data', 'file=/tmp/tmpz20i81ve/f8yscmlx.json', 'init=/tmp/tmpz20i81ve/e67y6lel.json', 'output', 'file=/tmp/tmpz20i81ve/prophet_modelx7zhef1o/prophet_model-20231001111822.csv', 'method=optimize', 'algorithm=newton', 'iter=10000']\n",
            "11:18:22 - cmdstanpy - INFO - Chain [1] start processing\n",
            "INFO:cmdstanpy:Chain [1] start processing\n"
          ]
        },
        {
          "output_type": "stream",
          "name": "stdout",
          "text": [
            "+++++++++++++++++++++++++++++++++++++++++++++++++++++++++++++++++++++++++++++++++++++++ [('Prophet', 5.4554), ('ARIMA', 8.0767), ('ETS', 12.4637), ('XGBoost', 27.0069)]\n",
            "+++++++++++++++++++++++++++++++++++++++++++++++++++++++++++++++++++++++++++++++++++++++ Prophet 38 42 1\n"
          ]
        },
        {
          "output_type": "stream",
          "name": "stderr",
          "text": [
            "11:18:22 - cmdstanpy - INFO - Chain [1] done processing\n",
            "INFO:cmdstanpy:Chain [1] done processing\n",
            "/usr/local/lib/python3.10/dist-packages/statsmodels/tsa/base/tsa_model.py:473: ValueWarning: No frequency information was provided, so inferred frequency W-MON will be used.\n",
            "  self._init_dates(dates, freq)\n",
            "/usr/local/lib/python3.10/dist-packages/statsmodels/tsa/holtwinters/model.py:917: ConvergenceWarning: Optimization failed to converge. Check mle_retvals.\n",
            "  warnings.warn(\n",
            "<ipython-input-14-94b3a4e46828>:89: FutureWarning: The frame.append method is deprecated and will be removed from pandas in a future version. Use pandas.concat instead.\n",
            "  results_df = results_df.append(result_dict, ignore_index=True)\n",
            "INFO:prophet:Disabling yearly seasonality. Run prophet with yearly_seasonality=True to override this.\n",
            "INFO:prophet:Disabling weekly seasonality. Run prophet with weekly_seasonality=True to override this.\n",
            "INFO:prophet:Disabling daily seasonality. Run prophet with daily_seasonality=True to override this.\n",
            "DEBUG:cmdstanpy:input tempfile: /tmp/tmpz20i81ve/4de72fsv.json\n",
            "DEBUG:cmdstanpy:input tempfile: /tmp/tmpz20i81ve/d7qf22nz.json\n",
            "DEBUG:cmdstanpy:idx 0\n",
            "DEBUG:cmdstanpy:running CmdStan, num_threads: None\n",
            "DEBUG:cmdstanpy:CmdStan args: ['/usr/local/lib/python3.10/dist-packages/prophet/stan_model/prophet_model.bin', 'random', 'seed=48202', 'data', 'file=/tmp/tmpz20i81ve/4de72fsv.json', 'init=/tmp/tmpz20i81ve/d7qf22nz.json', 'output', 'file=/tmp/tmpz20i81ve/prophet_modeluj_vt5da/prophet_model-20231001111823.csv', 'method=optimize', 'algorithm=newton', 'iter=10000']\n",
            "11:18:23 - cmdstanpy - INFO - Chain [1] start processing\n",
            "INFO:cmdstanpy:Chain [1] start processing\n"
          ]
        },
        {
          "output_type": "stream",
          "name": "stdout",
          "text": [
            "+++++++++++++++++++++++++++++++++++++++++++++++++++++++++++++++++++++++++++++++++++++++ [('Prophet', 37.103), ('ARIMA', 29.2799), ('ETS', 34.8939), ('XGBoost', 36.5953)]\n",
            "+++++++++++++++++++++++++++++++++++++++++++++++++++++++++++++++++++++++++++++++++++++++ ARIMA 39 43 1\n"
          ]
        },
        {
          "output_type": "stream",
          "name": "stderr",
          "text": [
            "11:18:23 - cmdstanpy - INFO - Chain [1] done processing\n",
            "INFO:cmdstanpy:Chain [1] done processing\n",
            "/usr/local/lib/python3.10/dist-packages/statsmodels/tsa/base/tsa_model.py:473: ValueWarning: No frequency information was provided, so inferred frequency W-MON will be used.\n",
            "  self._init_dates(dates, freq)\n",
            "/usr/local/lib/python3.10/dist-packages/statsmodels/tsa/holtwinters/model.py:917: ConvergenceWarning: Optimization failed to converge. Check mle_retvals.\n",
            "  warnings.warn(\n",
            "<ipython-input-14-94b3a4e46828>:89: FutureWarning: The frame.append method is deprecated and will be removed from pandas in a future version. Use pandas.concat instead.\n",
            "  results_df = results_df.append(result_dict, ignore_index=True)\n",
            "INFO:prophet:Disabling yearly seasonality. Run prophet with yearly_seasonality=True to override this.\n",
            "INFO:prophet:Disabling weekly seasonality. Run prophet with weekly_seasonality=True to override this.\n",
            "INFO:prophet:Disabling daily seasonality. Run prophet with daily_seasonality=True to override this.\n",
            "DEBUG:cmdstanpy:input tempfile: /tmp/tmpz20i81ve/f4zgw21w.json\n",
            "DEBUG:cmdstanpy:input tempfile: /tmp/tmpz20i81ve/54a99d6m.json\n",
            "DEBUG:cmdstanpy:idx 0\n",
            "DEBUG:cmdstanpy:running CmdStan, num_threads: None\n",
            "DEBUG:cmdstanpy:CmdStan args: ['/usr/local/lib/python3.10/dist-packages/prophet/stan_model/prophet_model.bin', 'random', 'seed=47010', 'data', 'file=/tmp/tmpz20i81ve/f4zgw21w.json', 'init=/tmp/tmpz20i81ve/54a99d6m.json', 'output', 'file=/tmp/tmpz20i81ve/prophet_modelxc4phpq1/prophet_model-20231001111824.csv', 'method=optimize', 'algorithm=newton', 'iter=10000']\n",
            "11:18:24 - cmdstanpy - INFO - Chain [1] start processing\n",
            "INFO:cmdstanpy:Chain [1] start processing\n"
          ]
        },
        {
          "output_type": "stream",
          "name": "stdout",
          "text": [
            "+++++++++++++++++++++++++++++++++++++++++++++++++++++++++++++++++++++++++++++++++++++++ [('Prophet', 14.2662), ('ARIMA', 15.3883), ('ETS', 2.7264), ('XGBoost', 1.2691)]\n",
            "+++++++++++++++++++++++++++++++++++++++++++++++++++++++++++++++++++++++++++++++++++++++ XGBoost 40 44 1\n"
          ]
        },
        {
          "output_type": "stream",
          "name": "stderr",
          "text": [
            "11:18:24 - cmdstanpy - INFO - Chain [1] done processing\n",
            "INFO:cmdstanpy:Chain [1] done processing\n",
            "/usr/local/lib/python3.10/dist-packages/statsmodels/tsa/base/tsa_model.py:473: ValueWarning: No frequency information was provided, so inferred frequency W-MON will be used.\n",
            "  self._init_dates(dates, freq)\n",
            "/usr/local/lib/python3.10/dist-packages/statsmodels/tsa/holtwinters/model.py:917: ConvergenceWarning: Optimization failed to converge. Check mle_retvals.\n",
            "  warnings.warn(\n",
            "<ipython-input-14-94b3a4e46828>:89: FutureWarning: The frame.append method is deprecated and will be removed from pandas in a future version. Use pandas.concat instead.\n",
            "  results_df = results_df.append(result_dict, ignore_index=True)\n",
            "INFO:prophet:Disabling yearly seasonality. Run prophet with yearly_seasonality=True to override this.\n",
            "INFO:prophet:Disabling weekly seasonality. Run prophet with weekly_seasonality=True to override this.\n",
            "INFO:prophet:Disabling daily seasonality. Run prophet with daily_seasonality=True to override this.\n",
            "DEBUG:cmdstanpy:input tempfile: /tmp/tmpz20i81ve/iudq9oqr.json\n",
            "DEBUG:cmdstanpy:input tempfile: /tmp/tmpz20i81ve/691agab8.json\n",
            "DEBUG:cmdstanpy:idx 0\n",
            "DEBUG:cmdstanpy:running CmdStan, num_threads: None\n",
            "DEBUG:cmdstanpy:CmdStan args: ['/usr/local/lib/python3.10/dist-packages/prophet/stan_model/prophet_model.bin', 'random', 'seed=76119', 'data', 'file=/tmp/tmpz20i81ve/iudq9oqr.json', 'init=/tmp/tmpz20i81ve/691agab8.json', 'output', 'file=/tmp/tmpz20i81ve/prophet_modelg6fd9wxx/prophet_model-20231001111824.csv', 'method=optimize', 'algorithm=newton', 'iter=10000']\n",
            "11:18:24 - cmdstanpy - INFO - Chain [1] start processing\n",
            "INFO:cmdstanpy:Chain [1] start processing\n",
            "11:18:24 - cmdstanpy - INFO - Chain [1] done processing\n"
          ]
        },
        {
          "output_type": "stream",
          "name": "stdout",
          "text": [
            "+++++++++++++++++++++++++++++++++++++++++++++++++++++++++++++++++++++++++++++++++++++++ [('Prophet', 15.9765), ('ARIMA', 26.3091), ('ETS', 23.1219), ('XGBoost', 18.0334)]\n",
            "+++++++++++++++++++++++++++++++++++++++++++++++++++++++++++++++++++++++++++++++++++++++ Prophet 41 45 1\n"
          ]
        },
        {
          "output_type": "stream",
          "name": "stderr",
          "text": [
            "INFO:cmdstanpy:Chain [1] done processing\n",
            "/usr/local/lib/python3.10/dist-packages/statsmodels/tsa/base/tsa_model.py:473: ValueWarning: No frequency information was provided, so inferred frequency W-MON will be used.\n",
            "  self._init_dates(dates, freq)\n",
            "/usr/local/lib/python3.10/dist-packages/statsmodels/tsa/holtwinters/model.py:917: ConvergenceWarning: Optimization failed to converge. Check mle_retvals.\n",
            "  warnings.warn(\n",
            "<ipython-input-14-94b3a4e46828>:89: FutureWarning: The frame.append method is deprecated and will be removed from pandas in a future version. Use pandas.concat instead.\n",
            "  results_df = results_df.append(result_dict, ignore_index=True)\n",
            "INFO:prophet:Disabling yearly seasonality. Run prophet with yearly_seasonality=True to override this.\n",
            "INFO:prophet:Disabling weekly seasonality. Run prophet with weekly_seasonality=True to override this.\n",
            "INFO:prophet:Disabling daily seasonality. Run prophet with daily_seasonality=True to override this.\n",
            "DEBUG:cmdstanpy:input tempfile: /tmp/tmpz20i81ve/kaqohw6x.json\n",
            "DEBUG:cmdstanpy:input tempfile: /tmp/tmpz20i81ve/leemtnc0.json\n",
            "DEBUG:cmdstanpy:idx 0\n",
            "DEBUG:cmdstanpy:running CmdStan, num_threads: None\n",
            "DEBUG:cmdstanpy:CmdStan args: ['/usr/local/lib/python3.10/dist-packages/prophet/stan_model/prophet_model.bin', 'random', 'seed=23364', 'data', 'file=/tmp/tmpz20i81ve/kaqohw6x.json', 'init=/tmp/tmpz20i81ve/leemtnc0.json', 'output', 'file=/tmp/tmpz20i81ve/prophet_model_1cbmw71/prophet_model-20231001111825.csv', 'method=optimize', 'algorithm=newton', 'iter=10000']\n",
            "11:18:25 - cmdstanpy - INFO - Chain [1] start processing\n",
            "INFO:cmdstanpy:Chain [1] start processing\n",
            "11:18:25 - cmdstanpy - INFO - Chain [1] done processing\n",
            "INFO:cmdstanpy:Chain [1] done processing\n"
          ]
        },
        {
          "output_type": "stream",
          "name": "stdout",
          "text": [
            "+++++++++++++++++++++++++++++++++++++++++++++++++++++++++++++++++++++++++++++++++++++++ [('Prophet', 10.0319), ('ARIMA', 27.8011), ('ETS', 17.945), ('XGBoost', 14.01)]\n",
            "+++++++++++++++++++++++++++++++++++++++++++++++++++++++++++++++++++++++++++++++++++++++ Prophet 42 46 1\n"
          ]
        },
        {
          "output_type": "stream",
          "name": "stderr",
          "text": [
            "/usr/local/lib/python3.10/dist-packages/statsmodels/tsa/base/tsa_model.py:473: ValueWarning: No frequency information was provided, so inferred frequency W-MON will be used.\n",
            "  self._init_dates(dates, freq)\n",
            "/usr/local/lib/python3.10/dist-packages/statsmodels/tsa/holtwinters/model.py:917: ConvergenceWarning: Optimization failed to converge. Check mle_retvals.\n",
            "  warnings.warn(\n",
            "<ipython-input-14-94b3a4e46828>:89: FutureWarning: The frame.append method is deprecated and will be removed from pandas in a future version. Use pandas.concat instead.\n",
            "  results_df = results_df.append(result_dict, ignore_index=True)\n",
            "INFO:prophet:Disabling yearly seasonality. Run prophet with yearly_seasonality=True to override this.\n",
            "INFO:prophet:Disabling weekly seasonality. Run prophet with weekly_seasonality=True to override this.\n",
            "INFO:prophet:Disabling daily seasonality. Run prophet with daily_seasonality=True to override this.\n",
            "DEBUG:cmdstanpy:input tempfile: /tmp/tmpz20i81ve/piqg_4xw.json\n",
            "DEBUG:cmdstanpy:input tempfile: /tmp/tmpz20i81ve/afippiut.json\n",
            "DEBUG:cmdstanpy:idx 0\n",
            "DEBUG:cmdstanpy:running CmdStan, num_threads: None\n",
            "DEBUG:cmdstanpy:CmdStan args: ['/usr/local/lib/python3.10/dist-packages/prophet/stan_model/prophet_model.bin', 'random', 'seed=51219', 'data', 'file=/tmp/tmpz20i81ve/piqg_4xw.json', 'init=/tmp/tmpz20i81ve/afippiut.json', 'output', 'file=/tmp/tmpz20i81ve/prophet_modelprw_i1pc/prophet_model-20231001111831.csv', 'method=optimize', 'algorithm=newton', 'iter=10000']\n",
            "11:18:31 - cmdstanpy - INFO - Chain [1] start processing\n",
            "INFO:cmdstanpy:Chain [1] start processing\n"
          ]
        },
        {
          "output_type": "stream",
          "name": "stdout",
          "text": [
            "+++++++++++++++++++++++++++++++++++++++++++++++++++++++++++++++++++++++++++++++++++++++ [('Prophet', 1.5151), ('ARIMA', 20.7274), ('ETS', 3.6224), ('XGBoost', 33.3686)]\n",
            "+++++++++++++++++++++++++++++++++++++++++++++++++++++++++++++++++++++++++++++++++++++++ Prophet 43 47 1\n"
          ]
        },
        {
          "output_type": "stream",
          "name": "stderr",
          "text": [
            "11:18:31 - cmdstanpy - INFO - Chain [1] done processing\n",
            "INFO:cmdstanpy:Chain [1] done processing\n",
            "/usr/local/lib/python3.10/dist-packages/statsmodels/tsa/base/tsa_model.py:473: ValueWarning: No frequency information was provided, so inferred frequency W-MON will be used.\n",
            "  self._init_dates(dates, freq)\n",
            "/usr/local/lib/python3.10/dist-packages/statsmodels/tsa/holtwinters/model.py:917: ConvergenceWarning: Optimization failed to converge. Check mle_retvals.\n",
            "  warnings.warn(\n",
            "<ipython-input-14-94b3a4e46828>:89: FutureWarning: The frame.append method is deprecated and will be removed from pandas in a future version. Use pandas.concat instead.\n",
            "  results_df = results_df.append(result_dict, ignore_index=True)\n",
            "INFO:prophet:Disabling yearly seasonality. Run prophet with yearly_seasonality=True to override this.\n",
            "INFO:prophet:Disabling weekly seasonality. Run prophet with weekly_seasonality=True to override this.\n",
            "INFO:prophet:Disabling daily seasonality. Run prophet with daily_seasonality=True to override this.\n",
            "DEBUG:cmdstanpy:input tempfile: /tmp/tmpz20i81ve/sylbbwq_.json\n",
            "DEBUG:cmdstanpy:input tempfile: /tmp/tmpz20i81ve/9jwm5dvk.json\n",
            "DEBUG:cmdstanpy:idx 0\n",
            "DEBUG:cmdstanpy:running CmdStan, num_threads: None\n",
            "DEBUG:cmdstanpy:CmdStan args: ['/usr/local/lib/python3.10/dist-packages/prophet/stan_model/prophet_model.bin', 'random', 'seed=22128', 'data', 'file=/tmp/tmpz20i81ve/sylbbwq_.json', 'init=/tmp/tmpz20i81ve/9jwm5dvk.json', 'output', 'file=/tmp/tmpz20i81ve/prophet_model1cnhogdf/prophet_model-20231001111832.csv', 'method=optimize', 'algorithm=newton', 'iter=10000']\n",
            "11:18:32 - cmdstanpy - INFO - Chain [1] start processing\n",
            "INFO:cmdstanpy:Chain [1] start processing\n",
            "11:18:32 - cmdstanpy - INFO - Chain [1] done processing\n",
            "INFO:cmdstanpy:Chain [1] done processing\n"
          ]
        },
        {
          "output_type": "stream",
          "name": "stdout",
          "text": [
            "+++++++++++++++++++++++++++++++++++++++++++++++++++++++++++++++++++++++++++++++++++++++ [('Prophet', 8.7329), ('ARIMA', 9.3112), ('ETS', 17.8282), ('XGBoost', 1.8465)]\n",
            "+++++++++++++++++++++++++++++++++++++++++++++++++++++++++++++++++++++++++++++++++++++++ XGBoost 44 48 1\n"
          ]
        },
        {
          "output_type": "stream",
          "name": "stderr",
          "text": [
            "/usr/local/lib/python3.10/dist-packages/statsmodels/tsa/base/tsa_model.py:473: ValueWarning: No frequency information was provided, so inferred frequency W-MON will be used.\n",
            "  self._init_dates(dates, freq)\n",
            "/usr/local/lib/python3.10/dist-packages/statsmodels/tsa/holtwinters/model.py:917: ConvergenceWarning: Optimization failed to converge. Check mle_retvals.\n",
            "  warnings.warn(\n",
            "<ipython-input-14-94b3a4e46828>:89: FutureWarning: The frame.append method is deprecated and will be removed from pandas in a future version. Use pandas.concat instead.\n",
            "  results_df = results_df.append(result_dict, ignore_index=True)\n",
            "INFO:prophet:Disabling yearly seasonality. Run prophet with yearly_seasonality=True to override this.\n",
            "INFO:prophet:Disabling weekly seasonality. Run prophet with weekly_seasonality=True to override this.\n",
            "INFO:prophet:Disabling daily seasonality. Run prophet with daily_seasonality=True to override this.\n",
            "DEBUG:cmdstanpy:input tempfile: /tmp/tmpz20i81ve/n193ulf6.json\n",
            "DEBUG:cmdstanpy:input tempfile: /tmp/tmpz20i81ve/3_n7xy37.json\n",
            "DEBUG:cmdstanpy:idx 0\n",
            "DEBUG:cmdstanpy:running CmdStan, num_threads: None\n",
            "DEBUG:cmdstanpy:CmdStan args: ['/usr/local/lib/python3.10/dist-packages/prophet/stan_model/prophet_model.bin', 'random', 'seed=60462', 'data', 'file=/tmp/tmpz20i81ve/n193ulf6.json', 'init=/tmp/tmpz20i81ve/3_n7xy37.json', 'output', 'file=/tmp/tmpz20i81ve/prophet_model0l0keyyh/prophet_model-20231001111832.csv', 'method=optimize', 'algorithm=newton', 'iter=10000']\n",
            "11:18:32 - cmdstanpy - INFO - Chain [1] start processing\n",
            "INFO:cmdstanpy:Chain [1] start processing\n"
          ]
        },
        {
          "output_type": "stream",
          "name": "stdout",
          "text": [
            "+++++++++++++++++++++++++++++++++++++++++++++++++++++++++++++++++++++++++++++++++++++++ [('Prophet', 47.112), ('ARIMA', 35.0341), ('ETS', 34.7938), ('XGBoost', 71.4143)]\n",
            "+++++++++++++++++++++++++++++++++++++++++++++++++++++++++++++++++++++++++++++++++++++++ ETS 45 49 1\n"
          ]
        },
        {
          "output_type": "stream",
          "name": "stderr",
          "text": [
            "11:18:33 - cmdstanpy - INFO - Chain [1] done processing\n",
            "INFO:cmdstanpy:Chain [1] done processing\n",
            "/usr/local/lib/python3.10/dist-packages/statsmodels/tsa/base/tsa_model.py:473: ValueWarning: No frequency information was provided, so inferred frequency W-MON will be used.\n",
            "  self._init_dates(dates, freq)\n",
            "/usr/local/lib/python3.10/dist-packages/statsmodels/tsa/holtwinters/model.py:917: ConvergenceWarning: Optimization failed to converge. Check mle_retvals.\n",
            "  warnings.warn(\n",
            "<ipython-input-14-94b3a4e46828>:89: FutureWarning: The frame.append method is deprecated and will be removed from pandas in a future version. Use pandas.concat instead.\n",
            "  results_df = results_df.append(result_dict, ignore_index=True)\n",
            "INFO:prophet:Disabling yearly seasonality. Run prophet with yearly_seasonality=True to override this.\n",
            "INFO:prophet:Disabling weekly seasonality. Run prophet with weekly_seasonality=True to override this.\n",
            "INFO:prophet:Disabling daily seasonality. Run prophet with daily_seasonality=True to override this.\n",
            "DEBUG:cmdstanpy:input tempfile: /tmp/tmpz20i81ve/w0v0da6l.json\n",
            "DEBUG:cmdstanpy:input tempfile: /tmp/tmpz20i81ve/9t09yi4w.json\n",
            "DEBUG:cmdstanpy:idx 0\n",
            "DEBUG:cmdstanpy:running CmdStan, num_threads: None\n",
            "DEBUG:cmdstanpy:CmdStan args: ['/usr/local/lib/python3.10/dist-packages/prophet/stan_model/prophet_model.bin', 'random', 'seed=442', 'data', 'file=/tmp/tmpz20i81ve/w0v0da6l.json', 'init=/tmp/tmpz20i81ve/9t09yi4w.json', 'output', 'file=/tmp/tmpz20i81ve/prophet_modelgarbf98w/prophet_model-20231001111833.csv', 'method=optimize', 'algorithm=newton', 'iter=10000']\n",
            "11:18:33 - cmdstanpy - INFO - Chain [1] start processing\n",
            "INFO:cmdstanpy:Chain [1] start processing\n"
          ]
        },
        {
          "output_type": "stream",
          "name": "stdout",
          "text": [
            "+++++++++++++++++++++++++++++++++++++++++++++++++++++++++++++++++++++++++++++++++++++++ [('Prophet', 49.1128), ('ARIMA', 3.0925), ('ETS', 6.1088), ('XGBoost', 22.0691)]\n",
            "+++++++++++++++++++++++++++++++++++++++++++++++++++++++++++++++++++++++++++++++++++++++ ARIMA 46 50 1\n"
          ]
        },
        {
          "output_type": "stream",
          "name": "stderr",
          "text": [
            "11:18:33 - cmdstanpy - INFO - Chain [1] done processing\n",
            "INFO:cmdstanpy:Chain [1] done processing\n",
            "/usr/local/lib/python3.10/dist-packages/statsmodels/tsa/base/tsa_model.py:473: ValueWarning: No frequency information was provided, so inferred frequency W-MON will be used.\n",
            "  self._init_dates(dates, freq)\n",
            "/usr/local/lib/python3.10/dist-packages/statsmodels/tsa/holtwinters/model.py:917: ConvergenceWarning: Optimization failed to converge. Check mle_retvals.\n",
            "  warnings.warn(\n",
            "<ipython-input-14-94b3a4e46828>:89: FutureWarning: The frame.append method is deprecated and will be removed from pandas in a future version. Use pandas.concat instead.\n",
            "  results_df = results_df.append(result_dict, ignore_index=True)\n",
            "INFO:prophet:Disabling yearly seasonality. Run prophet with yearly_seasonality=True to override this.\n",
            "INFO:prophet:Disabling weekly seasonality. Run prophet with weekly_seasonality=True to override this.\n",
            "INFO:prophet:Disabling daily seasonality. Run prophet with daily_seasonality=True to override this.\n",
            "DEBUG:cmdstanpy:input tempfile: /tmp/tmpz20i81ve/a6l0yr2l.json\n",
            "DEBUG:cmdstanpy:input tempfile: /tmp/tmpz20i81ve/b722g5i6.json\n",
            "DEBUG:cmdstanpy:idx 0\n",
            "DEBUG:cmdstanpy:running CmdStan, num_threads: None\n",
            "DEBUG:cmdstanpy:CmdStan args: ['/usr/local/lib/python3.10/dist-packages/prophet/stan_model/prophet_model.bin', 'random', 'seed=1615', 'data', 'file=/tmp/tmpz20i81ve/a6l0yr2l.json', 'init=/tmp/tmpz20i81ve/b722g5i6.json', 'output', 'file=/tmp/tmpz20i81ve/prophet_model28v0mjpb/prophet_model-20231001111834.csv', 'method=optimize', 'algorithm=newton', 'iter=10000']\n",
            "11:18:34 - cmdstanpy - INFO - Chain [1] start processing\n",
            "INFO:cmdstanpy:Chain [1] start processing\n"
          ]
        },
        {
          "output_type": "stream",
          "name": "stdout",
          "text": [
            "+++++++++++++++++++++++++++++++++++++++++++++++++++++++++++++++++++++++++++++++++++++++ [('Prophet', 17.8398), ('ARIMA', 19.5838), ('ETS', 20.4653), ('XGBoost', 51.4776)]\n",
            "+++++++++++++++++++++++++++++++++++++++++++++++++++++++++++++++++++++++++++++++++++++++ Prophet 47 51 1\n"
          ]
        },
        {
          "output_type": "stream",
          "name": "stderr",
          "text": [
            "11:18:34 - cmdstanpy - INFO - Chain [1] done processing\n",
            "INFO:cmdstanpy:Chain [1] done processing\n",
            "/usr/local/lib/python3.10/dist-packages/statsmodels/tsa/base/tsa_model.py:473: ValueWarning: No frequency information was provided, so inferred frequency W-MON will be used.\n",
            "  self._init_dates(dates, freq)\n",
            "/usr/local/lib/python3.10/dist-packages/statsmodels/tsa/holtwinters/model.py:917: ConvergenceWarning: Optimization failed to converge. Check mle_retvals.\n",
            "  warnings.warn(\n",
            "<ipython-input-14-94b3a4e46828>:89: FutureWarning: The frame.append method is deprecated and will be removed from pandas in a future version. Use pandas.concat instead.\n",
            "  results_df = results_df.append(result_dict, ignore_index=True)\n",
            "INFO:prophet:Disabling yearly seasonality. Run prophet with yearly_seasonality=True to override this.\n",
            "INFO:prophet:Disabling weekly seasonality. Run prophet with weekly_seasonality=True to override this.\n",
            "INFO:prophet:Disabling daily seasonality. Run prophet with daily_seasonality=True to override this.\n",
            "DEBUG:cmdstanpy:input tempfile: /tmp/tmpz20i81ve/hyvb5me5.json\n",
            "DEBUG:cmdstanpy:input tempfile: /tmp/tmpz20i81ve/ltt9o468.json\n",
            "DEBUG:cmdstanpy:idx 0\n",
            "DEBUG:cmdstanpy:running CmdStan, num_threads: None\n",
            "DEBUG:cmdstanpy:CmdStan args: ['/usr/local/lib/python3.10/dist-packages/prophet/stan_model/prophet_model.bin', 'random', 'seed=60784', 'data', 'file=/tmp/tmpz20i81ve/hyvb5me5.json', 'init=/tmp/tmpz20i81ve/ltt9o468.json', 'output', 'file=/tmp/tmpz20i81ve/prophet_modelkj2yigq1/prophet_model-20231001111835.csv', 'method=optimize', 'algorithm=newton', 'iter=10000']\n",
            "11:18:35 - cmdstanpy - INFO - Chain [1] start processing\n",
            "INFO:cmdstanpy:Chain [1] start processing\n"
          ]
        },
        {
          "output_type": "stream",
          "name": "stdout",
          "text": [
            "+++++++++++++++++++++++++++++++++++++++++++++++++++++++++++++++++++++++++++++++++++++++ [('Prophet', 2.0493), ('ARIMA', 13.0253), ('ETS', 10.1159), ('XGBoost', 18.5254)]\n",
            "+++++++++++++++++++++++++++++++++++++++++++++++++++++++++++++++++++++++++++++++++++++++ Prophet 48 52 1\n"
          ]
        },
        {
          "output_type": "stream",
          "name": "stderr",
          "text": [
            "11:18:35 - cmdstanpy - INFO - Chain [1] done processing\n",
            "INFO:cmdstanpy:Chain [1] done processing\n",
            "/usr/local/lib/python3.10/dist-packages/statsmodels/tsa/base/tsa_model.py:473: ValueWarning: No frequency information was provided, so inferred frequency W-MON will be used.\n",
            "  self._init_dates(dates, freq)\n",
            "/usr/local/lib/python3.10/dist-packages/statsmodels/tsa/holtwinters/model.py:917: ConvergenceWarning: Optimization failed to converge. Check mle_retvals.\n",
            "  warnings.warn(\n",
            "<ipython-input-14-94b3a4e46828>:89: FutureWarning: The frame.append method is deprecated and will be removed from pandas in a future version. Use pandas.concat instead.\n",
            "  results_df = results_df.append(result_dict, ignore_index=True)\n",
            "INFO:prophet:Disabling yearly seasonality. Run prophet with yearly_seasonality=True to override this.\n",
            "INFO:prophet:Disabling weekly seasonality. Run prophet with weekly_seasonality=True to override this.\n",
            "INFO:prophet:Disabling daily seasonality. Run prophet with daily_seasonality=True to override this.\n",
            "DEBUG:cmdstanpy:input tempfile: /tmp/tmpz20i81ve/mk6989ud.json\n",
            "DEBUG:cmdstanpy:input tempfile: /tmp/tmpz20i81ve/guwebxgu.json\n",
            "DEBUG:cmdstanpy:idx 0\n",
            "DEBUG:cmdstanpy:running CmdStan, num_threads: None\n",
            "DEBUG:cmdstanpy:CmdStan args: ['/usr/local/lib/python3.10/dist-packages/prophet/stan_model/prophet_model.bin', 'random', 'seed=46400', 'data', 'file=/tmp/tmpz20i81ve/mk6989ud.json', 'init=/tmp/tmpz20i81ve/guwebxgu.json', 'output', 'file=/tmp/tmpz20i81ve/prophet_modeltuvsulps/prophet_model-20231001111836.csv', 'method=optimize', 'algorithm=newton', 'iter=10000']\n",
            "11:18:36 - cmdstanpy - INFO - Chain [1] start processing\n",
            "INFO:cmdstanpy:Chain [1] start processing\n"
          ]
        },
        {
          "output_type": "stream",
          "name": "stdout",
          "text": [
            "+++++++++++++++++++++++++++++++++++++++++++++++++++++++++++++++++++++++++++++++++++++++ [('Prophet', 6.4076), ('ARIMA', 12.8523), ('ETS', 8.0405), ('XGBoost', 12.4182)]\n",
            "+++++++++++++++++++++++++++++++++++++++++++++++++++++++++++++++++++++++++++++++++++++++ Prophet 49 53 1\n"
          ]
        },
        {
          "output_type": "stream",
          "name": "stderr",
          "text": [
            "11:18:36 - cmdstanpy - INFO - Chain [1] done processing\n",
            "INFO:cmdstanpy:Chain [1] done processing\n",
            "/usr/local/lib/python3.10/dist-packages/statsmodels/tsa/base/tsa_model.py:473: ValueWarning: No frequency information was provided, so inferred frequency W-MON will be used.\n",
            "  self._init_dates(dates, freq)\n",
            "/usr/local/lib/python3.10/dist-packages/statsmodels/tsa/holtwinters/model.py:917: ConvergenceWarning: Optimization failed to converge. Check mle_retvals.\n",
            "  warnings.warn(\n",
            "<ipython-input-14-94b3a4e46828>:89: FutureWarning: The frame.append method is deprecated and will be removed from pandas in a future version. Use pandas.concat instead.\n",
            "  results_df = results_df.append(result_dict, ignore_index=True)\n",
            "INFO:prophet:Disabling yearly seasonality. Run prophet with yearly_seasonality=True to override this.\n",
            "INFO:prophet:Disabling weekly seasonality. Run prophet with weekly_seasonality=True to override this.\n",
            "INFO:prophet:Disabling daily seasonality. Run prophet with daily_seasonality=True to override this.\n",
            "DEBUG:cmdstanpy:input tempfile: /tmp/tmpz20i81ve/i0xlbm7n.json\n",
            "DEBUG:cmdstanpy:input tempfile: /tmp/tmpz20i81ve/4htj1qi3.json\n",
            "DEBUG:cmdstanpy:idx 0\n",
            "DEBUG:cmdstanpy:running CmdStan, num_threads: None\n",
            "DEBUG:cmdstanpy:CmdStan args: ['/usr/local/lib/python3.10/dist-packages/prophet/stan_model/prophet_model.bin', 'random', 'seed=10807', 'data', 'file=/tmp/tmpz20i81ve/i0xlbm7n.json', 'init=/tmp/tmpz20i81ve/4htj1qi3.json', 'output', 'file=/tmp/tmpz20i81ve/prophet_modelbtjxfxag/prophet_model-20231001111837.csv', 'method=optimize', 'algorithm=newton', 'iter=10000']\n",
            "11:18:37 - cmdstanpy - INFO - Chain [1] start processing\n",
            "INFO:cmdstanpy:Chain [1] start processing\n"
          ]
        },
        {
          "output_type": "stream",
          "name": "stdout",
          "text": [
            "+++++++++++++++++++++++++++++++++++++++++++++++++++++++++++++++++++++++++++++++++++++++ [('Prophet', 11.9892), ('ARIMA', 18.3397), ('ETS', 17.5023), ('XGBoost', 13.8651)]\n",
            "+++++++++++++++++++++++++++++++++++++++++++++++++++++++++++++++++++++++++++++++++++++++ Prophet 50 54 1\n"
          ]
        },
        {
          "output_type": "stream",
          "name": "stderr",
          "text": [
            "11:18:37 - cmdstanpy - INFO - Chain [1] done processing\n",
            "INFO:cmdstanpy:Chain [1] done processing\n",
            "/usr/local/lib/python3.10/dist-packages/statsmodels/tsa/base/tsa_model.py:473: ValueWarning: No frequency information was provided, so inferred frequency W-MON will be used.\n",
            "  self._init_dates(dates, freq)\n",
            "/usr/local/lib/python3.10/dist-packages/statsmodels/tsa/holtwinters/model.py:917: ConvergenceWarning: Optimization failed to converge. Check mle_retvals.\n",
            "  warnings.warn(\n",
            "<ipython-input-14-94b3a4e46828>:89: FutureWarning: The frame.append method is deprecated and will be removed from pandas in a future version. Use pandas.concat instead.\n",
            "  results_df = results_df.append(result_dict, ignore_index=True)\n",
            "INFO:prophet:Disabling yearly seasonality. Run prophet with yearly_seasonality=True to override this.\n",
            "INFO:prophet:Disabling weekly seasonality. Run prophet with weekly_seasonality=True to override this.\n",
            "INFO:prophet:Disabling daily seasonality. Run prophet with daily_seasonality=True to override this.\n",
            "DEBUG:cmdstanpy:input tempfile: /tmp/tmpz20i81ve/saz5i6ri.json\n",
            "DEBUG:cmdstanpy:input tempfile: /tmp/tmpz20i81ve/s7yhtcd4.json\n",
            "DEBUG:cmdstanpy:idx 0\n",
            "DEBUG:cmdstanpy:running CmdStan, num_threads: None\n",
            "DEBUG:cmdstanpy:CmdStan args: ['/usr/local/lib/python3.10/dist-packages/prophet/stan_model/prophet_model.bin', 'random', 'seed=55135', 'data', 'file=/tmp/tmpz20i81ve/saz5i6ri.json', 'init=/tmp/tmpz20i81ve/s7yhtcd4.json', 'output', 'file=/tmp/tmpz20i81ve/prophet_modellyp2wpmh/prophet_model-20231001111838.csv', 'method=optimize', 'algorithm=newton', 'iter=10000']\n",
            "11:18:38 - cmdstanpy - INFO - Chain [1] start processing\n",
            "INFO:cmdstanpy:Chain [1] start processing\n"
          ]
        },
        {
          "output_type": "stream",
          "name": "stdout",
          "text": [
            "+++++++++++++++++++++++++++++++++++++++++++++++++++++++++++++++++++++++++++++++++++++++ [('Prophet', 1.304), ('ARIMA', 9.5143), ('ETS', 7.1143), ('XGBoost', 13.8481)]\n",
            "+++++++++++++++++++++++++++++++++++++++++++++++++++++++++++++++++++++++++++++++++++++++ Prophet 51 55 1\n"
          ]
        },
        {
          "output_type": "stream",
          "name": "stderr",
          "text": [
            "11:18:38 - cmdstanpy - INFO - Chain [1] done processing\n",
            "INFO:cmdstanpy:Chain [1] done processing\n",
            "/usr/local/lib/python3.10/dist-packages/statsmodels/tsa/base/tsa_model.py:473: ValueWarning: No frequency information was provided, so inferred frequency W-MON will be used.\n",
            "  self._init_dates(dates, freq)\n",
            "/usr/local/lib/python3.10/dist-packages/statsmodels/tsa/holtwinters/model.py:917: ConvergenceWarning: Optimization failed to converge. Check mle_retvals.\n",
            "  warnings.warn(\n",
            "<ipython-input-14-94b3a4e46828>:89: FutureWarning: The frame.append method is deprecated and will be removed from pandas in a future version. Use pandas.concat instead.\n",
            "  results_df = results_df.append(result_dict, ignore_index=True)\n",
            "INFO:prophet:Disabling yearly seasonality. Run prophet with yearly_seasonality=True to override this.\n",
            "INFO:prophet:Disabling weekly seasonality. Run prophet with weekly_seasonality=True to override this.\n",
            "INFO:prophet:Disabling daily seasonality. Run prophet with daily_seasonality=True to override this.\n",
            "DEBUG:cmdstanpy:input tempfile: /tmp/tmpz20i81ve/vji_t835.json\n",
            "DEBUG:cmdstanpy:input tempfile: /tmp/tmpz20i81ve/09q8vjyi.json\n",
            "DEBUG:cmdstanpy:idx 0\n",
            "DEBUG:cmdstanpy:running CmdStan, num_threads: None\n",
            "DEBUG:cmdstanpy:CmdStan args: ['/usr/local/lib/python3.10/dist-packages/prophet/stan_model/prophet_model.bin', 'random', 'seed=95423', 'data', 'file=/tmp/tmpz20i81ve/vji_t835.json', 'init=/tmp/tmpz20i81ve/09q8vjyi.json', 'output', 'file=/tmp/tmpz20i81ve/prophet_modelixt6qhqn/prophet_model-20231001111838.csv', 'method=optimize', 'algorithm=newton', 'iter=10000']\n",
            "11:18:38 - cmdstanpy - INFO - Chain [1] start processing\n",
            "INFO:cmdstanpy:Chain [1] start processing\n"
          ]
        },
        {
          "output_type": "stream",
          "name": "stdout",
          "text": [
            "+++++++++++++++++++++++++++++++++++++++++++++++++++++++++++++++++++++++++++++++++++++++ [('Prophet', 6.988), ('ARIMA', 5.0626), ('ETS', 15.9205), ('XGBoost', 0.0176)]\n",
            "+++++++++++++++++++++++++++++++++++++++++++++++++++++++++++++++++++++++++++++++++++++++ XGBoost 52 56 1\n"
          ]
        },
        {
          "output_type": "stream",
          "name": "stderr",
          "text": [
            "11:18:39 - cmdstanpy - INFO - Chain [1] done processing\n",
            "INFO:cmdstanpy:Chain [1] done processing\n",
            "/usr/local/lib/python3.10/dist-packages/statsmodels/tsa/base/tsa_model.py:473: ValueWarning: No frequency information was provided, so inferred frequency W-MON will be used.\n",
            "  self._init_dates(dates, freq)\n",
            "/usr/local/lib/python3.10/dist-packages/statsmodels/tsa/holtwinters/model.py:917: ConvergenceWarning: Optimization failed to converge. Check mle_retvals.\n",
            "  warnings.warn(\n",
            "<ipython-input-14-94b3a4e46828>:89: FutureWarning: The frame.append method is deprecated and will be removed from pandas in a future version. Use pandas.concat instead.\n",
            "  results_df = results_df.append(result_dict, ignore_index=True)\n",
            "INFO:prophet:Disabling yearly seasonality. Run prophet with yearly_seasonality=True to override this.\n",
            "INFO:prophet:Disabling weekly seasonality. Run prophet with weekly_seasonality=True to override this.\n",
            "INFO:prophet:Disabling daily seasonality. Run prophet with daily_seasonality=True to override this.\n",
            "DEBUG:cmdstanpy:input tempfile: /tmp/tmpz20i81ve/yq7f7kh6.json\n",
            "DEBUG:cmdstanpy:input tempfile: /tmp/tmpz20i81ve/gwosnze2.json\n",
            "DEBUG:cmdstanpy:idx 0\n",
            "DEBUG:cmdstanpy:running CmdStan, num_threads: None\n",
            "DEBUG:cmdstanpy:CmdStan args: ['/usr/local/lib/python3.10/dist-packages/prophet/stan_model/prophet_model.bin', 'random', 'seed=52601', 'data', 'file=/tmp/tmpz20i81ve/yq7f7kh6.json', 'init=/tmp/tmpz20i81ve/gwosnze2.json', 'output', 'file=/tmp/tmpz20i81ve/prophet_modeltqgdutzh/prophet_model-20231001111839.csv', 'method=optimize', 'algorithm=newton', 'iter=10000']\n",
            "11:18:39 - cmdstanpy - INFO - Chain [1] start processing\n",
            "INFO:cmdstanpy:Chain [1] start processing\n"
          ]
        },
        {
          "output_type": "stream",
          "name": "stdout",
          "text": [
            "+++++++++++++++++++++++++++++++++++++++++++++++++++++++++++++++++++++++++++++++++++++++ [('Prophet', 1.9113), ('ARIMA', 8.5527), ('ETS', 8.3241), ('XGBoost', 0.3563)]\n",
            "+++++++++++++++++++++++++++++++++++++++++++++++++++++++++++++++++++++++++++++++++++++++ XGBoost 53 57 1\n"
          ]
        },
        {
          "output_type": "stream",
          "name": "stderr",
          "text": [
            "11:18:39 - cmdstanpy - INFO - Chain [1] done processing\n",
            "INFO:cmdstanpy:Chain [1] done processing\n",
            "/usr/local/lib/python3.10/dist-packages/statsmodels/tsa/base/tsa_model.py:473: ValueWarning: No frequency information was provided, so inferred frequency W-MON will be used.\n",
            "  self._init_dates(dates, freq)\n",
            "/usr/local/lib/python3.10/dist-packages/statsmodels/tsa/holtwinters/model.py:917: ConvergenceWarning: Optimization failed to converge. Check mle_retvals.\n",
            "  warnings.warn(\n",
            "<ipython-input-14-94b3a4e46828>:89: FutureWarning: The frame.append method is deprecated and will be removed from pandas in a future version. Use pandas.concat instead.\n",
            "  results_df = results_df.append(result_dict, ignore_index=True)\n",
            "INFO:prophet:Disabling yearly seasonality. Run prophet with yearly_seasonality=True to override this.\n",
            "INFO:prophet:Disabling weekly seasonality. Run prophet with weekly_seasonality=True to override this.\n",
            "INFO:prophet:Disabling daily seasonality. Run prophet with daily_seasonality=True to override this.\n",
            "DEBUG:cmdstanpy:input tempfile: /tmp/tmpz20i81ve/xbdfjpyz.json\n",
            "DEBUG:cmdstanpy:input tempfile: /tmp/tmpz20i81ve/h6fmm_c4.json\n",
            "DEBUG:cmdstanpy:idx 0\n",
            "DEBUG:cmdstanpy:running CmdStan, num_threads: None\n",
            "DEBUG:cmdstanpy:CmdStan args: ['/usr/local/lib/python3.10/dist-packages/prophet/stan_model/prophet_model.bin', 'random', 'seed=55143', 'data', 'file=/tmp/tmpz20i81ve/xbdfjpyz.json', 'init=/tmp/tmpz20i81ve/h6fmm_c4.json', 'output', 'file=/tmp/tmpz20i81ve/prophet_modello_6tob1/prophet_model-20231001111840.csv', 'method=optimize', 'algorithm=newton', 'iter=10000']\n",
            "11:18:40 - cmdstanpy - INFO - Chain [1] start processing\n",
            "INFO:cmdstanpy:Chain [1] start processing\n"
          ]
        },
        {
          "output_type": "stream",
          "name": "stdout",
          "text": [
            "+++++++++++++++++++++++++++++++++++++++++++++++++++++++++++++++++++++++++++++++++++++++ [('Prophet', 1.3519), ('ARIMA', 2.5852), ('ETS', 7.734), ('XGBoost', 8.5519)]\n",
            "+++++++++++++++++++++++++++++++++++++++++++++++++++++++++++++++++++++++++++++++++++++++ Prophet 54 58 1\n"
          ]
        },
        {
          "output_type": "stream",
          "name": "stderr",
          "text": [
            "11:18:40 - cmdstanpy - INFO - Chain [1] done processing\n",
            "INFO:cmdstanpy:Chain [1] done processing\n",
            "/usr/local/lib/python3.10/dist-packages/statsmodels/tsa/base/tsa_model.py:473: ValueWarning: No frequency information was provided, so inferred frequency W-MON will be used.\n",
            "  self._init_dates(dates, freq)\n",
            "/usr/local/lib/python3.10/dist-packages/statsmodels/tsa/holtwinters/model.py:917: ConvergenceWarning: Optimization failed to converge. Check mle_retvals.\n",
            "  warnings.warn(\n",
            "<ipython-input-14-94b3a4e46828>:89: FutureWarning: The frame.append method is deprecated and will be removed from pandas in a future version. Use pandas.concat instead.\n",
            "  results_df = results_df.append(result_dict, ignore_index=True)\n",
            "INFO:prophet:Disabling yearly seasonality. Run prophet with yearly_seasonality=True to override this.\n",
            "INFO:prophet:Disabling weekly seasonality. Run prophet with weekly_seasonality=True to override this.\n",
            "INFO:prophet:Disabling daily seasonality. Run prophet with daily_seasonality=True to override this.\n",
            "DEBUG:cmdstanpy:input tempfile: /tmp/tmpz20i81ve/imt09bga.json\n",
            "DEBUG:cmdstanpy:input tempfile: /tmp/tmpz20i81ve/jh116ign.json\n",
            "DEBUG:cmdstanpy:idx 0\n",
            "DEBUG:cmdstanpy:running CmdStan, num_threads: None\n",
            "DEBUG:cmdstanpy:CmdStan args: ['/usr/local/lib/python3.10/dist-packages/prophet/stan_model/prophet_model.bin', 'random', 'seed=41362', 'data', 'file=/tmp/tmpz20i81ve/imt09bga.json', 'init=/tmp/tmpz20i81ve/jh116ign.json', 'output', 'file=/tmp/tmpz20i81ve/prophet_modeluyeba7bf/prophet_model-20231001111840.csv', 'method=optimize', 'algorithm=newton', 'iter=10000']\n",
            "11:18:40 - cmdstanpy - INFO - Chain [1] start processing\n",
            "INFO:cmdstanpy:Chain [1] start processing\n"
          ]
        },
        {
          "output_type": "stream",
          "name": "stdout",
          "text": [
            "+++++++++++++++++++++++++++++++++++++++++++++++++++++++++++++++++++++++++++++++++++++++ [('Prophet', 18.3019), ('ARIMA', 16.0521), ('ETS', 22.6511), ('XGBoost', 13.5151)]\n",
            "+++++++++++++++++++++++++++++++++++++++++++++++++++++++++++++++++++++++++++++++++++++++ XGBoost 55 59 1\n"
          ]
        },
        {
          "output_type": "stream",
          "name": "stderr",
          "text": [
            "11:18:41 - cmdstanpy - INFO - Chain [1] done processing\n",
            "INFO:cmdstanpy:Chain [1] done processing\n",
            "/usr/local/lib/python3.10/dist-packages/statsmodels/tsa/base/tsa_model.py:473: ValueWarning: No frequency information was provided, so inferred frequency W-MON will be used.\n",
            "  self._init_dates(dates, freq)\n",
            "/usr/local/lib/python3.10/dist-packages/statsmodels/tsa/holtwinters/model.py:917: ConvergenceWarning: Optimization failed to converge. Check mle_retvals.\n",
            "  warnings.warn(\n",
            "<ipython-input-14-94b3a4e46828>:89: FutureWarning: The frame.append method is deprecated and will be removed from pandas in a future version. Use pandas.concat instead.\n",
            "  results_df = results_df.append(result_dict, ignore_index=True)\n",
            "INFO:prophet:Disabling yearly seasonality. Run prophet with yearly_seasonality=True to override this.\n",
            "INFO:prophet:Disabling weekly seasonality. Run prophet with weekly_seasonality=True to override this.\n",
            "INFO:prophet:Disabling daily seasonality. Run prophet with daily_seasonality=True to override this.\n",
            "DEBUG:cmdstanpy:input tempfile: /tmp/tmpz20i81ve/gbe5rfz8.json\n",
            "DEBUG:cmdstanpy:input tempfile: /tmp/tmpz20i81ve/tezxattu.json\n",
            "DEBUG:cmdstanpy:idx 0\n",
            "DEBUG:cmdstanpy:running CmdStan, num_threads: None\n",
            "DEBUG:cmdstanpy:CmdStan args: ['/usr/local/lib/python3.10/dist-packages/prophet/stan_model/prophet_model.bin', 'random', 'seed=30006', 'data', 'file=/tmp/tmpz20i81ve/gbe5rfz8.json', 'init=/tmp/tmpz20i81ve/tezxattu.json', 'output', 'file=/tmp/tmpz20i81ve/prophet_modelwg6w5zul/prophet_model-20231001111841.csv', 'method=optimize', 'algorithm=newton', 'iter=10000']\n",
            "11:18:41 - cmdstanpy - INFO - Chain [1] start processing\n",
            "INFO:cmdstanpy:Chain [1] start processing\n"
          ]
        },
        {
          "output_type": "stream",
          "name": "stdout",
          "text": [
            "+++++++++++++++++++++++++++++++++++++++++++++++++++++++++++++++++++++++++++++++++++++++ [('Prophet', 6.0785), ('ARIMA', 9.9684), ('ETS', 1.2506), ('XGBoost', 6.4784)]\n",
            "+++++++++++++++++++++++++++++++++++++++++++++++++++++++++++++++++++++++++++++++++++++++ ETS 56 60 1\n"
          ]
        },
        {
          "output_type": "stream",
          "name": "stderr",
          "text": [
            "11:18:41 - cmdstanpy - INFO - Chain [1] done processing\n",
            "INFO:cmdstanpy:Chain [1] done processing\n",
            "/usr/local/lib/python3.10/dist-packages/statsmodels/tsa/base/tsa_model.py:473: ValueWarning: No frequency information was provided, so inferred frequency W-MON will be used.\n",
            "  self._init_dates(dates, freq)\n",
            "/usr/local/lib/python3.10/dist-packages/statsmodels/tsa/holtwinters/model.py:917: ConvergenceWarning: Optimization failed to converge. Check mle_retvals.\n",
            "  warnings.warn(\n",
            "<ipython-input-14-94b3a4e46828>:89: FutureWarning: The frame.append method is deprecated and will be removed from pandas in a future version. Use pandas.concat instead.\n",
            "  results_df = results_df.append(result_dict, ignore_index=True)\n",
            "INFO:prophet:Disabling yearly seasonality. Run prophet with yearly_seasonality=True to override this.\n",
            "INFO:prophet:Disabling weekly seasonality. Run prophet with weekly_seasonality=True to override this.\n",
            "INFO:prophet:Disabling daily seasonality. Run prophet with daily_seasonality=True to override this.\n",
            "DEBUG:cmdstanpy:input tempfile: /tmp/tmpz20i81ve/486dlhr5.json\n",
            "DEBUG:cmdstanpy:input tempfile: /tmp/tmpz20i81ve/detfelul.json\n",
            "DEBUG:cmdstanpy:idx 0\n",
            "DEBUG:cmdstanpy:running CmdStan, num_threads: None\n",
            "DEBUG:cmdstanpy:CmdStan args: ['/usr/local/lib/python3.10/dist-packages/prophet/stan_model/prophet_model.bin', 'random', 'seed=34670', 'data', 'file=/tmp/tmpz20i81ve/486dlhr5.json', 'init=/tmp/tmpz20i81ve/detfelul.json', 'output', 'file=/tmp/tmpz20i81ve/prophet_model170hpme2/prophet_model-20231001111844.csv', 'method=optimize', 'algorithm=newton', 'iter=10000']\n",
            "11:18:44 - cmdstanpy - INFO - Chain [1] start processing\n",
            "INFO:cmdstanpy:Chain [1] start processing\n"
          ]
        },
        {
          "output_type": "stream",
          "name": "stdout",
          "text": [
            "+++++++++++++++++++++++++++++++++++++++++++++++++++++++++++++++++++++++++++++++++++++++ [('Prophet', 1.0136), ('ARIMA', 6.9212), ('ETS', 17.5975), ('XGBoost', 1.0393)]\n",
            "+++++++++++++++++++++++++++++++++++++++++++++++++++++++++++++++++++++++++++++++++++++++ Prophet 57 61 1\n"
          ]
        },
        {
          "output_type": "stream",
          "name": "stderr",
          "text": [
            "11:18:45 - cmdstanpy - INFO - Chain [1] done processing\n",
            "INFO:cmdstanpy:Chain [1] done processing\n",
            "/usr/local/lib/python3.10/dist-packages/statsmodels/tsa/base/tsa_model.py:473: ValueWarning: No frequency information was provided, so inferred frequency W-MON will be used.\n",
            "  self._init_dates(dates, freq)\n",
            "/usr/local/lib/python3.10/dist-packages/statsmodels/tsa/holtwinters/model.py:917: ConvergenceWarning: Optimization failed to converge. Check mle_retvals.\n",
            "  warnings.warn(\n",
            "<ipython-input-14-94b3a4e46828>:89: FutureWarning: The frame.append method is deprecated and will be removed from pandas in a future version. Use pandas.concat instead.\n",
            "  results_df = results_df.append(result_dict, ignore_index=True)\n",
            "INFO:prophet:Disabling yearly seasonality. Run prophet with yearly_seasonality=True to override this.\n",
            "INFO:prophet:Disabling weekly seasonality. Run prophet with weekly_seasonality=True to override this.\n",
            "INFO:prophet:Disabling daily seasonality. Run prophet with daily_seasonality=True to override this.\n",
            "DEBUG:cmdstanpy:input tempfile: /tmp/tmpz20i81ve/nstyl5kv.json\n",
            "DEBUG:cmdstanpy:input tempfile: /tmp/tmpz20i81ve/aky6gf99.json\n",
            "DEBUG:cmdstanpy:idx 0\n",
            "DEBUG:cmdstanpy:running CmdStan, num_threads: None\n",
            "DEBUG:cmdstanpy:CmdStan args: ['/usr/local/lib/python3.10/dist-packages/prophet/stan_model/prophet_model.bin', 'random', 'seed=40327', 'data', 'file=/tmp/tmpz20i81ve/nstyl5kv.json', 'init=/tmp/tmpz20i81ve/aky6gf99.json', 'output', 'file=/tmp/tmpz20i81ve/prophet_modelywxsoj91/prophet_model-20231001111846.csv', 'method=optimize', 'algorithm=newton', 'iter=10000']\n",
            "11:18:46 - cmdstanpy - INFO - Chain [1] start processing\n",
            "INFO:cmdstanpy:Chain [1] start processing\n"
          ]
        },
        {
          "output_type": "stream",
          "name": "stdout",
          "text": [
            "+++++++++++++++++++++++++++++++++++++++++++++++++++++++++++++++++++++++++++++++++++++++ [('Prophet', 109.9564), ('ARIMA', 110.7866), ('ETS', 85.9097), ('XGBoost', 89.8502)]\n",
            "+++++++++++++++++++++++++++++++++++++++++++++++++++++++++++++++++++++++++++++++++++++++ ETS 58 62 1\n"
          ]
        },
        {
          "output_type": "stream",
          "name": "stderr",
          "text": [
            "11:18:47 - cmdstanpy - INFO - Chain [1] done processing\n",
            "INFO:cmdstanpy:Chain [1] done processing\n",
            "/usr/local/lib/python3.10/dist-packages/statsmodels/tsa/base/tsa_model.py:473: ValueWarning: No frequency information was provided, so inferred frequency W-MON will be used.\n",
            "  self._init_dates(dates, freq)\n",
            "/usr/local/lib/python3.10/dist-packages/statsmodels/tsa/holtwinters/model.py:917: ConvergenceWarning: Optimization failed to converge. Check mle_retvals.\n",
            "  warnings.warn(\n",
            "<ipython-input-14-94b3a4e46828>:89: FutureWarning: The frame.append method is deprecated and will be removed from pandas in a future version. Use pandas.concat instead.\n",
            "  results_df = results_df.append(result_dict, ignore_index=True)\n",
            "INFO:prophet:Disabling yearly seasonality. Run prophet with yearly_seasonality=True to override this.\n",
            "INFO:prophet:Disabling weekly seasonality. Run prophet with weekly_seasonality=True to override this.\n",
            "INFO:prophet:Disabling daily seasonality. Run prophet with daily_seasonality=True to override this.\n",
            "DEBUG:cmdstanpy:input tempfile: /tmp/tmpz20i81ve/z15h8ykl.json\n",
            "DEBUG:cmdstanpy:input tempfile: /tmp/tmpz20i81ve/2_i64s8q.json\n",
            "DEBUG:cmdstanpy:idx 0\n",
            "DEBUG:cmdstanpy:running CmdStan, num_threads: None\n",
            "DEBUG:cmdstanpy:CmdStan args: ['/usr/local/lib/python3.10/dist-packages/prophet/stan_model/prophet_model.bin', 'random', 'seed=45206', 'data', 'file=/tmp/tmpz20i81ve/z15h8ykl.json', 'init=/tmp/tmpz20i81ve/2_i64s8q.json', 'output', 'file=/tmp/tmpz20i81ve/prophet_modelat4k0qp5/prophet_model-20231001111847.csv', 'method=optimize', 'algorithm=newton', 'iter=10000']\n",
            "11:18:47 - cmdstanpy - INFO - Chain [1] start processing\n",
            "INFO:cmdstanpy:Chain [1] start processing\n"
          ]
        },
        {
          "output_type": "stream",
          "name": "stdout",
          "text": [
            "+++++++++++++++++++++++++++++++++++++++++++++++++++++++++++++++++++++++++++++++++++++++ [('Prophet', 89.0738), ('ARIMA', 7.4971), ('ETS', 34.6507), ('XGBoost', 4.4711)]\n",
            "+++++++++++++++++++++++++++++++++++++++++++++++++++++++++++++++++++++++++++++++++++++++ XGBoost 59 63 1\n"
          ]
        },
        {
          "output_type": "stream",
          "name": "stderr",
          "text": [
            "11:18:48 - cmdstanpy - INFO - Chain [1] done processing\n",
            "INFO:cmdstanpy:Chain [1] done processing\n",
            "/usr/local/lib/python3.10/dist-packages/statsmodels/tsa/base/tsa_model.py:473: ValueWarning: No frequency information was provided, so inferred frequency W-MON will be used.\n",
            "  self._init_dates(dates, freq)\n",
            "/usr/local/lib/python3.10/dist-packages/statsmodels/tsa/holtwinters/model.py:917: ConvergenceWarning: Optimization failed to converge. Check mle_retvals.\n",
            "  warnings.warn(\n",
            "<ipython-input-14-94b3a4e46828>:89: FutureWarning: The frame.append method is deprecated and will be removed from pandas in a future version. Use pandas.concat instead.\n",
            "  results_df = results_df.append(result_dict, ignore_index=True)\n",
            "INFO:prophet:Disabling yearly seasonality. Run prophet with yearly_seasonality=True to override this.\n",
            "INFO:prophet:Disabling weekly seasonality. Run prophet with weekly_seasonality=True to override this.\n",
            "INFO:prophet:Disabling daily seasonality. Run prophet with daily_seasonality=True to override this.\n",
            "DEBUG:cmdstanpy:input tempfile: /tmp/tmpz20i81ve/rnokb8bf.json\n",
            "DEBUG:cmdstanpy:input tempfile: /tmp/tmpz20i81ve/s8fqfk88.json\n",
            "DEBUG:cmdstanpy:idx 0\n",
            "DEBUG:cmdstanpy:running CmdStan, num_threads: None\n",
            "DEBUG:cmdstanpy:CmdStan args: ['/usr/local/lib/python3.10/dist-packages/prophet/stan_model/prophet_model.bin', 'random', 'seed=19917', 'data', 'file=/tmp/tmpz20i81ve/rnokb8bf.json', 'init=/tmp/tmpz20i81ve/s8fqfk88.json', 'output', 'file=/tmp/tmpz20i81ve/prophet_modeltg5nln_e/prophet_model-20231001111848.csv', 'method=optimize', 'algorithm=newton', 'iter=10000']\n",
            "11:18:48 - cmdstanpy - INFO - Chain [1] start processing\n",
            "INFO:cmdstanpy:Chain [1] start processing\n"
          ]
        },
        {
          "output_type": "stream",
          "name": "stdout",
          "text": [
            "+++++++++++++++++++++++++++++++++++++++++++++++++++++++++++++++++++++++++++++++++++++++ [('Prophet', 87.9109), ('ARIMA', 1.7838), ('ETS', 26.1215), ('XGBoost', 93.2034)]\n",
            "+++++++++++++++++++++++++++++++++++++++++++++++++++++++++++++++++++++++++++++++++++++++ ARIMA 60 64 1\n"
          ]
        },
        {
          "output_type": "stream",
          "name": "stderr",
          "text": [
            "11:18:49 - cmdstanpy - INFO - Chain [1] done processing\n",
            "INFO:cmdstanpy:Chain [1] done processing\n",
            "/usr/local/lib/python3.10/dist-packages/statsmodels/tsa/base/tsa_model.py:473: ValueWarning: No frequency information was provided, so inferred frequency W-MON will be used.\n",
            "  self._init_dates(dates, freq)\n",
            "/usr/local/lib/python3.10/dist-packages/statsmodels/tsa/holtwinters/model.py:917: ConvergenceWarning: Optimization failed to converge. Check mle_retvals.\n",
            "  warnings.warn(\n",
            "<ipython-input-14-94b3a4e46828>:89: FutureWarning: The frame.append method is deprecated and will be removed from pandas in a future version. Use pandas.concat instead.\n",
            "  results_df = results_df.append(result_dict, ignore_index=True)\n",
            "INFO:prophet:Disabling yearly seasonality. Run prophet with yearly_seasonality=True to override this.\n",
            "INFO:prophet:Disabling weekly seasonality. Run prophet with weekly_seasonality=True to override this.\n",
            "INFO:prophet:Disabling daily seasonality. Run prophet with daily_seasonality=True to override this.\n",
            "DEBUG:cmdstanpy:input tempfile: /tmp/tmpz20i81ve/owy6fbh7.json\n",
            "DEBUG:cmdstanpy:input tempfile: /tmp/tmpz20i81ve/njhzf21x.json\n",
            "DEBUG:cmdstanpy:idx 0\n",
            "DEBUG:cmdstanpy:running CmdStan, num_threads: None\n",
            "DEBUG:cmdstanpy:CmdStan args: ['/usr/local/lib/python3.10/dist-packages/prophet/stan_model/prophet_model.bin', 'random', 'seed=78472', 'data', 'file=/tmp/tmpz20i81ve/owy6fbh7.json', 'init=/tmp/tmpz20i81ve/njhzf21x.json', 'output', 'file=/tmp/tmpz20i81ve/prophet_model_vbcxgy1/prophet_model-20231001111849.csv', 'method=optimize', 'algorithm=newton', 'iter=10000']\n",
            "11:18:49 - cmdstanpy - INFO - Chain [1] start processing\n",
            "INFO:cmdstanpy:Chain [1] start processing\n"
          ]
        },
        {
          "output_type": "stream",
          "name": "stdout",
          "text": [
            "+++++++++++++++++++++++++++++++++++++++++++++++++++++++++++++++++++++++++++++++++++++++ [('Prophet', 73.5578), ('ARIMA', 5.4023), ('ETS', 4.6813), ('XGBoost', 22.496)]\n",
            "+++++++++++++++++++++++++++++++++++++++++++++++++++++++++++++++++++++++++++++++++++++++ ETS 61 65 1\n"
          ]
        },
        {
          "output_type": "stream",
          "name": "stderr",
          "text": [
            "11:18:49 - cmdstanpy - INFO - Chain [1] done processing\n",
            "INFO:cmdstanpy:Chain [1] done processing\n",
            "/usr/local/lib/python3.10/dist-packages/statsmodels/tsa/base/tsa_model.py:473: ValueWarning: No frequency information was provided, so inferred frequency W-MON will be used.\n",
            "  self._init_dates(dates, freq)\n",
            "/usr/local/lib/python3.10/dist-packages/statsmodels/tsa/holtwinters/model.py:917: ConvergenceWarning: Optimization failed to converge. Check mle_retvals.\n",
            "  warnings.warn(\n",
            "<ipython-input-14-94b3a4e46828>:89: FutureWarning: The frame.append method is deprecated and will be removed from pandas in a future version. Use pandas.concat instead.\n",
            "  results_df = results_df.append(result_dict, ignore_index=True)\n",
            "INFO:prophet:Disabling yearly seasonality. Run prophet with yearly_seasonality=True to override this.\n",
            "INFO:prophet:Disabling weekly seasonality. Run prophet with weekly_seasonality=True to override this.\n",
            "INFO:prophet:Disabling daily seasonality. Run prophet with daily_seasonality=True to override this.\n",
            "DEBUG:cmdstanpy:input tempfile: /tmp/tmpz20i81ve/iij13_qw.json\n",
            "DEBUG:cmdstanpy:input tempfile: /tmp/tmpz20i81ve/tkbh1ccf.json\n",
            "DEBUG:cmdstanpy:idx 0\n",
            "DEBUG:cmdstanpy:running CmdStan, num_threads: None\n",
            "DEBUG:cmdstanpy:CmdStan args: ['/usr/local/lib/python3.10/dist-packages/prophet/stan_model/prophet_model.bin', 'random', 'seed=34311', 'data', 'file=/tmp/tmpz20i81ve/iij13_qw.json', 'init=/tmp/tmpz20i81ve/tkbh1ccf.json', 'output', 'file=/tmp/tmpz20i81ve/prophet_model_22b273_/prophet_model-20231001111850.csv', 'method=optimize', 'algorithm=newton', 'iter=10000']\n",
            "11:18:50 - cmdstanpy - INFO - Chain [1] start processing\n",
            "INFO:cmdstanpy:Chain [1] start processing\n"
          ]
        },
        {
          "output_type": "stream",
          "name": "stdout",
          "text": [
            "+++++++++++++++++++++++++++++++++++++++++++++++++++++++++++++++++++++++++++++++++++++++ [('Prophet', 72.0266), ('ARIMA', 13.6324), ('ETS', 6.6787), ('XGBoost', 11.2706)]\n",
            "+++++++++++++++++++++++++++++++++++++++++++++++++++++++++++++++++++++++++++++++++++++++ ETS 62 66 1\n"
          ]
        },
        {
          "output_type": "stream",
          "name": "stderr",
          "text": [
            "11:18:50 - cmdstanpy - INFO - Chain [1] done processing\n",
            "INFO:cmdstanpy:Chain [1] done processing\n",
            "/usr/local/lib/python3.10/dist-packages/statsmodels/tsa/base/tsa_model.py:473: ValueWarning: No frequency information was provided, so inferred frequency W-MON will be used.\n",
            "  self._init_dates(dates, freq)\n",
            "/usr/local/lib/python3.10/dist-packages/statsmodels/tsa/holtwinters/model.py:917: ConvergenceWarning: Optimization failed to converge. Check mle_retvals.\n",
            "  warnings.warn(\n",
            "<ipython-input-14-94b3a4e46828>:89: FutureWarning: The frame.append method is deprecated and will be removed from pandas in a future version. Use pandas.concat instead.\n",
            "  results_df = results_df.append(result_dict, ignore_index=True)\n",
            "INFO:prophet:Disabling yearly seasonality. Run prophet with yearly_seasonality=True to override this.\n",
            "INFO:prophet:Disabling weekly seasonality. Run prophet with weekly_seasonality=True to override this.\n",
            "INFO:prophet:Disabling daily seasonality. Run prophet with daily_seasonality=True to override this.\n",
            "DEBUG:cmdstanpy:input tempfile: /tmp/tmpz20i81ve/sbr_xwk2.json\n",
            "DEBUG:cmdstanpy:input tempfile: /tmp/tmpz20i81ve/4us9pso2.json\n",
            "DEBUG:cmdstanpy:idx 0\n",
            "DEBUG:cmdstanpy:running CmdStan, num_threads: None\n",
            "DEBUG:cmdstanpy:CmdStan args: ['/usr/local/lib/python3.10/dist-packages/prophet/stan_model/prophet_model.bin', 'random', 'seed=22030', 'data', 'file=/tmp/tmpz20i81ve/sbr_xwk2.json', 'init=/tmp/tmpz20i81ve/4us9pso2.json', 'output', 'file=/tmp/tmpz20i81ve/prophet_modelaz5jj54z/prophet_model-20231001111851.csv', 'method=optimize', 'algorithm=newton', 'iter=10000']\n",
            "11:18:51 - cmdstanpy - INFO - Chain [1] start processing\n",
            "INFO:cmdstanpy:Chain [1] start processing\n"
          ]
        },
        {
          "output_type": "stream",
          "name": "stdout",
          "text": [
            "+++++++++++++++++++++++++++++++++++++++++++++++++++++++++++++++++++++++++++++++++++++++ [('Prophet', 68.7525), ('ARIMA', 12.4021), ('ETS', 8.8085), ('XGBoost', 38.6987)]\n",
            "+++++++++++++++++++++++++++++++++++++++++++++++++++++++++++++++++++++++++++++++++++++++ ETS 63 67 1\n"
          ]
        },
        {
          "output_type": "stream",
          "name": "stderr",
          "text": [
            "11:18:51 - cmdstanpy - INFO - Chain [1] done processing\n",
            "INFO:cmdstanpy:Chain [1] done processing\n",
            "/usr/local/lib/python3.10/dist-packages/statsmodels/tsa/base/tsa_model.py:473: ValueWarning: No frequency information was provided, so inferred frequency W-MON will be used.\n",
            "  self._init_dates(dates, freq)\n",
            "/usr/local/lib/python3.10/dist-packages/statsmodels/tsa/holtwinters/model.py:917: ConvergenceWarning: Optimization failed to converge. Check mle_retvals.\n",
            "  warnings.warn(\n",
            "<ipython-input-14-94b3a4e46828>:89: FutureWarning: The frame.append method is deprecated and will be removed from pandas in a future version. Use pandas.concat instead.\n",
            "  results_df = results_df.append(result_dict, ignore_index=True)\n",
            "INFO:prophet:Disabling yearly seasonality. Run prophet with yearly_seasonality=True to override this.\n",
            "INFO:prophet:Disabling weekly seasonality. Run prophet with weekly_seasonality=True to override this.\n",
            "INFO:prophet:Disabling daily seasonality. Run prophet with daily_seasonality=True to override this.\n",
            "DEBUG:cmdstanpy:input tempfile: /tmp/tmpz20i81ve/5qv9wro9.json\n",
            "DEBUG:cmdstanpy:input tempfile: /tmp/tmpz20i81ve/blssdv76.json\n",
            "DEBUG:cmdstanpy:idx 0\n",
            "DEBUG:cmdstanpy:running CmdStan, num_threads: None\n",
            "DEBUG:cmdstanpy:CmdStan args: ['/usr/local/lib/python3.10/dist-packages/prophet/stan_model/prophet_model.bin', 'random', 'seed=45106', 'data', 'file=/tmp/tmpz20i81ve/5qv9wro9.json', 'init=/tmp/tmpz20i81ve/blssdv76.json', 'output', 'file=/tmp/tmpz20i81ve/prophet_modelgd7uq42x/prophet_model-20231001111852.csv', 'method=optimize', 'algorithm=newton', 'iter=10000']\n",
            "11:18:52 - cmdstanpy - INFO - Chain [1] start processing\n",
            "INFO:cmdstanpy:Chain [1] start processing\n"
          ]
        },
        {
          "output_type": "stream",
          "name": "stdout",
          "text": [
            "+++++++++++++++++++++++++++++++++++++++++++++++++++++++++++++++++++++++++++++++++++++++ [('Prophet', 46.4655), ('ARIMA', 1.087), ('ETS', 0.7951), ('XGBoost', 18.4421)]\n",
            "+++++++++++++++++++++++++++++++++++++++++++++++++++++++++++++++++++++++++++++++++++++++ ETS 64 68 1\n"
          ]
        },
        {
          "output_type": "stream",
          "name": "stderr",
          "text": [
            "11:18:52 - cmdstanpy - INFO - Chain [1] done processing\n",
            "INFO:cmdstanpy:Chain [1] done processing\n",
            "/usr/local/lib/python3.10/dist-packages/statsmodels/tsa/base/tsa_model.py:473: ValueWarning: No frequency information was provided, so inferred frequency W-MON will be used.\n",
            "  self._init_dates(dates, freq)\n",
            "/usr/local/lib/python3.10/dist-packages/statsmodels/tsa/holtwinters/model.py:917: ConvergenceWarning: Optimization failed to converge. Check mle_retvals.\n",
            "  warnings.warn(\n",
            "<ipython-input-14-94b3a4e46828>:89: FutureWarning: The frame.append method is deprecated and will be removed from pandas in a future version. Use pandas.concat instead.\n",
            "  results_df = results_df.append(result_dict, ignore_index=True)\n",
            "INFO:prophet:Disabling yearly seasonality. Run prophet with yearly_seasonality=True to override this.\n",
            "INFO:prophet:Disabling weekly seasonality. Run prophet with weekly_seasonality=True to override this.\n",
            "INFO:prophet:Disabling daily seasonality. Run prophet with daily_seasonality=True to override this.\n",
            "DEBUG:cmdstanpy:input tempfile: /tmp/tmpz20i81ve/2lzco2u9.json\n",
            "DEBUG:cmdstanpy:input tempfile: /tmp/tmpz20i81ve/6i_6px28.json\n",
            "DEBUG:cmdstanpy:idx 0\n",
            "DEBUG:cmdstanpy:running CmdStan, num_threads: None\n",
            "DEBUG:cmdstanpy:CmdStan args: ['/usr/local/lib/python3.10/dist-packages/prophet/stan_model/prophet_model.bin', 'random', 'seed=39199', 'data', 'file=/tmp/tmpz20i81ve/2lzco2u9.json', 'init=/tmp/tmpz20i81ve/6i_6px28.json', 'output', 'file=/tmp/tmpz20i81ve/prophet_modelflbs396d/prophet_model-20231001111854.csv', 'method=optimize', 'algorithm=newton', 'iter=10000']\n",
            "11:18:54 - cmdstanpy - INFO - Chain [1] start processing\n",
            "INFO:cmdstanpy:Chain [1] start processing\n"
          ]
        },
        {
          "output_type": "stream",
          "name": "stdout",
          "text": [
            "+++++++++++++++++++++++++++++++++++++++++++++++++++++++++++++++++++++++++++++++++++++++ [('Prophet', 47.7372), ('ARIMA', 10.0474), ('ETS', 9.1921), ('XGBoost', 3.7494)]\n",
            "+++++++++++++++++++++++++++++++++++++++++++++++++++++++++++++++++++++++++++++++++++++++ XGBoost 65 69 1\n"
          ]
        },
        {
          "output_type": "stream",
          "name": "stderr",
          "text": [
            "11:18:54 - cmdstanpy - INFO - Chain [1] done processing\n",
            "INFO:cmdstanpy:Chain [1] done processing\n",
            "/usr/local/lib/python3.10/dist-packages/statsmodels/tsa/base/tsa_model.py:473: ValueWarning: No frequency information was provided, so inferred frequency W-MON will be used.\n",
            "  self._init_dates(dates, freq)\n",
            "/usr/local/lib/python3.10/dist-packages/statsmodels/tsa/holtwinters/model.py:917: ConvergenceWarning: Optimization failed to converge. Check mle_retvals.\n",
            "  warnings.warn(\n",
            "<ipython-input-14-94b3a4e46828>:89: FutureWarning: The frame.append method is deprecated and will be removed from pandas in a future version. Use pandas.concat instead.\n",
            "  results_df = results_df.append(result_dict, ignore_index=True)\n",
            "INFO:prophet:Disabling yearly seasonality. Run prophet with yearly_seasonality=True to override this.\n",
            "INFO:prophet:Disabling weekly seasonality. Run prophet with weekly_seasonality=True to override this.\n",
            "INFO:prophet:Disabling daily seasonality. Run prophet with daily_seasonality=True to override this.\n",
            "DEBUG:cmdstanpy:input tempfile: /tmp/tmpz20i81ve/03t2nob4.json\n",
            "DEBUG:cmdstanpy:input tempfile: /tmp/tmpz20i81ve/r1o7kekw.json\n",
            "DEBUG:cmdstanpy:idx 0\n",
            "DEBUG:cmdstanpy:running CmdStan, num_threads: None\n",
            "DEBUG:cmdstanpy:CmdStan args: ['/usr/local/lib/python3.10/dist-packages/prophet/stan_model/prophet_model.bin', 'random', 'seed=821', 'data', 'file=/tmp/tmpz20i81ve/03t2nob4.json', 'init=/tmp/tmpz20i81ve/r1o7kekw.json', 'output', 'file=/tmp/tmpz20i81ve/prophet_modelri5o2ipp/prophet_model-20231001111856.csv', 'method=optimize', 'algorithm=newton', 'iter=10000']\n",
            "11:18:56 - cmdstanpy - INFO - Chain [1] start processing\n",
            "INFO:cmdstanpy:Chain [1] start processing\n"
          ]
        },
        {
          "output_type": "stream",
          "name": "stdout",
          "text": [
            "+++++++++++++++++++++++++++++++++++++++++++++++++++++++++++++++++++++++++++++++++++++++ [('Prophet', 39.6288), ('ARIMA', 3.6907), ('ETS', 25.344), ('XGBoost', 5.578)]\n",
            "+++++++++++++++++++++++++++++++++++++++++++++++++++++++++++++++++++++++++++++++++++++++ ARIMA 66 70 1\n"
          ]
        },
        {
          "output_type": "stream",
          "name": "stderr",
          "text": [
            "11:18:57 - cmdstanpy - INFO - Chain [1] done processing\n",
            "INFO:cmdstanpy:Chain [1] done processing\n",
            "/usr/local/lib/python3.10/dist-packages/statsmodels/tsa/base/tsa_model.py:473: ValueWarning: No frequency information was provided, so inferred frequency W-MON will be used.\n",
            "  self._init_dates(dates, freq)\n",
            "/usr/local/lib/python3.10/dist-packages/statsmodels/tsa/holtwinters/model.py:917: ConvergenceWarning: Optimization failed to converge. Check mle_retvals.\n",
            "  warnings.warn(\n",
            "<ipython-input-14-94b3a4e46828>:89: FutureWarning: The frame.append method is deprecated and will be removed from pandas in a future version. Use pandas.concat instead.\n",
            "  results_df = results_df.append(result_dict, ignore_index=True)\n",
            "INFO:prophet:Disabling yearly seasonality. Run prophet with yearly_seasonality=True to override this.\n",
            "INFO:prophet:Disabling weekly seasonality. Run prophet with weekly_seasonality=True to override this.\n",
            "INFO:prophet:Disabling daily seasonality. Run prophet with daily_seasonality=True to override this.\n",
            "DEBUG:cmdstanpy:input tempfile: /tmp/tmpz20i81ve/zon00ptb.json\n",
            "DEBUG:cmdstanpy:input tempfile: /tmp/tmpz20i81ve/ih5h27tj.json\n",
            "DEBUG:cmdstanpy:idx 0\n",
            "DEBUG:cmdstanpy:running CmdStan, num_threads: None\n",
            "DEBUG:cmdstanpy:CmdStan args: ['/usr/local/lib/python3.10/dist-packages/prophet/stan_model/prophet_model.bin', 'random', 'seed=69952', 'data', 'file=/tmp/tmpz20i81ve/zon00ptb.json', 'init=/tmp/tmpz20i81ve/ih5h27tj.json', 'output', 'file=/tmp/tmpz20i81ve/prophet_model45e06vve/prophet_model-20231001111859.csv', 'method=optimize', 'algorithm=newton', 'iter=10000']\n",
            "11:18:59 - cmdstanpy - INFO - Chain [1] start processing\n",
            "INFO:cmdstanpy:Chain [1] start processing\n"
          ]
        },
        {
          "output_type": "stream",
          "name": "stdout",
          "text": [
            "+++++++++++++++++++++++++++++++++++++++++++++++++++++++++++++++++++++++++++++++++++++++ [('Prophet', 64.6308), ('ARIMA', 27.2193), ('ETS', 18.9225), ('XGBoost', 3.6755)]\n",
            "+++++++++++++++++++++++++++++++++++++++++++++++++++++++++++++++++++++++++++++++++++++++ XGBoost 67 71 1\n"
          ]
        },
        {
          "output_type": "stream",
          "name": "stderr",
          "text": [
            "11:19:00 - cmdstanpy - INFO - Chain [1] done processing\n",
            "INFO:cmdstanpy:Chain [1] done processing\n",
            "/usr/local/lib/python3.10/dist-packages/statsmodels/tsa/base/tsa_model.py:473: ValueWarning: No frequency information was provided, so inferred frequency W-MON will be used.\n",
            "  self._init_dates(dates, freq)\n",
            "/usr/local/lib/python3.10/dist-packages/statsmodels/tsa/holtwinters/model.py:917: ConvergenceWarning: Optimization failed to converge. Check mle_retvals.\n",
            "  warnings.warn(\n",
            "<ipython-input-14-94b3a4e46828>:89: FutureWarning: The frame.append method is deprecated and will be removed from pandas in a future version. Use pandas.concat instead.\n",
            "  results_df = results_df.append(result_dict, ignore_index=True)\n",
            "INFO:prophet:Disabling yearly seasonality. Run prophet with yearly_seasonality=True to override this.\n",
            "INFO:prophet:Disabling weekly seasonality. Run prophet with weekly_seasonality=True to override this.\n",
            "INFO:prophet:Disabling daily seasonality. Run prophet with daily_seasonality=True to override this.\n",
            "DEBUG:cmdstanpy:input tempfile: /tmp/tmpz20i81ve/29zkluvc.json\n",
            "DEBUG:cmdstanpy:input tempfile: /tmp/tmpz20i81ve/y2allvo5.json\n",
            "DEBUG:cmdstanpy:idx 0\n",
            "DEBUG:cmdstanpy:running CmdStan, num_threads: None\n",
            "DEBUG:cmdstanpy:CmdStan args: ['/usr/local/lib/python3.10/dist-packages/prophet/stan_model/prophet_model.bin', 'random', 'seed=97495', 'data', 'file=/tmp/tmpz20i81ve/29zkluvc.json', 'init=/tmp/tmpz20i81ve/y2allvo5.json', 'output', 'file=/tmp/tmpz20i81ve/prophet_modelfj2gtj0v/prophet_model-20231001111903.csv', 'method=optimize', 'algorithm=newton', 'iter=10000']\n",
            "11:19:03 - cmdstanpy - INFO - Chain [1] start processing\n",
            "INFO:cmdstanpy:Chain [1] start processing\n"
          ]
        },
        {
          "output_type": "stream",
          "name": "stdout",
          "text": [
            "+++++++++++++++++++++++++++++++++++++++++++++++++++++++++++++++++++++++++++++++++++++++ [('Prophet', 84.0019), ('ARIMA', 27.6419), ('ETS', 25.5624), ('XGBoost', 16.4657)]\n",
            "+++++++++++++++++++++++++++++++++++++++++++++++++++++++++++++++++++++++++++++++++++++++ XGBoost 68 72 1\n"
          ]
        },
        {
          "output_type": "stream",
          "name": "stderr",
          "text": [
            "11:19:03 - cmdstanpy - INFO - Chain [1] done processing\n",
            "INFO:cmdstanpy:Chain [1] done processing\n",
            "/usr/local/lib/python3.10/dist-packages/statsmodels/tsa/base/tsa_model.py:473: ValueWarning: No frequency information was provided, so inferred frequency W-MON will be used.\n",
            "  self._init_dates(dates, freq)\n",
            "/usr/local/lib/python3.10/dist-packages/statsmodels/tsa/holtwinters/model.py:917: ConvergenceWarning: Optimization failed to converge. Check mle_retvals.\n",
            "  warnings.warn(\n",
            "<ipython-input-14-94b3a4e46828>:89: FutureWarning: The frame.append method is deprecated and will be removed from pandas in a future version. Use pandas.concat instead.\n",
            "  results_df = results_df.append(result_dict, ignore_index=True)\n",
            "INFO:prophet:Disabling yearly seasonality. Run prophet with yearly_seasonality=True to override this.\n",
            "INFO:prophet:Disabling weekly seasonality. Run prophet with weekly_seasonality=True to override this.\n",
            "INFO:prophet:Disabling daily seasonality. Run prophet with daily_seasonality=True to override this.\n",
            "DEBUG:cmdstanpy:input tempfile: /tmp/tmpz20i81ve/1hdp6vwf.json\n",
            "DEBUG:cmdstanpy:input tempfile: /tmp/tmpz20i81ve/ofn2pq8o.json\n",
            "DEBUG:cmdstanpy:idx 0\n",
            "DEBUG:cmdstanpy:running CmdStan, num_threads: None\n",
            "DEBUG:cmdstanpy:CmdStan args: ['/usr/local/lib/python3.10/dist-packages/prophet/stan_model/prophet_model.bin', 'random', 'seed=6005', 'data', 'file=/tmp/tmpz20i81ve/1hdp6vwf.json', 'init=/tmp/tmpz20i81ve/ofn2pq8o.json', 'output', 'file=/tmp/tmpz20i81ve/prophet_model509dobp1/prophet_model-20231001111905.csv', 'method=optimize', 'algorithm=newton', 'iter=10000']\n",
            "11:19:05 - cmdstanpy - INFO - Chain [1] start processing\n",
            "INFO:cmdstanpy:Chain [1] start processing\n"
          ]
        },
        {
          "output_type": "stream",
          "name": "stdout",
          "text": [
            "+++++++++++++++++++++++++++++++++++++++++++++++++++++++++++++++++++++++++++++++++++++++ [('Prophet', 89.6917), ('ARIMA', 22.0289), ('ETS', 14.5371), ('XGBoost', 89.4001)]\n",
            "+++++++++++++++++++++++++++++++++++++++++++++++++++++++++++++++++++++++++++++++++++++++ ETS 69 73 1\n"
          ]
        },
        {
          "output_type": "stream",
          "name": "stderr",
          "text": [
            "11:19:05 - cmdstanpy - INFO - Chain [1] done processing\n",
            "INFO:cmdstanpy:Chain [1] done processing\n",
            "/usr/local/lib/python3.10/dist-packages/statsmodels/tsa/base/tsa_model.py:473: ValueWarning: No frequency information was provided, so inferred frequency W-MON will be used.\n",
            "  self._init_dates(dates, freq)\n",
            "/usr/local/lib/python3.10/dist-packages/statsmodels/tsa/holtwinters/model.py:917: ConvergenceWarning: Optimization failed to converge. Check mle_retvals.\n",
            "  warnings.warn(\n",
            "<ipython-input-14-94b3a4e46828>:89: FutureWarning: The frame.append method is deprecated and will be removed from pandas in a future version. Use pandas.concat instead.\n",
            "  results_df = results_df.append(result_dict, ignore_index=True)\n",
            "INFO:prophet:Disabling yearly seasonality. Run prophet with yearly_seasonality=True to override this.\n",
            "INFO:prophet:Disabling weekly seasonality. Run prophet with weekly_seasonality=True to override this.\n",
            "INFO:prophet:Disabling daily seasonality. Run prophet with daily_seasonality=True to override this.\n",
            "DEBUG:cmdstanpy:input tempfile: /tmp/tmpz20i81ve/dqxdkavx.json\n",
            "DEBUG:cmdstanpy:input tempfile: /tmp/tmpz20i81ve/xjvk1z0b.json\n",
            "DEBUG:cmdstanpy:idx 0\n",
            "DEBUG:cmdstanpy:running CmdStan, num_threads: None\n",
            "DEBUG:cmdstanpy:CmdStan args: ['/usr/local/lib/python3.10/dist-packages/prophet/stan_model/prophet_model.bin', 'random', 'seed=88733', 'data', 'file=/tmp/tmpz20i81ve/dqxdkavx.json', 'init=/tmp/tmpz20i81ve/xjvk1z0b.json', 'output', 'file=/tmp/tmpz20i81ve/prophet_model6xo8kmaw/prophet_model-20231001111907.csv', 'method=optimize', 'algorithm=newton', 'iter=10000']\n",
            "11:19:07 - cmdstanpy - INFO - Chain [1] start processing\n",
            "INFO:cmdstanpy:Chain [1] start processing\n"
          ]
        },
        {
          "output_type": "stream",
          "name": "stdout",
          "text": [
            "+++++++++++++++++++++++++++++++++++++++++++++++++++++++++++++++++++++++++++++++++++++++ [('Prophet', 113.7074), ('ARIMA', 34.8075), ('ETS', 17.0085), ('XGBoost', 54.2865)]\n",
            "+++++++++++++++++++++++++++++++++++++++++++++++++++++++++++++++++++++++++++++++++++++++ ETS 70 74 1\n"
          ]
        },
        {
          "output_type": "stream",
          "name": "stderr",
          "text": [
            "11:19:08 - cmdstanpy - INFO - Chain [1] done processing\n",
            "INFO:cmdstanpy:Chain [1] done processing\n",
            "/usr/local/lib/python3.10/dist-packages/statsmodels/tsa/base/tsa_model.py:473: ValueWarning: No frequency information was provided, so inferred frequency W-MON will be used.\n",
            "  self._init_dates(dates, freq)\n",
            "/usr/local/lib/python3.10/dist-packages/statsmodels/tsa/holtwinters/model.py:917: ConvergenceWarning: Optimization failed to converge. Check mle_retvals.\n",
            "  warnings.warn(\n",
            "<ipython-input-14-94b3a4e46828>:89: FutureWarning: The frame.append method is deprecated and will be removed from pandas in a future version. Use pandas.concat instead.\n",
            "  results_df = results_df.append(result_dict, ignore_index=True)\n",
            "INFO:prophet:Disabling yearly seasonality. Run prophet with yearly_seasonality=True to override this.\n",
            "INFO:prophet:Disabling weekly seasonality. Run prophet with weekly_seasonality=True to override this.\n",
            "INFO:prophet:Disabling daily seasonality. Run prophet with daily_seasonality=True to override this.\n",
            "DEBUG:cmdstanpy:input tempfile: /tmp/tmpz20i81ve/c73b3c4t.json\n",
            "DEBUG:cmdstanpy:input tempfile: /tmp/tmpz20i81ve/q_2fspna.json\n",
            "DEBUG:cmdstanpy:idx 0\n",
            "DEBUG:cmdstanpy:running CmdStan, num_threads: None\n",
            "DEBUG:cmdstanpy:CmdStan args: ['/usr/local/lib/python3.10/dist-packages/prophet/stan_model/prophet_model.bin', 'random', 'seed=68287', 'data', 'file=/tmp/tmpz20i81ve/c73b3c4t.json', 'init=/tmp/tmpz20i81ve/q_2fspna.json', 'output', 'file=/tmp/tmpz20i81ve/prophet_model8lkn5rph/prophet_model-20231001111908.csv', 'method=optimize', 'algorithm=newton', 'iter=10000']\n",
            "11:19:08 - cmdstanpy - INFO - Chain [1] start processing\n",
            "INFO:cmdstanpy:Chain [1] start processing\n"
          ]
        },
        {
          "output_type": "stream",
          "name": "stdout",
          "text": [
            "+++++++++++++++++++++++++++++++++++++++++++++++++++++++++++++++++++++++++++++++++++++++ [('Prophet', 262689.9453), ('ARIMA', 152601.46), ('ETS', 125582.1869), ('XGBoost', 138522.3083)]\n",
            "+++++++++++++++++++++++++++++++++++++++++++++++++++++++++++++++++++++++++++++++++++++++ ETS 71 75 1\n"
          ]
        },
        {
          "output_type": "stream",
          "name": "stderr",
          "text": [
            "11:19:09 - cmdstanpy - INFO - Chain [1] done processing\n",
            "INFO:cmdstanpy:Chain [1] done processing\n",
            "/usr/local/lib/python3.10/dist-packages/statsmodels/tsa/base/tsa_model.py:473: ValueWarning: No frequency information was provided, so inferred frequency W-MON will be used.\n",
            "  self._init_dates(dates, freq)\n",
            "/usr/local/lib/python3.10/dist-packages/statsmodels/tsa/holtwinters/model.py:917: ConvergenceWarning: Optimization failed to converge. Check mle_retvals.\n",
            "  warnings.warn(\n",
            "<ipython-input-14-94b3a4e46828>:89: FutureWarning: The frame.append method is deprecated and will be removed from pandas in a future version. Use pandas.concat instead.\n",
            "  results_df = results_df.append(result_dict, ignore_index=True)\n",
            "INFO:prophet:Disabling yearly seasonality. Run prophet with yearly_seasonality=True to override this.\n",
            "INFO:prophet:Disabling weekly seasonality. Run prophet with weekly_seasonality=True to override this.\n",
            "INFO:prophet:Disabling daily seasonality. Run prophet with daily_seasonality=True to override this.\n",
            "DEBUG:cmdstanpy:input tempfile: /tmp/tmpz20i81ve/8wd2hci7.json\n",
            "DEBUG:cmdstanpy:input tempfile: /tmp/tmpz20i81ve/kno5vj6g.json\n",
            "DEBUG:cmdstanpy:idx 0\n",
            "DEBUG:cmdstanpy:running CmdStan, num_threads: None\n",
            "DEBUG:cmdstanpy:CmdStan args: ['/usr/local/lib/python3.10/dist-packages/prophet/stan_model/prophet_model.bin', 'random', 'seed=65791', 'data', 'file=/tmp/tmpz20i81ve/8wd2hci7.json', 'init=/tmp/tmpz20i81ve/kno5vj6g.json', 'output', 'file=/tmp/tmpz20i81ve/prophet_modelrr3gkujz/prophet_model-20231001111909.csv', 'method=optimize', 'algorithm=newton', 'iter=10000']\n",
            "11:19:09 - cmdstanpy - INFO - Chain [1] start processing\n",
            "INFO:cmdstanpy:Chain [1] start processing\n"
          ]
        },
        {
          "output_type": "stream",
          "name": "stdout",
          "text": [
            "+++++++++++++++++++++++++++++++++++++++++++++++++++++++++++++++++++++++++++++++++++++++ [('Prophet', 136776.7548), ('ARIMA', 19962.3462), ('ETS', 37854.8527), ('XGBoost', 65308.1178)]\n",
            "+++++++++++++++++++++++++++++++++++++++++++++++++++++++++++++++++++++++++++++++++++++++ ARIMA 72 76 1\n"
          ]
        },
        {
          "output_type": "stream",
          "name": "stderr",
          "text": [
            "11:19:10 - cmdstanpy - INFO - Chain [1] done processing\n",
            "INFO:cmdstanpy:Chain [1] done processing\n",
            "/usr/local/lib/python3.10/dist-packages/statsmodels/tsa/base/tsa_model.py:473: ValueWarning: No frequency information was provided, so inferred frequency W-MON will be used.\n",
            "  self._init_dates(dates, freq)\n",
            "/usr/local/lib/python3.10/dist-packages/statsmodels/tsa/holtwinters/model.py:917: ConvergenceWarning: Optimization failed to converge. Check mle_retvals.\n",
            "  warnings.warn(\n",
            "<ipython-input-14-94b3a4e46828>:89: FutureWarning: The frame.append method is deprecated and will be removed from pandas in a future version. Use pandas.concat instead.\n",
            "  results_df = results_df.append(result_dict, ignore_index=True)\n",
            "INFO:prophet:Disabling yearly seasonality. Run prophet with yearly_seasonality=True to override this.\n",
            "INFO:prophet:Disabling weekly seasonality. Run prophet with weekly_seasonality=True to override this.\n",
            "INFO:prophet:Disabling daily seasonality. Run prophet with daily_seasonality=True to override this.\n",
            "DEBUG:cmdstanpy:input tempfile: /tmp/tmpz20i81ve/8j_qm5gz.json\n",
            "DEBUG:cmdstanpy:input tempfile: /tmp/tmpz20i81ve/0e_cq5gd.json\n",
            "DEBUG:cmdstanpy:idx 0\n",
            "DEBUG:cmdstanpy:running CmdStan, num_threads: None\n",
            "DEBUG:cmdstanpy:CmdStan args: ['/usr/local/lib/python3.10/dist-packages/prophet/stan_model/prophet_model.bin', 'random', 'seed=75778', 'data', 'file=/tmp/tmpz20i81ve/8j_qm5gz.json', 'init=/tmp/tmpz20i81ve/0e_cq5gd.json', 'output', 'file=/tmp/tmpz20i81ve/prophet_modelpern3_45/prophet_model-20231001111910.csv', 'method=optimize', 'algorithm=newton', 'iter=10000']\n",
            "11:19:10 - cmdstanpy - INFO - Chain [1] start processing\n",
            "INFO:cmdstanpy:Chain [1] start processing\n"
          ]
        },
        {
          "output_type": "stream",
          "name": "stdout",
          "text": [
            "+++++++++++++++++++++++++++++++++++++++++++++++++++++++++++++++++++++++++++++++++++++++ [('Prophet', 207124.7999), ('ARIMA', 26959.2745), ('ETS', 17949.2408), ('XGBoost', 128850.0681)]\n",
            "+++++++++++++++++++++++++++++++++++++++++++++++++++++++++++++++++++++++++++++++++++++++ ETS 73 77 1\n"
          ]
        },
        {
          "output_type": "stream",
          "name": "stderr",
          "text": [
            "11:19:11 - cmdstanpy - INFO - Chain [1] done processing\n",
            "INFO:cmdstanpy:Chain [1] done processing\n",
            "/usr/local/lib/python3.10/dist-packages/statsmodels/tsa/base/tsa_model.py:473: ValueWarning: No frequency information was provided, so inferred frequency W-MON will be used.\n",
            "  self._init_dates(dates, freq)\n",
            "/usr/local/lib/python3.10/dist-packages/statsmodels/tsa/holtwinters/model.py:917: ConvergenceWarning: Optimization failed to converge. Check mle_retvals.\n",
            "  warnings.warn(\n",
            "<ipython-input-14-94b3a4e46828>:89: FutureWarning: The frame.append method is deprecated and will be removed from pandas in a future version. Use pandas.concat instead.\n",
            "  results_df = results_df.append(result_dict, ignore_index=True)\n"
          ]
        },
        {
          "output_type": "stream",
          "name": "stdout",
          "text": [
            "+++++++++++++++++++++++++++++++++++++++++++++++++++++++++++++++++++++++++++++++++++++++ [('Prophet', 126711.9792), ('ARIMA', 14971.1109), ('ETS', 10930.1056), ('XGBoost', 30705.1276)]\n",
            "+++++++++++++++++++++++++++++++++++++++++++++++++++++++++++++++++++++++++++++++++++++++ ETS 74 78 1\n",
            "+++++++++++++++++++++++++++++++++++++++++++++++++++++++++++++++++++++++++++++++++++++++weekly\n",
            "XGBoost    27\n",
            "Prophet    19\n",
            "ETS        16\n",
            "ARIMA      13\n",
            "Name: Best Model, dtype: int64\n"
          ]
        }
      ]
    },
    {
      "cell_type": "code",
      "source": [
        "temp"
      ],
      "metadata": {
        "colab": {
          "base_uri": "https://localhost:8080/"
        },
        "id": "oaBcTb_f1x8J",
        "outputId": "c64023dc-46b8-4f78-941c-86a74ee963a9"
      },
      "execution_count": 15,
      "outputs": [
        {
          "output_type": "execute_result",
          "data": {
            "text/plain": [
              "[{0: [('Prophet', 11.0062),\n",
              "   ('ARIMA', 9.3276),\n",
              "   ('ETS', 9.0695),\n",
              "   ('XGBoost', 8.7394)],\n",
              "  1: [('Prophet', 4.8666),\n",
              "   ('ARIMA', 2.2163),\n",
              "   ('ETS', 4.134),\n",
              "   ('XGBoost', 0.054)],\n",
              "  2: [('Prophet', 1.1517),\n",
              "   ('ARIMA', 0.1028),\n",
              "   ('ETS', 1.5376),\n",
              "   ('XGBoost', 3.2329)],\n",
              "  3: [('Prophet', 32.3899),\n",
              "   ('ARIMA', 31.8824),\n",
              "   ('ETS', 32.5961),\n",
              "   ('XGBoost', 31.3423)],\n",
              "  4: [('Prophet', 45.0684),\n",
              "   ('ARIMA', 51.3381),\n",
              "   ('ETS', 37.56),\n",
              "   ('XGBoost', 33.3411)],\n",
              "  5: [('Prophet', 23.2615),\n",
              "   ('ARIMA', 14.7365),\n",
              "   ('ETS', 4.2008),\n",
              "   ('XGBoost', 4.4068)],\n",
              "  6: [('Prophet', 14.8259),\n",
              "   ('ARIMA', 26.3541),\n",
              "   ('ETS', 30.0793),\n",
              "   ('XGBoost', 29.9187)],\n",
              "  7: [('Prophet', 2.805),\n",
              "   ('ARIMA', 40.4424),\n",
              "   ('ETS', 10.8869),\n",
              "   ('XGBoost', 10.9511)],\n",
              "  8: [('Prophet', 18.9498),\n",
              "   ('ARIMA', 19.0654),\n",
              "   ('ETS', 23.7972),\n",
              "   ('XGBoost', 7.9198)],\n",
              "  9: [('Prophet', 10.6468),\n",
              "   ('ARIMA', 0.2183),\n",
              "   ('ETS', 0.3371),\n",
              "   ('XGBoost', 2.8034)],\n",
              "  10: [('Prophet', 9.7758),\n",
              "   ('ARIMA', 5.9769),\n",
              "   ('ETS', 5.9785),\n",
              "   ('XGBoost', 24.5897)],\n",
              "  11: [('Prophet', 11.5412),\n",
              "   ('ARIMA', 15.8741),\n",
              "   ('ETS', 15.8394),\n",
              "   ('XGBoost', 1.6401)],\n",
              "  12: [('Prophet', 6.3437),\n",
              "   ('ARIMA', 6.2558),\n",
              "   ('ETS', 6.1816),\n",
              "   ('XGBoost', 1.9175)],\n",
              "  13: [('Prophet', 3.6802),\n",
              "   ('ARIMA', 4.7411),\n",
              "   ('ETS', 4.7705),\n",
              "   ('XGBoost', 3.896)],\n",
              "  14: [('Prophet', 9.0182),\n",
              "   ('ARIMA', 2.2479),\n",
              "   ('ETS', 2.2235),\n",
              "   ('XGBoost', 5.4775)],\n",
              "  15: [('Prophet', 18.4922),\n",
              "   ('ARIMA', 6.8399),\n",
              "   ('ETS', 6.8517),\n",
              "   ('XGBoost', 4.3401)],\n",
              "  16: [('Prophet', 28.225),\n",
              "   ('ARIMA', 7.9275),\n",
              "   ('ETS', 7.9644),\n",
              "   ('XGBoost', 12.1636)],\n",
              "  17: [('Prophet', 11.5595),\n",
              "   ('ARIMA', 12.1521),\n",
              "   ('ETS', 12.1171),\n",
              "   ('XGBoost', 5.7643)],\n",
              "  18: [('Prophet', 3.4483),\n",
              "   ('ARIMA', 14.2946),\n",
              "   ('ETS', 14.3466),\n",
              "   ('XGBoost', 13.2527)],\n",
              "  19: [('Prophet', 2.3801),\n",
              "   ('ARIMA', 2.8621),\n",
              "   ('ETS', 2.7883),\n",
              "   ('XGBoost', 11.5924)],\n",
              "  20: [('Prophet', 8.901),\n",
              "   ('ARIMA', 3.9266),\n",
              "   ('ETS', 21.7492),\n",
              "   ('XGBoost', 7.0518)],\n",
              "  21: [('Prophet', 32.3816),\n",
              "   ('ARIMA', 20.1209),\n",
              "   ('ETS', 30.2754),\n",
              "   ('XGBoost', 10.1106)],\n",
              "  22: [('Prophet', 55.1119),\n",
              "   ('ARIMA', 18.5732),\n",
              "   ('ETS', 31.2563),\n",
              "   ('XGBoost', 40.3069)],\n",
              "  23: [('Prophet', 37.708),\n",
              "   ('ARIMA', 8.6572),\n",
              "   ('ETS', 24.7715),\n",
              "   ('XGBoost', 15.7842)],\n",
              "  24: [('Prophet', 45.8458),\n",
              "   ('ARIMA', 7.7762),\n",
              "   ('ETS', 14.8476),\n",
              "   ('XGBoost', 2.3554)],\n",
              "  25: [('Prophet', 27.9112),\n",
              "   ('ARIMA', 10.3829),\n",
              "   ('ETS', 4.527),\n",
              "   ('XGBoost', 1.8343)],\n",
              "  26: [('Prophet', 10.1056),\n",
              "   ('ARIMA', 12.8224),\n",
              "   ('ETS', 26.1785),\n",
              "   ('XGBoost', 18.1317)],\n",
              "  27: [('Prophet', 5.5018),\n",
              "   ('ARIMA', 4.6582),\n",
              "   ('ETS', 0.1452),\n",
              "   ('XGBoost', 19.1747)],\n",
              "  28: [('Prophet', 3.6477),\n",
              "   ('ARIMA', 9.4909),\n",
              "   ('ETS', 11.7907),\n",
              "   ('XGBoost', 20.7528)],\n",
              "  29: [('Prophet', 13.925),\n",
              "   ('ARIMA', 15.9552),\n",
              "   ('ETS', 22.2101),\n",
              "   ('XGBoost', 7.6454)],\n",
              "  30: [('Prophet', 48.8955),\n",
              "   ('ARIMA', 30.4181),\n",
              "   ('ETS', 11.9324),\n",
              "   ('XGBoost', 23.7131)],\n",
              "  31: [('Prophet', 16.8369),\n",
              "   ('ARIMA', 19.6933),\n",
              "   ('ETS', 20.4189),\n",
              "   ('XGBoost', 3.7184)],\n",
              "  32: [('Prophet', 8.4649),\n",
              "   ('ARIMA', 6.8824),\n",
              "   ('ETS', 2.0186),\n",
              "   ('XGBoost', 1.594)],\n",
              "  33: [('Prophet', 10.2243),\n",
              "   ('ARIMA', 1.177),\n",
              "   ('ETS', 8.4188),\n",
              "   ('XGBoost', 2.684)],\n",
              "  34: [('Prophet', 43.2582),\n",
              "   ('ARIMA', 29.6627),\n",
              "   ('ETS', 25.0221),\n",
              "   ('XGBoost', 8.118)],\n",
              "  35: [('Prophet', 29.8155),\n",
              "   ('ARIMA', 7.7942),\n",
              "   ('ETS', 11.7119),\n",
              "   ('XGBoost', 2.7096)],\n",
              "  36: [('Prophet', 5.0384),\n",
              "   ('ARIMA', 18.193),\n",
              "   ('ETS', 17.5198),\n",
              "   ('XGBoost', 8.6624)],\n",
              "  37: [('Prophet', 14.9974),\n",
              "   ('ARIMA', 8.9191),\n",
              "   ('ETS', 19.9116),\n",
              "   ('XGBoost', 2.7126)],\n",
              "  38: [('Prophet', 5.4554),\n",
              "   ('ARIMA', 8.0767),\n",
              "   ('ETS', 12.4637),\n",
              "   ('XGBoost', 27.0069)],\n",
              "  39: [('Prophet', 37.103),\n",
              "   ('ARIMA', 29.2799),\n",
              "   ('ETS', 34.8939),\n",
              "   ('XGBoost', 36.5953)],\n",
              "  40: [('Prophet', 14.2662),\n",
              "   ('ARIMA', 15.3883),\n",
              "   ('ETS', 2.7264),\n",
              "   ('XGBoost', 1.2691)],\n",
              "  41: [('Prophet', 15.9765),\n",
              "   ('ARIMA', 26.3091),\n",
              "   ('ETS', 23.1219),\n",
              "   ('XGBoost', 18.0334)],\n",
              "  42: [('Prophet', 10.0319),\n",
              "   ('ARIMA', 27.8011),\n",
              "   ('ETS', 17.945),\n",
              "   ('XGBoost', 14.01)],\n",
              "  43: [('Prophet', 1.5151),\n",
              "   ('ARIMA', 20.7274),\n",
              "   ('ETS', 3.6224),\n",
              "   ('XGBoost', 33.3686)],\n",
              "  44: [('Prophet', 8.7329),\n",
              "   ('ARIMA', 9.3112),\n",
              "   ('ETS', 17.8282),\n",
              "   ('XGBoost', 1.8465)],\n",
              "  45: [('Prophet', 47.112),\n",
              "   ('ARIMA', 35.0341),\n",
              "   ('ETS', 34.7938),\n",
              "   ('XGBoost', 71.4143)],\n",
              "  46: [('Prophet', 49.1128),\n",
              "   ('ARIMA', 3.0925),\n",
              "   ('ETS', 6.1088),\n",
              "   ('XGBoost', 22.0691)],\n",
              "  47: [('Prophet', 17.8398),\n",
              "   ('ARIMA', 19.5838),\n",
              "   ('ETS', 20.4653),\n",
              "   ('XGBoost', 51.4776)],\n",
              "  48: [('Prophet', 2.0493),\n",
              "   ('ARIMA', 13.0253),\n",
              "   ('ETS', 10.1159),\n",
              "   ('XGBoost', 18.5254)],\n",
              "  49: [('Prophet', 6.4076),\n",
              "   ('ARIMA', 12.8523),\n",
              "   ('ETS', 8.0405),\n",
              "   ('XGBoost', 12.4182)],\n",
              "  50: [('Prophet', 11.9892),\n",
              "   ('ARIMA', 18.3397),\n",
              "   ('ETS', 17.5023),\n",
              "   ('XGBoost', 13.8651)],\n",
              "  51: [('Prophet', 1.304),\n",
              "   ('ARIMA', 9.5143),\n",
              "   ('ETS', 7.1143),\n",
              "   ('XGBoost', 13.8481)],\n",
              "  52: [('Prophet', 6.988),\n",
              "   ('ARIMA', 5.0626),\n",
              "   ('ETS', 15.9205),\n",
              "   ('XGBoost', 0.0176)],\n",
              "  53: [('Prophet', 1.9113),\n",
              "   ('ARIMA', 8.5527),\n",
              "   ('ETS', 8.3241),\n",
              "   ('XGBoost', 0.3563)],\n",
              "  54: [('Prophet', 1.3519),\n",
              "   ('ARIMA', 2.5852),\n",
              "   ('ETS', 7.734),\n",
              "   ('XGBoost', 8.5519)],\n",
              "  55: [('Prophet', 18.3019),\n",
              "   ('ARIMA', 16.0521),\n",
              "   ('ETS', 22.6511),\n",
              "   ('XGBoost', 13.5151)],\n",
              "  56: [('Prophet', 6.0785),\n",
              "   ('ARIMA', 9.9684),\n",
              "   ('ETS', 1.2506),\n",
              "   ('XGBoost', 6.4784)],\n",
              "  57: [('Prophet', 1.0136),\n",
              "   ('ARIMA', 6.9212),\n",
              "   ('ETS', 17.5975),\n",
              "   ('XGBoost', 1.0393)],\n",
              "  58: [('Prophet', 109.9564),\n",
              "   ('ARIMA', 110.7866),\n",
              "   ('ETS', 85.9097),\n",
              "   ('XGBoost', 89.8502)],\n",
              "  59: [('Prophet', 89.0738),\n",
              "   ('ARIMA', 7.4971),\n",
              "   ('ETS', 34.6507),\n",
              "   ('XGBoost', 4.4711)],\n",
              "  60: [('Prophet', 87.9109),\n",
              "   ('ARIMA', 1.7838),\n",
              "   ('ETS', 26.1215),\n",
              "   ('XGBoost', 93.2034)],\n",
              "  61: [('Prophet', 73.5578),\n",
              "   ('ARIMA', 5.4023),\n",
              "   ('ETS', 4.6813),\n",
              "   ('XGBoost', 22.496)],\n",
              "  62: [('Prophet', 72.0266),\n",
              "   ('ARIMA', 13.6324),\n",
              "   ('ETS', 6.6787),\n",
              "   ('XGBoost', 11.2706)],\n",
              "  63: [('Prophet', 68.7525),\n",
              "   ('ARIMA', 12.4021),\n",
              "   ('ETS', 8.8085),\n",
              "   ('XGBoost', 38.6987)],\n",
              "  64: [('Prophet', 46.4655),\n",
              "   ('ARIMA', 1.087),\n",
              "   ('ETS', 0.7951),\n",
              "   ('XGBoost', 18.4421)],\n",
              "  65: [('Prophet', 47.7372),\n",
              "   ('ARIMA', 10.0474),\n",
              "   ('ETS', 9.1921),\n",
              "   ('XGBoost', 3.7494)],\n",
              "  66: [('Prophet', 39.6288),\n",
              "   ('ARIMA', 3.6907),\n",
              "   ('ETS', 25.344),\n",
              "   ('XGBoost', 5.578)],\n",
              "  67: [('Prophet', 64.6308),\n",
              "   ('ARIMA', 27.2193),\n",
              "   ('ETS', 18.9225),\n",
              "   ('XGBoost', 3.6755)],\n",
              "  68: [('Prophet', 84.0019),\n",
              "   ('ARIMA', 27.6419),\n",
              "   ('ETS', 25.5624),\n",
              "   ('XGBoost', 16.4657)],\n",
              "  69: [('Prophet', 89.6917),\n",
              "   ('ARIMA', 22.0289),\n",
              "   ('ETS', 14.5371),\n",
              "   ('XGBoost', 89.4001)],\n",
              "  70: [('Prophet', 113.7074),\n",
              "   ('ARIMA', 34.8075),\n",
              "   ('ETS', 17.0085),\n",
              "   ('XGBoost', 54.2865)],\n",
              "  71: [('Prophet', 262689.9453),\n",
              "   ('ARIMA', 152601.46),\n",
              "   ('ETS', 125582.1869),\n",
              "   ('XGBoost', 138522.3083)],\n",
              "  72: [('Prophet', 136776.7548),\n",
              "   ('ARIMA', 19962.3462),\n",
              "   ('ETS', 37854.8527),\n",
              "   ('XGBoost', 65308.1178)],\n",
              "  73: [('Prophet', 207124.7999),\n",
              "   ('ARIMA', 26959.2745),\n",
              "   ('ETS', 17949.2408),\n",
              "   ('XGBoost', 128850.0681)],\n",
              "  74: [('Prophet', 126711.9792),\n",
              "   ('ARIMA', 14971.1109),\n",
              "   ('ETS', 10930.1056),\n",
              "   ('XGBoost', 30705.1276)]}]"
            ]
          },
          "metadata": {},
          "execution_count": 15
        }
      ]
    },
    {
      "cell_type": "code",
      "source": [],
      "metadata": {
        "id": "wk85m9-TGvq9"
      },
      "execution_count": null,
      "outputs": []
    }
  ]
}
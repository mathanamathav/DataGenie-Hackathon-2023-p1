{
  "nbformat": 4,
  "nbformat_minor": 0,
  "metadata": {
    "colab": {
      "provenance": []
    },
    "kernelspec": {
      "name": "python3",
      "display_name": "Python 3"
    },
    "language_info": {
      "name": "python"
    }
  },
  "cells": [
    {
      "cell_type": "code",
      "execution_count": 6,
      "metadata": {
        "id": "QFbnNCUH8ZUs",
        "colab": {
          "base_uri": "https://localhost:8080/"
        },
        "outputId": "f30a9495-66f7-446c-e462-eb1f071ea552"
      },
      "outputs": [
        {
          "output_type": "stream",
          "name": "stdout",
          "text": [
            "\u001b[2K     \u001b[90m━━━━━━━━━━━━━━━━━━━━━━━━━━━━━━━━━━━━━━━━\u001b[0m \u001b[32m22.5/22.5 MB\u001b[0m \u001b[31m11.0 MB/s\u001b[0m eta \u001b[36m0:00:00\u001b[0m\n",
            "\u001b[2K     \u001b[90m━━━━━━━━━━━━━━━━━━━━━━━━━━━━━━━━━━━━━━\u001b[0m \u001b[32m115.3/115.3 kB\u001b[0m \u001b[31m11.7 MB/s\u001b[0m eta \u001b[36m0:00:00\u001b[0m\n",
            "\u001b[2K     \u001b[90m━━━━━━━━━━━━━━━━━━━━━━━━━━━━━━━━━━━━━━\u001b[0m \u001b[32m499.9/499.9 kB\u001b[0m \u001b[31m41.5 MB/s\u001b[0m eta \u001b[36m0:00:00\u001b[0m\n",
            "\u001b[2K     \u001b[90m━━━━━━━━━━━━━━━━━━━━━━━━━━━━━━━━━━━━━━━━\u001b[0m \u001b[32m1.4/1.4 MB\u001b[0m \u001b[31m77.5 MB/s\u001b[0m eta \u001b[36m0:00:00\u001b[0m\n",
            "\u001b[2K     \u001b[90m━━━━━━━━━━━━━━━━━━━━━━━━━━━━━━━━━━━━━━\u001b[0m \u001b[32m102.8/102.8 kB\u001b[0m \u001b[31m11.5 MB/s\u001b[0m eta \u001b[36m0:00:00\u001b[0m\n",
            "\u001b[2K     \u001b[90m━━━━━━━━━━━━━━━━━━━━━━━━━━━━━━━━━━━━━━━━\u001b[0m \u001b[32m1.6/1.6 MB\u001b[0m \u001b[31m86.3 MB/s\u001b[0m eta \u001b[36m0:00:00\u001b[0m\n",
            "\u001b[?25h\u001b[31mERROR: pip's dependency resolver does not currently take into account all the packages that are installed. This behaviour is the source of the following dependency conflicts.\n",
            "prophet 1.1.4 requires holidays>=0.25, but you have holidays 0.24 which is incompatible.\u001b[0m\u001b[31m\n",
            "\u001b[0m"
          ]
        }
      ],
      "source": [
        "!pip install greykite -q"
      ]
    },
    {
      "cell_type": "code",
      "source": [
        "from google.colab import drive\n",
        "drive.mount('/content/drive')"
      ],
      "metadata": {
        "colab": {
          "base_uri": "https://localhost:8080/"
        },
        "id": "cxtV-n9c8vw1",
        "outputId": "2d3e7295-33cd-4cb7-aa26-8ee8c004f554"
      },
      "execution_count": 7,
      "outputs": [
        {
          "output_type": "stream",
          "name": "stdout",
          "text": [
            "Mounted at /content/drive\n"
          ]
        }
      ]
    },
    {
      "cell_type": "code",
      "source": [
        "from greykite.framework.templates.autogen.forecast_config import ForecastConfig\n",
        "from greykite.framework.templates.autogen.forecast_config import MetadataParam\n",
        "from greykite.framework.templates.forecaster import Forecaster\n",
        "from greykite.framework.templates.model_templates import ModelTemplateEnum\n",
        "from greykite.framework.utils.result_summary import summarize_grid_search_results\n",
        "\n",
        "from statsmodels.tsa.holtwinters import ExponentialSmoothing\n",
        "\n",
        "from prophet import Prophet\n",
        "\n",
        "import xgboost as xgb\n",
        "\n",
        "import statsmodels.api as sm\n",
        "from statsmodels.tsa.stattools import adfuller\n",
        "from statsmodels.tsa.stattools import pacf\n",
        "\n",
        "from scipy.stats import skew, kurtosis\n",
        "from statsmodels.tsa.seasonal import seasonal_decompose\n",
        "\n",
        "\n",
        "import numpy as np\n",
        "import pandas as pd"
      ],
      "metadata": {
        "id": "Pr6CyTcE8wz5"
      },
      "execution_count": 8,
      "outputs": []
    },
    {
      "cell_type": "code",
      "source": [
        "def calculate_mape(true_values, predicted_values):\n",
        "    epsilon = 1e-10\n",
        "    abs_percentage_error = np.abs((true_values - predicted_values) / (true_values + epsilon))\n",
        "    return round(np.mean(abs_percentage_error) * 100 , 4)\n",
        "\n",
        "def forecast_greykite(df , freq =\"D\" ,forecast=False , forecast_period = 100):\n",
        "  metadata = MetadataParam(\n",
        "     time_col=\"date\",\n",
        "     value_col=\"value\",\n",
        "     freq=freq ,\n",
        "     train_end_date=df['date'].iloc[-1]\n",
        "  )\n",
        "  forecaster = Forecaster()\n",
        "  result = forecaster.run_forecast_config(\n",
        "      df=df,\n",
        "      config=ForecastConfig(\n",
        "          model_template=ModelTemplateEnum.SILVERKITE.name,\n",
        "          forecast_horizon=forecast_period,\n",
        "          coverage=0.95,\n",
        "          metadata_param=metadata\n",
        "      )\n",
        "  )\n",
        "\n",
        "  if not forecast:\n",
        "    return result.forecast.df['forecast'].tolist()[:-forecast_period]\n",
        "  return result.forecast.df['forecast'].tolist()\n",
        "\n",
        "def forecast_xgboost(df , forecast_period = 0 , date_to = None):\n",
        "  df['year'] = df['date'].dt.year\n",
        "  df['month'] = df['date'].dt.month\n",
        "  df['day'] = df['date'].dt.day\n",
        "  df['day_of_week'] = df['date'].dt.dayofweek\n",
        "\n",
        "  X_train = df.drop(['value' , 'date'], axis=1)\n",
        "  y_train = df['value']\n",
        "\n",
        "  model = xgb.XGBRegressor(max_depth=3, min_child_weight=1, reg_alpha=0.1)\n",
        "  model.fit(X_train, y_train)\n",
        "\n",
        "  past = model.predict(X_train).tolist()\n",
        "\n",
        "  if forecast_period and date_to:\n",
        "    date_range = pd.date_range(start=date_to + pd.DateOffset(days=1), periods=forecast_period, freq='D' , normalize=True)\n",
        "    future_data = pd.DataFrame(index=date_range)\n",
        "    future_data['year'] = future_data.index.year\n",
        "    future_data['month'] = future_data.index.month\n",
        "    future_data['day'] = future_data.index.day\n",
        "    future_data['day_of_week'] = future_data.index.dayofweek\n",
        "\n",
        "    future_predictions = model.predict(future_data).tolist()\n",
        "    past.extend(future_predictions)\n",
        "    return past\n",
        "\n",
        "  return past\n",
        "\n",
        "\n",
        "def forecast_ets(df , forecast_period = 0 ):\n",
        "  model = ExponentialSmoothing(df['value'], trend='add', seasonal='add', seasonal_periods=12)\n",
        "  result = model.fit()\n",
        "\n",
        "  past = result.fittedvalues.tolist()\n",
        "  if forecast_period:\n",
        "    future_data = result.forecast(steps = forecast_period)\n",
        "    past.extend(future_data)\n",
        "    return past\n",
        "\n",
        "  return past\n",
        "\n",
        "def forecast_prophet(df , forecast_period = 0 ):\n",
        "  df = df.rename(columns={'date': 'ds', 'value': 'y'})\n",
        "\n",
        "  model = Prophet()\n",
        "  model.fit(df)\n",
        "\n",
        "  future = model.make_future_dataframe(periods=forecast_period)\n",
        "  forecast = model.predict(future)\n",
        "  return forecast['yhat'].tolist()\n",
        "\n",
        "\n",
        "def forecast_arima(df , forecast_period = 0):\n",
        "  result = adfuller(df['value'])\n",
        "  p_value = result[1]\n",
        "\n",
        "  if p_value < 0.05:\n",
        "      d = 0\n",
        "  else:\n",
        "      d = 1\n",
        "\n",
        "  pacf_values = pacf(df['value'], method='ols')\n",
        "  acf_values = pacf(df['value'], method='ols')\n",
        "\n",
        "  for p in range(1, len(pacf_values)):\n",
        "      if abs(pacf_values[p]) < 1.96 / np.sqrt(len(df)):\n",
        "          break\n",
        "\n",
        "  for q in range(1, len(acf_values)):\n",
        "      if abs(acf_values[q]) < 1.96 / np.sqrt(len(df)):\n",
        "          break\n",
        "\n",
        "  model = sm.tsa.arima.ARIMA(df['value'], order=(p, d, q))\n",
        "  results = model.fit()\n",
        "  past = results.fittedvalues.tolist()\n",
        "\n",
        "  if forecast_period:\n",
        "    future_data = results.forecast(steps=forecast_period)\n",
        "    past.extend(future_data)\n",
        "    return past\n",
        "\n",
        "  return past\n",
        "\n",
        "def train_greykite(df, freq=\"D\"):\n",
        "    metadata = MetadataParam(\n",
        "        time_col=\"date\",\n",
        "        value_col=\"value\",\n",
        "        freq=freq,\n",
        "        train_end_date=df['date'].iloc[-1]\n",
        "    )\n",
        "    forecaster = Forecaster()\n",
        "    result = forecaster.run_forecast_config(\n",
        "        df=df,\n",
        "        config=ForecastConfig(\n",
        "            model_template=ModelTemplateEnum.SILVERKITE.name,\n",
        "            metadata_param=metadata\n",
        "        )\n",
        "    )\n",
        "\n",
        "    trained_values  = result.forecast.df['forecast'].tolist()[:len(df)]\n",
        "    return trained_values"
      ],
      "metadata": {
        "id": "WAU2CnoPGrtg"
      },
      "execution_count": 61,
      "outputs": []
    },
    {
      "cell_type": "code",
      "source": [
        "file_path = '/content/drive/MyDrive/DGdataset/Sample Time Series/daily/processed_daily.csv'\n",
        "df = pd.read_csv(file_path , index_col = 0)\n",
        "df.head()"
      ],
      "metadata": {
        "colab": {
          "base_uri": "https://localhost:8080/",
          "height": 206
        },
        "id": "Omg2GTpcGhGZ",
        "outputId": "207cd24c-d2b0-488c-db40-301bd5182b60"
      },
      "execution_count": 10,
      "outputs": [
        {
          "output_type": "execute_result",
          "data": {
            "text/plain": [
              "           date          value\n",
              "568  2021-02-01  903053.004725\n",
              "569  2021-02-02  910297.753775\n",
              "570  2021-02-03  912559.254575\n",
              "571  2021-02-04  920697.253775\n",
              "572  2021-02-05  927060.753775"
            ],
            "text/html": [
              "\n",
              "  <div id=\"df-086ca5cf-a120-4d38-a21b-2e28b00a51bc\" class=\"colab-df-container\">\n",
              "    <div>\n",
              "<style scoped>\n",
              "    .dataframe tbody tr th:only-of-type {\n",
              "        vertical-align: middle;\n",
              "    }\n",
              "\n",
              "    .dataframe tbody tr th {\n",
              "        vertical-align: top;\n",
              "    }\n",
              "\n",
              "    .dataframe thead th {\n",
              "        text-align: right;\n",
              "    }\n",
              "</style>\n",
              "<table border=\"1\" class=\"dataframe\">\n",
              "  <thead>\n",
              "    <tr style=\"text-align: right;\">\n",
              "      <th></th>\n",
              "      <th>date</th>\n",
              "      <th>value</th>\n",
              "    </tr>\n",
              "  </thead>\n",
              "  <tbody>\n",
              "    <tr>\n",
              "      <th>568</th>\n",
              "      <td>2021-02-01</td>\n",
              "      <td>903053.004725</td>\n",
              "    </tr>\n",
              "    <tr>\n",
              "      <th>569</th>\n",
              "      <td>2021-02-02</td>\n",
              "      <td>910297.753775</td>\n",
              "    </tr>\n",
              "    <tr>\n",
              "      <th>570</th>\n",
              "      <td>2021-02-03</td>\n",
              "      <td>912559.254575</td>\n",
              "    </tr>\n",
              "    <tr>\n",
              "      <th>571</th>\n",
              "      <td>2021-02-04</td>\n",
              "      <td>920697.253775</td>\n",
              "    </tr>\n",
              "    <tr>\n",
              "      <th>572</th>\n",
              "      <td>2021-02-05</td>\n",
              "      <td>927060.753775</td>\n",
              "    </tr>\n",
              "  </tbody>\n",
              "</table>\n",
              "</div>\n",
              "    <div class=\"colab-df-buttons\">\n",
              "\n",
              "  <div class=\"colab-df-container\">\n",
              "    <button class=\"colab-df-convert\" onclick=\"convertToInteractive('df-086ca5cf-a120-4d38-a21b-2e28b00a51bc')\"\n",
              "            title=\"Convert this dataframe to an interactive table.\"\n",
              "            style=\"display:none;\">\n",
              "\n",
              "  <svg xmlns=\"http://www.w3.org/2000/svg\" height=\"24px\" viewBox=\"0 -960 960 960\">\n",
              "    <path d=\"M120-120v-720h720v720H120Zm60-500h600v-160H180v160Zm220 220h160v-160H400v160Zm0 220h160v-160H400v160ZM180-400h160v-160H180v160Zm440 0h160v-160H620v160ZM180-180h160v-160H180v160Zm440 0h160v-160H620v160Z\"/>\n",
              "  </svg>\n",
              "    </button>\n",
              "\n",
              "  <style>\n",
              "    .colab-df-container {\n",
              "      display:flex;\n",
              "      gap: 12px;\n",
              "    }\n",
              "\n",
              "    .colab-df-convert {\n",
              "      background-color: #E8F0FE;\n",
              "      border: none;\n",
              "      border-radius: 50%;\n",
              "      cursor: pointer;\n",
              "      display: none;\n",
              "      fill: #1967D2;\n",
              "      height: 32px;\n",
              "      padding: 0 0 0 0;\n",
              "      width: 32px;\n",
              "    }\n",
              "\n",
              "    .colab-df-convert:hover {\n",
              "      background-color: #E2EBFA;\n",
              "      box-shadow: 0px 1px 2px rgba(60, 64, 67, 0.3), 0px 1px 3px 1px rgba(60, 64, 67, 0.15);\n",
              "      fill: #174EA6;\n",
              "    }\n",
              "\n",
              "    .colab-df-buttons div {\n",
              "      margin-bottom: 4px;\n",
              "    }\n",
              "\n",
              "    [theme=dark] .colab-df-convert {\n",
              "      background-color: #3B4455;\n",
              "      fill: #D2E3FC;\n",
              "    }\n",
              "\n",
              "    [theme=dark] .colab-df-convert:hover {\n",
              "      background-color: #434B5C;\n",
              "      box-shadow: 0px 1px 3px 1px rgba(0, 0, 0, 0.15);\n",
              "      filter: drop-shadow(0px 1px 2px rgba(0, 0, 0, 0.3));\n",
              "      fill: #FFFFFF;\n",
              "    }\n",
              "  </style>\n",
              "\n",
              "    <script>\n",
              "      const buttonEl =\n",
              "        document.querySelector('#df-086ca5cf-a120-4d38-a21b-2e28b00a51bc button.colab-df-convert');\n",
              "      buttonEl.style.display =\n",
              "        google.colab.kernel.accessAllowed ? 'block' : 'none';\n",
              "\n",
              "      async function convertToInteractive(key) {\n",
              "        const element = document.querySelector('#df-086ca5cf-a120-4d38-a21b-2e28b00a51bc');\n",
              "        const dataTable =\n",
              "          await google.colab.kernel.invokeFunction('convertToInteractive',\n",
              "                                                    [key], {});\n",
              "        if (!dataTable) return;\n",
              "\n",
              "        const docLinkHtml = 'Like what you see? Visit the ' +\n",
              "          '<a target=\"_blank\" href=https://colab.research.google.com/notebooks/data_table.ipynb>data table notebook</a>'\n",
              "          + ' to learn more about interactive tables.';\n",
              "        element.innerHTML = '';\n",
              "        dataTable['output_type'] = 'display_data';\n",
              "        await google.colab.output.renderOutput(dataTable, element);\n",
              "        const docLink = document.createElement('div');\n",
              "        docLink.innerHTML = docLinkHtml;\n",
              "        element.appendChild(docLink);\n",
              "      }\n",
              "    </script>\n",
              "  </div>\n",
              "\n",
              "\n",
              "<div id=\"df-ffda3762-98c7-4e99-aaf9-ac2e001eb3fe\">\n",
              "  <button class=\"colab-df-quickchart\" onclick=\"quickchart('df-ffda3762-98c7-4e99-aaf9-ac2e001eb3fe')\"\n",
              "            title=\"Suggest charts.\"\n",
              "            style=\"display:none;\">\n",
              "\n",
              "<svg xmlns=\"http://www.w3.org/2000/svg\" height=\"24px\"viewBox=\"0 0 24 24\"\n",
              "     width=\"24px\">\n",
              "    <g>\n",
              "        <path d=\"M19 3H5c-1.1 0-2 .9-2 2v14c0 1.1.9 2 2 2h14c1.1 0 2-.9 2-2V5c0-1.1-.9-2-2-2zM9 17H7v-7h2v7zm4 0h-2V7h2v10zm4 0h-2v-4h2v4z\"/>\n",
              "    </g>\n",
              "</svg>\n",
              "  </button>\n",
              "\n",
              "<style>\n",
              "  .colab-df-quickchart {\n",
              "      --bg-color: #E8F0FE;\n",
              "      --fill-color: #1967D2;\n",
              "      --hover-bg-color: #E2EBFA;\n",
              "      --hover-fill-color: #174EA6;\n",
              "      --disabled-fill-color: #AAA;\n",
              "      --disabled-bg-color: #DDD;\n",
              "  }\n",
              "\n",
              "  [theme=dark] .colab-df-quickchart {\n",
              "      --bg-color: #3B4455;\n",
              "      --fill-color: #D2E3FC;\n",
              "      --hover-bg-color: #434B5C;\n",
              "      --hover-fill-color: #FFFFFF;\n",
              "      --disabled-bg-color: #3B4455;\n",
              "      --disabled-fill-color: #666;\n",
              "  }\n",
              "\n",
              "  .colab-df-quickchart {\n",
              "    background-color: var(--bg-color);\n",
              "    border: none;\n",
              "    border-radius: 50%;\n",
              "    cursor: pointer;\n",
              "    display: none;\n",
              "    fill: var(--fill-color);\n",
              "    height: 32px;\n",
              "    padding: 0;\n",
              "    width: 32px;\n",
              "  }\n",
              "\n",
              "  .colab-df-quickchart:hover {\n",
              "    background-color: var(--hover-bg-color);\n",
              "    box-shadow: 0 1px 2px rgba(60, 64, 67, 0.3), 0 1px 3px 1px rgba(60, 64, 67, 0.15);\n",
              "    fill: var(--button-hover-fill-color);\n",
              "  }\n",
              "\n",
              "  .colab-df-quickchart-complete:disabled,\n",
              "  .colab-df-quickchart-complete:disabled:hover {\n",
              "    background-color: var(--disabled-bg-color);\n",
              "    fill: var(--disabled-fill-color);\n",
              "    box-shadow: none;\n",
              "  }\n",
              "\n",
              "  .colab-df-spinner {\n",
              "    border: 2px solid var(--fill-color);\n",
              "    border-color: transparent;\n",
              "    border-bottom-color: var(--fill-color);\n",
              "    animation:\n",
              "      spin 1s steps(1) infinite;\n",
              "  }\n",
              "\n",
              "  @keyframes spin {\n",
              "    0% {\n",
              "      border-color: transparent;\n",
              "      border-bottom-color: var(--fill-color);\n",
              "      border-left-color: var(--fill-color);\n",
              "    }\n",
              "    20% {\n",
              "      border-color: transparent;\n",
              "      border-left-color: var(--fill-color);\n",
              "      border-top-color: var(--fill-color);\n",
              "    }\n",
              "    30% {\n",
              "      border-color: transparent;\n",
              "      border-left-color: var(--fill-color);\n",
              "      border-top-color: var(--fill-color);\n",
              "      border-right-color: var(--fill-color);\n",
              "    }\n",
              "    40% {\n",
              "      border-color: transparent;\n",
              "      border-right-color: var(--fill-color);\n",
              "      border-top-color: var(--fill-color);\n",
              "    }\n",
              "    60% {\n",
              "      border-color: transparent;\n",
              "      border-right-color: var(--fill-color);\n",
              "    }\n",
              "    80% {\n",
              "      border-color: transparent;\n",
              "      border-right-color: var(--fill-color);\n",
              "      border-bottom-color: var(--fill-color);\n",
              "    }\n",
              "    90% {\n",
              "      border-color: transparent;\n",
              "      border-bottom-color: var(--fill-color);\n",
              "    }\n",
              "  }\n",
              "</style>\n",
              "\n",
              "  <script>\n",
              "    async function quickchart(key) {\n",
              "      const quickchartButtonEl =\n",
              "        document.querySelector('#' + key + ' button');\n",
              "      quickchartButtonEl.disabled = true;  // To prevent multiple clicks.\n",
              "      quickchartButtonEl.classList.add('colab-df-spinner');\n",
              "      try {\n",
              "        const charts = await google.colab.kernel.invokeFunction(\n",
              "            'suggestCharts', [key], {});\n",
              "      } catch (error) {\n",
              "        console.error('Error during call to suggestCharts:', error);\n",
              "      }\n",
              "      quickchartButtonEl.classList.remove('colab-df-spinner');\n",
              "      quickchartButtonEl.classList.add('colab-df-quickchart-complete');\n",
              "    }\n",
              "    (() => {\n",
              "      let quickchartButtonEl =\n",
              "        document.querySelector('#df-ffda3762-98c7-4e99-aaf9-ac2e001eb3fe button');\n",
              "      quickchartButtonEl.style.display =\n",
              "        google.colab.kernel.accessAllowed ? 'block' : 'none';\n",
              "    })();\n",
              "  </script>\n",
              "</div>\n",
              "    </div>\n",
              "  </div>\n"
            ]
          },
          "metadata": {},
          "execution_count": 10
        }
      ]
    },
    {
      "cell_type": "code",
      "source": [
        "df['date'] = pd.to_datetime(df['date'])\n",
        "df.set_index(df['date'], inplace=True)\n",
        "df.sort_index(inplace=True)\n",
        "df.rename_axis('index',inplace=True)\n",
        "df.head()"
      ],
      "metadata": {
        "colab": {
          "base_uri": "https://localhost:8080/",
          "height": 238
        },
        "id": "wrk3wG9kG9o0",
        "outputId": "53b30e42-fc02-44ef-bc22-4ad55035d87e"
      },
      "execution_count": 11,
      "outputs": [
        {
          "output_type": "execute_result",
          "data": {
            "text/plain": [
              "                 date          value\n",
              "index                               \n",
              "2021-02-01 2021-02-01  903053.004725\n",
              "2021-02-02 2021-02-02  910297.753775\n",
              "2021-02-03 2021-02-03  912559.254575\n",
              "2021-02-04 2021-02-04  920697.253775\n",
              "2021-02-05 2021-02-05  927060.753775"
            ],
            "text/html": [
              "\n",
              "  <div id=\"df-375b0b94-a155-4580-8c90-608a24df73ff\" class=\"colab-df-container\">\n",
              "    <div>\n",
              "<style scoped>\n",
              "    .dataframe tbody tr th:only-of-type {\n",
              "        vertical-align: middle;\n",
              "    }\n",
              "\n",
              "    .dataframe tbody tr th {\n",
              "        vertical-align: top;\n",
              "    }\n",
              "\n",
              "    .dataframe thead th {\n",
              "        text-align: right;\n",
              "    }\n",
              "</style>\n",
              "<table border=\"1\" class=\"dataframe\">\n",
              "  <thead>\n",
              "    <tr style=\"text-align: right;\">\n",
              "      <th></th>\n",
              "      <th>date</th>\n",
              "      <th>value</th>\n",
              "    </tr>\n",
              "    <tr>\n",
              "      <th>index</th>\n",
              "      <th></th>\n",
              "      <th></th>\n",
              "    </tr>\n",
              "  </thead>\n",
              "  <tbody>\n",
              "    <tr>\n",
              "      <th>2021-02-01</th>\n",
              "      <td>2021-02-01</td>\n",
              "      <td>903053.004725</td>\n",
              "    </tr>\n",
              "    <tr>\n",
              "      <th>2021-02-02</th>\n",
              "      <td>2021-02-02</td>\n",
              "      <td>910297.753775</td>\n",
              "    </tr>\n",
              "    <tr>\n",
              "      <th>2021-02-03</th>\n",
              "      <td>2021-02-03</td>\n",
              "      <td>912559.254575</td>\n",
              "    </tr>\n",
              "    <tr>\n",
              "      <th>2021-02-04</th>\n",
              "      <td>2021-02-04</td>\n",
              "      <td>920697.253775</td>\n",
              "    </tr>\n",
              "    <tr>\n",
              "      <th>2021-02-05</th>\n",
              "      <td>2021-02-05</td>\n",
              "      <td>927060.753775</td>\n",
              "    </tr>\n",
              "  </tbody>\n",
              "</table>\n",
              "</div>\n",
              "    <div class=\"colab-df-buttons\">\n",
              "\n",
              "  <div class=\"colab-df-container\">\n",
              "    <button class=\"colab-df-convert\" onclick=\"convertToInteractive('df-375b0b94-a155-4580-8c90-608a24df73ff')\"\n",
              "            title=\"Convert this dataframe to an interactive table.\"\n",
              "            style=\"display:none;\">\n",
              "\n",
              "  <svg xmlns=\"http://www.w3.org/2000/svg\" height=\"24px\" viewBox=\"0 -960 960 960\">\n",
              "    <path d=\"M120-120v-720h720v720H120Zm60-500h600v-160H180v160Zm220 220h160v-160H400v160Zm0 220h160v-160H400v160ZM180-400h160v-160H180v160Zm440 0h160v-160H620v160ZM180-180h160v-160H180v160Zm440 0h160v-160H620v160Z\"/>\n",
              "  </svg>\n",
              "    </button>\n",
              "\n",
              "  <style>\n",
              "    .colab-df-container {\n",
              "      display:flex;\n",
              "      gap: 12px;\n",
              "    }\n",
              "\n",
              "    .colab-df-convert {\n",
              "      background-color: #E8F0FE;\n",
              "      border: none;\n",
              "      border-radius: 50%;\n",
              "      cursor: pointer;\n",
              "      display: none;\n",
              "      fill: #1967D2;\n",
              "      height: 32px;\n",
              "      padding: 0 0 0 0;\n",
              "      width: 32px;\n",
              "    }\n",
              "\n",
              "    .colab-df-convert:hover {\n",
              "      background-color: #E2EBFA;\n",
              "      box-shadow: 0px 1px 2px rgba(60, 64, 67, 0.3), 0px 1px 3px 1px rgba(60, 64, 67, 0.15);\n",
              "      fill: #174EA6;\n",
              "    }\n",
              "\n",
              "    .colab-df-buttons div {\n",
              "      margin-bottom: 4px;\n",
              "    }\n",
              "\n",
              "    [theme=dark] .colab-df-convert {\n",
              "      background-color: #3B4455;\n",
              "      fill: #D2E3FC;\n",
              "    }\n",
              "\n",
              "    [theme=dark] .colab-df-convert:hover {\n",
              "      background-color: #434B5C;\n",
              "      box-shadow: 0px 1px 3px 1px rgba(0, 0, 0, 0.15);\n",
              "      filter: drop-shadow(0px 1px 2px rgba(0, 0, 0, 0.3));\n",
              "      fill: #FFFFFF;\n",
              "    }\n",
              "  </style>\n",
              "\n",
              "    <script>\n",
              "      const buttonEl =\n",
              "        document.querySelector('#df-375b0b94-a155-4580-8c90-608a24df73ff button.colab-df-convert');\n",
              "      buttonEl.style.display =\n",
              "        google.colab.kernel.accessAllowed ? 'block' : 'none';\n",
              "\n",
              "      async function convertToInteractive(key) {\n",
              "        const element = document.querySelector('#df-375b0b94-a155-4580-8c90-608a24df73ff');\n",
              "        const dataTable =\n",
              "          await google.colab.kernel.invokeFunction('convertToInteractive',\n",
              "                                                    [key], {});\n",
              "        if (!dataTable) return;\n",
              "\n",
              "        const docLinkHtml = 'Like what you see? Visit the ' +\n",
              "          '<a target=\"_blank\" href=https://colab.research.google.com/notebooks/data_table.ipynb>data table notebook</a>'\n",
              "          + ' to learn more about interactive tables.';\n",
              "        element.innerHTML = '';\n",
              "        dataTable['output_type'] = 'display_data';\n",
              "        await google.colab.output.renderOutput(dataTable, element);\n",
              "        const docLink = document.createElement('div');\n",
              "        docLink.innerHTML = docLinkHtml;\n",
              "        element.appendChild(docLink);\n",
              "      }\n",
              "    </script>\n",
              "  </div>\n",
              "\n",
              "\n",
              "<div id=\"df-adcf72f3-6acb-4aa8-9f6a-acd4fb8053dc\">\n",
              "  <button class=\"colab-df-quickchart\" onclick=\"quickchart('df-adcf72f3-6acb-4aa8-9f6a-acd4fb8053dc')\"\n",
              "            title=\"Suggest charts.\"\n",
              "            style=\"display:none;\">\n",
              "\n",
              "<svg xmlns=\"http://www.w3.org/2000/svg\" height=\"24px\"viewBox=\"0 0 24 24\"\n",
              "     width=\"24px\">\n",
              "    <g>\n",
              "        <path d=\"M19 3H5c-1.1 0-2 .9-2 2v14c0 1.1.9 2 2 2h14c1.1 0 2-.9 2-2V5c0-1.1-.9-2-2-2zM9 17H7v-7h2v7zm4 0h-2V7h2v10zm4 0h-2v-4h2v4z\"/>\n",
              "    </g>\n",
              "</svg>\n",
              "  </button>\n",
              "\n",
              "<style>\n",
              "  .colab-df-quickchart {\n",
              "      --bg-color: #E8F0FE;\n",
              "      --fill-color: #1967D2;\n",
              "      --hover-bg-color: #E2EBFA;\n",
              "      --hover-fill-color: #174EA6;\n",
              "      --disabled-fill-color: #AAA;\n",
              "      --disabled-bg-color: #DDD;\n",
              "  }\n",
              "\n",
              "  [theme=dark] .colab-df-quickchart {\n",
              "      --bg-color: #3B4455;\n",
              "      --fill-color: #D2E3FC;\n",
              "      --hover-bg-color: #434B5C;\n",
              "      --hover-fill-color: #FFFFFF;\n",
              "      --disabled-bg-color: #3B4455;\n",
              "      --disabled-fill-color: #666;\n",
              "  }\n",
              "\n",
              "  .colab-df-quickchart {\n",
              "    background-color: var(--bg-color);\n",
              "    border: none;\n",
              "    border-radius: 50%;\n",
              "    cursor: pointer;\n",
              "    display: none;\n",
              "    fill: var(--fill-color);\n",
              "    height: 32px;\n",
              "    padding: 0;\n",
              "    width: 32px;\n",
              "  }\n",
              "\n",
              "  .colab-df-quickchart:hover {\n",
              "    background-color: var(--hover-bg-color);\n",
              "    box-shadow: 0 1px 2px rgba(60, 64, 67, 0.3), 0 1px 3px 1px rgba(60, 64, 67, 0.15);\n",
              "    fill: var(--button-hover-fill-color);\n",
              "  }\n",
              "\n",
              "  .colab-df-quickchart-complete:disabled,\n",
              "  .colab-df-quickchart-complete:disabled:hover {\n",
              "    background-color: var(--disabled-bg-color);\n",
              "    fill: var(--disabled-fill-color);\n",
              "    box-shadow: none;\n",
              "  }\n",
              "\n",
              "  .colab-df-spinner {\n",
              "    border: 2px solid var(--fill-color);\n",
              "    border-color: transparent;\n",
              "    border-bottom-color: var(--fill-color);\n",
              "    animation:\n",
              "      spin 1s steps(1) infinite;\n",
              "  }\n",
              "\n",
              "  @keyframes spin {\n",
              "    0% {\n",
              "      border-color: transparent;\n",
              "      border-bottom-color: var(--fill-color);\n",
              "      border-left-color: var(--fill-color);\n",
              "    }\n",
              "    20% {\n",
              "      border-color: transparent;\n",
              "      border-left-color: var(--fill-color);\n",
              "      border-top-color: var(--fill-color);\n",
              "    }\n",
              "    30% {\n",
              "      border-color: transparent;\n",
              "      border-left-color: var(--fill-color);\n",
              "      border-top-color: var(--fill-color);\n",
              "      border-right-color: var(--fill-color);\n",
              "    }\n",
              "    40% {\n",
              "      border-color: transparent;\n",
              "      border-right-color: var(--fill-color);\n",
              "      border-top-color: var(--fill-color);\n",
              "    }\n",
              "    60% {\n",
              "      border-color: transparent;\n",
              "      border-right-color: var(--fill-color);\n",
              "    }\n",
              "    80% {\n",
              "      border-color: transparent;\n",
              "      border-right-color: var(--fill-color);\n",
              "      border-bottom-color: var(--fill-color);\n",
              "    }\n",
              "    90% {\n",
              "      border-color: transparent;\n",
              "      border-bottom-color: var(--fill-color);\n",
              "    }\n",
              "  }\n",
              "</style>\n",
              "\n",
              "  <script>\n",
              "    async function quickchart(key) {\n",
              "      const quickchartButtonEl =\n",
              "        document.querySelector('#' + key + ' button');\n",
              "      quickchartButtonEl.disabled = true;  // To prevent multiple clicks.\n",
              "      quickchartButtonEl.classList.add('colab-df-spinner');\n",
              "      try {\n",
              "        const charts = await google.colab.kernel.invokeFunction(\n",
              "            'suggestCharts', [key], {});\n",
              "      } catch (error) {\n",
              "        console.error('Error during call to suggestCharts:', error);\n",
              "      }\n",
              "      quickchartButtonEl.classList.remove('colab-df-spinner');\n",
              "      quickchartButtonEl.classList.add('colab-df-quickchart-complete');\n",
              "    }\n",
              "    (() => {\n",
              "      let quickchartButtonEl =\n",
              "        document.querySelector('#df-adcf72f3-6acb-4aa8-9f6a-acd4fb8053dc button');\n",
              "      quickchartButtonEl.style.display =\n",
              "        google.colab.kernel.accessAllowed ? 'block' : 'none';\n",
              "    })();\n",
              "  </script>\n",
              "</div>\n",
              "    </div>\n",
              "  </div>\n"
            ]
          },
          "metadata": {},
          "execution_count": 11
        }
      ]
    },
    {
      "cell_type": "code",
      "source": [
        "df.tail()"
      ],
      "metadata": {
        "colab": {
          "base_uri": "https://localhost:8080/",
          "height": 238
        },
        "id": "BMd5k_GnHIPO",
        "outputId": "cafa5b40-025b-4586-d8fb-364e70e12034"
      },
      "execution_count": 12,
      "outputs": [
        {
          "output_type": "execute_result",
          "data": {
            "text/plain": [
              "                 date     value\n",
              "index                          \n",
              "2023-01-28 2023-01-28      27.0\n",
              "2023-01-29 2023-01-29  153181.0\n",
              "2023-01-30 2023-01-30  541232.0\n",
              "2023-01-31 2023-01-31  712411.0\n",
              "2023-02-01 2023-02-01       1.0"
            ],
            "text/html": [
              "\n",
              "  <div id=\"df-84b42720-d81b-49a4-927c-8ec6aa0b22b4\" class=\"colab-df-container\">\n",
              "    <div>\n",
              "<style scoped>\n",
              "    .dataframe tbody tr th:only-of-type {\n",
              "        vertical-align: middle;\n",
              "    }\n",
              "\n",
              "    .dataframe tbody tr th {\n",
              "        vertical-align: top;\n",
              "    }\n",
              "\n",
              "    .dataframe thead th {\n",
              "        text-align: right;\n",
              "    }\n",
              "</style>\n",
              "<table border=\"1\" class=\"dataframe\">\n",
              "  <thead>\n",
              "    <tr style=\"text-align: right;\">\n",
              "      <th></th>\n",
              "      <th>date</th>\n",
              "      <th>value</th>\n",
              "    </tr>\n",
              "    <tr>\n",
              "      <th>index</th>\n",
              "      <th></th>\n",
              "      <th></th>\n",
              "    </tr>\n",
              "  </thead>\n",
              "  <tbody>\n",
              "    <tr>\n",
              "      <th>2023-01-28</th>\n",
              "      <td>2023-01-28</td>\n",
              "      <td>27.0</td>\n",
              "    </tr>\n",
              "    <tr>\n",
              "      <th>2023-01-29</th>\n",
              "      <td>2023-01-29</td>\n",
              "      <td>153181.0</td>\n",
              "    </tr>\n",
              "    <tr>\n",
              "      <th>2023-01-30</th>\n",
              "      <td>2023-01-30</td>\n",
              "      <td>541232.0</td>\n",
              "    </tr>\n",
              "    <tr>\n",
              "      <th>2023-01-31</th>\n",
              "      <td>2023-01-31</td>\n",
              "      <td>712411.0</td>\n",
              "    </tr>\n",
              "    <tr>\n",
              "      <th>2023-02-01</th>\n",
              "      <td>2023-02-01</td>\n",
              "      <td>1.0</td>\n",
              "    </tr>\n",
              "  </tbody>\n",
              "</table>\n",
              "</div>\n",
              "    <div class=\"colab-df-buttons\">\n",
              "\n",
              "  <div class=\"colab-df-container\">\n",
              "    <button class=\"colab-df-convert\" onclick=\"convertToInteractive('df-84b42720-d81b-49a4-927c-8ec6aa0b22b4')\"\n",
              "            title=\"Convert this dataframe to an interactive table.\"\n",
              "            style=\"display:none;\">\n",
              "\n",
              "  <svg xmlns=\"http://www.w3.org/2000/svg\" height=\"24px\" viewBox=\"0 -960 960 960\">\n",
              "    <path d=\"M120-120v-720h720v720H120Zm60-500h600v-160H180v160Zm220 220h160v-160H400v160Zm0 220h160v-160H400v160ZM180-400h160v-160H180v160Zm440 0h160v-160H620v160ZM180-180h160v-160H180v160Zm440 0h160v-160H620v160Z\"/>\n",
              "  </svg>\n",
              "    </button>\n",
              "\n",
              "  <style>\n",
              "    .colab-df-container {\n",
              "      display:flex;\n",
              "      gap: 12px;\n",
              "    }\n",
              "\n",
              "    .colab-df-convert {\n",
              "      background-color: #E8F0FE;\n",
              "      border: none;\n",
              "      border-radius: 50%;\n",
              "      cursor: pointer;\n",
              "      display: none;\n",
              "      fill: #1967D2;\n",
              "      height: 32px;\n",
              "      padding: 0 0 0 0;\n",
              "      width: 32px;\n",
              "    }\n",
              "\n",
              "    .colab-df-convert:hover {\n",
              "      background-color: #E2EBFA;\n",
              "      box-shadow: 0px 1px 2px rgba(60, 64, 67, 0.3), 0px 1px 3px 1px rgba(60, 64, 67, 0.15);\n",
              "      fill: #174EA6;\n",
              "    }\n",
              "\n",
              "    .colab-df-buttons div {\n",
              "      margin-bottom: 4px;\n",
              "    }\n",
              "\n",
              "    [theme=dark] .colab-df-convert {\n",
              "      background-color: #3B4455;\n",
              "      fill: #D2E3FC;\n",
              "    }\n",
              "\n",
              "    [theme=dark] .colab-df-convert:hover {\n",
              "      background-color: #434B5C;\n",
              "      box-shadow: 0px 1px 3px 1px rgba(0, 0, 0, 0.15);\n",
              "      filter: drop-shadow(0px 1px 2px rgba(0, 0, 0, 0.3));\n",
              "      fill: #FFFFFF;\n",
              "    }\n",
              "  </style>\n",
              "\n",
              "    <script>\n",
              "      const buttonEl =\n",
              "        document.querySelector('#df-84b42720-d81b-49a4-927c-8ec6aa0b22b4 button.colab-df-convert');\n",
              "      buttonEl.style.display =\n",
              "        google.colab.kernel.accessAllowed ? 'block' : 'none';\n",
              "\n",
              "      async function convertToInteractive(key) {\n",
              "        const element = document.querySelector('#df-84b42720-d81b-49a4-927c-8ec6aa0b22b4');\n",
              "        const dataTable =\n",
              "          await google.colab.kernel.invokeFunction('convertToInteractive',\n",
              "                                                    [key], {});\n",
              "        if (!dataTable) return;\n",
              "\n",
              "        const docLinkHtml = 'Like what you see? Visit the ' +\n",
              "          '<a target=\"_blank\" href=https://colab.research.google.com/notebooks/data_table.ipynb>data table notebook</a>'\n",
              "          + ' to learn more about interactive tables.';\n",
              "        element.innerHTML = '';\n",
              "        dataTable['output_type'] = 'display_data';\n",
              "        await google.colab.output.renderOutput(dataTable, element);\n",
              "        const docLink = document.createElement('div');\n",
              "        docLink.innerHTML = docLinkHtml;\n",
              "        element.appendChild(docLink);\n",
              "      }\n",
              "    </script>\n",
              "  </div>\n",
              "\n",
              "\n",
              "<div id=\"df-ce74a135-7abe-4f10-8e7a-bc8e95e46b52\">\n",
              "  <button class=\"colab-df-quickchart\" onclick=\"quickchart('df-ce74a135-7abe-4f10-8e7a-bc8e95e46b52')\"\n",
              "            title=\"Suggest charts.\"\n",
              "            style=\"display:none;\">\n",
              "\n",
              "<svg xmlns=\"http://www.w3.org/2000/svg\" height=\"24px\"viewBox=\"0 0 24 24\"\n",
              "     width=\"24px\">\n",
              "    <g>\n",
              "        <path d=\"M19 3H5c-1.1 0-2 .9-2 2v14c0 1.1.9 2 2 2h14c1.1 0 2-.9 2-2V5c0-1.1-.9-2-2-2zM9 17H7v-7h2v7zm4 0h-2V7h2v10zm4 0h-2v-4h2v4z\"/>\n",
              "    </g>\n",
              "</svg>\n",
              "  </button>\n",
              "\n",
              "<style>\n",
              "  .colab-df-quickchart {\n",
              "      --bg-color: #E8F0FE;\n",
              "      --fill-color: #1967D2;\n",
              "      --hover-bg-color: #E2EBFA;\n",
              "      --hover-fill-color: #174EA6;\n",
              "      --disabled-fill-color: #AAA;\n",
              "      --disabled-bg-color: #DDD;\n",
              "  }\n",
              "\n",
              "  [theme=dark] .colab-df-quickchart {\n",
              "      --bg-color: #3B4455;\n",
              "      --fill-color: #D2E3FC;\n",
              "      --hover-bg-color: #434B5C;\n",
              "      --hover-fill-color: #FFFFFF;\n",
              "      --disabled-bg-color: #3B4455;\n",
              "      --disabled-fill-color: #666;\n",
              "  }\n",
              "\n",
              "  .colab-df-quickchart {\n",
              "    background-color: var(--bg-color);\n",
              "    border: none;\n",
              "    border-radius: 50%;\n",
              "    cursor: pointer;\n",
              "    display: none;\n",
              "    fill: var(--fill-color);\n",
              "    height: 32px;\n",
              "    padding: 0;\n",
              "    width: 32px;\n",
              "  }\n",
              "\n",
              "  .colab-df-quickchart:hover {\n",
              "    background-color: var(--hover-bg-color);\n",
              "    box-shadow: 0 1px 2px rgba(60, 64, 67, 0.3), 0 1px 3px 1px rgba(60, 64, 67, 0.15);\n",
              "    fill: var(--button-hover-fill-color);\n",
              "  }\n",
              "\n",
              "  .colab-df-quickchart-complete:disabled,\n",
              "  .colab-df-quickchart-complete:disabled:hover {\n",
              "    background-color: var(--disabled-bg-color);\n",
              "    fill: var(--disabled-fill-color);\n",
              "    box-shadow: none;\n",
              "  }\n",
              "\n",
              "  .colab-df-spinner {\n",
              "    border: 2px solid var(--fill-color);\n",
              "    border-color: transparent;\n",
              "    border-bottom-color: var(--fill-color);\n",
              "    animation:\n",
              "      spin 1s steps(1) infinite;\n",
              "  }\n",
              "\n",
              "  @keyframes spin {\n",
              "    0% {\n",
              "      border-color: transparent;\n",
              "      border-bottom-color: var(--fill-color);\n",
              "      border-left-color: var(--fill-color);\n",
              "    }\n",
              "    20% {\n",
              "      border-color: transparent;\n",
              "      border-left-color: var(--fill-color);\n",
              "      border-top-color: var(--fill-color);\n",
              "    }\n",
              "    30% {\n",
              "      border-color: transparent;\n",
              "      border-left-color: var(--fill-color);\n",
              "      border-top-color: var(--fill-color);\n",
              "      border-right-color: var(--fill-color);\n",
              "    }\n",
              "    40% {\n",
              "      border-color: transparent;\n",
              "      border-right-color: var(--fill-color);\n",
              "      border-top-color: var(--fill-color);\n",
              "    }\n",
              "    60% {\n",
              "      border-color: transparent;\n",
              "      border-right-color: var(--fill-color);\n",
              "    }\n",
              "    80% {\n",
              "      border-color: transparent;\n",
              "      border-right-color: var(--fill-color);\n",
              "      border-bottom-color: var(--fill-color);\n",
              "    }\n",
              "    90% {\n",
              "      border-color: transparent;\n",
              "      border-bottom-color: var(--fill-color);\n",
              "    }\n",
              "  }\n",
              "</style>\n",
              "\n",
              "  <script>\n",
              "    async function quickchart(key) {\n",
              "      const quickchartButtonEl =\n",
              "        document.querySelector('#' + key + ' button');\n",
              "      quickchartButtonEl.disabled = true;  // To prevent multiple clicks.\n",
              "      quickchartButtonEl.classList.add('colab-df-spinner');\n",
              "      try {\n",
              "        const charts = await google.colab.kernel.invokeFunction(\n",
              "            'suggestCharts', [key], {});\n",
              "      } catch (error) {\n",
              "        console.error('Error during call to suggestCharts:', error);\n",
              "      }\n",
              "      quickchartButtonEl.classList.remove('colab-df-spinner');\n",
              "      quickchartButtonEl.classList.add('colab-df-quickchart-complete');\n",
              "    }\n",
              "    (() => {\n",
              "      let quickchartButtonEl =\n",
              "        document.querySelector('#df-ce74a135-7abe-4f10-8e7a-bc8e95e46b52 button');\n",
              "      quickchartButtonEl.style.display =\n",
              "        google.colab.kernel.accessAllowed ? 'block' : 'none';\n",
              "    })();\n",
              "  </script>\n",
              "</div>\n",
              "    </div>\n",
              "  </div>\n"
            ]
          },
          "metadata": {},
          "execution_count": 12
        }
      ]
    },
    {
      "cell_type": "code",
      "source": [
        "df.info()"
      ],
      "metadata": {
        "colab": {
          "base_uri": "https://localhost:8080/"
        },
        "id": "qjFAFQ2aJ0dT",
        "outputId": "4cec8231-f848-4dec-988b-aeb7363c0a88"
      },
      "execution_count": 13,
      "outputs": [
        {
          "output_type": "stream",
          "name": "stdout",
          "text": [
            "<class 'pandas.core.frame.DataFrame'>\n",
            "DatetimeIndex: 731 entries, 2021-02-01 to 2023-02-01\n",
            "Data columns (total 2 columns):\n",
            " #   Column  Non-Null Count  Dtype         \n",
            "---  ------  --------------  -----         \n",
            " 0   date    731 non-null    datetime64[ns]\n",
            " 1   value   731 non-null    float64       \n",
            "dtypes: datetime64[ns](1), float64(1)\n",
            "memory usage: 17.1 KB\n"
          ]
        }
      ]
    },
    {
      "cell_type": "code",
      "source": [
        "import warnings\n",
        "import logging\n",
        "import sys\n",
        "\n",
        "\n",
        "warnings.filterwarnings(\"ignore\")\n",
        "warnings.filterwarnings(\"ignore\", category=FutureWarning, module=\"prophet\")\n",
        "\n",
        "logging.basicConfig(level=logging.WARNING)\n",
        "\n",
        "# stdout_orig = sys.stdout\n",
        "# stderr_orig = sys.stderr\n",
        "\n",
        "# sys.stdout = open(\"output.log\", \"w\")  # Replace \"output.log\" with the desired file name\n",
        "# sys.stderr = open(\"error.log\", \"w\")    # Replace \"error.log\" with the desired file name"
      ],
      "metadata": {
        "id": "ym1ONFBAKv6C"
      },
      "execution_count": 67,
      "outputs": []
    },
    {
      "cell_type": "code",
      "source": [
        "np.random.seed(0)\n",
        "\n",
        "date_rng = pd.date_range(start='2023-01-01', periods=100, freq='D')\n",
        "\n",
        "# Generate synthetic data with a linear trend and autocorrelation\n",
        "t = np.arange(0, 100)\n",
        "trend = 0.1 * t  # Linear trend\n",
        "autocorrelation_component = 0.7 * np.random.normal(0, 1, 100)  # Autocorrelation\n",
        "time_series_data = 50 + trend + autocorrelation_component\n",
        "\n",
        "data_arima = pd.DataFrame({'date': date_rng, 'value': time_series_data})\n",
        "data_arima['date'] = pd.to_datetime(data_arima['date'])\n",
        "data_arima.set_index(data_arima['date'], inplace=True)\n",
        "data_arima.sort_index(inplace=True)\n",
        "data_arima.rename_axis('index',inplace=True)\n",
        "data_arima.head()"
      ],
      "metadata": {
        "colab": {
          "base_uri": "https://localhost:8080/",
          "height": 238
        },
        "id": "NKj1ClPK1X4J",
        "outputId": "e41cb24d-681b-4169-ee5b-8b8caa6417e9"
      },
      "execution_count": 30,
      "outputs": [
        {
          "output_type": "execute_result",
          "data": {
            "text/plain": [
              "                 date      value\n",
              "index                           \n",
              "2023-01-01 2023-01-01  51.234837\n",
              "2023-01-02 2023-01-02  50.380110\n",
              "2023-01-03 2023-01-03  50.885117\n",
              "2023-01-04 2023-01-04  51.868625\n",
              "2023-01-05 2023-01-05  51.707291"
            ],
            "text/html": [
              "\n",
              "  <div id=\"df-e2ab3630-d952-49ce-9b64-9cb6076dd6e2\" class=\"colab-df-container\">\n",
              "    <div>\n",
              "<style scoped>\n",
              "    .dataframe tbody tr th:only-of-type {\n",
              "        vertical-align: middle;\n",
              "    }\n",
              "\n",
              "    .dataframe tbody tr th {\n",
              "        vertical-align: top;\n",
              "    }\n",
              "\n",
              "    .dataframe thead th {\n",
              "        text-align: right;\n",
              "    }\n",
              "</style>\n",
              "<table border=\"1\" class=\"dataframe\">\n",
              "  <thead>\n",
              "    <tr style=\"text-align: right;\">\n",
              "      <th></th>\n",
              "      <th>date</th>\n",
              "      <th>value</th>\n",
              "    </tr>\n",
              "    <tr>\n",
              "      <th>index</th>\n",
              "      <th></th>\n",
              "      <th></th>\n",
              "    </tr>\n",
              "  </thead>\n",
              "  <tbody>\n",
              "    <tr>\n",
              "      <th>2023-01-01</th>\n",
              "      <td>2023-01-01</td>\n",
              "      <td>51.234837</td>\n",
              "    </tr>\n",
              "    <tr>\n",
              "      <th>2023-01-02</th>\n",
              "      <td>2023-01-02</td>\n",
              "      <td>50.380110</td>\n",
              "    </tr>\n",
              "    <tr>\n",
              "      <th>2023-01-03</th>\n",
              "      <td>2023-01-03</td>\n",
              "      <td>50.885117</td>\n",
              "    </tr>\n",
              "    <tr>\n",
              "      <th>2023-01-04</th>\n",
              "      <td>2023-01-04</td>\n",
              "      <td>51.868625</td>\n",
              "    </tr>\n",
              "    <tr>\n",
              "      <th>2023-01-05</th>\n",
              "      <td>2023-01-05</td>\n",
              "      <td>51.707291</td>\n",
              "    </tr>\n",
              "  </tbody>\n",
              "</table>\n",
              "</div>\n",
              "    <div class=\"colab-df-buttons\">\n",
              "\n",
              "  <div class=\"colab-df-container\">\n",
              "    <button class=\"colab-df-convert\" onclick=\"convertToInteractive('df-e2ab3630-d952-49ce-9b64-9cb6076dd6e2')\"\n",
              "            title=\"Convert this dataframe to an interactive table.\"\n",
              "            style=\"display:none;\">\n",
              "\n",
              "  <svg xmlns=\"http://www.w3.org/2000/svg\" height=\"24px\" viewBox=\"0 -960 960 960\">\n",
              "    <path d=\"M120-120v-720h720v720H120Zm60-500h600v-160H180v160Zm220 220h160v-160H400v160Zm0 220h160v-160H400v160ZM180-400h160v-160H180v160Zm440 0h160v-160H620v160ZM180-180h160v-160H180v160Zm440 0h160v-160H620v160Z\"/>\n",
              "  </svg>\n",
              "    </button>\n",
              "\n",
              "  <style>\n",
              "    .colab-df-container {\n",
              "      display:flex;\n",
              "      gap: 12px;\n",
              "    }\n",
              "\n",
              "    .colab-df-convert {\n",
              "      background-color: #E8F0FE;\n",
              "      border: none;\n",
              "      border-radius: 50%;\n",
              "      cursor: pointer;\n",
              "      display: none;\n",
              "      fill: #1967D2;\n",
              "      height: 32px;\n",
              "      padding: 0 0 0 0;\n",
              "      width: 32px;\n",
              "    }\n",
              "\n",
              "    .colab-df-convert:hover {\n",
              "      background-color: #E2EBFA;\n",
              "      box-shadow: 0px 1px 2px rgba(60, 64, 67, 0.3), 0px 1px 3px 1px rgba(60, 64, 67, 0.15);\n",
              "      fill: #174EA6;\n",
              "    }\n",
              "\n",
              "    .colab-df-buttons div {\n",
              "      margin-bottom: 4px;\n",
              "    }\n",
              "\n",
              "    [theme=dark] .colab-df-convert {\n",
              "      background-color: #3B4455;\n",
              "      fill: #D2E3FC;\n",
              "    }\n",
              "\n",
              "    [theme=dark] .colab-df-convert:hover {\n",
              "      background-color: #434B5C;\n",
              "      box-shadow: 0px 1px 3px 1px rgba(0, 0, 0, 0.15);\n",
              "      filter: drop-shadow(0px 1px 2px rgba(0, 0, 0, 0.3));\n",
              "      fill: #FFFFFF;\n",
              "    }\n",
              "  </style>\n",
              "\n",
              "    <script>\n",
              "      const buttonEl =\n",
              "        document.querySelector('#df-e2ab3630-d952-49ce-9b64-9cb6076dd6e2 button.colab-df-convert');\n",
              "      buttonEl.style.display =\n",
              "        google.colab.kernel.accessAllowed ? 'block' : 'none';\n",
              "\n",
              "      async function convertToInteractive(key) {\n",
              "        const element = document.querySelector('#df-e2ab3630-d952-49ce-9b64-9cb6076dd6e2');\n",
              "        const dataTable =\n",
              "          await google.colab.kernel.invokeFunction('convertToInteractive',\n",
              "                                                    [key], {});\n",
              "        if (!dataTable) return;\n",
              "\n",
              "        const docLinkHtml = 'Like what you see? Visit the ' +\n",
              "          '<a target=\"_blank\" href=https://colab.research.google.com/notebooks/data_table.ipynb>data table notebook</a>'\n",
              "          + ' to learn more about interactive tables.';\n",
              "        element.innerHTML = '';\n",
              "        dataTable['output_type'] = 'display_data';\n",
              "        await google.colab.output.renderOutput(dataTable, element);\n",
              "        const docLink = document.createElement('div');\n",
              "        docLink.innerHTML = docLinkHtml;\n",
              "        element.appendChild(docLink);\n",
              "      }\n",
              "    </script>\n",
              "  </div>\n",
              "\n",
              "\n",
              "<div id=\"df-cbc3f16f-722d-479c-86e5-b341908ecb52\">\n",
              "  <button class=\"colab-df-quickchart\" onclick=\"quickchart('df-cbc3f16f-722d-479c-86e5-b341908ecb52')\"\n",
              "            title=\"Suggest charts.\"\n",
              "            style=\"display:none;\">\n",
              "\n",
              "<svg xmlns=\"http://www.w3.org/2000/svg\" height=\"24px\"viewBox=\"0 0 24 24\"\n",
              "     width=\"24px\">\n",
              "    <g>\n",
              "        <path d=\"M19 3H5c-1.1 0-2 .9-2 2v14c0 1.1.9 2 2 2h14c1.1 0 2-.9 2-2V5c0-1.1-.9-2-2-2zM9 17H7v-7h2v7zm4 0h-2V7h2v10zm4 0h-2v-4h2v4z\"/>\n",
              "    </g>\n",
              "</svg>\n",
              "  </button>\n",
              "\n",
              "<style>\n",
              "  .colab-df-quickchart {\n",
              "      --bg-color: #E8F0FE;\n",
              "      --fill-color: #1967D2;\n",
              "      --hover-bg-color: #E2EBFA;\n",
              "      --hover-fill-color: #174EA6;\n",
              "      --disabled-fill-color: #AAA;\n",
              "      --disabled-bg-color: #DDD;\n",
              "  }\n",
              "\n",
              "  [theme=dark] .colab-df-quickchart {\n",
              "      --bg-color: #3B4455;\n",
              "      --fill-color: #D2E3FC;\n",
              "      --hover-bg-color: #434B5C;\n",
              "      --hover-fill-color: #FFFFFF;\n",
              "      --disabled-bg-color: #3B4455;\n",
              "      --disabled-fill-color: #666;\n",
              "  }\n",
              "\n",
              "  .colab-df-quickchart {\n",
              "    background-color: var(--bg-color);\n",
              "    border: none;\n",
              "    border-radius: 50%;\n",
              "    cursor: pointer;\n",
              "    display: none;\n",
              "    fill: var(--fill-color);\n",
              "    height: 32px;\n",
              "    padding: 0;\n",
              "    width: 32px;\n",
              "  }\n",
              "\n",
              "  .colab-df-quickchart:hover {\n",
              "    background-color: var(--hover-bg-color);\n",
              "    box-shadow: 0 1px 2px rgba(60, 64, 67, 0.3), 0 1px 3px 1px rgba(60, 64, 67, 0.15);\n",
              "    fill: var(--button-hover-fill-color);\n",
              "  }\n",
              "\n",
              "  .colab-df-quickchart-complete:disabled,\n",
              "  .colab-df-quickchart-complete:disabled:hover {\n",
              "    background-color: var(--disabled-bg-color);\n",
              "    fill: var(--disabled-fill-color);\n",
              "    box-shadow: none;\n",
              "  }\n",
              "\n",
              "  .colab-df-spinner {\n",
              "    border: 2px solid var(--fill-color);\n",
              "    border-color: transparent;\n",
              "    border-bottom-color: var(--fill-color);\n",
              "    animation:\n",
              "      spin 1s steps(1) infinite;\n",
              "  }\n",
              "\n",
              "  @keyframes spin {\n",
              "    0% {\n",
              "      border-color: transparent;\n",
              "      border-bottom-color: var(--fill-color);\n",
              "      border-left-color: var(--fill-color);\n",
              "    }\n",
              "    20% {\n",
              "      border-color: transparent;\n",
              "      border-left-color: var(--fill-color);\n",
              "      border-top-color: var(--fill-color);\n",
              "    }\n",
              "    30% {\n",
              "      border-color: transparent;\n",
              "      border-left-color: var(--fill-color);\n",
              "      border-top-color: var(--fill-color);\n",
              "      border-right-color: var(--fill-color);\n",
              "    }\n",
              "    40% {\n",
              "      border-color: transparent;\n",
              "      border-right-color: var(--fill-color);\n",
              "      border-top-color: var(--fill-color);\n",
              "    }\n",
              "    60% {\n",
              "      border-color: transparent;\n",
              "      border-right-color: var(--fill-color);\n",
              "    }\n",
              "    80% {\n",
              "      border-color: transparent;\n",
              "      border-right-color: var(--fill-color);\n",
              "      border-bottom-color: var(--fill-color);\n",
              "    }\n",
              "    90% {\n",
              "      border-color: transparent;\n",
              "      border-bottom-color: var(--fill-color);\n",
              "    }\n",
              "  }\n",
              "</style>\n",
              "\n",
              "  <script>\n",
              "    async function quickchart(key) {\n",
              "      const quickchartButtonEl =\n",
              "        document.querySelector('#' + key + ' button');\n",
              "      quickchartButtonEl.disabled = true;  // To prevent multiple clicks.\n",
              "      quickchartButtonEl.classList.add('colab-df-spinner');\n",
              "      try {\n",
              "        const charts = await google.colab.kernel.invokeFunction(\n",
              "            'suggestCharts', [key], {});\n",
              "      } catch (error) {\n",
              "        console.error('Error during call to suggestCharts:', error);\n",
              "      }\n",
              "      quickchartButtonEl.classList.remove('colab-df-spinner');\n",
              "      quickchartButtonEl.classList.add('colab-df-quickchart-complete');\n",
              "    }\n",
              "    (() => {\n",
              "      let quickchartButtonEl =\n",
              "        document.querySelector('#df-cbc3f16f-722d-479c-86e5-b341908ecb52 button');\n",
              "      quickchartButtonEl.style.display =\n",
              "        google.colab.kernel.accessAllowed ? 'block' : 'none';\n",
              "    })();\n",
              "  </script>\n",
              "</div>\n",
              "    </div>\n",
              "  </div>\n"
            ]
          },
          "metadata": {},
          "execution_count": 30
        }
      ]
    },
    {
      "cell_type": "code",
      "source": [],
      "metadata": {
        "id": "jE0dov521xw7"
      },
      "execution_count": 30,
      "outputs": []
    },
    {
      "cell_type": "code",
      "source": [
        "def generate_data(df , sample_size = 100):\n",
        "\n",
        "  results_df = pd.DataFrame(columns =[\n",
        "      'Sample Index',\n",
        "      'Mean',\n",
        "      'Variance',\n",
        "      'Skewness',\n",
        "      'Kurtosis',\n",
        "      'Trend Mean',\n",
        "      'Seasonal Mean',\n",
        "      'Residual Mean',\n",
        "      'Best Model',\n",
        "  ])\n",
        "  track_log = {}\n",
        "\n",
        "  #(len(df)-sample_size)\n",
        "  for start_index in range(len(df)-sample_size):\n",
        "    sample_df = df.iloc[start_index:start_index+sample_size]\n",
        "\n",
        "    true_values = sample_df['value']\n",
        "\n",
        "    mape_prophet = calculate_mape(true_values, forecast_prophet(sample_df))\n",
        "    mape_arima = calculate_mape(true_values, forecast_arima(sample_df))\n",
        "    mape_ets = calculate_mape(true_values, forecast_ets(sample_df))\n",
        "    mape_xgboost = calculate_mape(true_values, forecast_xgboost(sample_df))\n",
        "    # mape_greykite = calculate_mape(true_values, train_greykite(sample_df))\n",
        "    # mape_xgboost = float(\"inf\")\n",
        "    mape_greykite = float(\"inf\")\n",
        "\n",
        "    res = [\n",
        "        ('Prophet', mape_prophet),\n",
        "        ('ARIMA', mape_arima),\n",
        "        ('ETS', mape_ets),\n",
        "        ('XGBoost', mape_xgboost),\n",
        "        ('Greykite', mape_greykite)\n",
        "    ]\n",
        "\n",
        "    track_log[start_index] = res\n",
        "    best_model = min(res, key=lambda x: x[1])[0]\n",
        "\n",
        "    # Calculate statistical features\n",
        "    mean = sample_df['value'].mean()\n",
        "    variance = sample_df['value'].var()\n",
        "    skewness = skew(sample_df['value'])\n",
        "    kurt = kurtosis(sample_df['value'])\n",
        "\n",
        "    # Calculate time-based features\n",
        "    result = seasonal_decompose(sample_df['value'], model='additive', extrapolate_trend='freq')\n",
        "    trend_mean = result.trend.mean()\n",
        "    seasonal_mean = result.seasonal.mean()\n",
        "    residual_mean = result.resid.mean()\n",
        "\n",
        "    result_dict = {\n",
        "          'Sample Index': start_index,\n",
        "          'Mean': mean,\n",
        "          'Variance': variance,\n",
        "          'Skewness': skewness,\n",
        "          'Kurtosis': kurt,\n",
        "          'Trend Mean': trend_mean,\n",
        "          'Seasonal Mean': seasonal_mean,\n",
        "          'Residual Mean': residual_mean,\n",
        "          'Best Model': best_model,\n",
        "      }\n",
        "\n",
        "    results_df = results_df.append(result_dict, ignore_index=True)\n",
        "    print(\"+++++++++++++++++++++++++++++++++++++++++++++++++++++++++++++++++++++++++++++++++++++++\" , start_index)\n",
        "    print(\"+++++++++++++++++++++++++++++++++++++++++++++++++++++++++++++++++++++++++++++++++++++++\" , result_dict)\n",
        "\n",
        "\n",
        "  return track_log , results_df"
      ],
      "metadata": {
        "id": "srYk5akZHMY5"
      },
      "execution_count": 21,
      "outputs": []
    },
    {
      "cell_type": "code",
      "source": [
        "track_log , results_df = generate_data(df , 25)"
      ],
      "metadata": {
        "id": "2xrCsEan2JTS"
      },
      "execution_count": null,
      "outputs": []
    },
    {
      "cell_type": "code",
      "source": [
        "from sklearn.model_selection import TimeSeriesSplit\n",
        "\n",
        "n_splits = 250\n",
        "tscv = TimeSeriesSplit(n_splits=n_splits)\n",
        "\n",
        "X = df.drop(['value'], axis=1)\n",
        "y = df['value']\n",
        "\n",
        "results_df = pd.DataFrame(columns =[\n",
        "    'Sample Index',\n",
        "    'Mean',\n",
        "    'Variance',\n",
        "    'Skewness',\n",
        "    'Kurtosis',\n",
        "    'Trend Mean',\n",
        "    'Seasonal Mean',\n",
        "    'Residual Mean',\n",
        "    'Best Model',\n",
        "])\n",
        "track_log = {}\n",
        "\n",
        "for start_index, (train_index, test_index) in enumerate(tscv.split(X)):\n",
        "    X_train, X_test = X.iloc[train_index], X.iloc[test_index]\n",
        "    y_train, y_test = y[train_index], y[test_index]\n",
        "\n",
        "    sample_df = pd.concat([X_train, y_train], axis=1)\n",
        "\n",
        "\n",
        "    mape_prophet = calculate_mape(y_test, forecast_prophet(sample_df , forecast_period = len(X_test))[-len(X_test):] )\n",
        "    mape_arima = calculate_mape(y_test, forecast_arima(sample_df  , forecast_period = len(X_test))[-len(X_test):])\n",
        "    mape_ets = calculate_mape(y_test, forecast_ets(sample_df , forecast_period = len(X_test))[-len(X_test):])\n",
        "    mape_xgboost = calculate_mape(y_test, forecast_xgboost(sample_df ,  forecast_period = len(X_test) , date_to = X_test['date'][0])[-len(X_test):])\n",
        "    # mape_greykite = calculate_mape(y_test, forecast_greykite(sample_df , forecast = True , forecast_period = len(X_test))[-len(X_test):])\n",
        "    mape_greykite = float(\"inf\")\n",
        "\n",
        "    res = [\n",
        "        ('Prophet', mape_prophet),\n",
        "        ('ARIMA', mape_arima),\n",
        "        ('ETS', mape_ets),\n",
        "        ('XGBoost', mape_xgboost),\n",
        "        ('Greykite', mape_greykite)\n",
        "    ]\n",
        "\n",
        "    track_log[start_index] = res\n",
        "    best_model = min(res, key=lambda x: x[1])[0]\n",
        "\n",
        "    # Calculate statistical features\n",
        "    mean = sample_df['value'].mean()\n",
        "    variance = sample_df['value'].var()\n",
        "    skewness = skew(sample_df['value'])\n",
        "    kurt = kurtosis(sample_df['value'])\n",
        "\n",
        "    # Calculate time-based features\n",
        "    result = seasonal_decompose(sample_df['value'], model='additive', extrapolate_trend='freq')\n",
        "    trend_mean = result.trend.mean()\n",
        "    seasonal_mean = result.seasonal.mean()\n",
        "    residual_mean = result.resid.mean()\n",
        "\n",
        "    result_dict = {\n",
        "          'Sample Index': start_index,\n",
        "          'Mean': mean,\n",
        "          'Variance': variance,\n",
        "          'Skewness': skewness,\n",
        "          'Kurtosis': kurt,\n",
        "          'Trend Mean': trend_mean,\n",
        "          'Seasonal Mean': seasonal_mean,\n",
        "          'Residual Mean': residual_mean,\n",
        "          'Best Model': best_model,\n",
        "      }\n",
        "\n",
        "    results_df = results_df.append(result_dict, ignore_index=True)\n",
        "\n",
        "    print(\"+++++++++++++++++++++++++++++++++++++++++++++++++++++++++++++++++++++++++++++++++++++++\" , res)\n",
        "    print(\"+++++++++++++++++++++++++++++++++++++++++++++++++++++++++++++++++++++++++++++++++++++++\" , best_model , start_index , len(X_train) ,len(X_test))\n",
        "\n",
        "results_df.to_csv('/content/drive/MyDrive/DGdataset/Sample Time Series/daily/classification_attempt_5.csv')"
      ],
      "metadata": {
        "colab": {
          "base_uri": "https://localhost:8080/"
        },
        "id": "szVP3biOlrBn",
        "outputId": "f4d85d36-02a3-4233-d1d8-1ccb037c1f21"
      },
      "execution_count": 89,
      "outputs": [
        {
          "output_type": "stream",
          "name": "stderr",
          "text": [
            "INFO:prophet:Disabling yearly seasonality. Run prophet with yearly_seasonality=True to override this.\n",
            "INFO:prophet:Disabling daily seasonality. Run prophet with daily_seasonality=True to override this.\n",
            "DEBUG:cmdstanpy:input tempfile: /tmp/tmpmo9k28to/j5sg0f42.json\n",
            "DEBUG:cmdstanpy:input tempfile: /tmp/tmpmo9k28to/gcrtj09v.json\n",
            "DEBUG:cmdstanpy:idx 0\n",
            "DEBUG:cmdstanpy:running CmdStan, num_threads: None\n",
            "DEBUG:cmdstanpy:CmdStan args: ['/usr/local/lib/python3.10/dist-packages/prophet/stan_model/prophet_model.bin', 'random', 'seed=92920', 'data', 'file=/tmp/tmpmo9k28to/j5sg0f42.json', 'init=/tmp/tmpmo9k28to/gcrtj09v.json', 'output', 'file=/tmp/tmpmo9k28to/prophet_model71wfaeai/prophet_model-20230930121026.csv', 'method=optimize', 'algorithm=lbfgs', 'iter=10000']\n",
            "12:10:26 - cmdstanpy - INFO - Chain [1] start processing\n",
            "INFO:cmdstanpy:Chain [1] start processing\n",
            "12:10:26 - cmdstanpy - INFO - Chain [1] done processing\n",
            "INFO:cmdstanpy:Chain [1] done processing\n",
            "INFO:prophet:Disabling yearly seasonality. Run prophet with yearly_seasonality=True to override this.\n",
            "INFO:prophet:Disabling daily seasonality. Run prophet with daily_seasonality=True to override this.\n",
            "DEBUG:cmdstanpy:input tempfile: /tmp/tmpmo9k28to/e3vjv_yf.json\n",
            "DEBUG:cmdstanpy:input tempfile: /tmp/tmpmo9k28to/jqnlu310.json\n",
            "DEBUG:cmdstanpy:idx 0\n",
            "DEBUG:cmdstanpy:running CmdStan, num_threads: None\n",
            "DEBUG:cmdstanpy:CmdStan args: ['/usr/local/lib/python3.10/dist-packages/prophet/stan_model/prophet_model.bin', 'random', 'seed=78841', 'data', 'file=/tmp/tmpmo9k28to/e3vjv_yf.json', 'init=/tmp/tmpmo9k28to/jqnlu310.json', 'output', 'file=/tmp/tmpmo9k28to/prophet_modelnqrrazyr/prophet_model-20230930121028.csv', 'method=optimize', 'algorithm=lbfgs', 'iter=10000']\n",
            "12:10:28 - cmdstanpy - INFO - Chain [1] start processing\n",
            "INFO:cmdstanpy:Chain [1] start processing\n",
            "12:10:28 - cmdstanpy - INFO - Chain [1] done processing\n",
            "INFO:cmdstanpy:Chain [1] done processing\n"
          ]
        },
        {
          "output_type": "stream",
          "name": "stdout",
          "text": [
            "+++++++++++++++++++++++++++++++++++++++++++++++++++++++++++++++++++++++++++++++++++++++ [('Prophet', 696093.283), ('ARIMA', 827922.8368), ('ETS', 722630.8563), ('XGBoost', 847028.6013), ('Greykite', inf)]\n",
            "+++++++++++++++++++++++++++++++++++++++++++++++++++++++++++++++++++++++++++++++++++++++ Prophet 0 231 2\n"
          ]
        },
        {
          "output_type": "stream",
          "name": "stderr",
          "text": [
            "INFO:prophet:Disabling yearly seasonality. Run prophet with yearly_seasonality=True to override this.\n",
            "INFO:prophet:Disabling daily seasonality. Run prophet with daily_seasonality=True to override this.\n",
            "DEBUG:cmdstanpy:input tempfile: /tmp/tmpmo9k28to/sdggbeeu.json\n",
            "DEBUG:cmdstanpy:input tempfile: /tmp/tmpmo9k28to/_rgv8k2s.json\n",
            "DEBUG:cmdstanpy:idx 0\n",
            "DEBUG:cmdstanpy:running CmdStan, num_threads: None\n",
            "DEBUG:cmdstanpy:CmdStan args: ['/usr/local/lib/python3.10/dist-packages/prophet/stan_model/prophet_model.bin', 'random', 'seed=10174', 'data', 'file=/tmp/tmpmo9k28to/sdggbeeu.json', 'init=/tmp/tmpmo9k28to/_rgv8k2s.json', 'output', 'file=/tmp/tmpmo9k28to/prophet_modelfg01ilk5/prophet_model-20230930121029.csv', 'method=optimize', 'algorithm=lbfgs', 'iter=10000']\n",
            "12:10:29 - cmdstanpy - INFO - Chain [1] start processing\n",
            "INFO:cmdstanpy:Chain [1] start processing\n",
            "12:10:29 - cmdstanpy - INFO - Chain [1] done processing\n",
            "INFO:cmdstanpy:Chain [1] done processing\n"
          ]
        },
        {
          "output_type": "stream",
          "name": "stdout",
          "text": [
            "+++++++++++++++++++++++++++++++++++++++++++++++++++++++++++++++++++++++++++++++++++++++ [('Prophet', 265738.2675), ('ARIMA', 264195.2143), ('ETS', 221007.36), ('XGBoost', 99254.8593), ('Greykite', inf)]\n",
            "+++++++++++++++++++++++++++++++++++++++++++++++++++++++++++++++++++++++++++++++++++++++ XGBoost 1 233 2\n"
          ]
        },
        {
          "output_type": "stream",
          "name": "stderr",
          "text": [
            "INFO:prophet:Disabling yearly seasonality. Run prophet with yearly_seasonality=True to override this.\n",
            "INFO:prophet:Disabling daily seasonality. Run prophet with daily_seasonality=True to override this.\n",
            "DEBUG:cmdstanpy:input tempfile: /tmp/tmpmo9k28to/oich7ugc.json\n",
            "DEBUG:cmdstanpy:input tempfile: /tmp/tmpmo9k28to/94r5o_mm.json\n",
            "DEBUG:cmdstanpy:idx 0\n",
            "DEBUG:cmdstanpy:running CmdStan, num_threads: None\n",
            "DEBUG:cmdstanpy:CmdStan args: ['/usr/local/lib/python3.10/dist-packages/prophet/stan_model/prophet_model.bin', 'random', 'seed=33167', 'data', 'file=/tmp/tmpmo9k28to/oich7ugc.json', 'init=/tmp/tmpmo9k28to/94r5o_mm.json', 'output', 'file=/tmp/tmpmo9k28to/prophet_modelnofq3g7j/prophet_model-20230930121030.csv', 'method=optimize', 'algorithm=lbfgs', 'iter=10000']\n",
            "12:10:30 - cmdstanpy - INFO - Chain [1] start processing\n",
            "INFO:cmdstanpy:Chain [1] start processing\n",
            "12:10:30 - cmdstanpy - INFO - Chain [1] done processing\n",
            "INFO:cmdstanpy:Chain [1] done processing\n"
          ]
        },
        {
          "output_type": "stream",
          "name": "stdout",
          "text": [
            "+++++++++++++++++++++++++++++++++++++++++++++++++++++++++++++++++++++++++++++++++++++++ [('Prophet', 890080.7727), ('ARIMA', 478565.3411), ('ETS', 366005.5838), ('XGBoost', 350735.4762), ('Greykite', inf)]\n",
            "+++++++++++++++++++++++++++++++++++++++++++++++++++++++++++++++++++++++++++++++++++++++ XGBoost 2 235 2\n"
          ]
        },
        {
          "output_type": "stream",
          "name": "stderr",
          "text": [
            "INFO:prophet:Disabling yearly seasonality. Run prophet with yearly_seasonality=True to override this.\n",
            "INFO:prophet:Disabling daily seasonality. Run prophet with daily_seasonality=True to override this.\n",
            "DEBUG:cmdstanpy:input tempfile: /tmp/tmpmo9k28to/dzt11hs3.json\n",
            "DEBUG:cmdstanpy:input tempfile: /tmp/tmpmo9k28to/x1podopm.json\n",
            "DEBUG:cmdstanpy:idx 0\n",
            "DEBUG:cmdstanpy:running CmdStan, num_threads: None\n",
            "DEBUG:cmdstanpy:CmdStan args: ['/usr/local/lib/python3.10/dist-packages/prophet/stan_model/prophet_model.bin', 'random', 'seed=4001', 'data', 'file=/tmp/tmpmo9k28to/dzt11hs3.json', 'init=/tmp/tmpmo9k28to/x1podopm.json', 'output', 'file=/tmp/tmpmo9k28to/prophet_modelbp2t9eyf/prophet_model-20230930121031.csv', 'method=optimize', 'algorithm=lbfgs', 'iter=10000']\n",
            "12:10:31 - cmdstanpy - INFO - Chain [1] start processing\n",
            "INFO:cmdstanpy:Chain [1] start processing\n",
            "12:10:31 - cmdstanpy - INFO - Chain [1] done processing\n",
            "INFO:cmdstanpy:Chain [1] done processing\n"
          ]
        },
        {
          "output_type": "stream",
          "name": "stdout",
          "text": [
            "+++++++++++++++++++++++++++++++++++++++++++++++++++++++++++++++++++++++++++++++++++++++ [('Prophet', 1259697.8257), ('ARIMA', 107993.838), ('ETS', 123869.9662), ('XGBoost', 198203.5527), ('Greykite', inf)]\n",
            "+++++++++++++++++++++++++++++++++++++++++++++++++++++++++++++++++++++++++++++++++++++++ ARIMA 3 237 2\n"
          ]
        },
        {
          "output_type": "stream",
          "name": "stderr",
          "text": [
            "INFO:prophet:Disabling yearly seasonality. Run prophet with yearly_seasonality=True to override this.\n",
            "INFO:prophet:Disabling daily seasonality. Run prophet with daily_seasonality=True to override this.\n",
            "DEBUG:cmdstanpy:input tempfile: /tmp/tmpmo9k28to/itbtou35.json\n",
            "DEBUG:cmdstanpy:input tempfile: /tmp/tmpmo9k28to/9uf4jkvh.json\n",
            "DEBUG:cmdstanpy:idx 0\n",
            "DEBUG:cmdstanpy:running CmdStan, num_threads: None\n",
            "DEBUG:cmdstanpy:CmdStan args: ['/usr/local/lib/python3.10/dist-packages/prophet/stan_model/prophet_model.bin', 'random', 'seed=85419', 'data', 'file=/tmp/tmpmo9k28to/itbtou35.json', 'init=/tmp/tmpmo9k28to/9uf4jkvh.json', 'output', 'file=/tmp/tmpmo9k28to/prophet_modelms8cf9xp/prophet_model-20230930121032.csv', 'method=optimize', 'algorithm=lbfgs', 'iter=10000']\n",
            "12:10:32 - cmdstanpy - INFO - Chain [1] start processing\n",
            "INFO:cmdstanpy:Chain [1] start processing\n",
            "12:10:32 - cmdstanpy - INFO - Chain [1] done processing\n",
            "INFO:cmdstanpy:Chain [1] done processing\n"
          ]
        },
        {
          "output_type": "stream",
          "name": "stdout",
          "text": [
            "+++++++++++++++++++++++++++++++++++++++++++++++++++++++++++++++++++++++++++++++++++++++ [('Prophet', 874453.0562), ('ARIMA', 323458.83), ('ETS', 36198.1454), ('XGBoost', 180111.1157), ('Greykite', inf)]\n",
            "+++++++++++++++++++++++++++++++++++++++++++++++++++++++++++++++++++++++++++++++++++++++ ETS 4 239 2\n"
          ]
        },
        {
          "output_type": "stream",
          "name": "stderr",
          "text": [
            "INFO:prophet:Disabling yearly seasonality. Run prophet with yearly_seasonality=True to override this.\n",
            "INFO:prophet:Disabling daily seasonality. Run prophet with daily_seasonality=True to override this.\n",
            "DEBUG:cmdstanpy:input tempfile: /tmp/tmpmo9k28to/3wr4uuuj.json\n",
            "DEBUG:cmdstanpy:input tempfile: /tmp/tmpmo9k28to/jmep_jr_.json\n",
            "DEBUG:cmdstanpy:idx 0\n",
            "DEBUG:cmdstanpy:running CmdStan, num_threads: None\n",
            "DEBUG:cmdstanpy:CmdStan args: ['/usr/local/lib/python3.10/dist-packages/prophet/stan_model/prophet_model.bin', 'random', 'seed=67588', 'data', 'file=/tmp/tmpmo9k28to/3wr4uuuj.json', 'init=/tmp/tmpmo9k28to/jmep_jr_.json', 'output', 'file=/tmp/tmpmo9k28to/prophet_modelk6gs1uaq/prophet_model-20230930121033.csv', 'method=optimize', 'algorithm=lbfgs', 'iter=10000']\n",
            "12:10:33 - cmdstanpy - INFO - Chain [1] start processing\n",
            "INFO:cmdstanpy:Chain [1] start processing\n",
            "12:10:33 - cmdstanpy - INFO - Chain [1] done processing\n",
            "INFO:cmdstanpy:Chain [1] done processing\n"
          ]
        },
        {
          "output_type": "stream",
          "name": "stdout",
          "text": [
            "+++++++++++++++++++++++++++++++++++++++++++++++++++++++++++++++++++++++++++++++++++++++ [('Prophet', 271208.2009), ('ARIMA', 69448.4532), ('ETS', 104762.6019), ('XGBoost', 568796.4267), ('Greykite', inf)]\n",
            "+++++++++++++++++++++++++++++++++++++++++++++++++++++++++++++++++++++++++++++++++++++++ ARIMA 5 241 2\n"
          ]
        },
        {
          "output_type": "stream",
          "name": "stderr",
          "text": [
            "INFO:prophet:Disabling yearly seasonality. Run prophet with yearly_seasonality=True to override this.\n",
            "INFO:prophet:Disabling daily seasonality. Run prophet with daily_seasonality=True to override this.\n",
            "DEBUG:cmdstanpy:input tempfile: /tmp/tmpmo9k28to/4ue16b3t.json\n",
            "DEBUG:cmdstanpy:input tempfile: /tmp/tmpmo9k28to/vj9hatbq.json\n",
            "DEBUG:cmdstanpy:idx 0\n",
            "DEBUG:cmdstanpy:running CmdStan, num_threads: None\n",
            "DEBUG:cmdstanpy:CmdStan args: ['/usr/local/lib/python3.10/dist-packages/prophet/stan_model/prophet_model.bin', 'random', 'seed=16657', 'data', 'file=/tmp/tmpmo9k28to/4ue16b3t.json', 'init=/tmp/tmpmo9k28to/vj9hatbq.json', 'output', 'file=/tmp/tmpmo9k28to/prophet_modelo9z5rxch/prophet_model-20230930121034.csv', 'method=optimize', 'algorithm=lbfgs', 'iter=10000']\n",
            "12:10:34 - cmdstanpy - INFO - Chain [1] start processing\n",
            "INFO:cmdstanpy:Chain [1] start processing\n",
            "12:10:35 - cmdstanpy - INFO - Chain [1] done processing\n",
            "INFO:cmdstanpy:Chain [1] done processing\n"
          ]
        },
        {
          "output_type": "stream",
          "name": "stdout",
          "text": [
            "+++++++++++++++++++++++++++++++++++++++++++++++++++++++++++++++++++++++++++++++++++++++ [('Prophet', 484900.5595), ('ARIMA', 8070.0692), ('ETS', 35744.4329), ('XGBoost', 175152.6264), ('Greykite', inf)]\n",
            "+++++++++++++++++++++++++++++++++++++++++++++++++++++++++++++++++++++++++++++++++++++++ ARIMA 6 243 2\n"
          ]
        },
        {
          "output_type": "stream",
          "name": "stderr",
          "text": [
            "INFO:prophet:Disabling yearly seasonality. Run prophet with yearly_seasonality=True to override this.\n",
            "INFO:prophet:Disabling daily seasonality. Run prophet with daily_seasonality=True to override this.\n",
            "DEBUG:cmdstanpy:input tempfile: /tmp/tmpmo9k28to/jsnrw9hf.json\n",
            "DEBUG:cmdstanpy:input tempfile: /tmp/tmpmo9k28to/bjo40s5n.json\n",
            "DEBUG:cmdstanpy:idx 0\n",
            "DEBUG:cmdstanpy:running CmdStan, num_threads: None\n",
            "DEBUG:cmdstanpy:CmdStan args: ['/usr/local/lib/python3.10/dist-packages/prophet/stan_model/prophet_model.bin', 'random', 'seed=7853', 'data', 'file=/tmp/tmpmo9k28to/jsnrw9hf.json', 'init=/tmp/tmpmo9k28to/bjo40s5n.json', 'output', 'file=/tmp/tmpmo9k28to/prophet_modelkpv9qnmj/prophet_model-20230930121038.csv', 'method=optimize', 'algorithm=lbfgs', 'iter=10000']\n",
            "12:10:38 - cmdstanpy - INFO - Chain [1] start processing\n",
            "INFO:cmdstanpy:Chain [1] start processing\n",
            "12:10:38 - cmdstanpy - INFO - Chain [1] done processing\n",
            "INFO:cmdstanpy:Chain [1] done processing\n"
          ]
        },
        {
          "output_type": "stream",
          "name": "stdout",
          "text": [
            "+++++++++++++++++++++++++++++++++++++++++++++++++++++++++++++++++++++++++++++++++++++++ [('Prophet', 192801.7352), ('ARIMA', 34232.0615), ('ETS', 37364.0465), ('XGBoost', 44714.825), ('Greykite', inf)]\n",
            "+++++++++++++++++++++++++++++++++++++++++++++++++++++++++++++++++++++++++++++++++++++++ ARIMA 7 245 2\n"
          ]
        },
        {
          "output_type": "stream",
          "name": "stderr",
          "text": [
            "INFO:prophet:Disabling yearly seasonality. Run prophet with yearly_seasonality=True to override this.\n",
            "INFO:prophet:Disabling daily seasonality. Run prophet with daily_seasonality=True to override this.\n",
            "DEBUG:cmdstanpy:input tempfile: /tmp/tmpmo9k28to/31vkaosg.json\n",
            "DEBUG:cmdstanpy:input tempfile: /tmp/tmpmo9k28to/ggssix6v.json\n",
            "DEBUG:cmdstanpy:idx 0\n",
            "DEBUG:cmdstanpy:running CmdStan, num_threads: None\n",
            "DEBUG:cmdstanpy:CmdStan args: ['/usr/local/lib/python3.10/dist-packages/prophet/stan_model/prophet_model.bin', 'random', 'seed=36471', 'data', 'file=/tmp/tmpmo9k28to/31vkaosg.json', 'init=/tmp/tmpmo9k28to/ggssix6v.json', 'output', 'file=/tmp/tmpmo9k28to/prophet_model6khpyr_j/prophet_model-20230930121039.csv', 'method=optimize', 'algorithm=lbfgs', 'iter=10000']\n",
            "12:10:39 - cmdstanpy - INFO - Chain [1] start processing\n",
            "INFO:cmdstanpy:Chain [1] start processing\n",
            "12:10:39 - cmdstanpy - INFO - Chain [1] done processing\n",
            "INFO:cmdstanpy:Chain [1] done processing\n"
          ]
        },
        {
          "output_type": "stream",
          "name": "stdout",
          "text": [
            "+++++++++++++++++++++++++++++++++++++++++++++++++++++++++++++++++++++++++++++++++++++++ [('Prophet', 199271.4533), ('ARIMA', 30585.4634), ('ETS', 55665.6551), ('XGBoost', 7773.9325), ('Greykite', inf)]\n",
            "+++++++++++++++++++++++++++++++++++++++++++++++++++++++++++++++++++++++++++++++++++++++ XGBoost 8 247 2\n"
          ]
        },
        {
          "output_type": "stream",
          "name": "stderr",
          "text": [
            "INFO:prophet:Disabling yearly seasonality. Run prophet with yearly_seasonality=True to override this.\n",
            "INFO:prophet:Disabling daily seasonality. Run prophet with daily_seasonality=True to override this.\n",
            "DEBUG:cmdstanpy:input tempfile: /tmp/tmpmo9k28to/fq52jqs1.json\n",
            "DEBUG:cmdstanpy:input tempfile: /tmp/tmpmo9k28to/x3372iuw.json\n",
            "DEBUG:cmdstanpy:idx 0\n",
            "DEBUG:cmdstanpy:running CmdStan, num_threads: None\n",
            "DEBUG:cmdstanpy:CmdStan args: ['/usr/local/lib/python3.10/dist-packages/prophet/stan_model/prophet_model.bin', 'random', 'seed=83488', 'data', 'file=/tmp/tmpmo9k28to/fq52jqs1.json', 'init=/tmp/tmpmo9k28to/x3372iuw.json', 'output', 'file=/tmp/tmpmo9k28to/prophet_models_oedgxk/prophet_model-20230930121040.csv', 'method=optimize', 'algorithm=lbfgs', 'iter=10000']\n",
            "12:10:40 - cmdstanpy - INFO - Chain [1] start processing\n",
            "INFO:cmdstanpy:Chain [1] start processing\n",
            "12:10:40 - cmdstanpy - INFO - Chain [1] done processing\n",
            "INFO:cmdstanpy:Chain [1] done processing\n"
          ]
        },
        {
          "output_type": "stream",
          "name": "stdout",
          "text": [
            "+++++++++++++++++++++++++++++++++++++++++++++++++++++++++++++++++++++++++++++++++++++++ [('Prophet', 496264.124), ('ARIMA', 8918.3654), ('ETS', 80091.8199), ('XGBoost', 41525.617), ('Greykite', inf)]\n",
            "+++++++++++++++++++++++++++++++++++++++++++++++++++++++++++++++++++++++++++++++++++++++ ARIMA 9 249 2\n"
          ]
        },
        {
          "output_type": "stream",
          "name": "stderr",
          "text": [
            "INFO:prophet:Disabling yearly seasonality. Run prophet with yearly_seasonality=True to override this.\n",
            "INFO:prophet:Disabling daily seasonality. Run prophet with daily_seasonality=True to override this.\n",
            "DEBUG:cmdstanpy:input tempfile: /tmp/tmpmo9k28to/ducpytzt.json\n",
            "DEBUG:cmdstanpy:input tempfile: /tmp/tmpmo9k28to/n9ombgxa.json\n",
            "DEBUG:cmdstanpy:idx 0\n",
            "DEBUG:cmdstanpy:running CmdStan, num_threads: None\n",
            "DEBUG:cmdstanpy:CmdStan args: ['/usr/local/lib/python3.10/dist-packages/prophet/stan_model/prophet_model.bin', 'random', 'seed=52801', 'data', 'file=/tmp/tmpmo9k28to/ducpytzt.json', 'init=/tmp/tmpmo9k28to/n9ombgxa.json', 'output', 'file=/tmp/tmpmo9k28to/prophet_modellp1gi6nx/prophet_model-20230930121040.csv', 'method=optimize', 'algorithm=lbfgs', 'iter=10000']\n",
            "12:10:40 - cmdstanpy - INFO - Chain [1] start processing\n",
            "INFO:cmdstanpy:Chain [1] start processing\n",
            "12:10:40 - cmdstanpy - INFO - Chain [1] done processing\n",
            "INFO:cmdstanpy:Chain [1] done processing\n"
          ]
        },
        {
          "output_type": "stream",
          "name": "stdout",
          "text": [
            "+++++++++++++++++++++++++++++++++++++++++++++++++++++++++++++++++++++++++++++++++++++++ [('Prophet', 89232.5844), ('ARIMA', 4672.6696), ('ETS', 11476.8687), ('XGBoost', 970.4335), ('Greykite', inf)]\n",
            "+++++++++++++++++++++++++++++++++++++++++++++++++++++++++++++++++++++++++++++++++++++++ XGBoost 10 251 2\n"
          ]
        },
        {
          "output_type": "stream",
          "name": "stderr",
          "text": [
            "INFO:prophet:Disabling yearly seasonality. Run prophet with yearly_seasonality=True to override this.\n",
            "INFO:prophet:Disabling daily seasonality. Run prophet with daily_seasonality=True to override this.\n",
            "DEBUG:cmdstanpy:input tempfile: /tmp/tmpmo9k28to/od7hj5mg.json\n",
            "DEBUG:cmdstanpy:input tempfile: /tmp/tmpmo9k28to/7l4qtltn.json\n",
            "DEBUG:cmdstanpy:idx 0\n",
            "DEBUG:cmdstanpy:running CmdStan, num_threads: None\n",
            "DEBUG:cmdstanpy:CmdStan args: ['/usr/local/lib/python3.10/dist-packages/prophet/stan_model/prophet_model.bin', 'random', 'seed=20385', 'data', 'file=/tmp/tmpmo9k28to/od7hj5mg.json', 'init=/tmp/tmpmo9k28to/7l4qtltn.json', 'output', 'file=/tmp/tmpmo9k28to/prophet_model56sjxo8y/prophet_model-20230930121041.csv', 'method=optimize', 'algorithm=lbfgs', 'iter=10000']\n",
            "12:10:41 - cmdstanpy - INFO - Chain [1] start processing\n",
            "INFO:cmdstanpy:Chain [1] start processing\n",
            "12:10:41 - cmdstanpy - INFO - Chain [1] done processing\n",
            "INFO:cmdstanpy:Chain [1] done processing\n"
          ]
        },
        {
          "output_type": "stream",
          "name": "stdout",
          "text": [
            "+++++++++++++++++++++++++++++++++++++++++++++++++++++++++++++++++++++++++++++++++++++++ [('Prophet', 25703.3093), ('ARIMA', 9166.2704), ('ETS', 74514.8382), ('XGBoost', 3636.4), ('Greykite', inf)]\n",
            "+++++++++++++++++++++++++++++++++++++++++++++++++++++++++++++++++++++++++++++++++++++++ XGBoost 11 253 2\n"
          ]
        },
        {
          "output_type": "stream",
          "name": "stderr",
          "text": [
            "INFO:prophet:Disabling yearly seasonality. Run prophet with yearly_seasonality=True to override this.\n",
            "INFO:prophet:Disabling daily seasonality. Run prophet with daily_seasonality=True to override this.\n",
            "DEBUG:cmdstanpy:input tempfile: /tmp/tmpmo9k28to/yqkj34rs.json\n",
            "DEBUG:cmdstanpy:input tempfile: /tmp/tmpmo9k28to/zwi1cgbn.json\n",
            "DEBUG:cmdstanpy:idx 0\n",
            "DEBUG:cmdstanpy:running CmdStan, num_threads: None\n",
            "DEBUG:cmdstanpy:CmdStan args: ['/usr/local/lib/python3.10/dist-packages/prophet/stan_model/prophet_model.bin', 'random', 'seed=35843', 'data', 'file=/tmp/tmpmo9k28to/yqkj34rs.json', 'init=/tmp/tmpmo9k28to/zwi1cgbn.json', 'output', 'file=/tmp/tmpmo9k28to/prophet_modelj58zdjky/prophet_model-20230930121042.csv', 'method=optimize', 'algorithm=lbfgs', 'iter=10000']\n",
            "12:10:42 - cmdstanpy - INFO - Chain [1] start processing\n",
            "INFO:cmdstanpy:Chain [1] start processing\n",
            "12:10:42 - cmdstanpy - INFO - Chain [1] done processing\n",
            "INFO:cmdstanpy:Chain [1] done processing\n"
          ]
        },
        {
          "output_type": "stream",
          "name": "stdout",
          "text": [
            "+++++++++++++++++++++++++++++++++++++++++++++++++++++++++++++++++++++++++++++++++++++++ [('Prophet', 14447.3793), ('ARIMA', 1344.4926), ('ETS', 56549.8202), ('XGBoost', 10165.0481), ('Greykite', inf)]\n",
            "+++++++++++++++++++++++++++++++++++++++++++++++++++++++++++++++++++++++++++++++++++++++ ARIMA 12 255 2\n"
          ]
        },
        {
          "output_type": "stream",
          "name": "stderr",
          "text": [
            "INFO:prophet:Disabling yearly seasonality. Run prophet with yearly_seasonality=True to override this.\n",
            "INFO:prophet:Disabling daily seasonality. Run prophet with daily_seasonality=True to override this.\n",
            "DEBUG:cmdstanpy:input tempfile: /tmp/tmpmo9k28to/ug6rrg4o.json\n",
            "DEBUG:cmdstanpy:input tempfile: /tmp/tmpmo9k28to/2xsfo076.json\n",
            "DEBUG:cmdstanpy:idx 0\n",
            "DEBUG:cmdstanpy:running CmdStan, num_threads: None\n",
            "DEBUG:cmdstanpy:CmdStan args: ['/usr/local/lib/python3.10/dist-packages/prophet/stan_model/prophet_model.bin', 'random', 'seed=16352', 'data', 'file=/tmp/tmpmo9k28to/ug6rrg4o.json', 'init=/tmp/tmpmo9k28to/2xsfo076.json', 'output', 'file=/tmp/tmpmo9k28to/prophet_modeljsbfw_t9/prophet_model-20230930121042.csv', 'method=optimize', 'algorithm=lbfgs', 'iter=10000']\n",
            "12:10:42 - cmdstanpy - INFO - Chain [1] start processing\n",
            "INFO:cmdstanpy:Chain [1] start processing\n",
            "12:10:42 - cmdstanpy - INFO - Chain [1] done processing\n",
            "INFO:cmdstanpy:Chain [1] done processing\n"
          ]
        },
        {
          "output_type": "stream",
          "name": "stdout",
          "text": [
            "+++++++++++++++++++++++++++++++++++++++++++++++++++++++++++++++++++++++++++++++++++++++ [('Prophet', 391.2269), ('ARIMA', 84.8775), ('ETS', 249.7432), ('XGBoost', 105.7793), ('Greykite', inf)]\n",
            "+++++++++++++++++++++++++++++++++++++++++++++++++++++++++++++++++++++++++++++++++++++++ ARIMA 13 257 2\n"
          ]
        },
        {
          "output_type": "stream",
          "name": "stderr",
          "text": [
            "INFO:prophet:Disabling yearly seasonality. Run prophet with yearly_seasonality=True to override this.\n",
            "INFO:prophet:Disabling daily seasonality. Run prophet with daily_seasonality=True to override this.\n",
            "DEBUG:cmdstanpy:input tempfile: /tmp/tmpmo9k28to/z5a8qo65.json\n",
            "DEBUG:cmdstanpy:input tempfile: /tmp/tmpmo9k28to/04iaz7cc.json\n",
            "DEBUG:cmdstanpy:idx 0\n",
            "DEBUG:cmdstanpy:running CmdStan, num_threads: None\n",
            "DEBUG:cmdstanpy:CmdStan args: ['/usr/local/lib/python3.10/dist-packages/prophet/stan_model/prophet_model.bin', 'random', 'seed=33797', 'data', 'file=/tmp/tmpmo9k28to/z5a8qo65.json', 'init=/tmp/tmpmo9k28to/04iaz7cc.json', 'output', 'file=/tmp/tmpmo9k28to/prophet_modelky_ro743/prophet_model-20230930121043.csv', 'method=optimize', 'algorithm=lbfgs', 'iter=10000']\n",
            "12:10:43 - cmdstanpy - INFO - Chain [1] start processing\n",
            "INFO:cmdstanpy:Chain [1] start processing\n",
            "12:10:43 - cmdstanpy - INFO - Chain [1] done processing\n",
            "INFO:cmdstanpy:Chain [1] done processing\n"
          ]
        },
        {
          "output_type": "stream",
          "name": "stdout",
          "text": [
            "+++++++++++++++++++++++++++++++++++++++++++++++++++++++++++++++++++++++++++++++++++++++ [('Prophet', 174.0762), ('ARIMA', 92.6482), ('ETS', 113.925), ('XGBoost', 67.3843), ('Greykite', inf)]\n",
            "+++++++++++++++++++++++++++++++++++++++++++++++++++++++++++++++++++++++++++++++++++++++ XGBoost 14 259 2\n"
          ]
        },
        {
          "output_type": "stream",
          "name": "stderr",
          "text": [
            "INFO:prophet:Disabling yearly seasonality. Run prophet with yearly_seasonality=True to override this.\n",
            "INFO:prophet:Disabling daily seasonality. Run prophet with daily_seasonality=True to override this.\n",
            "DEBUG:cmdstanpy:input tempfile: /tmp/tmpmo9k28to/3407j9ps.json\n",
            "DEBUG:cmdstanpy:input tempfile: /tmp/tmpmo9k28to/yuwp8fnk.json\n",
            "DEBUG:cmdstanpy:idx 0\n",
            "DEBUG:cmdstanpy:running CmdStan, num_threads: None\n",
            "DEBUG:cmdstanpy:CmdStan args: ['/usr/local/lib/python3.10/dist-packages/prophet/stan_model/prophet_model.bin', 'random', 'seed=61948', 'data', 'file=/tmp/tmpmo9k28to/3407j9ps.json', 'init=/tmp/tmpmo9k28to/yuwp8fnk.json', 'output', 'file=/tmp/tmpmo9k28to/prophet_modelehnht3bi/prophet_model-20230930121043.csv', 'method=optimize', 'algorithm=lbfgs', 'iter=10000']\n",
            "12:10:43 - cmdstanpy - INFO - Chain [1] start processing\n",
            "INFO:cmdstanpy:Chain [1] start processing\n",
            "12:10:43 - cmdstanpy - INFO - Chain [1] done processing\n",
            "INFO:cmdstanpy:Chain [1] done processing\n"
          ]
        },
        {
          "output_type": "stream",
          "name": "stdout",
          "text": [
            "+++++++++++++++++++++++++++++++++++++++++++++++++++++++++++++++++++++++++++++++++++++++ [('Prophet', 171.9778), ('ARIMA', 47.4623), ('ETS', 73.7078), ('XGBoost', 76.0681), ('Greykite', inf)]\n",
            "+++++++++++++++++++++++++++++++++++++++++++++++++++++++++++++++++++++++++++++++++++++++ ARIMA 15 261 2\n"
          ]
        },
        {
          "output_type": "stream",
          "name": "stderr",
          "text": [
            "INFO:prophet:Disabling yearly seasonality. Run prophet with yearly_seasonality=True to override this.\n",
            "INFO:prophet:Disabling daily seasonality. Run prophet with daily_seasonality=True to override this.\n",
            "DEBUG:cmdstanpy:input tempfile: /tmp/tmpmo9k28to/ytjc8f17.json\n",
            "DEBUG:cmdstanpy:input tempfile: /tmp/tmpmo9k28to/5qai_sox.json\n",
            "DEBUG:cmdstanpy:idx 0\n",
            "DEBUG:cmdstanpy:running CmdStan, num_threads: None\n",
            "DEBUG:cmdstanpy:CmdStan args: ['/usr/local/lib/python3.10/dist-packages/prophet/stan_model/prophet_model.bin', 'random', 'seed=81584', 'data', 'file=/tmp/tmpmo9k28to/ytjc8f17.json', 'init=/tmp/tmpmo9k28to/5qai_sox.json', 'output', 'file=/tmp/tmpmo9k28to/prophet_modelvvwaqggw/prophet_model-20230930121044.csv', 'method=optimize', 'algorithm=lbfgs', 'iter=10000']\n",
            "12:10:44 - cmdstanpy - INFO - Chain [1] start processing\n",
            "INFO:cmdstanpy:Chain [1] start processing\n",
            "12:10:44 - cmdstanpy - INFO - Chain [1] done processing\n",
            "INFO:cmdstanpy:Chain [1] done processing\n"
          ]
        },
        {
          "output_type": "stream",
          "name": "stdout",
          "text": [
            "+++++++++++++++++++++++++++++++++++++++++++++++++++++++++++++++++++++++++++++++++++++++ [('Prophet', 166.9124), ('ARIMA', 58.686), ('ETS', 115.2422), ('XGBoost', 21.3126), ('Greykite', inf)]\n",
            "+++++++++++++++++++++++++++++++++++++++++++++++++++++++++++++++++++++++++++++++++++++++ XGBoost 16 263 2\n"
          ]
        },
        {
          "output_type": "stream",
          "name": "stderr",
          "text": [
            "INFO:prophet:Disabling yearly seasonality. Run prophet with yearly_seasonality=True to override this.\n",
            "INFO:prophet:Disabling daily seasonality. Run prophet with daily_seasonality=True to override this.\n",
            "DEBUG:cmdstanpy:input tempfile: /tmp/tmpmo9k28to/merzzjl8.json\n",
            "DEBUG:cmdstanpy:input tempfile: /tmp/tmpmo9k28to/hcn04n3n.json\n",
            "DEBUG:cmdstanpy:idx 0\n",
            "DEBUG:cmdstanpy:running CmdStan, num_threads: None\n",
            "DEBUG:cmdstanpy:CmdStan args: ['/usr/local/lib/python3.10/dist-packages/prophet/stan_model/prophet_model.bin', 'random', 'seed=44265', 'data', 'file=/tmp/tmpmo9k28to/merzzjl8.json', 'init=/tmp/tmpmo9k28to/hcn04n3n.json', 'output', 'file=/tmp/tmpmo9k28to/prophet_modelapdippq4/prophet_model-20230930121045.csv', 'method=optimize', 'algorithm=lbfgs', 'iter=10000']\n",
            "12:10:45 - cmdstanpy - INFO - Chain [1] start processing\n",
            "INFO:cmdstanpy:Chain [1] start processing\n",
            "12:10:45 - cmdstanpy - INFO - Chain [1] done processing\n",
            "INFO:cmdstanpy:Chain [1] done processing\n"
          ]
        },
        {
          "output_type": "stream",
          "name": "stdout",
          "text": [
            "+++++++++++++++++++++++++++++++++++++++++++++++++++++++++++++++++++++++++++++++++++++++ [('Prophet', 290.0295), ('ARIMA', 158.4185), ('ETS', 62.1553), ('XGBoost', 88.9494), ('Greykite', inf)]\n",
            "+++++++++++++++++++++++++++++++++++++++++++++++++++++++++++++++++++++++++++++++++++++++ ETS 17 265 2\n"
          ]
        },
        {
          "output_type": "stream",
          "name": "stderr",
          "text": [
            "INFO:prophet:Disabling yearly seasonality. Run prophet with yearly_seasonality=True to override this.\n",
            "INFO:prophet:Disabling daily seasonality. Run prophet with daily_seasonality=True to override this.\n",
            "DEBUG:cmdstanpy:input tempfile: /tmp/tmpmo9k28to/rtomzl_n.json\n",
            "DEBUG:cmdstanpy:input tempfile: /tmp/tmpmo9k28to/3zpbm4dt.json\n",
            "DEBUG:cmdstanpy:idx 0\n",
            "DEBUG:cmdstanpy:running CmdStan, num_threads: None\n",
            "DEBUG:cmdstanpy:CmdStan args: ['/usr/local/lib/python3.10/dist-packages/prophet/stan_model/prophet_model.bin', 'random', 'seed=95236', 'data', 'file=/tmp/tmpmo9k28to/rtomzl_n.json', 'init=/tmp/tmpmo9k28to/3zpbm4dt.json', 'output', 'file=/tmp/tmpmo9k28to/prophet_modelhcdyib0e/prophet_model-20230930121045.csv', 'method=optimize', 'algorithm=lbfgs', 'iter=10000']\n",
            "12:10:45 - cmdstanpy - INFO - Chain [1] start processing\n",
            "INFO:cmdstanpy:Chain [1] start processing\n",
            "12:10:45 - cmdstanpy - INFO - Chain [1] done processing\n",
            "INFO:cmdstanpy:Chain [1] done processing\n"
          ]
        },
        {
          "output_type": "stream",
          "name": "stdout",
          "text": [
            "+++++++++++++++++++++++++++++++++++++++++++++++++++++++++++++++++++++++++++++++++++++++ [('Prophet', 210.7023), ('ARIMA', 11.6906), ('ETS', 66.7335), ('XGBoost', 9.6403), ('Greykite', inf)]\n",
            "+++++++++++++++++++++++++++++++++++++++++++++++++++++++++++++++++++++++++++++++++++++++ XGBoost 18 267 2\n"
          ]
        },
        {
          "output_type": "stream",
          "name": "stderr",
          "text": [
            "INFO:prophet:Disabling yearly seasonality. Run prophet with yearly_seasonality=True to override this.\n",
            "INFO:prophet:Disabling daily seasonality. Run prophet with daily_seasonality=True to override this.\n",
            "DEBUG:cmdstanpy:input tempfile: /tmp/tmpmo9k28to/w0kekh27.json\n",
            "DEBUG:cmdstanpy:input tempfile: /tmp/tmpmo9k28to/u8uzam0s.json\n",
            "DEBUG:cmdstanpy:idx 0\n",
            "DEBUG:cmdstanpy:running CmdStan, num_threads: None\n",
            "DEBUG:cmdstanpy:CmdStan args: ['/usr/local/lib/python3.10/dist-packages/prophet/stan_model/prophet_model.bin', 'random', 'seed=71041', 'data', 'file=/tmp/tmpmo9k28to/w0kekh27.json', 'init=/tmp/tmpmo9k28to/u8uzam0s.json', 'output', 'file=/tmp/tmpmo9k28to/prophet_modelvx5odk9u/prophet_model-20230930121046.csv', 'method=optimize', 'algorithm=lbfgs', 'iter=10000']\n",
            "12:10:46 - cmdstanpy - INFO - Chain [1] start processing\n",
            "INFO:cmdstanpy:Chain [1] start processing\n",
            "12:10:46 - cmdstanpy - INFO - Chain [1] done processing\n",
            "INFO:cmdstanpy:Chain [1] done processing\n"
          ]
        },
        {
          "output_type": "stream",
          "name": "stdout",
          "text": [
            "+++++++++++++++++++++++++++++++++++++++++++++++++++++++++++++++++++++++++++++++++++++++ [('Prophet', 210.2423), ('ARIMA', 39.859), ('ETS', 51.1611), ('XGBoost', 56.5253), ('Greykite', inf)]\n",
            "+++++++++++++++++++++++++++++++++++++++++++++++++++++++++++++++++++++++++++++++++++++++ ARIMA 19 269 2\n"
          ]
        },
        {
          "output_type": "stream",
          "name": "stderr",
          "text": [
            "INFO:prophet:Disabling yearly seasonality. Run prophet with yearly_seasonality=True to override this.\n",
            "INFO:prophet:Disabling daily seasonality. Run prophet with daily_seasonality=True to override this.\n",
            "DEBUG:cmdstanpy:input tempfile: /tmp/tmpmo9k28to/ilvsvop8.json\n",
            "DEBUG:cmdstanpy:input tempfile: /tmp/tmpmo9k28to/ly8pef58.json\n",
            "DEBUG:cmdstanpy:idx 0\n",
            "DEBUG:cmdstanpy:running CmdStan, num_threads: None\n",
            "DEBUG:cmdstanpy:CmdStan args: ['/usr/local/lib/python3.10/dist-packages/prophet/stan_model/prophet_model.bin', 'random', 'seed=88560', 'data', 'file=/tmp/tmpmo9k28to/ilvsvop8.json', 'init=/tmp/tmpmo9k28to/ly8pef58.json', 'output', 'file=/tmp/tmpmo9k28to/prophet_modela954c3fy/prophet_model-20230930121047.csv', 'method=optimize', 'algorithm=lbfgs', 'iter=10000']\n",
            "12:10:47 - cmdstanpy - INFO - Chain [1] start processing\n",
            "INFO:cmdstanpy:Chain [1] start processing\n",
            "12:10:47 - cmdstanpy - INFO - Chain [1] done processing\n",
            "INFO:cmdstanpy:Chain [1] done processing\n"
          ]
        },
        {
          "output_type": "stream",
          "name": "stdout",
          "text": [
            "+++++++++++++++++++++++++++++++++++++++++++++++++++++++++++++++++++++++++++++++++++++++ [('Prophet', 191.0652), ('ARIMA', 163.0304), ('ETS', 158.1542), ('XGBoost', 157.2069), ('Greykite', inf)]\n",
            "+++++++++++++++++++++++++++++++++++++++++++++++++++++++++++++++++++++++++++++++++++++++ XGBoost 20 271 2\n"
          ]
        },
        {
          "output_type": "stream",
          "name": "stderr",
          "text": [
            "INFO:prophet:Disabling yearly seasonality. Run prophet with yearly_seasonality=True to override this.\n",
            "INFO:prophet:Disabling daily seasonality. Run prophet with daily_seasonality=True to override this.\n",
            "DEBUG:cmdstanpy:input tempfile: /tmp/tmpmo9k28to/piczwqxp.json\n",
            "DEBUG:cmdstanpy:input tempfile: /tmp/tmpmo9k28to/1rampq9v.json\n",
            "DEBUG:cmdstanpy:idx 0\n",
            "DEBUG:cmdstanpy:running CmdStan, num_threads: None\n",
            "DEBUG:cmdstanpy:CmdStan args: ['/usr/local/lib/python3.10/dist-packages/prophet/stan_model/prophet_model.bin', 'random', 'seed=98097', 'data', 'file=/tmp/tmpmo9k28to/piczwqxp.json', 'init=/tmp/tmpmo9k28to/1rampq9v.json', 'output', 'file=/tmp/tmpmo9k28to/prophet_modeld2omfnc5/prophet_model-20230930121047.csv', 'method=optimize', 'algorithm=lbfgs', 'iter=10000']\n",
            "12:10:47 - cmdstanpy - INFO - Chain [1] start processing\n",
            "INFO:cmdstanpy:Chain [1] start processing\n",
            "12:10:47 - cmdstanpy - INFO - Chain [1] done processing\n",
            "INFO:cmdstanpy:Chain [1] done processing\n"
          ]
        },
        {
          "output_type": "stream",
          "name": "stdout",
          "text": [
            "+++++++++++++++++++++++++++++++++++++++++++++++++++++++++++++++++++++++++++++++++++++++ [('Prophet', 219.8177), ('ARIMA', 35.0823), ('ETS', 49.9158), ('XGBoost', 117.2956), ('Greykite', inf)]\n",
            "+++++++++++++++++++++++++++++++++++++++++++++++++++++++++++++++++++++++++++++++++++++++ ARIMA 21 273 2\n"
          ]
        },
        {
          "output_type": "stream",
          "name": "stderr",
          "text": [
            "INFO:prophet:Disabling yearly seasonality. Run prophet with yearly_seasonality=True to override this.\n",
            "INFO:prophet:Disabling daily seasonality. Run prophet with daily_seasonality=True to override this.\n",
            "DEBUG:cmdstanpy:input tempfile: /tmp/tmpmo9k28to/_654ubzb.json\n",
            "DEBUG:cmdstanpy:input tempfile: /tmp/tmpmo9k28to/xdcbx1lx.json\n",
            "DEBUG:cmdstanpy:idx 0\n",
            "DEBUG:cmdstanpy:running CmdStan, num_threads: None\n",
            "DEBUG:cmdstanpy:CmdStan args: ['/usr/local/lib/python3.10/dist-packages/prophet/stan_model/prophet_model.bin', 'random', 'seed=44468', 'data', 'file=/tmp/tmpmo9k28to/_654ubzb.json', 'init=/tmp/tmpmo9k28to/xdcbx1lx.json', 'output', 'file=/tmp/tmpmo9k28to/prophet_modelygmj5x7e/prophet_model-20230930121048.csv', 'method=optimize', 'algorithm=lbfgs', 'iter=10000']\n",
            "12:10:48 - cmdstanpy - INFO - Chain [1] start processing\n",
            "INFO:cmdstanpy:Chain [1] start processing\n",
            "12:10:48 - cmdstanpy - INFO - Chain [1] done processing\n",
            "INFO:cmdstanpy:Chain [1] done processing\n"
          ]
        },
        {
          "output_type": "stream",
          "name": "stdout",
          "text": [
            "+++++++++++++++++++++++++++++++++++++++++++++++++++++++++++++++++++++++++++++++++++++++ [('Prophet', 210.5653), ('ARIMA', 9.2026), ('ETS', 27.8215), ('XGBoost', 14.6803), ('Greykite', inf)]\n",
            "+++++++++++++++++++++++++++++++++++++++++++++++++++++++++++++++++++++++++++++++++++++++ ARIMA 22 275 2\n"
          ]
        },
        {
          "output_type": "stream",
          "name": "stderr",
          "text": [
            "INFO:prophet:Disabling yearly seasonality. Run prophet with yearly_seasonality=True to override this.\n",
            "INFO:prophet:Disabling daily seasonality. Run prophet with daily_seasonality=True to override this.\n",
            "DEBUG:cmdstanpy:input tempfile: /tmp/tmpmo9k28to/senbptvw.json\n",
            "DEBUG:cmdstanpy:input tempfile: /tmp/tmpmo9k28to/wtj75q4v.json\n",
            "DEBUG:cmdstanpy:idx 0\n",
            "DEBUG:cmdstanpy:running CmdStan, num_threads: None\n",
            "DEBUG:cmdstanpy:CmdStan args: ['/usr/local/lib/python3.10/dist-packages/prophet/stan_model/prophet_model.bin', 'random', 'seed=91310', 'data', 'file=/tmp/tmpmo9k28to/senbptvw.json', 'init=/tmp/tmpmo9k28to/wtj75q4v.json', 'output', 'file=/tmp/tmpmo9k28to/prophet_modelicu69fps/prophet_model-20230930121048.csv', 'method=optimize', 'algorithm=lbfgs', 'iter=10000']\n",
            "12:10:48 - cmdstanpy - INFO - Chain [1] start processing\n",
            "INFO:cmdstanpy:Chain [1] start processing\n",
            "12:10:48 - cmdstanpy - INFO - Chain [1] done processing\n",
            "INFO:cmdstanpy:Chain [1] done processing\n"
          ]
        },
        {
          "output_type": "stream",
          "name": "stdout",
          "text": [
            "+++++++++++++++++++++++++++++++++++++++++++++++++++++++++++++++++++++++++++++++++++++++ [('Prophet', 158.3545), ('ARIMA', 83.2187), ('ETS', 58.1169), ('XGBoost', 146.7656), ('Greykite', inf)]\n",
            "+++++++++++++++++++++++++++++++++++++++++++++++++++++++++++++++++++++++++++++++++++++++ ETS 23 277 2\n"
          ]
        },
        {
          "output_type": "stream",
          "name": "stderr",
          "text": [
            "INFO:prophet:Disabling yearly seasonality. Run prophet with yearly_seasonality=True to override this.\n",
            "INFO:prophet:Disabling daily seasonality. Run prophet with daily_seasonality=True to override this.\n",
            "DEBUG:cmdstanpy:input tempfile: /tmp/tmpmo9k28to/01o4iao0.json\n",
            "DEBUG:cmdstanpy:input tempfile: /tmp/tmpmo9k28to/wkt0gw0d.json\n",
            "DEBUG:cmdstanpy:idx 0\n",
            "DEBUG:cmdstanpy:running CmdStan, num_threads: None\n",
            "DEBUG:cmdstanpy:CmdStan args: ['/usr/local/lib/python3.10/dist-packages/prophet/stan_model/prophet_model.bin', 'random', 'seed=9496', 'data', 'file=/tmp/tmpmo9k28to/01o4iao0.json', 'init=/tmp/tmpmo9k28to/wkt0gw0d.json', 'output', 'file=/tmp/tmpmo9k28to/prophet_modelqfc43w8d/prophet_model-20230930121049.csv', 'method=optimize', 'algorithm=lbfgs', 'iter=10000']\n",
            "12:10:49 - cmdstanpy - INFO - Chain [1] start processing\n",
            "INFO:cmdstanpy:Chain [1] start processing\n",
            "12:10:49 - cmdstanpy - INFO - Chain [1] done processing\n",
            "INFO:cmdstanpy:Chain [1] done processing\n"
          ]
        },
        {
          "output_type": "stream",
          "name": "stdout",
          "text": [
            "+++++++++++++++++++++++++++++++++++++++++++++++++++++++++++++++++++++++++++++++++++++++ [('Prophet', 254.5591), ('ARIMA', 120.0212), ('ETS', 135.1384), ('XGBoost', 150.8162), ('Greykite', inf)]\n",
            "+++++++++++++++++++++++++++++++++++++++++++++++++++++++++++++++++++++++++++++++++++++++ ARIMA 24 279 2\n"
          ]
        },
        {
          "output_type": "stream",
          "name": "stderr",
          "text": [
            "INFO:prophet:Disabling yearly seasonality. Run prophet with yearly_seasonality=True to override this.\n",
            "INFO:prophet:Disabling daily seasonality. Run prophet with daily_seasonality=True to override this.\n",
            "DEBUG:cmdstanpy:input tempfile: /tmp/tmpmo9k28to/yeprwqx8.json\n",
            "DEBUG:cmdstanpy:input tempfile: /tmp/tmpmo9k28to/jgzvaug3.json\n",
            "DEBUG:cmdstanpy:idx 0\n",
            "DEBUG:cmdstanpy:running CmdStan, num_threads: None\n",
            "DEBUG:cmdstanpy:CmdStan args: ['/usr/local/lib/python3.10/dist-packages/prophet/stan_model/prophet_model.bin', 'random', 'seed=34853', 'data', 'file=/tmp/tmpmo9k28to/yeprwqx8.json', 'init=/tmp/tmpmo9k28to/jgzvaug3.json', 'output', 'file=/tmp/tmpmo9k28to/prophet_modelzv7sb6lx/prophet_model-20230930121052.csv', 'method=optimize', 'algorithm=lbfgs', 'iter=10000']\n",
            "12:10:52 - cmdstanpy - INFO - Chain [1] start processing\n",
            "INFO:cmdstanpy:Chain [1] start processing\n",
            "12:10:52 - cmdstanpy - INFO - Chain [1] done processing\n",
            "INFO:cmdstanpy:Chain [1] done processing\n"
          ]
        },
        {
          "output_type": "stream",
          "name": "stdout",
          "text": [
            "+++++++++++++++++++++++++++++++++++++++++++++++++++++++++++++++++++++++++++++++++++++++ [('Prophet', 201.1349), ('ARIMA', 22.4153), ('ETS', 66.3464), ('XGBoost', 36.4862), ('Greykite', inf)]\n",
            "+++++++++++++++++++++++++++++++++++++++++++++++++++++++++++++++++++++++++++++++++++++++ ARIMA 25 281 2\n"
          ]
        },
        {
          "output_type": "stream",
          "name": "stderr",
          "text": [
            "INFO:prophet:Disabling yearly seasonality. Run prophet with yearly_seasonality=True to override this.\n",
            "INFO:prophet:Disabling daily seasonality. Run prophet with daily_seasonality=True to override this.\n",
            "DEBUG:cmdstanpy:input tempfile: /tmp/tmpmo9k28to/05__enes.json\n",
            "DEBUG:cmdstanpy:input tempfile: /tmp/tmpmo9k28to/8kkxhpn4.json\n",
            "DEBUG:cmdstanpy:idx 0\n",
            "DEBUG:cmdstanpy:running CmdStan, num_threads: None\n",
            "DEBUG:cmdstanpy:CmdStan args: ['/usr/local/lib/python3.10/dist-packages/prophet/stan_model/prophet_model.bin', 'random', 'seed=28988', 'data', 'file=/tmp/tmpmo9k28to/05__enes.json', 'init=/tmp/tmpmo9k28to/8kkxhpn4.json', 'output', 'file=/tmp/tmpmo9k28to/prophet_modelhh10dkm0/prophet_model-20230930121053.csv', 'method=optimize', 'algorithm=lbfgs', 'iter=10000']\n",
            "12:10:53 - cmdstanpy - INFO - Chain [1] start processing\n",
            "INFO:cmdstanpy:Chain [1] start processing\n",
            "12:10:53 - cmdstanpy - INFO - Chain [1] done processing\n",
            "INFO:cmdstanpy:Chain [1] done processing\n"
          ]
        },
        {
          "output_type": "stream",
          "name": "stdout",
          "text": [
            "+++++++++++++++++++++++++++++++++++++++++++++++++++++++++++++++++++++++++++++++++++++++ [('Prophet', 221.5967), ('ARIMA', 16.8609), ('ETS', 18.0567), ('XGBoost', 42.7046), ('Greykite', inf)]\n",
            "+++++++++++++++++++++++++++++++++++++++++++++++++++++++++++++++++++++++++++++++++++++++ ARIMA 26 283 2\n"
          ]
        },
        {
          "output_type": "stream",
          "name": "stderr",
          "text": [
            "INFO:prophet:Disabling yearly seasonality. Run prophet with yearly_seasonality=True to override this.\n",
            "INFO:prophet:Disabling daily seasonality. Run prophet with daily_seasonality=True to override this.\n",
            "DEBUG:cmdstanpy:input tempfile: /tmp/tmpmo9k28to/p4vt0mve.json\n",
            "DEBUG:cmdstanpy:input tempfile: /tmp/tmpmo9k28to/919jurl7.json\n",
            "DEBUG:cmdstanpy:idx 0\n",
            "DEBUG:cmdstanpy:running CmdStan, num_threads: None\n",
            "DEBUG:cmdstanpy:CmdStan args: ['/usr/local/lib/python3.10/dist-packages/prophet/stan_model/prophet_model.bin', 'random', 'seed=28639', 'data', 'file=/tmp/tmpmo9k28to/p4vt0mve.json', 'init=/tmp/tmpmo9k28to/919jurl7.json', 'output', 'file=/tmp/tmpmo9k28to/prophet_modelfgsvtlyg/prophet_model-20230930121053.csv', 'method=optimize', 'algorithm=lbfgs', 'iter=10000']\n",
            "12:10:53 - cmdstanpy - INFO - Chain [1] start processing\n",
            "INFO:cmdstanpy:Chain [1] start processing\n",
            "12:10:53 - cmdstanpy - INFO - Chain [1] done processing\n",
            "INFO:cmdstanpy:Chain [1] done processing\n"
          ]
        },
        {
          "output_type": "stream",
          "name": "stdout",
          "text": [
            "+++++++++++++++++++++++++++++++++++++++++++++++++++++++++++++++++++++++++++++++++++++++ [('Prophet', 133.3395), ('ARIMA', 247.9289), ('ETS', 213.1401), ('XGBoost', 222.1675), ('Greykite', inf)]\n",
            "+++++++++++++++++++++++++++++++++++++++++++++++++++++++++++++++++++++++++++++++++++++++ Prophet 27 285 2\n"
          ]
        },
        {
          "output_type": "stream",
          "name": "stderr",
          "text": [
            "INFO:prophet:Disabling yearly seasonality. Run prophet with yearly_seasonality=True to override this.\n",
            "INFO:prophet:Disabling daily seasonality. Run prophet with daily_seasonality=True to override this.\n",
            "DEBUG:cmdstanpy:input tempfile: /tmp/tmpmo9k28to/kwf0phyb.json\n",
            "DEBUG:cmdstanpy:input tempfile: /tmp/tmpmo9k28to/j814wgxq.json\n",
            "DEBUG:cmdstanpy:idx 0\n",
            "DEBUG:cmdstanpy:running CmdStan, num_threads: None\n",
            "DEBUG:cmdstanpy:CmdStan args: ['/usr/local/lib/python3.10/dist-packages/prophet/stan_model/prophet_model.bin', 'random', 'seed=3884', 'data', 'file=/tmp/tmpmo9k28to/kwf0phyb.json', 'init=/tmp/tmpmo9k28to/j814wgxq.json', 'output', 'file=/tmp/tmpmo9k28to/prophet_model8bk_jn5r/prophet_model-20230930121054.csv', 'method=optimize', 'algorithm=lbfgs', 'iter=10000']\n",
            "12:10:54 - cmdstanpy - INFO - Chain [1] start processing\n",
            "INFO:cmdstanpy:Chain [1] start processing\n",
            "12:10:54 - cmdstanpy - INFO - Chain [1] done processing\n",
            "INFO:cmdstanpy:Chain [1] done processing\n"
          ]
        },
        {
          "output_type": "stream",
          "name": "stdout",
          "text": [
            "+++++++++++++++++++++++++++++++++++++++++++++++++++++++++++++++++++++++++++++++++++++++ [('Prophet', 205.9289), ('ARIMA', 40.6593), ('ETS', 30.6755), ('XGBoost', 40.7497), ('Greykite', inf)]\n",
            "+++++++++++++++++++++++++++++++++++++++++++++++++++++++++++++++++++++++++++++++++++++++ ETS 28 287 2\n"
          ]
        },
        {
          "output_type": "stream",
          "name": "stderr",
          "text": [
            "INFO:prophet:Disabling yearly seasonality. Run prophet with yearly_seasonality=True to override this.\n",
            "INFO:prophet:Disabling daily seasonality. Run prophet with daily_seasonality=True to override this.\n",
            "DEBUG:cmdstanpy:input tempfile: /tmp/tmpmo9k28to/0pi0n7d8.json\n",
            "DEBUG:cmdstanpy:input tempfile: /tmp/tmpmo9k28to/nneftbx5.json\n",
            "DEBUG:cmdstanpy:idx 0\n",
            "DEBUG:cmdstanpy:running CmdStan, num_threads: None\n",
            "DEBUG:cmdstanpy:CmdStan args: ['/usr/local/lib/python3.10/dist-packages/prophet/stan_model/prophet_model.bin', 'random', 'seed=94652', 'data', 'file=/tmp/tmpmo9k28to/0pi0n7d8.json', 'init=/tmp/tmpmo9k28to/nneftbx5.json', 'output', 'file=/tmp/tmpmo9k28to/prophet_modelrvdjrsdf/prophet_model-20230930121055.csv', 'method=optimize', 'algorithm=lbfgs', 'iter=10000']\n",
            "12:10:55 - cmdstanpy - INFO - Chain [1] start processing\n",
            "INFO:cmdstanpy:Chain [1] start processing\n",
            "12:10:55 - cmdstanpy - INFO - Chain [1] done processing\n",
            "INFO:cmdstanpy:Chain [1] done processing\n"
          ]
        },
        {
          "output_type": "stream",
          "name": "stdout",
          "text": [
            "+++++++++++++++++++++++++++++++++++++++++++++++++++++++++++++++++++++++++++++++++++++++ [('Prophet', 194.7296), ('ARIMA', 6.4921), ('ETS', 51.5057), ('XGBoost', 34.2685), ('Greykite', inf)]\n",
            "+++++++++++++++++++++++++++++++++++++++++++++++++++++++++++++++++++++++++++++++++++++++ ARIMA 29 289 2\n"
          ]
        },
        {
          "output_type": "stream",
          "name": "stderr",
          "text": [
            "INFO:prophet:Disabling yearly seasonality. Run prophet with yearly_seasonality=True to override this.\n",
            "INFO:prophet:Disabling daily seasonality. Run prophet with daily_seasonality=True to override this.\n",
            "DEBUG:cmdstanpy:input tempfile: /tmp/tmpmo9k28to/c9c81rzu.json\n",
            "DEBUG:cmdstanpy:input tempfile: /tmp/tmpmo9k28to/g4po3d08.json\n",
            "DEBUG:cmdstanpy:idx 0\n",
            "DEBUG:cmdstanpy:running CmdStan, num_threads: None\n",
            "DEBUG:cmdstanpy:CmdStan args: ['/usr/local/lib/python3.10/dist-packages/prophet/stan_model/prophet_model.bin', 'random', 'seed=77219', 'data', 'file=/tmp/tmpmo9k28to/c9c81rzu.json', 'init=/tmp/tmpmo9k28to/g4po3d08.json', 'output', 'file=/tmp/tmpmo9k28to/prophet_modelgodyofxk/prophet_model-20230930121055.csv', 'method=optimize', 'algorithm=lbfgs', 'iter=10000']\n",
            "12:10:55 - cmdstanpy - INFO - Chain [1] start processing\n",
            "INFO:cmdstanpy:Chain [1] start processing\n",
            "12:10:55 - cmdstanpy - INFO - Chain [1] done processing\n",
            "INFO:cmdstanpy:Chain [1] done processing\n"
          ]
        },
        {
          "output_type": "stream",
          "name": "stdout",
          "text": [
            "+++++++++++++++++++++++++++++++++++++++++++++++++++++++++++++++++++++++++++++++++++++++ [('Prophet', 92.402), ('ARIMA', 44.9532), ('ETS', 47.343), ('XGBoost', 24.1237), ('Greykite', inf)]\n",
            "+++++++++++++++++++++++++++++++++++++++++++++++++++++++++++++++++++++++++++++++++++++++ XGBoost 30 291 2\n"
          ]
        },
        {
          "output_type": "stream",
          "name": "stderr",
          "text": [
            "INFO:prophet:Disabling yearly seasonality. Run prophet with yearly_seasonality=True to override this.\n",
            "INFO:prophet:Disabling daily seasonality. Run prophet with daily_seasonality=True to override this.\n",
            "DEBUG:cmdstanpy:input tempfile: /tmp/tmpmo9k28to/2xxfpztp.json\n",
            "DEBUG:cmdstanpy:input tempfile: /tmp/tmpmo9k28to/cztwq4k6.json\n",
            "DEBUG:cmdstanpy:idx 0\n",
            "DEBUG:cmdstanpy:running CmdStan, num_threads: None\n",
            "DEBUG:cmdstanpy:CmdStan args: ['/usr/local/lib/python3.10/dist-packages/prophet/stan_model/prophet_model.bin', 'random', 'seed=58418', 'data', 'file=/tmp/tmpmo9k28to/2xxfpztp.json', 'init=/tmp/tmpmo9k28to/cztwq4k6.json', 'output', 'file=/tmp/tmpmo9k28to/prophet_modelfrtynenw/prophet_model-20230930121056.csv', 'method=optimize', 'algorithm=lbfgs', 'iter=10000']\n",
            "12:10:56 - cmdstanpy - INFO - Chain [1] start processing\n",
            "INFO:cmdstanpy:Chain [1] start processing\n",
            "12:10:56 - cmdstanpy - INFO - Chain [1] done processing\n",
            "INFO:cmdstanpy:Chain [1] done processing\n"
          ]
        },
        {
          "output_type": "stream",
          "name": "stdout",
          "text": [
            "+++++++++++++++++++++++++++++++++++++++++++++++++++++++++++++++++++++++++++++++++++++++ [('Prophet', 161.1241), ('ARIMA', 122.3646), ('ETS', 166.8585), ('XGBoost', 309.996), ('Greykite', inf)]\n",
            "+++++++++++++++++++++++++++++++++++++++++++++++++++++++++++++++++++++++++++++++++++++++ ARIMA 31 293 2\n"
          ]
        },
        {
          "output_type": "stream",
          "name": "stderr",
          "text": [
            "INFO:prophet:Disabling yearly seasonality. Run prophet with yearly_seasonality=True to override this.\n",
            "INFO:prophet:Disabling daily seasonality. Run prophet with daily_seasonality=True to override this.\n",
            "DEBUG:cmdstanpy:input tempfile: /tmp/tmpmo9k28to/xu0_kmkb.json\n",
            "DEBUG:cmdstanpy:input tempfile: /tmp/tmpmo9k28to/z40s19d_.json\n",
            "DEBUG:cmdstanpy:idx 0\n",
            "DEBUG:cmdstanpy:running CmdStan, num_threads: None\n",
            "DEBUG:cmdstanpy:CmdStan args: ['/usr/local/lib/python3.10/dist-packages/prophet/stan_model/prophet_model.bin', 'random', 'seed=28572', 'data', 'file=/tmp/tmpmo9k28to/xu0_kmkb.json', 'init=/tmp/tmpmo9k28to/z40s19d_.json', 'output', 'file=/tmp/tmpmo9k28to/prophet_model9992hfbv/prophet_model-20230930121056.csv', 'method=optimize', 'algorithm=lbfgs', 'iter=10000']\n",
            "12:10:56 - cmdstanpy - INFO - Chain [1] start processing\n",
            "INFO:cmdstanpy:Chain [1] start processing\n",
            "12:10:56 - cmdstanpy - INFO - Chain [1] done processing\n",
            "INFO:cmdstanpy:Chain [1] done processing\n"
          ]
        },
        {
          "output_type": "stream",
          "name": "stdout",
          "text": [
            "+++++++++++++++++++++++++++++++++++++++++++++++++++++++++++++++++++++++++++++++++++++++ [('Prophet', 188.5345), ('ARIMA', 7.5061), ('ETS', 40.4904), ('XGBoost', 7.0817), ('Greykite', inf)]\n",
            "+++++++++++++++++++++++++++++++++++++++++++++++++++++++++++++++++++++++++++++++++++++++ XGBoost 32 295 2\n"
          ]
        },
        {
          "output_type": "stream",
          "name": "stderr",
          "text": [
            "INFO:prophet:Disabling yearly seasonality. Run prophet with yearly_seasonality=True to override this.\n",
            "INFO:prophet:Disabling daily seasonality. Run prophet with daily_seasonality=True to override this.\n",
            "DEBUG:cmdstanpy:input tempfile: /tmp/tmpmo9k28to/m5hnoo2v.json\n",
            "DEBUG:cmdstanpy:input tempfile: /tmp/tmpmo9k28to/084w7kff.json\n",
            "DEBUG:cmdstanpy:idx 0\n",
            "DEBUG:cmdstanpy:running CmdStan, num_threads: None\n",
            "DEBUG:cmdstanpy:CmdStan args: ['/usr/local/lib/python3.10/dist-packages/prophet/stan_model/prophet_model.bin', 'random', 'seed=48616', 'data', 'file=/tmp/tmpmo9k28to/m5hnoo2v.json', 'init=/tmp/tmpmo9k28to/084w7kff.json', 'output', 'file=/tmp/tmpmo9k28to/prophet_modelwbx8y6f1/prophet_model-20230930121057.csv', 'method=optimize', 'algorithm=lbfgs', 'iter=10000']\n",
            "12:10:57 - cmdstanpy - INFO - Chain [1] start processing\n",
            "INFO:cmdstanpy:Chain [1] start processing\n",
            "12:10:57 - cmdstanpy - INFO - Chain [1] done processing\n",
            "INFO:cmdstanpy:Chain [1] done processing\n"
          ]
        },
        {
          "output_type": "stream",
          "name": "stdout",
          "text": [
            "+++++++++++++++++++++++++++++++++++++++++++++++++++++++++++++++++++++++++++++++++++++++ [('Prophet', 341.0125), ('ARIMA', 117.2712), ('ETS', 110.7078), ('XGBoost', 66.1867), ('Greykite', inf)]\n",
            "+++++++++++++++++++++++++++++++++++++++++++++++++++++++++++++++++++++++++++++++++++++++ XGBoost 33 297 2\n"
          ]
        },
        {
          "output_type": "stream",
          "name": "stderr",
          "text": [
            "INFO:prophet:Disabling yearly seasonality. Run prophet with yearly_seasonality=True to override this.\n",
            "INFO:prophet:Disabling daily seasonality. Run prophet with daily_seasonality=True to override this.\n",
            "DEBUG:cmdstanpy:input tempfile: /tmp/tmpmo9k28to/s7lixz1m.json\n",
            "DEBUG:cmdstanpy:input tempfile: /tmp/tmpmo9k28to/kstv20h1.json\n",
            "DEBUG:cmdstanpy:idx 0\n",
            "DEBUG:cmdstanpy:running CmdStan, num_threads: None\n",
            "DEBUG:cmdstanpy:CmdStan args: ['/usr/local/lib/python3.10/dist-packages/prophet/stan_model/prophet_model.bin', 'random', 'seed=58814', 'data', 'file=/tmp/tmpmo9k28to/s7lixz1m.json', 'init=/tmp/tmpmo9k28to/kstv20h1.json', 'output', 'file=/tmp/tmpmo9k28to/prophet_modellp600dyd/prophet_model-20230930121058.csv', 'method=optimize', 'algorithm=lbfgs', 'iter=10000']\n",
            "12:10:58 - cmdstanpy - INFO - Chain [1] start processing\n",
            "INFO:cmdstanpy:Chain [1] start processing\n",
            "12:10:58 - cmdstanpy - INFO - Chain [1] done processing\n",
            "INFO:cmdstanpy:Chain [1] done processing\n"
          ]
        },
        {
          "output_type": "stream",
          "name": "stdout",
          "text": [
            "+++++++++++++++++++++++++++++++++++++++++++++++++++++++++++++++++++++++++++++++++++++++ [('Prophet', 51.8068), ('ARIMA', 130.066), ('ETS', 269.5503), ('XGBoost', 157.7765), ('Greykite', inf)]\n",
            "+++++++++++++++++++++++++++++++++++++++++++++++++++++++++++++++++++++++++++++++++++++++ Prophet 34 299 2\n"
          ]
        },
        {
          "output_type": "stream",
          "name": "stderr",
          "text": [
            "INFO:prophet:Disabling yearly seasonality. Run prophet with yearly_seasonality=True to override this.\n",
            "INFO:prophet:Disabling daily seasonality. Run prophet with daily_seasonality=True to override this.\n",
            "DEBUG:cmdstanpy:input tempfile: /tmp/tmpmo9k28to/uc3r_onq.json\n",
            "DEBUG:cmdstanpy:input tempfile: /tmp/tmpmo9k28to/vlosouqj.json\n",
            "DEBUG:cmdstanpy:idx 0\n",
            "DEBUG:cmdstanpy:running CmdStan, num_threads: None\n",
            "DEBUG:cmdstanpy:CmdStan args: ['/usr/local/lib/python3.10/dist-packages/prophet/stan_model/prophet_model.bin', 'random', 'seed=25389', 'data', 'file=/tmp/tmpmo9k28to/uc3r_onq.json', 'init=/tmp/tmpmo9k28to/vlosouqj.json', 'output', 'file=/tmp/tmpmo9k28to/prophet_modelmbixcjnc/prophet_model-20230930121058.csv', 'method=optimize', 'algorithm=lbfgs', 'iter=10000']\n",
            "12:10:58 - cmdstanpy - INFO - Chain [1] start processing\n",
            "INFO:cmdstanpy:Chain [1] start processing\n",
            "12:10:58 - cmdstanpy - INFO - Chain [1] done processing\n",
            "INFO:cmdstanpy:Chain [1] done processing\n"
          ]
        },
        {
          "output_type": "stream",
          "name": "stdout",
          "text": [
            "+++++++++++++++++++++++++++++++++++++++++++++++++++++++++++++++++++++++++++++++++++++++ [('Prophet', 174.7998), ('ARIMA', 63.4501), ('ETS', 83.9942), ('XGBoost', 16.5168), ('Greykite', inf)]\n",
            "+++++++++++++++++++++++++++++++++++++++++++++++++++++++++++++++++++++++++++++++++++++++ XGBoost 35 301 2\n"
          ]
        },
        {
          "output_type": "stream",
          "name": "stderr",
          "text": [
            "INFO:prophet:Disabling yearly seasonality. Run prophet with yearly_seasonality=True to override this.\n",
            "INFO:prophet:Disabling daily seasonality. Run prophet with daily_seasonality=True to override this.\n",
            "DEBUG:cmdstanpy:input tempfile: /tmp/tmpmo9k28to/0ymg1w83.json\n",
            "DEBUG:cmdstanpy:input tempfile: /tmp/tmpmo9k28to/ftywjrcj.json\n",
            "DEBUG:cmdstanpy:idx 0\n",
            "DEBUG:cmdstanpy:running CmdStan, num_threads: None\n",
            "DEBUG:cmdstanpy:CmdStan args: ['/usr/local/lib/python3.10/dist-packages/prophet/stan_model/prophet_model.bin', 'random', 'seed=10196', 'data', 'file=/tmp/tmpmo9k28to/0ymg1w83.json', 'init=/tmp/tmpmo9k28to/ftywjrcj.json', 'output', 'file=/tmp/tmpmo9k28to/prophet_modelzu94cp75/prophet_model-20230930121059.csv', 'method=optimize', 'algorithm=lbfgs', 'iter=10000']\n",
            "12:10:59 - cmdstanpy - INFO - Chain [1] start processing\n",
            "INFO:cmdstanpy:Chain [1] start processing\n",
            "12:10:59 - cmdstanpy - INFO - Chain [1] done processing\n",
            "INFO:cmdstanpy:Chain [1] done processing\n"
          ]
        },
        {
          "output_type": "stream",
          "name": "stdout",
          "text": [
            "+++++++++++++++++++++++++++++++++++++++++++++++++++++++++++++++++++++++++++++++++++++++ [('Prophet', 176.2789), ('ARIMA', 39.4457), ('ETS', 43.8398), ('XGBoost', 45.309), ('Greykite', inf)]\n",
            "+++++++++++++++++++++++++++++++++++++++++++++++++++++++++++++++++++++++++++++++++++++++ ARIMA 36 303 2\n"
          ]
        },
        {
          "output_type": "stream",
          "name": "stderr",
          "text": [
            "INFO:prophet:Disabling yearly seasonality. Run prophet with yearly_seasonality=True to override this.\n",
            "INFO:prophet:Disabling daily seasonality. Run prophet with daily_seasonality=True to override this.\n",
            "DEBUG:cmdstanpy:input tempfile: /tmp/tmpmo9k28to/243x23hx.json\n",
            "DEBUG:cmdstanpy:input tempfile: /tmp/tmpmo9k28to/9riol4o9.json\n",
            "DEBUG:cmdstanpy:idx 0\n",
            "DEBUG:cmdstanpy:running CmdStan, num_threads: None\n",
            "DEBUG:cmdstanpy:CmdStan args: ['/usr/local/lib/python3.10/dist-packages/prophet/stan_model/prophet_model.bin', 'random', 'seed=97492', 'data', 'file=/tmp/tmpmo9k28to/243x23hx.json', 'init=/tmp/tmpmo9k28to/9riol4o9.json', 'output', 'file=/tmp/tmpmo9k28to/prophet_modelt8rlh3nd/prophet_model-20230930121100.csv', 'method=optimize', 'algorithm=lbfgs', 'iter=10000']\n",
            "12:11:00 - cmdstanpy - INFO - Chain [1] start processing\n",
            "INFO:cmdstanpy:Chain [1] start processing\n",
            "12:11:00 - cmdstanpy - INFO - Chain [1] done processing\n",
            "INFO:cmdstanpy:Chain [1] done processing\n"
          ]
        },
        {
          "output_type": "stream",
          "name": "stdout",
          "text": [
            "+++++++++++++++++++++++++++++++++++++++++++++++++++++++++++++++++++++++++++++++++++++++ [('Prophet', 110.327), ('ARIMA', 36.8082), ('ETS', 41.2451), ('XGBoost', 29.9326), ('Greykite', inf)]\n",
            "+++++++++++++++++++++++++++++++++++++++++++++++++++++++++++++++++++++++++++++++++++++++ XGBoost 37 305 2\n"
          ]
        },
        {
          "output_type": "stream",
          "name": "stderr",
          "text": [
            "INFO:prophet:Disabling yearly seasonality. Run prophet with yearly_seasonality=True to override this.\n",
            "INFO:prophet:Disabling daily seasonality. Run prophet with daily_seasonality=True to override this.\n",
            "DEBUG:cmdstanpy:input tempfile: /tmp/tmpmo9k28to/0w5004gs.json\n",
            "DEBUG:cmdstanpy:input tempfile: /tmp/tmpmo9k28to/c3u010qa.json\n",
            "DEBUG:cmdstanpy:idx 0\n",
            "DEBUG:cmdstanpy:running CmdStan, num_threads: None\n",
            "DEBUG:cmdstanpy:CmdStan args: ['/usr/local/lib/python3.10/dist-packages/prophet/stan_model/prophet_model.bin', 'random', 'seed=20422', 'data', 'file=/tmp/tmpmo9k28to/0w5004gs.json', 'init=/tmp/tmpmo9k28to/c3u010qa.json', 'output', 'file=/tmp/tmpmo9k28to/prophet_modelcgpwaodv/prophet_model-20230930121100.csv', 'method=optimize', 'algorithm=lbfgs', 'iter=10000']\n",
            "12:11:00 - cmdstanpy - INFO - Chain [1] start processing\n",
            "INFO:cmdstanpy:Chain [1] start processing\n",
            "12:11:00 - cmdstanpy - INFO - Chain [1] done processing\n",
            "INFO:cmdstanpy:Chain [1] done processing\n"
          ]
        },
        {
          "output_type": "stream",
          "name": "stdout",
          "text": [
            "+++++++++++++++++++++++++++++++++++++++++++++++++++++++++++++++++++++++++++++++++++++++ [('Prophet', 154.6709), ('ARIMA', 195.8157), ('ETS', 209.1493), ('XGBoost', 333.8012), ('Greykite', inf)]\n",
            "+++++++++++++++++++++++++++++++++++++++++++++++++++++++++++++++++++++++++++++++++++++++ Prophet 38 307 2\n"
          ]
        },
        {
          "output_type": "stream",
          "name": "stderr",
          "text": [
            "INFO:prophet:Disabling yearly seasonality. Run prophet with yearly_seasonality=True to override this.\n",
            "INFO:prophet:Disabling daily seasonality. Run prophet with daily_seasonality=True to override this.\n",
            "DEBUG:cmdstanpy:input tempfile: /tmp/tmpmo9k28to/13hfwuau.json\n",
            "DEBUG:cmdstanpy:input tempfile: /tmp/tmpmo9k28to/yrczi06_.json\n",
            "DEBUG:cmdstanpy:idx 0\n",
            "DEBUG:cmdstanpy:running CmdStan, num_threads: None\n",
            "DEBUG:cmdstanpy:CmdStan args: ['/usr/local/lib/python3.10/dist-packages/prophet/stan_model/prophet_model.bin', 'random', 'seed=14470', 'data', 'file=/tmp/tmpmo9k28to/13hfwuau.json', 'init=/tmp/tmpmo9k28to/yrczi06_.json', 'output', 'file=/tmp/tmpmo9k28to/prophet_model23b3m52f/prophet_model-20230930121101.csv', 'method=optimize', 'algorithm=lbfgs', 'iter=10000']\n",
            "12:11:01 - cmdstanpy - INFO - Chain [1] start processing\n",
            "INFO:cmdstanpy:Chain [1] start processing\n",
            "12:11:01 - cmdstanpy - INFO - Chain [1] done processing\n",
            "INFO:cmdstanpy:Chain [1] done processing\n"
          ]
        },
        {
          "output_type": "stream",
          "name": "stdout",
          "text": [
            "+++++++++++++++++++++++++++++++++++++++++++++++++++++++++++++++++++++++++++++++++++++++ [('Prophet', 160.4113), ('ARIMA', 12.0285), ('ETS', 46.3168), ('XGBoost', 37.5855), ('Greykite', inf)]\n",
            "+++++++++++++++++++++++++++++++++++++++++++++++++++++++++++++++++++++++++++++++++++++++ ARIMA 39 309 2\n"
          ]
        },
        {
          "output_type": "stream",
          "name": "stderr",
          "text": [
            "INFO:prophet:Disabling yearly seasonality. Run prophet with yearly_seasonality=True to override this.\n",
            "INFO:prophet:Disabling daily seasonality. Run prophet with daily_seasonality=True to override this.\n",
            "DEBUG:cmdstanpy:input tempfile: /tmp/tmpmo9k28to/jmjbh4jc.json\n",
            "DEBUG:cmdstanpy:input tempfile: /tmp/tmpmo9k28to/6he2cuzm.json\n",
            "DEBUG:cmdstanpy:idx 0\n",
            "DEBUG:cmdstanpy:running CmdStan, num_threads: None\n",
            "DEBUG:cmdstanpy:CmdStan args: ['/usr/local/lib/python3.10/dist-packages/prophet/stan_model/prophet_model.bin', 'random', 'seed=19161', 'data', 'file=/tmp/tmpmo9k28to/jmjbh4jc.json', 'init=/tmp/tmpmo9k28to/6he2cuzm.json', 'output', 'file=/tmp/tmpmo9k28to/prophet_modelk5n2z9if/prophet_model-20230930121102.csv', 'method=optimize', 'algorithm=lbfgs', 'iter=10000']\n",
            "12:11:02 - cmdstanpy - INFO - Chain [1] start processing\n",
            "INFO:cmdstanpy:Chain [1] start processing\n",
            "12:11:02 - cmdstanpy - INFO - Chain [1] done processing\n",
            "INFO:cmdstanpy:Chain [1] done processing\n"
          ]
        },
        {
          "output_type": "stream",
          "name": "stdout",
          "text": [
            "+++++++++++++++++++++++++++++++++++++++++++++++++++++++++++++++++++++++++++++++++++++++ [('Prophet', 185.3518), ('ARIMA', 13.491), ('ETS', 46.4576), ('XGBoost', 30.3512), ('Greykite', inf)]\n",
            "+++++++++++++++++++++++++++++++++++++++++++++++++++++++++++++++++++++++++++++++++++++++ ARIMA 40 311 2\n"
          ]
        },
        {
          "output_type": "stream",
          "name": "stderr",
          "text": [
            "INFO:prophet:Disabling yearly seasonality. Run prophet with yearly_seasonality=True to override this.\n",
            "INFO:prophet:Disabling daily seasonality. Run prophet with daily_seasonality=True to override this.\n",
            "DEBUG:cmdstanpy:input tempfile: /tmp/tmpmo9k28to/t4_x7443.json\n",
            "DEBUG:cmdstanpy:input tempfile: /tmp/tmpmo9k28to/fjka8rhe.json\n",
            "DEBUG:cmdstanpy:idx 0\n",
            "DEBUG:cmdstanpy:running CmdStan, num_threads: None\n",
            "DEBUG:cmdstanpy:CmdStan args: ['/usr/local/lib/python3.10/dist-packages/prophet/stan_model/prophet_model.bin', 'random', 'seed=25273', 'data', 'file=/tmp/tmpmo9k28to/t4_x7443.json', 'init=/tmp/tmpmo9k28to/fjka8rhe.json', 'output', 'file=/tmp/tmpmo9k28to/prophet_modelk60svqg8/prophet_model-20230930121102.csv', 'method=optimize', 'algorithm=lbfgs', 'iter=10000']\n",
            "12:11:02 - cmdstanpy - INFO - Chain [1] start processing\n",
            "INFO:cmdstanpy:Chain [1] start processing\n",
            "12:11:02 - cmdstanpy - INFO - Chain [1] done processing\n",
            "INFO:cmdstanpy:Chain [1] done processing\n"
          ]
        },
        {
          "output_type": "stream",
          "name": "stdout",
          "text": [
            "+++++++++++++++++++++++++++++++++++++++++++++++++++++++++++++++++++++++++++++++++++++++ [('Prophet', 98.1395), ('ARIMA', 254.7286), ('ETS', 239.9361), ('XGBoost', 252.4617), ('Greykite', inf)]\n",
            "+++++++++++++++++++++++++++++++++++++++++++++++++++++++++++++++++++++++++++++++++++++++ Prophet 41 313 2\n"
          ]
        },
        {
          "output_type": "stream",
          "name": "stderr",
          "text": [
            "INFO:prophet:Disabling yearly seasonality. Run prophet with yearly_seasonality=True to override this.\n",
            "INFO:prophet:Disabling daily seasonality. Run prophet with daily_seasonality=True to override this.\n",
            "DEBUG:cmdstanpy:input tempfile: /tmp/tmpmo9k28to/xnaa0kz5.json\n",
            "DEBUG:cmdstanpy:input tempfile: /tmp/tmpmo9k28to/0ys0plmx.json\n",
            "DEBUG:cmdstanpy:idx 0\n",
            "DEBUG:cmdstanpy:running CmdStan, num_threads: None\n",
            "DEBUG:cmdstanpy:CmdStan args: ['/usr/local/lib/python3.10/dist-packages/prophet/stan_model/prophet_model.bin', 'random', 'seed=33739', 'data', 'file=/tmp/tmpmo9k28to/xnaa0kz5.json', 'init=/tmp/tmpmo9k28to/0ys0plmx.json', 'output', 'file=/tmp/tmpmo9k28to/prophet_modelqw5civhy/prophet_model-20230930121103.csv', 'method=optimize', 'algorithm=lbfgs', 'iter=10000']\n",
            "12:11:03 - cmdstanpy - INFO - Chain [1] start processing\n",
            "INFO:cmdstanpy:Chain [1] start processing\n",
            "12:11:03 - cmdstanpy - INFO - Chain [1] done processing\n",
            "INFO:cmdstanpy:Chain [1] done processing\n"
          ]
        },
        {
          "output_type": "stream",
          "name": "stdout",
          "text": [
            "+++++++++++++++++++++++++++++++++++++++++++++++++++++++++++++++++++++++++++++++++++++++ [('Prophet', 168.9013), ('ARIMA', 36.1008), ('ETS', 51.4889), ('XGBoost', 18.8506), ('Greykite', inf)]\n",
            "+++++++++++++++++++++++++++++++++++++++++++++++++++++++++++++++++++++++++++++++++++++++ XGBoost 42 315 2\n"
          ]
        },
        {
          "output_type": "stream",
          "name": "stderr",
          "text": [
            "INFO:prophet:Disabling yearly seasonality. Run prophet with yearly_seasonality=True to override this.\n",
            "INFO:prophet:Disabling daily seasonality. Run prophet with daily_seasonality=True to override this.\n",
            "DEBUG:cmdstanpy:input tempfile: /tmp/tmpmo9k28to/1hpffe0p.json\n",
            "DEBUG:cmdstanpy:input tempfile: /tmp/tmpmo9k28to/3exylj_g.json\n",
            "DEBUG:cmdstanpy:idx 0\n",
            "DEBUG:cmdstanpy:running CmdStan, num_threads: None\n",
            "DEBUG:cmdstanpy:CmdStan args: ['/usr/local/lib/python3.10/dist-packages/prophet/stan_model/prophet_model.bin', 'random', 'seed=20053', 'data', 'file=/tmp/tmpmo9k28to/1hpffe0p.json', 'init=/tmp/tmpmo9k28to/3exylj_g.json', 'output', 'file=/tmp/tmpmo9k28to/prophet_modelr3xar5zu/prophet_model-20230930121105.csv', 'method=optimize', 'algorithm=lbfgs', 'iter=10000']\n",
            "12:11:05 - cmdstanpy - INFO - Chain [1] start processing\n",
            "INFO:cmdstanpy:Chain [1] start processing\n",
            "12:11:05 - cmdstanpy - INFO - Chain [1] done processing\n",
            "INFO:cmdstanpy:Chain [1] done processing\n"
          ]
        },
        {
          "output_type": "stream",
          "name": "stdout",
          "text": [
            "+++++++++++++++++++++++++++++++++++++++++++++++++++++++++++++++++++++++++++++++++++++++ [('Prophet', 160.51), ('ARIMA', 19.2878), ('ETS', 24.893), ('XGBoost', 22.4584), ('Greykite', inf)]\n",
            "+++++++++++++++++++++++++++++++++++++++++++++++++++++++++++++++++++++++++++++++++++++++ ARIMA 43 317 2\n"
          ]
        },
        {
          "output_type": "stream",
          "name": "stderr",
          "text": [
            "INFO:prophet:Disabling yearly seasonality. Run prophet with yearly_seasonality=True to override this.\n",
            "INFO:prophet:Disabling daily seasonality. Run prophet with daily_seasonality=True to override this.\n",
            "DEBUG:cmdstanpy:input tempfile: /tmp/tmpmo9k28to/nzqa4n7s.json\n",
            "DEBUG:cmdstanpy:input tempfile: /tmp/tmpmo9k28to/oxzczx6q.json\n",
            "DEBUG:cmdstanpy:idx 0\n",
            "DEBUG:cmdstanpy:running CmdStan, num_threads: None\n",
            "DEBUG:cmdstanpy:CmdStan args: ['/usr/local/lib/python3.10/dist-packages/prophet/stan_model/prophet_model.bin', 'random', 'seed=3475', 'data', 'file=/tmp/tmpmo9k28to/nzqa4n7s.json', 'init=/tmp/tmpmo9k28to/oxzczx6q.json', 'output', 'file=/tmp/tmpmo9k28to/prophet_modelmie5rce3/prophet_model-20230930121106.csv', 'method=optimize', 'algorithm=lbfgs', 'iter=10000']\n",
            "12:11:06 - cmdstanpy - INFO - Chain [1] start processing\n",
            "INFO:cmdstanpy:Chain [1] start processing\n",
            "12:11:06 - cmdstanpy - INFO - Chain [1] done processing\n",
            "INFO:cmdstanpy:Chain [1] done processing\n"
          ]
        },
        {
          "output_type": "stream",
          "name": "stdout",
          "text": [
            "+++++++++++++++++++++++++++++++++++++++++++++++++++++++++++++++++++++++++++++++++++++++ [('Prophet', 100.3736), ('ARIMA', 55.9193), ('ETS', 71.3068), ('XGBoost', 135.0479), ('Greykite', inf)]\n",
            "+++++++++++++++++++++++++++++++++++++++++++++++++++++++++++++++++++++++++++++++++++++++ ARIMA 44 319 2\n"
          ]
        },
        {
          "output_type": "stream",
          "name": "stderr",
          "text": [
            "INFO:prophet:Disabling yearly seasonality. Run prophet with yearly_seasonality=True to override this.\n",
            "INFO:prophet:Disabling daily seasonality. Run prophet with daily_seasonality=True to override this.\n",
            "DEBUG:cmdstanpy:input tempfile: /tmp/tmpmo9k28to/b7yxx128.json\n",
            "DEBUG:cmdstanpy:input tempfile: /tmp/tmpmo9k28to/kgtmy3fc.json\n",
            "DEBUG:cmdstanpy:idx 0\n",
            "DEBUG:cmdstanpy:running CmdStan, num_threads: None\n",
            "DEBUG:cmdstanpy:CmdStan args: ['/usr/local/lib/python3.10/dist-packages/prophet/stan_model/prophet_model.bin', 'random', 'seed=43095', 'data', 'file=/tmp/tmpmo9k28to/b7yxx128.json', 'init=/tmp/tmpmo9k28to/kgtmy3fc.json', 'output', 'file=/tmp/tmpmo9k28to/prophet_modelbqtvoxf4/prophet_model-20230930121107.csv', 'method=optimize', 'algorithm=lbfgs', 'iter=10000']\n",
            "12:11:07 - cmdstanpy - INFO - Chain [1] start processing\n",
            "INFO:cmdstanpy:Chain [1] start processing\n",
            "12:11:07 - cmdstanpy - INFO - Chain [1] done processing\n",
            "INFO:cmdstanpy:Chain [1] done processing\n"
          ]
        },
        {
          "output_type": "stream",
          "name": "stdout",
          "text": [
            "+++++++++++++++++++++++++++++++++++++++++++++++++++++++++++++++++++++++++++++++++++++++ [('Prophet', 219.013), ('ARIMA', 112.1653), ('ETS', 196.4988), ('XGBoost', 326.5729), ('Greykite', inf)]\n",
            "+++++++++++++++++++++++++++++++++++++++++++++++++++++++++++++++++++++++++++++++++++++++ ARIMA 45 321 2\n"
          ]
        },
        {
          "output_type": "stream",
          "name": "stderr",
          "text": [
            "INFO:prophet:Disabling yearly seasonality. Run prophet with yearly_seasonality=True to override this.\n",
            "INFO:prophet:Disabling daily seasonality. Run prophet with daily_seasonality=True to override this.\n",
            "DEBUG:cmdstanpy:input tempfile: /tmp/tmpmo9k28to/nlcyyiv0.json\n",
            "DEBUG:cmdstanpy:input tempfile: /tmp/tmpmo9k28to/ct7j_4mj.json\n",
            "DEBUG:cmdstanpy:idx 0\n",
            "DEBUG:cmdstanpy:running CmdStan, num_threads: None\n",
            "DEBUG:cmdstanpy:CmdStan args: ['/usr/local/lib/python3.10/dist-packages/prophet/stan_model/prophet_model.bin', 'random', 'seed=22556', 'data', 'file=/tmp/tmpmo9k28to/nlcyyiv0.json', 'init=/tmp/tmpmo9k28to/ct7j_4mj.json', 'output', 'file=/tmp/tmpmo9k28to/prophet_model08zw3i3m/prophet_model-20230930121108.csv', 'method=optimize', 'algorithm=lbfgs', 'iter=10000']\n",
            "12:11:08 - cmdstanpy - INFO - Chain [1] start processing\n",
            "INFO:cmdstanpy:Chain [1] start processing\n",
            "12:11:08 - cmdstanpy - INFO - Chain [1] done processing\n",
            "INFO:cmdstanpy:Chain [1] done processing\n"
          ]
        },
        {
          "output_type": "stream",
          "name": "stdout",
          "text": [
            "+++++++++++++++++++++++++++++++++++++++++++++++++++++++++++++++++++++++++++++++++++++++ [('Prophet', 136.2199), ('ARIMA', 12.9745), ('ETS', 21.5898), ('XGBoost', 19.2261), ('Greykite', inf)]\n",
            "+++++++++++++++++++++++++++++++++++++++++++++++++++++++++++++++++++++++++++++++++++++++ ARIMA 46 323 2\n"
          ]
        },
        {
          "output_type": "stream",
          "name": "stderr",
          "text": [
            "INFO:prophet:Disabling yearly seasonality. Run prophet with yearly_seasonality=True to override this.\n",
            "INFO:prophet:Disabling daily seasonality. Run prophet with daily_seasonality=True to override this.\n",
            "DEBUG:cmdstanpy:input tempfile: /tmp/tmpmo9k28to/f3movl9q.json\n",
            "DEBUG:cmdstanpy:input tempfile: /tmp/tmpmo9k28to/g_yjb8xm.json\n",
            "DEBUG:cmdstanpy:idx 0\n",
            "DEBUG:cmdstanpy:running CmdStan, num_threads: None\n",
            "DEBUG:cmdstanpy:CmdStan args: ['/usr/local/lib/python3.10/dist-packages/prophet/stan_model/prophet_model.bin', 'random', 'seed=79797', 'data', 'file=/tmp/tmpmo9k28to/f3movl9q.json', 'init=/tmp/tmpmo9k28to/g_yjb8xm.json', 'output', 'file=/tmp/tmpmo9k28to/prophet_modelym8_w9yf/prophet_model-20230930121109.csv', 'method=optimize', 'algorithm=lbfgs', 'iter=10000']\n",
            "12:11:09 - cmdstanpy - INFO - Chain [1] start processing\n",
            "INFO:cmdstanpy:Chain [1] start processing\n",
            "12:11:09 - cmdstanpy - INFO - Chain [1] done processing\n",
            "INFO:cmdstanpy:Chain [1] done processing\n"
          ]
        },
        {
          "output_type": "stream",
          "name": "stdout",
          "text": [
            "+++++++++++++++++++++++++++++++++++++++++++++++++++++++++++++++++++++++++++++++++++++++ [('Prophet', 172.4769), ('ARIMA', 52.0728), ('ETS', 45.6098), ('XGBoost', 37.293), ('Greykite', inf)]\n",
            "+++++++++++++++++++++++++++++++++++++++++++++++++++++++++++++++++++++++++++++++++++++++ XGBoost 47 325 2\n"
          ]
        },
        {
          "output_type": "stream",
          "name": "stderr",
          "text": [
            "INFO:prophet:Disabling yearly seasonality. Run prophet with yearly_seasonality=True to override this.\n",
            "INFO:prophet:Disabling daily seasonality. Run prophet with daily_seasonality=True to override this.\n",
            "DEBUG:cmdstanpy:input tempfile: /tmp/tmpmo9k28to/ulnrwlmt.json\n",
            "DEBUG:cmdstanpy:input tempfile: /tmp/tmpmo9k28to/dheqavyo.json\n",
            "DEBUG:cmdstanpy:idx 0\n",
            "DEBUG:cmdstanpy:running CmdStan, num_threads: None\n",
            "DEBUG:cmdstanpy:CmdStan args: ['/usr/local/lib/python3.10/dist-packages/prophet/stan_model/prophet_model.bin', 'random', 'seed=68231', 'data', 'file=/tmp/tmpmo9k28to/ulnrwlmt.json', 'init=/tmp/tmpmo9k28to/dheqavyo.json', 'output', 'file=/tmp/tmpmo9k28to/prophet_modelst_it8ul/prophet_model-20230930121109.csv', 'method=optimize', 'algorithm=lbfgs', 'iter=10000']\n",
            "12:11:09 - cmdstanpy - INFO - Chain [1] start processing\n",
            "INFO:cmdstanpy:Chain [1] start processing\n",
            "12:11:09 - cmdstanpy - INFO - Chain [1] done processing\n",
            "INFO:cmdstanpy:Chain [1] done processing\n"
          ]
        },
        {
          "output_type": "stream",
          "name": "stdout",
          "text": [
            "+++++++++++++++++++++++++++++++++++++++++++++++++++++++++++++++++++++++++++++++++++++++ [('Prophet', 569.0621), ('ARIMA', 408.7831), ('ETS', 485.1789), ('XGBoost', 657.9626), ('Greykite', inf)]\n",
            "+++++++++++++++++++++++++++++++++++++++++++++++++++++++++++++++++++++++++++++++++++++++ ARIMA 48 327 2\n"
          ]
        },
        {
          "output_type": "stream",
          "name": "stderr",
          "text": [
            "INFO:prophet:Disabling yearly seasonality. Run prophet with yearly_seasonality=True to override this.\n",
            "INFO:prophet:Disabling daily seasonality. Run prophet with daily_seasonality=True to override this.\n",
            "DEBUG:cmdstanpy:input tempfile: /tmp/tmpmo9k28to/mwaq9wtj.json\n",
            "DEBUG:cmdstanpy:input tempfile: /tmp/tmpmo9k28to/xnv9u0o3.json\n",
            "DEBUG:cmdstanpy:idx 0\n",
            "DEBUG:cmdstanpy:running CmdStan, num_threads: None\n",
            "DEBUG:cmdstanpy:CmdStan args: ['/usr/local/lib/python3.10/dist-packages/prophet/stan_model/prophet_model.bin', 'random', 'seed=8959', 'data', 'file=/tmp/tmpmo9k28to/mwaq9wtj.json', 'init=/tmp/tmpmo9k28to/xnv9u0o3.json', 'output', 'file=/tmp/tmpmo9k28to/prophet_modelpxrr3rcc/prophet_model-20230930121110.csv', 'method=optimize', 'algorithm=lbfgs', 'iter=10000']\n",
            "12:11:10 - cmdstanpy - INFO - Chain [1] start processing\n",
            "INFO:cmdstanpy:Chain [1] start processing\n",
            "12:11:10 - cmdstanpy - INFO - Chain [1] done processing\n",
            "INFO:cmdstanpy:Chain [1] done processing\n"
          ]
        },
        {
          "output_type": "stream",
          "name": "stdout",
          "text": [
            "+++++++++++++++++++++++++++++++++++++++++++++++++++++++++++++++++++++++++++++++++++++++ [('Prophet', 134.5122), ('ARIMA', 34.3152), ('ETS', 62.6962), ('XGBoost', 48.6075), ('Greykite', inf)]\n",
            "+++++++++++++++++++++++++++++++++++++++++++++++++++++++++++++++++++++++++++++++++++++++ ARIMA 49 329 2\n"
          ]
        },
        {
          "output_type": "stream",
          "name": "stderr",
          "text": [
            "INFO:prophet:Disabling yearly seasonality. Run prophet with yearly_seasonality=True to override this.\n",
            "INFO:prophet:Disabling daily seasonality. Run prophet with daily_seasonality=True to override this.\n",
            "DEBUG:cmdstanpy:input tempfile: /tmp/tmpmo9k28to/wjcjskls.json\n",
            "DEBUG:cmdstanpy:input tempfile: /tmp/tmpmo9k28to/4h92qwtq.json\n",
            "DEBUG:cmdstanpy:idx 0\n",
            "DEBUG:cmdstanpy:running CmdStan, num_threads: None\n",
            "DEBUG:cmdstanpy:CmdStan args: ['/usr/local/lib/python3.10/dist-packages/prophet/stan_model/prophet_model.bin', 'random', 'seed=16623', 'data', 'file=/tmp/tmpmo9k28to/wjcjskls.json', 'init=/tmp/tmpmo9k28to/4h92qwtq.json', 'output', 'file=/tmp/tmpmo9k28to/prophet_modelym_f43pt/prophet_model-20230930121110.csv', 'method=optimize', 'algorithm=lbfgs', 'iter=10000']\n",
            "12:11:10 - cmdstanpy - INFO - Chain [1] start processing\n",
            "INFO:cmdstanpy:Chain [1] start processing\n",
            "12:11:11 - cmdstanpy - INFO - Chain [1] done processing\n",
            "INFO:cmdstanpy:Chain [1] done processing\n"
          ]
        },
        {
          "output_type": "stream",
          "name": "stdout",
          "text": [
            "+++++++++++++++++++++++++++++++++++++++++++++++++++++++++++++++++++++++++++++++++++++++ [('Prophet', 109.8151), ('ARIMA', 24.4889), ('ETS', 36.084), ('XGBoost', 25.0929), ('Greykite', inf)]\n",
            "+++++++++++++++++++++++++++++++++++++++++++++++++++++++++++++++++++++++++++++++++++++++ ARIMA 50 331 2\n"
          ]
        },
        {
          "output_type": "stream",
          "name": "stderr",
          "text": [
            "INFO:prophet:Disabling yearly seasonality. Run prophet with yearly_seasonality=True to override this.\n",
            "INFO:prophet:Disabling daily seasonality. Run prophet with daily_seasonality=True to override this.\n",
            "DEBUG:cmdstanpy:input tempfile: /tmp/tmpmo9k28to/fgobttkn.json\n",
            "DEBUG:cmdstanpy:input tempfile: /tmp/tmpmo9k28to/hm2qmf9j.json\n",
            "DEBUG:cmdstanpy:idx 0\n",
            "DEBUG:cmdstanpy:running CmdStan, num_threads: None\n",
            "DEBUG:cmdstanpy:CmdStan args: ['/usr/local/lib/python3.10/dist-packages/prophet/stan_model/prophet_model.bin', 'random', 'seed=81058', 'data', 'file=/tmp/tmpmo9k28to/fgobttkn.json', 'init=/tmp/tmpmo9k28to/hm2qmf9j.json', 'output', 'file=/tmp/tmpmo9k28to/prophet_modelf591j7wb/prophet_model-20230930121111.csv', 'method=optimize', 'algorithm=lbfgs', 'iter=10000']\n",
            "12:11:11 - cmdstanpy - INFO - Chain [1] start processing\n",
            "INFO:cmdstanpy:Chain [1] start processing\n",
            "12:11:11 - cmdstanpy - INFO - Chain [1] done processing\n",
            "INFO:cmdstanpy:Chain [1] done processing\n"
          ]
        },
        {
          "output_type": "stream",
          "name": "stdout",
          "text": [
            "+++++++++++++++++++++++++++++++++++++++++++++++++++++++++++++++++++++++++++++++++++++++ [('Prophet', 201.4825), ('ARIMA', 95.6968), ('ETS', 146.1065), ('XGBoost', 1941.6367), ('Greykite', inf)]\n",
            "+++++++++++++++++++++++++++++++++++++++++++++++++++++++++++++++++++++++++++++++++++++++ ARIMA 51 333 2\n"
          ]
        },
        {
          "output_type": "stream",
          "name": "stderr",
          "text": [
            "INFO:prophet:Disabling yearly seasonality. Run prophet with yearly_seasonality=True to override this.\n",
            "INFO:prophet:Disabling daily seasonality. Run prophet with daily_seasonality=True to override this.\n",
            "DEBUG:cmdstanpy:input tempfile: /tmp/tmpmo9k28to/3xptbobk.json\n",
            "DEBUG:cmdstanpy:input tempfile: /tmp/tmpmo9k28to/lznsmm9x.json\n",
            "DEBUG:cmdstanpy:idx 0\n",
            "DEBUG:cmdstanpy:running CmdStan, num_threads: None\n",
            "DEBUG:cmdstanpy:CmdStan args: ['/usr/local/lib/python3.10/dist-packages/prophet/stan_model/prophet_model.bin', 'random', 'seed=63129', 'data', 'file=/tmp/tmpmo9k28to/3xptbobk.json', 'init=/tmp/tmpmo9k28to/lznsmm9x.json', 'output', 'file=/tmp/tmpmo9k28to/prophet_modelm34thlmd/prophet_model-20230930121112.csv', 'method=optimize', 'algorithm=lbfgs', 'iter=10000']\n",
            "12:11:12 - cmdstanpy - INFO - Chain [1] start processing\n"
          ]
        },
        {
          "output_type": "stream",
          "name": "stdout",
          "text": [
            "+++++++++++++++++++++++++++++++++++++++++++++++++++++++++++++++++++++++++++++++++++++++ [('Prophet', 230.2253), ('ARIMA', 84.0088), ('ETS', 136.6303), ('XGBoost', 251.974), ('Greykite', inf)]\n",
            "+++++++++++++++++++++++++++++++++++++++++++++++++++++++++++++++++++++++++++++++++++++++ ARIMA 52 335 2\n"
          ]
        },
        {
          "output_type": "stream",
          "name": "stderr",
          "text": [
            "INFO:cmdstanpy:Chain [1] start processing\n",
            "12:11:12 - cmdstanpy - INFO - Chain [1] done processing\n",
            "INFO:cmdstanpy:Chain [1] done processing\n",
            "INFO:prophet:Disabling yearly seasonality. Run prophet with yearly_seasonality=True to override this.\n",
            "INFO:prophet:Disabling daily seasonality. Run prophet with daily_seasonality=True to override this.\n",
            "DEBUG:cmdstanpy:input tempfile: /tmp/tmpmo9k28to/pqqbtguw.json\n",
            "DEBUG:cmdstanpy:input tempfile: /tmp/tmpmo9k28to/r_fh93de.json\n",
            "DEBUG:cmdstanpy:idx 0\n",
            "DEBUG:cmdstanpy:running CmdStan, num_threads: None\n",
            "DEBUG:cmdstanpy:CmdStan args: ['/usr/local/lib/python3.10/dist-packages/prophet/stan_model/prophet_model.bin', 'random', 'seed=19578', 'data', 'file=/tmp/tmpmo9k28to/pqqbtguw.json', 'init=/tmp/tmpmo9k28to/r_fh93de.json', 'output', 'file=/tmp/tmpmo9k28to/prophet_modelxuvligvs/prophet_model-20230930121113.csv', 'method=optimize', 'algorithm=lbfgs', 'iter=10000']\n",
            "12:11:13 - cmdstanpy - INFO - Chain [1] start processing\n",
            "INFO:cmdstanpy:Chain [1] start processing\n",
            "12:11:13 - cmdstanpy - INFO - Chain [1] done processing\n",
            "INFO:cmdstanpy:Chain [1] done processing\n"
          ]
        },
        {
          "output_type": "stream",
          "name": "stdout",
          "text": [
            "+++++++++++++++++++++++++++++++++++++++++++++++++++++++++++++++++++++++++++++++++++++++ [('Prophet', 108.5388), ('ARIMA', 22.5214), ('ETS', 66.8929), ('XGBoost', 12.413), ('Greykite', inf)]\n",
            "+++++++++++++++++++++++++++++++++++++++++++++++++++++++++++++++++++++++++++++++++++++++ XGBoost 53 337 2\n"
          ]
        },
        {
          "output_type": "stream",
          "name": "stderr",
          "text": [
            "INFO:prophet:Disabling yearly seasonality. Run prophet with yearly_seasonality=True to override this.\n",
            "INFO:prophet:Disabling daily seasonality. Run prophet with daily_seasonality=True to override this.\n",
            "DEBUG:cmdstanpy:input tempfile: /tmp/tmpmo9k28to/k9mbf1_a.json\n",
            "DEBUG:cmdstanpy:input tempfile: /tmp/tmpmo9k28to/jjcum9x2.json\n",
            "DEBUG:cmdstanpy:idx 0\n",
            "DEBUG:cmdstanpy:running CmdStan, num_threads: None\n",
            "DEBUG:cmdstanpy:CmdStan args: ['/usr/local/lib/python3.10/dist-packages/prophet/stan_model/prophet_model.bin', 'random', 'seed=24120', 'data', 'file=/tmp/tmpmo9k28to/k9mbf1_a.json', 'init=/tmp/tmpmo9k28to/jjcum9x2.json', 'output', 'file=/tmp/tmpmo9k28to/prophet_modelp3jckmu2/prophet_model-20230930121113.csv', 'method=optimize', 'algorithm=lbfgs', 'iter=10000']\n",
            "12:11:13 - cmdstanpy - INFO - Chain [1] start processing\n",
            "INFO:cmdstanpy:Chain [1] start processing\n",
            "12:11:13 - cmdstanpy - INFO - Chain [1] done processing\n",
            "INFO:cmdstanpy:Chain [1] done processing\n"
          ]
        },
        {
          "output_type": "stream",
          "name": "stdout",
          "text": [
            "+++++++++++++++++++++++++++++++++++++++++++++++++++++++++++++++++++++++++++++++++++++++ [('Prophet', 104.5245), ('ARIMA', 17.3255), ('ETS', 18.7412), ('XGBoost', 33.438), ('Greykite', inf)]\n",
            "+++++++++++++++++++++++++++++++++++++++++++++++++++++++++++++++++++++++++++++++++++++++ ARIMA 54 339 2\n"
          ]
        },
        {
          "output_type": "stream",
          "name": "stderr",
          "text": [
            "INFO:prophet:Disabling yearly seasonality. Run prophet with yearly_seasonality=True to override this.\n",
            "INFO:prophet:Disabling daily seasonality. Run prophet with daily_seasonality=True to override this.\n",
            "DEBUG:cmdstanpy:input tempfile: /tmp/tmpmo9k28to/7651zcqb.json\n",
            "DEBUG:cmdstanpy:input tempfile: /tmp/tmpmo9k28to/9mp96px8.json\n",
            "DEBUG:cmdstanpy:idx 0\n",
            "DEBUG:cmdstanpy:running CmdStan, num_threads: None\n",
            "DEBUG:cmdstanpy:CmdStan args: ['/usr/local/lib/python3.10/dist-packages/prophet/stan_model/prophet_model.bin', 'random', 'seed=2411', 'data', 'file=/tmp/tmpmo9k28to/7651zcqb.json', 'init=/tmp/tmpmo9k28to/9mp96px8.json', 'output', 'file=/tmp/tmpmo9k28to/prophet_model6l5xi7v4/prophet_model-20230930121114.csv', 'method=optimize', 'algorithm=lbfgs', 'iter=10000']\n",
            "12:11:14 - cmdstanpy - INFO - Chain [1] start processing\n",
            "INFO:cmdstanpy:Chain [1] start processing\n",
            "12:11:14 - cmdstanpy - INFO - Chain [1] done processing\n",
            "INFO:cmdstanpy:Chain [1] done processing\n"
          ]
        },
        {
          "output_type": "stream",
          "name": "stdout",
          "text": [
            "+++++++++++++++++++++++++++++++++++++++++++++++++++++++++++++++++++++++++++++++++++++++ [('Prophet', 375.0419), ('ARIMA', 380.1995), ('ETS', 373.0798), ('XGBoost', 460.9238), ('Greykite', inf)]\n",
            "+++++++++++++++++++++++++++++++++++++++++++++++++++++++++++++++++++++++++++++++++++++++ ETS 55 341 2\n"
          ]
        },
        {
          "output_type": "stream",
          "name": "stderr",
          "text": [
            "INFO:prophet:Disabling yearly seasonality. Run prophet with yearly_seasonality=True to override this.\n",
            "INFO:prophet:Disabling daily seasonality. Run prophet with daily_seasonality=True to override this.\n",
            "DEBUG:cmdstanpy:input tempfile: /tmp/tmpmo9k28to/nov9w8l9.json\n",
            "DEBUG:cmdstanpy:input tempfile: /tmp/tmpmo9k28to/o_jjs584.json\n",
            "DEBUG:cmdstanpy:idx 0\n",
            "DEBUG:cmdstanpy:running CmdStan, num_threads: None\n",
            "DEBUG:cmdstanpy:CmdStan args: ['/usr/local/lib/python3.10/dist-packages/prophet/stan_model/prophet_model.bin', 'random', 'seed=49014', 'data', 'file=/tmp/tmpmo9k28to/nov9w8l9.json', 'init=/tmp/tmpmo9k28to/o_jjs584.json', 'output', 'file=/tmp/tmpmo9k28to/prophet_modelf16j6due/prophet_model-20230930121115.csv', 'method=optimize', 'algorithm=lbfgs', 'iter=10000']\n",
            "12:11:15 - cmdstanpy - INFO - Chain [1] start processing\n",
            "INFO:cmdstanpy:Chain [1] start processing\n",
            "12:11:15 - cmdstanpy - INFO - Chain [1] done processing\n",
            "INFO:cmdstanpy:Chain [1] done processing\n"
          ]
        },
        {
          "output_type": "stream",
          "name": "stdout",
          "text": [
            "+++++++++++++++++++++++++++++++++++++++++++++++++++++++++++++++++++++++++++++++++++++++ [('Prophet', 98.2451), ('ARIMA', 24.9313), ('ETS', 42.8504), ('XGBoost', 23.2828), ('Greykite', inf)]\n",
            "+++++++++++++++++++++++++++++++++++++++++++++++++++++++++++++++++++++++++++++++++++++++ XGBoost 56 343 2\n"
          ]
        },
        {
          "output_type": "stream",
          "name": "stderr",
          "text": [
            "INFO:prophet:Disabling yearly seasonality. Run prophet with yearly_seasonality=True to override this.\n",
            "INFO:prophet:Disabling daily seasonality. Run prophet with daily_seasonality=True to override this.\n",
            "DEBUG:cmdstanpy:input tempfile: /tmp/tmpmo9k28to/irqt0tsu.json\n",
            "DEBUG:cmdstanpy:input tempfile: /tmp/tmpmo9k28to/nqpht2w4.json\n",
            "DEBUG:cmdstanpy:idx 0\n",
            "DEBUG:cmdstanpy:running CmdStan, num_threads: None\n",
            "DEBUG:cmdstanpy:CmdStan args: ['/usr/local/lib/python3.10/dist-packages/prophet/stan_model/prophet_model.bin', 'random', 'seed=50893', 'data', 'file=/tmp/tmpmo9k28to/irqt0tsu.json', 'init=/tmp/tmpmo9k28to/nqpht2w4.json', 'output', 'file=/tmp/tmpmo9k28to/prophet_model_wlfcbfo/prophet_model-20230930121115.csv', 'method=optimize', 'algorithm=lbfgs', 'iter=10000']\n",
            "12:11:15 - cmdstanpy - INFO - Chain [1] start processing\n",
            "INFO:cmdstanpy:Chain [1] start processing\n",
            "12:11:15 - cmdstanpy - INFO - Chain [1] done processing\n",
            "INFO:cmdstanpy:Chain [1] done processing\n"
          ]
        },
        {
          "output_type": "stream",
          "name": "stdout",
          "text": [
            "+++++++++++++++++++++++++++++++++++++++++++++++++++++++++++++++++++++++++++++++++++++++ [('Prophet', 92.0964), ('ARIMA', 17.3592), ('ETS', 7.5225), ('XGBoost', 53.9359), ('Greykite', inf)]\n",
            "+++++++++++++++++++++++++++++++++++++++++++++++++++++++++++++++++++++++++++++++++++++++ ETS 57 345 2\n"
          ]
        },
        {
          "output_type": "stream",
          "name": "stderr",
          "text": [
            "INFO:prophet:Disabling yearly seasonality. Run prophet with yearly_seasonality=True to override this.\n",
            "INFO:prophet:Disabling daily seasonality. Run prophet with daily_seasonality=True to override this.\n",
            "DEBUG:cmdstanpy:input tempfile: /tmp/tmpmo9k28to/kzmk0teu.json\n",
            "DEBUG:cmdstanpy:input tempfile: /tmp/tmpmo9k28to/x4dnkib2.json\n",
            "DEBUG:cmdstanpy:idx 0\n",
            "DEBUG:cmdstanpy:running CmdStan, num_threads: None\n",
            "DEBUG:cmdstanpy:CmdStan args: ['/usr/local/lib/python3.10/dist-packages/prophet/stan_model/prophet_model.bin', 'random', 'seed=94102', 'data', 'file=/tmp/tmpmo9k28to/kzmk0teu.json', 'init=/tmp/tmpmo9k28to/x4dnkib2.json', 'output', 'file=/tmp/tmpmo9k28to/prophet_modeliegcdviq/prophet_model-20230930121116.csv', 'method=optimize', 'algorithm=lbfgs', 'iter=10000']\n",
            "12:11:16 - cmdstanpy - INFO - Chain [1] start processing\n",
            "INFO:cmdstanpy:Chain [1] start processing\n",
            "12:11:16 - cmdstanpy - INFO - Chain [1] done processing\n",
            "INFO:cmdstanpy:Chain [1] done processing\n"
          ]
        },
        {
          "output_type": "stream",
          "name": "stdout",
          "text": [
            "+++++++++++++++++++++++++++++++++++++++++++++++++++++++++++++++++++++++++++++++++++++++ [('Prophet', 113.5205), ('ARIMA', 37.3028), ('ETS', 109.7358), ('XGBoost', 29.2426), ('Greykite', inf)]\n",
            "+++++++++++++++++++++++++++++++++++++++++++++++++++++++++++++++++++++++++++++++++++++++ XGBoost 58 347 2\n"
          ]
        },
        {
          "output_type": "stream",
          "name": "stderr",
          "text": [
            "INFO:prophet:Disabling yearly seasonality. Run prophet with yearly_seasonality=True to override this.\n",
            "INFO:prophet:Disabling daily seasonality. Run prophet with daily_seasonality=True to override this.\n",
            "DEBUG:cmdstanpy:input tempfile: /tmp/tmpmo9k28to/exxev7xn.json\n",
            "DEBUG:cmdstanpy:input tempfile: /tmp/tmpmo9k28to/g8svrcpv.json\n",
            "DEBUG:cmdstanpy:idx 0\n",
            "DEBUG:cmdstanpy:running CmdStan, num_threads: None\n",
            "DEBUG:cmdstanpy:CmdStan args: ['/usr/local/lib/python3.10/dist-packages/prophet/stan_model/prophet_model.bin', 'random', 'seed=14142', 'data', 'file=/tmp/tmpmo9k28to/exxev7xn.json', 'init=/tmp/tmpmo9k28to/g8svrcpv.json', 'output', 'file=/tmp/tmpmo9k28to/prophet_model0y2zdhlz/prophet_model-20230930121117.csv', 'method=optimize', 'algorithm=lbfgs', 'iter=10000']\n",
            "12:11:17 - cmdstanpy - INFO - Chain [1] start processing\n",
            "INFO:cmdstanpy:Chain [1] start processing\n",
            "12:11:17 - cmdstanpy - INFO - Chain [1] done processing\n",
            "INFO:cmdstanpy:Chain [1] done processing\n"
          ]
        },
        {
          "output_type": "stream",
          "name": "stdout",
          "text": [
            "+++++++++++++++++++++++++++++++++++++++++++++++++++++++++++++++++++++++++++++++++++++++ [('Prophet', 253.4021), ('ARIMA', 93.2254), ('ETS', 101.984), ('XGBoost', 282.1652), ('Greykite', inf)]\n",
            "+++++++++++++++++++++++++++++++++++++++++++++++++++++++++++++++++++++++++++++++++++++++ ARIMA 59 349 2\n"
          ]
        },
        {
          "output_type": "stream",
          "name": "stderr",
          "text": [
            "INFO:prophet:Disabling yearly seasonality. Run prophet with yearly_seasonality=True to override this.\n",
            "INFO:prophet:Disabling daily seasonality. Run prophet with daily_seasonality=True to override this.\n",
            "DEBUG:cmdstanpy:input tempfile: /tmp/tmpmo9k28to/a5m8p001.json\n",
            "DEBUG:cmdstanpy:input tempfile: /tmp/tmpmo9k28to/la3z_591.json\n",
            "DEBUG:cmdstanpy:idx 0\n",
            "DEBUG:cmdstanpy:running CmdStan, num_threads: None\n",
            "DEBUG:cmdstanpy:CmdStan args: ['/usr/local/lib/python3.10/dist-packages/prophet/stan_model/prophet_model.bin', 'random', 'seed=56498', 'data', 'file=/tmp/tmpmo9k28to/a5m8p001.json', 'init=/tmp/tmpmo9k28to/la3z_591.json', 'output', 'file=/tmp/tmpmo9k28to/prophet_modelc3_h94fr/prophet_model-20230930121118.csv', 'method=optimize', 'algorithm=lbfgs', 'iter=10000']\n",
            "12:11:18 - cmdstanpy - INFO - Chain [1] start processing\n",
            "INFO:cmdstanpy:Chain [1] start processing\n",
            "12:11:18 - cmdstanpy - INFO - Chain [1] done processing\n",
            "INFO:cmdstanpy:Chain [1] done processing\n"
          ]
        },
        {
          "output_type": "stream",
          "name": "stdout",
          "text": [
            "+++++++++++++++++++++++++++++++++++++++++++++++++++++++++++++++++++++++++++++++++++++++ [('Prophet', 86.7241), ('ARIMA', 22.7139), ('ETS', 52.9448), ('XGBoost', 7.7214), ('Greykite', inf)]\n",
            "+++++++++++++++++++++++++++++++++++++++++++++++++++++++++++++++++++++++++++++++++++++++ XGBoost 60 351 2\n"
          ]
        },
        {
          "output_type": "stream",
          "name": "stderr",
          "text": [
            "INFO:prophet:Disabling yearly seasonality. Run prophet with yearly_seasonality=True to override this.\n",
            "INFO:prophet:Disabling daily seasonality. Run prophet with daily_seasonality=True to override this.\n",
            "DEBUG:cmdstanpy:input tempfile: /tmp/tmpmo9k28to/4gdzak_l.json\n",
            "DEBUG:cmdstanpy:input tempfile: /tmp/tmpmo9k28to/h4_yd1ki.json\n",
            "DEBUG:cmdstanpy:idx 0\n",
            "DEBUG:cmdstanpy:running CmdStan, num_threads: None\n",
            "DEBUG:cmdstanpy:CmdStan args: ['/usr/local/lib/python3.10/dist-packages/prophet/stan_model/prophet_model.bin', 'random', 'seed=93115', 'data', 'file=/tmp/tmpmo9k28to/4gdzak_l.json', 'init=/tmp/tmpmo9k28to/h4_yd1ki.json', 'output', 'file=/tmp/tmpmo9k28to/prophet_modeltqxy_fb8/prophet_model-20230930121119.csv', 'method=optimize', 'algorithm=lbfgs', 'iter=10000']\n",
            "12:11:19 - cmdstanpy - INFO - Chain [1] start processing\n",
            "INFO:cmdstanpy:Chain [1] start processing\n",
            "12:11:19 - cmdstanpy - INFO - Chain [1] done processing\n",
            "INFO:cmdstanpy:Chain [1] done processing\n"
          ]
        },
        {
          "output_type": "stream",
          "name": "stdout",
          "text": [
            "+++++++++++++++++++++++++++++++++++++++++++++++++++++++++++++++++++++++++++++++++++++++ [('Prophet', 85.6014), ('ARIMA', 27.2359), ('ETS', 25.844), ('XGBoost', 15.1054), ('Greykite', inf)]\n",
            "+++++++++++++++++++++++++++++++++++++++++++++++++++++++++++++++++++++++++++++++++++++++ XGBoost 61 353 2\n"
          ]
        },
        {
          "output_type": "stream",
          "name": "stderr",
          "text": [
            "INFO:prophet:Disabling yearly seasonality. Run prophet with yearly_seasonality=True to override this.\n",
            "INFO:prophet:Disabling daily seasonality. Run prophet with daily_seasonality=True to override this.\n",
            "DEBUG:cmdstanpy:input tempfile: /tmp/tmpmo9k28to/_6c11lgr.json\n",
            "DEBUG:cmdstanpy:input tempfile: /tmp/tmpmo9k28to/ytisfwij.json\n",
            "DEBUG:cmdstanpy:idx 0\n",
            "DEBUG:cmdstanpy:running CmdStan, num_threads: None\n",
            "DEBUG:cmdstanpy:CmdStan args: ['/usr/local/lib/python3.10/dist-packages/prophet/stan_model/prophet_model.bin', 'random', 'seed=35354', 'data', 'file=/tmp/tmpmo9k28to/_6c11lgr.json', 'init=/tmp/tmpmo9k28to/ytisfwij.json', 'output', 'file=/tmp/tmpmo9k28to/prophet_modeltzkha95_/prophet_model-20230930121125.csv', 'method=optimize', 'algorithm=lbfgs', 'iter=10000']\n",
            "12:11:25 - cmdstanpy - INFO - Chain [1] start processing\n",
            "INFO:cmdstanpy:Chain [1] start processing\n",
            "12:11:25 - cmdstanpy - INFO - Chain [1] done processing\n",
            "INFO:cmdstanpy:Chain [1] done processing\n"
          ]
        },
        {
          "output_type": "stream",
          "name": "stdout",
          "text": [
            "+++++++++++++++++++++++++++++++++++++++++++++++++++++++++++++++++++++++++++++++++++++++ [('Prophet', 345.3563), ('ARIMA', 42.4355), ('ETS', 245.1714), ('XGBoost', 256.5001), ('Greykite', inf)]\n",
            "+++++++++++++++++++++++++++++++++++++++++++++++++++++++++++++++++++++++++++++++++++++++ ARIMA 62 355 2\n"
          ]
        },
        {
          "output_type": "stream",
          "name": "stderr",
          "text": [
            "INFO:prophet:Disabling yearly seasonality. Run prophet with yearly_seasonality=True to override this.\n",
            "INFO:prophet:Disabling daily seasonality. Run prophet with daily_seasonality=True to override this.\n",
            "DEBUG:cmdstanpy:input tempfile: /tmp/tmpmo9k28to/50yqrqqb.json\n",
            "DEBUG:cmdstanpy:input tempfile: /tmp/tmpmo9k28to/3xmsm7cv.json\n",
            "DEBUG:cmdstanpy:idx 0\n",
            "DEBUG:cmdstanpy:running CmdStan, num_threads: None\n",
            "DEBUG:cmdstanpy:CmdStan args: ['/usr/local/lib/python3.10/dist-packages/prophet/stan_model/prophet_model.bin', 'random', 'seed=1328', 'data', 'file=/tmp/tmpmo9k28to/50yqrqqb.json', 'init=/tmp/tmpmo9k28to/3xmsm7cv.json', 'output', 'file=/tmp/tmpmo9k28to/prophet_model9p6_9fpu/prophet_model-20230930121128.csv', 'method=optimize', 'algorithm=lbfgs', 'iter=10000']\n",
            "12:11:28 - cmdstanpy - INFO - Chain [1] start processing\n",
            "INFO:cmdstanpy:Chain [1] start processing\n",
            "12:11:28 - cmdstanpy - INFO - Chain [1] done processing\n",
            "INFO:cmdstanpy:Chain [1] done processing\n"
          ]
        },
        {
          "output_type": "stream",
          "name": "stdout",
          "text": [
            "+++++++++++++++++++++++++++++++++++++++++++++++++++++++++++++++++++++++++++++++++++++++ [('Prophet', 83.4662), ('ARIMA', 20.6803), ('ETS', 46.6816), ('XGBoost', 20.8544), ('Greykite', inf)]\n",
            "+++++++++++++++++++++++++++++++++++++++++++++++++++++++++++++++++++++++++++++++++++++++ ARIMA 63 357 2\n"
          ]
        },
        {
          "output_type": "stream",
          "name": "stderr",
          "text": [
            "INFO:prophet:Disabling yearly seasonality. Run prophet with yearly_seasonality=True to override this.\n",
            "INFO:prophet:Disabling daily seasonality. Run prophet with daily_seasonality=True to override this.\n",
            "DEBUG:cmdstanpy:input tempfile: /tmp/tmpmo9k28to/y5021yfl.json\n",
            "DEBUG:cmdstanpy:input tempfile: /tmp/tmpmo9k28to/wamz44hk.json\n",
            "DEBUG:cmdstanpy:idx 0\n",
            "DEBUG:cmdstanpy:running CmdStan, num_threads: None\n",
            "DEBUG:cmdstanpy:CmdStan args: ['/usr/local/lib/python3.10/dist-packages/prophet/stan_model/prophet_model.bin', 'random', 'seed=64826', 'data', 'file=/tmp/tmpmo9k28to/y5021yfl.json', 'init=/tmp/tmpmo9k28to/wamz44hk.json', 'output', 'file=/tmp/tmpmo9k28to/prophet_modeleczbnere/prophet_model-20230930121129.csv', 'method=optimize', 'algorithm=lbfgs', 'iter=10000']\n",
            "12:11:29 - cmdstanpy - INFO - Chain [1] start processing\n",
            "INFO:cmdstanpy:Chain [1] start processing\n",
            "12:11:29 - cmdstanpy - INFO - Chain [1] done processing\n",
            "INFO:cmdstanpy:Chain [1] done processing\n"
          ]
        },
        {
          "output_type": "stream",
          "name": "stdout",
          "text": [
            "+++++++++++++++++++++++++++++++++++++++++++++++++++++++++++++++++++++++++++++++++++++++ [('Prophet', 73.4892), ('ARIMA', 13.9869), ('ETS', 27.9), ('XGBoost', 50.887), ('Greykite', inf)]\n",
            "+++++++++++++++++++++++++++++++++++++++++++++++++++++++++++++++++++++++++++++++++++++++ ARIMA 64 359 2\n"
          ]
        },
        {
          "output_type": "stream",
          "name": "stderr",
          "text": [
            "INFO:prophet:Disabling yearly seasonality. Run prophet with yearly_seasonality=True to override this.\n",
            "INFO:prophet:Disabling daily seasonality. Run prophet with daily_seasonality=True to override this.\n",
            "DEBUG:cmdstanpy:input tempfile: /tmp/tmpmo9k28to/w809tns5.json\n",
            "DEBUG:cmdstanpy:input tempfile: /tmp/tmpmo9k28to/_vk5zh_j.json\n",
            "DEBUG:cmdstanpy:idx 0\n",
            "DEBUG:cmdstanpy:running CmdStan, num_threads: None\n",
            "DEBUG:cmdstanpy:CmdStan args: ['/usr/local/lib/python3.10/dist-packages/prophet/stan_model/prophet_model.bin', 'random', 'seed=68026', 'data', 'file=/tmp/tmpmo9k28to/w809tns5.json', 'init=/tmp/tmpmo9k28to/_vk5zh_j.json', 'output', 'file=/tmp/tmpmo9k28to/prophet_modelchnky49v/prophet_model-20230930121133.csv', 'method=optimize', 'algorithm=lbfgs', 'iter=10000']\n",
            "12:11:33 - cmdstanpy - INFO - Chain [1] start processing\n",
            "INFO:cmdstanpy:Chain [1] start processing\n",
            "12:11:33 - cmdstanpy - INFO - Chain [1] done processing\n",
            "INFO:cmdstanpy:Chain [1] done processing\n"
          ]
        },
        {
          "output_type": "stream",
          "name": "stdout",
          "text": [
            "+++++++++++++++++++++++++++++++++++++++++++++++++++++++++++++++++++++++++++++++++++++++ [('Prophet', 113.7263), ('ARIMA', 1.8811), ('ETS', 40.134), ('XGBoost', 22.001), ('Greykite', inf)]\n",
            "+++++++++++++++++++++++++++++++++++++++++++++++++++++++++++++++++++++++++++++++++++++++ ARIMA 65 361 2\n"
          ]
        },
        {
          "output_type": "stream",
          "name": "stderr",
          "text": [
            "INFO:prophet:Disabling yearly seasonality. Run prophet with yearly_seasonality=True to override this.\n",
            "INFO:prophet:Disabling daily seasonality. Run prophet with daily_seasonality=True to override this.\n",
            "DEBUG:cmdstanpy:input tempfile: /tmp/tmpmo9k28to/48hpowsm.json\n",
            "DEBUG:cmdstanpy:input tempfile: /tmp/tmpmo9k28to/be4eahc5.json\n",
            "DEBUG:cmdstanpy:idx 0\n",
            "DEBUG:cmdstanpy:running CmdStan, num_threads: None\n",
            "DEBUG:cmdstanpy:CmdStan args: ['/usr/local/lib/python3.10/dist-packages/prophet/stan_model/prophet_model.bin', 'random', 'seed=48306', 'data', 'file=/tmp/tmpmo9k28to/48hpowsm.json', 'init=/tmp/tmpmo9k28to/be4eahc5.json', 'output', 'file=/tmp/tmpmo9k28to/prophet_modeltfq3b9oj/prophet_model-20230930121139.csv', 'method=optimize', 'algorithm=lbfgs', 'iter=10000']\n",
            "12:11:39 - cmdstanpy - INFO - Chain [1] start processing\n",
            "INFO:cmdstanpy:Chain [1] start processing\n",
            "12:11:39 - cmdstanpy - INFO - Chain [1] done processing\n",
            "INFO:cmdstanpy:Chain [1] done processing\n"
          ]
        },
        {
          "output_type": "stream",
          "name": "stdout",
          "text": [
            "+++++++++++++++++++++++++++++++++++++++++++++++++++++++++++++++++++++++++++++++++++++++ [('Prophet', 260.4308), ('ARIMA', 29.217), ('ETS', 135.673), ('XGBoost', 1267.7303), ('Greykite', inf)]\n",
            "+++++++++++++++++++++++++++++++++++++++++++++++++++++++++++++++++++++++++++++++++++++++ ARIMA 66 363 2\n"
          ]
        },
        {
          "output_type": "stream",
          "name": "stderr",
          "text": [
            "INFO:prophet:Disabling yearly seasonality. Run prophet with yearly_seasonality=True to override this.\n",
            "INFO:prophet:Disabling daily seasonality. Run prophet with daily_seasonality=True to override this.\n",
            "DEBUG:cmdstanpy:input tempfile: /tmp/tmpmo9k28to/3olx17yd.json\n",
            "DEBUG:cmdstanpy:input tempfile: /tmp/tmpmo9k28to/pmsh98hs.json\n",
            "DEBUG:cmdstanpy:idx 0\n",
            "DEBUG:cmdstanpy:running CmdStan, num_threads: None\n",
            "DEBUG:cmdstanpy:CmdStan args: ['/usr/local/lib/python3.10/dist-packages/prophet/stan_model/prophet_model.bin', 'random', 'seed=82799', 'data', 'file=/tmp/tmpmo9k28to/3olx17yd.json', 'init=/tmp/tmpmo9k28to/pmsh98hs.json', 'output', 'file=/tmp/tmpmo9k28to/prophet_model49_cutpy/prophet_model-20230930121143.csv', 'method=optimize', 'algorithm=lbfgs', 'iter=10000']\n",
            "12:11:43 - cmdstanpy - INFO - Chain [1] start processing\n",
            "INFO:cmdstanpy:Chain [1] start processing\n",
            "12:11:43 - cmdstanpy - INFO - Chain [1] done processing\n",
            "INFO:cmdstanpy:Chain [1] done processing\n"
          ]
        },
        {
          "output_type": "stream",
          "name": "stdout",
          "text": [
            "+++++++++++++++++++++++++++++++++++++++++++++++++++++++++++++++++++++++++++++++++++++++ [('Prophet', 73.8575), ('ARIMA', 3.7285), ('ETS', 43.4324), ('XGBoost', 6.1123), ('Greykite', inf)]\n",
            "+++++++++++++++++++++++++++++++++++++++++++++++++++++++++++++++++++++++++++++++++++++++ ARIMA 67 365 2\n"
          ]
        },
        {
          "output_type": "stream",
          "name": "stderr",
          "text": [
            "INFO:prophet:Disabling yearly seasonality. Run prophet with yearly_seasonality=True to override this.\n",
            "INFO:prophet:Disabling daily seasonality. Run prophet with daily_seasonality=True to override this.\n",
            "DEBUG:cmdstanpy:input tempfile: /tmp/tmpmo9k28to/d5b5guri.json\n",
            "DEBUG:cmdstanpy:input tempfile: /tmp/tmpmo9k28to/_kglk3lb.json\n",
            "DEBUG:cmdstanpy:idx 0\n",
            "DEBUG:cmdstanpy:running CmdStan, num_threads: None\n",
            "DEBUG:cmdstanpy:CmdStan args: ['/usr/local/lib/python3.10/dist-packages/prophet/stan_model/prophet_model.bin', 'random', 'seed=11483', 'data', 'file=/tmp/tmpmo9k28to/d5b5guri.json', 'init=/tmp/tmpmo9k28to/_kglk3lb.json', 'output', 'file=/tmp/tmpmo9k28to/prophet_model2gkr5p7s/prophet_model-20230930121147.csv', 'method=optimize', 'algorithm=lbfgs', 'iter=10000']\n",
            "12:11:47 - cmdstanpy - INFO - Chain [1] start processing\n",
            "INFO:cmdstanpy:Chain [1] start processing\n",
            "12:11:48 - cmdstanpy - INFO - Chain [1] done processing\n",
            "INFO:cmdstanpy:Chain [1] done processing\n"
          ]
        },
        {
          "output_type": "stream",
          "name": "stdout",
          "text": [
            "+++++++++++++++++++++++++++++++++++++++++++++++++++++++++++++++++++++++++++++++++++++++ [('Prophet', 71.6912), ('ARIMA', 3.245), ('ETS', 11.6764), ('XGBoost', 13.7246), ('Greykite', inf)]\n",
            "+++++++++++++++++++++++++++++++++++++++++++++++++++++++++++++++++++++++++++++++++++++++ ARIMA 68 367 2\n"
          ]
        },
        {
          "output_type": "stream",
          "name": "stderr",
          "text": [
            "INFO:prophet:Disabling yearly seasonality. Run prophet with yearly_seasonality=True to override this.\n",
            "INFO:prophet:Disabling daily seasonality. Run prophet with daily_seasonality=True to override this.\n",
            "DEBUG:cmdstanpy:input tempfile: /tmp/tmpmo9k28to/4gexsib_.json\n",
            "DEBUG:cmdstanpy:input tempfile: /tmp/tmpmo9k28to/9khxdwqg.json\n",
            "DEBUG:cmdstanpy:idx 0\n",
            "DEBUG:cmdstanpy:running CmdStan, num_threads: None\n",
            "DEBUG:cmdstanpy:CmdStan args: ['/usr/local/lib/python3.10/dist-packages/prophet/stan_model/prophet_model.bin', 'random', 'seed=23385', 'data', 'file=/tmp/tmpmo9k28to/4gexsib_.json', 'init=/tmp/tmpmo9k28to/9khxdwqg.json', 'output', 'file=/tmp/tmpmo9k28to/prophet_modely67kmu7z/prophet_model-20230930121155.csv', 'method=optimize', 'algorithm=lbfgs', 'iter=10000']\n",
            "12:11:55 - cmdstanpy - INFO - Chain [1] start processing\n",
            "INFO:cmdstanpy:Chain [1] start processing\n",
            "12:11:55 - cmdstanpy - INFO - Chain [1] done processing\n",
            "INFO:cmdstanpy:Chain [1] done processing\n"
          ]
        },
        {
          "output_type": "stream",
          "name": "stdout",
          "text": [
            "+++++++++++++++++++++++++++++++++++++++++++++++++++++++++++++++++++++++++++++++++++++++ [('Prophet', 385.6893), ('ARIMA', 58.8673), ('ETS', 274.8787), ('XGBoost', 276.3874), ('Greykite', inf)]\n",
            "+++++++++++++++++++++++++++++++++++++++++++++++++++++++++++++++++++++++++++++++++++++++ ARIMA 69 369 2\n"
          ]
        },
        {
          "output_type": "stream",
          "name": "stderr",
          "text": [
            "INFO:prophet:Disabling yearly seasonality. Run prophet with yearly_seasonality=True to override this.\n",
            "INFO:prophet:Disabling daily seasonality. Run prophet with daily_seasonality=True to override this.\n",
            "DEBUG:cmdstanpy:input tempfile: /tmp/tmpmo9k28to/l_1p__6f.json\n",
            "DEBUG:cmdstanpy:input tempfile: /tmp/tmpmo9k28to/f8tk5pcj.json\n",
            "DEBUG:cmdstanpy:idx 0\n",
            "DEBUG:cmdstanpy:running CmdStan, num_threads: None\n",
            "DEBUG:cmdstanpy:CmdStan args: ['/usr/local/lib/python3.10/dist-packages/prophet/stan_model/prophet_model.bin', 'random', 'seed=49833', 'data', 'file=/tmp/tmpmo9k28to/l_1p__6f.json', 'init=/tmp/tmpmo9k28to/f8tk5pcj.json', 'output', 'file=/tmp/tmpmo9k28to/prophet_model1952i0vq/prophet_model-20230930121158.csv', 'method=optimize', 'algorithm=lbfgs', 'iter=10000']\n",
            "12:11:58 - cmdstanpy - INFO - Chain [1] start processing\n",
            "INFO:cmdstanpy:Chain [1] start processing\n",
            "12:11:59 - cmdstanpy - INFO - Chain [1] done processing\n",
            "INFO:cmdstanpy:Chain [1] done processing\n"
          ]
        },
        {
          "output_type": "stream",
          "name": "stdout",
          "text": [
            "+++++++++++++++++++++++++++++++++++++++++++++++++++++++++++++++++++++++++++++++++++++++ [('Prophet', 70.5988), ('ARIMA', 15.5705), ('ETS', 18.4007), ('XGBoost', 14.298), ('Greykite', inf)]\n",
            "+++++++++++++++++++++++++++++++++++++++++++++++++++++++++++++++++++++++++++++++++++++++ XGBoost 70 371 2\n"
          ]
        },
        {
          "output_type": "stream",
          "name": "stderr",
          "text": [
            "INFO:prophet:Disabling yearly seasonality. Run prophet with yearly_seasonality=True to override this.\n",
            "INFO:prophet:Disabling daily seasonality. Run prophet with daily_seasonality=True to override this.\n",
            "DEBUG:cmdstanpy:input tempfile: /tmp/tmpmo9k28to/hlg3qm7x.json\n",
            "DEBUG:cmdstanpy:input tempfile: /tmp/tmpmo9k28to/tzy_bazf.json\n",
            "DEBUG:cmdstanpy:idx 0\n",
            "DEBUG:cmdstanpy:running CmdStan, num_threads: None\n",
            "DEBUG:cmdstanpy:CmdStan args: ['/usr/local/lib/python3.10/dist-packages/prophet/stan_model/prophet_model.bin', 'random', 'seed=22519', 'data', 'file=/tmp/tmpmo9k28to/hlg3qm7x.json', 'init=/tmp/tmpmo9k28to/tzy_bazf.json', 'output', 'file=/tmp/tmpmo9k28to/prophet_model4jcleemp/prophet_model-20230930121203.csv', 'method=optimize', 'algorithm=lbfgs', 'iter=10000']\n",
            "12:12:03 - cmdstanpy - INFO - Chain [1] start processing\n",
            "INFO:cmdstanpy:Chain [1] start processing\n",
            "12:12:03 - cmdstanpy - INFO - Chain [1] done processing\n",
            "INFO:cmdstanpy:Chain [1] done processing\n"
          ]
        },
        {
          "output_type": "stream",
          "name": "stdout",
          "text": [
            "+++++++++++++++++++++++++++++++++++++++++++++++++++++++++++++++++++++++++++++++++++++++ [('Prophet', 64.6286), ('ARIMA', 6.0089), ('ETS', 37.5722), ('XGBoost', 8.144), ('Greykite', inf)]\n",
            "+++++++++++++++++++++++++++++++++++++++++++++++++++++++++++++++++++++++++++++++++++++++ ARIMA 71 373 2\n"
          ]
        },
        {
          "output_type": "stream",
          "name": "stderr",
          "text": [
            "INFO:prophet:Disabling yearly seasonality. Run prophet with yearly_seasonality=True to override this.\n",
            "INFO:prophet:Disabling daily seasonality. Run prophet with daily_seasonality=True to override this.\n",
            "DEBUG:cmdstanpy:input tempfile: /tmp/tmpmo9k28to/eyiyvkp0.json\n",
            "DEBUG:cmdstanpy:input tempfile: /tmp/tmpmo9k28to/0is2x4rz.json\n",
            "DEBUG:cmdstanpy:idx 0\n",
            "DEBUG:cmdstanpy:running CmdStan, num_threads: None\n",
            "DEBUG:cmdstanpy:CmdStan args: ['/usr/local/lib/python3.10/dist-packages/prophet/stan_model/prophet_model.bin', 'random', 'seed=24150', 'data', 'file=/tmp/tmpmo9k28to/eyiyvkp0.json', 'init=/tmp/tmpmo9k28to/0is2x4rz.json', 'output', 'file=/tmp/tmpmo9k28to/prophet_modeltb1qg9ge/prophet_model-20230930121209.csv', 'method=optimize', 'algorithm=lbfgs', 'iter=10000']\n",
            "12:12:09 - cmdstanpy - INFO - Chain [1] start processing\n",
            "INFO:cmdstanpy:Chain [1] start processing\n",
            "12:12:09 - cmdstanpy - INFO - Chain [1] done processing\n",
            "INFO:cmdstanpy:Chain [1] done processing\n"
          ]
        },
        {
          "output_type": "stream",
          "name": "stdout",
          "text": [
            "+++++++++++++++++++++++++++++++++++++++++++++++++++++++++++++++++++++++++++++++++++++++ [('Prophet', 121.2503), ('ARIMA', 19.7296), ('ETS', 53.2914), ('XGBoost', 39.805), ('Greykite', inf)]\n",
            "+++++++++++++++++++++++++++++++++++++++++++++++++++++++++++++++++++++++++++++++++++++++ ARIMA 72 375 2\n"
          ]
        },
        {
          "output_type": "stream",
          "name": "stderr",
          "text": [
            "INFO:prophet:Disabling yearly seasonality. Run prophet with yearly_seasonality=True to override this.\n",
            "INFO:prophet:Disabling daily seasonality. Run prophet with daily_seasonality=True to override this.\n",
            "DEBUG:cmdstanpy:input tempfile: /tmp/tmpmo9k28to/4h60ep_1.json\n",
            "DEBUG:cmdstanpy:input tempfile: /tmp/tmpmo9k28to/2sawdqr9.json\n",
            "DEBUG:cmdstanpy:idx 0\n",
            "DEBUG:cmdstanpy:running CmdStan, num_threads: None\n",
            "DEBUG:cmdstanpy:CmdStan args: ['/usr/local/lib/python3.10/dist-packages/prophet/stan_model/prophet_model.bin', 'random', 'seed=29974', 'data', 'file=/tmp/tmpmo9k28to/4h60ep_1.json', 'init=/tmp/tmpmo9k28to/2sawdqr9.json', 'output', 'file=/tmp/tmpmo9k28to/prophet_modelhoy_wf57/prophet_model-20230930121213.csv', 'method=optimize', 'algorithm=lbfgs', 'iter=10000']\n",
            "12:12:13 - cmdstanpy - INFO - Chain [1] start processing\n",
            "INFO:cmdstanpy:Chain [1] start processing\n",
            "12:12:13 - cmdstanpy - INFO - Chain [1] done processing\n",
            "INFO:cmdstanpy:Chain [1] done processing\n"
          ]
        },
        {
          "output_type": "stream",
          "name": "stdout",
          "text": [
            "+++++++++++++++++++++++++++++++++++++++++++++++++++++++++++++++++++++++++++++++++++++++ [('Prophet', 340.9509), ('ARIMA', 46.4242), ('ETS', 191.4274), ('XGBoost', 202.1984), ('Greykite', inf)]\n",
            "+++++++++++++++++++++++++++++++++++++++++++++++++++++++++++++++++++++++++++++++++++++++ ARIMA 73 377 2\n"
          ]
        },
        {
          "output_type": "stream",
          "name": "stderr",
          "text": [
            "INFO:prophet:Disabling yearly seasonality. Run prophet with yearly_seasonality=True to override this.\n",
            "INFO:prophet:Disabling daily seasonality. Run prophet with daily_seasonality=True to override this.\n",
            "DEBUG:cmdstanpy:input tempfile: /tmp/tmpmo9k28to/3829urn1.json\n",
            "DEBUG:cmdstanpy:input tempfile: /tmp/tmpmo9k28to/ar6hvn_u.json\n",
            "DEBUG:cmdstanpy:idx 0\n",
            "DEBUG:cmdstanpy:running CmdStan, num_threads: None\n",
            "DEBUG:cmdstanpy:CmdStan args: ['/usr/local/lib/python3.10/dist-packages/prophet/stan_model/prophet_model.bin', 'random', 'seed=91156', 'data', 'file=/tmp/tmpmo9k28to/3829urn1.json', 'init=/tmp/tmpmo9k28to/ar6hvn_u.json', 'output', 'file=/tmp/tmpmo9k28to/prophet_modelnmij9__s/prophet_model-20230930121217.csv', 'method=optimize', 'algorithm=lbfgs', 'iter=10000']\n",
            "12:12:17 - cmdstanpy - INFO - Chain [1] start processing\n",
            "INFO:cmdstanpy:Chain [1] start processing\n",
            "12:12:18 - cmdstanpy - INFO - Chain [1] done processing\n",
            "INFO:cmdstanpy:Chain [1] done processing\n"
          ]
        },
        {
          "output_type": "stream",
          "name": "stdout",
          "text": [
            "+++++++++++++++++++++++++++++++++++++++++++++++++++++++++++++++++++++++++++++++++++++++ [('Prophet', 64.398), ('ARIMA', 9.6763), ('ETS', 36.1651), ('XGBoost', 12.2676), ('Greykite', inf)]\n",
            "+++++++++++++++++++++++++++++++++++++++++++++++++++++++++++++++++++++++++++++++++++++++ ARIMA 74 379 2\n"
          ]
        },
        {
          "output_type": "stream",
          "name": "stderr",
          "text": [
            "INFO:prophet:Disabling yearly seasonality. Run prophet with yearly_seasonality=True to override this.\n",
            "INFO:prophet:Disabling daily seasonality. Run prophet with daily_seasonality=True to override this.\n",
            "DEBUG:cmdstanpy:input tempfile: /tmp/tmpmo9k28to/5o74wa74.json\n",
            "DEBUG:cmdstanpy:input tempfile: /tmp/tmpmo9k28to/qizze57n.json\n",
            "DEBUG:cmdstanpy:idx 0\n",
            "DEBUG:cmdstanpy:running CmdStan, num_threads: None\n",
            "DEBUG:cmdstanpy:CmdStan args: ['/usr/local/lib/python3.10/dist-packages/prophet/stan_model/prophet_model.bin', 'random', 'seed=1457', 'data', 'file=/tmp/tmpmo9k28to/5o74wa74.json', 'init=/tmp/tmpmo9k28to/qizze57n.json', 'output', 'file=/tmp/tmpmo9k28to/prophet_modelldia1ody/prophet_model-20230930121224.csv', 'method=optimize', 'algorithm=lbfgs', 'iter=10000']\n",
            "12:12:24 - cmdstanpy - INFO - Chain [1] start processing\n",
            "INFO:cmdstanpy:Chain [1] start processing\n",
            "12:12:24 - cmdstanpy - INFO - Chain [1] done processing\n",
            "INFO:cmdstanpy:Chain [1] done processing\n"
          ]
        },
        {
          "output_type": "stream",
          "name": "stdout",
          "text": [
            "+++++++++++++++++++++++++++++++++++++++++++++++++++++++++++++++++++++++++++++++++++++++ [('Prophet', 61.5048), ('ARIMA', 5.7293), ('ETS', 11.7893), ('XGBoost', 25.46), ('Greykite', inf)]\n",
            "+++++++++++++++++++++++++++++++++++++++++++++++++++++++++++++++++++++++++++++++++++++++ ARIMA 75 381 2\n"
          ]
        },
        {
          "output_type": "stream",
          "name": "stderr",
          "text": [
            "INFO:prophet:Disabling yearly seasonality. Run prophet with yearly_seasonality=True to override this.\n",
            "INFO:prophet:Disabling daily seasonality. Run prophet with daily_seasonality=True to override this.\n",
            "DEBUG:cmdstanpy:input tempfile: /tmp/tmpmo9k28to/7cqgsmhm.json\n",
            "DEBUG:cmdstanpy:input tempfile: /tmp/tmpmo9k28to/j8u8f4d3.json\n",
            "DEBUG:cmdstanpy:idx 0\n",
            "DEBUG:cmdstanpy:running CmdStan, num_threads: None\n",
            "DEBUG:cmdstanpy:CmdStan args: ['/usr/local/lib/python3.10/dist-packages/prophet/stan_model/prophet_model.bin', 'random', 'seed=87615', 'data', 'file=/tmp/tmpmo9k28to/7cqgsmhm.json', 'init=/tmp/tmpmo9k28to/j8u8f4d3.json', 'output', 'file=/tmp/tmpmo9k28to/prophet_modelw769jn32/prophet_model-20230930121231.csv', 'method=optimize', 'algorithm=lbfgs', 'iter=10000']\n",
            "12:12:31 - cmdstanpy - INFO - Chain [1] start processing\n",
            "INFO:cmdstanpy:Chain [1] start processing\n",
            "12:12:31 - cmdstanpy - INFO - Chain [1] done processing\n",
            "INFO:cmdstanpy:Chain [1] done processing\n"
          ]
        },
        {
          "output_type": "stream",
          "name": "stdout",
          "text": [
            "+++++++++++++++++++++++++++++++++++++++++++++++++++++++++++++++++++++++++++++++++++++++ [('Prophet', 312.415), ('ARIMA', 36.0098), ('ETS', 334.7767), ('XGBoost', 174.0145), ('Greykite', inf)]\n",
            "+++++++++++++++++++++++++++++++++++++++++++++++++++++++++++++++++++++++++++++++++++++++ ARIMA 76 383 2\n"
          ]
        },
        {
          "output_type": "stream",
          "name": "stderr",
          "text": [
            "INFO:prophet:Disabling yearly seasonality. Run prophet with yearly_seasonality=True to override this.\n",
            "INFO:prophet:Disabling daily seasonality. Run prophet with daily_seasonality=True to override this.\n",
            "DEBUG:cmdstanpy:input tempfile: /tmp/tmpmo9k28to/xalusqee.json\n",
            "DEBUG:cmdstanpy:input tempfile: /tmp/tmpmo9k28to/c7l2mrzt.json\n",
            "DEBUG:cmdstanpy:idx 0\n",
            "DEBUG:cmdstanpy:running CmdStan, num_threads: None\n",
            "DEBUG:cmdstanpy:CmdStan args: ['/usr/local/lib/python3.10/dist-packages/prophet/stan_model/prophet_model.bin', 'random', 'seed=6044', 'data', 'file=/tmp/tmpmo9k28to/xalusqee.json', 'init=/tmp/tmpmo9k28to/c7l2mrzt.json', 'output', 'file=/tmp/tmpmo9k28to/prophet_modelw2_ovdw3/prophet_model-20230930121235.csv', 'method=optimize', 'algorithm=lbfgs', 'iter=10000']\n",
            "12:12:35 - cmdstanpy - INFO - Chain [1] start processing\n",
            "INFO:cmdstanpy:Chain [1] start processing\n",
            "12:12:35 - cmdstanpy - INFO - Chain [1] done processing\n",
            "INFO:cmdstanpy:Chain [1] done processing\n"
          ]
        },
        {
          "output_type": "stream",
          "name": "stdout",
          "text": [
            "+++++++++++++++++++++++++++++++++++++++++++++++++++++++++++++++++++++++++++++++++++++++ [('Prophet', 45.3538), ('ARIMA', 19.3986), ('ETS', 41.1131), ('XGBoost', 52.6269), ('Greykite', inf)]\n",
            "+++++++++++++++++++++++++++++++++++++++++++++++++++++++++++++++++++++++++++++++++++++++ ARIMA 77 385 2\n"
          ]
        },
        {
          "output_type": "stream",
          "name": "stderr",
          "text": [
            "INFO:prophet:Disabling yearly seasonality. Run prophet with yearly_seasonality=True to override this.\n",
            "INFO:prophet:Disabling daily seasonality. Run prophet with daily_seasonality=True to override this.\n",
            "DEBUG:cmdstanpy:input tempfile: /tmp/tmpmo9k28to/ka118bm2.json\n",
            "DEBUG:cmdstanpy:input tempfile: /tmp/tmpmo9k28to/n4eire57.json\n",
            "DEBUG:cmdstanpy:idx 0\n",
            "DEBUG:cmdstanpy:running CmdStan, num_threads: None\n",
            "DEBUG:cmdstanpy:CmdStan args: ['/usr/local/lib/python3.10/dist-packages/prophet/stan_model/prophet_model.bin', 'random', 'seed=48307', 'data', 'file=/tmp/tmpmo9k28to/ka118bm2.json', 'init=/tmp/tmpmo9k28to/n4eire57.json', 'output', 'file=/tmp/tmpmo9k28to/prophet_modelxq834e4p/prophet_model-20230930121239.csv', 'method=optimize', 'algorithm=lbfgs', 'iter=10000']\n",
            "12:12:39 - cmdstanpy - INFO - Chain [1] start processing\n",
            "INFO:cmdstanpy:Chain [1] start processing\n",
            "12:12:39 - cmdstanpy - INFO - Chain [1] done processing\n",
            "INFO:cmdstanpy:Chain [1] done processing\n"
          ]
        },
        {
          "output_type": "stream",
          "name": "stdout",
          "text": [
            "+++++++++++++++++++++++++++++++++++++++++++++++++++++++++++++++++++++++++++++++++++++++ [('Prophet', 54.4835), ('ARIMA', 9.743), ('ETS', 29.6738), ('XGBoost', 20.4403), ('Greykite', inf)]\n",
            "+++++++++++++++++++++++++++++++++++++++++++++++++++++++++++++++++++++++++++++++++++++++ ARIMA 78 387 2\n"
          ]
        },
        {
          "output_type": "stream",
          "name": "stderr",
          "text": [
            "INFO:prophet:Disabling yearly seasonality. Run prophet with yearly_seasonality=True to override this.\n",
            "INFO:prophet:Disabling daily seasonality. Run prophet with daily_seasonality=True to override this.\n",
            "DEBUG:cmdstanpy:input tempfile: /tmp/tmpmo9k28to/73pr7xy0.json\n",
            "DEBUG:cmdstanpy:input tempfile: /tmp/tmpmo9k28to/gjdjlm93.json\n",
            "DEBUG:cmdstanpy:idx 0\n",
            "DEBUG:cmdstanpy:running CmdStan, num_threads: None\n",
            "DEBUG:cmdstanpy:CmdStan args: ['/usr/local/lib/python3.10/dist-packages/prophet/stan_model/prophet_model.bin', 'random', 'seed=20686', 'data', 'file=/tmp/tmpmo9k28to/73pr7xy0.json', 'init=/tmp/tmpmo9k28to/gjdjlm93.json', 'output', 'file=/tmp/tmpmo9k28to/prophet_modelp_cmo0xg/prophet_model-20230930121246.csv', 'method=optimize', 'algorithm=lbfgs', 'iter=10000']\n",
            "12:12:46 - cmdstanpy - INFO - Chain [1] start processing\n",
            "INFO:cmdstanpy:Chain [1] start processing\n",
            "12:12:46 - cmdstanpy - INFO - Chain [1] done processing\n",
            "INFO:cmdstanpy:Chain [1] done processing\n"
          ]
        },
        {
          "output_type": "stream",
          "name": "stdout",
          "text": [
            "+++++++++++++++++++++++++++++++++++++++++++++++++++++++++++++++++++++++++++++++++++++++ [('Prophet', 103.6805), ('ARIMA', 2.6124), ('ETS', 33.4335), ('XGBoost', 44.3157), ('Greykite', inf)]\n",
            "+++++++++++++++++++++++++++++++++++++++++++++++++++++++++++++++++++++++++++++++++++++++ ARIMA 79 389 2\n"
          ]
        },
        {
          "output_type": "stream",
          "name": "stderr",
          "text": [
            "INFO:prophet:Disabling yearly seasonality. Run prophet with yearly_seasonality=True to override this.\n",
            "INFO:prophet:Disabling daily seasonality. Run prophet with daily_seasonality=True to override this.\n",
            "DEBUG:cmdstanpy:input tempfile: /tmp/tmpmo9k28to/bqhwj0nj.json\n",
            "DEBUG:cmdstanpy:input tempfile: /tmp/tmpmo9k28to/1zx43ctu.json\n",
            "DEBUG:cmdstanpy:idx 0\n",
            "DEBUG:cmdstanpy:running CmdStan, num_threads: None\n",
            "DEBUG:cmdstanpy:CmdStan args: ['/usr/local/lib/python3.10/dist-packages/prophet/stan_model/prophet_model.bin', 'random', 'seed=91547', 'data', 'file=/tmp/tmpmo9k28to/bqhwj0nj.json', 'init=/tmp/tmpmo9k28to/1zx43ctu.json', 'output', 'file=/tmp/tmpmo9k28to/prophet_modelznz3yv0w/prophet_model-20230930121251.csv', 'method=optimize', 'algorithm=lbfgs', 'iter=10000']\n",
            "12:12:51 - cmdstanpy - INFO - Chain [1] start processing\n",
            "INFO:cmdstanpy:Chain [1] start processing\n",
            "12:12:51 - cmdstanpy - INFO - Chain [1] done processing\n",
            "INFO:cmdstanpy:Chain [1] done processing\n"
          ]
        },
        {
          "output_type": "stream",
          "name": "stdout",
          "text": [
            "+++++++++++++++++++++++++++++++++++++++++++++++++++++++++++++++++++++++++++++++++++++++ [('Prophet', 219.5535), ('ARIMA', 12.7517), ('ETS', 109.1275), ('XGBoost', 162.9561), ('Greykite', inf)]\n",
            "+++++++++++++++++++++++++++++++++++++++++++++++++++++++++++++++++++++++++++++++++++++++ ARIMA 80 391 2\n"
          ]
        },
        {
          "output_type": "stream",
          "name": "stderr",
          "text": [
            "INFO:prophet:Disabling yearly seasonality. Run prophet with yearly_seasonality=True to override this.\n",
            "INFO:prophet:Disabling daily seasonality. Run prophet with daily_seasonality=True to override this.\n",
            "DEBUG:cmdstanpy:input tempfile: /tmp/tmpmo9k28to/ydwsv8_t.json\n",
            "DEBUG:cmdstanpy:input tempfile: /tmp/tmpmo9k28to/jse87ceh.json\n",
            "DEBUG:cmdstanpy:idx 0\n",
            "DEBUG:cmdstanpy:running CmdStan, num_threads: None\n",
            "DEBUG:cmdstanpy:CmdStan args: ['/usr/local/lib/python3.10/dist-packages/prophet/stan_model/prophet_model.bin', 'random', 'seed=79394', 'data', 'file=/tmp/tmpmo9k28to/ydwsv8_t.json', 'init=/tmp/tmpmo9k28to/jse87ceh.json', 'output', 'file=/tmp/tmpmo9k28to/prophet_model9zk_lud7/prophet_model-20230930121255.csv', 'method=optimize', 'algorithm=lbfgs', 'iter=10000']\n",
            "12:12:55 - cmdstanpy - INFO - Chain [1] start processing\n",
            "INFO:cmdstanpy:Chain [1] start processing\n",
            "12:12:55 - cmdstanpy - INFO - Chain [1] done processing\n",
            "INFO:cmdstanpy:Chain [1] done processing\n"
          ]
        },
        {
          "output_type": "stream",
          "name": "stdout",
          "text": [
            "+++++++++++++++++++++++++++++++++++++++++++++++++++++++++++++++++++++++++++++++++++++++ [('Prophet', 67.8512), ('ARIMA', 24.0708), ('ETS', 52.3927), ('XGBoost', 22.3922), ('Greykite', inf)]\n",
            "+++++++++++++++++++++++++++++++++++++++++++++++++++++++++++++++++++++++++++++++++++++++ XGBoost 81 393 2\n"
          ]
        },
        {
          "output_type": "stream",
          "name": "stderr",
          "text": [
            "INFO:prophet:Disabling yearly seasonality. Run prophet with yearly_seasonality=True to override this.\n",
            "INFO:prophet:Disabling daily seasonality. Run prophet with daily_seasonality=True to override this.\n",
            "DEBUG:cmdstanpy:input tempfile: /tmp/tmpmo9k28to/098xvbc_.json\n",
            "DEBUG:cmdstanpy:input tempfile: /tmp/tmpmo9k28to/xb1tkp3v.json\n",
            "DEBUG:cmdstanpy:idx 0\n",
            "DEBUG:cmdstanpy:running CmdStan, num_threads: None\n",
            "DEBUG:cmdstanpy:CmdStan args: ['/usr/local/lib/python3.10/dist-packages/prophet/stan_model/prophet_model.bin', 'random', 'seed=81721', 'data', 'file=/tmp/tmpmo9k28to/098xvbc_.json', 'init=/tmp/tmpmo9k28to/xb1tkp3v.json', 'output', 'file=/tmp/tmpmo9k28to/prophet_modelgy5_a3_b/prophet_model-20230930121302.csv', 'method=optimize', 'algorithm=lbfgs', 'iter=10000']\n",
            "12:13:02 - cmdstanpy - INFO - Chain [1] start processing\n",
            "INFO:cmdstanpy:Chain [1] start processing\n",
            "12:13:02 - cmdstanpy - INFO - Chain [1] done processing\n",
            "INFO:cmdstanpy:Chain [1] done processing\n"
          ]
        },
        {
          "output_type": "stream",
          "name": "stdout",
          "text": [
            "+++++++++++++++++++++++++++++++++++++++++++++++++++++++++++++++++++++++++++++++++++++++ [('Prophet', 63.5596), ('ARIMA', 3.556), ('ETS', 27.8235), ('XGBoost', 16.2167), ('Greykite', inf)]\n",
            "+++++++++++++++++++++++++++++++++++++++++++++++++++++++++++++++++++++++++++++++++++++++ ARIMA 82 395 2\n"
          ]
        },
        {
          "output_type": "stream",
          "name": "stderr",
          "text": [
            "INFO:prophet:Disabling yearly seasonality. Run prophet with yearly_seasonality=True to override this.\n",
            "INFO:prophet:Disabling daily seasonality. Run prophet with daily_seasonality=True to override this.\n",
            "DEBUG:cmdstanpy:input tempfile: /tmp/tmpmo9k28to/wcrixxen.json\n",
            "DEBUG:cmdstanpy:input tempfile: /tmp/tmpmo9k28to/47l64jtq.json\n",
            "DEBUG:cmdstanpy:idx 0\n",
            "DEBUG:cmdstanpy:running CmdStan, num_threads: None\n",
            "DEBUG:cmdstanpy:CmdStan args: ['/usr/local/lib/python3.10/dist-packages/prophet/stan_model/prophet_model.bin', 'random', 'seed=13123', 'data', 'file=/tmp/tmpmo9k28to/wcrixxen.json', 'init=/tmp/tmpmo9k28to/47l64jtq.json', 'output', 'file=/tmp/tmpmo9k28to/prophet_modelyp0mpf1l/prophet_model-20230930121306.csv', 'method=optimize', 'algorithm=lbfgs', 'iter=10000']\n",
            "12:13:06 - cmdstanpy - INFO - Chain [1] start processing\n",
            "INFO:cmdstanpy:Chain [1] start processing\n",
            "12:13:06 - cmdstanpy - INFO - Chain [1] done processing\n",
            "INFO:cmdstanpy:Chain [1] done processing\n"
          ]
        },
        {
          "output_type": "stream",
          "name": "stdout",
          "text": [
            "+++++++++++++++++++++++++++++++++++++++++++++++++++++++++++++++++++++++++++++++++++++++ [('Prophet', 237.8907), ('ARIMA', 73.157), ('ETS', 157.4842), ('XGBoost', 254.5524), ('Greykite', inf)]\n",
            "+++++++++++++++++++++++++++++++++++++++++++++++++++++++++++++++++++++++++++++++++++++++ ARIMA 83 397 2\n"
          ]
        },
        {
          "output_type": "stream",
          "name": "stderr",
          "text": [
            "INFO:prophet:Disabling yearly seasonality. Run prophet with yearly_seasonality=True to override this.\n",
            "INFO:prophet:Disabling daily seasonality. Run prophet with daily_seasonality=True to override this.\n",
            "DEBUG:cmdstanpy:input tempfile: /tmp/tmpmo9k28to/b3pa7ckz.json\n",
            "DEBUG:cmdstanpy:input tempfile: /tmp/tmpmo9k28to/2pb96kqi.json\n",
            "DEBUG:cmdstanpy:idx 0\n",
            "DEBUG:cmdstanpy:running CmdStan, num_threads: None\n",
            "DEBUG:cmdstanpy:CmdStan args: ['/usr/local/lib/python3.10/dist-packages/prophet/stan_model/prophet_model.bin', 'random', 'seed=29995', 'data', 'file=/tmp/tmpmo9k28to/b3pa7ckz.json', 'init=/tmp/tmpmo9k28to/2pb96kqi.json', 'output', 'file=/tmp/tmpmo9k28to/prophet_model8ab1l57x/prophet_model-20230930121310.csv', 'method=optimize', 'algorithm=lbfgs', 'iter=10000']\n",
            "12:13:10 - cmdstanpy - INFO - Chain [1] start processing\n",
            "INFO:cmdstanpy:Chain [1] start processing\n",
            "12:13:11 - cmdstanpy - INFO - Chain [1] done processing\n",
            "INFO:cmdstanpy:Chain [1] done processing\n"
          ]
        },
        {
          "output_type": "stream",
          "name": "stdout",
          "text": [
            "+++++++++++++++++++++++++++++++++++++++++++++++++++++++++++++++++++++++++++++++++++++++ [('Prophet', 162.4314), ('ARIMA', 392.9751), ('ETS', 210.3983), ('XGBoost', 403.2542), ('Greykite', inf)]\n",
            "+++++++++++++++++++++++++++++++++++++++++++++++++++++++++++++++++++++++++++++++++++++++ Prophet 84 399 2\n"
          ]
        },
        {
          "output_type": "stream",
          "name": "stderr",
          "text": [
            "INFO:prophet:Disabling yearly seasonality. Run prophet with yearly_seasonality=True to override this.\n",
            "INFO:prophet:Disabling daily seasonality. Run prophet with daily_seasonality=True to override this.\n",
            "DEBUG:cmdstanpy:input tempfile: /tmp/tmpmo9k28to/edysgv1_.json\n",
            "DEBUG:cmdstanpy:input tempfile: /tmp/tmpmo9k28to/suzpp4el.json\n",
            "DEBUG:cmdstanpy:idx 0\n",
            "DEBUG:cmdstanpy:running CmdStan, num_threads: None\n",
            "DEBUG:cmdstanpy:CmdStan args: ['/usr/local/lib/python3.10/dist-packages/prophet/stan_model/prophet_model.bin', 'random', 'seed=77528', 'data', 'file=/tmp/tmpmo9k28to/edysgv1_.json', 'init=/tmp/tmpmo9k28to/suzpp4el.json', 'output', 'file=/tmp/tmpmo9k28to/prophet_model3i3_y14r/prophet_model-20230930121317.csv', 'method=optimize', 'algorithm=lbfgs', 'iter=10000']\n",
            "12:13:18 - cmdstanpy - INFO - Chain [1] start processing\n",
            "INFO:cmdstanpy:Chain [1] start processing\n",
            "12:13:18 - cmdstanpy - INFO - Chain [1] done processing\n",
            "INFO:cmdstanpy:Chain [1] done processing\n"
          ]
        },
        {
          "output_type": "stream",
          "name": "stdout",
          "text": [
            "+++++++++++++++++++++++++++++++++++++++++++++++++++++++++++++++++++++++++++++++++++++++ [('Prophet', 51.1022), ('ARIMA', 36.3337), ('ETS', 45.5037), ('XGBoost', 45.1276), ('Greykite', inf)]\n",
            "+++++++++++++++++++++++++++++++++++++++++++++++++++++++++++++++++++++++++++++++++++++++ ARIMA 85 401 2\n"
          ]
        },
        {
          "output_type": "stream",
          "name": "stderr",
          "text": [
            "INFO:prophet:Disabling yearly seasonality. Run prophet with yearly_seasonality=True to override this.\n",
            "INFO:prophet:Disabling daily seasonality. Run prophet with daily_seasonality=True to override this.\n",
            "DEBUG:cmdstanpy:input tempfile: /tmp/tmpmo9k28to/w5w2q14h.json\n",
            "DEBUG:cmdstanpy:input tempfile: /tmp/tmpmo9k28to/8zl44iap.json\n",
            "DEBUG:cmdstanpy:idx 0\n",
            "DEBUG:cmdstanpy:running CmdStan, num_threads: None\n",
            "DEBUG:cmdstanpy:CmdStan args: ['/usr/local/lib/python3.10/dist-packages/prophet/stan_model/prophet_model.bin', 'random', 'seed=51510', 'data', 'file=/tmp/tmpmo9k28to/w5w2q14h.json', 'init=/tmp/tmpmo9k28to/8zl44iap.json', 'output', 'file=/tmp/tmpmo9k28to/prophet_modelyp8_rjyt/prophet_model-20230930121322.csv', 'method=optimize', 'algorithm=lbfgs', 'iter=10000']\n",
            "12:13:22 - cmdstanpy - INFO - Chain [1] start processing\n",
            "INFO:cmdstanpy:Chain [1] start processing\n",
            "12:13:22 - cmdstanpy - INFO - Chain [1] done processing\n",
            "INFO:cmdstanpy:Chain [1] done processing\n"
          ]
        },
        {
          "output_type": "stream",
          "name": "stdout",
          "text": [
            "+++++++++++++++++++++++++++++++++++++++++++++++++++++++++++++++++++++++++++++++++++++++ [('Prophet', 117.7035), ('ARIMA', 7.111), ('ETS', 39.8619), ('XGBoost', 20.4982), ('Greykite', inf)]\n",
            "+++++++++++++++++++++++++++++++++++++++++++++++++++++++++++++++++++++++++++++++++++++++ ARIMA 86 403 2\n"
          ]
        },
        {
          "output_type": "stream",
          "name": "stderr",
          "text": [
            "INFO:prophet:Disabling yearly seasonality. Run prophet with yearly_seasonality=True to override this.\n",
            "INFO:prophet:Disabling daily seasonality. Run prophet with daily_seasonality=True to override this.\n",
            "DEBUG:cmdstanpy:input tempfile: /tmp/tmpmo9k28to/28l4zgd5.json\n",
            "DEBUG:cmdstanpy:input tempfile: /tmp/tmpmo9k28to/ocp1y63s.json\n",
            "DEBUG:cmdstanpy:idx 0\n",
            "DEBUG:cmdstanpy:running CmdStan, num_threads: None\n",
            "DEBUG:cmdstanpy:CmdStan args: ['/usr/local/lib/python3.10/dist-packages/prophet/stan_model/prophet_model.bin', 'random', 'seed=6914', 'data', 'file=/tmp/tmpmo9k28to/28l4zgd5.json', 'init=/tmp/tmpmo9k28to/ocp1y63s.json', 'output', 'file=/tmp/tmpmo9k28to/prophet_model3jh2c0zw/prophet_model-20230930121326.csv', 'method=optimize', 'algorithm=lbfgs', 'iter=10000']\n",
            "12:13:26 - cmdstanpy - INFO - Chain [1] start processing\n",
            "INFO:cmdstanpy:Chain [1] start processing\n",
            "12:13:26 - cmdstanpy - INFO - Chain [1] done processing\n",
            "INFO:cmdstanpy:Chain [1] done processing\n"
          ]
        },
        {
          "output_type": "stream",
          "name": "stdout",
          "text": [
            "+++++++++++++++++++++++++++++++++++++++++++++++++++++++++++++++++++++++++++++++++++++++ [('Prophet', 266.6947), ('ARIMA', 25.8344), ('ETS', 134.021), ('XGBoost', 211.0314), ('Greykite', inf)]\n",
            "+++++++++++++++++++++++++++++++++++++++++++++++++++++++++++++++++++++++++++++++++++++++ ARIMA 87 405 2\n"
          ]
        },
        {
          "output_type": "stream",
          "name": "stderr",
          "text": [
            "INFO:prophet:Disabling yearly seasonality. Run prophet with yearly_seasonality=True to override this.\n",
            "INFO:prophet:Disabling daily seasonality. Run prophet with daily_seasonality=True to override this.\n",
            "DEBUG:cmdstanpy:input tempfile: /tmp/tmpmo9k28to/yi0gcgwm.json\n",
            "DEBUG:cmdstanpy:input tempfile: /tmp/tmpmo9k28to/m3gmfidj.json\n",
            "DEBUG:cmdstanpy:idx 0\n",
            "DEBUG:cmdstanpy:running CmdStan, num_threads: None\n",
            "DEBUG:cmdstanpy:CmdStan args: ['/usr/local/lib/python3.10/dist-packages/prophet/stan_model/prophet_model.bin', 'random', 'seed=76929', 'data', 'file=/tmp/tmpmo9k28to/yi0gcgwm.json', 'init=/tmp/tmpmo9k28to/m3gmfidj.json', 'output', 'file=/tmp/tmpmo9k28to/prophet_modelioku_q23/prophet_model-20230930121333.csv', 'method=optimize', 'algorithm=lbfgs', 'iter=10000']\n",
            "12:13:33 - cmdstanpy - INFO - Chain [1] start processing\n",
            "INFO:cmdstanpy:Chain [1] start processing\n",
            "12:13:33 - cmdstanpy - INFO - Chain [1] done processing\n",
            "INFO:cmdstanpy:Chain [1] done processing\n"
          ]
        },
        {
          "output_type": "stream",
          "name": "stdout",
          "text": [
            "+++++++++++++++++++++++++++++++++++++++++++++++++++++++++++++++++++++++++++++++++++++++ [('Prophet', 46.5941), ('ARIMA', 9.8467), ('ETS', 32.0857), ('XGBoost', 10.1404), ('Greykite', inf)]\n",
            "+++++++++++++++++++++++++++++++++++++++++++++++++++++++++++++++++++++++++++++++++++++++ ARIMA 88 407 2\n"
          ]
        },
        {
          "output_type": "stream",
          "name": "stderr",
          "text": [
            "INFO:prophet:Disabling yearly seasonality. Run prophet with yearly_seasonality=True to override this.\n",
            "INFO:prophet:Disabling daily seasonality. Run prophet with daily_seasonality=True to override this.\n",
            "DEBUG:cmdstanpy:input tempfile: /tmp/tmpmo9k28to/sa89q83s.json\n",
            "DEBUG:cmdstanpy:input tempfile: /tmp/tmpmo9k28to/hyw24qi4.json\n",
            "DEBUG:cmdstanpy:idx 0\n",
            "DEBUG:cmdstanpy:running CmdStan, num_threads: None\n",
            "DEBUG:cmdstanpy:CmdStan args: ['/usr/local/lib/python3.10/dist-packages/prophet/stan_model/prophet_model.bin', 'random', 'seed=45781', 'data', 'file=/tmp/tmpmo9k28to/sa89q83s.json', 'init=/tmp/tmpmo9k28to/hyw24qi4.json', 'output', 'file=/tmp/tmpmo9k28to/prophet_model_3hu0v2d/prophet_model-20230930121338.csv', 'method=optimize', 'algorithm=lbfgs', 'iter=10000']\n",
            "12:13:38 - cmdstanpy - INFO - Chain [1] start processing\n",
            "INFO:cmdstanpy:Chain [1] start processing\n",
            "12:13:38 - cmdstanpy - INFO - Chain [1] done processing\n",
            "INFO:cmdstanpy:Chain [1] done processing\n"
          ]
        },
        {
          "output_type": "stream",
          "name": "stdout",
          "text": [
            "+++++++++++++++++++++++++++++++++++++++++++++++++++++++++++++++++++++++++++++++++++++++ [('Prophet', 50.7448), ('ARIMA', 1.5551), ('ETS', 35.6835), ('XGBoost', 19.0247), ('Greykite', inf)]\n",
            "+++++++++++++++++++++++++++++++++++++++++++++++++++++++++++++++++++++++++++++++++++++++ ARIMA 89 409 2\n"
          ]
        },
        {
          "output_type": "stream",
          "name": "stderr",
          "text": [
            "INFO:prophet:Disabling yearly seasonality. Run prophet with yearly_seasonality=True to override this.\n",
            "INFO:prophet:Disabling daily seasonality. Run prophet with daily_seasonality=True to override this.\n",
            "DEBUG:cmdstanpy:input tempfile: /tmp/tmpmo9k28to/kmoe__f2.json\n",
            "DEBUG:cmdstanpy:input tempfile: /tmp/tmpmo9k28to/jdjac9_4.json\n",
            "DEBUG:cmdstanpy:idx 0\n",
            "DEBUG:cmdstanpy:running CmdStan, num_threads: None\n",
            "DEBUG:cmdstanpy:CmdStan args: ['/usr/local/lib/python3.10/dist-packages/prophet/stan_model/prophet_model.bin', 'random', 'seed=73808', 'data', 'file=/tmp/tmpmo9k28to/kmoe__f2.json', 'init=/tmp/tmpmo9k28to/jdjac9_4.json', 'output', 'file=/tmp/tmpmo9k28to/prophet_modelc7ghjh2r/prophet_model-20230930121342.csv', 'method=optimize', 'algorithm=lbfgs', 'iter=10000']\n",
            "12:13:42 - cmdstanpy - INFO - Chain [1] start processing\n",
            "INFO:cmdstanpy:Chain [1] start processing\n",
            "12:13:42 - cmdstanpy - INFO - Chain [1] done processing\n",
            "INFO:cmdstanpy:Chain [1] done processing\n"
          ]
        },
        {
          "output_type": "stream",
          "name": "stdout",
          "text": [
            "+++++++++++++++++++++++++++++++++++++++++++++++++++++++++++++++++++++++++++++++++++++++ [('Prophet', 374.89), ('ARIMA', 46.3362), ('ETS', 204.5718), ('XGBoost', 190.8052), ('Greykite', inf)]\n",
            "+++++++++++++++++++++++++++++++++++++++++++++++++++++++++++++++++++++++++++++++++++++++ ARIMA 90 411 2\n"
          ]
        },
        {
          "output_type": "stream",
          "name": "stderr",
          "text": [
            "INFO:prophet:Disabling yearly seasonality. Run prophet with yearly_seasonality=True to override this.\n",
            "INFO:prophet:Disabling daily seasonality. Run prophet with daily_seasonality=True to override this.\n",
            "DEBUG:cmdstanpy:input tempfile: /tmp/tmpmo9k28to/pkg98lgv.json\n",
            "DEBUG:cmdstanpy:input tempfile: /tmp/tmpmo9k28to/fbr1lfvh.json\n",
            "DEBUG:cmdstanpy:idx 0\n",
            "DEBUG:cmdstanpy:running CmdStan, num_threads: None\n",
            "DEBUG:cmdstanpy:CmdStan args: ['/usr/local/lib/python3.10/dist-packages/prophet/stan_model/prophet_model.bin', 'random', 'seed=4864', 'data', 'file=/tmp/tmpmo9k28to/pkg98lgv.json', 'init=/tmp/tmpmo9k28to/fbr1lfvh.json', 'output', 'file=/tmp/tmpmo9k28to/prophet_modelh11d3wxq/prophet_model-20230930121349.csv', 'method=optimize', 'algorithm=lbfgs', 'iter=10000']\n",
            "12:13:49 - cmdstanpy - INFO - Chain [1] start processing\n",
            "INFO:cmdstanpy:Chain [1] start processing\n",
            "12:13:49 - cmdstanpy - INFO - Chain [1] done processing\n",
            "INFO:cmdstanpy:Chain [1] done processing\n"
          ]
        },
        {
          "output_type": "stream",
          "name": "stdout",
          "text": [
            "+++++++++++++++++++++++++++++++++++++++++++++++++++++++++++++++++++++++++++++++++++++++ [('Prophet', 49.8677), ('ARIMA', 25.5487), ('ETS', 50.6937), ('XGBoost', 6.1135), ('Greykite', inf)]\n",
            "+++++++++++++++++++++++++++++++++++++++++++++++++++++++++++++++++++++++++++++++++++++++ XGBoost 91 413 2\n"
          ]
        },
        {
          "output_type": "stream",
          "name": "stderr",
          "text": [
            "INFO:prophet:Disabling yearly seasonality. Run prophet with yearly_seasonality=True to override this.\n",
            "INFO:prophet:Disabling daily seasonality. Run prophet with daily_seasonality=True to override this.\n",
            "DEBUG:cmdstanpy:input tempfile: /tmp/tmpmo9k28to/iyeshtka.json\n",
            "DEBUG:cmdstanpy:input tempfile: /tmp/tmpmo9k28to/jngk9l8e.json\n",
            "DEBUG:cmdstanpy:idx 0\n",
            "DEBUG:cmdstanpy:running CmdStan, num_threads: None\n",
            "DEBUG:cmdstanpy:CmdStan args: ['/usr/local/lib/python3.10/dist-packages/prophet/stan_model/prophet_model.bin', 'random', 'seed=33355', 'data', 'file=/tmp/tmpmo9k28to/iyeshtka.json', 'init=/tmp/tmpmo9k28to/jngk9l8e.json', 'output', 'file=/tmp/tmpmo9k28to/prophet_modeldo8ignde/prophet_model-20230930121353.csv', 'method=optimize', 'algorithm=lbfgs', 'iter=10000']\n",
            "12:13:53 - cmdstanpy - INFO - Chain [1] start processing\n",
            "INFO:cmdstanpy:Chain [1] start processing\n",
            "12:13:53 - cmdstanpy - INFO - Chain [1] done processing\n",
            "INFO:cmdstanpy:Chain [1] done processing\n"
          ]
        },
        {
          "output_type": "stream",
          "name": "stdout",
          "text": [
            "+++++++++++++++++++++++++++++++++++++++++++++++++++++++++++++++++++++++++++++++++++++++ [('Prophet', 49.7652), ('ARIMA', 1.9906), ('ETS', 28.7332), ('XGBoost', 4.2129), ('Greykite', inf)]\n",
            "+++++++++++++++++++++++++++++++++++++++++++++++++++++++++++++++++++++++++++++++++++++++ ARIMA 92 415 2\n"
          ]
        },
        {
          "output_type": "stream",
          "name": "stderr",
          "text": [
            "INFO:prophet:Disabling yearly seasonality. Run prophet with yearly_seasonality=True to override this.\n",
            "INFO:prophet:Disabling daily seasonality. Run prophet with daily_seasonality=True to override this.\n",
            "DEBUG:cmdstanpy:input tempfile: /tmp/tmpmo9k28to/n1_j3c1i.json\n",
            "DEBUG:cmdstanpy:input tempfile: /tmp/tmpmo9k28to/s94y5owx.json\n",
            "DEBUG:cmdstanpy:idx 0\n",
            "DEBUG:cmdstanpy:running CmdStan, num_threads: None\n",
            "DEBUG:cmdstanpy:CmdStan args: ['/usr/local/lib/python3.10/dist-packages/prophet/stan_model/prophet_model.bin', 'random', 'seed=51345', 'data', 'file=/tmp/tmpmo9k28to/n1_j3c1i.json', 'init=/tmp/tmpmo9k28to/s94y5owx.json', 'output', 'file=/tmp/tmpmo9k28to/prophet_model1fynvf3d/prophet_model-20230930121357.csv', 'method=optimize', 'algorithm=lbfgs', 'iter=10000']\n",
            "12:13:57 - cmdstanpy - INFO - Chain [1] start processing\n",
            "INFO:cmdstanpy:Chain [1] start processing\n",
            "12:13:58 - cmdstanpy - INFO - Chain [1] done processing\n",
            "INFO:cmdstanpy:Chain [1] done processing\n"
          ]
        },
        {
          "output_type": "stream",
          "name": "stdout",
          "text": [
            "+++++++++++++++++++++++++++++++++++++++++++++++++++++++++++++++++++++++++++++++++++++++ [('Prophet', 102.3265), ('ARIMA', 14.3319), ('ETS', 48.5246), ('XGBoost', 18.7994), ('Greykite', inf)]\n",
            "+++++++++++++++++++++++++++++++++++++++++++++++++++++++++++++++++++++++++++++++++++++++ ARIMA 93 417 2\n"
          ]
        },
        {
          "output_type": "stream",
          "name": "stderr",
          "text": [
            "INFO:prophet:Disabling yearly seasonality. Run prophet with yearly_seasonality=True to override this.\n",
            "INFO:prophet:Disabling daily seasonality. Run prophet with daily_seasonality=True to override this.\n",
            "DEBUG:cmdstanpy:input tempfile: /tmp/tmpmo9k28to/rc9txldu.json\n",
            "DEBUG:cmdstanpy:input tempfile: /tmp/tmpmo9k28to/ht1sgxwn.json\n",
            "DEBUG:cmdstanpy:idx 0\n",
            "DEBUG:cmdstanpy:running CmdStan, num_threads: None\n",
            "DEBUG:cmdstanpy:CmdStan args: ['/usr/local/lib/python3.10/dist-packages/prophet/stan_model/prophet_model.bin', 'random', 'seed=44877', 'data', 'file=/tmp/tmpmo9k28to/rc9txldu.json', 'init=/tmp/tmpmo9k28to/ht1sgxwn.json', 'output', 'file=/tmp/tmpmo9k28to/prophet_model9zu1j_5_/prophet_model-20230930121405.csv', 'method=optimize', 'algorithm=lbfgs', 'iter=10000']\n",
            "12:14:05 - cmdstanpy - INFO - Chain [1] start processing\n",
            "INFO:cmdstanpy:Chain [1] start processing\n",
            "12:14:05 - cmdstanpy - INFO - Chain [1] done processing\n",
            "INFO:cmdstanpy:Chain [1] done processing\n"
          ]
        },
        {
          "output_type": "stream",
          "name": "stdout",
          "text": [
            "+++++++++++++++++++++++++++++++++++++++++++++++++++++++++++++++++++++++++++++++++++++++ [('Prophet', 198.1403), ('ARIMA', 14.7704), ('ETS', 141.2541), ('XGBoost', 147.4046), ('Greykite', inf)]\n",
            "+++++++++++++++++++++++++++++++++++++++++++++++++++++++++++++++++++++++++++++++++++++++ ARIMA 94 419 2\n"
          ]
        },
        {
          "output_type": "stream",
          "name": "stderr",
          "text": [
            "INFO:prophet:Disabling yearly seasonality. Run prophet with yearly_seasonality=True to override this.\n",
            "INFO:prophet:Disabling daily seasonality. Run prophet with daily_seasonality=True to override this.\n",
            "DEBUG:cmdstanpy:input tempfile: /tmp/tmpmo9k28to/z2rc7gks.json\n",
            "DEBUG:cmdstanpy:input tempfile: /tmp/tmpmo9k28to/cwa6kcmg.json\n",
            "DEBUG:cmdstanpy:idx 0\n",
            "DEBUG:cmdstanpy:running CmdStan, num_threads: None\n",
            "DEBUG:cmdstanpy:CmdStan args: ['/usr/local/lib/python3.10/dist-packages/prophet/stan_model/prophet_model.bin', 'random', 'seed=67056', 'data', 'file=/tmp/tmpmo9k28to/z2rc7gks.json', 'init=/tmp/tmpmo9k28to/cwa6kcmg.json', 'output', 'file=/tmp/tmpmo9k28to/prophet_modelotxlonrd/prophet_model-20230930121409.csv', 'method=optimize', 'algorithm=lbfgs', 'iter=10000']\n",
            "12:14:09 - cmdstanpy - INFO - Chain [1] start processing\n",
            "INFO:cmdstanpy:Chain [1] start processing\n",
            "12:14:09 - cmdstanpy - INFO - Chain [1] done processing\n",
            "INFO:cmdstanpy:Chain [1] done processing\n"
          ]
        },
        {
          "output_type": "stream",
          "name": "stdout",
          "text": [
            "+++++++++++++++++++++++++++++++++++++++++++++++++++++++++++++++++++++++++++++++++++++++ [('Prophet', 42.4158), ('ARIMA', 7.0384), ('ETS', 46.3904), ('XGBoost', 33.2693), ('Greykite', inf)]\n",
            "+++++++++++++++++++++++++++++++++++++++++++++++++++++++++++++++++++++++++++++++++++++++ ARIMA 95 421 2\n"
          ]
        },
        {
          "output_type": "stream",
          "name": "stderr",
          "text": [
            "INFO:prophet:Disabling yearly seasonality. Run prophet with yearly_seasonality=True to override this.\n",
            "INFO:prophet:Disabling daily seasonality. Run prophet with daily_seasonality=True to override this.\n",
            "DEBUG:cmdstanpy:input tempfile: /tmp/tmpmo9k28to/yfsovg4z.json\n",
            "DEBUG:cmdstanpy:input tempfile: /tmp/tmpmo9k28to/buw9xwgh.json\n",
            "DEBUG:cmdstanpy:idx 0\n",
            "DEBUG:cmdstanpy:running CmdStan, num_threads: None\n",
            "DEBUG:cmdstanpy:CmdStan args: ['/usr/local/lib/python3.10/dist-packages/prophet/stan_model/prophet_model.bin', 'random', 'seed=13240', 'data', 'file=/tmp/tmpmo9k28to/yfsovg4z.json', 'init=/tmp/tmpmo9k28to/buw9xwgh.json', 'output', 'file=/tmp/tmpmo9k28to/prophet_modelxfkbe0ew/prophet_model-20230930121414.csv', 'method=optimize', 'algorithm=lbfgs', 'iter=10000']\n",
            "12:14:14 - cmdstanpy - INFO - Chain [1] start processing\n",
            "INFO:cmdstanpy:Chain [1] start processing\n",
            "12:14:14 - cmdstanpy - INFO - Chain [1] done processing\n",
            "INFO:cmdstanpy:Chain [1] done processing\n"
          ]
        },
        {
          "output_type": "stream",
          "name": "stdout",
          "text": [
            "+++++++++++++++++++++++++++++++++++++++++++++++++++++++++++++++++++++++++++++++++++++++ [('Prophet', 49.6023), ('ARIMA', 9.5843), ('ETS', 29.4052), ('XGBoost', 80.0524), ('Greykite', inf)]\n",
            "+++++++++++++++++++++++++++++++++++++++++++++++++++++++++++++++++++++++++++++++++++++++ ARIMA 96 423 2\n"
          ]
        },
        {
          "output_type": "stream",
          "name": "stderr",
          "text": [
            "INFO:prophet:Disabling yearly seasonality. Run prophet with yearly_seasonality=True to override this.\n",
            "INFO:prophet:Disabling daily seasonality. Run prophet with daily_seasonality=True to override this.\n",
            "DEBUG:cmdstanpy:input tempfile: /tmp/tmpmo9k28to/g_2fjav5.json\n",
            "DEBUG:cmdstanpy:input tempfile: /tmp/tmpmo9k28to/kwt39_gx.json\n",
            "DEBUG:cmdstanpy:idx 0\n",
            "DEBUG:cmdstanpy:running CmdStan, num_threads: None\n",
            "DEBUG:cmdstanpy:CmdStan args: ['/usr/local/lib/python3.10/dist-packages/prophet/stan_model/prophet_model.bin', 'random', 'seed=31584', 'data', 'file=/tmp/tmpmo9k28to/g_2fjav5.json', 'init=/tmp/tmpmo9k28to/kwt39_gx.json', 'output', 'file=/tmp/tmpmo9k28to/prophet_modeltzmyql08/prophet_model-20230930121421.csv', 'method=optimize', 'algorithm=lbfgs', 'iter=10000']\n",
            "12:14:21 - cmdstanpy - INFO - Chain [1] start processing\n",
            "INFO:cmdstanpy:Chain [1] start processing\n",
            "12:14:21 - cmdstanpy - INFO - Chain [1] done processing\n",
            "INFO:cmdstanpy:Chain [1] done processing\n"
          ]
        },
        {
          "output_type": "stream",
          "name": "stdout",
          "text": [
            "+++++++++++++++++++++++++++++++++++++++++++++++++++++++++++++++++++++++++++++++++++++++ [('Prophet', 188.3686), ('ARIMA', 8.3616), ('ETS', 96.8353), ('XGBoost', 256.7095), ('Greykite', inf)]\n",
            "+++++++++++++++++++++++++++++++++++++++++++++++++++++++++++++++++++++++++++++++++++++++ ARIMA 97 425 2\n"
          ]
        },
        {
          "output_type": "stream",
          "name": "stderr",
          "text": [
            "INFO:prophet:Disabling yearly seasonality. Run prophet with yearly_seasonality=True to override this.\n",
            "INFO:prophet:Disabling daily seasonality. Run prophet with daily_seasonality=True to override this.\n",
            "DEBUG:cmdstanpy:input tempfile: /tmp/tmpmo9k28to/rpezycjj.json\n",
            "DEBUG:cmdstanpy:input tempfile: /tmp/tmpmo9k28to/yahim7vg.json\n",
            "DEBUG:cmdstanpy:idx 0\n",
            "DEBUG:cmdstanpy:running CmdStan, num_threads: None\n",
            "DEBUG:cmdstanpy:CmdStan args: ['/usr/local/lib/python3.10/dist-packages/prophet/stan_model/prophet_model.bin', 'random', 'seed=55695', 'data', 'file=/tmp/tmpmo9k28to/rpezycjj.json', 'init=/tmp/tmpmo9k28to/yahim7vg.json', 'output', 'file=/tmp/tmpmo9k28to/prophet_model4cd2t3m5/prophet_model-20230930121425.csv', 'method=optimize', 'algorithm=lbfgs', 'iter=10000']\n",
            "12:14:25 - cmdstanpy - INFO - Chain [1] start processing\n",
            "INFO:cmdstanpy:Chain [1] start processing\n",
            "12:14:25 - cmdstanpy - INFO - Chain [1] done processing\n",
            "INFO:cmdstanpy:Chain [1] done processing\n"
          ]
        },
        {
          "output_type": "stream",
          "name": "stdout",
          "text": [
            "+++++++++++++++++++++++++++++++++++++++++++++++++++++++++++++++++++++++++++++++++++++++ [('Prophet', 58.0772), ('ARIMA', 33.411), ('ETS', 47.194), ('XGBoost', 19.7525), ('Greykite', inf)]\n",
            "+++++++++++++++++++++++++++++++++++++++++++++++++++++++++++++++++++++++++++++++++++++++ XGBoost 98 427 2\n"
          ]
        },
        {
          "output_type": "stream",
          "name": "stderr",
          "text": [
            "INFO:prophet:Disabling yearly seasonality. Run prophet with yearly_seasonality=True to override this.\n",
            "INFO:prophet:Disabling daily seasonality. Run prophet with daily_seasonality=True to override this.\n",
            "DEBUG:cmdstanpy:input tempfile: /tmp/tmpmo9k28to/tn4g0csu.json\n",
            "DEBUG:cmdstanpy:input tempfile: /tmp/tmpmo9k28to/fr92sdmy.json\n",
            "DEBUG:cmdstanpy:idx 0\n",
            "DEBUG:cmdstanpy:running CmdStan, num_threads: None\n",
            "DEBUG:cmdstanpy:CmdStan args: ['/usr/local/lib/python3.10/dist-packages/prophet/stan_model/prophet_model.bin', 'random', 'seed=96707', 'data', 'file=/tmp/tmpmo9k28to/tn4g0csu.json', 'init=/tmp/tmpmo9k28to/fr92sdmy.json', 'output', 'file=/tmp/tmpmo9k28to/prophet_model6ulnxxle/prophet_model-20230930121430.csv', 'method=optimize', 'algorithm=lbfgs', 'iter=10000']\n",
            "12:14:30 - cmdstanpy - INFO - Chain [1] start processing\n",
            "INFO:cmdstanpy:Chain [1] start processing\n",
            "12:14:30 - cmdstanpy - INFO - Chain [1] done processing\n",
            "INFO:cmdstanpy:Chain [1] done processing\n"
          ]
        },
        {
          "output_type": "stream",
          "name": "stdout",
          "text": [
            "+++++++++++++++++++++++++++++++++++++++++++++++++++++++++++++++++++++++++++++++++++++++ [('Prophet', 69.639), ('ARIMA', 29.098), ('ETS', 45.5832), ('XGBoost', 41.8838), ('Greykite', inf)]\n",
            "+++++++++++++++++++++++++++++++++++++++++++++++++++++++++++++++++++++++++++++++++++++++ ARIMA 99 429 2\n"
          ]
        },
        {
          "output_type": "stream",
          "name": "stderr",
          "text": [
            "INFO:prophet:Disabling yearly seasonality. Run prophet with yearly_seasonality=True to override this.\n",
            "INFO:prophet:Disabling daily seasonality. Run prophet with daily_seasonality=True to override this.\n",
            "DEBUG:cmdstanpy:input tempfile: /tmp/tmpmo9k28to/emcz77zw.json\n",
            "DEBUG:cmdstanpy:input tempfile: /tmp/tmpmo9k28to/2_cnbebb.json\n",
            "DEBUG:cmdstanpy:idx 0\n",
            "DEBUG:cmdstanpy:running CmdStan, num_threads: None\n",
            "DEBUG:cmdstanpy:CmdStan args: ['/usr/local/lib/python3.10/dist-packages/prophet/stan_model/prophet_model.bin', 'random', 'seed=91118', 'data', 'file=/tmp/tmpmo9k28to/emcz77zw.json', 'init=/tmp/tmpmo9k28to/2_cnbebb.json', 'output', 'file=/tmp/tmpmo9k28to/prophet_modeldnmxbpt0/prophet_model-20230930121437.csv', 'method=optimize', 'algorithm=lbfgs', 'iter=10000']\n",
            "12:14:37 - cmdstanpy - INFO - Chain [1] start processing\n",
            "INFO:cmdstanpy:Chain [1] start processing\n",
            "12:14:37 - cmdstanpy - INFO - Chain [1] done processing\n",
            "INFO:cmdstanpy:Chain [1] done processing\n"
          ]
        },
        {
          "output_type": "stream",
          "name": "stdout",
          "text": [
            "+++++++++++++++++++++++++++++++++++++++++++++++++++++++++++++++++++++++++++++++++++++++ [('Prophet', 89.9875), ('ARIMA', 82.5424), ('ETS', 137.0996), ('XGBoost', 19.6514), ('Greykite', inf)]\n",
            "+++++++++++++++++++++++++++++++++++++++++++++++++++++++++++++++++++++++++++++++++++++++ XGBoost 100 431 2\n"
          ]
        },
        {
          "output_type": "stream",
          "name": "stderr",
          "text": [
            "INFO:prophet:Disabling yearly seasonality. Run prophet with yearly_seasonality=True to override this.\n",
            "INFO:prophet:Disabling daily seasonality. Run prophet with daily_seasonality=True to override this.\n",
            "DEBUG:cmdstanpy:input tempfile: /tmp/tmpmo9k28to/m6gysz7d.json\n",
            "DEBUG:cmdstanpy:input tempfile: /tmp/tmpmo9k28to/k5co4_yi.json\n",
            "DEBUG:cmdstanpy:idx 0\n",
            "DEBUG:cmdstanpy:running CmdStan, num_threads: None\n",
            "DEBUG:cmdstanpy:CmdStan args: ['/usr/local/lib/python3.10/dist-packages/prophet/stan_model/prophet_model.bin', 'random', 'seed=572', 'data', 'file=/tmp/tmpmo9k28to/m6gysz7d.json', 'init=/tmp/tmpmo9k28to/k5co4_yi.json', 'output', 'file=/tmp/tmpmo9k28to/prophet_modeln45prgrb/prophet_model-20230930121442.csv', 'method=optimize', 'algorithm=lbfgs', 'iter=10000']\n",
            "12:14:42 - cmdstanpy - INFO - Chain [1] start processing\n",
            "INFO:cmdstanpy:Chain [1] start processing\n",
            "12:14:42 - cmdstanpy - INFO - Chain [1] done processing\n",
            "INFO:cmdstanpy:Chain [1] done processing\n"
          ]
        },
        {
          "output_type": "stream",
          "name": "stdout",
          "text": [
            "+++++++++++++++++++++++++++++++++++++++++++++++++++++++++++++++++++++++++++++++++++++++ [('Prophet', 205.8218), ('ARIMA', 117.3859), ('ETS', 236.8679), ('XGBoost', 285.8314), ('Greykite', inf)]\n",
            "+++++++++++++++++++++++++++++++++++++++++++++++++++++++++++++++++++++++++++++++++++++++ ARIMA 101 433 2\n"
          ]
        },
        {
          "output_type": "stream",
          "name": "stderr",
          "text": [
            "INFO:prophet:Disabling yearly seasonality. Run prophet with yearly_seasonality=True to override this.\n",
            "INFO:prophet:Disabling daily seasonality. Run prophet with daily_seasonality=True to override this.\n",
            "DEBUG:cmdstanpy:input tempfile: /tmp/tmpmo9k28to/s7w_1sim.json\n",
            "DEBUG:cmdstanpy:input tempfile: /tmp/tmpmo9k28to/t_c1j5zc.json\n",
            "DEBUG:cmdstanpy:idx 0\n",
            "DEBUG:cmdstanpy:running CmdStan, num_threads: None\n",
            "DEBUG:cmdstanpy:CmdStan args: ['/usr/local/lib/python3.10/dist-packages/prophet/stan_model/prophet_model.bin', 'random', 'seed=62512', 'data', 'file=/tmp/tmpmo9k28to/s7w_1sim.json', 'init=/tmp/tmpmo9k28to/t_c1j5zc.json', 'output', 'file=/tmp/tmpmo9k28to/prophet_modelfr1tcwa9/prophet_model-20230930121447.csv', 'method=optimize', 'algorithm=lbfgs', 'iter=10000']\n",
            "12:14:47 - cmdstanpy - INFO - Chain [1] start processing\n",
            "INFO:cmdstanpy:Chain [1] start processing\n",
            "12:14:47 - cmdstanpy - INFO - Chain [1] done processing\n",
            "INFO:cmdstanpy:Chain [1] done processing\n"
          ]
        },
        {
          "output_type": "stream",
          "name": "stdout",
          "text": [
            "+++++++++++++++++++++++++++++++++++++++++++++++++++++++++++++++++++++++++++++++++++++++ [('Prophet', 28.0988), ('ARIMA', 38.2022), ('ETS', 10.8855), ('XGBoost', 61.696), ('Greykite', inf)]\n",
            "+++++++++++++++++++++++++++++++++++++++++++++++++++++++++++++++++++++++++++++++++++++++ ETS 102 435 2\n"
          ]
        },
        {
          "output_type": "stream",
          "name": "stderr",
          "text": [
            "INFO:prophet:Disabling yearly seasonality. Run prophet with yearly_seasonality=True to override this.\n",
            "INFO:prophet:Disabling daily seasonality. Run prophet with daily_seasonality=True to override this.\n",
            "DEBUG:cmdstanpy:input tempfile: /tmp/tmpmo9k28to/vtuac9n4.json\n",
            "DEBUG:cmdstanpy:input tempfile: /tmp/tmpmo9k28to/kbkiz3nh.json\n",
            "DEBUG:cmdstanpy:idx 0\n",
            "DEBUG:cmdstanpy:running CmdStan, num_threads: None\n",
            "DEBUG:cmdstanpy:CmdStan args: ['/usr/local/lib/python3.10/dist-packages/prophet/stan_model/prophet_model.bin', 'random', 'seed=68602', 'data', 'file=/tmp/tmpmo9k28to/vtuac9n4.json', 'init=/tmp/tmpmo9k28to/kbkiz3nh.json', 'output', 'file=/tmp/tmpmo9k28to/prophet_modelz5v_xb3q/prophet_model-20230930121456.csv', 'method=optimize', 'algorithm=lbfgs', 'iter=10000']\n",
            "12:14:56 - cmdstanpy - INFO - Chain [1] start processing\n",
            "INFO:cmdstanpy:Chain [1] start processing\n",
            "12:14:56 - cmdstanpy - INFO - Chain [1] done processing\n",
            "INFO:cmdstanpy:Chain [1] done processing\n"
          ]
        },
        {
          "output_type": "stream",
          "name": "stdout",
          "text": [
            "+++++++++++++++++++++++++++++++++++++++++++++++++++++++++++++++++++++++++++++++++++++++ [('Prophet', 28.429), ('ARIMA', 24.6414), ('ETS', 9.7562), ('XGBoost', 15.3834), ('Greykite', inf)]\n",
            "+++++++++++++++++++++++++++++++++++++++++++++++++++++++++++++++++++++++++++++++++++++++ ETS 103 437 2\n"
          ]
        },
        {
          "output_type": "stream",
          "name": "stderr",
          "text": [
            "INFO:prophet:Disabling yearly seasonality. Run prophet with yearly_seasonality=True to override this.\n",
            "INFO:prophet:Disabling daily seasonality. Run prophet with daily_seasonality=True to override this.\n",
            "DEBUG:cmdstanpy:input tempfile: /tmp/tmpmo9k28to/m8s29id8.json\n",
            "DEBUG:cmdstanpy:input tempfile: /tmp/tmpmo9k28to/3ofnud69.json\n",
            "DEBUG:cmdstanpy:idx 0\n",
            "DEBUG:cmdstanpy:running CmdStan, num_threads: None\n",
            "DEBUG:cmdstanpy:CmdStan args: ['/usr/local/lib/python3.10/dist-packages/prophet/stan_model/prophet_model.bin', 'random', 'seed=59214', 'data', 'file=/tmp/tmpmo9k28to/m8s29id8.json', 'init=/tmp/tmpmo9k28to/3ofnud69.json', 'output', 'file=/tmp/tmpmo9k28to/prophet_modelac6igpzv/prophet_model-20230930121500.csv', 'method=optimize', 'algorithm=lbfgs', 'iter=10000']\n",
            "12:15:00 - cmdstanpy - INFO - Chain [1] start processing\n",
            "INFO:cmdstanpy:Chain [1] start processing\n",
            "12:15:00 - cmdstanpy - INFO - Chain [1] done processing\n",
            "INFO:cmdstanpy:Chain [1] done processing\n"
          ]
        },
        {
          "output_type": "stream",
          "name": "stdout",
          "text": [
            "+++++++++++++++++++++++++++++++++++++++++++++++++++++++++++++++++++++++++++++++++++++++ [('Prophet', 389.4984), ('ARIMA', 43.5629), ('ETS', 223.5261), ('XGBoost', 232.0228), ('Greykite', inf)]\n",
            "+++++++++++++++++++++++++++++++++++++++++++++++++++++++++++++++++++++++++++++++++++++++ ARIMA 104 439 2\n"
          ]
        },
        {
          "output_type": "stream",
          "name": "stderr",
          "text": [
            "INFO:prophet:Disabling yearly seasonality. Run prophet with yearly_seasonality=True to override this.\n",
            "INFO:prophet:Disabling daily seasonality. Run prophet with daily_seasonality=True to override this.\n",
            "DEBUG:cmdstanpy:input tempfile: /tmp/tmpmo9k28to/c5rwqkbh.json\n",
            "DEBUG:cmdstanpy:input tempfile: /tmp/tmpmo9k28to/wlxficqj.json\n",
            "DEBUG:cmdstanpy:idx 0\n",
            "DEBUG:cmdstanpy:running CmdStan, num_threads: None\n",
            "DEBUG:cmdstanpy:CmdStan args: ['/usr/local/lib/python3.10/dist-packages/prophet/stan_model/prophet_model.bin', 'random', 'seed=13451', 'data', 'file=/tmp/tmpmo9k28to/c5rwqkbh.json', 'init=/tmp/tmpmo9k28to/wlxficqj.json', 'output', 'file=/tmp/tmpmo9k28to/prophet_model0pljnbmh/prophet_model-20230930121507.csv', 'method=optimize', 'algorithm=lbfgs', 'iter=10000']\n",
            "12:15:07 - cmdstanpy - INFO - Chain [1] start processing\n",
            "INFO:cmdstanpy:Chain [1] start processing\n",
            "12:15:07 - cmdstanpy - INFO - Chain [1] done processing\n",
            "INFO:cmdstanpy:Chain [1] done processing\n"
          ]
        },
        {
          "output_type": "stream",
          "name": "stdout",
          "text": [
            "+++++++++++++++++++++++++++++++++++++++++++++++++++++++++++++++++++++++++++++++++++++++ [('Prophet', 35.2353), ('ARIMA', 20.2168), ('ETS', 41.4505), ('XGBoost', 15.7653), ('Greykite', inf)]\n",
            "+++++++++++++++++++++++++++++++++++++++++++++++++++++++++++++++++++++++++++++++++++++++ XGBoost 105 441 2\n"
          ]
        },
        {
          "output_type": "stream",
          "name": "stderr",
          "text": [
            "INFO:prophet:Disabling yearly seasonality. Run prophet with yearly_seasonality=True to override this.\n",
            "INFO:prophet:Disabling daily seasonality. Run prophet with daily_seasonality=True to override this.\n",
            "DEBUG:cmdstanpy:input tempfile: /tmp/tmpmo9k28to/dwp3xqyy.json\n",
            "DEBUG:cmdstanpy:input tempfile: /tmp/tmpmo9k28to/3fzlm4c9.json\n",
            "DEBUG:cmdstanpy:idx 0\n",
            "DEBUG:cmdstanpy:running CmdStan, num_threads: None\n",
            "DEBUG:cmdstanpy:CmdStan args: ['/usr/local/lib/python3.10/dist-packages/prophet/stan_model/prophet_model.bin', 'random', 'seed=29680', 'data', 'file=/tmp/tmpmo9k28to/dwp3xqyy.json', 'init=/tmp/tmpmo9k28to/3fzlm4c9.json', 'output', 'file=/tmp/tmpmo9k28to/prophet_modelfnqlywoa/prophet_model-20230930121513.csv', 'method=optimize', 'algorithm=lbfgs', 'iter=10000']\n",
            "12:15:13 - cmdstanpy - INFO - Chain [1] start processing\n",
            "INFO:cmdstanpy:Chain [1] start processing\n",
            "12:15:13 - cmdstanpy - INFO - Chain [1] done processing\n",
            "INFO:cmdstanpy:Chain [1] done processing\n"
          ]
        },
        {
          "output_type": "stream",
          "name": "stdout",
          "text": [
            "+++++++++++++++++++++++++++++++++++++++++++++++++++++++++++++++++++++++++++++++++++++++ [('Prophet', 38.5813), ('ARIMA', 12.801), ('ETS', 30.4245), ('XGBoost', 4.2113), ('Greykite', inf)]\n",
            "+++++++++++++++++++++++++++++++++++++++++++++++++++++++++++++++++++++++++++++++++++++++ XGBoost 106 443 2\n"
          ]
        },
        {
          "output_type": "stream",
          "name": "stderr",
          "text": [
            "INFO:prophet:Disabling yearly seasonality. Run prophet with yearly_seasonality=True to override this.\n",
            "INFO:prophet:Disabling daily seasonality. Run prophet with daily_seasonality=True to override this.\n",
            "DEBUG:cmdstanpy:input tempfile: /tmp/tmpmo9k28to/wuux1mzw.json\n",
            "DEBUG:cmdstanpy:input tempfile: /tmp/tmpmo9k28to/lz8wyunv.json\n",
            "DEBUG:cmdstanpy:idx 0\n",
            "DEBUG:cmdstanpy:running CmdStan, num_threads: None\n",
            "DEBUG:cmdstanpy:CmdStan args: ['/usr/local/lib/python3.10/dist-packages/prophet/stan_model/prophet_model.bin', 'random', 'seed=61995', 'data', 'file=/tmp/tmpmo9k28to/wuux1mzw.json', 'init=/tmp/tmpmo9k28to/lz8wyunv.json', 'output', 'file=/tmp/tmpmo9k28to/prophet_modelvjjmd2f1/prophet_model-20230930121518.csv', 'method=optimize', 'algorithm=lbfgs', 'iter=10000']\n",
            "12:15:18 - cmdstanpy - INFO - Chain [1] start processing\n",
            "INFO:cmdstanpy:Chain [1] start processing\n",
            "12:15:18 - cmdstanpy - INFO - Chain [1] done processing\n",
            "INFO:cmdstanpy:Chain [1] done processing\n"
          ]
        },
        {
          "output_type": "stream",
          "name": "stdout",
          "text": [
            "+++++++++++++++++++++++++++++++++++++++++++++++++++++++++++++++++++++++++++++++++++++++ [('Prophet', 422.8948), ('ARIMA', 103.4448), ('ETS', 211.1464), ('XGBoost', 81.2793), ('Greykite', inf)]\n",
            "+++++++++++++++++++++++++++++++++++++++++++++++++++++++++++++++++++++++++++++++++++++++ XGBoost 107 445 2\n"
          ]
        },
        {
          "output_type": "stream",
          "name": "stderr",
          "text": [
            "INFO:prophet:Disabling yearly seasonality. Run prophet with yearly_seasonality=True to override this.\n",
            "INFO:prophet:Disabling daily seasonality. Run prophet with daily_seasonality=True to override this.\n",
            "DEBUG:cmdstanpy:input tempfile: /tmp/tmpmo9k28to/t422bqkf.json\n",
            "DEBUG:cmdstanpy:input tempfile: /tmp/tmpmo9k28to/c04shj0i.json\n",
            "DEBUG:cmdstanpy:idx 0\n",
            "DEBUG:cmdstanpy:running CmdStan, num_threads: None\n",
            "DEBUG:cmdstanpy:CmdStan args: ['/usr/local/lib/python3.10/dist-packages/prophet/stan_model/prophet_model.bin', 'random', 'seed=51048', 'data', 'file=/tmp/tmpmo9k28to/t422bqkf.json', 'init=/tmp/tmpmo9k28to/c04shj0i.json', 'output', 'file=/tmp/tmpmo9k28to/prophet_model6g5m_3_m/prophet_model-20230930121526.csv', 'method=optimize', 'algorithm=lbfgs', 'iter=10000']\n",
            "12:15:26 - cmdstanpy - INFO - Chain [1] start processing\n",
            "INFO:cmdstanpy:Chain [1] start processing\n",
            "12:15:26 - cmdstanpy - INFO - Chain [1] done processing\n",
            "INFO:cmdstanpy:Chain [1] done processing\n"
          ]
        },
        {
          "output_type": "stream",
          "name": "stdout",
          "text": [
            "+++++++++++++++++++++++++++++++++++++++++++++++++++++++++++++++++++++++++++++++++++++++ [('Prophet', 246.7641), ('ARIMA', 39.2583), ('ETS', 109.4222), ('XGBoost', 165.6357), ('Greykite', inf)]\n",
            "+++++++++++++++++++++++++++++++++++++++++++++++++++++++++++++++++++++++++++++++++++++++ ARIMA 108 447 2\n"
          ]
        },
        {
          "output_type": "stream",
          "name": "stderr",
          "text": [
            "INFO:prophet:Disabling yearly seasonality. Run prophet with yearly_seasonality=True to override this.\n",
            "INFO:prophet:Disabling daily seasonality. Run prophet with daily_seasonality=True to override this.\n",
            "DEBUG:cmdstanpy:input tempfile: /tmp/tmpmo9k28to/i7_wcx49.json\n",
            "DEBUG:cmdstanpy:input tempfile: /tmp/tmpmo9k28to/r1eryex2.json\n",
            "DEBUG:cmdstanpy:idx 0\n",
            "DEBUG:cmdstanpy:running CmdStan, num_threads: None\n",
            "DEBUG:cmdstanpy:CmdStan args: ['/usr/local/lib/python3.10/dist-packages/prophet/stan_model/prophet_model.bin', 'random', 'seed=57508', 'data', 'file=/tmp/tmpmo9k28to/i7_wcx49.json', 'init=/tmp/tmpmo9k28to/r1eryex2.json', 'output', 'file=/tmp/tmpmo9k28to/prophet_modelnl6hvqkv/prophet_model-20230930121530.csv', 'method=optimize', 'algorithm=lbfgs', 'iter=10000']\n",
            "12:15:30 - cmdstanpy - INFO - Chain [1] start processing\n",
            "INFO:cmdstanpy:Chain [1] start processing\n",
            "12:15:30 - cmdstanpy - INFO - Chain [1] done processing\n",
            "INFO:cmdstanpy:Chain [1] done processing\n"
          ]
        },
        {
          "output_type": "stream",
          "name": "stdout",
          "text": [
            "+++++++++++++++++++++++++++++++++++++++++++++++++++++++++++++++++++++++++++++++++++++++ [('Prophet', 32.3521), ('ARIMA', 7.4888), ('ETS', 40.0623), ('XGBoost', 12.9962), ('Greykite', inf)]\n",
            "+++++++++++++++++++++++++++++++++++++++++++++++++++++++++++++++++++++++++++++++++++++++ ARIMA 109 449 2\n"
          ]
        },
        {
          "output_type": "stream",
          "name": "stderr",
          "text": [
            "INFO:prophet:Disabling yearly seasonality. Run prophet with yearly_seasonality=True to override this.\n",
            "INFO:prophet:Disabling daily seasonality. Run prophet with daily_seasonality=True to override this.\n",
            "DEBUG:cmdstanpy:input tempfile: /tmp/tmpmo9k28to/oa3r1q4i.json\n",
            "DEBUG:cmdstanpy:input tempfile: /tmp/tmpmo9k28to/ljby2mz0.json\n",
            "DEBUG:cmdstanpy:idx 0\n",
            "DEBUG:cmdstanpy:running CmdStan, num_threads: None\n",
            "DEBUG:cmdstanpy:CmdStan args: ['/usr/local/lib/python3.10/dist-packages/prophet/stan_model/prophet_model.bin', 'random', 'seed=70460', 'data', 'file=/tmp/tmpmo9k28to/oa3r1q4i.json', 'init=/tmp/tmpmo9k28to/ljby2mz0.json', 'output', 'file=/tmp/tmpmo9k28to/prophet_modelswfb1x0g/prophet_model-20230930121535.csv', 'method=optimize', 'algorithm=lbfgs', 'iter=10000']\n",
            "12:15:35 - cmdstanpy - INFO - Chain [1] start processing\n",
            "INFO:cmdstanpy:Chain [1] start processing\n",
            "12:15:35 - cmdstanpy - INFO - Chain [1] done processing\n",
            "INFO:cmdstanpy:Chain [1] done processing\n"
          ]
        },
        {
          "output_type": "stream",
          "name": "stdout",
          "text": [
            "+++++++++++++++++++++++++++++++++++++++++++++++++++++++++++++++++++++++++++++++++++++++ [('Prophet', 40.2851), ('ARIMA', 6.4167), ('ETS', 22.3403), ('XGBoost', 34.4187), ('Greykite', inf)]\n",
            "+++++++++++++++++++++++++++++++++++++++++++++++++++++++++++++++++++++++++++++++++++++++ ARIMA 110 451 2\n"
          ]
        },
        {
          "output_type": "stream",
          "name": "stderr",
          "text": [
            "INFO:prophet:Disabling yearly seasonality. Run prophet with yearly_seasonality=True to override this.\n",
            "INFO:prophet:Disabling daily seasonality. Run prophet with daily_seasonality=True to override this.\n",
            "DEBUG:cmdstanpy:input tempfile: /tmp/tmpmo9k28to/cis0ej8e.json\n",
            "DEBUG:cmdstanpy:input tempfile: /tmp/tmpmo9k28to/jpvj5tbn.json\n",
            "DEBUG:cmdstanpy:idx 0\n",
            "DEBUG:cmdstanpy:running CmdStan, num_threads: None\n",
            "DEBUG:cmdstanpy:CmdStan args: ['/usr/local/lib/python3.10/dist-packages/prophet/stan_model/prophet_model.bin', 'random', 'seed=50279', 'data', 'file=/tmp/tmpmo9k28to/cis0ej8e.json', 'init=/tmp/tmpmo9k28to/jpvj5tbn.json', 'output', 'file=/tmp/tmpmo9k28to/prophet_modelyygndzfy/prophet_model-20230930121542.csv', 'method=optimize', 'algorithm=lbfgs', 'iter=10000']\n",
            "12:15:42 - cmdstanpy - INFO - Chain [1] start processing\n",
            "INFO:cmdstanpy:Chain [1] start processing\n",
            "12:15:42 - cmdstanpy - INFO - Chain [1] done processing\n",
            "INFO:cmdstanpy:Chain [1] done processing\n"
          ]
        },
        {
          "output_type": "stream",
          "name": "stdout",
          "text": [
            "+++++++++++++++++++++++++++++++++++++++++++++++++++++++++++++++++++++++++++++++++++++++ [('Prophet', 293.5912), ('ARIMA', 22.1702), ('ETS', 190.3421), ('XGBoost', 280.1675), ('Greykite', inf)]\n",
            "+++++++++++++++++++++++++++++++++++++++++++++++++++++++++++++++++++++++++++++++++++++++ ARIMA 111 453 2\n"
          ]
        },
        {
          "output_type": "stream",
          "name": "stderr",
          "text": [
            "INFO:prophet:Disabling yearly seasonality. Run prophet with yearly_seasonality=True to override this.\n",
            "INFO:prophet:Disabling daily seasonality. Run prophet with daily_seasonality=True to override this.\n",
            "DEBUG:cmdstanpy:input tempfile: /tmp/tmpmo9k28to/bdd80it0.json\n",
            "DEBUG:cmdstanpy:input tempfile: /tmp/tmpmo9k28to/y8uftc8d.json\n",
            "DEBUG:cmdstanpy:idx 0\n",
            "DEBUG:cmdstanpy:running CmdStan, num_threads: None\n",
            "DEBUG:cmdstanpy:CmdStan args: ['/usr/local/lib/python3.10/dist-packages/prophet/stan_model/prophet_model.bin', 'random', 'seed=54631', 'data', 'file=/tmp/tmpmo9k28to/bdd80it0.json', 'init=/tmp/tmpmo9k28to/y8uftc8d.json', 'output', 'file=/tmp/tmpmo9k28to/prophet_modelqsnei1w0/prophet_model-20230930121547.csv', 'method=optimize', 'algorithm=lbfgs', 'iter=10000']\n",
            "12:15:47 - cmdstanpy - INFO - Chain [1] start processing\n",
            "INFO:cmdstanpy:Chain [1] start processing\n",
            "12:15:47 - cmdstanpy - INFO - Chain [1] done processing\n",
            "INFO:cmdstanpy:Chain [1] done processing\n"
          ]
        },
        {
          "output_type": "stream",
          "name": "stdout",
          "text": [
            "+++++++++++++++++++++++++++++++++++++++++++++++++++++++++++++++++++++++++++++++++++++++ [('Prophet', 37.4674), ('ARIMA', 9.7146), ('ETS', 14.1029), ('XGBoost', 48.2976), ('Greykite', inf)]\n",
            "+++++++++++++++++++++++++++++++++++++++++++++++++++++++++++++++++++++++++++++++++++++++ ARIMA 112 455 2\n"
          ]
        },
        {
          "output_type": "stream",
          "name": "stderr",
          "text": [
            "INFO:prophet:Disabling yearly seasonality. Run prophet with yearly_seasonality=True to override this.\n",
            "INFO:prophet:Disabling daily seasonality. Run prophet with daily_seasonality=True to override this.\n",
            "DEBUG:cmdstanpy:input tempfile: /tmp/tmpmo9k28to/4k7886to.json\n",
            "DEBUG:cmdstanpy:input tempfile: /tmp/tmpmo9k28to/xi5u143f.json\n",
            "DEBUG:cmdstanpy:idx 0\n",
            "DEBUG:cmdstanpy:running CmdStan, num_threads: None\n",
            "DEBUG:cmdstanpy:CmdStan args: ['/usr/local/lib/python3.10/dist-packages/prophet/stan_model/prophet_model.bin', 'random', 'seed=43032', 'data', 'file=/tmp/tmpmo9k28to/4k7886to.json', 'init=/tmp/tmpmo9k28to/xi5u143f.json', 'output', 'file=/tmp/tmpmo9k28to/prophet_model03_ww4i8/prophet_model-20230930121555.csv', 'method=optimize', 'algorithm=lbfgs', 'iter=10000']\n",
            "12:15:55 - cmdstanpy - INFO - Chain [1] start processing\n",
            "INFO:cmdstanpy:Chain [1] start processing\n",
            "12:15:55 - cmdstanpy - INFO - Chain [1] done processing\n",
            "INFO:cmdstanpy:Chain [1] done processing\n"
          ]
        },
        {
          "output_type": "stream",
          "name": "stdout",
          "text": [
            "+++++++++++++++++++++++++++++++++++++++++++++++++++++++++++++++++++++++++++++++++++++++ [('Prophet', 35.5425), ('ARIMA', 9.7984), ('ETS', 36.0416), ('XGBoost', 44.0892), ('Greykite', inf)]\n",
            "+++++++++++++++++++++++++++++++++++++++++++++++++++++++++++++++++++++++++++++++++++++++ ARIMA 113 457 2\n"
          ]
        },
        {
          "output_type": "stream",
          "name": "stderr",
          "text": [
            "INFO:prophet:Disabling yearly seasonality. Run prophet with yearly_seasonality=True to override this.\n",
            "INFO:prophet:Disabling daily seasonality. Run prophet with daily_seasonality=True to override this.\n",
            "DEBUG:cmdstanpy:input tempfile: /tmp/tmpmo9k28to/czi94o_h.json\n",
            "DEBUG:cmdstanpy:input tempfile: /tmp/tmpmo9k28to/2wjww0zh.json\n",
            "DEBUG:cmdstanpy:idx 0\n",
            "DEBUG:cmdstanpy:running CmdStan, num_threads: None\n",
            "DEBUG:cmdstanpy:CmdStan args: ['/usr/local/lib/python3.10/dist-packages/prophet/stan_model/prophet_model.bin', 'random', 'seed=25149', 'data', 'file=/tmp/tmpmo9k28to/czi94o_h.json', 'init=/tmp/tmpmo9k28to/2wjww0zh.json', 'output', 'file=/tmp/tmpmo9k28to/prophet_modelzsr3zzg3/prophet_model-20230930121559.csv', 'method=optimize', 'algorithm=lbfgs', 'iter=10000']\n",
            "12:15:59 - cmdstanpy - INFO - Chain [1] start processing\n",
            "INFO:cmdstanpy:Chain [1] start processing\n",
            "12:15:59 - cmdstanpy - INFO - Chain [1] done processing\n",
            "INFO:cmdstanpy:Chain [1] done processing\n"
          ]
        },
        {
          "output_type": "stream",
          "name": "stdout",
          "text": [
            "+++++++++++++++++++++++++++++++++++++++++++++++++++++++++++++++++++++++++++++++++++++++ [('Prophet', 109.0565), ('ARIMA', 2.6301), ('ETS', 44.3), ('XGBoost', 41.0781), ('Greykite', inf)]\n",
            "+++++++++++++++++++++++++++++++++++++++++++++++++++++++++++++++++++++++++++++++++++++++ ARIMA 114 459 2\n"
          ]
        },
        {
          "output_type": "stream",
          "name": "stderr",
          "text": [
            "INFO:prophet:Disabling yearly seasonality. Run prophet with yearly_seasonality=True to override this.\n",
            "INFO:prophet:Disabling daily seasonality. Run prophet with daily_seasonality=True to override this.\n",
            "DEBUG:cmdstanpy:input tempfile: /tmp/tmpmo9k28to/dgrlkoxu.json\n",
            "DEBUG:cmdstanpy:input tempfile: /tmp/tmpmo9k28to/9g0f0sw3.json\n",
            "DEBUG:cmdstanpy:idx 0\n",
            "DEBUG:cmdstanpy:running CmdStan, num_threads: None\n",
            "DEBUG:cmdstanpy:CmdStan args: ['/usr/local/lib/python3.10/dist-packages/prophet/stan_model/prophet_model.bin', 'random', 'seed=10917', 'data', 'file=/tmp/tmpmo9k28to/dgrlkoxu.json', 'init=/tmp/tmpmo9k28to/9g0f0sw3.json', 'output', 'file=/tmp/tmpmo9k28to/prophet_model3b7xariu/prophet_model-20230930121604.csv', 'method=optimize', 'algorithm=lbfgs', 'iter=10000']\n",
            "12:16:04 - cmdstanpy - INFO - Chain [1] start processing\n",
            "INFO:cmdstanpy:Chain [1] start processing\n",
            "12:16:04 - cmdstanpy - INFO - Chain [1] done processing\n",
            "INFO:cmdstanpy:Chain [1] done processing\n"
          ]
        },
        {
          "output_type": "stream",
          "name": "stdout",
          "text": [
            "+++++++++++++++++++++++++++++++++++++++++++++++++++++++++++++++++++++++++++++++++++++++ [('Prophet', 597.9461), ('ARIMA', 121.9007), ('ETS', 341.0733), ('XGBoost', 406.5223), ('Greykite', inf)]\n",
            "+++++++++++++++++++++++++++++++++++++++++++++++++++++++++++++++++++++++++++++++++++++++ ARIMA 115 461 2\n"
          ]
        },
        {
          "output_type": "stream",
          "name": "stderr",
          "text": [
            "INFO:prophet:Disabling yearly seasonality. Run prophet with yearly_seasonality=True to override this.\n",
            "INFO:prophet:Disabling daily seasonality. Run prophet with daily_seasonality=True to override this.\n",
            "DEBUG:cmdstanpy:input tempfile: /tmp/tmpmo9k28to/k8stx4ty.json\n",
            "DEBUG:cmdstanpy:input tempfile: /tmp/tmpmo9k28to/xla4i1tu.json\n",
            "DEBUG:cmdstanpy:idx 0\n",
            "DEBUG:cmdstanpy:running CmdStan, num_threads: None\n",
            "DEBUG:cmdstanpy:CmdStan args: ['/usr/local/lib/python3.10/dist-packages/prophet/stan_model/prophet_model.bin', 'random', 'seed=53282', 'data', 'file=/tmp/tmpmo9k28to/k8stx4ty.json', 'init=/tmp/tmpmo9k28to/xla4i1tu.json', 'output', 'file=/tmp/tmpmo9k28to/prophet_modelaj_pudgv/prophet_model-20230930121611.csv', 'method=optimize', 'algorithm=lbfgs', 'iter=10000']\n",
            "12:16:11 - cmdstanpy - INFO - Chain [1] start processing\n",
            "INFO:cmdstanpy:Chain [1] start processing\n",
            "12:16:11 - cmdstanpy - INFO - Chain [1] done processing\n",
            "INFO:cmdstanpy:Chain [1] done processing\n"
          ]
        },
        {
          "output_type": "stream",
          "name": "stdout",
          "text": [
            "+++++++++++++++++++++++++++++++++++++++++++++++++++++++++++++++++++++++++++++++++++++++ [('Prophet', 33.3474), ('ARIMA', 10.6199), ('ETS', 30.4768), ('XGBoost', 7.1723), ('Greykite', inf)]\n",
            "+++++++++++++++++++++++++++++++++++++++++++++++++++++++++++++++++++++++++++++++++++++++ XGBoost 116 463 2\n"
          ]
        },
        {
          "output_type": "stream",
          "name": "stderr",
          "text": [
            "INFO:prophet:Disabling yearly seasonality. Run prophet with yearly_seasonality=True to override this.\n",
            "INFO:prophet:Disabling daily seasonality. Run prophet with daily_seasonality=True to override this.\n",
            "DEBUG:cmdstanpy:input tempfile: /tmp/tmpmo9k28to/fr5eadsb.json\n",
            "DEBUG:cmdstanpy:input tempfile: /tmp/tmpmo9k28to/2vtkduiq.json\n",
            "DEBUG:cmdstanpy:idx 0\n",
            "DEBUG:cmdstanpy:running CmdStan, num_threads: None\n",
            "DEBUG:cmdstanpy:CmdStan args: ['/usr/local/lib/python3.10/dist-packages/prophet/stan_model/prophet_model.bin', 'random', 'seed=5226', 'data', 'file=/tmp/tmpmo9k28to/fr5eadsb.json', 'init=/tmp/tmpmo9k28to/2vtkduiq.json', 'output', 'file=/tmp/tmpmo9k28to/prophet_modelgkaj2q94/prophet_model-20230930121616.csv', 'method=optimize', 'algorithm=lbfgs', 'iter=10000']\n",
            "12:16:16 - cmdstanpy - INFO - Chain [1] start processing\n",
            "INFO:cmdstanpy:Chain [1] start processing\n",
            "12:16:16 - cmdstanpy - INFO - Chain [1] done processing\n",
            "INFO:cmdstanpy:Chain [1] done processing\n"
          ]
        },
        {
          "output_type": "stream",
          "name": "stdout",
          "text": [
            "+++++++++++++++++++++++++++++++++++++++++++++++++++++++++++++++++++++++++++++++++++++++ [('Prophet', 36.034), ('ARIMA', 2.8175), ('ETS', 14.5958), ('XGBoost', 39.3427), ('Greykite', inf)]\n",
            "+++++++++++++++++++++++++++++++++++++++++++++++++++++++++++++++++++++++++++++++++++++++ ARIMA 117 465 2\n"
          ]
        },
        {
          "output_type": "stream",
          "name": "stderr",
          "text": [
            "INFO:prophet:Disabling yearly seasonality. Run prophet with yearly_seasonality=True to override this.\n",
            "INFO:prophet:Disabling daily seasonality. Run prophet with daily_seasonality=True to override this.\n",
            "DEBUG:cmdstanpy:input tempfile: /tmp/tmpmo9k28to/__oxx3yu.json\n",
            "DEBUG:cmdstanpy:input tempfile: /tmp/tmpmo9k28to/xt6l8lk5.json\n",
            "DEBUG:cmdstanpy:idx 0\n",
            "DEBUG:cmdstanpy:running CmdStan, num_threads: None\n",
            "DEBUG:cmdstanpy:CmdStan args: ['/usr/local/lib/python3.10/dist-packages/prophet/stan_model/prophet_model.bin', 'random', 'seed=94118', 'data', 'file=/tmp/tmpmo9k28to/__oxx3yu.json', 'init=/tmp/tmpmo9k28to/xt6l8lk5.json', 'output', 'file=/tmp/tmpmo9k28to/prophet_modelx1bvpor1/prophet_model-20230930121622.csv', 'method=optimize', 'algorithm=lbfgs', 'iter=10000']\n",
            "12:16:22 - cmdstanpy - INFO - Chain [1] start processing\n",
            "INFO:cmdstanpy:Chain [1] start processing\n",
            "12:16:22 - cmdstanpy - INFO - Chain [1] done processing\n",
            "INFO:cmdstanpy:Chain [1] done processing\n"
          ]
        },
        {
          "output_type": "stream",
          "name": "stdout",
          "text": [
            "+++++++++++++++++++++++++++++++++++++++++++++++++++++++++++++++++++++++++++++++++++++++ [('Prophet', 316.532), ('ARIMA', 35.7281), ('ETS', 345.0705), ('XGBoost', 154.8482), ('Greykite', inf)]\n",
            "+++++++++++++++++++++++++++++++++++++++++++++++++++++++++++++++++++++++++++++++++++++++ ARIMA 118 467 2\n"
          ]
        },
        {
          "output_type": "stream",
          "name": "stderr",
          "text": [
            "INFO:prophet:Disabling yearly seasonality. Run prophet with yearly_seasonality=True to override this.\n",
            "INFO:prophet:Disabling daily seasonality. Run prophet with daily_seasonality=True to override this.\n",
            "DEBUG:cmdstanpy:input tempfile: /tmp/tmpmo9k28to/n56h9jso.json\n",
            "DEBUG:cmdstanpy:input tempfile: /tmp/tmpmo9k28to/zv5f96fx.json\n",
            "DEBUG:cmdstanpy:idx 0\n",
            "DEBUG:cmdstanpy:running CmdStan, num_threads: None\n",
            "DEBUG:cmdstanpy:CmdStan args: ['/usr/local/lib/python3.10/dist-packages/prophet/stan_model/prophet_model.bin', 'random', 'seed=7363', 'data', 'file=/tmp/tmpmo9k28to/n56h9jso.json', 'init=/tmp/tmpmo9k28to/zv5f96fx.json', 'output', 'file=/tmp/tmpmo9k28to/prophet_modeljd5tl0tr/prophet_model-20230930121628.csv', 'method=optimize', 'algorithm=lbfgs', 'iter=10000']\n",
            "12:16:28 - cmdstanpy - INFO - Chain [1] start processing\n",
            "INFO:cmdstanpy:Chain [1] start processing\n",
            "12:16:28 - cmdstanpy - INFO - Chain [1] done processing\n",
            "INFO:cmdstanpy:Chain [1] done processing\n"
          ]
        },
        {
          "output_type": "stream",
          "name": "stdout",
          "text": [
            "+++++++++++++++++++++++++++++++++++++++++++++++++++++++++++++++++++++++++++++++++++++++ [('Prophet', 26.4144), ('ARIMA', 6.4744), ('ETS', 39.3887), ('XGBoost', 4.6489), ('Greykite', inf)]\n",
            "+++++++++++++++++++++++++++++++++++++++++++++++++++++++++++++++++++++++++++++++++++++++ XGBoost 119 469 2\n"
          ]
        },
        {
          "output_type": "stream",
          "name": "stderr",
          "text": [
            "INFO:prophet:Disabling yearly seasonality. Run prophet with yearly_seasonality=True to override this.\n",
            "INFO:prophet:Disabling daily seasonality. Run prophet with daily_seasonality=True to override this.\n",
            "DEBUG:cmdstanpy:input tempfile: /tmp/tmpmo9k28to/up2uiyqv.json\n",
            "DEBUG:cmdstanpy:input tempfile: /tmp/tmpmo9k28to/ai8kjfro.json\n",
            "DEBUG:cmdstanpy:idx 0\n",
            "DEBUG:cmdstanpy:running CmdStan, num_threads: None\n",
            "DEBUG:cmdstanpy:CmdStan args: ['/usr/local/lib/python3.10/dist-packages/prophet/stan_model/prophet_model.bin', 'random', 'seed=77855', 'data', 'file=/tmp/tmpmo9k28to/up2uiyqv.json', 'init=/tmp/tmpmo9k28to/ai8kjfro.json', 'output', 'file=/tmp/tmpmo9k28to/prophet_modelq15d5utz/prophet_model-20230930121633.csv', 'method=optimize', 'algorithm=lbfgs', 'iter=10000']\n",
            "12:16:33 - cmdstanpy - INFO - Chain [1] start processing\n",
            "INFO:cmdstanpy:Chain [1] start processing\n",
            "12:16:33 - cmdstanpy - INFO - Chain [1] done processing\n",
            "INFO:cmdstanpy:Chain [1] done processing\n"
          ]
        },
        {
          "output_type": "stream",
          "name": "stdout",
          "text": [
            "+++++++++++++++++++++++++++++++++++++++++++++++++++++++++++++++++++++++++++++++++++++++ [('Prophet', 32.7486), ('ARIMA', 14.3742), ('ETS', 34.9714), ('XGBoost', 12.6138), ('Greykite', inf)]\n",
            "+++++++++++++++++++++++++++++++++++++++++++++++++++++++++++++++++++++++++++++++++++++++ XGBoost 120 471 2\n"
          ]
        },
        {
          "output_type": "stream",
          "name": "stderr",
          "text": [
            "INFO:prophet:Disabling yearly seasonality. Run prophet with yearly_seasonality=True to override this.\n",
            "INFO:prophet:Disabling daily seasonality. Run prophet with daily_seasonality=True to override this.\n",
            "DEBUG:cmdstanpy:input tempfile: /tmp/tmpmo9k28to/r9i_s68n.json\n",
            "DEBUG:cmdstanpy:input tempfile: /tmp/tmpmo9k28to/dtfiv3kj.json\n",
            "DEBUG:cmdstanpy:idx 0\n",
            "DEBUG:cmdstanpy:running CmdStan, num_threads: None\n",
            "DEBUG:cmdstanpy:CmdStan args: ['/usr/local/lib/python3.10/dist-packages/prophet/stan_model/prophet_model.bin', 'random', 'seed=4507', 'data', 'file=/tmp/tmpmo9k28to/r9i_s68n.json', 'init=/tmp/tmpmo9k28to/dtfiv3kj.json', 'output', 'file=/tmp/tmpmo9k28to/prophet_modelg9ihdcoz/prophet_model-20230930121640.csv', 'method=optimize', 'algorithm=lbfgs', 'iter=10000']\n",
            "12:16:40 - cmdstanpy - INFO - Chain [1] start processing\n",
            "INFO:cmdstanpy:Chain [1] start processing\n"
          ]
        },
        {
          "output_type": "stream",
          "name": "stdout",
          "text": [
            "+++++++++++++++++++++++++++++++++++++++++++++++++++++++++++++++++++++++++++++++++++++++ [('Prophet', 149.3724), ('ARIMA', 16.6393), ('ETS', 76.9181), ('XGBoost', 65.7462), ('Greykite', inf)]\n",
            "+++++++++++++++++++++++++++++++++++++++++++++++++++++++++++++++++++++++++++++++++++++++ ARIMA 121 473 2\n"
          ]
        },
        {
          "output_type": "stream",
          "name": "stderr",
          "text": [
            "12:16:40 - cmdstanpy - INFO - Chain [1] done processing\n",
            "INFO:cmdstanpy:Chain [1] done processing\n",
            "INFO:prophet:Disabling yearly seasonality. Run prophet with yearly_seasonality=True to override this.\n",
            "INFO:prophet:Disabling daily seasonality. Run prophet with daily_seasonality=True to override this.\n",
            "DEBUG:cmdstanpy:input tempfile: /tmp/tmpmo9k28to/mqzfkkby.json\n",
            "DEBUG:cmdstanpy:input tempfile: /tmp/tmpmo9k28to/ays06bfx.json\n",
            "DEBUG:cmdstanpy:idx 0\n",
            "DEBUG:cmdstanpy:running CmdStan, num_threads: None\n",
            "DEBUG:cmdstanpy:CmdStan args: ['/usr/local/lib/python3.10/dist-packages/prophet/stan_model/prophet_model.bin', 'random', 'seed=19797', 'data', 'file=/tmp/tmpmo9k28to/mqzfkkby.json', 'init=/tmp/tmpmo9k28to/ays06bfx.json', 'output', 'file=/tmp/tmpmo9k28to/prophet_modellth6g3bx/prophet_model-20230930121645.csv', 'method=optimize', 'algorithm=lbfgs', 'iter=10000']\n",
            "12:16:45 - cmdstanpy - INFO - Chain [1] start processing\n",
            "INFO:cmdstanpy:Chain [1] start processing\n",
            "12:16:45 - cmdstanpy - INFO - Chain [1] done processing\n",
            "INFO:cmdstanpy:Chain [1] done processing\n"
          ]
        },
        {
          "output_type": "stream",
          "name": "stdout",
          "text": [
            "+++++++++++++++++++++++++++++++++++++++++++++++++++++++++++++++++++++++++++++++++++++++ [('Prophet', 208.3718), ('ARIMA', 9.016), ('ETS', 118.516), ('XGBoost', 129.4203), ('Greykite', inf)]\n",
            "+++++++++++++++++++++++++++++++++++++++++++++++++++++++++++++++++++++++++++++++++++++++ ARIMA 122 475 2\n"
          ]
        },
        {
          "output_type": "stream",
          "name": "stderr",
          "text": [
            "INFO:prophet:Disabling yearly seasonality. Run prophet with yearly_seasonality=True to override this.\n",
            "INFO:prophet:Disabling daily seasonality. Run prophet with daily_seasonality=True to override this.\n",
            "DEBUG:cmdstanpy:input tempfile: /tmp/tmpmo9k28to/t3flngh6.json\n",
            "DEBUG:cmdstanpy:input tempfile: /tmp/tmpmo9k28to/pts1e7ok.json\n",
            "DEBUG:cmdstanpy:idx 0\n",
            "DEBUG:cmdstanpy:running CmdStan, num_threads: None\n",
            "DEBUG:cmdstanpy:CmdStan args: ['/usr/local/lib/python3.10/dist-packages/prophet/stan_model/prophet_model.bin', 'random', 'seed=15322', 'data', 'file=/tmp/tmpmo9k28to/t3flngh6.json', 'init=/tmp/tmpmo9k28to/pts1e7ok.json', 'output', 'file=/tmp/tmpmo9k28to/prophet_modelrakz13mq/prophet_model-20230930121650.csv', 'method=optimize', 'algorithm=lbfgs', 'iter=10000']\n",
            "12:16:50 - cmdstanpy - INFO - Chain [1] start processing\n",
            "INFO:cmdstanpy:Chain [1] start processing\n",
            "12:16:50 - cmdstanpy - INFO - Chain [1] done processing\n",
            "INFO:cmdstanpy:Chain [1] done processing\n"
          ]
        },
        {
          "output_type": "stream",
          "name": "stdout",
          "text": [
            "+++++++++++++++++++++++++++++++++++++++++++++++++++++++++++++++++++++++++++++++++++++++ [('Prophet', 35.5344), ('ARIMA', 8.3326), ('ETS', 34.4252), ('XGBoost', 12.779), ('Greykite', inf)]\n",
            "+++++++++++++++++++++++++++++++++++++++++++++++++++++++++++++++++++++++++++++++++++++++ ARIMA 123 477 2\n"
          ]
        },
        {
          "output_type": "stream",
          "name": "stderr",
          "text": [
            "INFO:prophet:Disabling yearly seasonality. Run prophet with yearly_seasonality=True to override this.\n",
            "INFO:prophet:Disabling daily seasonality. Run prophet with daily_seasonality=True to override this.\n",
            "DEBUG:cmdstanpy:input tempfile: /tmp/tmpmo9k28to/2_b7padu.json\n",
            "DEBUG:cmdstanpy:input tempfile: /tmp/tmpmo9k28to/lcdyko8t.json\n",
            "DEBUG:cmdstanpy:idx 0\n",
            "DEBUG:cmdstanpy:running CmdStan, num_threads: None\n",
            "DEBUG:cmdstanpy:CmdStan args: ['/usr/local/lib/python3.10/dist-packages/prophet/stan_model/prophet_model.bin', 'random', 'seed=81594', 'data', 'file=/tmp/tmpmo9k28to/2_b7padu.json', 'init=/tmp/tmpmo9k28to/lcdyko8t.json', 'output', 'file=/tmp/tmpmo9k28to/prophet_modelafimbuu5/prophet_model-20230930121658.csv', 'method=optimize', 'algorithm=lbfgs', 'iter=10000']\n",
            "12:16:58 - cmdstanpy - INFO - Chain [1] start processing\n",
            "INFO:cmdstanpy:Chain [1] start processing\n",
            "12:16:58 - cmdstanpy - INFO - Chain [1] done processing\n",
            "INFO:cmdstanpy:Chain [1] done processing\n"
          ]
        },
        {
          "output_type": "stream",
          "name": "stdout",
          "text": [
            "+++++++++++++++++++++++++++++++++++++++++++++++++++++++++++++++++++++++++++++++++++++++ [('Prophet', 39.4615), ('ARIMA', 21.4574), ('ETS', 29.4903), ('XGBoost', 49.0345), ('Greykite', inf)]\n",
            "+++++++++++++++++++++++++++++++++++++++++++++++++++++++++++++++++++++++++++++++++++++++ ARIMA 124 479 2\n"
          ]
        },
        {
          "output_type": "stream",
          "name": "stderr",
          "text": [
            "INFO:prophet:Disabling yearly seasonality. Run prophet with yearly_seasonality=True to override this.\n",
            "INFO:prophet:Disabling daily seasonality. Run prophet with daily_seasonality=True to override this.\n",
            "DEBUG:cmdstanpy:input tempfile: /tmp/tmpmo9k28to/iaf0bn5k.json\n",
            "DEBUG:cmdstanpy:input tempfile: /tmp/tmpmo9k28to/_ebzkb57.json\n",
            "DEBUG:cmdstanpy:idx 0\n",
            "DEBUG:cmdstanpy:running CmdStan, num_threads: None\n",
            "DEBUG:cmdstanpy:CmdStan args: ['/usr/local/lib/python3.10/dist-packages/prophet/stan_model/prophet_model.bin', 'random', 'seed=88734', 'data', 'file=/tmp/tmpmo9k28to/iaf0bn5k.json', 'init=/tmp/tmpmo9k28to/_ebzkb57.json', 'output', 'file=/tmp/tmpmo9k28to/prophet_modelo46e_lp3/prophet_model-20230930121702.csv', 'method=optimize', 'algorithm=lbfgs', 'iter=10000']\n",
            "12:17:02 - cmdstanpy - INFO - Chain [1] start processing\n",
            "INFO:cmdstanpy:Chain [1] start processing\n",
            "12:17:02 - cmdstanpy - INFO - Chain [1] done processing\n",
            "INFO:cmdstanpy:Chain [1] done processing\n"
          ]
        },
        {
          "output_type": "stream",
          "name": "stdout",
          "text": [
            "+++++++++++++++++++++++++++++++++++++++++++++++++++++++++++++++++++++++++++++++++++++++ [('Prophet', 288.0925), ('ARIMA', 39.4665), ('ETS', 197.9792), ('XGBoost', 208.1983), ('Greykite', inf)]\n",
            "+++++++++++++++++++++++++++++++++++++++++++++++++++++++++++++++++++++++++++++++++++++++ ARIMA 125 481 2\n"
          ]
        },
        {
          "output_type": "stream",
          "name": "stderr",
          "text": [
            "INFO:prophet:Disabling yearly seasonality. Run prophet with yearly_seasonality=True to override this.\n",
            "INFO:prophet:Disabling daily seasonality. Run prophet with daily_seasonality=True to override this.\n",
            "DEBUG:cmdstanpy:input tempfile: /tmp/tmpmo9k28to/9doyxlup.json\n",
            "DEBUG:cmdstanpy:input tempfile: /tmp/tmpmo9k28to/e_a152bu.json\n",
            "DEBUG:cmdstanpy:idx 0\n",
            "DEBUG:cmdstanpy:running CmdStan, num_threads: None\n",
            "DEBUG:cmdstanpy:CmdStan args: ['/usr/local/lib/python3.10/dist-packages/prophet/stan_model/prophet_model.bin', 'random', 'seed=53612', 'data', 'file=/tmp/tmpmo9k28to/9doyxlup.json', 'init=/tmp/tmpmo9k28to/e_a152bu.json', 'output', 'file=/tmp/tmpmo9k28to/prophet_modelaqbentr_/prophet_model-20230930121707.csv', 'method=optimize', 'algorithm=lbfgs', 'iter=10000']\n",
            "12:17:07 - cmdstanpy - INFO - Chain [1] start processing\n",
            "INFO:cmdstanpy:Chain [1] start processing\n",
            "12:17:07 - cmdstanpy - INFO - Chain [1] done processing\n",
            "INFO:cmdstanpy:Chain [1] done processing\n"
          ]
        },
        {
          "output_type": "stream",
          "name": "stdout",
          "text": [
            "+++++++++++++++++++++++++++++++++++++++++++++++++++++++++++++++++++++++++++++++++++++++ [('Prophet', 81.9145), ('ARIMA', 101.1361), ('ETS', 65.157), ('XGBoost', 222.0272), ('Greykite', inf)]\n",
            "+++++++++++++++++++++++++++++++++++++++++++++++++++++++++++++++++++++++++++++++++++++++ ETS 126 483 2\n"
          ]
        },
        {
          "output_type": "stream",
          "name": "stderr",
          "text": [
            "INFO:prophet:Disabling yearly seasonality. Run prophet with yearly_seasonality=True to override this.\n",
            "INFO:prophet:Disabling daily seasonality. Run prophet with daily_seasonality=True to override this.\n",
            "DEBUG:cmdstanpy:input tempfile: /tmp/tmpmo9k28to/7ddswgl_.json\n",
            "DEBUG:cmdstanpy:input tempfile: /tmp/tmpmo9k28to/6cuw814d.json\n",
            "DEBUG:cmdstanpy:idx 0\n",
            "DEBUG:cmdstanpy:running CmdStan, num_threads: None\n",
            "DEBUG:cmdstanpy:CmdStan args: ['/usr/local/lib/python3.10/dist-packages/prophet/stan_model/prophet_model.bin', 'random', 'seed=87534', 'data', 'file=/tmp/tmpmo9k28to/7ddswgl_.json', 'init=/tmp/tmpmo9k28to/6cuw814d.json', 'output', 'file=/tmp/tmpmo9k28to/prophet_modelg0_u6idc/prophet_model-20230930121715.csv', 'method=optimize', 'algorithm=lbfgs', 'iter=10000']\n",
            "12:17:15 - cmdstanpy - INFO - Chain [1] start processing\n",
            "INFO:cmdstanpy:Chain [1] start processing\n",
            "12:17:15 - cmdstanpy - INFO - Chain [1] done processing\n",
            "INFO:cmdstanpy:Chain [1] done processing\n"
          ]
        },
        {
          "output_type": "stream",
          "name": "stdout",
          "text": [
            "+++++++++++++++++++++++++++++++++++++++++++++++++++++++++++++++++++++++++++++++++++++++ [('Prophet', 41.3976), ('ARIMA', 22.0742), ('ETS', 41.419), ('XGBoost', 58.5535), ('Greykite', inf)]\n",
            "+++++++++++++++++++++++++++++++++++++++++++++++++++++++++++++++++++++++++++++++++++++++ ARIMA 127 485 2\n"
          ]
        },
        {
          "output_type": "stream",
          "name": "stderr",
          "text": [
            "INFO:prophet:Disabling yearly seasonality. Run prophet with yearly_seasonality=True to override this.\n",
            "INFO:prophet:Disabling daily seasonality. Run prophet with daily_seasonality=True to override this.\n",
            "DEBUG:cmdstanpy:input tempfile: /tmp/tmpmo9k28to/j6jqow4x.json\n",
            "DEBUG:cmdstanpy:input tempfile: /tmp/tmpmo9k28to/h9mhsux9.json\n",
            "DEBUG:cmdstanpy:idx 0\n",
            "DEBUG:cmdstanpy:running CmdStan, num_threads: None\n",
            "DEBUG:cmdstanpy:CmdStan args: ['/usr/local/lib/python3.10/dist-packages/prophet/stan_model/prophet_model.bin', 'random', 'seed=82707', 'data', 'file=/tmp/tmpmo9k28to/j6jqow4x.json', 'init=/tmp/tmpmo9k28to/h9mhsux9.json', 'output', 'file=/tmp/tmpmo9k28to/prophet_modelubosq98u/prophet_model-20230930121721.csv', 'method=optimize', 'algorithm=lbfgs', 'iter=10000']\n",
            "12:17:21 - cmdstanpy - INFO - Chain [1] start processing\n",
            "INFO:cmdstanpy:Chain [1] start processing\n",
            "12:17:21 - cmdstanpy - INFO - Chain [1] done processing\n",
            "INFO:cmdstanpy:Chain [1] done processing\n"
          ]
        },
        {
          "output_type": "stream",
          "name": "stdout",
          "text": [
            "+++++++++++++++++++++++++++++++++++++++++++++++++++++++++++++++++++++++++++++++++++++++ [('Prophet', 95.6609), ('ARIMA', 26.9117), ('ETS', 53.5751), ('XGBoost', 43.1005), ('Greykite', inf)]\n",
            "+++++++++++++++++++++++++++++++++++++++++++++++++++++++++++++++++++++++++++++++++++++++ ARIMA 128 487 2\n"
          ]
        },
        {
          "output_type": "stream",
          "name": "stderr",
          "text": [
            "INFO:prophet:Disabling yearly seasonality. Run prophet with yearly_seasonality=True to override this.\n",
            "INFO:prophet:Disabling daily seasonality. Run prophet with daily_seasonality=True to override this.\n",
            "DEBUG:cmdstanpy:input tempfile: /tmp/tmpmo9k28to/0w0mo5do.json\n",
            "DEBUG:cmdstanpy:input tempfile: /tmp/tmpmo9k28to/s6jfn9gw.json\n",
            "DEBUG:cmdstanpy:idx 0\n",
            "DEBUG:cmdstanpy:running CmdStan, num_threads: None\n",
            "DEBUG:cmdstanpy:CmdStan args: ['/usr/local/lib/python3.10/dist-packages/prophet/stan_model/prophet_model.bin', 'random', 'seed=82798', 'data', 'file=/tmp/tmpmo9k28to/0w0mo5do.json', 'init=/tmp/tmpmo9k28to/s6jfn9gw.json', 'output', 'file=/tmp/tmpmo9k28to/prophet_modelr2cs8bda/prophet_model-20230930121730.csv', 'method=optimize', 'algorithm=lbfgs', 'iter=10000']\n",
            "12:17:30 - cmdstanpy - INFO - Chain [1] start processing\n",
            "INFO:cmdstanpy:Chain [1] start processing\n",
            "12:17:30 - cmdstanpy - INFO - Chain [1] done processing\n",
            "INFO:cmdstanpy:Chain [1] done processing\n"
          ]
        },
        {
          "output_type": "stream",
          "name": "stdout",
          "text": [
            "+++++++++++++++++++++++++++++++++++++++++++++++++++++++++++++++++++++++++++++++++++++++ [('Prophet', 221.3982), ('ARIMA', 42.2429), ('ETS', 152.4438), ('XGBoost', 232.2027), ('Greykite', inf)]\n",
            "+++++++++++++++++++++++++++++++++++++++++++++++++++++++++++++++++++++++++++++++++++++++ ARIMA 129 489 2\n"
          ]
        },
        {
          "output_type": "stream",
          "name": "stderr",
          "text": [
            "INFO:prophet:Disabling yearly seasonality. Run prophet with yearly_seasonality=True to override this.\n",
            "INFO:prophet:Disabling daily seasonality. Run prophet with daily_seasonality=True to override this.\n",
            "DEBUG:cmdstanpy:input tempfile: /tmp/tmpmo9k28to/qcsjoig5.json\n",
            "DEBUG:cmdstanpy:input tempfile: /tmp/tmpmo9k28to/2y_uschv.json\n",
            "DEBUG:cmdstanpy:idx 0\n",
            "DEBUG:cmdstanpy:running CmdStan, num_threads: None\n",
            "DEBUG:cmdstanpy:CmdStan args: ['/usr/local/lib/python3.10/dist-packages/prophet/stan_model/prophet_model.bin', 'random', 'seed=2847', 'data', 'file=/tmp/tmpmo9k28to/qcsjoig5.json', 'init=/tmp/tmpmo9k28to/2y_uschv.json', 'output', 'file=/tmp/tmpmo9k28to/prophet_modelxqite_q9/prophet_model-20230930121735.csv', 'method=optimize', 'algorithm=lbfgs', 'iter=10000']\n",
            "12:17:35 - cmdstanpy - INFO - Chain [1] start processing\n",
            "INFO:cmdstanpy:Chain [1] start processing\n",
            "12:17:35 - cmdstanpy - INFO - Chain [1] done processing\n",
            "INFO:cmdstanpy:Chain [1] done processing\n"
          ]
        },
        {
          "output_type": "stream",
          "name": "stdout",
          "text": [
            "+++++++++++++++++++++++++++++++++++++++++++++++++++++++++++++++++++++++++++++++++++++++ [('Prophet', 44.4539), ('ARIMA', 9.4407), ('ETS', 32.4981), ('XGBoost', 16.666), ('Greykite', inf)]\n",
            "+++++++++++++++++++++++++++++++++++++++++++++++++++++++++++++++++++++++++++++++++++++++ ARIMA 130 491 2\n"
          ]
        },
        {
          "output_type": "stream",
          "name": "stderr",
          "text": [
            "INFO:prophet:Disabling yearly seasonality. Run prophet with yearly_seasonality=True to override this.\n",
            "INFO:prophet:Disabling daily seasonality. Run prophet with daily_seasonality=True to override this.\n",
            "DEBUG:cmdstanpy:input tempfile: /tmp/tmpmo9k28to/w7dcazwr.json\n",
            "DEBUG:cmdstanpy:input tempfile: /tmp/tmpmo9k28to/vw_d_j0z.json\n",
            "DEBUG:cmdstanpy:idx 0\n",
            "DEBUG:cmdstanpy:running CmdStan, num_threads: None\n",
            "DEBUG:cmdstanpy:CmdStan args: ['/usr/local/lib/python3.10/dist-packages/prophet/stan_model/prophet_model.bin', 'random', 'seed=59758', 'data', 'file=/tmp/tmpmo9k28to/w7dcazwr.json', 'init=/tmp/tmpmo9k28to/vw_d_j0z.json', 'output', 'file=/tmp/tmpmo9k28to/prophet_modelr44ddooy/prophet_model-20230930121740.csv', 'method=optimize', 'algorithm=lbfgs', 'iter=10000']\n",
            "12:17:40 - cmdstanpy - INFO - Chain [1] start processing\n",
            "INFO:cmdstanpy:Chain [1] start processing\n",
            "12:17:40 - cmdstanpy - INFO - Chain [1] done processing\n",
            "INFO:cmdstanpy:Chain [1] done processing\n"
          ]
        },
        {
          "output_type": "stream",
          "name": "stdout",
          "text": [
            "+++++++++++++++++++++++++++++++++++++++++++++++++++++++++++++++++++++++++++++++++++++++ [('Prophet', 31.4356), ('ARIMA', 34.6163), ('ETS', 10.9519), ('XGBoost', 12.9539), ('Greykite', inf)]\n",
            "+++++++++++++++++++++++++++++++++++++++++++++++++++++++++++++++++++++++++++++++++++++++ ETS 131 493 2\n"
          ]
        },
        {
          "output_type": "stream",
          "name": "stderr",
          "text": [
            "INFO:prophet:Disabling yearly seasonality. Run prophet with yearly_seasonality=True to override this.\n",
            "INFO:prophet:Disabling daily seasonality. Run prophet with daily_seasonality=True to override this.\n",
            "DEBUG:cmdstanpy:input tempfile: /tmp/tmpmo9k28to/v9eu3oyk.json\n",
            "DEBUG:cmdstanpy:input tempfile: /tmp/tmpmo9k28to/_xtf8lr6.json\n",
            "DEBUG:cmdstanpy:idx 0\n",
            "DEBUG:cmdstanpy:running CmdStan, num_threads: None\n",
            "DEBUG:cmdstanpy:CmdStan args: ['/usr/local/lib/python3.10/dist-packages/prophet/stan_model/prophet_model.bin', 'random', 'seed=25065', 'data', 'file=/tmp/tmpmo9k28to/v9eu3oyk.json', 'init=/tmp/tmpmo9k28to/_xtf8lr6.json', 'output', 'file=/tmp/tmpmo9k28to/prophet_modeln4zwa2ni/prophet_model-20230930121748.csv', 'method=optimize', 'algorithm=lbfgs', 'iter=10000']\n",
            "12:17:48 - cmdstanpy - INFO - Chain [1] start processing\n",
            "INFO:cmdstanpy:Chain [1] start processing\n",
            "12:17:48 - cmdstanpy - INFO - Chain [1] done processing\n",
            "INFO:cmdstanpy:Chain [1] done processing\n"
          ]
        },
        {
          "output_type": "stream",
          "name": "stdout",
          "text": [
            "+++++++++++++++++++++++++++++++++++++++++++++++++++++++++++++++++++++++++++++++++++++++ [('Prophet', 274.4502), ('ARIMA', 23.5368), ('ETS', 181.2889), ('XGBoost', 115.3674), ('Greykite', inf)]\n",
            "+++++++++++++++++++++++++++++++++++++++++++++++++++++++++++++++++++++++++++++++++++++++ ARIMA 132 495 2\n"
          ]
        },
        {
          "output_type": "stream",
          "name": "stderr",
          "text": [
            "INFO:prophet:Disabling yearly seasonality. Run prophet with yearly_seasonality=True to override this.\n",
            "INFO:prophet:Disabling daily seasonality. Run prophet with daily_seasonality=True to override this.\n",
            "DEBUG:cmdstanpy:input tempfile: /tmp/tmpmo9k28to/txd19bx7.json\n",
            "DEBUG:cmdstanpy:input tempfile: /tmp/tmpmo9k28to/evfd933z.json\n",
            "DEBUG:cmdstanpy:idx 0\n",
            "DEBUG:cmdstanpy:running CmdStan, num_threads: None\n",
            "DEBUG:cmdstanpy:CmdStan args: ['/usr/local/lib/python3.10/dist-packages/prophet/stan_model/prophet_model.bin', 'random', 'seed=11769', 'data', 'file=/tmp/tmpmo9k28to/txd19bx7.json', 'init=/tmp/tmpmo9k28to/evfd933z.json', 'output', 'file=/tmp/tmpmo9k28to/prophet_model5n9uhjq6/prophet_model-20230930121753.csv', 'method=optimize', 'algorithm=lbfgs', 'iter=10000']\n",
            "12:17:53 - cmdstanpy - INFO - Chain [1] start processing\n",
            "INFO:cmdstanpy:Chain [1] start processing\n",
            "12:17:53 - cmdstanpy - INFO - Chain [1] done processing\n",
            "INFO:cmdstanpy:Chain [1] done processing\n"
          ]
        },
        {
          "output_type": "stream",
          "name": "stdout",
          "text": [
            "+++++++++++++++++++++++++++++++++++++++++++++++++++++++++++++++++++++++++++++++++++++++ [('Prophet', 32.6144), ('ARIMA', 13.5648), ('ETS', 33.9573), ('XGBoost', 39.852), ('Greykite', inf)]\n",
            "+++++++++++++++++++++++++++++++++++++++++++++++++++++++++++++++++++++++++++++++++++++++ ARIMA 133 497 2\n"
          ]
        },
        {
          "output_type": "stream",
          "name": "stderr",
          "text": [
            "INFO:prophet:Disabling yearly seasonality. Run prophet with yearly_seasonality=True to override this.\n",
            "INFO:prophet:Disabling daily seasonality. Run prophet with daily_seasonality=True to override this.\n",
            "DEBUG:cmdstanpy:input tempfile: /tmp/tmpmo9k28to/86mrhycn.json\n",
            "DEBUG:cmdstanpy:input tempfile: /tmp/tmpmo9k28to/mf1duwaz.json\n",
            "DEBUG:cmdstanpy:idx 0\n",
            "DEBUG:cmdstanpy:running CmdStan, num_threads: None\n",
            "DEBUG:cmdstanpy:CmdStan args: ['/usr/local/lib/python3.10/dist-packages/prophet/stan_model/prophet_model.bin', 'random', 'seed=88353', 'data', 'file=/tmp/tmpmo9k28to/86mrhycn.json', 'init=/tmp/tmpmo9k28to/mf1duwaz.json', 'output', 'file=/tmp/tmpmo9k28to/prophet_modelih0zmk5t/prophet_model-20230930121801.csv', 'method=optimize', 'algorithm=lbfgs', 'iter=10000']\n",
            "12:18:01 - cmdstanpy - INFO - Chain [1] start processing\n",
            "INFO:cmdstanpy:Chain [1] start processing\n"
          ]
        },
        {
          "output_type": "stream",
          "name": "stdout",
          "text": [
            "+++++++++++++++++++++++++++++++++++++++++++++++++++++++++++++++++++++++++++++++++++++++ [('Prophet', 33.7905), ('ARIMA', 12.108), ('ETS', 18.5339), ('XGBoost', 69.9232), ('Greykite', inf)]\n",
            "+++++++++++++++++++++++++++++++++++++++++++++++++++++++++++++++++++++++++++++++++++++++ ARIMA 134 499 2\n"
          ]
        },
        {
          "output_type": "stream",
          "name": "stderr",
          "text": [
            "12:18:01 - cmdstanpy - INFO - Chain [1] done processing\n",
            "INFO:cmdstanpy:Chain [1] done processing\n",
            "INFO:prophet:Disabling yearly seasonality. Run prophet with yearly_seasonality=True to override this.\n",
            "INFO:prophet:Disabling daily seasonality. Run prophet with daily_seasonality=True to override this.\n",
            "DEBUG:cmdstanpy:input tempfile: /tmp/tmpmo9k28to/emi1toyd.json\n",
            "DEBUG:cmdstanpy:input tempfile: /tmp/tmpmo9k28to/8xlxlvj4.json\n",
            "DEBUG:cmdstanpy:idx 0\n",
            "DEBUG:cmdstanpy:running CmdStan, num_threads: None\n",
            "DEBUG:cmdstanpy:CmdStan args: ['/usr/local/lib/python3.10/dist-packages/prophet/stan_model/prophet_model.bin', 'random', 'seed=62833', 'data', 'file=/tmp/tmpmo9k28to/emi1toyd.json', 'init=/tmp/tmpmo9k28to/8xlxlvj4.json', 'output', 'file=/tmp/tmpmo9k28to/prophet_modelrw5by27r/prophet_model-20230930121807.csv', 'method=optimize', 'algorithm=lbfgs', 'iter=10000']\n",
            "12:18:07 - cmdstanpy - INFO - Chain [1] start processing\n",
            "INFO:cmdstanpy:Chain [1] start processing\n",
            "12:18:07 - cmdstanpy - INFO - Chain [1] done processing\n",
            "INFO:cmdstanpy:Chain [1] done processing\n"
          ]
        },
        {
          "output_type": "stream",
          "name": "stdout",
          "text": [
            "+++++++++++++++++++++++++++++++++++++++++++++++++++++++++++++++++++++++++++++++++++++++ [('Prophet', 124.1929), ('ARIMA', 16.3849), ('ETS', 84.1019), ('XGBoost', 68.8485), ('Greykite', inf)]\n",
            "+++++++++++++++++++++++++++++++++++++++++++++++++++++++++++++++++++++++++++++++++++++++ ARIMA 135 501 2\n"
          ]
        },
        {
          "output_type": "stream",
          "name": "stderr",
          "text": [
            "INFO:prophet:Disabling yearly seasonality. Run prophet with yearly_seasonality=True to override this.\n",
            "INFO:prophet:Disabling daily seasonality. Run prophet with daily_seasonality=True to override this.\n",
            "DEBUG:cmdstanpy:input tempfile: /tmp/tmpmo9k28to/a26s6bhl.json\n",
            "DEBUG:cmdstanpy:input tempfile: /tmp/tmpmo9k28to/sv8wm2ag.json\n",
            "DEBUG:cmdstanpy:idx 0\n",
            "DEBUG:cmdstanpy:running CmdStan, num_threads: None\n",
            "DEBUG:cmdstanpy:CmdStan args: ['/usr/local/lib/python3.10/dist-packages/prophet/stan_model/prophet_model.bin', 'random', 'seed=65277', 'data', 'file=/tmp/tmpmo9k28to/a26s6bhl.json', 'init=/tmp/tmpmo9k28to/sv8wm2ag.json', 'output', 'file=/tmp/tmpmo9k28to/prophet_modelq9wtikwn/prophet_model-20230930121812.csv', 'method=optimize', 'algorithm=lbfgs', 'iter=10000']\n",
            "12:18:12 - cmdstanpy - INFO - Chain [1] start processing\n",
            "INFO:cmdstanpy:Chain [1] start processing\n",
            "12:18:12 - cmdstanpy - INFO - Chain [1] done processing\n",
            "INFO:cmdstanpy:Chain [1] done processing\n"
          ]
        },
        {
          "output_type": "stream",
          "name": "stdout",
          "text": [
            "+++++++++++++++++++++++++++++++++++++++++++++++++++++++++++++++++++++++++++++++++++++++ [('Prophet', 191.8358), ('ARIMA', 13.6926), ('ETS', 132.6503), ('XGBoost', 44.581), ('Greykite', inf)]\n",
            "+++++++++++++++++++++++++++++++++++++++++++++++++++++++++++++++++++++++++++++++++++++++ ARIMA 136 503 2\n"
          ]
        },
        {
          "output_type": "stream",
          "name": "stderr",
          "text": [
            "INFO:prophet:Disabling yearly seasonality. Run prophet with yearly_seasonality=True to override this.\n",
            "INFO:prophet:Disabling daily seasonality. Run prophet with daily_seasonality=True to override this.\n",
            "DEBUG:cmdstanpy:input tempfile: /tmp/tmpmo9k28to/ohg52lyu.json\n",
            "DEBUG:cmdstanpy:input tempfile: /tmp/tmpmo9k28to/z2o6vh53.json\n",
            "DEBUG:cmdstanpy:idx 0\n",
            "DEBUG:cmdstanpy:running CmdStan, num_threads: None\n",
            "DEBUG:cmdstanpy:CmdStan args: ['/usr/local/lib/python3.10/dist-packages/prophet/stan_model/prophet_model.bin', 'random', 'seed=60427', 'data', 'file=/tmp/tmpmo9k28to/ohg52lyu.json', 'init=/tmp/tmpmo9k28to/z2o6vh53.json', 'output', 'file=/tmp/tmpmo9k28to/prophet_modelyav3whya/prophet_model-20230930121820.csv', 'method=optimize', 'algorithm=lbfgs', 'iter=10000']\n",
            "12:18:20 - cmdstanpy - INFO - Chain [1] start processing\n",
            "INFO:cmdstanpy:Chain [1] start processing\n",
            "12:18:20 - cmdstanpy - INFO - Chain [1] done processing\n",
            "INFO:cmdstanpy:Chain [1] done processing\n"
          ]
        },
        {
          "output_type": "stream",
          "name": "stdout",
          "text": [
            "+++++++++++++++++++++++++++++++++++++++++++++++++++++++++++++++++++++++++++++++++++++++ [('Prophet', 39.2114), ('ARIMA', 6.307), ('ETS', 45.609), ('XGBoost', 56.7687), ('Greykite', inf)]\n",
            "+++++++++++++++++++++++++++++++++++++++++++++++++++++++++++++++++++++++++++++++++++++++ ARIMA 137 505 2\n"
          ]
        },
        {
          "output_type": "stream",
          "name": "stderr",
          "text": [
            "INFO:prophet:Disabling yearly seasonality. Run prophet with yearly_seasonality=True to override this.\n",
            "INFO:prophet:Disabling daily seasonality. Run prophet with daily_seasonality=True to override this.\n",
            "DEBUG:cmdstanpy:input tempfile: /tmp/tmpmo9k28to/p87jum1f.json\n",
            "DEBUG:cmdstanpy:input tempfile: /tmp/tmpmo9k28to/9lw1x43i.json\n",
            "DEBUG:cmdstanpy:idx 0\n",
            "DEBUG:cmdstanpy:running CmdStan, num_threads: None\n",
            "DEBUG:cmdstanpy:CmdStan args: ['/usr/local/lib/python3.10/dist-packages/prophet/stan_model/prophet_model.bin', 'random', 'seed=80980', 'data', 'file=/tmp/tmpmo9k28to/p87jum1f.json', 'init=/tmp/tmpmo9k28to/9lw1x43i.json', 'output', 'file=/tmp/tmpmo9k28to/prophet_modeltpmyqnk_/prophet_model-20230930121825.csv', 'method=optimize', 'algorithm=lbfgs', 'iter=10000']\n",
            "12:18:25 - cmdstanpy - INFO - Chain [1] start processing\n",
            "INFO:cmdstanpy:Chain [1] start processing\n",
            "12:18:25 - cmdstanpy - INFO - Chain [1] done processing\n",
            "INFO:cmdstanpy:Chain [1] done processing\n"
          ]
        },
        {
          "output_type": "stream",
          "name": "stdout",
          "text": [
            "+++++++++++++++++++++++++++++++++++++++++++++++++++++++++++++++++++++++++++++++++++++++ [('Prophet', 29.6264), ('ARIMA', 15.6252), ('ETS', 10.1104), ('XGBoost', 68.4783), ('Greykite', inf)]\n",
            "+++++++++++++++++++++++++++++++++++++++++++++++++++++++++++++++++++++++++++++++++++++++ ETS 138 507 2\n"
          ]
        },
        {
          "output_type": "stream",
          "name": "stderr",
          "text": [
            "INFO:prophet:Disabling yearly seasonality. Run prophet with yearly_seasonality=True to override this.\n",
            "INFO:prophet:Disabling daily seasonality. Run prophet with daily_seasonality=True to override this.\n",
            "DEBUG:cmdstanpy:input tempfile: /tmp/tmpmo9k28to/nvwvlx90.json\n",
            "DEBUG:cmdstanpy:input tempfile: /tmp/tmpmo9k28to/n3yei1xz.json\n",
            "DEBUG:cmdstanpy:idx 0\n",
            "DEBUG:cmdstanpy:running CmdStan, num_threads: None\n",
            "DEBUG:cmdstanpy:CmdStan args: ['/usr/local/lib/python3.10/dist-packages/prophet/stan_model/prophet_model.bin', 'random', 'seed=56412', 'data', 'file=/tmp/tmpmo9k28to/nvwvlx90.json', 'init=/tmp/tmpmo9k28to/n3yei1xz.json', 'output', 'file=/tmp/tmpmo9k28to/prophet_model94e92p4x/prophet_model-20230930121832.csv', 'method=optimize', 'algorithm=lbfgs', 'iter=10000']\n",
            "12:18:32 - cmdstanpy - INFO - Chain [1] start processing\n",
            "INFO:cmdstanpy:Chain [1] start processing\n"
          ]
        },
        {
          "output_type": "stream",
          "name": "stdout",
          "text": [
            "+++++++++++++++++++++++++++++++++++++++++++++++++++++++++++++++++++++++++++++++++++++++ [('Prophet', 223.2255), ('ARIMA', 24.0843), ('ETS', 165.324), ('XGBoost', 143.0243), ('Greykite', inf)]\n",
            "+++++++++++++++++++++++++++++++++++++++++++++++++++++++++++++++++++++++++++++++++++++++ ARIMA 139 509 2\n"
          ]
        },
        {
          "output_type": "stream",
          "name": "stderr",
          "text": [
            "12:18:32 - cmdstanpy - INFO - Chain [1] done processing\n",
            "INFO:cmdstanpy:Chain [1] done processing\n",
            "INFO:prophet:Disabling yearly seasonality. Run prophet with yearly_seasonality=True to override this.\n",
            "INFO:prophet:Disabling daily seasonality. Run prophet with daily_seasonality=True to override this.\n",
            "DEBUG:cmdstanpy:input tempfile: /tmp/tmpmo9k28to/e6u_sdnv.json\n",
            "DEBUG:cmdstanpy:input tempfile: /tmp/tmpmo9k28to/2wxodif4.json\n",
            "DEBUG:cmdstanpy:idx 0\n",
            "DEBUG:cmdstanpy:running CmdStan, num_threads: None\n",
            "DEBUG:cmdstanpy:CmdStan args: ['/usr/local/lib/python3.10/dist-packages/prophet/stan_model/prophet_model.bin', 'random', 'seed=25538', 'data', 'file=/tmp/tmpmo9k28to/e6u_sdnv.json', 'init=/tmp/tmpmo9k28to/2wxodif4.json', 'output', 'file=/tmp/tmpmo9k28to/prophet_model_u0gx8ck/prophet_model-20230930121837.csv', 'method=optimize', 'algorithm=lbfgs', 'iter=10000']\n",
            "12:18:37 - cmdstanpy - INFO - Chain [1] start processing\n",
            "INFO:cmdstanpy:Chain [1] start processing\n",
            "12:18:37 - cmdstanpy - INFO - Chain [1] done processing\n",
            "INFO:cmdstanpy:Chain [1] done processing\n"
          ]
        },
        {
          "output_type": "stream",
          "name": "stdout",
          "text": [
            "+++++++++++++++++++++++++++++++++++++++++++++++++++++++++++++++++++++++++++++++++++++++ [('Prophet', 36.4074), ('ARIMA', 13.1232), ('ETS', 34.8487), ('XGBoost', 28.8842), ('Greykite', inf)]\n",
            "+++++++++++++++++++++++++++++++++++++++++++++++++++++++++++++++++++++++++++++++++++++++ ARIMA 140 511 2\n"
          ]
        },
        {
          "output_type": "stream",
          "name": "stderr",
          "text": [
            "INFO:prophet:Disabling yearly seasonality. Run prophet with yearly_seasonality=True to override this.\n",
            "INFO:prophet:Disabling daily seasonality. Run prophet with daily_seasonality=True to override this.\n",
            "DEBUG:cmdstanpy:input tempfile: /tmp/tmpmo9k28to/tia5vxbg.json\n",
            "DEBUG:cmdstanpy:input tempfile: /tmp/tmpmo9k28to/qtqb_7cc.json\n",
            "DEBUG:cmdstanpy:idx 0\n",
            "DEBUG:cmdstanpy:running CmdStan, num_threads: None\n",
            "DEBUG:cmdstanpy:CmdStan args: ['/usr/local/lib/python3.10/dist-packages/prophet/stan_model/prophet_model.bin', 'random', 'seed=58837', 'data', 'file=/tmp/tmpmo9k28to/tia5vxbg.json', 'init=/tmp/tmpmo9k28to/qtqb_7cc.json', 'output', 'file=/tmp/tmpmo9k28to/prophet_model5b50zbx5/prophet_model-20230930121843.csv', 'method=optimize', 'algorithm=lbfgs', 'iter=10000']\n",
            "12:18:43 - cmdstanpy - INFO - Chain [1] start processing\n",
            "INFO:cmdstanpy:Chain [1] start processing\n",
            "12:18:43 - cmdstanpy - INFO - Chain [1] done processing\n",
            "INFO:cmdstanpy:Chain [1] done processing\n"
          ]
        },
        {
          "output_type": "stream",
          "name": "stdout",
          "text": [
            "+++++++++++++++++++++++++++++++++++++++++++++++++++++++++++++++++++++++++++++++++++++++ [('Prophet', 39.67), ('ARIMA', 13.7523), ('ETS', 21.2269), ('XGBoost', 38.8734), ('Greykite', inf)]\n",
            "+++++++++++++++++++++++++++++++++++++++++++++++++++++++++++++++++++++++++++++++++++++++ ARIMA 141 513 2\n"
          ]
        },
        {
          "output_type": "stream",
          "name": "stderr",
          "text": [
            "INFO:prophet:Disabling yearly seasonality. Run prophet with yearly_seasonality=True to override this.\n",
            "INFO:prophet:Disabling daily seasonality. Run prophet with daily_seasonality=True to override this.\n",
            "DEBUG:cmdstanpy:input tempfile: /tmp/tmpmo9k28to/qevqpyxn.json\n",
            "DEBUG:cmdstanpy:input tempfile: /tmp/tmpmo9k28to/a7rbu3ct.json\n",
            "DEBUG:cmdstanpy:idx 0\n",
            "DEBUG:cmdstanpy:running CmdStan, num_threads: None\n",
            "DEBUG:cmdstanpy:CmdStan args: ['/usr/local/lib/python3.10/dist-packages/prophet/stan_model/prophet_model.bin', 'random', 'seed=65789', 'data', 'file=/tmp/tmpmo9k28to/qevqpyxn.json', 'init=/tmp/tmpmo9k28to/a7rbu3ct.json', 'output', 'file=/tmp/tmpmo9k28to/prophet_modelb95f51l9/prophet_model-20230930121850.csv', 'method=optimize', 'algorithm=lbfgs', 'iter=10000']\n",
            "12:18:50 - cmdstanpy - INFO - Chain [1] start processing\n",
            "INFO:cmdstanpy:Chain [1] start processing\n",
            "12:18:50 - cmdstanpy - INFO - Chain [1] done processing\n",
            "INFO:cmdstanpy:Chain [1] done processing\n"
          ]
        },
        {
          "output_type": "stream",
          "name": "stdout",
          "text": [
            "+++++++++++++++++++++++++++++++++++++++++++++++++++++++++++++++++++++++++++++++++++++++ [('Prophet', 104.8332), ('ARIMA', 22.9123), ('ETS', 89.1681), ('XGBoost', 125.3237), ('Greykite', inf)]\n",
            "+++++++++++++++++++++++++++++++++++++++++++++++++++++++++++++++++++++++++++++++++++++++ ARIMA 142 515 2\n"
          ]
        },
        {
          "output_type": "stream",
          "name": "stderr",
          "text": [
            "INFO:prophet:Disabling yearly seasonality. Run prophet with yearly_seasonality=True to override this.\n",
            "INFO:prophet:Disabling daily seasonality. Run prophet with daily_seasonality=True to override this.\n",
            "DEBUG:cmdstanpy:input tempfile: /tmp/tmpmo9k28to/agu09uba.json\n",
            "DEBUG:cmdstanpy:input tempfile: /tmp/tmpmo9k28to/84q9qufi.json\n",
            "DEBUG:cmdstanpy:idx 0\n",
            "DEBUG:cmdstanpy:running CmdStan, num_threads: None\n",
            "DEBUG:cmdstanpy:CmdStan args: ['/usr/local/lib/python3.10/dist-packages/prophet/stan_model/prophet_model.bin', 'random', 'seed=44146', 'data', 'file=/tmp/tmpmo9k28to/agu09uba.json', 'init=/tmp/tmpmo9k28to/84q9qufi.json', 'output', 'file=/tmp/tmpmo9k28to/prophet_modelnwr77umc/prophet_model-20230930121855.csv', 'method=optimize', 'algorithm=lbfgs', 'iter=10000']\n",
            "12:18:55 - cmdstanpy - INFO - Chain [1] start processing\n",
            "INFO:cmdstanpy:Chain [1] start processing\n",
            "12:18:55 - cmdstanpy - INFO - Chain [1] done processing\n",
            "INFO:cmdstanpy:Chain [1] done processing\n"
          ]
        },
        {
          "output_type": "stream",
          "name": "stdout",
          "text": [
            "+++++++++++++++++++++++++++++++++++++++++++++++++++++++++++++++++++++++++++++++++++++++ [('Prophet', 218.7983), ('ARIMA', 85.0755), ('ETS', 177.4065), ('XGBoost', 250.0783), ('Greykite', inf)]\n",
            "+++++++++++++++++++++++++++++++++++++++++++++++++++++++++++++++++++++++++++++++++++++++ ARIMA 143 517 2\n"
          ]
        },
        {
          "output_type": "stream",
          "name": "stderr",
          "text": [
            "INFO:prophet:Disabling yearly seasonality. Run prophet with yearly_seasonality=True to override this.\n",
            "INFO:prophet:Disabling daily seasonality. Run prophet with daily_seasonality=True to override this.\n",
            "DEBUG:cmdstanpy:input tempfile: /tmp/tmpmo9k28to/h6axe1vr.json\n",
            "DEBUG:cmdstanpy:input tempfile: /tmp/tmpmo9k28to/x3g5u5t8.json\n",
            "DEBUG:cmdstanpy:idx 0\n",
            "DEBUG:cmdstanpy:running CmdStan, num_threads: None\n",
            "DEBUG:cmdstanpy:CmdStan args: ['/usr/local/lib/python3.10/dist-packages/prophet/stan_model/prophet_model.bin', 'random', 'seed=57959', 'data', 'file=/tmp/tmpmo9k28to/h6axe1vr.json', 'init=/tmp/tmpmo9k28to/x3g5u5t8.json', 'output', 'file=/tmp/tmpmo9k28to/prophet_modelt5d32ok4/prophet_model-20230930121903.csv', 'method=optimize', 'algorithm=lbfgs', 'iter=10000']\n",
            "12:19:03 - cmdstanpy - INFO - Chain [1] start processing\n",
            "INFO:cmdstanpy:Chain [1] start processing\n",
            "12:19:04 - cmdstanpy - INFO - Chain [1] done processing\n",
            "INFO:cmdstanpy:Chain [1] done processing\n"
          ]
        },
        {
          "output_type": "stream",
          "name": "stdout",
          "text": [
            "+++++++++++++++++++++++++++++++++++++++++++++++++++++++++++++++++++++++++++++++++++++++ [('Prophet', 28.7279), ('ARIMA', 14.3125), ('ETS', 57.7488), ('XGBoost', 29.0772), ('Greykite', inf)]\n",
            "+++++++++++++++++++++++++++++++++++++++++++++++++++++++++++++++++++++++++++++++++++++++ ARIMA 144 519 2\n"
          ]
        },
        {
          "output_type": "stream",
          "name": "stderr",
          "text": [
            "INFO:prophet:Disabling yearly seasonality. Run prophet with yearly_seasonality=True to override this.\n",
            "INFO:prophet:Disabling daily seasonality. Run prophet with daily_seasonality=True to override this.\n",
            "DEBUG:cmdstanpy:input tempfile: /tmp/tmpmo9k28to/mp1c18z7.json\n",
            "DEBUG:cmdstanpy:input tempfile: /tmp/tmpmo9k28to/5euluf53.json\n",
            "DEBUG:cmdstanpy:idx 0\n",
            "DEBUG:cmdstanpy:running CmdStan, num_threads: None\n",
            "DEBUG:cmdstanpy:CmdStan args: ['/usr/local/lib/python3.10/dist-packages/prophet/stan_model/prophet_model.bin', 'random', 'seed=99100', 'data', 'file=/tmp/tmpmo9k28to/mp1c18z7.json', 'init=/tmp/tmpmo9k28to/5euluf53.json', 'output', 'file=/tmp/tmpmo9k28to/prophet_modeldbi_63_i/prophet_model-20230930121909.csv', 'method=optimize', 'algorithm=lbfgs', 'iter=10000']\n",
            "12:19:09 - cmdstanpy - INFO - Chain [1] start processing\n",
            "INFO:cmdstanpy:Chain [1] start processing\n",
            "12:19:09 - cmdstanpy - INFO - Chain [1] done processing\n",
            "INFO:cmdstanpy:Chain [1] done processing\n"
          ]
        },
        {
          "output_type": "stream",
          "name": "stdout",
          "text": [
            "+++++++++++++++++++++++++++++++++++++++++++++++++++++++++++++++++++++++++++++++++++++++ [('Prophet', 47.5141), ('ARIMA', 32.5865), ('ETS', 38.2989), ('XGBoost', 87.4958), ('Greykite', inf)]\n",
            "+++++++++++++++++++++++++++++++++++++++++++++++++++++++++++++++++++++++++++++++++++++++ ARIMA 145 521 2\n"
          ]
        },
        {
          "output_type": "stream",
          "name": "stderr",
          "text": [
            "INFO:prophet:Disabling yearly seasonality. Run prophet with yearly_seasonality=True to override this.\n",
            "INFO:prophet:Disabling daily seasonality. Run prophet with daily_seasonality=True to override this.\n",
            "DEBUG:cmdstanpy:input tempfile: /tmp/tmpmo9k28to/1ey6ak4o.json\n",
            "DEBUG:cmdstanpy:input tempfile: /tmp/tmpmo9k28to/q7pztehk.json\n",
            "DEBUG:cmdstanpy:idx 0\n",
            "DEBUG:cmdstanpy:running CmdStan, num_threads: None\n",
            "DEBUG:cmdstanpy:CmdStan args: ['/usr/local/lib/python3.10/dist-packages/prophet/stan_model/prophet_model.bin', 'random', 'seed=64184', 'data', 'file=/tmp/tmpmo9k28to/1ey6ak4o.json', 'init=/tmp/tmpmo9k28to/q7pztehk.json', 'output', 'file=/tmp/tmpmo9k28to/prophet_model22e57qz1/prophet_model-20230930121915.csv', 'method=optimize', 'algorithm=lbfgs', 'iter=10000']\n",
            "12:19:15 - cmdstanpy - INFO - Chain [1] start processing\n",
            "INFO:cmdstanpy:Chain [1] start processing\n",
            "12:19:15 - cmdstanpy - INFO - Chain [1] done processing\n",
            "INFO:cmdstanpy:Chain [1] done processing\n"
          ]
        },
        {
          "output_type": "stream",
          "name": "stdout",
          "text": [
            "+++++++++++++++++++++++++++++++++++++++++++++++++++++++++++++++++++++++++++++++++++++++ [('Prophet', 194.6961), ('ARIMA', 73.4231), ('ETS', 184.7329), ('XGBoost', 76.7588), ('Greykite', inf)]\n",
            "+++++++++++++++++++++++++++++++++++++++++++++++++++++++++++++++++++++++++++++++++++++++ ARIMA 146 523 2\n"
          ]
        },
        {
          "output_type": "stream",
          "name": "stderr",
          "text": [
            "INFO:prophet:Disabling yearly seasonality. Run prophet with yearly_seasonality=True to override this.\n",
            "INFO:prophet:Disabling daily seasonality. Run prophet with daily_seasonality=True to override this.\n",
            "DEBUG:cmdstanpy:input tempfile: /tmp/tmpmo9k28to/xa268zxi.json\n",
            "DEBUG:cmdstanpy:input tempfile: /tmp/tmpmo9k28to/mrwl5t_p.json\n",
            "DEBUG:cmdstanpy:idx 0\n",
            "DEBUG:cmdstanpy:running CmdStan, num_threads: None\n",
            "DEBUG:cmdstanpy:CmdStan args: ['/usr/local/lib/python3.10/dist-packages/prophet/stan_model/prophet_model.bin', 'random', 'seed=3507', 'data', 'file=/tmp/tmpmo9k28to/xa268zxi.json', 'init=/tmp/tmpmo9k28to/mrwl5t_p.json', 'output', 'file=/tmp/tmpmo9k28to/prophet_model8as2elnk/prophet_model-20230930121922.csv', 'method=optimize', 'algorithm=lbfgs', 'iter=10000']\n",
            "12:19:22 - cmdstanpy - INFO - Chain [1] start processing\n",
            "INFO:cmdstanpy:Chain [1] start processing\n",
            "12:19:22 - cmdstanpy - INFO - Chain [1] done processing\n",
            "INFO:cmdstanpy:Chain [1] done processing\n"
          ]
        },
        {
          "output_type": "stream",
          "name": "stdout",
          "text": [
            "+++++++++++++++++++++++++++++++++++++++++++++++++++++++++++++++++++++++++++++++++++++++ [('Prophet', 34.2613), ('ARIMA', 15.3195), ('ETS', 27.8512), ('XGBoost', 40.4884), ('Greykite', inf)]\n",
            "+++++++++++++++++++++++++++++++++++++++++++++++++++++++++++++++++++++++++++++++++++++++ ARIMA 147 525 2\n"
          ]
        },
        {
          "output_type": "stream",
          "name": "stderr",
          "text": [
            "INFO:prophet:Disabling yearly seasonality. Run prophet with yearly_seasonality=True to override this.\n",
            "INFO:prophet:Disabling daily seasonality. Run prophet with daily_seasonality=True to override this.\n",
            "DEBUG:cmdstanpy:input tempfile: /tmp/tmpmo9k28to/vkxgg2h2.json\n",
            "DEBUG:cmdstanpy:input tempfile: /tmp/tmpmo9k28to/_30kumln.json\n",
            "DEBUG:cmdstanpy:idx 0\n",
            "DEBUG:cmdstanpy:running CmdStan, num_threads: None\n",
            "DEBUG:cmdstanpy:CmdStan args: ['/usr/local/lib/python3.10/dist-packages/prophet/stan_model/prophet_model.bin', 'random', 'seed=99159', 'data', 'file=/tmp/tmpmo9k28to/vkxgg2h2.json', 'init=/tmp/tmpmo9k28to/_30kumln.json', 'output', 'file=/tmp/tmpmo9k28to/prophet_modelzool33l3/prophet_model-20230930121928.csv', 'method=optimize', 'algorithm=lbfgs', 'iter=10000']\n",
            "12:19:28 - cmdstanpy - INFO - Chain [1] start processing\n",
            "INFO:cmdstanpy:Chain [1] start processing\n",
            "12:19:28 - cmdstanpy - INFO - Chain [1] done processing\n",
            "INFO:cmdstanpy:Chain [1] done processing\n"
          ]
        },
        {
          "output_type": "stream",
          "name": "stdout",
          "text": [
            "+++++++++++++++++++++++++++++++++++++++++++++++++++++++++++++++++++++++++++++++++++++++ [('Prophet', 37.7994), ('ARIMA', 8.4483), ('ETS', 12.1098), ('XGBoost', 39.9105), ('Greykite', inf)]\n",
            "+++++++++++++++++++++++++++++++++++++++++++++++++++++++++++++++++++++++++++++++++++++++ ARIMA 148 527 2\n"
          ]
        },
        {
          "output_type": "stream",
          "name": "stderr",
          "text": [
            "INFO:prophet:Disabling yearly seasonality. Run prophet with yearly_seasonality=True to override this.\n",
            "INFO:prophet:Disabling daily seasonality. Run prophet with daily_seasonality=True to override this.\n",
            "DEBUG:cmdstanpy:input tempfile: /tmp/tmpmo9k28to/266ijm9p.json\n",
            "DEBUG:cmdstanpy:input tempfile: /tmp/tmpmo9k28to/csafpqwg.json\n",
            "DEBUG:cmdstanpy:idx 0\n",
            "DEBUG:cmdstanpy:running CmdStan, num_threads: None\n",
            "DEBUG:cmdstanpy:CmdStan args: ['/usr/local/lib/python3.10/dist-packages/prophet/stan_model/prophet_model.bin', 'random', 'seed=65901', 'data', 'file=/tmp/tmpmo9k28to/266ijm9p.json', 'init=/tmp/tmpmo9k28to/csafpqwg.json', 'output', 'file=/tmp/tmpmo9k28to/prophet_modelttt0x2iq/prophet_model-20230930121935.csv', 'method=optimize', 'algorithm=lbfgs', 'iter=10000']\n",
            "12:19:35 - cmdstanpy - INFO - Chain [1] start processing\n",
            "INFO:cmdstanpy:Chain [1] start processing\n",
            "12:19:35 - cmdstanpy - INFO - Chain [1] done processing\n",
            "INFO:cmdstanpy:Chain [1] done processing\n"
          ]
        },
        {
          "output_type": "stream",
          "name": "stdout",
          "text": [
            "+++++++++++++++++++++++++++++++++++++++++++++++++++++++++++++++++++++++++++++++++++++++ [('Prophet', 89.1837), ('ARIMA', 17.5839), ('ETS', 48.3476), ('XGBoost', 108.5895), ('Greykite', inf)]\n",
            "+++++++++++++++++++++++++++++++++++++++++++++++++++++++++++++++++++++++++++++++++++++++ ARIMA 149 529 2\n"
          ]
        },
        {
          "output_type": "stream",
          "name": "stderr",
          "text": [
            "INFO:prophet:Disabling yearly seasonality. Run prophet with yearly_seasonality=True to override this.\n",
            "INFO:prophet:Disabling daily seasonality. Run prophet with daily_seasonality=True to override this.\n",
            "DEBUG:cmdstanpy:input tempfile: /tmp/tmpmo9k28to/811fc15n.json\n",
            "DEBUG:cmdstanpy:input tempfile: /tmp/tmpmo9k28to/4li7jnof.json\n",
            "DEBUG:cmdstanpy:idx 0\n",
            "DEBUG:cmdstanpy:running CmdStan, num_threads: None\n",
            "DEBUG:cmdstanpy:CmdStan args: ['/usr/local/lib/python3.10/dist-packages/prophet/stan_model/prophet_model.bin', 'random', 'seed=10717', 'data', 'file=/tmp/tmpmo9k28to/811fc15n.json', 'init=/tmp/tmpmo9k28to/4li7jnof.json', 'output', 'file=/tmp/tmpmo9k28to/prophet_modelc8vkug42/prophet_model-20230930121941.csv', 'method=optimize', 'algorithm=lbfgs', 'iter=10000']\n",
            "12:19:41 - cmdstanpy - INFO - Chain [1] start processing\n",
            "INFO:cmdstanpy:Chain [1] start processing\n",
            "12:19:41 - cmdstanpy - INFO - Chain [1] done processing\n",
            "INFO:cmdstanpy:Chain [1] done processing\n"
          ]
        },
        {
          "output_type": "stream",
          "name": "stdout",
          "text": [
            "+++++++++++++++++++++++++++++++++++++++++++++++++++++++++++++++++++++++++++++++++++++++ [('Prophet', 189.5153), ('ARIMA', 24.4436), ('ETS', 115.9979), ('XGBoost', 100.6369), ('Greykite', inf)]\n",
            "+++++++++++++++++++++++++++++++++++++++++++++++++++++++++++++++++++++++++++++++++++++++ ARIMA 150 531 2\n"
          ]
        },
        {
          "output_type": "stream",
          "name": "stderr",
          "text": [
            "INFO:prophet:Disabling yearly seasonality. Run prophet with yearly_seasonality=True to override this.\n",
            "INFO:prophet:Disabling daily seasonality. Run prophet with daily_seasonality=True to override this.\n",
            "DEBUG:cmdstanpy:input tempfile: /tmp/tmpmo9k28to/hdynz7zw.json\n",
            "DEBUG:cmdstanpy:input tempfile: /tmp/tmpmo9k28to/t977qfot.json\n",
            "DEBUG:cmdstanpy:idx 0\n",
            "DEBUG:cmdstanpy:running CmdStan, num_threads: None\n",
            "DEBUG:cmdstanpy:CmdStan args: ['/usr/local/lib/python3.10/dist-packages/prophet/stan_model/prophet_model.bin', 'random', 'seed=26323', 'data', 'file=/tmp/tmpmo9k28to/hdynz7zw.json', 'init=/tmp/tmpmo9k28to/t977qfot.json', 'output', 'file=/tmp/tmpmo9k28to/prophet_model_mncqdba/prophet_model-20230930121948.csv', 'method=optimize', 'algorithm=lbfgs', 'iter=10000']\n",
            "12:19:48 - cmdstanpy - INFO - Chain [1] start processing\n",
            "INFO:cmdstanpy:Chain [1] start processing\n",
            "12:19:48 - cmdstanpy - INFO - Chain [1] done processing\n",
            "INFO:cmdstanpy:Chain [1] done processing\n"
          ]
        },
        {
          "output_type": "stream",
          "name": "stdout",
          "text": [
            "+++++++++++++++++++++++++++++++++++++++++++++++++++++++++++++++++++++++++++++++++++++++ [('Prophet', 113.4087), ('ARIMA', 179.2033), ('ETS', 110.4832), ('XGBoost', 211.9602), ('Greykite', inf)]\n",
            "+++++++++++++++++++++++++++++++++++++++++++++++++++++++++++++++++++++++++++++++++++++++ ETS 151 533 2\n"
          ]
        },
        {
          "output_type": "stream",
          "name": "stderr",
          "text": [
            "INFO:prophet:Disabling yearly seasonality. Run prophet with yearly_seasonality=True to override this.\n",
            "INFO:prophet:Disabling daily seasonality. Run prophet with daily_seasonality=True to override this.\n",
            "DEBUG:cmdstanpy:input tempfile: /tmp/tmpmo9k28to/bsx5g_mf.json\n",
            "DEBUG:cmdstanpy:input tempfile: /tmp/tmpmo9k28to/ejg64d9h.json\n",
            "DEBUG:cmdstanpy:idx 0\n",
            "DEBUG:cmdstanpy:running CmdStan, num_threads: None\n",
            "DEBUG:cmdstanpy:CmdStan args: ['/usr/local/lib/python3.10/dist-packages/prophet/stan_model/prophet_model.bin', 'random', 'seed=54257', 'data', 'file=/tmp/tmpmo9k28to/bsx5g_mf.json', 'init=/tmp/tmpmo9k28to/ejg64d9h.json', 'output', 'file=/tmp/tmpmo9k28to/prophet_model6n0c5bo0/prophet_model-20230930121958.csv', 'method=optimize', 'algorithm=lbfgs', 'iter=10000']\n",
            "12:19:58 - cmdstanpy - INFO - Chain [1] start processing\n",
            "INFO:cmdstanpy:Chain [1] start processing\n",
            "12:19:58 - cmdstanpy - INFO - Chain [1] done processing\n",
            "INFO:cmdstanpy:Chain [1] done processing\n"
          ]
        },
        {
          "output_type": "stream",
          "name": "stdout",
          "text": [
            "+++++++++++++++++++++++++++++++++++++++++++++++++++++++++++++++++++++++++++++++++++++++ [('Prophet', 83.113), ('ARIMA', 70.1001), ('ETS', 85.8224), ('XGBoost', 101.9044), ('Greykite', inf)]\n",
            "+++++++++++++++++++++++++++++++++++++++++++++++++++++++++++++++++++++++++++++++++++++++ ARIMA 152 535 2\n"
          ]
        },
        {
          "output_type": "stream",
          "name": "stderr",
          "text": [
            "INFO:prophet:Disabling yearly seasonality. Run prophet with yearly_seasonality=True to override this.\n",
            "INFO:prophet:Disabling daily seasonality. Run prophet with daily_seasonality=True to override this.\n",
            "DEBUG:cmdstanpy:input tempfile: /tmp/tmpmo9k28to/dvnpt6ek.json\n",
            "DEBUG:cmdstanpy:input tempfile: /tmp/tmpmo9k28to/h5ckkh07.json\n",
            "DEBUG:cmdstanpy:idx 0\n",
            "DEBUG:cmdstanpy:running CmdStan, num_threads: None\n",
            "DEBUG:cmdstanpy:CmdStan args: ['/usr/local/lib/python3.10/dist-packages/prophet/stan_model/prophet_model.bin', 'random', 'seed=63035', 'data', 'file=/tmp/tmpmo9k28to/dvnpt6ek.json', 'init=/tmp/tmpmo9k28to/h5ckkh07.json', 'output', 'file=/tmp/tmpmo9k28to/prophet_modelk1ukk5it/prophet_model-20230930122006.csv', 'method=optimize', 'algorithm=lbfgs', 'iter=10000']\n",
            "12:20:06 - cmdstanpy - INFO - Chain [1] start processing\n",
            "INFO:cmdstanpy:Chain [1] start processing\n",
            "12:20:06 - cmdstanpy - INFO - Chain [1] done processing\n",
            "INFO:cmdstanpy:Chain [1] done processing\n"
          ]
        },
        {
          "output_type": "stream",
          "name": "stdout",
          "text": [
            "+++++++++++++++++++++++++++++++++++++++++++++++++++++++++++++++++++++++++++++++++++++++ [('Prophet', 186.6628), ('ARIMA', 41.7679), ('ETS', 92.4333), ('XGBoost', 124.5456), ('Greykite', inf)]\n",
            "+++++++++++++++++++++++++++++++++++++++++++++++++++++++++++++++++++++++++++++++++++++++ ARIMA 153 537 2\n"
          ]
        },
        {
          "output_type": "stream",
          "name": "stderr",
          "text": [
            "INFO:prophet:Disabling yearly seasonality. Run prophet with yearly_seasonality=True to override this.\n",
            "INFO:prophet:Disabling daily seasonality. Run prophet with daily_seasonality=True to override this.\n",
            "DEBUG:cmdstanpy:input tempfile: /tmp/tmpmo9k28to/kbo2dz3u.json\n",
            "DEBUG:cmdstanpy:input tempfile: /tmp/tmpmo9k28to/v5fhytgy.json\n",
            "DEBUG:cmdstanpy:idx 0\n",
            "DEBUG:cmdstanpy:running CmdStan, num_threads: None\n",
            "DEBUG:cmdstanpy:CmdStan args: ['/usr/local/lib/python3.10/dist-packages/prophet/stan_model/prophet_model.bin', 'random', 'seed=25076', 'data', 'file=/tmp/tmpmo9k28to/kbo2dz3u.json', 'init=/tmp/tmpmo9k28to/v5fhytgy.json', 'output', 'file=/tmp/tmpmo9k28to/prophet_modelj_yqlx8a/prophet_model-20230930122011.csv', 'method=optimize', 'algorithm=lbfgs', 'iter=10000']\n",
            "12:20:11 - cmdstanpy - INFO - Chain [1] start processing\n",
            "INFO:cmdstanpy:Chain [1] start processing\n",
            "12:20:11 - cmdstanpy - INFO - Chain [1] done processing\n",
            "INFO:cmdstanpy:Chain [1] done processing\n"
          ]
        },
        {
          "output_type": "stream",
          "name": "stdout",
          "text": [
            "+++++++++++++++++++++++++++++++++++++++++++++++++++++++++++++++++++++++++++++++++++++++ [('Prophet', 35.7513), ('ARIMA', 27.5945), ('ETS', 39.1573), ('XGBoost', 7.1496), ('Greykite', inf)]\n",
            "+++++++++++++++++++++++++++++++++++++++++++++++++++++++++++++++++++++++++++++++++++++++ XGBoost 154 539 2\n"
          ]
        },
        {
          "output_type": "stream",
          "name": "stderr",
          "text": [
            "INFO:prophet:Disabling yearly seasonality. Run prophet with yearly_seasonality=True to override this.\n",
            "INFO:prophet:Disabling daily seasonality. Run prophet with daily_seasonality=True to override this.\n",
            "DEBUG:cmdstanpy:input tempfile: /tmp/tmpmo9k28to/_kkkufqd.json\n",
            "DEBUG:cmdstanpy:input tempfile: /tmp/tmpmo9k28to/xuxo3465.json\n",
            "DEBUG:cmdstanpy:idx 0\n",
            "DEBUG:cmdstanpy:running CmdStan, num_threads: None\n",
            "DEBUG:cmdstanpy:CmdStan args: ['/usr/local/lib/python3.10/dist-packages/prophet/stan_model/prophet_model.bin', 'random', 'seed=7906', 'data', 'file=/tmp/tmpmo9k28to/_kkkufqd.json', 'init=/tmp/tmpmo9k28to/xuxo3465.json', 'output', 'file=/tmp/tmpmo9k28to/prophet_modeli6q679xs/prophet_model-20230930122017.csv', 'method=optimize', 'algorithm=lbfgs', 'iter=10000']\n",
            "12:20:17 - cmdstanpy - INFO - Chain [1] start processing\n",
            "INFO:cmdstanpy:Chain [1] start processing\n",
            "12:20:17 - cmdstanpy - INFO - Chain [1] done processing\n",
            "INFO:cmdstanpy:Chain [1] done processing\n"
          ]
        },
        {
          "output_type": "stream",
          "name": "stdout",
          "text": [
            "+++++++++++++++++++++++++++++++++++++++++++++++++++++++++++++++++++++++++++++++++++++++ [('Prophet', 37.4861), ('ARIMA', 19.7707), ('ETS', 35.9072), ('XGBoost', 41.2628), ('Greykite', inf)]\n",
            "+++++++++++++++++++++++++++++++++++++++++++++++++++++++++++++++++++++++++++++++++++++++ ARIMA 155 541 2\n"
          ]
        },
        {
          "output_type": "stream",
          "name": "stderr",
          "text": [
            "INFO:prophet:Disabling yearly seasonality. Run prophet with yearly_seasonality=True to override this.\n",
            "INFO:prophet:Disabling daily seasonality. Run prophet with daily_seasonality=True to override this.\n",
            "DEBUG:cmdstanpy:input tempfile: /tmp/tmpmo9k28to/k692it3l.json\n",
            "DEBUG:cmdstanpy:input tempfile: /tmp/tmpmo9k28to/y82k2y5c.json\n",
            "DEBUG:cmdstanpy:idx 0\n",
            "DEBUG:cmdstanpy:running CmdStan, num_threads: None\n",
            "DEBUG:cmdstanpy:CmdStan args: ['/usr/local/lib/python3.10/dist-packages/prophet/stan_model/prophet_model.bin', 'random', 'seed=86395', 'data', 'file=/tmp/tmpmo9k28to/k692it3l.json', 'init=/tmp/tmpmo9k28to/y82k2y5c.json', 'output', 'file=/tmp/tmpmo9k28to/prophet_modelvr7h3p7i/prophet_model-20230930122024.csv', 'method=optimize', 'algorithm=lbfgs', 'iter=10000']\n",
            "12:20:24 - cmdstanpy - INFO - Chain [1] start processing\n",
            "INFO:cmdstanpy:Chain [1] start processing\n",
            "12:20:24 - cmdstanpy - INFO - Chain [1] done processing\n",
            "INFO:cmdstanpy:Chain [1] done processing\n"
          ]
        },
        {
          "output_type": "stream",
          "name": "stdout",
          "text": [
            "+++++++++++++++++++++++++++++++++++++++++++++++++++++++++++++++++++++++++++++++++++++++ [('Prophet', 83.2134), ('ARIMA', 41.1242), ('ETS', 44.5407), ('XGBoost', 13.3578), ('Greykite', inf)]\n",
            "+++++++++++++++++++++++++++++++++++++++++++++++++++++++++++++++++++++++++++++++++++++++ XGBoost 156 543 2\n"
          ]
        },
        {
          "output_type": "stream",
          "name": "stderr",
          "text": [
            "INFO:prophet:Disabling yearly seasonality. Run prophet with yearly_seasonality=True to override this.\n",
            "INFO:prophet:Disabling daily seasonality. Run prophet with daily_seasonality=True to override this.\n",
            "DEBUG:cmdstanpy:input tempfile: /tmp/tmpmo9k28to/34cbypks.json\n",
            "DEBUG:cmdstanpy:input tempfile: /tmp/tmpmo9k28to/szgmzaaj.json\n",
            "DEBUG:cmdstanpy:idx 0\n",
            "DEBUG:cmdstanpy:running CmdStan, num_threads: None\n",
            "DEBUG:cmdstanpy:CmdStan args: ['/usr/local/lib/python3.10/dist-packages/prophet/stan_model/prophet_model.bin', 'random', 'seed=10858', 'data', 'file=/tmp/tmpmo9k28to/34cbypks.json', 'init=/tmp/tmpmo9k28to/szgmzaaj.json', 'output', 'file=/tmp/tmpmo9k28to/prophet_model5f1ptnqz/prophet_model-20230930122029.csv', 'method=optimize', 'algorithm=lbfgs', 'iter=10000']\n",
            "12:20:29 - cmdstanpy - INFO - Chain [1] start processing\n",
            "INFO:cmdstanpy:Chain [1] start processing\n",
            "12:20:29 - cmdstanpy - INFO - Chain [1] done processing\n",
            "INFO:cmdstanpy:Chain [1] done processing\n"
          ]
        },
        {
          "output_type": "stream",
          "name": "stdout",
          "text": [
            "+++++++++++++++++++++++++++++++++++++++++++++++++++++++++++++++++++++++++++++++++++++++ [('Prophet', 155.0684), ('ARIMA', 23.6453), ('ETS', 120.1196), ('XGBoost', 202.8302), ('Greykite', inf)]\n",
            "+++++++++++++++++++++++++++++++++++++++++++++++++++++++++++++++++++++++++++++++++++++++ ARIMA 157 545 2\n"
          ]
        },
        {
          "output_type": "stream",
          "name": "stderr",
          "text": [
            "INFO:prophet:Disabling yearly seasonality. Run prophet with yearly_seasonality=True to override this.\n",
            "INFO:prophet:Disabling daily seasonality. Run prophet with daily_seasonality=True to override this.\n",
            "DEBUG:cmdstanpy:input tempfile: /tmp/tmpmo9k28to/o7hbrj6e.json\n",
            "DEBUG:cmdstanpy:input tempfile: /tmp/tmpmo9k28to/_sicvvon.json\n",
            "DEBUG:cmdstanpy:idx 0\n",
            "DEBUG:cmdstanpy:running CmdStan, num_threads: None\n",
            "DEBUG:cmdstanpy:CmdStan args: ['/usr/local/lib/python3.10/dist-packages/prophet/stan_model/prophet_model.bin', 'random', 'seed=30322', 'data', 'file=/tmp/tmpmo9k28to/o7hbrj6e.json', 'init=/tmp/tmpmo9k28to/_sicvvon.json', 'output', 'file=/tmp/tmpmo9k28to/prophet_modelhelub6wa/prophet_model-20230930122037.csv', 'method=optimize', 'algorithm=lbfgs', 'iter=10000']\n",
            "12:20:37 - cmdstanpy - INFO - Chain [1] start processing\n",
            "INFO:cmdstanpy:Chain [1] start processing\n",
            "12:20:37 - cmdstanpy - INFO - Chain [1] done processing\n",
            "INFO:cmdstanpy:Chain [1] done processing\n"
          ]
        },
        {
          "output_type": "stream",
          "name": "stdout",
          "text": [
            "+++++++++++++++++++++++++++++++++++++++++++++++++++++++++++++++++++++++++++++++++++++++ [('Prophet', 42.7421), ('ARIMA', 13.4029), ('ETS', 37.7808), ('XGBoost', 11.6052), ('Greykite', inf)]\n",
            "+++++++++++++++++++++++++++++++++++++++++++++++++++++++++++++++++++++++++++++++++++++++ XGBoost 158 547 2\n"
          ]
        },
        {
          "output_type": "stream",
          "name": "stderr",
          "text": [
            "INFO:prophet:Disabling yearly seasonality. Run prophet with yearly_seasonality=True to override this.\n",
            "INFO:prophet:Disabling daily seasonality. Run prophet with daily_seasonality=True to override this.\n",
            "DEBUG:cmdstanpy:input tempfile: /tmp/tmpmo9k28to/0wwz3r61.json\n",
            "DEBUG:cmdstanpy:input tempfile: /tmp/tmpmo9k28to/1wywvij1.json\n",
            "DEBUG:cmdstanpy:idx 0\n",
            "DEBUG:cmdstanpy:running CmdStan, num_threads: None\n",
            "DEBUG:cmdstanpy:CmdStan args: ['/usr/local/lib/python3.10/dist-packages/prophet/stan_model/prophet_model.bin', 'random', 'seed=80585', 'data', 'file=/tmp/tmpmo9k28to/0wwz3r61.json', 'init=/tmp/tmpmo9k28to/1wywvij1.json', 'output', 'file=/tmp/tmpmo9k28to/prophet_modelr047zv0r/prophet_model-20230930122042.csv', 'method=optimize', 'algorithm=lbfgs', 'iter=10000']\n",
            "12:20:42 - cmdstanpy - INFO - Chain [1] start processing\n",
            "INFO:cmdstanpy:Chain [1] start processing\n",
            "12:20:42 - cmdstanpy - INFO - Chain [1] done processing\n",
            "INFO:cmdstanpy:Chain [1] done processing\n"
          ]
        },
        {
          "output_type": "stream",
          "name": "stdout",
          "text": [
            "+++++++++++++++++++++++++++++++++++++++++++++++++++++++++++++++++++++++++++++++++++++++ [('Prophet', 32.9607), ('ARIMA', 14.1906), ('ETS', 9.9276), ('XGBoost', 28.2758), ('Greykite', inf)]\n",
            "+++++++++++++++++++++++++++++++++++++++++++++++++++++++++++++++++++++++++++++++++++++++ ETS 159 549 2\n"
          ]
        },
        {
          "output_type": "stream",
          "name": "stderr",
          "text": [
            "INFO:prophet:Disabling yearly seasonality. Run prophet with yearly_seasonality=True to override this.\n",
            "INFO:prophet:Disabling daily seasonality. Run prophet with daily_seasonality=True to override this.\n",
            "DEBUG:cmdstanpy:input tempfile: /tmp/tmpmo9k28to/67icsziy.json\n",
            "DEBUG:cmdstanpy:input tempfile: /tmp/tmpmo9k28to/kht0v9t6.json\n",
            "DEBUG:cmdstanpy:idx 0\n",
            "DEBUG:cmdstanpy:running CmdStan, num_threads: None\n",
            "DEBUG:cmdstanpy:CmdStan args: ['/usr/local/lib/python3.10/dist-packages/prophet/stan_model/prophet_model.bin', 'random', 'seed=41084', 'data', 'file=/tmp/tmpmo9k28to/67icsziy.json', 'init=/tmp/tmpmo9k28to/kht0v9t6.json', 'output', 'file=/tmp/tmpmo9k28to/prophet_modelb0uqdaq2/prophet_model-20230930122050.csv', 'method=optimize', 'algorithm=lbfgs', 'iter=10000']\n",
            "12:20:50 - cmdstanpy - INFO - Chain [1] start processing\n",
            "INFO:cmdstanpy:Chain [1] start processing\n",
            "12:20:50 - cmdstanpy - INFO - Chain [1] done processing\n",
            "INFO:cmdstanpy:Chain [1] done processing\n"
          ]
        },
        {
          "output_type": "stream",
          "name": "stdout",
          "text": [
            "+++++++++++++++++++++++++++++++++++++++++++++++++++++++++++++++++++++++++++++++++++++++ [('Prophet', 196.2665), ('ARIMA', 48.7458), ('ETS', 216.4999), ('XGBoost', 181.0352), ('Greykite', inf)]\n",
            "+++++++++++++++++++++++++++++++++++++++++++++++++++++++++++++++++++++++++++++++++++++++ ARIMA 160 551 2\n"
          ]
        },
        {
          "output_type": "stream",
          "name": "stderr",
          "text": [
            "INFO:prophet:Disabling yearly seasonality. Run prophet with yearly_seasonality=True to override this.\n",
            "INFO:prophet:Disabling daily seasonality. Run prophet with daily_seasonality=True to override this.\n",
            "DEBUG:cmdstanpy:input tempfile: /tmp/tmpmo9k28to/2q23g29v.json\n",
            "DEBUG:cmdstanpy:input tempfile: /tmp/tmpmo9k28to/vly0io6v.json\n",
            "DEBUG:cmdstanpy:idx 0\n",
            "DEBUG:cmdstanpy:running CmdStan, num_threads: None\n",
            "DEBUG:cmdstanpy:CmdStan args: ['/usr/local/lib/python3.10/dist-packages/prophet/stan_model/prophet_model.bin', 'random', 'seed=95458', 'data', 'file=/tmp/tmpmo9k28to/2q23g29v.json', 'init=/tmp/tmpmo9k28to/vly0io6v.json', 'output', 'file=/tmp/tmpmo9k28to/prophet_modelj_it9484/prophet_model-20230930122055.csv', 'method=optimize', 'algorithm=lbfgs', 'iter=10000']\n",
            "12:20:55 - cmdstanpy - INFO - Chain [1] start processing\n",
            "INFO:cmdstanpy:Chain [1] start processing\n",
            "12:20:56 - cmdstanpy - INFO - Chain [1] done processing\n",
            "INFO:cmdstanpy:Chain [1] done processing\n"
          ]
        },
        {
          "output_type": "stream",
          "name": "stdout",
          "text": [
            "+++++++++++++++++++++++++++++++++++++++++++++++++++++++++++++++++++++++++++++++++++++++ [('Prophet', 38.0581), ('ARIMA', 15.8461), ('ETS', 39.7727), ('XGBoost', 22.941), ('Greykite', inf)]\n",
            "+++++++++++++++++++++++++++++++++++++++++++++++++++++++++++++++++++++++++++++++++++++++ ARIMA 161 553 2\n"
          ]
        },
        {
          "output_type": "stream",
          "name": "stderr",
          "text": [
            "INFO:prophet:Disabling yearly seasonality. Run prophet with yearly_seasonality=True to override this.\n",
            "INFO:prophet:Disabling daily seasonality. Run prophet with daily_seasonality=True to override this.\n",
            "DEBUG:cmdstanpy:input tempfile: /tmp/tmpmo9k28to/hl0gg9oj.json\n",
            "DEBUG:cmdstanpy:input tempfile: /tmp/tmpmo9k28to/geobc6dw.json\n",
            "DEBUG:cmdstanpy:idx 0\n",
            "DEBUG:cmdstanpy:running CmdStan, num_threads: None\n",
            "DEBUG:cmdstanpy:CmdStan args: ['/usr/local/lib/python3.10/dist-packages/prophet/stan_model/prophet_model.bin', 'random', 'seed=8902', 'data', 'file=/tmp/tmpmo9k28to/hl0gg9oj.json', 'init=/tmp/tmpmo9k28to/geobc6dw.json', 'output', 'file=/tmp/tmpmo9k28to/prophet_model6016iw8r/prophet_model-20230930122101.csv', 'method=optimize', 'algorithm=lbfgs', 'iter=10000']\n",
            "12:21:01 - cmdstanpy - INFO - Chain [1] start processing\n",
            "INFO:cmdstanpy:Chain [1] start processing\n",
            "12:21:01 - cmdstanpy - INFO - Chain [1] done processing\n",
            "INFO:cmdstanpy:Chain [1] done processing\n"
          ]
        },
        {
          "output_type": "stream",
          "name": "stdout",
          "text": [
            "+++++++++++++++++++++++++++++++++++++++++++++++++++++++++++++++++++++++++++++++++++++++ [('Prophet', 52.4901), ('ARIMA', 29.9898), ('ETS', 48.4113), ('XGBoost', 24.1395), ('Greykite', inf)]\n",
            "+++++++++++++++++++++++++++++++++++++++++++++++++++++++++++++++++++++++++++++++++++++++ XGBoost 162 555 2\n"
          ]
        },
        {
          "output_type": "stream",
          "name": "stderr",
          "text": [
            "INFO:prophet:Disabling yearly seasonality. Run prophet with yearly_seasonality=True to override this.\n",
            "INFO:prophet:Disabling daily seasonality. Run prophet with daily_seasonality=True to override this.\n",
            "DEBUG:cmdstanpy:input tempfile: /tmp/tmpmo9k28to/vqlyemi3.json\n",
            "DEBUG:cmdstanpy:input tempfile: /tmp/tmpmo9k28to/neao3iyu.json\n",
            "DEBUG:cmdstanpy:idx 0\n",
            "DEBUG:cmdstanpy:running CmdStan, num_threads: None\n",
            "DEBUG:cmdstanpy:CmdStan args: ['/usr/local/lib/python3.10/dist-packages/prophet/stan_model/prophet_model.bin', 'random', 'seed=38976', 'data', 'file=/tmp/tmpmo9k28to/vqlyemi3.json', 'init=/tmp/tmpmo9k28to/neao3iyu.json', 'output', 'file=/tmp/tmpmo9k28to/prophet_modeljav7hl_8/prophet_model-20230930122109.csv', 'method=optimize', 'algorithm=lbfgs', 'iter=10000']\n",
            "12:21:09 - cmdstanpy - INFO - Chain [1] start processing\n",
            "INFO:cmdstanpy:Chain [1] start processing\n",
            "12:21:09 - cmdstanpy - INFO - Chain [1] done processing\n",
            "INFO:cmdstanpy:Chain [1] done processing\n"
          ]
        },
        {
          "output_type": "stream",
          "name": "stdout",
          "text": [
            "+++++++++++++++++++++++++++++++++++++++++++++++++++++++++++++++++++++++++++++++++++++++ [('Prophet', 61.5096), ('ARIMA', 21.0837), ('ETS', 44.3164), ('XGBoost', 19.0588), ('Greykite', inf)]\n",
            "+++++++++++++++++++++++++++++++++++++++++++++++++++++++++++++++++++++++++++++++++++++++ XGBoost 163 557 2\n"
          ]
        },
        {
          "output_type": "stream",
          "name": "stderr",
          "text": [
            "INFO:prophet:Disabling yearly seasonality. Run prophet with yearly_seasonality=True to override this.\n",
            "INFO:prophet:Disabling daily seasonality. Run prophet with daily_seasonality=True to override this.\n",
            "DEBUG:cmdstanpy:input tempfile: /tmp/tmpmo9k28to/kdwiftt4.json\n",
            "DEBUG:cmdstanpy:input tempfile: /tmp/tmpmo9k28to/3ib9bsti.json\n",
            "DEBUG:cmdstanpy:idx 0\n",
            "DEBUG:cmdstanpy:running CmdStan, num_threads: None\n",
            "DEBUG:cmdstanpy:CmdStan args: ['/usr/local/lib/python3.10/dist-packages/prophet/stan_model/prophet_model.bin', 'random', 'seed=22908', 'data', 'file=/tmp/tmpmo9k28to/kdwiftt4.json', 'init=/tmp/tmpmo9k28to/3ib9bsti.json', 'output', 'file=/tmp/tmpmo9k28to/prophet_modellcfplnld/prophet_model-20230930122114.csv', 'method=optimize', 'algorithm=lbfgs', 'iter=10000']\n",
            "12:21:14 - cmdstanpy - INFO - Chain [1] start processing\n",
            "INFO:cmdstanpy:Chain [1] start processing\n",
            "12:21:14 - cmdstanpy - INFO - Chain [1] done processing\n",
            "INFO:cmdstanpy:Chain [1] done processing\n"
          ]
        },
        {
          "output_type": "stream",
          "name": "stdout",
          "text": [
            "+++++++++++++++++++++++++++++++++++++++++++++++++++++++++++++++++++++++++++++++++++++++ [('Prophet', 121.9281), ('ARIMA', 37.2014), ('ETS', 116.1603), ('XGBoost', 153.5248), ('Greykite', inf)]\n",
            "+++++++++++++++++++++++++++++++++++++++++++++++++++++++++++++++++++++++++++++++++++++++ ARIMA 164 559 2\n"
          ]
        },
        {
          "output_type": "stream",
          "name": "stderr",
          "text": [
            "INFO:prophet:Disabling yearly seasonality. Run prophet with yearly_seasonality=True to override this.\n",
            "INFO:prophet:Disabling daily seasonality. Run prophet with daily_seasonality=True to override this.\n",
            "DEBUG:cmdstanpy:input tempfile: /tmp/tmpmo9k28to/4ntk42iz.json\n",
            "DEBUG:cmdstanpy:input tempfile: /tmp/tmpmo9k28to/sajsj2ln.json\n",
            "DEBUG:cmdstanpy:idx 0\n",
            "DEBUG:cmdstanpy:running CmdStan, num_threads: None\n",
            "DEBUG:cmdstanpy:CmdStan args: ['/usr/local/lib/python3.10/dist-packages/prophet/stan_model/prophet_model.bin', 'random', 'seed=49230', 'data', 'file=/tmp/tmpmo9k28to/4ntk42iz.json', 'init=/tmp/tmpmo9k28to/sajsj2ln.json', 'output', 'file=/tmp/tmpmo9k28to/prophet_modelni6wj4od/prophet_model-20230930122122.csv', 'method=optimize', 'algorithm=lbfgs', 'iter=10000']\n",
            "12:21:22 - cmdstanpy - INFO - Chain [1] start processing\n",
            "INFO:cmdstanpy:Chain [1] start processing\n",
            "12:21:23 - cmdstanpy - INFO - Chain [1] done processing\n",
            "INFO:cmdstanpy:Chain [1] done processing\n"
          ]
        },
        {
          "output_type": "stream",
          "name": "stdout",
          "text": [
            "+++++++++++++++++++++++++++++++++++++++++++++++++++++++++++++++++++++++++++++++++++++++ [('Prophet', 42.7634), ('ARIMA', 4.9445), ('ETS', 25.3536), ('XGBoost', 8.8416), ('Greykite', inf)]\n",
            "+++++++++++++++++++++++++++++++++++++++++++++++++++++++++++++++++++++++++++++++++++++++ ARIMA 165 561 2\n"
          ]
        },
        {
          "output_type": "stream",
          "name": "stderr",
          "text": [
            "INFO:prophet:Disabling yearly seasonality. Run prophet with yearly_seasonality=True to override this.\n",
            "INFO:prophet:Disabling daily seasonality. Run prophet with daily_seasonality=True to override this.\n",
            "DEBUG:cmdstanpy:input tempfile: /tmp/tmpmo9k28to/y8wg5kx7.json\n",
            "DEBUG:cmdstanpy:input tempfile: /tmp/tmpmo9k28to/kv1dztdb.json\n",
            "DEBUG:cmdstanpy:idx 0\n",
            "DEBUG:cmdstanpy:running CmdStan, num_threads: None\n",
            "DEBUG:cmdstanpy:CmdStan args: ['/usr/local/lib/python3.10/dist-packages/prophet/stan_model/prophet_model.bin', 'random', 'seed=82667', 'data', 'file=/tmp/tmpmo9k28to/y8wg5kx7.json', 'init=/tmp/tmpmo9k28to/kv1dztdb.json', 'output', 'file=/tmp/tmpmo9k28to/prophet_modelcvp87sej/prophet_model-20230930122128.csv', 'method=optimize', 'algorithm=lbfgs', 'iter=10000']\n",
            "12:21:28 - cmdstanpy - INFO - Chain [1] start processing\n",
            "INFO:cmdstanpy:Chain [1] start processing\n",
            "12:21:28 - cmdstanpy - INFO - Chain [1] done processing\n",
            "INFO:cmdstanpy:Chain [1] done processing\n"
          ]
        },
        {
          "output_type": "stream",
          "name": "stdout",
          "text": [
            "+++++++++++++++++++++++++++++++++++++++++++++++++++++++++++++++++++++++++++++++++++++++ [('Prophet', 49.9014), ('ARIMA', 17.026), ('ETS', 12.4914), ('XGBoost', 30.4662), ('Greykite', inf)]\n",
            "+++++++++++++++++++++++++++++++++++++++++++++++++++++++++++++++++++++++++++++++++++++++ ETS 166 563 2\n"
          ]
        },
        {
          "output_type": "stream",
          "name": "stderr",
          "text": [
            "INFO:prophet:Disabling yearly seasonality. Run prophet with yearly_seasonality=True to override this.\n",
            "INFO:prophet:Disabling daily seasonality. Run prophet with daily_seasonality=True to override this.\n",
            "DEBUG:cmdstanpy:input tempfile: /tmp/tmpmo9k28to/lluq___y.json\n",
            "DEBUG:cmdstanpy:input tempfile: /tmp/tmpmo9k28to/izvnsa5i.json\n",
            "DEBUG:cmdstanpy:idx 0\n",
            "DEBUG:cmdstanpy:running CmdStan, num_threads: None\n",
            "DEBUG:cmdstanpy:CmdStan args: ['/usr/local/lib/python3.10/dist-packages/prophet/stan_model/prophet_model.bin', 'random', 'seed=82066', 'data', 'file=/tmp/tmpmo9k28to/lluq___y.json', 'init=/tmp/tmpmo9k28to/izvnsa5i.json', 'output', 'file=/tmp/tmpmo9k28to/prophet_modelt2yd_4o4/prophet_model-20230930122135.csv', 'method=optimize', 'algorithm=lbfgs', 'iter=10000']\n",
            "12:21:35 - cmdstanpy - INFO - Chain [1] start processing\n",
            "INFO:cmdstanpy:Chain [1] start processing\n",
            "12:21:35 - cmdstanpy - INFO - Chain [1] done processing\n",
            "INFO:cmdstanpy:Chain [1] done processing\n"
          ]
        },
        {
          "output_type": "stream",
          "name": "stdout",
          "text": [
            "+++++++++++++++++++++++++++++++++++++++++++++++++++++++++++++++++++++++++++++++++++++++ [('Prophet', 134.1304), ('ARIMA', 63.2721), ('ETS', 167.9039), ('XGBoost', 157.0593), ('Greykite', inf)]\n",
            "+++++++++++++++++++++++++++++++++++++++++++++++++++++++++++++++++++++++++++++++++++++++ ARIMA 167 565 2\n"
          ]
        },
        {
          "output_type": "stream",
          "name": "stderr",
          "text": [
            "INFO:prophet:Disabling yearly seasonality. Run prophet with yearly_seasonality=True to override this.\n",
            "INFO:prophet:Disabling daily seasonality. Run prophet with daily_seasonality=True to override this.\n",
            "DEBUG:cmdstanpy:input tempfile: /tmp/tmpmo9k28to/rzv_1exf.json\n",
            "DEBUG:cmdstanpy:input tempfile: /tmp/tmpmo9k28to/s30w14fv.json\n",
            "DEBUG:cmdstanpy:idx 0\n",
            "DEBUG:cmdstanpy:running CmdStan, num_threads: None\n",
            "DEBUG:cmdstanpy:CmdStan args: ['/usr/local/lib/python3.10/dist-packages/prophet/stan_model/prophet_model.bin', 'random', 'seed=74226', 'data', 'file=/tmp/tmpmo9k28to/rzv_1exf.json', 'init=/tmp/tmpmo9k28to/s30w14fv.json', 'output', 'file=/tmp/tmpmo9k28to/prophet_modelwldgcfz_/prophet_model-20230930122141.csv', 'method=optimize', 'algorithm=lbfgs', 'iter=10000']\n",
            "12:21:41 - cmdstanpy - INFO - Chain [1] start processing\n",
            "INFO:cmdstanpy:Chain [1] start processing\n",
            "12:21:41 - cmdstanpy - INFO - Chain [1] done processing\n",
            "INFO:cmdstanpy:Chain [1] done processing\n"
          ]
        },
        {
          "output_type": "stream",
          "name": "stdout",
          "text": [
            "+++++++++++++++++++++++++++++++++++++++++++++++++++++++++++++++++++++++++++++++++++++++ [('Prophet', 45.4897), ('ARIMA', 18.4607), ('ETS', 40.1532), ('XGBoost', 13.1013), ('Greykite', inf)]\n",
            "+++++++++++++++++++++++++++++++++++++++++++++++++++++++++++++++++++++++++++++++++++++++ XGBoost 168 567 2\n"
          ]
        },
        {
          "output_type": "stream",
          "name": "stderr",
          "text": [
            "INFO:prophet:Disabling yearly seasonality. Run prophet with yearly_seasonality=True to override this.\n",
            "INFO:prophet:Disabling daily seasonality. Run prophet with daily_seasonality=True to override this.\n",
            "DEBUG:cmdstanpy:input tempfile: /tmp/tmpmo9k28to/tqvyvq5j.json\n",
            "DEBUG:cmdstanpy:input tempfile: /tmp/tmpmo9k28to/qdc5duho.json\n",
            "DEBUG:cmdstanpy:idx 0\n",
            "DEBUG:cmdstanpy:running CmdStan, num_threads: None\n",
            "DEBUG:cmdstanpy:CmdStan args: ['/usr/local/lib/python3.10/dist-packages/prophet/stan_model/prophet_model.bin', 'random', 'seed=24288', 'data', 'file=/tmp/tmpmo9k28to/tqvyvq5j.json', 'init=/tmp/tmpmo9k28to/qdc5duho.json', 'output', 'file=/tmp/tmpmo9k28to/prophet_model2bkyyn5e/prophet_model-20230930122146.csv', 'method=optimize', 'algorithm=lbfgs', 'iter=10000']\n",
            "12:21:46 - cmdstanpy - INFO - Chain [1] start processing\n",
            "INFO:cmdstanpy:Chain [1] start processing\n",
            "12:21:46 - cmdstanpy - INFO - Chain [1] done processing\n",
            "INFO:cmdstanpy:Chain [1] done processing\n"
          ]
        },
        {
          "output_type": "stream",
          "name": "stdout",
          "text": [
            "+++++++++++++++++++++++++++++++++++++++++++++++++++++++++++++++++++++++++++++++++++++++ [('Prophet', 44.219), ('ARIMA', 3.6995), ('ETS', 21.2511), ('XGBoost', 3.7168), ('Greykite', inf)]\n",
            "+++++++++++++++++++++++++++++++++++++++++++++++++++++++++++++++++++++++++++++++++++++++ ARIMA 169 569 2\n"
          ]
        },
        {
          "output_type": "stream",
          "name": "stderr",
          "text": [
            "INFO:prophet:Disabling yearly seasonality. Run prophet with yearly_seasonality=True to override this.\n",
            "INFO:prophet:Disabling daily seasonality. Run prophet with daily_seasonality=True to override this.\n",
            "DEBUG:cmdstanpy:input tempfile: /tmp/tmpmo9k28to/wzlkxn3r.json\n",
            "DEBUG:cmdstanpy:input tempfile: /tmp/tmpmo9k28to/2tisyzzx.json\n",
            "DEBUG:cmdstanpy:idx 0\n",
            "DEBUG:cmdstanpy:running CmdStan, num_threads: None\n",
            "DEBUG:cmdstanpy:CmdStan args: ['/usr/local/lib/python3.10/dist-packages/prophet/stan_model/prophet_model.bin', 'random', 'seed=85603', 'data', 'file=/tmp/tmpmo9k28to/wzlkxn3r.json', 'init=/tmp/tmpmo9k28to/2tisyzzx.json', 'output', 'file=/tmp/tmpmo9k28to/prophet_modelags7rdet/prophet_model-20230930122155.csv', 'method=optimize', 'algorithm=lbfgs', 'iter=10000']\n",
            "12:21:55 - cmdstanpy - INFO - Chain [1] start processing\n",
            "INFO:cmdstanpy:Chain [1] start processing\n",
            "12:21:55 - cmdstanpy - INFO - Chain [1] done processing\n",
            "INFO:cmdstanpy:Chain [1] done processing\n"
          ]
        },
        {
          "output_type": "stream",
          "name": "stdout",
          "text": [
            "+++++++++++++++++++++++++++++++++++++++++++++++++++++++++++++++++++++++++++++++++++++++ [('Prophet', 53.9459), ('ARIMA', 8.4051), ('ETS', 42.99), ('XGBoost', 27.6135), ('Greykite', inf)]\n",
            "+++++++++++++++++++++++++++++++++++++++++++++++++++++++++++++++++++++++++++++++++++++++ ARIMA 170 571 2\n"
          ]
        },
        {
          "output_type": "stream",
          "name": "stderr",
          "text": [
            "INFO:prophet:Disabling yearly seasonality. Run prophet with yearly_seasonality=True to override this.\n",
            "INFO:prophet:Disabling daily seasonality. Run prophet with daily_seasonality=True to override this.\n",
            "DEBUG:cmdstanpy:input tempfile: /tmp/tmpmo9k28to/5i8dcbu8.json\n",
            "DEBUG:cmdstanpy:input tempfile: /tmp/tmpmo9k28to/fz2or5vm.json\n",
            "DEBUG:cmdstanpy:idx 0\n",
            "DEBUG:cmdstanpy:running CmdStan, num_threads: None\n",
            "DEBUG:cmdstanpy:CmdStan args: ['/usr/local/lib/python3.10/dist-packages/prophet/stan_model/prophet_model.bin', 'random', 'seed=82873', 'data', 'file=/tmp/tmpmo9k28to/5i8dcbu8.json', 'init=/tmp/tmpmo9k28to/fz2or5vm.json', 'output', 'file=/tmp/tmpmo9k28to/prophet_model6k8rr2sr/prophet_model-20230930122200.csv', 'method=optimize', 'algorithm=lbfgs', 'iter=10000']\n",
            "12:22:00 - cmdstanpy - INFO - Chain [1] start processing\n",
            "INFO:cmdstanpy:Chain [1] start processing\n",
            "12:22:00 - cmdstanpy - INFO - Chain [1] done processing\n",
            "INFO:cmdstanpy:Chain [1] done processing\n"
          ]
        },
        {
          "output_type": "stream",
          "name": "stdout",
          "text": [
            "+++++++++++++++++++++++++++++++++++++++++++++++++++++++++++++++++++++++++++++++++++++++ [('Prophet', 111.8227), ('ARIMA', 30.5689), ('ETS', 110.3897), ('XGBoost', 183.1014), ('Greykite', inf)]\n",
            "+++++++++++++++++++++++++++++++++++++++++++++++++++++++++++++++++++++++++++++++++++++++ ARIMA 171 573 2\n"
          ]
        },
        {
          "output_type": "stream",
          "name": "stderr",
          "text": [
            "INFO:prophet:Disabling yearly seasonality. Run prophet with yearly_seasonality=True to override this.\n",
            "INFO:prophet:Disabling daily seasonality. Run prophet with daily_seasonality=True to override this.\n",
            "DEBUG:cmdstanpy:input tempfile: /tmp/tmpmo9k28to/1qj8cff7.json\n",
            "DEBUG:cmdstanpy:input tempfile: /tmp/tmpmo9k28to/kov0rn3k.json\n",
            "DEBUG:cmdstanpy:idx 0\n",
            "DEBUG:cmdstanpy:running CmdStan, num_threads: None\n",
            "DEBUG:cmdstanpy:CmdStan args: ['/usr/local/lib/python3.10/dist-packages/prophet/stan_model/prophet_model.bin', 'random', 'seed=401', 'data', 'file=/tmp/tmpmo9k28to/1qj8cff7.json', 'init=/tmp/tmpmo9k28to/kov0rn3k.json', 'output', 'file=/tmp/tmpmo9k28to/prophet_modeluctr3xpf/prophet_model-20230930122209.csv', 'method=optimize', 'algorithm=lbfgs', 'iter=10000']\n",
            "12:22:09 - cmdstanpy - INFO - Chain [1] start processing\n",
            "INFO:cmdstanpy:Chain [1] start processing\n",
            "12:22:09 - cmdstanpy - INFO - Chain [1] done processing\n",
            "INFO:cmdstanpy:Chain [1] done processing\n"
          ]
        },
        {
          "output_type": "stream",
          "name": "stdout",
          "text": [
            "+++++++++++++++++++++++++++++++++++++++++++++++++++++++++++++++++++++++++++++++++++++++ [('Prophet', 44.3494), ('ARIMA', 2.446), ('ETS', 22.5201), ('XGBoost', 37.7253), ('Greykite', inf)]\n",
            "+++++++++++++++++++++++++++++++++++++++++++++++++++++++++++++++++++++++++++++++++++++++ ARIMA 172 575 2\n"
          ]
        },
        {
          "output_type": "stream",
          "name": "stderr",
          "text": [
            "INFO:prophet:Disabling yearly seasonality. Run prophet with yearly_seasonality=True to override this.\n",
            "INFO:prophet:Disabling daily seasonality. Run prophet with daily_seasonality=True to override this.\n",
            "DEBUG:cmdstanpy:input tempfile: /tmp/tmpmo9k28to/uwa0j3ed.json\n",
            "DEBUG:cmdstanpy:input tempfile: /tmp/tmpmo9k28to/5nn_qxb5.json\n",
            "DEBUG:cmdstanpy:idx 0\n",
            "DEBUG:cmdstanpy:running CmdStan, num_threads: None\n",
            "DEBUG:cmdstanpy:CmdStan args: ['/usr/local/lib/python3.10/dist-packages/prophet/stan_model/prophet_model.bin', 'random', 'seed=96806', 'data', 'file=/tmp/tmpmo9k28to/uwa0j3ed.json', 'init=/tmp/tmpmo9k28to/5nn_qxb5.json', 'output', 'file=/tmp/tmpmo9k28to/prophet_modelrc_vhjsi/prophet_model-20230930122215.csv', 'method=optimize', 'algorithm=lbfgs', 'iter=10000']\n",
            "12:22:15 - cmdstanpy - INFO - Chain [1] start processing\n",
            "INFO:cmdstanpy:Chain [1] start processing\n",
            "12:22:15 - cmdstanpy - INFO - Chain [1] done processing\n",
            "INFO:cmdstanpy:Chain [1] done processing\n"
          ]
        },
        {
          "output_type": "stream",
          "name": "stdout",
          "text": [
            "+++++++++++++++++++++++++++++++++++++++++++++++++++++++++++++++++++++++++++++++++++++++ [('Prophet', 48.2382), ('ARIMA', 11.744), ('ETS', 20.0298), ('XGBoost', 24.0169), ('Greykite', inf)]\n",
            "+++++++++++++++++++++++++++++++++++++++++++++++++++++++++++++++++++++++++++++++++++++++ ARIMA 173 577 2\n"
          ]
        },
        {
          "output_type": "stream",
          "name": "stderr",
          "text": [
            "INFO:prophet:Disabling yearly seasonality. Run prophet with yearly_seasonality=True to override this.\n",
            "INFO:prophet:Disabling daily seasonality. Run prophet with daily_seasonality=True to override this.\n",
            "DEBUG:cmdstanpy:input tempfile: /tmp/tmpmo9k28to/8wez0rw8.json\n",
            "DEBUG:cmdstanpy:input tempfile: /tmp/tmpmo9k28to/to85faof.json\n",
            "DEBUG:cmdstanpy:idx 0\n",
            "DEBUG:cmdstanpy:running CmdStan, num_threads: None\n",
            "DEBUG:cmdstanpy:CmdStan args: ['/usr/local/lib/python3.10/dist-packages/prophet/stan_model/prophet_model.bin', 'random', 'seed=60348', 'data', 'file=/tmp/tmpmo9k28to/8wez0rw8.json', 'init=/tmp/tmpmo9k28to/to85faof.json', 'output', 'file=/tmp/tmpmo9k28to/prophet_modelfqdhptsp/prophet_model-20230930122224.csv', 'method=optimize', 'algorithm=lbfgs', 'iter=10000']\n",
            "12:22:24 - cmdstanpy - INFO - Chain [1] start processing\n",
            "INFO:cmdstanpy:Chain [1] start processing\n"
          ]
        },
        {
          "output_type": "stream",
          "name": "stdout",
          "text": [
            "+++++++++++++++++++++++++++++++++++++++++++++++++++++++++++++++++++++++++++++++++++++++ [('Prophet', 115.9225), ('ARIMA', 42.461), ('ETS', 142.121), ('XGBoost', 214.1415), ('Greykite', inf)]\n",
            "+++++++++++++++++++++++++++++++++++++++++++++++++++++++++++++++++++++++++++++++++++++++ ARIMA 174 579 2\n"
          ]
        },
        {
          "output_type": "stream",
          "name": "stderr",
          "text": [
            "12:22:24 - cmdstanpy - INFO - Chain [1] done processing\n",
            "INFO:cmdstanpy:Chain [1] done processing\n",
            "INFO:prophet:Disabling yearly seasonality. Run prophet with yearly_seasonality=True to override this.\n",
            "INFO:prophet:Disabling daily seasonality. Run prophet with daily_seasonality=True to override this.\n",
            "DEBUG:cmdstanpy:input tempfile: /tmp/tmpmo9k28to/d_5c4sz6.json\n",
            "DEBUG:cmdstanpy:input tempfile: /tmp/tmpmo9k28to/1h3pni76.json\n",
            "DEBUG:cmdstanpy:idx 0\n",
            "DEBUG:cmdstanpy:running CmdStan, num_threads: None\n",
            "DEBUG:cmdstanpy:CmdStan args: ['/usr/local/lib/python3.10/dist-packages/prophet/stan_model/prophet_model.bin', 'random', 'seed=83049', 'data', 'file=/tmp/tmpmo9k28to/d_5c4sz6.json', 'init=/tmp/tmpmo9k28to/1h3pni76.json', 'output', 'file=/tmp/tmpmo9k28to/prophet_modelodcx_v9_/prophet_model-20230930122232.csv', 'method=optimize', 'algorithm=lbfgs', 'iter=10000']\n",
            "12:22:32 - cmdstanpy - INFO - Chain [1] start processing\n",
            "INFO:cmdstanpy:Chain [1] start processing\n",
            "12:22:32 - cmdstanpy - INFO - Chain [1] done processing\n",
            "INFO:cmdstanpy:Chain [1] done processing\n"
          ]
        },
        {
          "output_type": "stream",
          "name": "stdout",
          "text": [
            "+++++++++++++++++++++++++++++++++++++++++++++++++++++++++++++++++++++++++++++++++++++++ [('Prophet', 43.3437), ('ARIMA', 54.2099), ('ETS', 60.2124), ('XGBoost', 124.0022), ('Greykite', inf)]\n",
            "+++++++++++++++++++++++++++++++++++++++++++++++++++++++++++++++++++++++++++++++++++++++ Prophet 175 581 2\n"
          ]
        },
        {
          "output_type": "stream",
          "name": "stderr",
          "text": [
            "INFO:prophet:Disabling yearly seasonality. Run prophet with yearly_seasonality=True to override this.\n",
            "INFO:prophet:Disabling daily seasonality. Run prophet with daily_seasonality=True to override this.\n",
            "DEBUG:cmdstanpy:input tempfile: /tmp/tmpmo9k28to/kvvlxjvx.json\n",
            "DEBUG:cmdstanpy:input tempfile: /tmp/tmpmo9k28to/4_940v3d.json\n",
            "DEBUG:cmdstanpy:idx 0\n",
            "DEBUG:cmdstanpy:running CmdStan, num_threads: None\n",
            "DEBUG:cmdstanpy:CmdStan args: ['/usr/local/lib/python3.10/dist-packages/prophet/stan_model/prophet_model.bin', 'random', 'seed=22510', 'data', 'file=/tmp/tmpmo9k28to/kvvlxjvx.json', 'init=/tmp/tmpmo9k28to/4_940v3d.json', 'output', 'file=/tmp/tmpmo9k28to/prophet_modeltb2s1lf8/prophet_model-20230930122239.csv', 'method=optimize', 'algorithm=lbfgs', 'iter=10000']\n",
            "12:22:39 - cmdstanpy - INFO - Chain [1] start processing\n",
            "INFO:cmdstanpy:Chain [1] start processing\n",
            "12:22:39 - cmdstanpy - INFO - Chain [1] done processing\n",
            "INFO:cmdstanpy:Chain [1] done processing\n"
          ]
        },
        {
          "output_type": "stream",
          "name": "stdout",
          "text": [
            "+++++++++++++++++++++++++++++++++++++++++++++++++++++++++++++++++++++++++++++++++++++++ [('Prophet', 50.1871), ('ARIMA', 24.3444), ('ETS', 39.8481), ('XGBoost', 20.22), ('Greykite', inf)]\n",
            "+++++++++++++++++++++++++++++++++++++++++++++++++++++++++++++++++++++++++++++++++++++++ XGBoost 176 583 2\n"
          ]
        },
        {
          "output_type": "stream",
          "name": "stderr",
          "text": [
            "INFO:prophet:Disabling yearly seasonality. Run prophet with yearly_seasonality=True to override this.\n",
            "INFO:prophet:Disabling daily seasonality. Run prophet with daily_seasonality=True to override this.\n",
            "DEBUG:cmdstanpy:input tempfile: /tmp/tmpmo9k28to/d00s3410.json\n",
            "DEBUG:cmdstanpy:input tempfile: /tmp/tmpmo9k28to/zk1iurvu.json\n",
            "DEBUG:cmdstanpy:idx 0\n",
            "DEBUG:cmdstanpy:running CmdStan, num_threads: None\n",
            "DEBUG:cmdstanpy:CmdStan args: ['/usr/local/lib/python3.10/dist-packages/prophet/stan_model/prophet_model.bin', 'random', 'seed=25915', 'data', 'file=/tmp/tmpmo9k28to/d00s3410.json', 'init=/tmp/tmpmo9k28to/zk1iurvu.json', 'output', 'file=/tmp/tmpmo9k28to/prophet_modelx4q3ktps/prophet_model-20230930122245.csv', 'method=optimize', 'algorithm=lbfgs', 'iter=10000']\n",
            "12:22:45 - cmdstanpy - INFO - Chain [1] start processing\n",
            "INFO:cmdstanpy:Chain [1] start processing\n",
            "12:22:45 - cmdstanpy - INFO - Chain [1] done processing\n",
            "INFO:cmdstanpy:Chain [1] done processing\n"
          ]
        },
        {
          "output_type": "stream",
          "name": "stdout",
          "text": [
            "+++++++++++++++++++++++++++++++++++++++++++++++++++++++++++++++++++++++++++++++++++++++ [('Prophet', 77.5379), ('ARIMA', 32.376), ('ETS', 76.2626), ('XGBoost', 42.6764), ('Greykite', inf)]\n",
            "+++++++++++++++++++++++++++++++++++++++++++++++++++++++++++++++++++++++++++++++++++++++ ARIMA 177 585 2\n"
          ]
        },
        {
          "output_type": "stream",
          "name": "stderr",
          "text": [
            "INFO:prophet:Disabling yearly seasonality. Run prophet with yearly_seasonality=True to override this.\n",
            "INFO:prophet:Disabling daily seasonality. Run prophet with daily_seasonality=True to override this.\n",
            "DEBUG:cmdstanpy:input tempfile: /tmp/tmpmo9k28to/gu69pgf4.json\n",
            "DEBUG:cmdstanpy:input tempfile: /tmp/tmpmo9k28to/knap07k8.json\n",
            "DEBUG:cmdstanpy:idx 0\n",
            "DEBUG:cmdstanpy:running CmdStan, num_threads: None\n",
            "DEBUG:cmdstanpy:CmdStan args: ['/usr/local/lib/python3.10/dist-packages/prophet/stan_model/prophet_model.bin', 'random', 'seed=79182', 'data', 'file=/tmp/tmpmo9k28to/gu69pgf4.json', 'init=/tmp/tmpmo9k28to/knap07k8.json', 'output', 'file=/tmp/tmpmo9k28to/prophet_model4ua22ktq/prophet_model-20230930122251.csv', 'method=optimize', 'algorithm=lbfgs', 'iter=10000']\n",
            "12:22:51 - cmdstanpy - INFO - Chain [1] start processing\n",
            "INFO:cmdstanpy:Chain [1] start processing\n"
          ]
        },
        {
          "output_type": "stream",
          "name": "stdout",
          "text": [
            "+++++++++++++++++++++++++++++++++++++++++++++++++++++++++++++++++++++++++++++++++++++++ [('Prophet', 121.4815), ('ARIMA', 33.2741), ('ETS', 136.1104), ('XGBoost', 148.0794), ('Greykite', inf)]\n",
            "+++++++++++++++++++++++++++++++++++++++++++++++++++++++++++++++++++++++++++++++++++++++ ARIMA 178 587 2\n"
          ]
        },
        {
          "output_type": "stream",
          "name": "stderr",
          "text": [
            "12:22:51 - cmdstanpy - INFO - Chain [1] done processing\n",
            "INFO:cmdstanpy:Chain [1] done processing\n",
            "INFO:prophet:Disabling yearly seasonality. Run prophet with yearly_seasonality=True to override this.\n",
            "INFO:prophet:Disabling daily seasonality. Run prophet with daily_seasonality=True to override this.\n",
            "DEBUG:cmdstanpy:input tempfile: /tmp/tmpmo9k28to/29pm9l_y.json\n",
            "DEBUG:cmdstanpy:input tempfile: /tmp/tmpmo9k28to/16bxq4fm.json\n",
            "DEBUG:cmdstanpy:idx 0\n",
            "DEBUG:cmdstanpy:running CmdStan, num_threads: None\n",
            "DEBUG:cmdstanpy:CmdStan args: ['/usr/local/lib/python3.10/dist-packages/prophet/stan_model/prophet_model.bin', 'random', 'seed=38109', 'data', 'file=/tmp/tmpmo9k28to/29pm9l_y.json', 'init=/tmp/tmpmo9k28to/16bxq4fm.json', 'output', 'file=/tmp/tmpmo9k28to/prophet_modelouiszixg/prophet_model-20230930122259.csv', 'method=optimize', 'algorithm=lbfgs', 'iter=10000']\n",
            "12:22:59 - cmdstanpy - INFO - Chain [1] start processing\n",
            "INFO:cmdstanpy:Chain [1] start processing\n",
            "12:22:59 - cmdstanpy - INFO - Chain [1] done processing\n",
            "INFO:cmdstanpy:Chain [1] done processing\n"
          ]
        },
        {
          "output_type": "stream",
          "name": "stdout",
          "text": [
            "+++++++++++++++++++++++++++++++++++++++++++++++++++++++++++++++++++++++++++++++++++++++ [('Prophet', 37.8061), ('ARIMA', 15.8507), ('ETS', 24.5337), ('XGBoost', 17.4032), ('Greykite', inf)]\n",
            "+++++++++++++++++++++++++++++++++++++++++++++++++++++++++++++++++++++++++++++++++++++++ ARIMA 179 589 2\n"
          ]
        },
        {
          "output_type": "stream",
          "name": "stderr",
          "text": [
            "INFO:prophet:Disabling yearly seasonality. Run prophet with yearly_seasonality=True to override this.\n",
            "INFO:prophet:Disabling daily seasonality. Run prophet with daily_seasonality=True to override this.\n",
            "DEBUG:cmdstanpy:input tempfile: /tmp/tmpmo9k28to/nv_8sh_4.json\n",
            "DEBUG:cmdstanpy:input tempfile: /tmp/tmpmo9k28to/6pby3oda.json\n",
            "DEBUG:cmdstanpy:idx 0\n",
            "DEBUG:cmdstanpy:running CmdStan, num_threads: None\n",
            "DEBUG:cmdstanpy:CmdStan args: ['/usr/local/lib/python3.10/dist-packages/prophet/stan_model/prophet_model.bin', 'random', 'seed=24718', 'data', 'file=/tmp/tmpmo9k28to/nv_8sh_4.json', 'init=/tmp/tmpmo9k28to/6pby3oda.json', 'output', 'file=/tmp/tmpmo9k28to/prophet_modelggnbzjy_/prophet_model-20230930122304.csv', 'method=optimize', 'algorithm=lbfgs', 'iter=10000']\n",
            "12:23:04 - cmdstanpy - INFO - Chain [1] start processing\n",
            "INFO:cmdstanpy:Chain [1] start processing\n",
            "12:23:04 - cmdstanpy - INFO - Chain [1] done processing\n",
            "INFO:cmdstanpy:Chain [1] done processing\n"
          ]
        },
        {
          "output_type": "stream",
          "name": "stdout",
          "text": [
            "+++++++++++++++++++++++++++++++++++++++++++++++++++++++++++++++++++++++++++++++++++++++ [('Prophet', 37.2977), ('ARIMA', 6.01), ('ETS', 13.3099), ('XGBoost', 32.8963), ('Greykite', inf)]\n",
            "+++++++++++++++++++++++++++++++++++++++++++++++++++++++++++++++++++++++++++++++++++++++ ARIMA 180 591 2\n"
          ]
        },
        {
          "output_type": "stream",
          "name": "stderr",
          "text": [
            "INFO:prophet:Disabling yearly seasonality. Run prophet with yearly_seasonality=True to override this.\n",
            "INFO:prophet:Disabling daily seasonality. Run prophet with daily_seasonality=True to override this.\n",
            "DEBUG:cmdstanpy:input tempfile: /tmp/tmpmo9k28to/4mwkp_r3.json\n",
            "DEBUG:cmdstanpy:input tempfile: /tmp/tmpmo9k28to/ivjwd577.json\n",
            "DEBUG:cmdstanpy:idx 0\n",
            "DEBUG:cmdstanpy:running CmdStan, num_threads: None\n",
            "DEBUG:cmdstanpy:CmdStan args: ['/usr/local/lib/python3.10/dist-packages/prophet/stan_model/prophet_model.bin', 'random', 'seed=42638', 'data', 'file=/tmp/tmpmo9k28to/4mwkp_r3.json', 'init=/tmp/tmpmo9k28to/ivjwd577.json', 'output', 'file=/tmp/tmpmo9k28to/prophet_modelran8bxrg/prophet_model-20230930122313.csv', 'method=optimize', 'algorithm=lbfgs', 'iter=10000']\n",
            "12:23:13 - cmdstanpy - INFO - Chain [1] start processing\n",
            "INFO:cmdstanpy:Chain [1] start processing\n",
            "12:23:13 - cmdstanpy - INFO - Chain [1] done processing\n",
            "INFO:cmdstanpy:Chain [1] done processing\n"
          ]
        },
        {
          "output_type": "stream",
          "name": "stdout",
          "text": [
            "+++++++++++++++++++++++++++++++++++++++++++++++++++++++++++++++++++++++++++++++++++++++ [('Prophet', 124.4479), ('ARIMA', 12.7072), ('ETS', 151.1019), ('XGBoost', 124.8061), ('Greykite', inf)]\n",
            "+++++++++++++++++++++++++++++++++++++++++++++++++++++++++++++++++++++++++++++++++++++++ ARIMA 181 593 2\n"
          ]
        },
        {
          "output_type": "stream",
          "name": "stderr",
          "text": [
            "INFO:prophet:Disabling yearly seasonality. Run prophet with yearly_seasonality=True to override this.\n",
            "INFO:prophet:Disabling daily seasonality. Run prophet with daily_seasonality=True to override this.\n",
            "DEBUG:cmdstanpy:input tempfile: /tmp/tmpmo9k28to/0wub5gfa.json\n",
            "DEBUG:cmdstanpy:input tempfile: /tmp/tmpmo9k28to/cx549ita.json\n",
            "DEBUG:cmdstanpy:idx 0\n",
            "DEBUG:cmdstanpy:running CmdStan, num_threads: None\n",
            "DEBUG:cmdstanpy:CmdStan args: ['/usr/local/lib/python3.10/dist-packages/prophet/stan_model/prophet_model.bin', 'random', 'seed=32116', 'data', 'file=/tmp/tmpmo9k28to/0wub5gfa.json', 'init=/tmp/tmpmo9k28to/cx549ita.json', 'output', 'file=/tmp/tmpmo9k28to/prophet_modelorxdxc0u/prophet_model-20230930122318.csv', 'method=optimize', 'algorithm=lbfgs', 'iter=10000']\n",
            "12:23:18 - cmdstanpy - INFO - Chain [1] start processing\n",
            "INFO:cmdstanpy:Chain [1] start processing\n",
            "12:23:18 - cmdstanpy - INFO - Chain [1] done processing\n",
            "INFO:cmdstanpy:Chain [1] done processing\n"
          ]
        },
        {
          "output_type": "stream",
          "name": "stdout",
          "text": [
            "+++++++++++++++++++++++++++++++++++++++++++++++++++++++++++++++++++++++++++++++++++++++ [('Prophet', 40.1781), ('ARIMA', 18.5486), ('ETS', 32.3102), ('XGBoost', 173.4873), ('Greykite', inf)]\n",
            "+++++++++++++++++++++++++++++++++++++++++++++++++++++++++++++++++++++++++++++++++++++++ ARIMA 182 595 2\n"
          ]
        },
        {
          "output_type": "stream",
          "name": "stderr",
          "text": [
            "INFO:prophet:Disabling yearly seasonality. Run prophet with yearly_seasonality=True to override this.\n",
            "INFO:prophet:Disabling daily seasonality. Run prophet with daily_seasonality=True to override this.\n",
            "DEBUG:cmdstanpy:input tempfile: /tmp/tmpmo9k28to/8nost4oz.json\n",
            "DEBUG:cmdstanpy:input tempfile: /tmp/tmpmo9k28to/1ymnnd4m.json\n",
            "DEBUG:cmdstanpy:idx 0\n",
            "DEBUG:cmdstanpy:running CmdStan, num_threads: None\n",
            "DEBUG:cmdstanpy:CmdStan args: ['/usr/local/lib/python3.10/dist-packages/prophet/stan_model/prophet_model.bin', 'random', 'seed=79681', 'data', 'file=/tmp/tmpmo9k28to/8nost4oz.json', 'init=/tmp/tmpmo9k28to/1ymnnd4m.json', 'output', 'file=/tmp/tmpmo9k28to/prophet_modelipcxgru0/prophet_model-20230930122326.csv', 'method=optimize', 'algorithm=lbfgs', 'iter=10000']\n",
            "12:23:26 - cmdstanpy - INFO - Chain [1] start processing\n",
            "INFO:cmdstanpy:Chain [1] start processing\n",
            "12:23:27 - cmdstanpy - INFO - Chain [1] done processing\n"
          ]
        },
        {
          "output_type": "stream",
          "name": "stdout",
          "text": [
            "+++++++++++++++++++++++++++++++++++++++++++++++++++++++++++++++++++++++++++++++++++++++ [('Prophet', 44.8348), ('ARIMA', 14.8556), ('ETS', 26.6123), ('XGBoost', 102.7919), ('Greykite', inf)]\n",
            "+++++++++++++++++++++++++++++++++++++++++++++++++++++++++++++++++++++++++++++++++++++++ ARIMA 183 597 2\n"
          ]
        },
        {
          "output_type": "stream",
          "name": "stderr",
          "text": [
            "INFO:cmdstanpy:Chain [1] done processing\n",
            "INFO:prophet:Disabling yearly seasonality. Run prophet with yearly_seasonality=True to override this.\n",
            "INFO:prophet:Disabling daily seasonality. Run prophet with daily_seasonality=True to override this.\n",
            "DEBUG:cmdstanpy:input tempfile: /tmp/tmpmo9k28to/jb11p4zc.json\n",
            "DEBUG:cmdstanpy:input tempfile: /tmp/tmpmo9k28to/km1d2w9c.json\n",
            "DEBUG:cmdstanpy:idx 0\n",
            "DEBUG:cmdstanpy:running CmdStan, num_threads: None\n",
            "DEBUG:cmdstanpy:CmdStan args: ['/usr/local/lib/python3.10/dist-packages/prophet/stan_model/prophet_model.bin', 'random', 'seed=10258', 'data', 'file=/tmp/tmpmo9k28to/jb11p4zc.json', 'init=/tmp/tmpmo9k28to/km1d2w9c.json', 'output', 'file=/tmp/tmpmo9k28to/prophet_modelkjs8oxun/prophet_model-20230930122332.csv', 'method=optimize', 'algorithm=lbfgs', 'iter=10000']\n",
            "12:23:32 - cmdstanpy - INFO - Chain [1] start processing\n",
            "INFO:cmdstanpy:Chain [1] start processing\n"
          ]
        },
        {
          "output_type": "stream",
          "name": "stdout",
          "text": [
            "+++++++++++++++++++++++++++++++++++++++++++++++++++++++++++++++++++++++++++++++++++++++ [('Prophet', 31.197), ('ARIMA', 7.5088), ('ETS', 36.0566), ('XGBoost', 152.1893), ('Greykite', inf)]\n",
            "+++++++++++++++++++++++++++++++++++++++++++++++++++++++++++++++++++++++++++++++++++++++ ARIMA 184 599 2\n"
          ]
        },
        {
          "output_type": "stream",
          "name": "stderr",
          "text": [
            "12:23:33 - cmdstanpy - INFO - Chain [1] done processing\n",
            "INFO:cmdstanpy:Chain [1] done processing\n",
            "INFO:prophet:Disabling yearly seasonality. Run prophet with yearly_seasonality=True to override this.\n",
            "INFO:prophet:Disabling daily seasonality. Run prophet with daily_seasonality=True to override this.\n",
            "DEBUG:cmdstanpy:input tempfile: /tmp/tmpmo9k28to/_h45q5d1.json\n",
            "DEBUG:cmdstanpy:input tempfile: /tmp/tmpmo9k28to/j7lktphz.json\n",
            "DEBUG:cmdstanpy:idx 0\n",
            "DEBUG:cmdstanpy:running CmdStan, num_threads: None\n",
            "DEBUG:cmdstanpy:CmdStan args: ['/usr/local/lib/python3.10/dist-packages/prophet/stan_model/prophet_model.bin', 'random', 'seed=44610', 'data', 'file=/tmp/tmpmo9k28to/_h45q5d1.json', 'init=/tmp/tmpmo9k28to/j7lktphz.json', 'output', 'file=/tmp/tmpmo9k28to/prophet_modelnkre8m0d/prophet_model-20230930122340.csv', 'method=optimize', 'algorithm=lbfgs', 'iter=10000']\n",
            "12:23:40 - cmdstanpy - INFO - Chain [1] start processing\n",
            "INFO:cmdstanpy:Chain [1] start processing\n"
          ]
        },
        {
          "output_type": "stream",
          "name": "stdout",
          "text": [
            "+++++++++++++++++++++++++++++++++++++++++++++++++++++++++++++++++++++++++++++++++++++++ [('Prophet', 87.435), ('ARIMA', 22.9118), ('ETS', 93.0198), ('XGBoost', 54.6419), ('Greykite', inf)]\n",
            "+++++++++++++++++++++++++++++++++++++++++++++++++++++++++++++++++++++++++++++++++++++++ ARIMA 185 601 2\n"
          ]
        },
        {
          "output_type": "stream",
          "name": "stderr",
          "text": [
            "12:23:40 - cmdstanpy - INFO - Chain [1] done processing\n",
            "INFO:cmdstanpy:Chain [1] done processing\n",
            "INFO:prophet:Disabling yearly seasonality. Run prophet with yearly_seasonality=True to override this.\n",
            "INFO:prophet:Disabling daily seasonality. Run prophet with daily_seasonality=True to override this.\n",
            "DEBUG:cmdstanpy:input tempfile: /tmp/tmpmo9k28to/2ik1798u.json\n",
            "DEBUG:cmdstanpy:input tempfile: /tmp/tmpmo9k28to/vyv_rina.json\n",
            "DEBUG:cmdstanpy:idx 0\n",
            "DEBUG:cmdstanpy:running CmdStan, num_threads: None\n",
            "DEBUG:cmdstanpy:CmdStan args: ['/usr/local/lib/python3.10/dist-packages/prophet/stan_model/prophet_model.bin', 'random', 'seed=87472', 'data', 'file=/tmp/tmpmo9k28to/2ik1798u.json', 'init=/tmp/tmpmo9k28to/vyv_rina.json', 'output', 'file=/tmp/tmpmo9k28to/prophet_modelf9cobq99/prophet_model-20230930122346.csv', 'method=optimize', 'algorithm=lbfgs', 'iter=10000']\n",
            "12:23:46 - cmdstanpy - INFO - Chain [1] start processing\n",
            "INFO:cmdstanpy:Chain [1] start processing\n",
            "12:23:46 - cmdstanpy - INFO - Chain [1] done processing\n",
            "INFO:cmdstanpy:Chain [1] done processing\n"
          ]
        },
        {
          "output_type": "stream",
          "name": "stdout",
          "text": [
            "+++++++++++++++++++++++++++++++++++++++++++++++++++++++++++++++++++++++++++++++++++++++ [('Prophet', 38.3614), ('ARIMA', 3.9239), ('ETS', 32.2753), ('XGBoost', 109.3134), ('Greykite', inf)]\n",
            "+++++++++++++++++++++++++++++++++++++++++++++++++++++++++++++++++++++++++++++++++++++++ ARIMA 186 603 2\n"
          ]
        },
        {
          "output_type": "stream",
          "name": "stderr",
          "text": [
            "INFO:prophet:Disabling yearly seasonality. Run prophet with yearly_seasonality=True to override this.\n",
            "INFO:prophet:Disabling daily seasonality. Run prophet with daily_seasonality=True to override this.\n",
            "DEBUG:cmdstanpy:input tempfile: /tmp/tmpmo9k28to/91v1xvo_.json\n",
            "DEBUG:cmdstanpy:input tempfile: /tmp/tmpmo9k28to/nv9yo8s_.json\n",
            "DEBUG:cmdstanpy:idx 0\n",
            "DEBUG:cmdstanpy:running CmdStan, num_threads: None\n",
            "DEBUG:cmdstanpy:CmdStan args: ['/usr/local/lib/python3.10/dist-packages/prophet/stan_model/prophet_model.bin', 'random', 'seed=19596', 'data', 'file=/tmp/tmpmo9k28to/91v1xvo_.json', 'init=/tmp/tmpmo9k28to/nv9yo8s_.json', 'output', 'file=/tmp/tmpmo9k28to/prophet_modelsz1ybi3j/prophet_model-20230930122352.csv', 'method=optimize', 'algorithm=lbfgs', 'iter=10000']\n",
            "12:23:52 - cmdstanpy - INFO - Chain [1] start processing\n",
            "INFO:cmdstanpy:Chain [1] start processing\n"
          ]
        },
        {
          "output_type": "stream",
          "name": "stdout",
          "text": [
            "+++++++++++++++++++++++++++++++++++++++++++++++++++++++++++++++++++++++++++++++++++++++ [('Prophet', 33.1394), ('ARIMA', 9.0384), ('ETS', 1.7524), ('XGBoost', 162.1425), ('Greykite', inf)]\n",
            "+++++++++++++++++++++++++++++++++++++++++++++++++++++++++++++++++++++++++++++++++++++++ ETS 187 605 2\n"
          ]
        },
        {
          "output_type": "stream",
          "name": "stderr",
          "text": [
            "12:23:52 - cmdstanpy - INFO - Chain [1] done processing\n",
            "INFO:cmdstanpy:Chain [1] done processing\n",
            "INFO:prophet:Disabling yearly seasonality. Run prophet with yearly_seasonality=True to override this.\n",
            "INFO:prophet:Disabling daily seasonality. Run prophet with daily_seasonality=True to override this.\n",
            "DEBUG:cmdstanpy:input tempfile: /tmp/tmpmo9k28to/tz3fvmmf.json\n",
            "DEBUG:cmdstanpy:input tempfile: /tmp/tmpmo9k28to/w04otsyt.json\n",
            "DEBUG:cmdstanpy:idx 0\n",
            "DEBUG:cmdstanpy:running CmdStan, num_threads: None\n",
            "DEBUG:cmdstanpy:CmdStan args: ['/usr/local/lib/python3.10/dist-packages/prophet/stan_model/prophet_model.bin', 'random', 'seed=33815', 'data', 'file=/tmp/tmpmo9k28to/tz3fvmmf.json', 'init=/tmp/tmpmo9k28to/w04otsyt.json', 'output', 'file=/tmp/tmpmo9k28to/prophet_model2mal73uj/prophet_model-20230930122400.csv', 'method=optimize', 'algorithm=lbfgs', 'iter=10000']\n",
            "12:24:00 - cmdstanpy - INFO - Chain [1] start processing\n",
            "INFO:cmdstanpy:Chain [1] start processing\n",
            "12:24:00 - cmdstanpy - INFO - Chain [1] done processing\n",
            "INFO:cmdstanpy:Chain [1] done processing\n"
          ]
        },
        {
          "output_type": "stream",
          "name": "stdout",
          "text": [
            "+++++++++++++++++++++++++++++++++++++++++++++++++++++++++++++++++++++++++++++++++++++++ [('Prophet', 130.4353), ('ARIMA', 32.4711), ('ETS', 170.7687), ('XGBoost', 403.9688), ('Greykite', inf)]\n",
            "+++++++++++++++++++++++++++++++++++++++++++++++++++++++++++++++++++++++++++++++++++++++ ARIMA 188 607 2\n"
          ]
        },
        {
          "output_type": "stream",
          "name": "stderr",
          "text": [
            "INFO:prophet:Disabling yearly seasonality. Run prophet with yearly_seasonality=True to override this.\n",
            "INFO:prophet:Disabling daily seasonality. Run prophet with daily_seasonality=True to override this.\n",
            "DEBUG:cmdstanpy:input tempfile: /tmp/tmpmo9k28to/jx9rnokh.json\n",
            "DEBUG:cmdstanpy:input tempfile: /tmp/tmpmo9k28to/871lo3n4.json\n",
            "DEBUG:cmdstanpy:idx 0\n",
            "DEBUG:cmdstanpy:running CmdStan, num_threads: None\n",
            "DEBUG:cmdstanpy:CmdStan args: ['/usr/local/lib/python3.10/dist-packages/prophet/stan_model/prophet_model.bin', 'random', 'seed=26410', 'data', 'file=/tmp/tmpmo9k28to/jx9rnokh.json', 'init=/tmp/tmpmo9k28to/871lo3n4.json', 'output', 'file=/tmp/tmpmo9k28to/prophet_model757v3kjl/prophet_model-20230930122406.csv', 'method=optimize', 'algorithm=lbfgs', 'iter=10000']\n",
            "12:24:06 - cmdstanpy - INFO - Chain [1] start processing\n",
            "INFO:cmdstanpy:Chain [1] start processing\n",
            "12:24:06 - cmdstanpy - INFO - Chain [1] done processing\n",
            "INFO:cmdstanpy:Chain [1] done processing\n"
          ]
        },
        {
          "output_type": "stream",
          "name": "stdout",
          "text": [
            "+++++++++++++++++++++++++++++++++++++++++++++++++++++++++++++++++++++++++++++++++++++++ [('Prophet', 37.0153), ('ARIMA', 16.1109), ('ETS', 30.6537), ('XGBoost', 48.9915), ('Greykite', inf)]\n",
            "+++++++++++++++++++++++++++++++++++++++++++++++++++++++++++++++++++++++++++++++++++++++ ARIMA 189 609 2\n"
          ]
        },
        {
          "output_type": "stream",
          "name": "stderr",
          "text": [
            "INFO:prophet:Disabling yearly seasonality. Run prophet with yearly_seasonality=True to override this.\n",
            "INFO:prophet:Disabling daily seasonality. Run prophet with daily_seasonality=True to override this.\n",
            "DEBUG:cmdstanpy:input tempfile: /tmp/tmpmo9k28to/54yrs7_v.json\n",
            "DEBUG:cmdstanpy:input tempfile: /tmp/tmpmo9k28to/t6cna7gr.json\n",
            "DEBUG:cmdstanpy:idx 0\n",
            "DEBUG:cmdstanpy:running CmdStan, num_threads: None\n",
            "DEBUG:cmdstanpy:CmdStan args: ['/usr/local/lib/python3.10/dist-packages/prophet/stan_model/prophet_model.bin', 'random', 'seed=77149', 'data', 'file=/tmp/tmpmo9k28to/54yrs7_v.json', 'init=/tmp/tmpmo9k28to/t6cna7gr.json', 'output', 'file=/tmp/tmpmo9k28to/prophet_modelejg4eopu/prophet_model-20230930122414.csv', 'method=optimize', 'algorithm=lbfgs', 'iter=10000']\n",
            "12:24:14 - cmdstanpy - INFO - Chain [1] start processing\n",
            "INFO:cmdstanpy:Chain [1] start processing\n",
            "12:24:14 - cmdstanpy - INFO - Chain [1] done processing\n",
            "INFO:cmdstanpy:Chain [1] done processing\n"
          ]
        },
        {
          "output_type": "stream",
          "name": "stdout",
          "text": [
            "+++++++++++++++++++++++++++++++++++++++++++++++++++++++++++++++++++++++++++++++++++++++ [('Prophet', 40.3058), ('ARIMA', 9.6323), ('ETS', 20.4446), ('XGBoost', 17.4357), ('Greykite', inf)]\n",
            "+++++++++++++++++++++++++++++++++++++++++++++++++++++++++++++++++++++++++++++++++++++++ ARIMA 190 611 2\n"
          ]
        },
        {
          "output_type": "stream",
          "name": "stderr",
          "text": [
            "INFO:prophet:Disabling yearly seasonality. Run prophet with yearly_seasonality=True to override this.\n",
            "INFO:prophet:Disabling daily seasonality. Run prophet with daily_seasonality=True to override this.\n",
            "DEBUG:cmdstanpy:input tempfile: /tmp/tmpmo9k28to/kt72mpdr.json\n",
            "DEBUG:cmdstanpy:input tempfile: /tmp/tmpmo9k28to/a7ur7wmg.json\n",
            "DEBUG:cmdstanpy:idx 0\n",
            "DEBUG:cmdstanpy:running CmdStan, num_threads: None\n",
            "DEBUG:cmdstanpy:CmdStan args: ['/usr/local/lib/python3.10/dist-packages/prophet/stan_model/prophet_model.bin', 'random', 'seed=52864', 'data', 'file=/tmp/tmpmo9k28to/kt72mpdr.json', 'init=/tmp/tmpmo9k28to/a7ur7wmg.json', 'output', 'file=/tmp/tmpmo9k28to/prophet_modelgn8ql3gp/prophet_model-20230930122420.csv', 'method=optimize', 'algorithm=lbfgs', 'iter=10000']\n",
            "12:24:20 - cmdstanpy - INFO - Chain [1] start processing\n",
            "INFO:cmdstanpy:Chain [1] start processing\n",
            "12:24:20 - cmdstanpy - INFO - Chain [1] done processing\n",
            "INFO:cmdstanpy:Chain [1] done processing\n"
          ]
        },
        {
          "output_type": "stream",
          "name": "stdout",
          "text": [
            "+++++++++++++++++++++++++++++++++++++++++++++++++++++++++++++++++++++++++++++++++++++++ [('Prophet', 43.1602), ('ARIMA', 5.7738), ('ETS', 31.0149), ('XGBoost', 59.5431), ('Greykite', inf)]\n",
            "+++++++++++++++++++++++++++++++++++++++++++++++++++++++++++++++++++++++++++++++++++++++ ARIMA 191 613 2\n"
          ]
        },
        {
          "output_type": "stream",
          "name": "stderr",
          "text": [
            "INFO:prophet:Disabling yearly seasonality. Run prophet with yearly_seasonality=True to override this.\n",
            "INFO:prophet:Disabling daily seasonality. Run prophet with daily_seasonality=True to override this.\n",
            "DEBUG:cmdstanpy:input tempfile: /tmp/tmpmo9k28to/l6dwcxbv.json\n",
            "DEBUG:cmdstanpy:input tempfile: /tmp/tmpmo9k28to/o_vt3np2.json\n",
            "DEBUG:cmdstanpy:idx 0\n",
            "DEBUG:cmdstanpy:running CmdStan, num_threads: None\n",
            "DEBUG:cmdstanpy:CmdStan args: ['/usr/local/lib/python3.10/dist-packages/prophet/stan_model/prophet_model.bin', 'random', 'seed=62856', 'data', 'file=/tmp/tmpmo9k28to/l6dwcxbv.json', 'init=/tmp/tmpmo9k28to/o_vt3np2.json', 'output', 'file=/tmp/tmpmo9k28to/prophet_modelxzxvc804/prophet_model-20230930122428.csv', 'method=optimize', 'algorithm=lbfgs', 'iter=10000']\n",
            "12:24:28 - cmdstanpy - INFO - Chain [1] start processing\n",
            "INFO:cmdstanpy:Chain [1] start processing\n",
            "12:24:28 - cmdstanpy - INFO - Chain [1] done processing\n",
            "INFO:cmdstanpy:Chain [1] done processing\n"
          ]
        },
        {
          "output_type": "stream",
          "name": "stdout",
          "text": [
            "+++++++++++++++++++++++++++++++++++++++++++++++++++++++++++++++++++++++++++++++++++++++ [('Prophet', 106.6872), ('ARIMA', 27.1655), ('ETS', 102.4022), ('XGBoost', 112.3606), ('Greykite', inf)]\n",
            "+++++++++++++++++++++++++++++++++++++++++++++++++++++++++++++++++++++++++++++++++++++++ ARIMA 192 615 2\n"
          ]
        },
        {
          "output_type": "stream",
          "name": "stderr",
          "text": [
            "INFO:prophet:Disabling yearly seasonality. Run prophet with yearly_seasonality=True to override this.\n",
            "INFO:prophet:Disabling daily seasonality. Run prophet with daily_seasonality=True to override this.\n",
            "DEBUG:cmdstanpy:input tempfile: /tmp/tmpmo9k28to/x80iirtx.json\n",
            "DEBUG:cmdstanpy:input tempfile: /tmp/tmpmo9k28to/c136nuiq.json\n",
            "DEBUG:cmdstanpy:idx 0\n",
            "DEBUG:cmdstanpy:running CmdStan, num_threads: None\n",
            "DEBUG:cmdstanpy:CmdStan args: ['/usr/local/lib/python3.10/dist-packages/prophet/stan_model/prophet_model.bin', 'random', 'seed=27102', 'data', 'file=/tmp/tmpmo9k28to/x80iirtx.json', 'init=/tmp/tmpmo9k28to/c136nuiq.json', 'output', 'file=/tmp/tmpmo9k28to/prophet_modeloqaekz3o/prophet_model-20230930122434.csv', 'method=optimize', 'algorithm=lbfgs', 'iter=10000']\n",
            "12:24:34 - cmdstanpy - INFO - Chain [1] start processing\n",
            "INFO:cmdstanpy:Chain [1] start processing\n",
            "12:24:34 - cmdstanpy - INFO - Chain [1] done processing\n",
            "INFO:cmdstanpy:Chain [1] done processing\n"
          ]
        },
        {
          "output_type": "stream",
          "name": "stdout",
          "text": [
            "+++++++++++++++++++++++++++++++++++++++++++++++++++++++++++++++++++++++++++++++++++++++ [('Prophet', 27.3787), ('ARIMA', 10.2137), ('ETS', 25.368), ('XGBoost', 4.956), ('Greykite', inf)]\n",
            "+++++++++++++++++++++++++++++++++++++++++++++++++++++++++++++++++++++++++++++++++++++++ XGBoost 193 617 2\n"
          ]
        },
        {
          "output_type": "stream",
          "name": "stderr",
          "text": [
            "INFO:prophet:Disabling yearly seasonality. Run prophet with yearly_seasonality=True to override this.\n",
            "INFO:prophet:Disabling daily seasonality. Run prophet with daily_seasonality=True to override this.\n",
            "DEBUG:cmdstanpy:input tempfile: /tmp/tmpmo9k28to/6swoozwx.json\n",
            "DEBUG:cmdstanpy:input tempfile: /tmp/tmpmo9k28to/x574kb_t.json\n",
            "DEBUG:cmdstanpy:idx 0\n",
            "DEBUG:cmdstanpy:running CmdStan, num_threads: None\n",
            "DEBUG:cmdstanpy:CmdStan args: ['/usr/local/lib/python3.10/dist-packages/prophet/stan_model/prophet_model.bin', 'random', 'seed=20586', 'data', 'file=/tmp/tmpmo9k28to/6swoozwx.json', 'init=/tmp/tmpmo9k28to/x574kb_t.json', 'output', 'file=/tmp/tmpmo9k28to/prophet_modelf9urqki0/prophet_model-20230930122442.csv', 'method=optimize', 'algorithm=lbfgs', 'iter=10000']\n",
            "12:24:42 - cmdstanpy - INFO - Chain [1] start processing\n",
            "INFO:cmdstanpy:Chain [1] start processing\n"
          ]
        },
        {
          "output_type": "stream",
          "name": "stdout",
          "text": [
            "+++++++++++++++++++++++++++++++++++++++++++++++++++++++++++++++++++++++++++++++++++++++ [('Prophet', 34.408), ('ARIMA', 9.7294), ('ETS', 11.5349), ('XGBoost', 35.6271), ('Greykite', inf)]\n",
            "+++++++++++++++++++++++++++++++++++++++++++++++++++++++++++++++++++++++++++++++++++++++ ARIMA 194 619 2\n"
          ]
        },
        {
          "output_type": "stream",
          "name": "stderr",
          "text": [
            "12:24:42 - cmdstanpy - INFO - Chain [1] done processing\n",
            "INFO:cmdstanpy:Chain [1] done processing\n",
            "INFO:prophet:Disabling yearly seasonality. Run prophet with yearly_seasonality=True to override this.\n",
            "INFO:prophet:Disabling daily seasonality. Run prophet with daily_seasonality=True to override this.\n",
            "DEBUG:cmdstanpy:input tempfile: /tmp/tmpmo9k28to/2or96yob.json\n",
            "DEBUG:cmdstanpy:input tempfile: /tmp/tmpmo9k28to/4kslbuwz.json\n",
            "DEBUG:cmdstanpy:idx 0\n",
            "DEBUG:cmdstanpy:running CmdStan, num_threads: None\n",
            "DEBUG:cmdstanpy:CmdStan args: ['/usr/local/lib/python3.10/dist-packages/prophet/stan_model/prophet_model.bin', 'random', 'seed=65542', 'data', 'file=/tmp/tmpmo9k28to/2or96yob.json', 'init=/tmp/tmpmo9k28to/4kslbuwz.json', 'output', 'file=/tmp/tmpmo9k28to/prophet_model6g66spes/prophet_model-20230930122448.csv', 'method=optimize', 'algorithm=lbfgs', 'iter=10000']\n",
            "12:24:48 - cmdstanpy - INFO - Chain [1] start processing\n",
            "INFO:cmdstanpy:Chain [1] start processing\n",
            "12:24:49 - cmdstanpy - INFO - Chain [1] done processing\n",
            "INFO:cmdstanpy:Chain [1] done processing\n"
          ]
        },
        {
          "output_type": "stream",
          "name": "stdout",
          "text": [
            "+++++++++++++++++++++++++++++++++++++++++++++++++++++++++++++++++++++++++++++++++++++++ [('Prophet', 128.0424), ('ARIMA', 28.5712), ('ETS', 160.9321), ('XGBoost', 135.8938), ('Greykite', inf)]\n",
            "+++++++++++++++++++++++++++++++++++++++++++++++++++++++++++++++++++++++++++++++++++++++ ARIMA 195 621 2\n"
          ]
        },
        {
          "output_type": "stream",
          "name": "stderr",
          "text": [
            "INFO:prophet:Disabling yearly seasonality. Run prophet with yearly_seasonality=True to override this.\n",
            "INFO:prophet:Disabling daily seasonality. Run prophet with daily_seasonality=True to override this.\n",
            "DEBUG:cmdstanpy:input tempfile: /tmp/tmpmo9k28to/dghq9t16.json\n",
            "DEBUG:cmdstanpy:input tempfile: /tmp/tmpmo9k28to/66srxfje.json\n",
            "DEBUG:cmdstanpy:idx 0\n",
            "DEBUG:cmdstanpy:running CmdStan, num_threads: None\n",
            "DEBUG:cmdstanpy:CmdStan args: ['/usr/local/lib/python3.10/dist-packages/prophet/stan_model/prophet_model.bin', 'random', 'seed=54527', 'data', 'file=/tmp/tmpmo9k28to/dghq9t16.json', 'init=/tmp/tmpmo9k28to/66srxfje.json', 'output', 'file=/tmp/tmpmo9k28to/prophet_modelvu3nhw55/prophet_model-20230930122500.csv', 'method=optimize', 'algorithm=lbfgs', 'iter=10000']\n",
            "12:25:00 - cmdstanpy - INFO - Chain [1] start processing\n",
            "INFO:cmdstanpy:Chain [1] start processing\n"
          ]
        },
        {
          "output_type": "stream",
          "name": "stdout",
          "text": [
            "+++++++++++++++++++++++++++++++++++++++++++++++++++++++++++++++++++++++++++++++++++++++ [('Prophet', 37.6056), ('ARIMA', 19.5549), ('ETS', 30.2587), ('XGBoost', 51.2986), ('Greykite', inf)]\n",
            "+++++++++++++++++++++++++++++++++++++++++++++++++++++++++++++++++++++++++++++++++++++++ ARIMA 196 623 2\n"
          ]
        },
        {
          "output_type": "stream",
          "name": "stderr",
          "text": [
            "12:25:00 - cmdstanpy - INFO - Chain [1] done processing\n",
            "INFO:cmdstanpy:Chain [1] done processing\n",
            "INFO:prophet:Disabling yearly seasonality. Run prophet with yearly_seasonality=True to override this.\n",
            "INFO:prophet:Disabling daily seasonality. Run prophet with daily_seasonality=True to override this.\n",
            "DEBUG:cmdstanpy:input tempfile: /tmp/tmpmo9k28to/1u3ivv2r.json\n",
            "DEBUG:cmdstanpy:input tempfile: /tmp/tmpmo9k28to/lyyya_k2.json\n",
            "DEBUG:cmdstanpy:idx 0\n",
            "DEBUG:cmdstanpy:running CmdStan, num_threads: None\n",
            "DEBUG:cmdstanpy:CmdStan args: ['/usr/local/lib/python3.10/dist-packages/prophet/stan_model/prophet_model.bin', 'random', 'seed=61276', 'data', 'file=/tmp/tmpmo9k28to/1u3ivv2r.json', 'init=/tmp/tmpmo9k28to/lyyya_k2.json', 'output', 'file=/tmp/tmpmo9k28to/prophet_modelpnnv1njj/prophet_model-20230930122506.csv', 'method=optimize', 'algorithm=lbfgs', 'iter=10000']\n",
            "12:25:06 - cmdstanpy - INFO - Chain [1] start processing\n",
            "INFO:cmdstanpy:Chain [1] start processing\n",
            "12:25:06 - cmdstanpy - INFO - Chain [1] done processing\n",
            "INFO:cmdstanpy:Chain [1] done processing\n"
          ]
        },
        {
          "output_type": "stream",
          "name": "stdout",
          "text": [
            "+++++++++++++++++++++++++++++++++++++++++++++++++++++++++++++++++++++++++++++++++++++++ [('Prophet', 33.5953), ('ARIMA', 6.2895), ('ETS', 22.581), ('XGBoost', 118.1328), ('Greykite', inf)]\n",
            "+++++++++++++++++++++++++++++++++++++++++++++++++++++++++++++++++++++++++++++++++++++++ ARIMA 197 625 2\n"
          ]
        },
        {
          "output_type": "stream",
          "name": "stderr",
          "text": [
            "INFO:prophet:Disabling yearly seasonality. Run prophet with yearly_seasonality=True to override this.\n",
            "INFO:prophet:Disabling daily seasonality. Run prophet with daily_seasonality=True to override this.\n",
            "DEBUG:cmdstanpy:input tempfile: /tmp/tmpmo9k28to/2b_vadnh.json\n",
            "DEBUG:cmdstanpy:input tempfile: /tmp/tmpmo9k28to/vt28g_0z.json\n",
            "DEBUG:cmdstanpy:idx 0\n",
            "DEBUG:cmdstanpy:running CmdStan, num_threads: None\n",
            "DEBUG:cmdstanpy:CmdStan args: ['/usr/local/lib/python3.10/dist-packages/prophet/stan_model/prophet_model.bin', 'random', 'seed=23116', 'data', 'file=/tmp/tmpmo9k28to/2b_vadnh.json', 'init=/tmp/tmpmo9k28to/vt28g_0z.json', 'output', 'file=/tmp/tmpmo9k28to/prophet_modelt_l6_vgv/prophet_model-20230930122512.csv', 'method=optimize', 'algorithm=lbfgs', 'iter=10000']\n",
            "12:25:12 - cmdstanpy - INFO - Chain [1] start processing\n",
            "INFO:cmdstanpy:Chain [1] start processing\n"
          ]
        },
        {
          "output_type": "stream",
          "name": "stdout",
          "text": [
            "+++++++++++++++++++++++++++++++++++++++++++++++++++++++++++++++++++++++++++++++++++++++ [('Prophet', 55.5223), ('ARIMA', 12.613), ('ETS', 43.1406), ('XGBoost', 70.5545), ('Greykite', inf)]\n",
            "+++++++++++++++++++++++++++++++++++++++++++++++++++++++++++++++++++++++++++++++++++++++ ARIMA 198 627 2\n"
          ]
        },
        {
          "output_type": "stream",
          "name": "stderr",
          "text": [
            "12:25:13 - cmdstanpy - INFO - Chain [1] done processing\n",
            "INFO:cmdstanpy:Chain [1] done processing\n",
            "INFO:prophet:Disabling yearly seasonality. Run prophet with yearly_seasonality=True to override this.\n",
            "INFO:prophet:Disabling daily seasonality. Run prophet with daily_seasonality=True to override this.\n",
            "DEBUG:cmdstanpy:input tempfile: /tmp/tmpmo9k28to/zc8cmo4e.json\n",
            "DEBUG:cmdstanpy:input tempfile: /tmp/tmpmo9k28to/jaw8e4jm.json\n",
            "DEBUG:cmdstanpy:idx 0\n",
            "DEBUG:cmdstanpy:running CmdStan, num_threads: None\n",
            "DEBUG:cmdstanpy:CmdStan args: ['/usr/local/lib/python3.10/dist-packages/prophet/stan_model/prophet_model.bin', 'random', 'seed=3170', 'data', 'file=/tmp/tmpmo9k28to/zc8cmo4e.json', 'init=/tmp/tmpmo9k28to/jaw8e4jm.json', 'output', 'file=/tmp/tmpmo9k28to/prophet_modelit8hin40/prophet_model-20230930122520.csv', 'method=optimize', 'algorithm=lbfgs', 'iter=10000']\n",
            "12:25:20 - cmdstanpy - INFO - Chain [1] start processing\n",
            "INFO:cmdstanpy:Chain [1] start processing\n",
            "12:25:20 - cmdstanpy - INFO - Chain [1] done processing\n",
            "INFO:cmdstanpy:Chain [1] done processing\n"
          ]
        },
        {
          "output_type": "stream",
          "name": "stdout",
          "text": [
            "+++++++++++++++++++++++++++++++++++++++++++++++++++++++++++++++++++++++++++++++++++++++ [('Prophet', 102.1363), ('ARIMA', 25.0383), ('ETS', 101.5564), ('XGBoost', 163.2587), ('Greykite', inf)]\n",
            "+++++++++++++++++++++++++++++++++++++++++++++++++++++++++++++++++++++++++++++++++++++++ ARIMA 199 629 2\n"
          ]
        },
        {
          "output_type": "stream",
          "name": "stderr",
          "text": [
            "INFO:prophet:Disabling yearly seasonality. Run prophet with yearly_seasonality=True to override this.\n",
            "INFO:prophet:Disabling daily seasonality. Run prophet with daily_seasonality=True to override this.\n",
            "DEBUG:cmdstanpy:input tempfile: /tmp/tmpmo9k28to/1hghj5kv.json\n",
            "DEBUG:cmdstanpy:input tempfile: /tmp/tmpmo9k28to/ct80r593.json\n",
            "DEBUG:cmdstanpy:idx 0\n",
            "DEBUG:cmdstanpy:running CmdStan, num_threads: None\n",
            "DEBUG:cmdstanpy:CmdStan args: ['/usr/local/lib/python3.10/dist-packages/prophet/stan_model/prophet_model.bin', 'random', 'seed=84254', 'data', 'file=/tmp/tmpmo9k28to/1hghj5kv.json', 'init=/tmp/tmpmo9k28to/ct80r593.json', 'output', 'file=/tmp/tmpmo9k28to/prophet_modelm2pu9cnp/prophet_model-20230930122526.csv', 'method=optimize', 'algorithm=lbfgs', 'iter=10000']\n",
            "12:25:26 - cmdstanpy - INFO - Chain [1] start processing\n",
            "INFO:cmdstanpy:Chain [1] start processing\n",
            "12:25:26 - cmdstanpy - INFO - Chain [1] done processing\n",
            "INFO:cmdstanpy:Chain [1] done processing\n"
          ]
        },
        {
          "output_type": "stream",
          "name": "stdout",
          "text": [
            "+++++++++++++++++++++++++++++++++++++++++++++++++++++++++++++++++++++++++++++++++++++++ [('Prophet', 32.9814), ('ARIMA', 9.1182), ('ETS', 22.2224), ('XGBoost', 53.8004), ('Greykite', inf)]\n",
            "+++++++++++++++++++++++++++++++++++++++++++++++++++++++++++++++++++++++++++++++++++++++ ARIMA 200 631 2\n"
          ]
        },
        {
          "output_type": "stream",
          "name": "stderr",
          "text": [
            "INFO:prophet:Disabling yearly seasonality. Run prophet with yearly_seasonality=True to override this.\n",
            "INFO:prophet:Disabling daily seasonality. Run prophet with daily_seasonality=True to override this.\n",
            "DEBUG:cmdstanpy:input tempfile: /tmp/tmpmo9k28to/908214_d.json\n",
            "DEBUG:cmdstanpy:input tempfile: /tmp/tmpmo9k28to/agj1sybr.json\n",
            "DEBUG:cmdstanpy:idx 0\n",
            "DEBUG:cmdstanpy:running CmdStan, num_threads: None\n",
            "DEBUG:cmdstanpy:CmdStan args: ['/usr/local/lib/python3.10/dist-packages/prophet/stan_model/prophet_model.bin', 'random', 'seed=96684', 'data', 'file=/tmp/tmpmo9k28to/908214_d.json', 'init=/tmp/tmpmo9k28to/agj1sybr.json', 'output', 'file=/tmp/tmpmo9k28to/prophet_modell1fox0la/prophet_model-20230930122535.csv', 'method=optimize', 'algorithm=lbfgs', 'iter=10000']\n",
            "12:25:35 - cmdstanpy - INFO - Chain [1] start processing\n",
            "INFO:cmdstanpy:Chain [1] start processing\n",
            "12:25:35 - cmdstanpy - INFO - Chain [1] done processing\n",
            "INFO:cmdstanpy:Chain [1] done processing\n"
          ]
        },
        {
          "output_type": "stream",
          "name": "stdout",
          "text": [
            "+++++++++++++++++++++++++++++++++++++++++++++++++++++++++++++++++++++++++++++++++++++++ [('Prophet', 41.7359), ('ARIMA', 17.8246), ('ETS', 20.3522), ('XGBoost', 20.6745), ('Greykite', inf)]\n",
            "+++++++++++++++++++++++++++++++++++++++++++++++++++++++++++++++++++++++++++++++++++++++ ARIMA 201 633 2\n"
          ]
        },
        {
          "output_type": "stream",
          "name": "stderr",
          "text": [
            "INFO:prophet:Disabling yearly seasonality. Run prophet with yearly_seasonality=True to override this.\n",
            "INFO:prophet:Disabling daily seasonality. Run prophet with daily_seasonality=True to override this.\n",
            "DEBUG:cmdstanpy:input tempfile: /tmp/tmpmo9k28to/sist6egu.json\n",
            "DEBUG:cmdstanpy:input tempfile: /tmp/tmpmo9k28to/40xdzapr.json\n",
            "DEBUG:cmdstanpy:idx 0\n",
            "DEBUG:cmdstanpy:running CmdStan, num_threads: None\n",
            "DEBUG:cmdstanpy:CmdStan args: ['/usr/local/lib/python3.10/dist-packages/prophet/stan_model/prophet_model.bin', 'random', 'seed=93950', 'data', 'file=/tmp/tmpmo9k28to/sist6egu.json', 'init=/tmp/tmpmo9k28to/40xdzapr.json', 'output', 'file=/tmp/tmpmo9k28to/prophet_modelzh8uw9fj/prophet_model-20230930122541.csv', 'method=optimize', 'algorithm=lbfgs', 'iter=10000']\n",
            "12:25:41 - cmdstanpy - INFO - Chain [1] start processing\n",
            "INFO:cmdstanpy:Chain [1] start processing\n"
          ]
        },
        {
          "output_type": "stream",
          "name": "stdout",
          "text": [
            "+++++++++++++++++++++++++++++++++++++++++++++++++++++++++++++++++++++++++++++++++++++++ [('Prophet', 94.5954), ('ARIMA', 50.1331), ('ETS', 160.4404), ('XGBoost', 131.4064), ('Greykite', inf)]\n",
            "+++++++++++++++++++++++++++++++++++++++++++++++++++++++++++++++++++++++++++++++++++++++ ARIMA 202 635 2\n"
          ]
        },
        {
          "output_type": "stream",
          "name": "stderr",
          "text": [
            "12:25:41 - cmdstanpy - INFO - Chain [1] done processing\n",
            "INFO:cmdstanpy:Chain [1] done processing\n",
            "INFO:prophet:Disabling yearly seasonality. Run prophet with yearly_seasonality=True to override this.\n",
            "INFO:prophet:Disabling daily seasonality. Run prophet with daily_seasonality=True to override this.\n",
            "DEBUG:cmdstanpy:input tempfile: /tmp/tmpmo9k28to/9i20bhpb.json\n",
            "DEBUG:cmdstanpy:input tempfile: /tmp/tmpmo9k28to/y4q2vq5v.json\n",
            "DEBUG:cmdstanpy:idx 0\n",
            "DEBUG:cmdstanpy:running CmdStan, num_threads: None\n",
            "DEBUG:cmdstanpy:CmdStan args: ['/usr/local/lib/python3.10/dist-packages/prophet/stan_model/prophet_model.bin', 'random', 'seed=11322', 'data', 'file=/tmp/tmpmo9k28to/9i20bhpb.json', 'init=/tmp/tmpmo9k28to/y4q2vq5v.json', 'output', 'file=/tmp/tmpmo9k28to/prophet_modele5dt4j0o/prophet_model-20230930122550.csv', 'method=optimize', 'algorithm=lbfgs', 'iter=10000']\n",
            "12:25:50 - cmdstanpy - INFO - Chain [1] start processing\n",
            "INFO:cmdstanpy:Chain [1] start processing\n",
            "12:25:50 - cmdstanpy - INFO - Chain [1] done processing\n",
            "INFO:cmdstanpy:Chain [1] done processing\n"
          ]
        },
        {
          "output_type": "stream",
          "name": "stdout",
          "text": [
            "+++++++++++++++++++++++++++++++++++++++++++++++++++++++++++++++++++++++++++++++++++++++ [('Prophet', 32.2621), ('ARIMA', 3.8702), ('ETS', 27.2935), ('XGBoost', 22.003), ('Greykite', inf)]\n",
            "+++++++++++++++++++++++++++++++++++++++++++++++++++++++++++++++++++++++++++++++++++++++ ARIMA 203 637 2\n"
          ]
        },
        {
          "output_type": "stream",
          "name": "stderr",
          "text": [
            "INFO:prophet:Disabling yearly seasonality. Run prophet with yearly_seasonality=True to override this.\n",
            "INFO:prophet:Disabling daily seasonality. Run prophet with daily_seasonality=True to override this.\n",
            "DEBUG:cmdstanpy:input tempfile: /tmp/tmpmo9k28to/g41qjfz6.json\n",
            "DEBUG:cmdstanpy:input tempfile: /tmp/tmpmo9k28to/sjrz9t48.json\n",
            "DEBUG:cmdstanpy:idx 0\n",
            "DEBUG:cmdstanpy:running CmdStan, num_threads: None\n",
            "DEBUG:cmdstanpy:CmdStan args: ['/usr/local/lib/python3.10/dist-packages/prophet/stan_model/prophet_model.bin', 'random', 'seed=95096', 'data', 'file=/tmp/tmpmo9k28to/g41qjfz6.json', 'init=/tmp/tmpmo9k28to/sjrz9t48.json', 'output', 'file=/tmp/tmpmo9k28to/prophet_modeloin_ii9a/prophet_model-20230930122555.csv', 'method=optimize', 'algorithm=lbfgs', 'iter=10000']\n",
            "12:25:55 - cmdstanpy - INFO - Chain [1] start processing\n",
            "INFO:cmdstanpy:Chain [1] start processing\n",
            "12:25:56 - cmdstanpy - INFO - Chain [1] done processing\n",
            "INFO:cmdstanpy:Chain [1] done processing\n"
          ]
        },
        {
          "output_type": "stream",
          "name": "stdout",
          "text": [
            "+++++++++++++++++++++++++++++++++++++++++++++++++++++++++++++++++++++++++++++++++++++++ [('Prophet', 35.6611), ('ARIMA', 9.0464), ('ETS', 25.1668), ('XGBoost', 17.8093), ('Greykite', inf)]\n",
            "+++++++++++++++++++++++++++++++++++++++++++++++++++++++++++++++++++++++++++++++++++++++ ARIMA 204 639 2\n"
          ]
        },
        {
          "output_type": "stream",
          "name": "stderr",
          "text": [
            "INFO:prophet:Disabling yearly seasonality. Run prophet with yearly_seasonality=True to override this.\n",
            "INFO:prophet:Disabling daily seasonality. Run prophet with daily_seasonality=True to override this.\n",
            "DEBUG:cmdstanpy:input tempfile: /tmp/tmpmo9k28to/7vnzdpgb.json\n",
            "DEBUG:cmdstanpy:input tempfile: /tmp/tmpmo9k28to/etxb5zja.json\n",
            "DEBUG:cmdstanpy:idx 0\n",
            "DEBUG:cmdstanpy:running CmdStan, num_threads: None\n",
            "DEBUG:cmdstanpy:CmdStan args: ['/usr/local/lib/python3.10/dist-packages/prophet/stan_model/prophet_model.bin', 'random', 'seed=58618', 'data', 'file=/tmp/tmpmo9k28to/7vnzdpgb.json', 'init=/tmp/tmpmo9k28to/etxb5zja.json', 'output', 'file=/tmp/tmpmo9k28to/prophet_modellclp218y/prophet_model-20230930122604.csv', 'method=optimize', 'algorithm=lbfgs', 'iter=10000']\n",
            "12:26:04 - cmdstanpy - INFO - Chain [1] start processing\n",
            "INFO:cmdstanpy:Chain [1] start processing\n",
            "12:26:04 - cmdstanpy - INFO - Chain [1] done processing\n",
            "INFO:cmdstanpy:Chain [1] done processing\n"
          ]
        },
        {
          "output_type": "stream",
          "name": "stdout",
          "text": [
            "+++++++++++++++++++++++++++++++++++++++++++++++++++++++++++++++++++++++++++++++++++++++ [('Prophet', 48.6991), ('ARIMA', 12.5541), ('ETS', 43.5622), ('XGBoost', 100.6017), ('Greykite', inf)]\n",
            "+++++++++++++++++++++++++++++++++++++++++++++++++++++++++++++++++++++++++++++++++++++++ ARIMA 205 641 2\n"
          ]
        },
        {
          "output_type": "stream",
          "name": "stderr",
          "text": [
            "INFO:prophet:Disabling yearly seasonality. Run prophet with yearly_seasonality=True to override this.\n",
            "INFO:prophet:Disabling daily seasonality. Run prophet with daily_seasonality=True to override this.\n",
            "DEBUG:cmdstanpy:input tempfile: /tmp/tmpmo9k28to/gl1j85tv.json\n",
            "DEBUG:cmdstanpy:input tempfile: /tmp/tmpmo9k28to/alp839iw.json\n",
            "DEBUG:cmdstanpy:idx 0\n",
            "DEBUG:cmdstanpy:running CmdStan, num_threads: None\n",
            "DEBUG:cmdstanpy:CmdStan args: ['/usr/local/lib/python3.10/dist-packages/prophet/stan_model/prophet_model.bin', 'random', 'seed=86142', 'data', 'file=/tmp/tmpmo9k28to/gl1j85tv.json', 'init=/tmp/tmpmo9k28to/alp839iw.json', 'output', 'file=/tmp/tmpmo9k28to/prophet_modelbw6h71zp/prophet_model-20230930122610.csv', 'method=optimize', 'algorithm=lbfgs', 'iter=10000']\n",
            "12:26:10 - cmdstanpy - INFO - Chain [1] start processing\n",
            "INFO:cmdstanpy:Chain [1] start processing\n",
            "12:26:10 - cmdstanpy - INFO - Chain [1] done processing\n",
            "INFO:cmdstanpy:Chain [1] done processing\n"
          ]
        },
        {
          "output_type": "stream",
          "name": "stdout",
          "text": [
            "+++++++++++++++++++++++++++++++++++++++++++++++++++++++++++++++++++++++++++++++++++++++ [('Prophet', 78.8715), ('ARIMA', 11.1168), ('ETS', 85.4167), ('XGBoost', 79.9529), ('Greykite', inf)]\n",
            "+++++++++++++++++++++++++++++++++++++++++++++++++++++++++++++++++++++++++++++++++++++++ ARIMA 206 643 2\n"
          ]
        },
        {
          "output_type": "stream",
          "name": "stderr",
          "text": [
            "INFO:prophet:Disabling yearly seasonality. Run prophet with yearly_seasonality=True to override this.\n",
            "INFO:prophet:Disabling daily seasonality. Run prophet with daily_seasonality=True to override this.\n",
            "DEBUG:cmdstanpy:input tempfile: /tmp/tmpmo9k28to/hyhjv4kd.json\n",
            "DEBUG:cmdstanpy:input tempfile: /tmp/tmpmo9k28to/so3nrl03.json\n",
            "DEBUG:cmdstanpy:idx 0\n",
            "DEBUG:cmdstanpy:running CmdStan, num_threads: None\n",
            "DEBUG:cmdstanpy:CmdStan args: ['/usr/local/lib/python3.10/dist-packages/prophet/stan_model/prophet_model.bin', 'random', 'seed=68189', 'data', 'file=/tmp/tmpmo9k28to/hyhjv4kd.json', 'init=/tmp/tmpmo9k28to/so3nrl03.json', 'output', 'file=/tmp/tmpmo9k28to/prophet_model8jl3_1tq/prophet_model-20230930122618.csv', 'method=optimize', 'algorithm=lbfgs', 'iter=10000']\n",
            "12:26:18 - cmdstanpy - INFO - Chain [1] start processing\n",
            "INFO:cmdstanpy:Chain [1] start processing\n"
          ]
        },
        {
          "output_type": "stream",
          "name": "stdout",
          "text": [
            "+++++++++++++++++++++++++++++++++++++++++++++++++++++++++++++++++++++++++++++++++++++++ [('Prophet', 35.6763), ('ARIMA', 12.2681), ('ETS', 29.8359), ('XGBoost', 12.7915), ('Greykite', inf)]\n",
            "+++++++++++++++++++++++++++++++++++++++++++++++++++++++++++++++++++++++++++++++++++++++ ARIMA 207 645 2\n"
          ]
        },
        {
          "output_type": "stream",
          "name": "stderr",
          "text": [
            "12:26:19 - cmdstanpy - INFO - Chain [1] done processing\n",
            "INFO:cmdstanpy:Chain [1] done processing\n",
            "INFO:prophet:Disabling yearly seasonality. Run prophet with yearly_seasonality=True to override this.\n",
            "INFO:prophet:Disabling daily seasonality. Run prophet with daily_seasonality=True to override this.\n",
            "DEBUG:cmdstanpy:input tempfile: /tmp/tmpmo9k28to/dr5wz8p4.json\n",
            "DEBUG:cmdstanpy:input tempfile: /tmp/tmpmo9k28to/abbvkq1x.json\n",
            "DEBUG:cmdstanpy:idx 0\n",
            "DEBUG:cmdstanpy:running CmdStan, num_threads: None\n",
            "DEBUG:cmdstanpy:CmdStan args: ['/usr/local/lib/python3.10/dist-packages/prophet/stan_model/prophet_model.bin', 'random', 'seed=54250', 'data', 'file=/tmp/tmpmo9k28to/dr5wz8p4.json', 'init=/tmp/tmpmo9k28to/abbvkq1x.json', 'output', 'file=/tmp/tmpmo9k28to/prophet_model79utatip/prophet_model-20230930122625.csv', 'method=optimize', 'algorithm=lbfgs', 'iter=10000']\n",
            "12:26:25 - cmdstanpy - INFO - Chain [1] start processing\n",
            "INFO:cmdstanpy:Chain [1] start processing\n",
            "12:26:25 - cmdstanpy - INFO - Chain [1] done processing\n",
            "INFO:cmdstanpy:Chain [1] done processing\n"
          ]
        },
        {
          "output_type": "stream",
          "name": "stdout",
          "text": [
            "+++++++++++++++++++++++++++++++++++++++++++++++++++++++++++++++++++++++++++++++++++++++ [('Prophet', 29.0282), ('ARIMA', 11.6733), ('ETS', 4.932), ('XGBoost', 30.6327), ('Greykite', inf)]\n",
            "+++++++++++++++++++++++++++++++++++++++++++++++++++++++++++++++++++++++++++++++++++++++ ETS 208 647 2\n"
          ]
        },
        {
          "output_type": "stream",
          "name": "stderr",
          "text": [
            "INFO:prophet:Disabling yearly seasonality. Run prophet with yearly_seasonality=True to override this.\n",
            "INFO:prophet:Disabling daily seasonality. Run prophet with daily_seasonality=True to override this.\n",
            "DEBUG:cmdstanpy:input tempfile: /tmp/tmpmo9k28to/ygg3o731.json\n",
            "DEBUG:cmdstanpy:input tempfile: /tmp/tmpmo9k28to/zsr_4dp_.json\n",
            "DEBUG:cmdstanpy:idx 0\n",
            "DEBUG:cmdstanpy:running CmdStan, num_threads: None\n",
            "DEBUG:cmdstanpy:CmdStan args: ['/usr/local/lib/python3.10/dist-packages/prophet/stan_model/prophet_model.bin', 'random', 'seed=35312', 'data', 'file=/tmp/tmpmo9k28to/ygg3o731.json', 'init=/tmp/tmpmo9k28to/zsr_4dp_.json', 'output', 'file=/tmp/tmpmo9k28to/prophet_modeln0ul6t2f/prophet_model-20230930122632.csv', 'method=optimize', 'algorithm=lbfgs', 'iter=10000']\n",
            "12:26:32 - cmdstanpy - INFO - Chain [1] start processing\n",
            "INFO:cmdstanpy:Chain [1] start processing\n"
          ]
        },
        {
          "output_type": "stream",
          "name": "stdout",
          "text": [
            "+++++++++++++++++++++++++++++++++++++++++++++++++++++++++++++++++++++++++++++++++++++++ [('Prophet', 115.9613), ('ARIMA', 32.9682), ('ETS', 147.2242), ('XGBoost', 135.0895), ('Greykite', inf)]\n",
            "+++++++++++++++++++++++++++++++++++++++++++++++++++++++++++++++++++++++++++++++++++++++ ARIMA 209 649 2\n"
          ]
        },
        {
          "output_type": "stream",
          "name": "stderr",
          "text": [
            "12:26:33 - cmdstanpy - INFO - Chain [1] done processing\n",
            "INFO:cmdstanpy:Chain [1] done processing\n",
            "INFO:prophet:Disabling yearly seasonality. Run prophet with yearly_seasonality=True to override this.\n",
            "INFO:prophet:Disabling daily seasonality. Run prophet with daily_seasonality=True to override this.\n",
            "DEBUG:cmdstanpy:input tempfile: /tmp/tmpmo9k28to/b4jqajp3.json\n",
            "DEBUG:cmdstanpy:input tempfile: /tmp/tmpmo9k28to/r1n2ib7k.json\n",
            "DEBUG:cmdstanpy:idx 0\n",
            "DEBUG:cmdstanpy:running CmdStan, num_threads: None\n",
            "DEBUG:cmdstanpy:CmdStan args: ['/usr/local/lib/python3.10/dist-packages/prophet/stan_model/prophet_model.bin', 'random', 'seed=98698', 'data', 'file=/tmp/tmpmo9k28to/b4jqajp3.json', 'init=/tmp/tmpmo9k28to/r1n2ib7k.json', 'output', 'file=/tmp/tmpmo9k28to/prophet_modelnwkz8zly/prophet_model-20230930122640.csv', 'method=optimize', 'algorithm=lbfgs', 'iter=10000']\n",
            "12:26:40 - cmdstanpy - INFO - Chain [1] start processing\n",
            "INFO:cmdstanpy:Chain [1] start processing\n"
          ]
        },
        {
          "output_type": "stream",
          "name": "stdout",
          "text": [
            "+++++++++++++++++++++++++++++++++++++++++++++++++++++++++++++++++++++++++++++++++++++++ [('Prophet', 61.5069), ('ARIMA', 89.3667), ('ETS', 51.1199), ('XGBoost', 129.8635), ('Greykite', inf)]\n",
            "+++++++++++++++++++++++++++++++++++++++++++++++++++++++++++++++++++++++++++++++++++++++ ETS 210 651 2\n"
          ]
        },
        {
          "output_type": "stream",
          "name": "stderr",
          "text": [
            "12:26:40 - cmdstanpy - INFO - Chain [1] done processing\n",
            "INFO:cmdstanpy:Chain [1] done processing\n",
            "INFO:prophet:Disabling yearly seasonality. Run prophet with yearly_seasonality=True to override this.\n",
            "INFO:prophet:Disabling daily seasonality. Run prophet with daily_seasonality=True to override this.\n",
            "DEBUG:cmdstanpy:input tempfile: /tmp/tmpmo9k28to/oknesd2s.json\n",
            "DEBUG:cmdstanpy:input tempfile: /tmp/tmpmo9k28to/bv7c0l5f.json\n",
            "DEBUG:cmdstanpy:idx 0\n",
            "DEBUG:cmdstanpy:running CmdStan, num_threads: None\n",
            "DEBUG:cmdstanpy:CmdStan args: ['/usr/local/lib/python3.10/dist-packages/prophet/stan_model/prophet_model.bin', 'random', 'seed=84803', 'data', 'file=/tmp/tmpmo9k28to/oknesd2s.json', 'init=/tmp/tmpmo9k28to/bv7c0l5f.json', 'output', 'file=/tmp/tmpmo9k28to/prophet_modelq6qfdpdb/prophet_model-20230930122646.csv', 'method=optimize', 'algorithm=lbfgs', 'iter=10000']\n",
            "12:26:46 - cmdstanpy - INFO - Chain [1] start processing\n",
            "INFO:cmdstanpy:Chain [1] start processing\n"
          ]
        },
        {
          "output_type": "stream",
          "name": "stdout",
          "text": [
            "+++++++++++++++++++++++++++++++++++++++++++++++++++++++++++++++++++++++++++++++++++++++ [('Prophet', 28.9545), ('ARIMA', 32.6601), ('ETS', 38.3865), ('XGBoost', 8.8388), ('Greykite', inf)]\n",
            "+++++++++++++++++++++++++++++++++++++++++++++++++++++++++++++++++++++++++++++++++++++++ XGBoost 211 653 2\n"
          ]
        },
        {
          "output_type": "stream",
          "name": "stderr",
          "text": [
            "12:26:46 - cmdstanpy - INFO - Chain [1] done processing\n",
            "INFO:cmdstanpy:Chain [1] done processing\n",
            "INFO:prophet:Disabling yearly seasonality. Run prophet with yearly_seasonality=True to override this.\n",
            "INFO:prophet:Disabling daily seasonality. Run prophet with daily_seasonality=True to override this.\n",
            "DEBUG:cmdstanpy:input tempfile: /tmp/tmpmo9k28to/chsa9y1_.json\n",
            "DEBUG:cmdstanpy:input tempfile: /tmp/tmpmo9k28to/ceqsaded.json\n",
            "DEBUG:cmdstanpy:idx 0\n",
            "DEBUG:cmdstanpy:running CmdStan, num_threads: None\n",
            "DEBUG:cmdstanpy:CmdStan args: ['/usr/local/lib/python3.10/dist-packages/prophet/stan_model/prophet_model.bin', 'random', 'seed=51529', 'data', 'file=/tmp/tmpmo9k28to/chsa9y1_.json', 'init=/tmp/tmpmo9k28to/ceqsaded.json', 'output', 'file=/tmp/tmpmo9k28to/prophet_modelaxrbfjv6/prophet_model-20230930122654.csv', 'method=optimize', 'algorithm=lbfgs', 'iter=10000']\n",
            "12:26:54 - cmdstanpy - INFO - Chain [1] start processing\n",
            "INFO:cmdstanpy:Chain [1] start processing\n",
            "12:26:54 - cmdstanpy - INFO - Chain [1] done processing\n",
            "INFO:cmdstanpy:Chain [1] done processing\n"
          ]
        },
        {
          "output_type": "stream",
          "name": "stdout",
          "text": [
            "+++++++++++++++++++++++++++++++++++++++++++++++++++++++++++++++++++++++++++++++++++++++ [('Prophet', 50.8482), ('ARIMA', 10.1611), ('ETS', 40.6966), ('XGBoost', 32.0484), ('Greykite', inf)]\n",
            "+++++++++++++++++++++++++++++++++++++++++++++++++++++++++++++++++++++++++++++++++++++++ ARIMA 212 655 2\n"
          ]
        },
        {
          "output_type": "stream",
          "name": "stderr",
          "text": [
            "INFO:prophet:Disabling yearly seasonality. Run prophet with yearly_seasonality=True to override this.\n",
            "INFO:prophet:Disabling daily seasonality. Run prophet with daily_seasonality=True to override this.\n",
            "DEBUG:cmdstanpy:input tempfile: /tmp/tmpmo9k28to/ezdne4sw.json\n",
            "DEBUG:cmdstanpy:input tempfile: /tmp/tmpmo9k28to/4li2jnbs.json\n",
            "DEBUG:cmdstanpy:idx 0\n",
            "DEBUG:cmdstanpy:running CmdStan, num_threads: None\n",
            "DEBUG:cmdstanpy:CmdStan args: ['/usr/local/lib/python3.10/dist-packages/prophet/stan_model/prophet_model.bin', 'random', 'seed=36286', 'data', 'file=/tmp/tmpmo9k28to/ezdne4sw.json', 'init=/tmp/tmpmo9k28to/4li2jnbs.json', 'output', 'file=/tmp/tmpmo9k28to/prophet_modeldg6q25dc/prophet_model-20230930122700.csv', 'method=optimize', 'algorithm=lbfgs', 'iter=10000']\n",
            "12:27:00 - cmdstanpy - INFO - Chain [1] start processing\n",
            "INFO:cmdstanpy:Chain [1] start processing\n",
            "12:27:00 - cmdstanpy - INFO - Chain [1] done processing\n",
            "INFO:cmdstanpy:Chain [1] done processing\n"
          ]
        },
        {
          "output_type": "stream",
          "name": "stdout",
          "text": [
            "+++++++++++++++++++++++++++++++++++++++++++++++++++++++++++++++++++++++++++++++++++++++ [('Prophet', 72.0596), ('ARIMA', 8.51), ('ETS', 69.9282), ('XGBoost', 176.4816), ('Greykite', inf)]\n",
            "+++++++++++++++++++++++++++++++++++++++++++++++++++++++++++++++++++++++++++++++++++++++ ARIMA 213 657 2\n"
          ]
        },
        {
          "output_type": "stream",
          "name": "stderr",
          "text": [
            "INFO:prophet:Disabling yearly seasonality. Run prophet with yearly_seasonality=True to override this.\n",
            "INFO:prophet:Disabling daily seasonality. Run prophet with daily_seasonality=True to override this.\n",
            "DEBUG:cmdstanpy:input tempfile: /tmp/tmpmo9k28to/_eatwq2j.json\n",
            "DEBUG:cmdstanpy:input tempfile: /tmp/tmpmo9k28to/4xmnr16i.json\n",
            "DEBUG:cmdstanpy:idx 0\n",
            "DEBUG:cmdstanpy:running CmdStan, num_threads: None\n",
            "DEBUG:cmdstanpy:CmdStan args: ['/usr/local/lib/python3.10/dist-packages/prophet/stan_model/prophet_model.bin', 'random', 'seed=44254', 'data', 'file=/tmp/tmpmo9k28to/_eatwq2j.json', 'init=/tmp/tmpmo9k28to/4xmnr16i.json', 'output', 'file=/tmp/tmpmo9k28to/prophet_model62zq92k5/prophet_model-20230930122709.csv', 'method=optimize', 'algorithm=lbfgs', 'iter=10000']\n",
            "12:27:09 - cmdstanpy - INFO - Chain [1] start processing\n",
            "INFO:cmdstanpy:Chain [1] start processing\n",
            "12:27:09 - cmdstanpy - INFO - Chain [1] done processing\n",
            "INFO:cmdstanpy:Chain [1] done processing\n"
          ]
        },
        {
          "output_type": "stream",
          "name": "stdout",
          "text": [
            "+++++++++++++++++++++++++++++++++++++++++++++++++++++++++++++++++++++++++++++++++++++++ [('Prophet', 27.3528), ('ARIMA', 6.4376), ('ETS', 23.8352), ('XGBoost', 26.2722), ('Greykite', inf)]\n",
            "+++++++++++++++++++++++++++++++++++++++++++++++++++++++++++++++++++++++++++++++++++++++ ARIMA 214 659 2\n"
          ]
        },
        {
          "output_type": "stream",
          "name": "stderr",
          "text": [
            "INFO:prophet:Disabling yearly seasonality. Run prophet with yearly_seasonality=True to override this.\n",
            "INFO:prophet:Disabling daily seasonality. Run prophet with daily_seasonality=True to override this.\n",
            "DEBUG:cmdstanpy:input tempfile: /tmp/tmpmo9k28to/20mz39cf.json\n",
            "DEBUG:cmdstanpy:input tempfile: /tmp/tmpmo9k28to/dcir9cha.json\n",
            "DEBUG:cmdstanpy:idx 0\n",
            "DEBUG:cmdstanpy:running CmdStan, num_threads: None\n",
            "DEBUG:cmdstanpy:CmdStan args: ['/usr/local/lib/python3.10/dist-packages/prophet/stan_model/prophet_model.bin', 'random', 'seed=32859', 'data', 'file=/tmp/tmpmo9k28to/20mz39cf.json', 'init=/tmp/tmpmo9k28to/dcir9cha.json', 'output', 'file=/tmp/tmpmo9k28to/prophet_modell6pfs5te/prophet_model-20230930122715.csv', 'method=optimize', 'algorithm=lbfgs', 'iter=10000']\n",
            "12:27:15 - cmdstanpy - INFO - Chain [1] start processing\n",
            "INFO:cmdstanpy:Chain [1] start processing\n",
            "12:27:15 - cmdstanpy - INFO - Chain [1] done processing\n",
            "INFO:cmdstanpy:Chain [1] done processing\n"
          ]
        },
        {
          "output_type": "stream",
          "name": "stdout",
          "text": [
            "+++++++++++++++++++++++++++++++++++++++++++++++++++++++++++++++++++++++++++++++++++++++ [('Prophet', 36.163), ('ARIMA', 88.6753), ('ETS', 58.4918), ('XGBoost', 60.6469), ('Greykite', inf)]\n",
            "+++++++++++++++++++++++++++++++++++++++++++++++++++++++++++++++++++++++++++++++++++++++ Prophet 215 661 2\n"
          ]
        },
        {
          "output_type": "stream",
          "name": "stderr",
          "text": [
            "INFO:prophet:Disabling yearly seasonality. Run prophet with yearly_seasonality=True to override this.\n",
            "INFO:prophet:Disabling daily seasonality. Run prophet with daily_seasonality=True to override this.\n",
            "DEBUG:cmdstanpy:input tempfile: /tmp/tmpmo9k28to/jyqurkng.json\n",
            "DEBUG:cmdstanpy:input tempfile: /tmp/tmpmo9k28to/0enyzs8o.json\n",
            "DEBUG:cmdstanpy:idx 0\n",
            "DEBUG:cmdstanpy:running CmdStan, num_threads: None\n",
            "DEBUG:cmdstanpy:CmdStan args: ['/usr/local/lib/python3.10/dist-packages/prophet/stan_model/prophet_model.bin', 'random', 'seed=46167', 'data', 'file=/tmp/tmpmo9k28to/jyqurkng.json', 'init=/tmp/tmpmo9k28to/0enyzs8o.json', 'output', 'file=/tmp/tmpmo9k28to/prophet_modeleitlr3fx/prophet_model-20230930122727.csv', 'method=optimize', 'algorithm=lbfgs', 'iter=10000']\n",
            "12:27:27 - cmdstanpy - INFO - Chain [1] start processing\n",
            "INFO:cmdstanpy:Chain [1] start processing\n"
          ]
        },
        {
          "output_type": "stream",
          "name": "stdout",
          "text": [
            "+++++++++++++++++++++++++++++++++++++++++++++++++++++++++++++++++++++++++++++++++++++++ [('Prophet', 86.8603), ('ARIMA', 45.9382), ('ETS', 52.3069), ('XGBoost', 132.0441), ('Greykite', inf)]\n",
            "+++++++++++++++++++++++++++++++++++++++++++++++++++++++++++++++++++++++++++++++++++++++ ARIMA 216 663 2\n"
          ]
        },
        {
          "output_type": "stream",
          "name": "stderr",
          "text": [
            "12:27:27 - cmdstanpy - INFO - Chain [1] done processing\n",
            "INFO:cmdstanpy:Chain [1] done processing\n",
            "INFO:prophet:Disabling yearly seasonality. Run prophet with yearly_seasonality=True to override this.\n",
            "INFO:prophet:Disabling daily seasonality. Run prophet with daily_seasonality=True to override this.\n",
            "DEBUG:cmdstanpy:input tempfile: /tmp/tmpmo9k28to/0gh105b3.json\n",
            "DEBUG:cmdstanpy:input tempfile: /tmp/tmpmo9k28to/t87hn8qi.json\n",
            "DEBUG:cmdstanpy:idx 0\n",
            "DEBUG:cmdstanpy:running CmdStan, num_threads: None\n",
            "DEBUG:cmdstanpy:CmdStan args: ['/usr/local/lib/python3.10/dist-packages/prophet/stan_model/prophet_model.bin', 'random', 'seed=47448', 'data', 'file=/tmp/tmpmo9k28to/0gh105b3.json', 'init=/tmp/tmpmo9k28to/t87hn8qi.json', 'output', 'file=/tmp/tmpmo9k28to/prophet_model8vt948ls/prophet_model-20230930122736.csv', 'method=optimize', 'algorithm=lbfgs', 'iter=10000']\n",
            "12:27:36 - cmdstanpy - INFO - Chain [1] start processing\n",
            "INFO:cmdstanpy:Chain [1] start processing\n",
            "12:27:36 - cmdstanpy - INFO - Chain [1] done processing\n",
            "INFO:cmdstanpy:Chain [1] done processing\n"
          ]
        },
        {
          "output_type": "stream",
          "name": "stdout",
          "text": [
            "+++++++++++++++++++++++++++++++++++++++++++++++++++++++++++++++++++++++++++++++++++++++ [('Prophet', 34.4845), ('ARIMA', 26.141), ('ETS', 46.4206), ('XGBoost', 10.0421), ('Greykite', inf)]\n",
            "+++++++++++++++++++++++++++++++++++++++++++++++++++++++++++++++++++++++++++++++++++++++ XGBoost 217 665 2\n"
          ]
        },
        {
          "output_type": "stream",
          "name": "stderr",
          "text": [
            "INFO:prophet:Disabling yearly seasonality. Run prophet with yearly_seasonality=True to override this.\n",
            "INFO:prophet:Disabling daily seasonality. Run prophet with daily_seasonality=True to override this.\n",
            "DEBUG:cmdstanpy:input tempfile: /tmp/tmpmo9k28to/g5jk_cqa.json\n",
            "DEBUG:cmdstanpy:input tempfile: /tmp/tmpmo9k28to/tvuwz6a6.json\n",
            "DEBUG:cmdstanpy:idx 0\n",
            "DEBUG:cmdstanpy:running CmdStan, num_threads: None\n",
            "DEBUG:cmdstanpy:CmdStan args: ['/usr/local/lib/python3.10/dist-packages/prophet/stan_model/prophet_model.bin', 'random', 'seed=63870', 'data', 'file=/tmp/tmpmo9k28to/g5jk_cqa.json', 'init=/tmp/tmpmo9k28to/tvuwz6a6.json', 'output', 'file=/tmp/tmpmo9k28to/prophet_modelf73kntpf/prophet_model-20230930122742.csv', 'method=optimize', 'algorithm=lbfgs', 'iter=10000']\n",
            "12:27:42 - cmdstanpy - INFO - Chain [1] start processing\n",
            "INFO:cmdstanpy:Chain [1] start processing\n",
            "12:27:42 - cmdstanpy - INFO - Chain [1] done processing\n",
            "INFO:cmdstanpy:Chain [1] done processing\n"
          ]
        },
        {
          "output_type": "stream",
          "name": "stdout",
          "text": [
            "+++++++++++++++++++++++++++++++++++++++++++++++++++++++++++++++++++++++++++++++++++++++ [('Prophet', 28.968), ('ARIMA', 10.5495), ('ETS', 22.0705), ('XGBoost', 8.276), ('Greykite', inf)]\n",
            "+++++++++++++++++++++++++++++++++++++++++++++++++++++++++++++++++++++++++++++++++++++++ XGBoost 218 667 2\n"
          ]
        },
        {
          "output_type": "stream",
          "name": "stderr",
          "text": [
            "INFO:prophet:Disabling yearly seasonality. Run prophet with yearly_seasonality=True to override this.\n",
            "INFO:prophet:Disabling daily seasonality. Run prophet with daily_seasonality=True to override this.\n",
            "DEBUG:cmdstanpy:input tempfile: /tmp/tmpmo9k28to/0mwmwhpz.json\n",
            "DEBUG:cmdstanpy:input tempfile: /tmp/tmpmo9k28to/km0qof_a.json\n",
            "DEBUG:cmdstanpy:idx 0\n",
            "DEBUG:cmdstanpy:running CmdStan, num_threads: None\n",
            "DEBUG:cmdstanpy:CmdStan args: ['/usr/local/lib/python3.10/dist-packages/prophet/stan_model/prophet_model.bin', 'random', 'seed=1611', 'data', 'file=/tmp/tmpmo9k28to/0mwmwhpz.json', 'init=/tmp/tmpmo9k28to/km0qof_a.json', 'output', 'file=/tmp/tmpmo9k28to/prophet_modeli791gsnt/prophet_model-20230930122751.csv', 'method=optimize', 'algorithm=lbfgs', 'iter=10000']\n",
            "12:27:51 - cmdstanpy - INFO - Chain [1] start processing\n",
            "INFO:cmdstanpy:Chain [1] start processing\n"
          ]
        },
        {
          "output_type": "stream",
          "name": "stdout",
          "text": [
            "+++++++++++++++++++++++++++++++++++++++++++++++++++++++++++++++++++++++++++++++++++++++ [('Prophet', 36.7148), ('ARIMA', 9.1938), ('ETS', 32.2309), ('XGBoost', 67.8223), ('Greykite', inf)]\n",
            "+++++++++++++++++++++++++++++++++++++++++++++++++++++++++++++++++++++++++++++++++++++++ ARIMA 219 669 2\n"
          ]
        },
        {
          "output_type": "stream",
          "name": "stderr",
          "text": [
            "12:27:51 - cmdstanpy - INFO - Chain [1] done processing\n",
            "INFO:cmdstanpy:Chain [1] done processing\n",
            "INFO:prophet:Disabling yearly seasonality. Run prophet with yearly_seasonality=True to override this.\n",
            "INFO:prophet:Disabling daily seasonality. Run prophet with daily_seasonality=True to override this.\n",
            "DEBUG:cmdstanpy:input tempfile: /tmp/tmpmo9k28to/7hq4iwpr.json\n",
            "DEBUG:cmdstanpy:input tempfile: /tmp/tmpmo9k28to/igr9jzb5.json\n",
            "DEBUG:cmdstanpy:idx 0\n",
            "DEBUG:cmdstanpy:running CmdStan, num_threads: None\n",
            "DEBUG:cmdstanpy:CmdStan args: ['/usr/local/lib/python3.10/dist-packages/prophet/stan_model/prophet_model.bin', 'random', 'seed=55150', 'data', 'file=/tmp/tmpmo9k28to/7hq4iwpr.json', 'init=/tmp/tmpmo9k28to/igr9jzb5.json', 'output', 'file=/tmp/tmpmo9k28to/prophet_modelayhi5iz0/prophet_model-20230930122757.csv', 'method=optimize', 'algorithm=lbfgs', 'iter=10000']\n",
            "12:27:57 - cmdstanpy - INFO - Chain [1] start processing\n",
            "INFO:cmdstanpy:Chain [1] start processing\n",
            "12:27:58 - cmdstanpy - INFO - Chain [1] done processing\n",
            "INFO:cmdstanpy:Chain [1] done processing\n"
          ]
        },
        {
          "output_type": "stream",
          "name": "stdout",
          "text": [
            "+++++++++++++++++++++++++++++++++++++++++++++++++++++++++++++++++++++++++++++++++++++++ [('Prophet', 77.784), ('ARIMA', 29.0192), ('ETS', 86.2757), ('XGBoost', 86.779), ('Greykite', inf)]\n",
            "+++++++++++++++++++++++++++++++++++++++++++++++++++++++++++++++++++++++++++++++++++++++ ARIMA 220 671 2\n"
          ]
        },
        {
          "output_type": "stream",
          "name": "stderr",
          "text": [
            "INFO:prophet:Disabling yearly seasonality. Run prophet with yearly_seasonality=True to override this.\n",
            "INFO:prophet:Disabling daily seasonality. Run prophet with daily_seasonality=True to override this.\n",
            "DEBUG:cmdstanpy:input tempfile: /tmp/tmpmo9k28to/4m0w90x1.json\n",
            "DEBUG:cmdstanpy:input tempfile: /tmp/tmpmo9k28to/n0qgg8fw.json\n",
            "DEBUG:cmdstanpy:idx 0\n",
            "DEBUG:cmdstanpy:running CmdStan, num_threads: None\n",
            "DEBUG:cmdstanpy:CmdStan args: ['/usr/local/lib/python3.10/dist-packages/prophet/stan_model/prophet_model.bin', 'random', 'seed=96747', 'data', 'file=/tmp/tmpmo9k28to/4m0w90x1.json', 'init=/tmp/tmpmo9k28to/n0qgg8fw.json', 'output', 'file=/tmp/tmpmo9k28to/prophet_model8ss04ogf/prophet_model-20230930122806.csv', 'method=optimize', 'algorithm=lbfgs', 'iter=10000']\n",
            "12:28:06 - cmdstanpy - INFO - Chain [1] start processing\n",
            "INFO:cmdstanpy:Chain [1] start processing\n"
          ]
        },
        {
          "output_type": "stream",
          "name": "stdout",
          "text": [
            "+++++++++++++++++++++++++++++++++++++++++++++++++++++++++++++++++++++++++++++++++++++++ [('Prophet', 32.9605), ('ARIMA', 9.2818), ('ETS', 33.8551), ('XGBoost', 7.2262), ('Greykite', inf)]\n",
            "+++++++++++++++++++++++++++++++++++++++++++++++++++++++++++++++++++++++++++++++++++++++ XGBoost 221 673 2\n"
          ]
        },
        {
          "output_type": "stream",
          "name": "stderr",
          "text": [
            "12:28:06 - cmdstanpy - INFO - Chain [1] done processing\n",
            "INFO:cmdstanpy:Chain [1] done processing\n",
            "INFO:prophet:Disabling yearly seasonality. Run prophet with yearly_seasonality=True to override this.\n",
            "INFO:prophet:Disabling daily seasonality. Run prophet with daily_seasonality=True to override this.\n",
            "DEBUG:cmdstanpy:input tempfile: /tmp/tmpmo9k28to/lin3ozcv.json\n",
            "DEBUG:cmdstanpy:input tempfile: /tmp/tmpmo9k28to/x8ihn5w3.json\n",
            "DEBUG:cmdstanpy:idx 0\n",
            "DEBUG:cmdstanpy:running CmdStan, num_threads: None\n",
            "DEBUG:cmdstanpy:CmdStan args: ['/usr/local/lib/python3.10/dist-packages/prophet/stan_model/prophet_model.bin', 'random', 'seed=78584', 'data', 'file=/tmp/tmpmo9k28to/lin3ozcv.json', 'init=/tmp/tmpmo9k28to/x8ihn5w3.json', 'output', 'file=/tmp/tmpmo9k28to/prophet_model77r8say8/prophet_model-20230930122813.csv', 'method=optimize', 'algorithm=lbfgs', 'iter=10000']\n",
            "12:28:13 - cmdstanpy - INFO - Chain [1] start processing\n",
            "INFO:cmdstanpy:Chain [1] start processing\n",
            "12:28:13 - cmdstanpy - INFO - Chain [1] done processing\n",
            "INFO:cmdstanpy:Chain [1] done processing\n"
          ]
        },
        {
          "output_type": "stream",
          "name": "stdout",
          "text": [
            "+++++++++++++++++++++++++++++++++++++++++++++++++++++++++++++++++++++++++++++++++++++++ [('Prophet', 18.2621), ('ARIMA', 15.5412), ('ETS', 1.5689), ('XGBoost', 27.415), ('Greykite', inf)]\n",
            "+++++++++++++++++++++++++++++++++++++++++++++++++++++++++++++++++++++++++++++++++++++++ ETS 222 675 2\n"
          ]
        },
        {
          "output_type": "stream",
          "name": "stderr",
          "text": [
            "INFO:prophet:Disabling yearly seasonality. Run prophet with yearly_seasonality=True to override this.\n",
            "INFO:prophet:Disabling daily seasonality. Run prophet with daily_seasonality=True to override this.\n",
            "DEBUG:cmdstanpy:input tempfile: /tmp/tmpmo9k28to/8194c4sm.json\n",
            "DEBUG:cmdstanpy:input tempfile: /tmp/tmpmo9k28to/dphmonq4.json\n",
            "DEBUG:cmdstanpy:idx 0\n",
            "DEBUG:cmdstanpy:running CmdStan, num_threads: None\n",
            "DEBUG:cmdstanpy:CmdStan args: ['/usr/local/lib/python3.10/dist-packages/prophet/stan_model/prophet_model.bin', 'random', 'seed=91126', 'data', 'file=/tmp/tmpmo9k28to/8194c4sm.json', 'init=/tmp/tmpmo9k28to/dphmonq4.json', 'output', 'file=/tmp/tmpmo9k28to/prophet_modeln7uh4fhu/prophet_model-20230930122822.csv', 'method=optimize', 'algorithm=lbfgs', 'iter=10000']\n",
            "12:28:22 - cmdstanpy - INFO - Chain [1] start processing\n",
            "INFO:cmdstanpy:Chain [1] start processing\n"
          ]
        },
        {
          "output_type": "stream",
          "name": "stdout",
          "text": [
            "+++++++++++++++++++++++++++++++++++++++++++++++++++++++++++++++++++++++++++++++++++++++ [('Prophet', 104.5974), ('ARIMA', 36.1399), ('ETS', 132.6443), ('XGBoost', 104.9498), ('Greykite', inf)]\n",
            "+++++++++++++++++++++++++++++++++++++++++++++++++++++++++++++++++++++++++++++++++++++++ ARIMA 223 677 2\n"
          ]
        },
        {
          "output_type": "stream",
          "name": "stderr",
          "text": [
            "12:28:22 - cmdstanpy - INFO - Chain [1] done processing\n",
            "INFO:cmdstanpy:Chain [1] done processing\n",
            "INFO:prophet:Disabling yearly seasonality. Run prophet with yearly_seasonality=True to override this.\n",
            "INFO:prophet:Disabling daily seasonality. Run prophet with daily_seasonality=True to override this.\n",
            "DEBUG:cmdstanpy:input tempfile: /tmp/tmpmo9k28to/oxq_ss7l.json\n",
            "DEBUG:cmdstanpy:input tempfile: /tmp/tmpmo9k28to/ylocyg1h.json\n",
            "DEBUG:cmdstanpy:idx 0\n",
            "DEBUG:cmdstanpy:running CmdStan, num_threads: None\n",
            "DEBUG:cmdstanpy:CmdStan args: ['/usr/local/lib/python3.10/dist-packages/prophet/stan_model/prophet_model.bin', 'random', 'seed=43625', 'data', 'file=/tmp/tmpmo9k28to/oxq_ss7l.json', 'init=/tmp/tmpmo9k28to/ylocyg1h.json', 'output', 'file=/tmp/tmpmo9k28to/prophet_modellodu63ud/prophet_model-20230930122828.csv', 'method=optimize', 'algorithm=lbfgs', 'iter=10000']\n",
            "12:28:28 - cmdstanpy - INFO - Chain [1] start processing\n",
            "INFO:cmdstanpy:Chain [1] start processing\n",
            "12:28:28 - cmdstanpy - INFO - Chain [1] done processing\n",
            "INFO:cmdstanpy:Chain [1] done processing\n"
          ]
        },
        {
          "output_type": "stream",
          "name": "stdout",
          "text": [
            "+++++++++++++++++++++++++++++++++++++++++++++++++++++++++++++++++++++++++++++++++++++++ [('Prophet', 16.8235), ('ARIMA', 2.8788), ('ETS', 20.0524), ('XGBoost', 16.9805), ('Greykite', inf)]\n",
            "+++++++++++++++++++++++++++++++++++++++++++++++++++++++++++++++++++++++++++++++++++++++ ARIMA 224 679 2\n"
          ]
        },
        {
          "output_type": "stream",
          "name": "stderr",
          "text": [
            "INFO:prophet:Disabling yearly seasonality. Run prophet with yearly_seasonality=True to override this.\n",
            "INFO:prophet:Disabling daily seasonality. Run prophet with daily_seasonality=True to override this.\n",
            "DEBUG:cmdstanpy:input tempfile: /tmp/tmpmo9k28to/bbsb7pdc.json\n",
            "DEBUG:cmdstanpy:input tempfile: /tmp/tmpmo9k28to/hprois3j.json\n",
            "DEBUG:cmdstanpy:idx 0\n",
            "DEBUG:cmdstanpy:running CmdStan, num_threads: None\n",
            "DEBUG:cmdstanpy:CmdStan args: ['/usr/local/lib/python3.10/dist-packages/prophet/stan_model/prophet_model.bin', 'random', 'seed=2985', 'data', 'file=/tmp/tmpmo9k28to/bbsb7pdc.json', 'init=/tmp/tmpmo9k28to/hprois3j.json', 'output', 'file=/tmp/tmpmo9k28to/prophet_modelwuvw6rbg/prophet_model-20230930122836.csv', 'method=optimize', 'algorithm=lbfgs', 'iter=10000']\n",
            "12:28:36 - cmdstanpy - INFO - Chain [1] start processing\n",
            "INFO:cmdstanpy:Chain [1] start processing\n"
          ]
        },
        {
          "output_type": "stream",
          "name": "stdout",
          "text": [
            "+++++++++++++++++++++++++++++++++++++++++++++++++++++++++++++++++++++++++++++++++++++++ [('Prophet', 20.7323), ('ARIMA', 14.709), ('ETS', 18.7848), ('XGBoost', 8.0552), ('Greykite', inf)]\n",
            "+++++++++++++++++++++++++++++++++++++++++++++++++++++++++++++++++++++++++++++++++++++++ XGBoost 225 681 2\n"
          ]
        },
        {
          "output_type": "stream",
          "name": "stderr",
          "text": [
            "12:28:36 - cmdstanpy - INFO - Chain [1] done processing\n",
            "INFO:cmdstanpy:Chain [1] done processing\n",
            "INFO:prophet:Disabling yearly seasonality. Run prophet with yearly_seasonality=True to override this.\n",
            "INFO:prophet:Disabling daily seasonality. Run prophet with daily_seasonality=True to override this.\n",
            "DEBUG:cmdstanpy:input tempfile: /tmp/tmpmo9k28to/9066s3d9.json\n",
            "DEBUG:cmdstanpy:input tempfile: /tmp/tmpmo9k28to/_ihoeq6e.json\n",
            "DEBUG:cmdstanpy:idx 0\n",
            "DEBUG:cmdstanpy:running CmdStan, num_threads: None\n",
            "DEBUG:cmdstanpy:CmdStan args: ['/usr/local/lib/python3.10/dist-packages/prophet/stan_model/prophet_model.bin', 'random', 'seed=68401', 'data', 'file=/tmp/tmpmo9k28to/9066s3d9.json', 'init=/tmp/tmpmo9k28to/_ihoeq6e.json', 'output', 'file=/tmp/tmpmo9k28to/prophet_modelabiru_m5/prophet_model-20230930122843.csv', 'method=optimize', 'algorithm=lbfgs', 'iter=10000']\n",
            "12:28:43 - cmdstanpy - INFO - Chain [1] start processing\n",
            "INFO:cmdstanpy:Chain [1] start processing\n",
            "12:28:43 - cmdstanpy - INFO - Chain [1] done processing\n",
            "INFO:cmdstanpy:Chain [1] done processing\n"
          ]
        },
        {
          "output_type": "stream",
          "name": "stdout",
          "text": [
            "+++++++++++++++++++++++++++++++++++++++++++++++++++++++++++++++++++++++++++++++++++++++ [('Prophet', 50.8986), ('ARIMA', 14.8275), ('ETS', 47.9559), ('XGBoost', 37.064), ('Greykite', inf)]\n",
            "+++++++++++++++++++++++++++++++++++++++++++++++++++++++++++++++++++++++++++++++++++++++ ARIMA 226 683 2\n"
          ]
        },
        {
          "output_type": "stream",
          "name": "stderr",
          "text": [
            "INFO:prophet:Disabling yearly seasonality. Run prophet with yearly_seasonality=True to override this.\n",
            "INFO:prophet:Disabling daily seasonality. Run prophet with daily_seasonality=True to override this.\n",
            "DEBUG:cmdstanpy:input tempfile: /tmp/tmpmo9k28to/_yciciul.json\n",
            "DEBUG:cmdstanpy:input tempfile: /tmp/tmpmo9k28to/goucvbhh.json\n",
            "DEBUG:cmdstanpy:idx 0\n",
            "DEBUG:cmdstanpy:running CmdStan, num_threads: None\n",
            "DEBUG:cmdstanpy:CmdStan args: ['/usr/local/lib/python3.10/dist-packages/prophet/stan_model/prophet_model.bin', 'random', 'seed=71589', 'data', 'file=/tmp/tmpmo9k28to/_yciciul.json', 'init=/tmp/tmpmo9k28to/goucvbhh.json', 'output', 'file=/tmp/tmpmo9k28to/prophet_modeljcgkoby5/prophet_model-20230930122851.csv', 'method=optimize', 'algorithm=lbfgs', 'iter=10000']\n",
            "12:28:51 - cmdstanpy - INFO - Chain [1] start processing\n",
            "INFO:cmdstanpy:Chain [1] start processing\n"
          ]
        },
        {
          "output_type": "stream",
          "name": "stdout",
          "text": [
            "+++++++++++++++++++++++++++++++++++++++++++++++++++++++++++++++++++++++++++++++++++++++ [('Prophet', 52.7043), ('ARIMA', 5.9224), ('ETS', 51.1061), ('XGBoost', 81.848), ('Greykite', inf)]\n",
            "+++++++++++++++++++++++++++++++++++++++++++++++++++++++++++++++++++++++++++++++++++++++ ARIMA 227 685 2\n"
          ]
        },
        {
          "output_type": "stream",
          "name": "stderr",
          "text": [
            "12:28:51 - cmdstanpy - INFO - Chain [1] done processing\n",
            "INFO:cmdstanpy:Chain [1] done processing\n",
            "INFO:prophet:Disabling yearly seasonality. Run prophet with yearly_seasonality=True to override this.\n",
            "INFO:prophet:Disabling daily seasonality. Run prophet with daily_seasonality=True to override this.\n",
            "DEBUG:cmdstanpy:input tempfile: /tmp/tmpmo9k28to/3odcy03s.json\n",
            "DEBUG:cmdstanpy:input tempfile: /tmp/tmpmo9k28to/f_p_rl1j.json\n",
            "DEBUG:cmdstanpy:idx 0\n",
            "DEBUG:cmdstanpy:running CmdStan, num_threads: None\n",
            "DEBUG:cmdstanpy:CmdStan args: ['/usr/local/lib/python3.10/dist-packages/prophet/stan_model/prophet_model.bin', 'random', 'seed=97585', 'data', 'file=/tmp/tmpmo9k28to/3odcy03s.json', 'init=/tmp/tmpmo9k28to/f_p_rl1j.json', 'output', 'file=/tmp/tmpmo9k28to/prophet_modellvvcn_i_/prophet_model-20230930122859.csv', 'method=optimize', 'algorithm=lbfgs', 'iter=10000']\n",
            "12:28:59 - cmdstanpy - INFO - Chain [1] start processing\n",
            "INFO:cmdstanpy:Chain [1] start processing\n",
            "12:28:59 - cmdstanpy - INFO - Chain [1] done processing\n",
            "INFO:cmdstanpy:Chain [1] done processing\n"
          ]
        },
        {
          "output_type": "stream",
          "name": "stdout",
          "text": [
            "+++++++++++++++++++++++++++++++++++++++++++++++++++++++++++++++++++++++++++++++++++++++ [('Prophet', 26.2124), ('ARIMA', 7.0111), ('ETS', 34.9097), ('XGBoost', 23.3655), ('Greykite', inf)]\n",
            "+++++++++++++++++++++++++++++++++++++++++++++++++++++++++++++++++++++++++++++++++++++++ ARIMA 228 687 2\n"
          ]
        },
        {
          "output_type": "stream",
          "name": "stderr",
          "text": [
            "INFO:prophet:Disabling yearly seasonality. Run prophet with yearly_seasonality=True to override this.\n",
            "INFO:prophet:Disabling daily seasonality. Run prophet with daily_seasonality=True to override this.\n",
            "DEBUG:cmdstanpy:input tempfile: /tmp/tmpmo9k28to/cjg2m41b.json\n",
            "DEBUG:cmdstanpy:input tempfile: /tmp/tmpmo9k28to/0n1iabxf.json\n",
            "DEBUG:cmdstanpy:idx 0\n",
            "DEBUG:cmdstanpy:running CmdStan, num_threads: None\n",
            "DEBUG:cmdstanpy:CmdStan args: ['/usr/local/lib/python3.10/dist-packages/prophet/stan_model/prophet_model.bin', 'random', 'seed=1248', 'data', 'file=/tmp/tmpmo9k28to/cjg2m41b.json', 'init=/tmp/tmpmo9k28to/0n1iabxf.json', 'output', 'file=/tmp/tmpmo9k28to/prophet_modellpw73d2o/prophet_model-20230930122908.csv', 'method=optimize', 'algorithm=lbfgs', 'iter=10000']\n",
            "12:29:08 - cmdstanpy - INFO - Chain [1] start processing\n",
            "INFO:cmdstanpy:Chain [1] start processing\n",
            "12:29:08 - cmdstanpy - INFO - Chain [1] done processing\n",
            "INFO:cmdstanpy:Chain [1] done processing\n"
          ]
        },
        {
          "output_type": "stream",
          "name": "stdout",
          "text": [
            "+++++++++++++++++++++++++++++++++++++++++++++++++++++++++++++++++++++++++++++++++++++++ [('Prophet', 13.1888), ('ARIMA', 13.3058), ('ETS', 8.3589), ('XGBoost', 20.7392), ('Greykite', inf)]\n",
            "+++++++++++++++++++++++++++++++++++++++++++++++++++++++++++++++++++++++++++++++++++++++ ETS 229 689 2\n"
          ]
        },
        {
          "output_type": "stream",
          "name": "stderr",
          "text": [
            "INFO:prophet:Disabling yearly seasonality. Run prophet with yearly_seasonality=True to override this.\n",
            "INFO:prophet:Disabling daily seasonality. Run prophet with daily_seasonality=True to override this.\n",
            "DEBUG:cmdstanpy:input tempfile: /tmp/tmpmo9k28to/93gl2thz.json\n",
            "DEBUG:cmdstanpy:input tempfile: /tmp/tmpmo9k28to/3rjps4k9.json\n",
            "DEBUG:cmdstanpy:idx 0\n",
            "DEBUG:cmdstanpy:running CmdStan, num_threads: None\n",
            "DEBUG:cmdstanpy:CmdStan args: ['/usr/local/lib/python3.10/dist-packages/prophet/stan_model/prophet_model.bin', 'random', 'seed=83813', 'data', 'file=/tmp/tmpmo9k28to/93gl2thz.json', 'init=/tmp/tmpmo9k28to/3rjps4k9.json', 'output', 'file=/tmp/tmpmo9k28to/prophet_model55i6af2m/prophet_model-20230930122915.csv', 'method=optimize', 'algorithm=lbfgs', 'iter=10000']\n",
            "12:29:15 - cmdstanpy - INFO - Chain [1] start processing\n",
            "INFO:cmdstanpy:Chain [1] start processing\n",
            "12:29:15 - cmdstanpy - INFO - Chain [1] done processing\n",
            "INFO:cmdstanpy:Chain [1] done processing\n"
          ]
        },
        {
          "output_type": "stream",
          "name": "stdout",
          "text": [
            "+++++++++++++++++++++++++++++++++++++++++++++++++++++++++++++++++++++++++++++++++++++++ [('Prophet', 122.3329), ('ARIMA', 26.8565), ('ETS', 138.1276), ('XGBoost', 149.0414), ('Greykite', inf)]\n",
            "+++++++++++++++++++++++++++++++++++++++++++++++++++++++++++++++++++++++++++++++++++++++ ARIMA 230 691 2\n"
          ]
        },
        {
          "output_type": "stream",
          "name": "stderr",
          "text": [
            "INFO:prophet:Disabling yearly seasonality. Run prophet with yearly_seasonality=True to override this.\n",
            "INFO:prophet:Disabling daily seasonality. Run prophet with daily_seasonality=True to override this.\n",
            "DEBUG:cmdstanpy:input tempfile: /tmp/tmpmo9k28to/g6cuxsks.json\n",
            "DEBUG:cmdstanpy:input tempfile: /tmp/tmpmo9k28to/10w8gz5y.json\n",
            "DEBUG:cmdstanpy:idx 0\n",
            "DEBUG:cmdstanpy:running CmdStan, num_threads: None\n",
            "DEBUG:cmdstanpy:CmdStan args: ['/usr/local/lib/python3.10/dist-packages/prophet/stan_model/prophet_model.bin', 'random', 'seed=11751', 'data', 'file=/tmp/tmpmo9k28to/g6cuxsks.json', 'init=/tmp/tmpmo9k28to/10w8gz5y.json', 'output', 'file=/tmp/tmpmo9k28to/prophet_modelscsrydss/prophet_model-20230930122924.csv', 'method=optimize', 'algorithm=lbfgs', 'iter=10000']\n",
            "12:29:24 - cmdstanpy - INFO - Chain [1] start processing\n",
            "INFO:cmdstanpy:Chain [1] start processing\n",
            "12:29:24 - cmdstanpy - INFO - Chain [1] done processing\n",
            "INFO:cmdstanpy:Chain [1] done processing\n"
          ]
        },
        {
          "output_type": "stream",
          "name": "stdout",
          "text": [
            "+++++++++++++++++++++++++++++++++++++++++++++++++++++++++++++++++++++++++++++++++++++++ [('Prophet', 33.4923), ('ARIMA', 39.9198), ('ETS', 31.5336), ('XGBoost', 97.6312), ('Greykite', inf)]\n",
            "+++++++++++++++++++++++++++++++++++++++++++++++++++++++++++++++++++++++++++++++++++++++ ETS 231 693 2\n"
          ]
        },
        {
          "output_type": "stream",
          "name": "stderr",
          "text": [
            "INFO:prophet:Disabling yearly seasonality. Run prophet with yearly_seasonality=True to override this.\n",
            "INFO:prophet:Disabling daily seasonality. Run prophet with daily_seasonality=True to override this.\n",
            "DEBUG:cmdstanpy:input tempfile: /tmp/tmpmo9k28to/lgymj81s.json\n",
            "DEBUG:cmdstanpy:input tempfile: /tmp/tmpmo9k28to/og8a9a3u.json\n",
            "DEBUG:cmdstanpy:idx 0\n",
            "DEBUG:cmdstanpy:running CmdStan, num_threads: None\n",
            "DEBUG:cmdstanpy:CmdStan args: ['/usr/local/lib/python3.10/dist-packages/prophet/stan_model/prophet_model.bin', 'random', 'seed=79471', 'data', 'file=/tmp/tmpmo9k28to/lgymj81s.json', 'init=/tmp/tmpmo9k28to/og8a9a3u.json', 'output', 'file=/tmp/tmpmo9k28to/prophet_modelzbwxzme0/prophet_model-20230930122930.csv', 'method=optimize', 'algorithm=lbfgs', 'iter=10000']\n",
            "12:29:30 - cmdstanpy - INFO - Chain [1] start processing\n",
            "INFO:cmdstanpy:Chain [1] start processing\n"
          ]
        },
        {
          "output_type": "stream",
          "name": "stdout",
          "text": [
            "+++++++++++++++++++++++++++++++++++++++++++++++++++++++++++++++++++++++++++++++++++++++ [('Prophet', 27.1713), ('ARIMA', 22.786), ('ETS', 34.149), ('XGBoost', 7.2964), ('Greykite', inf)]\n",
            "+++++++++++++++++++++++++++++++++++++++++++++++++++++++++++++++++++++++++++++++++++++++ XGBoost 232 695 2\n"
          ]
        },
        {
          "output_type": "stream",
          "name": "stderr",
          "text": [
            "12:29:31 - cmdstanpy - INFO - Chain [1] done processing\n",
            "INFO:cmdstanpy:Chain [1] done processing\n",
            "INFO:prophet:Disabling yearly seasonality. Run prophet with yearly_seasonality=True to override this.\n",
            "INFO:prophet:Disabling daily seasonality. Run prophet with daily_seasonality=True to override this.\n",
            "DEBUG:cmdstanpy:input tempfile: /tmp/tmpmo9k28to/di5v2s3w.json\n",
            "DEBUG:cmdstanpy:input tempfile: /tmp/tmpmo9k28to/lbr77cld.json\n",
            "DEBUG:cmdstanpy:idx 0\n",
            "DEBUG:cmdstanpy:running CmdStan, num_threads: None\n",
            "DEBUG:cmdstanpy:CmdStan args: ['/usr/local/lib/python3.10/dist-packages/prophet/stan_model/prophet_model.bin', 'random', 'seed=3256', 'data', 'file=/tmp/tmpmo9k28to/di5v2s3w.json', 'init=/tmp/tmpmo9k28to/lbr77cld.json', 'output', 'file=/tmp/tmpmo9k28to/prophet_modelzkhtxg9_/prophet_model-20230930122940.csv', 'method=optimize', 'algorithm=lbfgs', 'iter=10000']\n",
            "12:29:40 - cmdstanpy - INFO - Chain [1] start processing\n",
            "INFO:cmdstanpy:Chain [1] start processing\n",
            "12:29:40 - cmdstanpy - INFO - Chain [1] done processing\n",
            "INFO:cmdstanpy:Chain [1] done processing\n"
          ]
        },
        {
          "output_type": "stream",
          "name": "stdout",
          "text": [
            "+++++++++++++++++++++++++++++++++++++++++++++++++++++++++++++++++++++++++++++++++++++++ [('Prophet', 44.275), ('ARIMA', 7.9369), ('ETS', 33.1593), ('XGBoost', 66.6611), ('Greykite', inf)]\n",
            "+++++++++++++++++++++++++++++++++++++++++++++++++++++++++++++++++++++++++++++++++++++++ ARIMA 233 697 2\n"
          ]
        },
        {
          "output_type": "stream",
          "name": "stderr",
          "text": [
            "INFO:prophet:Disabling yearly seasonality. Run prophet with yearly_seasonality=True to override this.\n",
            "INFO:prophet:Disabling daily seasonality. Run prophet with daily_seasonality=True to override this.\n",
            "DEBUG:cmdstanpy:input tempfile: /tmp/tmpmo9k28to/eoc0wbav.json\n",
            "DEBUG:cmdstanpy:input tempfile: /tmp/tmpmo9k28to/dxqhg4p6.json\n",
            "DEBUG:cmdstanpy:idx 0\n",
            "DEBUG:cmdstanpy:running CmdStan, num_threads: None\n",
            "DEBUG:cmdstanpy:CmdStan args: ['/usr/local/lib/python3.10/dist-packages/prophet/stan_model/prophet_model.bin', 'random', 'seed=41406', 'data', 'file=/tmp/tmpmo9k28to/eoc0wbav.json', 'init=/tmp/tmpmo9k28to/dxqhg4p6.json', 'output', 'file=/tmp/tmpmo9k28to/prophet_modelyq4ma7p9/prophet_model-20230930122947.csv', 'method=optimize', 'algorithm=lbfgs', 'iter=10000']\n",
            "12:29:47 - cmdstanpy - INFO - Chain [1] start processing\n",
            "INFO:cmdstanpy:Chain [1] start processing\n",
            "12:29:47 - cmdstanpy - INFO - Chain [1] done processing\n",
            "INFO:cmdstanpy:Chain [1] done processing\n"
          ]
        },
        {
          "output_type": "stream",
          "name": "stdout",
          "text": [
            "+++++++++++++++++++++++++++++++++++++++++++++++++++++++++++++++++++++++++++++++++++++++ [('Prophet', 89.6814), ('ARIMA', 23.79), ('ETS', 75.7087), ('XGBoost', 71.1344), ('Greykite', inf)]\n",
            "+++++++++++++++++++++++++++++++++++++++++++++++++++++++++++++++++++++++++++++++++++++++ ARIMA 234 699 2\n"
          ]
        },
        {
          "output_type": "stream",
          "name": "stderr",
          "text": [
            "INFO:prophet:Disabling yearly seasonality. Run prophet with yearly_seasonality=True to override this.\n",
            "INFO:prophet:Disabling daily seasonality. Run prophet with daily_seasonality=True to override this.\n",
            "DEBUG:cmdstanpy:input tempfile: /tmp/tmpmo9k28to/e14adliv.json\n",
            "DEBUG:cmdstanpy:input tempfile: /tmp/tmpmo9k28to/i2n9k9mu.json\n",
            "DEBUG:cmdstanpy:idx 0\n",
            "DEBUG:cmdstanpy:running CmdStan, num_threads: None\n",
            "DEBUG:cmdstanpy:CmdStan args: ['/usr/local/lib/python3.10/dist-packages/prophet/stan_model/prophet_model.bin', 'random', 'seed=30594', 'data', 'file=/tmp/tmpmo9k28to/e14adliv.json', 'init=/tmp/tmpmo9k28to/i2n9k9mu.json', 'output', 'file=/tmp/tmpmo9k28to/prophet_modelvcif9c3q/prophet_model-20230930122957.csv', 'method=optimize', 'algorithm=lbfgs', 'iter=10000']\n",
            "12:29:57 - cmdstanpy - INFO - Chain [1] start processing\n",
            "INFO:cmdstanpy:Chain [1] start processing\n"
          ]
        },
        {
          "output_type": "stream",
          "name": "stdout",
          "text": [
            "+++++++++++++++++++++++++++++++++++++++++++++++++++++++++++++++++++++++++++++++++++++++ [('Prophet', 27.6412), ('ARIMA', 21.5921), ('ETS', 43.5811), ('XGBoost', 31.6794), ('Greykite', inf)]\n",
            "+++++++++++++++++++++++++++++++++++++++++++++++++++++++++++++++++++++++++++++++++++++++ ARIMA 235 701 2\n"
          ]
        },
        {
          "output_type": "stream",
          "name": "stderr",
          "text": [
            "12:29:58 - cmdstanpy - INFO - Chain [1] done processing\n",
            "INFO:cmdstanpy:Chain [1] done processing\n",
            "INFO:prophet:Disabling yearly seasonality. Run prophet with yearly_seasonality=True to override this.\n",
            "INFO:prophet:Disabling daily seasonality. Run prophet with daily_seasonality=True to override this.\n",
            "DEBUG:cmdstanpy:input tempfile: /tmp/tmpmo9k28to/3jo097ol.json\n",
            "DEBUG:cmdstanpy:input tempfile: /tmp/tmpmo9k28to/3n19hdiy.json\n",
            "DEBUG:cmdstanpy:idx 0\n",
            "DEBUG:cmdstanpy:running CmdStan, num_threads: None\n",
            "DEBUG:cmdstanpy:CmdStan args: ['/usr/local/lib/python3.10/dist-packages/prophet/stan_model/prophet_model.bin', 'random', 'seed=33471', 'data', 'file=/tmp/tmpmo9k28to/3jo097ol.json', 'init=/tmp/tmpmo9k28to/3n19hdiy.json', 'output', 'file=/tmp/tmpmo9k28to/prophet_modelpwd9td67/prophet_model-20230930123005.csv', 'method=optimize', 'algorithm=lbfgs', 'iter=10000']\n",
            "12:30:05 - cmdstanpy - INFO - Chain [1] start processing\n",
            "INFO:cmdstanpy:Chain [1] start processing\n"
          ]
        },
        {
          "output_type": "stream",
          "name": "stdout",
          "text": [
            "+++++++++++++++++++++++++++++++++++++++++++++++++++++++++++++++++++++++++++++++++++++++ [('Prophet', 35.1106), ('ARIMA', 17.6359), ('ETS', 27.6023), ('XGBoost', 32.3042), ('Greykite', inf)]\n",
            "+++++++++++++++++++++++++++++++++++++++++++++++++++++++++++++++++++++++++++++++++++++++ ARIMA 236 703 2\n"
          ]
        },
        {
          "output_type": "stream",
          "name": "stderr",
          "text": [
            "12:30:05 - cmdstanpy - INFO - Chain [1] done processing\n",
            "INFO:cmdstanpy:Chain [1] done processing\n",
            "INFO:prophet:Disabling yearly seasonality. Run prophet with yearly_seasonality=True to override this.\n",
            "INFO:prophet:Disabling daily seasonality. Run prophet with daily_seasonality=True to override this.\n",
            "DEBUG:cmdstanpy:input tempfile: /tmp/tmpmo9k28to/oqfzl6on.json\n",
            "DEBUG:cmdstanpy:input tempfile: /tmp/tmpmo9k28to/ix1mz10o.json\n",
            "DEBUG:cmdstanpy:idx 0\n",
            "DEBUG:cmdstanpy:running CmdStan, num_threads: None\n",
            "DEBUG:cmdstanpy:CmdStan args: ['/usr/local/lib/python3.10/dist-packages/prophet/stan_model/prophet_model.bin', 'random', 'seed=63899', 'data', 'file=/tmp/tmpmo9k28to/oqfzl6on.json', 'init=/tmp/tmpmo9k28to/ix1mz10o.json', 'output', 'file=/tmp/tmpmo9k28to/prophet_model4ekj9vjn/prophet_model-20230930123015.csv', 'method=optimize', 'algorithm=lbfgs', 'iter=10000']\n",
            "12:30:15 - cmdstanpy - INFO - Chain [1] start processing\n",
            "INFO:cmdstanpy:Chain [1] start processing\n"
          ]
        },
        {
          "output_type": "stream",
          "name": "stdout",
          "text": [
            "+++++++++++++++++++++++++++++++++++++++++++++++++++++++++++++++++++++++++++++++++++++++ [('Prophet', 63.2302), ('ARIMA', 18.8463), ('ETS', 94.0454), ('XGBoost', 53.9622), ('Greykite', inf)]\n",
            "+++++++++++++++++++++++++++++++++++++++++++++++++++++++++++++++++++++++++++++++++++++++ ARIMA 237 705 2\n"
          ]
        },
        {
          "output_type": "stream",
          "name": "stderr",
          "text": [
            "12:30:15 - cmdstanpy - INFO - Chain [1] done processing\n",
            "INFO:cmdstanpy:Chain [1] done processing\n",
            "INFO:prophet:Disabling yearly seasonality. Run prophet with yearly_seasonality=True to override this.\n",
            "INFO:prophet:Disabling daily seasonality. Run prophet with daily_seasonality=True to override this.\n",
            "DEBUG:cmdstanpy:input tempfile: /tmp/tmpmo9k28to/bc9ie590.json\n",
            "DEBUG:cmdstanpy:input tempfile: /tmp/tmpmo9k28to/3g9z3zjy.json\n",
            "DEBUG:cmdstanpy:idx 0\n",
            "DEBUG:cmdstanpy:running CmdStan, num_threads: None\n",
            "DEBUG:cmdstanpy:CmdStan args: ['/usr/local/lib/python3.10/dist-packages/prophet/stan_model/prophet_model.bin', 'random', 'seed=87134', 'data', 'file=/tmp/tmpmo9k28to/bc9ie590.json', 'init=/tmp/tmpmo9k28to/3g9z3zjy.json', 'output', 'file=/tmp/tmpmo9k28to/prophet_model0mv519lq/prophet_model-20230930123021.csv', 'method=optimize', 'algorithm=lbfgs', 'iter=10000']\n",
            "12:30:21 - cmdstanpy - INFO - Chain [1] start processing\n",
            "INFO:cmdstanpy:Chain [1] start processing\n",
            "12:30:21 - cmdstanpy - INFO - Chain [1] done processing\n",
            "INFO:cmdstanpy:Chain [1] done processing\n"
          ]
        },
        {
          "output_type": "stream",
          "name": "stdout",
          "text": [
            "+++++++++++++++++++++++++++++++++++++++++++++++++++++++++++++++++++++++++++++++++++++++ [('Prophet', 28.9006), ('ARIMA', 15.0457), ('ETS', 23.4255), ('XGBoost', 7.7927), ('Greykite', inf)]\n",
            "+++++++++++++++++++++++++++++++++++++++++++++++++++++++++++++++++++++++++++++++++++++++ XGBoost 238 707 2\n"
          ]
        },
        {
          "output_type": "stream",
          "name": "stderr",
          "text": [
            "INFO:prophet:Disabling yearly seasonality. Run prophet with yearly_seasonality=True to override this.\n",
            "INFO:prophet:Disabling daily seasonality. Run prophet with daily_seasonality=True to override this.\n",
            "DEBUG:cmdstanpy:input tempfile: /tmp/tmpmo9k28to/dg1aooyt.json\n",
            "DEBUG:cmdstanpy:input tempfile: /tmp/tmpmo9k28to/ool_j5od.json\n",
            "DEBUG:cmdstanpy:idx 0\n",
            "DEBUG:cmdstanpy:running CmdStan, num_threads: None\n",
            "DEBUG:cmdstanpy:CmdStan args: ['/usr/local/lib/python3.10/dist-packages/prophet/stan_model/prophet_model.bin', 'random', 'seed=78621', 'data', 'file=/tmp/tmpmo9k28to/dg1aooyt.json', 'init=/tmp/tmpmo9k28to/ool_j5od.json', 'output', 'file=/tmp/tmpmo9k28to/prophet_model2namp70k/prophet_model-20230930123030.csv', 'method=optimize', 'algorithm=lbfgs', 'iter=10000']\n",
            "12:30:30 - cmdstanpy - INFO - Chain [1] start processing\n",
            "INFO:cmdstanpy:Chain [1] start processing\n",
            "12:30:31 - cmdstanpy - INFO - Chain [1] done processing\n",
            "INFO:cmdstanpy:Chain [1] done processing\n"
          ]
        },
        {
          "output_type": "stream",
          "name": "stdout",
          "text": [
            "+++++++++++++++++++++++++++++++++++++++++++++++++++++++++++++++++++++++++++++++++++++++ [('Prophet', 27.5989), ('ARIMA', 8.4658), ('ETS', 21.3258), ('XGBoost', 4.5237), ('Greykite', inf)]\n",
            "+++++++++++++++++++++++++++++++++++++++++++++++++++++++++++++++++++++++++++++++++++++++ XGBoost 239 709 2\n"
          ]
        },
        {
          "output_type": "stream",
          "name": "stderr",
          "text": [
            "INFO:prophet:Disabling yearly seasonality. Run prophet with yearly_seasonality=True to override this.\n",
            "INFO:prophet:Disabling daily seasonality. Run prophet with daily_seasonality=True to override this.\n",
            "DEBUG:cmdstanpy:input tempfile: /tmp/tmpmo9k28to/c7mhca6a.json\n",
            "DEBUG:cmdstanpy:input tempfile: /tmp/tmpmo9k28to/l8rl_tsh.json\n",
            "DEBUG:cmdstanpy:idx 0\n",
            "DEBUG:cmdstanpy:running CmdStan, num_threads: None\n",
            "DEBUG:cmdstanpy:CmdStan args: ['/usr/local/lib/python3.10/dist-packages/prophet/stan_model/prophet_model.bin', 'random', 'seed=63080', 'data', 'file=/tmp/tmpmo9k28to/c7mhca6a.json', 'init=/tmp/tmpmo9k28to/l8rl_tsh.json', 'output', 'file=/tmp/tmpmo9k28to/prophet_modeln95c82k3/prophet_model-20230930123037.csv', 'method=optimize', 'algorithm=lbfgs', 'iter=10000']\n",
            "12:30:37 - cmdstanpy - INFO - Chain [1] start processing\n",
            "INFO:cmdstanpy:Chain [1] start processing\n",
            "12:30:37 - cmdstanpy - INFO - Chain [1] done processing\n",
            "INFO:cmdstanpy:Chain [1] done processing\n"
          ]
        },
        {
          "output_type": "stream",
          "name": "stdout",
          "text": [
            "+++++++++++++++++++++++++++++++++++++++++++++++++++++++++++++++++++++++++++++++++++++++ [('Prophet', 46.4614), ('ARIMA', 12.8356), ('ETS', 42.6264), ('XGBoost', 38.4187), ('Greykite', inf)]\n",
            "+++++++++++++++++++++++++++++++++++++++++++++++++++++++++++++++++++++++++++++++++++++++ ARIMA 240 711 2\n"
          ]
        },
        {
          "output_type": "stream",
          "name": "stderr",
          "text": [
            "INFO:prophet:Disabling yearly seasonality. Run prophet with yearly_seasonality=True to override this.\n",
            "INFO:prophet:Disabling daily seasonality. Run prophet with daily_seasonality=True to override this.\n",
            "DEBUG:cmdstanpy:input tempfile: /tmp/tmpmo9k28to/s4_f2wvw.json\n",
            "DEBUG:cmdstanpy:input tempfile: /tmp/tmpmo9k28to/le5qw0bb.json\n",
            "DEBUG:cmdstanpy:idx 0\n",
            "DEBUG:cmdstanpy:running CmdStan, num_threads: None\n",
            "DEBUG:cmdstanpy:CmdStan args: ['/usr/local/lib/python3.10/dist-packages/prophet/stan_model/prophet_model.bin', 'random', 'seed=6537', 'data', 'file=/tmp/tmpmo9k28to/s4_f2wvw.json', 'init=/tmp/tmpmo9k28to/le5qw0bb.json', 'output', 'file=/tmp/tmpmo9k28to/prophet_modelkx1xle66/prophet_model-20230930123046.csv', 'method=optimize', 'algorithm=lbfgs', 'iter=10000']\n",
            "12:30:46 - cmdstanpy - INFO - Chain [1] start processing\n",
            "INFO:cmdstanpy:Chain [1] start processing\n",
            "12:30:46 - cmdstanpy - INFO - Chain [1] done processing\n",
            "INFO:cmdstanpy:Chain [1] done processing\n"
          ]
        },
        {
          "output_type": "stream",
          "name": "stdout",
          "text": [
            "+++++++++++++++++++++++++++++++++++++++++++++++++++++++++++++++++++++++++++++++++++++++ [('Prophet', 57.257), ('ARIMA', 10.8806), ('ETS', 66.5941), ('XGBoost', 82.5247), ('Greykite', inf)]\n",
            "+++++++++++++++++++++++++++++++++++++++++++++++++++++++++++++++++++++++++++++++++++++++ ARIMA 241 713 2\n"
          ]
        },
        {
          "output_type": "stream",
          "name": "stderr",
          "text": [
            "INFO:prophet:Disabling yearly seasonality. Run prophet with yearly_seasonality=True to override this.\n",
            "INFO:prophet:Disabling daily seasonality. Run prophet with daily_seasonality=True to override this.\n",
            "DEBUG:cmdstanpy:input tempfile: /tmp/tmpmo9k28to/36w6lojf.json\n",
            "DEBUG:cmdstanpy:input tempfile: /tmp/tmpmo9k28to/2f_9pcgp.json\n",
            "DEBUG:cmdstanpy:idx 0\n",
            "DEBUG:cmdstanpy:running CmdStan, num_threads: None\n",
            "DEBUG:cmdstanpy:CmdStan args: ['/usr/local/lib/python3.10/dist-packages/prophet/stan_model/prophet_model.bin', 'random', 'seed=79029', 'data', 'file=/tmp/tmpmo9k28to/36w6lojf.json', 'init=/tmp/tmpmo9k28to/2f_9pcgp.json', 'output', 'file=/tmp/tmpmo9k28to/prophet_modelgglk7vq5/prophet_model-20230930123053.csv', 'method=optimize', 'algorithm=lbfgs', 'iter=10000']\n",
            "12:30:53 - cmdstanpy - INFO - Chain [1] start processing\n",
            "INFO:cmdstanpy:Chain [1] start processing\n",
            "12:30:53 - cmdstanpy - INFO - Chain [1] done processing\n",
            "INFO:cmdstanpy:Chain [1] done processing\n"
          ]
        },
        {
          "output_type": "stream",
          "name": "stdout",
          "text": [
            "+++++++++++++++++++++++++++++++++++++++++++++++++++++++++++++++++++++++++++++++++++++++ [('Prophet', 23.9306), ('ARIMA', 3.5494), ('ETS', 27.0011), ('XGBoost', 6.5518), ('Greykite', inf)]\n",
            "+++++++++++++++++++++++++++++++++++++++++++++++++++++++++++++++++++++++++++++++++++++++ ARIMA 242 715 2\n"
          ]
        },
        {
          "output_type": "stream",
          "name": "stderr",
          "text": [
            "INFO:prophet:Disabling yearly seasonality. Run prophet with yearly_seasonality=True to override this.\n",
            "INFO:prophet:Disabling daily seasonality. Run prophet with daily_seasonality=True to override this.\n",
            "DEBUG:cmdstanpy:input tempfile: /tmp/tmpmo9k28to/_dioamtv.json\n",
            "DEBUG:cmdstanpy:input tempfile: /tmp/tmpmo9k28to/waob4v5o.json\n",
            "DEBUG:cmdstanpy:idx 0\n",
            "DEBUG:cmdstanpy:running CmdStan, num_threads: None\n",
            "DEBUG:cmdstanpy:CmdStan args: ['/usr/local/lib/python3.10/dist-packages/prophet/stan_model/prophet_model.bin', 'random', 'seed=88395', 'data', 'file=/tmp/tmpmo9k28to/_dioamtv.json', 'init=/tmp/tmpmo9k28to/waob4v5o.json', 'output', 'file=/tmp/tmpmo9k28to/prophet_model_4cm1uwm/prophet_model-20230930123102.csv', 'method=optimize', 'algorithm=lbfgs', 'iter=10000']\n",
            "12:31:02 - cmdstanpy - INFO - Chain [1] start processing\n",
            "INFO:cmdstanpy:Chain [1] start processing\n",
            "12:31:02 - cmdstanpy - INFO - Chain [1] done processing\n",
            "INFO:cmdstanpy:Chain [1] done processing\n"
          ]
        },
        {
          "output_type": "stream",
          "name": "stdout",
          "text": [
            "+++++++++++++++++++++++++++++++++++++++++++++++++++++++++++++++++++++++++++++++++++++++ [('Prophet', 52.6103), ('ARIMA', 38.9789), ('ETS', 44.1098), ('XGBoost', 58.5459), ('Greykite', inf)]\n",
            "+++++++++++++++++++++++++++++++++++++++++++++++++++++++++++++++++++++++++++++++++++++++ ARIMA 243 717 2\n"
          ]
        },
        {
          "output_type": "stream",
          "name": "stderr",
          "text": [
            "INFO:prophet:Disabling yearly seasonality. Run prophet with yearly_seasonality=True to override this.\n",
            "INFO:prophet:Disabling daily seasonality. Run prophet with daily_seasonality=True to override this.\n",
            "DEBUG:cmdstanpy:input tempfile: /tmp/tmpmo9k28to/5s7b4mz8.json\n",
            "DEBUG:cmdstanpy:input tempfile: /tmp/tmpmo9k28to/5qhdzi34.json\n",
            "DEBUG:cmdstanpy:idx 0\n",
            "DEBUG:cmdstanpy:running CmdStan, num_threads: None\n",
            "DEBUG:cmdstanpy:CmdStan args: ['/usr/local/lib/python3.10/dist-packages/prophet/stan_model/prophet_model.bin', 'random', 'seed=2790', 'data', 'file=/tmp/tmpmo9k28to/5s7b4mz8.json', 'init=/tmp/tmpmo9k28to/5qhdzi34.json', 'output', 'file=/tmp/tmpmo9k28to/prophet_modelyfswqlir/prophet_model-20230930123108.csv', 'method=optimize', 'algorithm=lbfgs', 'iter=10000']\n",
            "12:31:09 - cmdstanpy - INFO - Chain [1] start processing\n",
            "INFO:cmdstanpy:Chain [1] start processing\n"
          ]
        },
        {
          "output_type": "stream",
          "name": "stdout",
          "text": [
            "+++++++++++++++++++++++++++++++++++++++++++++++++++++++++++++++++++++++++++++++++++++++ [('Prophet', 31.7407), ('ARIMA', 39.4705), ('ETS', 98.9193), ('XGBoost', 80.9786), ('Greykite', inf)]\n",
            "+++++++++++++++++++++++++++++++++++++++++++++++++++++++++++++++++++++++++++++++++++++++ Prophet 244 719 2\n"
          ]
        },
        {
          "output_type": "stream",
          "name": "stderr",
          "text": [
            "12:31:09 - cmdstanpy - INFO - Chain [1] done processing\n",
            "INFO:cmdstanpy:Chain [1] done processing\n",
            "INFO:prophet:Disabling yearly seasonality. Run prophet with yearly_seasonality=True to override this.\n",
            "INFO:prophet:Disabling daily seasonality. Run prophet with daily_seasonality=True to override this.\n",
            "DEBUG:cmdstanpy:input tempfile: /tmp/tmpmo9k28to/pbt1c4d8.json\n",
            "DEBUG:cmdstanpy:input tempfile: /tmp/tmpmo9k28to/_r81ibip.json\n",
            "DEBUG:cmdstanpy:idx 0\n",
            "DEBUG:cmdstanpy:running CmdStan, num_threads: None\n",
            "DEBUG:cmdstanpy:CmdStan args: ['/usr/local/lib/python3.10/dist-packages/prophet/stan_model/prophet_model.bin', 'random', 'seed=88277', 'data', 'file=/tmp/tmpmo9k28to/pbt1c4d8.json', 'init=/tmp/tmpmo9k28to/_r81ibip.json', 'output', 'file=/tmp/tmpmo9k28to/prophet_modelser4uvuu/prophet_model-20230930123118.csv', 'method=optimize', 'algorithm=lbfgs', 'iter=10000']\n",
            "12:31:18 - cmdstanpy - INFO - Chain [1] start processing\n",
            "INFO:cmdstanpy:Chain [1] start processing\n",
            "12:31:19 - cmdstanpy - INFO - Chain [1] done processing\n",
            "INFO:cmdstanpy:Chain [1] done processing\n"
          ]
        },
        {
          "output_type": "stream",
          "name": "stdout",
          "text": [
            "+++++++++++++++++++++++++++++++++++++++++++++++++++++++++++++++++++++++++++++++++++++++ [('Prophet', 45.7362), ('ARIMA', 27.6628), ('ETS', 34.8092), ('XGBoost', 7.5332), ('Greykite', inf)]\n",
            "+++++++++++++++++++++++++++++++++++++++++++++++++++++++++++++++++++++++++++++++++++++++ XGBoost 245 721 2\n"
          ]
        },
        {
          "output_type": "stream",
          "name": "stderr",
          "text": [
            "INFO:prophet:Disabling yearly seasonality. Run prophet with yearly_seasonality=True to override this.\n",
            "INFO:prophet:Disabling daily seasonality. Run prophet with daily_seasonality=True to override this.\n",
            "DEBUG:cmdstanpy:input tempfile: /tmp/tmpmo9k28to/0veg6u2l.json\n",
            "DEBUG:cmdstanpy:input tempfile: /tmp/tmpmo9k28to/hewvidh0.json\n",
            "DEBUG:cmdstanpy:idx 0\n",
            "DEBUG:cmdstanpy:running CmdStan, num_threads: None\n",
            "DEBUG:cmdstanpy:CmdStan args: ['/usr/local/lib/python3.10/dist-packages/prophet/stan_model/prophet_model.bin', 'random', 'seed=62259', 'data', 'file=/tmp/tmpmo9k28to/0veg6u2l.json', 'init=/tmp/tmpmo9k28to/hewvidh0.json', 'output', 'file=/tmp/tmpmo9k28to/prophet_model0rem24eh/prophet_model-20230930123125.csv', 'method=optimize', 'algorithm=lbfgs', 'iter=10000']\n",
            "12:31:25 - cmdstanpy - INFO - Chain [1] start processing\n",
            "INFO:cmdstanpy:Chain [1] start processing\n",
            "12:31:25 - cmdstanpy - INFO - Chain [1] done processing\n",
            "INFO:cmdstanpy:Chain [1] done processing\n"
          ]
        },
        {
          "output_type": "stream",
          "name": "stdout",
          "text": [
            "+++++++++++++++++++++++++++++++++++++++++++++++++++++++++++++++++++++++++++++++++++++++ [('Prophet', 43.0088), ('ARIMA', 13.6178), ('ETS', 22.739), ('XGBoost', 10.0522), ('Greykite', inf)]\n",
            "+++++++++++++++++++++++++++++++++++++++++++++++++++++++++++++++++++++++++++++++++++++++ XGBoost 246 723 2\n"
          ]
        },
        {
          "output_type": "stream",
          "name": "stderr",
          "text": [
            "INFO:prophet:Disabling yearly seasonality. Run prophet with yearly_seasonality=True to override this.\n",
            "INFO:prophet:Disabling daily seasonality. Run prophet with daily_seasonality=True to override this.\n",
            "DEBUG:cmdstanpy:input tempfile: /tmp/tmpmo9k28to/x_9i42v6.json\n",
            "DEBUG:cmdstanpy:input tempfile: /tmp/tmpmo9k28to/ppg3sy8z.json\n",
            "DEBUG:cmdstanpy:idx 0\n",
            "DEBUG:cmdstanpy:running CmdStan, num_threads: None\n",
            "DEBUG:cmdstanpy:CmdStan args: ['/usr/local/lib/python3.10/dist-packages/prophet/stan_model/prophet_model.bin', 'random', 'seed=92843', 'data', 'file=/tmp/tmpmo9k28to/x_9i42v6.json', 'init=/tmp/tmpmo9k28to/ppg3sy8z.json', 'output', 'file=/tmp/tmpmo9k28to/prophet_modeluq4mqtlr/prophet_model-20230930123134.csv', 'method=optimize', 'algorithm=lbfgs', 'iter=10000']\n",
            "12:31:34 - cmdstanpy - INFO - Chain [1] start processing\n",
            "INFO:cmdstanpy:Chain [1] start processing\n",
            "12:31:35 - cmdstanpy - INFO - Chain [1] done processing\n",
            "INFO:cmdstanpy:Chain [1] done processing\n"
          ]
        },
        {
          "output_type": "stream",
          "name": "stdout",
          "text": [
            "+++++++++++++++++++++++++++++++++++++++++++++++++++++++++++++++++++++++++++++++++++++++ [('Prophet', 518177.2592), ('ARIMA', 519744.5857), ('ETS', 759066.3735), ('XGBoost', 378315.65), ('Greykite', inf)]\n",
            "+++++++++++++++++++++++++++++++++++++++++++++++++++++++++++++++++++++++++++++++++++++++ XGBoost 247 725 2\n"
          ]
        },
        {
          "output_type": "stream",
          "name": "stderr",
          "text": [
            "INFO:prophet:Disabling yearly seasonality. Run prophet with yearly_seasonality=True to override this.\n",
            "INFO:prophet:Disabling daily seasonality. Run prophet with daily_seasonality=True to override this.\n",
            "DEBUG:cmdstanpy:input tempfile: /tmp/tmpmo9k28to/3mwhesss.json\n",
            "DEBUG:cmdstanpy:input tempfile: /tmp/tmpmo9k28to/1pxdzpw6.json\n",
            "DEBUG:cmdstanpy:idx 0\n",
            "DEBUG:cmdstanpy:running CmdStan, num_threads: None\n",
            "DEBUG:cmdstanpy:CmdStan args: ['/usr/local/lib/python3.10/dist-packages/prophet/stan_model/prophet_model.bin', 'random', 'seed=14491', 'data', 'file=/tmp/tmpmo9k28to/3mwhesss.json', 'init=/tmp/tmpmo9k28to/1pxdzpw6.json', 'output', 'file=/tmp/tmpmo9k28to/prophet_modelqehf2tey/prophet_model-20230930123141.csv', 'method=optimize', 'algorithm=lbfgs', 'iter=10000']\n",
            "12:31:41 - cmdstanpy - INFO - Chain [1] start processing\n",
            "INFO:cmdstanpy:Chain [1] start processing\n"
          ]
        },
        {
          "output_type": "stream",
          "name": "stdout",
          "text": [
            "+++++++++++++++++++++++++++++++++++++++++++++++++++++++++++++++++++++++++++++++++++++++ [('Prophet', 59.1417), ('ARIMA', 51.358), ('ETS', 69.9885), ('XGBoost', 55.1817), ('Greykite', inf)]\n",
            "+++++++++++++++++++++++++++++++++++++++++++++++++++++++++++++++++++++++++++++++++++++++ ARIMA 248 727 2\n"
          ]
        },
        {
          "output_type": "stream",
          "name": "stderr",
          "text": [
            "12:31:41 - cmdstanpy - INFO - Chain [1] done processing\n",
            "INFO:cmdstanpy:Chain [1] done processing\n"
          ]
        },
        {
          "output_type": "stream",
          "name": "stdout",
          "text": [
            "+++++++++++++++++++++++++++++++++++++++++++++++++++++++++++++++++++++++++++++++++++++++ [('Prophet', 13626138.0735), ('ARIMA', 23169176.7812), ('ETS', 17005251.3027), ('XGBoost', 14811983.8858), ('Greykite', inf)]\n",
            "+++++++++++++++++++++++++++++++++++++++++++++++++++++++++++++++++++++++++++++++++++++++ Prophet 249 729 2\n"
          ]
        }
      ]
    },
    {
      "cell_type": "code",
      "source": [
        "results_df.head()"
      ],
      "metadata": {
        "colab": {
          "base_uri": "https://localhost:8080/",
          "height": 206
        },
        "id": "eiqlEOnijATn",
        "outputId": "5c13b8e3-edbb-49cf-9e2f-c6a15c6327c9"
      },
      "execution_count": 90,
      "outputs": [
        {
          "output_type": "execute_result",
          "data": {
            "text/plain": [
              "  Sample Index          Mean      Variance  Skewness  Kurtosis    Trend Mean  \\\n",
              "0            0  1.038035e+06  5.465685e+10  0.894983  1.447480  1.037771e+06   \n",
              "1            1  1.029126e+06  6.339224e+10  0.211591  2.800042  1.033529e+06   \n",
              "2            2  1.020369e+06  7.182116e+10 -0.212454  3.310216  1.024340e+06   \n",
              "3            3  1.011759e+06  7.996001e+10 -0.486683  3.425143  1.012884e+06   \n",
              "4            4  1.003293e+06  8.781727e+10 -0.668460  3.346775  1.000470e+06   \n",
              "\n",
              "   Seasonal Mean  Residual Mean Best Model  \n",
              "0   1.889859e-12     263.922760    Prophet  \n",
              "1  -7.179134e+02   -3685.880673    XGBoost  \n",
              "2  -1.408817e+03   -2562.343889    XGBoost  \n",
              "3  -8.785560e+02    -246.044085      ARIMA  \n",
              "4  -2.136987e+02    3036.506817        ETS  "
            ],
            "text/html": [
              "\n",
              "  <div id=\"df-90c8f50a-e556-4bd9-9e8e-3f7b590c6ae5\" class=\"colab-df-container\">\n",
              "    <div>\n",
              "<style scoped>\n",
              "    .dataframe tbody tr th:only-of-type {\n",
              "        vertical-align: middle;\n",
              "    }\n",
              "\n",
              "    .dataframe tbody tr th {\n",
              "        vertical-align: top;\n",
              "    }\n",
              "\n",
              "    .dataframe thead th {\n",
              "        text-align: right;\n",
              "    }\n",
              "</style>\n",
              "<table border=\"1\" class=\"dataframe\">\n",
              "  <thead>\n",
              "    <tr style=\"text-align: right;\">\n",
              "      <th></th>\n",
              "      <th>Sample Index</th>\n",
              "      <th>Mean</th>\n",
              "      <th>Variance</th>\n",
              "      <th>Skewness</th>\n",
              "      <th>Kurtosis</th>\n",
              "      <th>Trend Mean</th>\n",
              "      <th>Seasonal Mean</th>\n",
              "      <th>Residual Mean</th>\n",
              "      <th>Best Model</th>\n",
              "    </tr>\n",
              "  </thead>\n",
              "  <tbody>\n",
              "    <tr>\n",
              "      <th>0</th>\n",
              "      <td>0</td>\n",
              "      <td>1.038035e+06</td>\n",
              "      <td>5.465685e+10</td>\n",
              "      <td>0.894983</td>\n",
              "      <td>1.447480</td>\n",
              "      <td>1.037771e+06</td>\n",
              "      <td>1.889859e-12</td>\n",
              "      <td>263.922760</td>\n",
              "      <td>Prophet</td>\n",
              "    </tr>\n",
              "    <tr>\n",
              "      <th>1</th>\n",
              "      <td>1</td>\n",
              "      <td>1.029126e+06</td>\n",
              "      <td>6.339224e+10</td>\n",
              "      <td>0.211591</td>\n",
              "      <td>2.800042</td>\n",
              "      <td>1.033529e+06</td>\n",
              "      <td>-7.179134e+02</td>\n",
              "      <td>-3685.880673</td>\n",
              "      <td>XGBoost</td>\n",
              "    </tr>\n",
              "    <tr>\n",
              "      <th>2</th>\n",
              "      <td>2</td>\n",
              "      <td>1.020369e+06</td>\n",
              "      <td>7.182116e+10</td>\n",
              "      <td>-0.212454</td>\n",
              "      <td>3.310216</td>\n",
              "      <td>1.024340e+06</td>\n",
              "      <td>-1.408817e+03</td>\n",
              "      <td>-2562.343889</td>\n",
              "      <td>XGBoost</td>\n",
              "    </tr>\n",
              "    <tr>\n",
              "      <th>3</th>\n",
              "      <td>3</td>\n",
              "      <td>1.011759e+06</td>\n",
              "      <td>7.996001e+10</td>\n",
              "      <td>-0.486683</td>\n",
              "      <td>3.425143</td>\n",
              "      <td>1.012884e+06</td>\n",
              "      <td>-8.785560e+02</td>\n",
              "      <td>-246.044085</td>\n",
              "      <td>ARIMA</td>\n",
              "    </tr>\n",
              "    <tr>\n",
              "      <th>4</th>\n",
              "      <td>4</td>\n",
              "      <td>1.003293e+06</td>\n",
              "      <td>8.781727e+10</td>\n",
              "      <td>-0.668460</td>\n",
              "      <td>3.346775</td>\n",
              "      <td>1.000470e+06</td>\n",
              "      <td>-2.136987e+02</td>\n",
              "      <td>3036.506817</td>\n",
              "      <td>ETS</td>\n",
              "    </tr>\n",
              "  </tbody>\n",
              "</table>\n",
              "</div>\n",
              "    <div class=\"colab-df-buttons\">\n",
              "\n",
              "  <div class=\"colab-df-container\">\n",
              "    <button class=\"colab-df-convert\" onclick=\"convertToInteractive('df-90c8f50a-e556-4bd9-9e8e-3f7b590c6ae5')\"\n",
              "            title=\"Convert this dataframe to an interactive table.\"\n",
              "            style=\"display:none;\">\n",
              "\n",
              "  <svg xmlns=\"http://www.w3.org/2000/svg\" height=\"24px\" viewBox=\"0 -960 960 960\">\n",
              "    <path d=\"M120-120v-720h720v720H120Zm60-500h600v-160H180v160Zm220 220h160v-160H400v160Zm0 220h160v-160H400v160ZM180-400h160v-160H180v160Zm440 0h160v-160H620v160ZM180-180h160v-160H180v160Zm440 0h160v-160H620v160Z\"/>\n",
              "  </svg>\n",
              "    </button>\n",
              "\n",
              "  <style>\n",
              "    .colab-df-container {\n",
              "      display:flex;\n",
              "      gap: 12px;\n",
              "    }\n",
              "\n",
              "    .colab-df-convert {\n",
              "      background-color: #E8F0FE;\n",
              "      border: none;\n",
              "      border-radius: 50%;\n",
              "      cursor: pointer;\n",
              "      display: none;\n",
              "      fill: #1967D2;\n",
              "      height: 32px;\n",
              "      padding: 0 0 0 0;\n",
              "      width: 32px;\n",
              "    }\n",
              "\n",
              "    .colab-df-convert:hover {\n",
              "      background-color: #E2EBFA;\n",
              "      box-shadow: 0px 1px 2px rgba(60, 64, 67, 0.3), 0px 1px 3px 1px rgba(60, 64, 67, 0.15);\n",
              "      fill: #174EA6;\n",
              "    }\n",
              "\n",
              "    .colab-df-buttons div {\n",
              "      margin-bottom: 4px;\n",
              "    }\n",
              "\n",
              "    [theme=dark] .colab-df-convert {\n",
              "      background-color: #3B4455;\n",
              "      fill: #D2E3FC;\n",
              "    }\n",
              "\n",
              "    [theme=dark] .colab-df-convert:hover {\n",
              "      background-color: #434B5C;\n",
              "      box-shadow: 0px 1px 3px 1px rgba(0, 0, 0, 0.15);\n",
              "      filter: drop-shadow(0px 1px 2px rgba(0, 0, 0, 0.3));\n",
              "      fill: #FFFFFF;\n",
              "    }\n",
              "  </style>\n",
              "\n",
              "    <script>\n",
              "      const buttonEl =\n",
              "        document.querySelector('#df-90c8f50a-e556-4bd9-9e8e-3f7b590c6ae5 button.colab-df-convert');\n",
              "      buttonEl.style.display =\n",
              "        google.colab.kernel.accessAllowed ? 'block' : 'none';\n",
              "\n",
              "      async function convertToInteractive(key) {\n",
              "        const element = document.querySelector('#df-90c8f50a-e556-4bd9-9e8e-3f7b590c6ae5');\n",
              "        const dataTable =\n",
              "          await google.colab.kernel.invokeFunction('convertToInteractive',\n",
              "                                                    [key], {});\n",
              "        if (!dataTable) return;\n",
              "\n",
              "        const docLinkHtml = 'Like what you see? Visit the ' +\n",
              "          '<a target=\"_blank\" href=https://colab.research.google.com/notebooks/data_table.ipynb>data table notebook</a>'\n",
              "          + ' to learn more about interactive tables.';\n",
              "        element.innerHTML = '';\n",
              "        dataTable['output_type'] = 'display_data';\n",
              "        await google.colab.output.renderOutput(dataTable, element);\n",
              "        const docLink = document.createElement('div');\n",
              "        docLink.innerHTML = docLinkHtml;\n",
              "        element.appendChild(docLink);\n",
              "      }\n",
              "    </script>\n",
              "  </div>\n",
              "\n",
              "\n",
              "<div id=\"df-07b5faf5-8f9b-4610-8025-9a4677aea4ec\">\n",
              "  <button class=\"colab-df-quickchart\" onclick=\"quickchart('df-07b5faf5-8f9b-4610-8025-9a4677aea4ec')\"\n",
              "            title=\"Suggest charts.\"\n",
              "            style=\"display:none;\">\n",
              "\n",
              "<svg xmlns=\"http://www.w3.org/2000/svg\" height=\"24px\"viewBox=\"0 0 24 24\"\n",
              "     width=\"24px\">\n",
              "    <g>\n",
              "        <path d=\"M19 3H5c-1.1 0-2 .9-2 2v14c0 1.1.9 2 2 2h14c1.1 0 2-.9 2-2V5c0-1.1-.9-2-2-2zM9 17H7v-7h2v7zm4 0h-2V7h2v10zm4 0h-2v-4h2v4z\"/>\n",
              "    </g>\n",
              "</svg>\n",
              "  </button>\n",
              "\n",
              "<style>\n",
              "  .colab-df-quickchart {\n",
              "      --bg-color: #E8F0FE;\n",
              "      --fill-color: #1967D2;\n",
              "      --hover-bg-color: #E2EBFA;\n",
              "      --hover-fill-color: #174EA6;\n",
              "      --disabled-fill-color: #AAA;\n",
              "      --disabled-bg-color: #DDD;\n",
              "  }\n",
              "\n",
              "  [theme=dark] .colab-df-quickchart {\n",
              "      --bg-color: #3B4455;\n",
              "      --fill-color: #D2E3FC;\n",
              "      --hover-bg-color: #434B5C;\n",
              "      --hover-fill-color: #FFFFFF;\n",
              "      --disabled-bg-color: #3B4455;\n",
              "      --disabled-fill-color: #666;\n",
              "  }\n",
              "\n",
              "  .colab-df-quickchart {\n",
              "    background-color: var(--bg-color);\n",
              "    border: none;\n",
              "    border-radius: 50%;\n",
              "    cursor: pointer;\n",
              "    display: none;\n",
              "    fill: var(--fill-color);\n",
              "    height: 32px;\n",
              "    padding: 0;\n",
              "    width: 32px;\n",
              "  }\n",
              "\n",
              "  .colab-df-quickchart:hover {\n",
              "    background-color: var(--hover-bg-color);\n",
              "    box-shadow: 0 1px 2px rgba(60, 64, 67, 0.3), 0 1px 3px 1px rgba(60, 64, 67, 0.15);\n",
              "    fill: var(--button-hover-fill-color);\n",
              "  }\n",
              "\n",
              "  .colab-df-quickchart-complete:disabled,\n",
              "  .colab-df-quickchart-complete:disabled:hover {\n",
              "    background-color: var(--disabled-bg-color);\n",
              "    fill: var(--disabled-fill-color);\n",
              "    box-shadow: none;\n",
              "  }\n",
              "\n",
              "  .colab-df-spinner {\n",
              "    border: 2px solid var(--fill-color);\n",
              "    border-color: transparent;\n",
              "    border-bottom-color: var(--fill-color);\n",
              "    animation:\n",
              "      spin 1s steps(1) infinite;\n",
              "  }\n",
              "\n",
              "  @keyframes spin {\n",
              "    0% {\n",
              "      border-color: transparent;\n",
              "      border-bottom-color: var(--fill-color);\n",
              "      border-left-color: var(--fill-color);\n",
              "    }\n",
              "    20% {\n",
              "      border-color: transparent;\n",
              "      border-left-color: var(--fill-color);\n",
              "      border-top-color: var(--fill-color);\n",
              "    }\n",
              "    30% {\n",
              "      border-color: transparent;\n",
              "      border-left-color: var(--fill-color);\n",
              "      border-top-color: var(--fill-color);\n",
              "      border-right-color: var(--fill-color);\n",
              "    }\n",
              "    40% {\n",
              "      border-color: transparent;\n",
              "      border-right-color: var(--fill-color);\n",
              "      border-top-color: var(--fill-color);\n",
              "    }\n",
              "    60% {\n",
              "      border-color: transparent;\n",
              "      border-right-color: var(--fill-color);\n",
              "    }\n",
              "    80% {\n",
              "      border-color: transparent;\n",
              "      border-right-color: var(--fill-color);\n",
              "      border-bottom-color: var(--fill-color);\n",
              "    }\n",
              "    90% {\n",
              "      border-color: transparent;\n",
              "      border-bottom-color: var(--fill-color);\n",
              "    }\n",
              "  }\n",
              "</style>\n",
              "\n",
              "  <script>\n",
              "    async function quickchart(key) {\n",
              "      const quickchartButtonEl =\n",
              "        document.querySelector('#' + key + ' button');\n",
              "      quickchartButtonEl.disabled = true;  // To prevent multiple clicks.\n",
              "      quickchartButtonEl.classList.add('colab-df-spinner');\n",
              "      try {\n",
              "        const charts = await google.colab.kernel.invokeFunction(\n",
              "            'suggestCharts', [key], {});\n",
              "      } catch (error) {\n",
              "        console.error('Error during call to suggestCharts:', error);\n",
              "      }\n",
              "      quickchartButtonEl.classList.remove('colab-df-spinner');\n",
              "      quickchartButtonEl.classList.add('colab-df-quickchart-complete');\n",
              "    }\n",
              "    (() => {\n",
              "      let quickchartButtonEl =\n",
              "        document.querySelector('#df-07b5faf5-8f9b-4610-8025-9a4677aea4ec button');\n",
              "      quickchartButtonEl.style.display =\n",
              "        google.colab.kernel.accessAllowed ? 'block' : 'none';\n",
              "    })();\n",
              "  </script>\n",
              "</div>\n",
              "    </div>\n",
              "  </div>\n"
            ]
          },
          "metadata": {},
          "execution_count": 90
        }
      ]
    },
    {
      "cell_type": "code",
      "source": [
        "track_log"
      ],
      "metadata": {
        "colab": {
          "base_uri": "https://localhost:8080/"
        },
        "id": "bwzb49qy2UFd",
        "outputId": "1e2f43a0-3689-4c1e-8099-25ec229d58d6"
      },
      "execution_count": 91,
      "outputs": [
        {
          "output_type": "execute_result",
          "data": {
            "text/plain": [
              "{0: [('Prophet', 696093.283),\n",
              "  ('ARIMA', 827922.8368),\n",
              "  ('ETS', 722630.8563),\n",
              "  ('XGBoost', 847028.6013),\n",
              "  ('Greykite', inf)],\n",
              " 1: [('Prophet', 265738.2675),\n",
              "  ('ARIMA', 264195.2143),\n",
              "  ('ETS', 221007.36),\n",
              "  ('XGBoost', 99254.8593),\n",
              "  ('Greykite', inf)],\n",
              " 2: [('Prophet', 890080.7727),\n",
              "  ('ARIMA', 478565.3411),\n",
              "  ('ETS', 366005.5838),\n",
              "  ('XGBoost', 350735.4762),\n",
              "  ('Greykite', inf)],\n",
              " 3: [('Prophet', 1259697.8257),\n",
              "  ('ARIMA', 107993.838),\n",
              "  ('ETS', 123869.9662),\n",
              "  ('XGBoost', 198203.5527),\n",
              "  ('Greykite', inf)],\n",
              " 4: [('Prophet', 874453.0562),\n",
              "  ('ARIMA', 323458.83),\n",
              "  ('ETS', 36198.1454),\n",
              "  ('XGBoost', 180111.1157),\n",
              "  ('Greykite', inf)],\n",
              " 5: [('Prophet', 271208.2009),\n",
              "  ('ARIMA', 69448.4532),\n",
              "  ('ETS', 104762.6019),\n",
              "  ('XGBoost', 568796.4267),\n",
              "  ('Greykite', inf)],\n",
              " 6: [('Prophet', 484900.5595),\n",
              "  ('ARIMA', 8070.0692),\n",
              "  ('ETS', 35744.4329),\n",
              "  ('XGBoost', 175152.6264),\n",
              "  ('Greykite', inf)],\n",
              " 7: [('Prophet', 192801.7352),\n",
              "  ('ARIMA', 34232.0615),\n",
              "  ('ETS', 37364.0465),\n",
              "  ('XGBoost', 44714.825),\n",
              "  ('Greykite', inf)],\n",
              " 8: [('Prophet', 199271.4533),\n",
              "  ('ARIMA', 30585.4634),\n",
              "  ('ETS', 55665.6551),\n",
              "  ('XGBoost', 7773.9325),\n",
              "  ('Greykite', inf)],\n",
              " 9: [('Prophet', 496264.124),\n",
              "  ('ARIMA', 8918.3654),\n",
              "  ('ETS', 80091.8199),\n",
              "  ('XGBoost', 41525.617),\n",
              "  ('Greykite', inf)],\n",
              " 10: [('Prophet', 89232.5844),\n",
              "  ('ARIMA', 4672.6696),\n",
              "  ('ETS', 11476.8687),\n",
              "  ('XGBoost', 970.4335),\n",
              "  ('Greykite', inf)],\n",
              " 11: [('Prophet', 25703.3093),\n",
              "  ('ARIMA', 9166.2704),\n",
              "  ('ETS', 74514.8382),\n",
              "  ('XGBoost', 3636.4),\n",
              "  ('Greykite', inf)],\n",
              " 12: [('Prophet', 14447.3793),\n",
              "  ('ARIMA', 1344.4926),\n",
              "  ('ETS', 56549.8202),\n",
              "  ('XGBoost', 10165.0481),\n",
              "  ('Greykite', inf)],\n",
              " 13: [('Prophet', 391.2269),\n",
              "  ('ARIMA', 84.8775),\n",
              "  ('ETS', 249.7432),\n",
              "  ('XGBoost', 105.7793),\n",
              "  ('Greykite', inf)],\n",
              " 14: [('Prophet', 174.0762),\n",
              "  ('ARIMA', 92.6482),\n",
              "  ('ETS', 113.925),\n",
              "  ('XGBoost', 67.3843),\n",
              "  ('Greykite', inf)],\n",
              " 15: [('Prophet', 171.9778),\n",
              "  ('ARIMA', 47.4623),\n",
              "  ('ETS', 73.7078),\n",
              "  ('XGBoost', 76.0681),\n",
              "  ('Greykite', inf)],\n",
              " 16: [('Prophet', 166.9124),\n",
              "  ('ARIMA', 58.686),\n",
              "  ('ETS', 115.2422),\n",
              "  ('XGBoost', 21.3126),\n",
              "  ('Greykite', inf)],\n",
              " 17: [('Prophet', 290.0295),\n",
              "  ('ARIMA', 158.4185),\n",
              "  ('ETS', 62.1553),\n",
              "  ('XGBoost', 88.9494),\n",
              "  ('Greykite', inf)],\n",
              " 18: [('Prophet', 210.7023),\n",
              "  ('ARIMA', 11.6906),\n",
              "  ('ETS', 66.7335),\n",
              "  ('XGBoost', 9.6403),\n",
              "  ('Greykite', inf)],\n",
              " 19: [('Prophet', 210.2423),\n",
              "  ('ARIMA', 39.859),\n",
              "  ('ETS', 51.1611),\n",
              "  ('XGBoost', 56.5253),\n",
              "  ('Greykite', inf)],\n",
              " 20: [('Prophet', 191.0652),\n",
              "  ('ARIMA', 163.0304),\n",
              "  ('ETS', 158.1542),\n",
              "  ('XGBoost', 157.2069),\n",
              "  ('Greykite', inf)],\n",
              " 21: [('Prophet', 219.8177),\n",
              "  ('ARIMA', 35.0823),\n",
              "  ('ETS', 49.9158),\n",
              "  ('XGBoost', 117.2956),\n",
              "  ('Greykite', inf)],\n",
              " 22: [('Prophet', 210.5653),\n",
              "  ('ARIMA', 9.2026),\n",
              "  ('ETS', 27.8215),\n",
              "  ('XGBoost', 14.6803),\n",
              "  ('Greykite', inf)],\n",
              " 23: [('Prophet', 158.3545),\n",
              "  ('ARIMA', 83.2187),\n",
              "  ('ETS', 58.1169),\n",
              "  ('XGBoost', 146.7656),\n",
              "  ('Greykite', inf)],\n",
              " 24: [('Prophet', 254.5591),\n",
              "  ('ARIMA', 120.0212),\n",
              "  ('ETS', 135.1384),\n",
              "  ('XGBoost', 150.8162),\n",
              "  ('Greykite', inf)],\n",
              " 25: [('Prophet', 201.1349),\n",
              "  ('ARIMA', 22.4153),\n",
              "  ('ETS', 66.3464),\n",
              "  ('XGBoost', 36.4862),\n",
              "  ('Greykite', inf)],\n",
              " 26: [('Prophet', 221.5967),\n",
              "  ('ARIMA', 16.8609),\n",
              "  ('ETS', 18.0567),\n",
              "  ('XGBoost', 42.7046),\n",
              "  ('Greykite', inf)],\n",
              " 27: [('Prophet', 133.3395),\n",
              "  ('ARIMA', 247.9289),\n",
              "  ('ETS', 213.1401),\n",
              "  ('XGBoost', 222.1675),\n",
              "  ('Greykite', inf)],\n",
              " 28: [('Prophet', 205.9289),\n",
              "  ('ARIMA', 40.6593),\n",
              "  ('ETS', 30.6755),\n",
              "  ('XGBoost', 40.7497),\n",
              "  ('Greykite', inf)],\n",
              " 29: [('Prophet', 194.7296),\n",
              "  ('ARIMA', 6.4921),\n",
              "  ('ETS', 51.5057),\n",
              "  ('XGBoost', 34.2685),\n",
              "  ('Greykite', inf)],\n",
              " 30: [('Prophet', 92.402),\n",
              "  ('ARIMA', 44.9532),\n",
              "  ('ETS', 47.343),\n",
              "  ('XGBoost', 24.1237),\n",
              "  ('Greykite', inf)],\n",
              " 31: [('Prophet', 161.1241),\n",
              "  ('ARIMA', 122.3646),\n",
              "  ('ETS', 166.8585),\n",
              "  ('XGBoost', 309.996),\n",
              "  ('Greykite', inf)],\n",
              " 32: [('Prophet', 188.5345),\n",
              "  ('ARIMA', 7.5061),\n",
              "  ('ETS', 40.4904),\n",
              "  ('XGBoost', 7.0817),\n",
              "  ('Greykite', inf)],\n",
              " 33: [('Prophet', 341.0125),\n",
              "  ('ARIMA', 117.2712),\n",
              "  ('ETS', 110.7078),\n",
              "  ('XGBoost', 66.1867),\n",
              "  ('Greykite', inf)],\n",
              " 34: [('Prophet', 51.8068),\n",
              "  ('ARIMA', 130.066),\n",
              "  ('ETS', 269.5503),\n",
              "  ('XGBoost', 157.7765),\n",
              "  ('Greykite', inf)],\n",
              " 35: [('Prophet', 174.7998),\n",
              "  ('ARIMA', 63.4501),\n",
              "  ('ETS', 83.9942),\n",
              "  ('XGBoost', 16.5168),\n",
              "  ('Greykite', inf)],\n",
              " 36: [('Prophet', 176.2789),\n",
              "  ('ARIMA', 39.4457),\n",
              "  ('ETS', 43.8398),\n",
              "  ('XGBoost', 45.309),\n",
              "  ('Greykite', inf)],\n",
              " 37: [('Prophet', 110.327),\n",
              "  ('ARIMA', 36.8082),\n",
              "  ('ETS', 41.2451),\n",
              "  ('XGBoost', 29.9326),\n",
              "  ('Greykite', inf)],\n",
              " 38: [('Prophet', 154.6709),\n",
              "  ('ARIMA', 195.8157),\n",
              "  ('ETS', 209.1493),\n",
              "  ('XGBoost', 333.8012),\n",
              "  ('Greykite', inf)],\n",
              " 39: [('Prophet', 160.4113),\n",
              "  ('ARIMA', 12.0285),\n",
              "  ('ETS', 46.3168),\n",
              "  ('XGBoost', 37.5855),\n",
              "  ('Greykite', inf)],\n",
              " 40: [('Prophet', 185.3518),\n",
              "  ('ARIMA', 13.491),\n",
              "  ('ETS', 46.4576),\n",
              "  ('XGBoost', 30.3512),\n",
              "  ('Greykite', inf)],\n",
              " 41: [('Prophet', 98.1395),\n",
              "  ('ARIMA', 254.7286),\n",
              "  ('ETS', 239.9361),\n",
              "  ('XGBoost', 252.4617),\n",
              "  ('Greykite', inf)],\n",
              " 42: [('Prophet', 168.9013),\n",
              "  ('ARIMA', 36.1008),\n",
              "  ('ETS', 51.4889),\n",
              "  ('XGBoost', 18.8506),\n",
              "  ('Greykite', inf)],\n",
              " 43: [('Prophet', 160.51),\n",
              "  ('ARIMA', 19.2878),\n",
              "  ('ETS', 24.893),\n",
              "  ('XGBoost', 22.4584),\n",
              "  ('Greykite', inf)],\n",
              " 44: [('Prophet', 100.3736),\n",
              "  ('ARIMA', 55.9193),\n",
              "  ('ETS', 71.3068),\n",
              "  ('XGBoost', 135.0479),\n",
              "  ('Greykite', inf)],\n",
              " 45: [('Prophet', 219.013),\n",
              "  ('ARIMA', 112.1653),\n",
              "  ('ETS', 196.4988),\n",
              "  ('XGBoost', 326.5729),\n",
              "  ('Greykite', inf)],\n",
              " 46: [('Prophet', 136.2199),\n",
              "  ('ARIMA', 12.9745),\n",
              "  ('ETS', 21.5898),\n",
              "  ('XGBoost', 19.2261),\n",
              "  ('Greykite', inf)],\n",
              " 47: [('Prophet', 172.4769),\n",
              "  ('ARIMA', 52.0728),\n",
              "  ('ETS', 45.6098),\n",
              "  ('XGBoost', 37.293),\n",
              "  ('Greykite', inf)],\n",
              " 48: [('Prophet', 569.0621),\n",
              "  ('ARIMA', 408.7831),\n",
              "  ('ETS', 485.1789),\n",
              "  ('XGBoost', 657.9626),\n",
              "  ('Greykite', inf)],\n",
              " 49: [('Prophet', 134.5122),\n",
              "  ('ARIMA', 34.3152),\n",
              "  ('ETS', 62.6962),\n",
              "  ('XGBoost', 48.6075),\n",
              "  ('Greykite', inf)],\n",
              " 50: [('Prophet', 109.8151),\n",
              "  ('ARIMA', 24.4889),\n",
              "  ('ETS', 36.084),\n",
              "  ('XGBoost', 25.0929),\n",
              "  ('Greykite', inf)],\n",
              " 51: [('Prophet', 201.4825),\n",
              "  ('ARIMA', 95.6968),\n",
              "  ('ETS', 146.1065),\n",
              "  ('XGBoost', 1941.6367),\n",
              "  ('Greykite', inf)],\n",
              " 52: [('Prophet', 230.2253),\n",
              "  ('ARIMA', 84.0088),\n",
              "  ('ETS', 136.6303),\n",
              "  ('XGBoost', 251.974),\n",
              "  ('Greykite', inf)],\n",
              " 53: [('Prophet', 108.5388),\n",
              "  ('ARIMA', 22.5214),\n",
              "  ('ETS', 66.8929),\n",
              "  ('XGBoost', 12.413),\n",
              "  ('Greykite', inf)],\n",
              " 54: [('Prophet', 104.5245),\n",
              "  ('ARIMA', 17.3255),\n",
              "  ('ETS', 18.7412),\n",
              "  ('XGBoost', 33.438),\n",
              "  ('Greykite', inf)],\n",
              " 55: [('Prophet', 375.0419),\n",
              "  ('ARIMA', 380.1995),\n",
              "  ('ETS', 373.0798),\n",
              "  ('XGBoost', 460.9238),\n",
              "  ('Greykite', inf)],\n",
              " 56: [('Prophet', 98.2451),\n",
              "  ('ARIMA', 24.9313),\n",
              "  ('ETS', 42.8504),\n",
              "  ('XGBoost', 23.2828),\n",
              "  ('Greykite', inf)],\n",
              " 57: [('Prophet', 92.0964),\n",
              "  ('ARIMA', 17.3592),\n",
              "  ('ETS', 7.5225),\n",
              "  ('XGBoost', 53.9359),\n",
              "  ('Greykite', inf)],\n",
              " 58: [('Prophet', 113.5205),\n",
              "  ('ARIMA', 37.3028),\n",
              "  ('ETS', 109.7358),\n",
              "  ('XGBoost', 29.2426),\n",
              "  ('Greykite', inf)],\n",
              " 59: [('Prophet', 253.4021),\n",
              "  ('ARIMA', 93.2254),\n",
              "  ('ETS', 101.984),\n",
              "  ('XGBoost', 282.1652),\n",
              "  ('Greykite', inf)],\n",
              " 60: [('Prophet', 86.7241),\n",
              "  ('ARIMA', 22.7139),\n",
              "  ('ETS', 52.9448),\n",
              "  ('XGBoost', 7.7214),\n",
              "  ('Greykite', inf)],\n",
              " 61: [('Prophet', 85.6014),\n",
              "  ('ARIMA', 27.2359),\n",
              "  ('ETS', 25.844),\n",
              "  ('XGBoost', 15.1054),\n",
              "  ('Greykite', inf)],\n",
              " 62: [('Prophet', 345.3563),\n",
              "  ('ARIMA', 42.4355),\n",
              "  ('ETS', 245.1714),\n",
              "  ('XGBoost', 256.5001),\n",
              "  ('Greykite', inf)],\n",
              " 63: [('Prophet', 83.4662),\n",
              "  ('ARIMA', 20.6803),\n",
              "  ('ETS', 46.6816),\n",
              "  ('XGBoost', 20.8544),\n",
              "  ('Greykite', inf)],\n",
              " 64: [('Prophet', 73.4892),\n",
              "  ('ARIMA', 13.9869),\n",
              "  ('ETS', 27.9),\n",
              "  ('XGBoost', 50.887),\n",
              "  ('Greykite', inf)],\n",
              " 65: [('Prophet', 113.7263),\n",
              "  ('ARIMA', 1.8811),\n",
              "  ('ETS', 40.134),\n",
              "  ('XGBoost', 22.001),\n",
              "  ('Greykite', inf)],\n",
              " 66: [('Prophet', 260.4308),\n",
              "  ('ARIMA', 29.217),\n",
              "  ('ETS', 135.673),\n",
              "  ('XGBoost', 1267.7303),\n",
              "  ('Greykite', inf)],\n",
              " 67: [('Prophet', 73.8575),\n",
              "  ('ARIMA', 3.7285),\n",
              "  ('ETS', 43.4324),\n",
              "  ('XGBoost', 6.1123),\n",
              "  ('Greykite', inf)],\n",
              " 68: [('Prophet', 71.6912),\n",
              "  ('ARIMA', 3.245),\n",
              "  ('ETS', 11.6764),\n",
              "  ('XGBoost', 13.7246),\n",
              "  ('Greykite', inf)],\n",
              " 69: [('Prophet', 385.6893),\n",
              "  ('ARIMA', 58.8673),\n",
              "  ('ETS', 274.8787),\n",
              "  ('XGBoost', 276.3874),\n",
              "  ('Greykite', inf)],\n",
              " 70: [('Prophet', 70.5988),\n",
              "  ('ARIMA', 15.5705),\n",
              "  ('ETS', 18.4007),\n",
              "  ('XGBoost', 14.298),\n",
              "  ('Greykite', inf)],\n",
              " 71: [('Prophet', 64.6286),\n",
              "  ('ARIMA', 6.0089),\n",
              "  ('ETS', 37.5722),\n",
              "  ('XGBoost', 8.144),\n",
              "  ('Greykite', inf)],\n",
              " 72: [('Prophet', 121.2503),\n",
              "  ('ARIMA', 19.7296),\n",
              "  ('ETS', 53.2914),\n",
              "  ('XGBoost', 39.805),\n",
              "  ('Greykite', inf)],\n",
              " 73: [('Prophet', 340.9509),\n",
              "  ('ARIMA', 46.4242),\n",
              "  ('ETS', 191.4274),\n",
              "  ('XGBoost', 202.1984),\n",
              "  ('Greykite', inf)],\n",
              " 74: [('Prophet', 64.398),\n",
              "  ('ARIMA', 9.6763),\n",
              "  ('ETS', 36.1651),\n",
              "  ('XGBoost', 12.2676),\n",
              "  ('Greykite', inf)],\n",
              " 75: [('Prophet', 61.5048),\n",
              "  ('ARIMA', 5.7293),\n",
              "  ('ETS', 11.7893),\n",
              "  ('XGBoost', 25.46),\n",
              "  ('Greykite', inf)],\n",
              " 76: [('Prophet', 312.415),\n",
              "  ('ARIMA', 36.0098),\n",
              "  ('ETS', 334.7767),\n",
              "  ('XGBoost', 174.0145),\n",
              "  ('Greykite', inf)],\n",
              " 77: [('Prophet', 45.3538),\n",
              "  ('ARIMA', 19.3986),\n",
              "  ('ETS', 41.1131),\n",
              "  ('XGBoost', 52.6269),\n",
              "  ('Greykite', inf)],\n",
              " 78: [('Prophet', 54.4835),\n",
              "  ('ARIMA', 9.743),\n",
              "  ('ETS', 29.6738),\n",
              "  ('XGBoost', 20.4403),\n",
              "  ('Greykite', inf)],\n",
              " 79: [('Prophet', 103.6805),\n",
              "  ('ARIMA', 2.6124),\n",
              "  ('ETS', 33.4335),\n",
              "  ('XGBoost', 44.3157),\n",
              "  ('Greykite', inf)],\n",
              " 80: [('Prophet', 219.5535),\n",
              "  ('ARIMA', 12.7517),\n",
              "  ('ETS', 109.1275),\n",
              "  ('XGBoost', 162.9561),\n",
              "  ('Greykite', inf)],\n",
              " 81: [('Prophet', 67.8512),\n",
              "  ('ARIMA', 24.0708),\n",
              "  ('ETS', 52.3927),\n",
              "  ('XGBoost', 22.3922),\n",
              "  ('Greykite', inf)],\n",
              " 82: [('Prophet', 63.5596),\n",
              "  ('ARIMA', 3.556),\n",
              "  ('ETS', 27.8235),\n",
              "  ('XGBoost', 16.2167),\n",
              "  ('Greykite', inf)],\n",
              " 83: [('Prophet', 237.8907),\n",
              "  ('ARIMA', 73.157),\n",
              "  ('ETS', 157.4842),\n",
              "  ('XGBoost', 254.5524),\n",
              "  ('Greykite', inf)],\n",
              " 84: [('Prophet', 162.4314),\n",
              "  ('ARIMA', 392.9751),\n",
              "  ('ETS', 210.3983),\n",
              "  ('XGBoost', 403.2542),\n",
              "  ('Greykite', inf)],\n",
              " 85: [('Prophet', 51.1022),\n",
              "  ('ARIMA', 36.3337),\n",
              "  ('ETS', 45.5037),\n",
              "  ('XGBoost', 45.1276),\n",
              "  ('Greykite', inf)],\n",
              " 86: [('Prophet', 117.7035),\n",
              "  ('ARIMA', 7.111),\n",
              "  ('ETS', 39.8619),\n",
              "  ('XGBoost', 20.4982),\n",
              "  ('Greykite', inf)],\n",
              " 87: [('Prophet', 266.6947),\n",
              "  ('ARIMA', 25.8344),\n",
              "  ('ETS', 134.021),\n",
              "  ('XGBoost', 211.0314),\n",
              "  ('Greykite', inf)],\n",
              " 88: [('Prophet', 46.5941),\n",
              "  ('ARIMA', 9.8467),\n",
              "  ('ETS', 32.0857),\n",
              "  ('XGBoost', 10.1404),\n",
              "  ('Greykite', inf)],\n",
              " 89: [('Prophet', 50.7448),\n",
              "  ('ARIMA', 1.5551),\n",
              "  ('ETS', 35.6835),\n",
              "  ('XGBoost', 19.0247),\n",
              "  ('Greykite', inf)],\n",
              " 90: [('Prophet', 374.89),\n",
              "  ('ARIMA', 46.3362),\n",
              "  ('ETS', 204.5718),\n",
              "  ('XGBoost', 190.8052),\n",
              "  ('Greykite', inf)],\n",
              " 91: [('Prophet', 49.8677),\n",
              "  ('ARIMA', 25.5487),\n",
              "  ('ETS', 50.6937),\n",
              "  ('XGBoost', 6.1135),\n",
              "  ('Greykite', inf)],\n",
              " 92: [('Prophet', 49.7652),\n",
              "  ('ARIMA', 1.9906),\n",
              "  ('ETS', 28.7332),\n",
              "  ('XGBoost', 4.2129),\n",
              "  ('Greykite', inf)],\n",
              " 93: [('Prophet', 102.3265),\n",
              "  ('ARIMA', 14.3319),\n",
              "  ('ETS', 48.5246),\n",
              "  ('XGBoost', 18.7994),\n",
              "  ('Greykite', inf)],\n",
              " 94: [('Prophet', 198.1403),\n",
              "  ('ARIMA', 14.7704),\n",
              "  ('ETS', 141.2541),\n",
              "  ('XGBoost', 147.4046),\n",
              "  ('Greykite', inf)],\n",
              " 95: [('Prophet', 42.4158),\n",
              "  ('ARIMA', 7.0384),\n",
              "  ('ETS', 46.3904),\n",
              "  ('XGBoost', 33.2693),\n",
              "  ('Greykite', inf)],\n",
              " 96: [('Prophet', 49.6023),\n",
              "  ('ARIMA', 9.5843),\n",
              "  ('ETS', 29.4052),\n",
              "  ('XGBoost', 80.0524),\n",
              "  ('Greykite', inf)],\n",
              " 97: [('Prophet', 188.3686),\n",
              "  ('ARIMA', 8.3616),\n",
              "  ('ETS', 96.8353),\n",
              "  ('XGBoost', 256.7095),\n",
              "  ('Greykite', inf)],\n",
              " 98: [('Prophet', 58.0772),\n",
              "  ('ARIMA', 33.411),\n",
              "  ('ETS', 47.194),\n",
              "  ('XGBoost', 19.7525),\n",
              "  ('Greykite', inf)],\n",
              " 99: [('Prophet', 69.639),\n",
              "  ('ARIMA', 29.098),\n",
              "  ('ETS', 45.5832),\n",
              "  ('XGBoost', 41.8838),\n",
              "  ('Greykite', inf)],\n",
              " 100: [('Prophet', 89.9875),\n",
              "  ('ARIMA', 82.5424),\n",
              "  ('ETS', 137.0996),\n",
              "  ('XGBoost', 19.6514),\n",
              "  ('Greykite', inf)],\n",
              " 101: [('Prophet', 205.8218),\n",
              "  ('ARIMA', 117.3859),\n",
              "  ('ETS', 236.8679),\n",
              "  ('XGBoost', 285.8314),\n",
              "  ('Greykite', inf)],\n",
              " 102: [('Prophet', 28.0988),\n",
              "  ('ARIMA', 38.2022),\n",
              "  ('ETS', 10.8855),\n",
              "  ('XGBoost', 61.696),\n",
              "  ('Greykite', inf)],\n",
              " 103: [('Prophet', 28.429),\n",
              "  ('ARIMA', 24.6414),\n",
              "  ('ETS', 9.7562),\n",
              "  ('XGBoost', 15.3834),\n",
              "  ('Greykite', inf)],\n",
              " 104: [('Prophet', 389.4984),\n",
              "  ('ARIMA', 43.5629),\n",
              "  ('ETS', 223.5261),\n",
              "  ('XGBoost', 232.0228),\n",
              "  ('Greykite', inf)],\n",
              " 105: [('Prophet', 35.2353),\n",
              "  ('ARIMA', 20.2168),\n",
              "  ('ETS', 41.4505),\n",
              "  ('XGBoost', 15.7653),\n",
              "  ('Greykite', inf)],\n",
              " 106: [('Prophet', 38.5813),\n",
              "  ('ARIMA', 12.801),\n",
              "  ('ETS', 30.4245),\n",
              "  ('XGBoost', 4.2113),\n",
              "  ('Greykite', inf)],\n",
              " 107: [('Prophet', 422.8948),\n",
              "  ('ARIMA', 103.4448),\n",
              "  ('ETS', 211.1464),\n",
              "  ('XGBoost', 81.2793),\n",
              "  ('Greykite', inf)],\n",
              " 108: [('Prophet', 246.7641),\n",
              "  ('ARIMA', 39.2583),\n",
              "  ('ETS', 109.4222),\n",
              "  ('XGBoost', 165.6357),\n",
              "  ('Greykite', inf)],\n",
              " 109: [('Prophet', 32.3521),\n",
              "  ('ARIMA', 7.4888),\n",
              "  ('ETS', 40.0623),\n",
              "  ('XGBoost', 12.9962),\n",
              "  ('Greykite', inf)],\n",
              " 110: [('Prophet', 40.2851),\n",
              "  ('ARIMA', 6.4167),\n",
              "  ('ETS', 22.3403),\n",
              "  ('XGBoost', 34.4187),\n",
              "  ('Greykite', inf)],\n",
              " 111: [('Prophet', 293.5912),\n",
              "  ('ARIMA', 22.1702),\n",
              "  ('ETS', 190.3421),\n",
              "  ('XGBoost', 280.1675),\n",
              "  ('Greykite', inf)],\n",
              " 112: [('Prophet', 37.4674),\n",
              "  ('ARIMA', 9.7146),\n",
              "  ('ETS', 14.1029),\n",
              "  ('XGBoost', 48.2976),\n",
              "  ('Greykite', inf)],\n",
              " 113: [('Prophet', 35.5425),\n",
              "  ('ARIMA', 9.7984),\n",
              "  ('ETS', 36.0416),\n",
              "  ('XGBoost', 44.0892),\n",
              "  ('Greykite', inf)],\n",
              " 114: [('Prophet', 109.0565),\n",
              "  ('ARIMA', 2.6301),\n",
              "  ('ETS', 44.3),\n",
              "  ('XGBoost', 41.0781),\n",
              "  ('Greykite', inf)],\n",
              " 115: [('Prophet', 597.9461),\n",
              "  ('ARIMA', 121.9007),\n",
              "  ('ETS', 341.0733),\n",
              "  ('XGBoost', 406.5223),\n",
              "  ('Greykite', inf)],\n",
              " 116: [('Prophet', 33.3474),\n",
              "  ('ARIMA', 10.6199),\n",
              "  ('ETS', 30.4768),\n",
              "  ('XGBoost', 7.1723),\n",
              "  ('Greykite', inf)],\n",
              " 117: [('Prophet', 36.034),\n",
              "  ('ARIMA', 2.8175),\n",
              "  ('ETS', 14.5958),\n",
              "  ('XGBoost', 39.3427),\n",
              "  ('Greykite', inf)],\n",
              " 118: [('Prophet', 316.532),\n",
              "  ('ARIMA', 35.7281),\n",
              "  ('ETS', 345.0705),\n",
              "  ('XGBoost', 154.8482),\n",
              "  ('Greykite', inf)],\n",
              " 119: [('Prophet', 26.4144),\n",
              "  ('ARIMA', 6.4744),\n",
              "  ('ETS', 39.3887),\n",
              "  ('XGBoost', 4.6489),\n",
              "  ('Greykite', inf)],\n",
              " 120: [('Prophet', 32.7486),\n",
              "  ('ARIMA', 14.3742),\n",
              "  ('ETS', 34.9714),\n",
              "  ('XGBoost', 12.6138),\n",
              "  ('Greykite', inf)],\n",
              " 121: [('Prophet', 149.3724),\n",
              "  ('ARIMA', 16.6393),\n",
              "  ('ETS', 76.9181),\n",
              "  ('XGBoost', 65.7462),\n",
              "  ('Greykite', inf)],\n",
              " 122: [('Prophet', 208.3718),\n",
              "  ('ARIMA', 9.016),\n",
              "  ('ETS', 118.516),\n",
              "  ('XGBoost', 129.4203),\n",
              "  ('Greykite', inf)],\n",
              " 123: [('Prophet', 35.5344),\n",
              "  ('ARIMA', 8.3326),\n",
              "  ('ETS', 34.4252),\n",
              "  ('XGBoost', 12.779),\n",
              "  ('Greykite', inf)],\n",
              " 124: [('Prophet', 39.4615),\n",
              "  ('ARIMA', 21.4574),\n",
              "  ('ETS', 29.4903),\n",
              "  ('XGBoost', 49.0345),\n",
              "  ('Greykite', inf)],\n",
              " 125: [('Prophet', 288.0925),\n",
              "  ('ARIMA', 39.4665),\n",
              "  ('ETS', 197.9792),\n",
              "  ('XGBoost', 208.1983),\n",
              "  ('Greykite', inf)],\n",
              " 126: [('Prophet', 81.9145),\n",
              "  ('ARIMA', 101.1361),\n",
              "  ('ETS', 65.157),\n",
              "  ('XGBoost', 222.0272),\n",
              "  ('Greykite', inf)],\n",
              " 127: [('Prophet', 41.3976),\n",
              "  ('ARIMA', 22.0742),\n",
              "  ('ETS', 41.419),\n",
              "  ('XGBoost', 58.5535),\n",
              "  ('Greykite', inf)],\n",
              " 128: [('Prophet', 95.6609),\n",
              "  ('ARIMA', 26.9117),\n",
              "  ('ETS', 53.5751),\n",
              "  ('XGBoost', 43.1005),\n",
              "  ('Greykite', inf)],\n",
              " 129: [('Prophet', 221.3982),\n",
              "  ('ARIMA', 42.2429),\n",
              "  ('ETS', 152.4438),\n",
              "  ('XGBoost', 232.2027),\n",
              "  ('Greykite', inf)],\n",
              " 130: [('Prophet', 44.4539),\n",
              "  ('ARIMA', 9.4407),\n",
              "  ('ETS', 32.4981),\n",
              "  ('XGBoost', 16.666),\n",
              "  ('Greykite', inf)],\n",
              " 131: [('Prophet', 31.4356),\n",
              "  ('ARIMA', 34.6163),\n",
              "  ('ETS', 10.9519),\n",
              "  ('XGBoost', 12.9539),\n",
              "  ('Greykite', inf)],\n",
              " 132: [('Prophet', 274.4502),\n",
              "  ('ARIMA', 23.5368),\n",
              "  ('ETS', 181.2889),\n",
              "  ('XGBoost', 115.3674),\n",
              "  ('Greykite', inf)],\n",
              " 133: [('Prophet', 32.6144),\n",
              "  ('ARIMA', 13.5648),\n",
              "  ('ETS', 33.9573),\n",
              "  ('XGBoost', 39.852),\n",
              "  ('Greykite', inf)],\n",
              " 134: [('Prophet', 33.7905),\n",
              "  ('ARIMA', 12.108),\n",
              "  ('ETS', 18.5339),\n",
              "  ('XGBoost', 69.9232),\n",
              "  ('Greykite', inf)],\n",
              " 135: [('Prophet', 124.1929),\n",
              "  ('ARIMA', 16.3849),\n",
              "  ('ETS', 84.1019),\n",
              "  ('XGBoost', 68.8485),\n",
              "  ('Greykite', inf)],\n",
              " 136: [('Prophet', 191.8358),\n",
              "  ('ARIMA', 13.6926),\n",
              "  ('ETS', 132.6503),\n",
              "  ('XGBoost', 44.581),\n",
              "  ('Greykite', inf)],\n",
              " 137: [('Prophet', 39.2114),\n",
              "  ('ARIMA', 6.307),\n",
              "  ('ETS', 45.609),\n",
              "  ('XGBoost', 56.7687),\n",
              "  ('Greykite', inf)],\n",
              " 138: [('Prophet', 29.6264),\n",
              "  ('ARIMA', 15.6252),\n",
              "  ('ETS', 10.1104),\n",
              "  ('XGBoost', 68.4783),\n",
              "  ('Greykite', inf)],\n",
              " 139: [('Prophet', 223.2255),\n",
              "  ('ARIMA', 24.0843),\n",
              "  ('ETS', 165.324),\n",
              "  ('XGBoost', 143.0243),\n",
              "  ('Greykite', inf)],\n",
              " 140: [('Prophet', 36.4074),\n",
              "  ('ARIMA', 13.1232),\n",
              "  ('ETS', 34.8487),\n",
              "  ('XGBoost', 28.8842),\n",
              "  ('Greykite', inf)],\n",
              " 141: [('Prophet', 39.67),\n",
              "  ('ARIMA', 13.7523),\n",
              "  ('ETS', 21.2269),\n",
              "  ('XGBoost', 38.8734),\n",
              "  ('Greykite', inf)],\n",
              " 142: [('Prophet', 104.8332),\n",
              "  ('ARIMA', 22.9123),\n",
              "  ('ETS', 89.1681),\n",
              "  ('XGBoost', 125.3237),\n",
              "  ('Greykite', inf)],\n",
              " 143: [('Prophet', 218.7983),\n",
              "  ('ARIMA', 85.0755),\n",
              "  ('ETS', 177.4065),\n",
              "  ('XGBoost', 250.0783),\n",
              "  ('Greykite', inf)],\n",
              " 144: [('Prophet', 28.7279),\n",
              "  ('ARIMA', 14.3125),\n",
              "  ('ETS', 57.7488),\n",
              "  ('XGBoost', 29.0772),\n",
              "  ('Greykite', inf)],\n",
              " 145: [('Prophet', 47.5141),\n",
              "  ('ARIMA', 32.5865),\n",
              "  ('ETS', 38.2989),\n",
              "  ('XGBoost', 87.4958),\n",
              "  ('Greykite', inf)],\n",
              " 146: [('Prophet', 194.6961),\n",
              "  ('ARIMA', 73.4231),\n",
              "  ('ETS', 184.7329),\n",
              "  ('XGBoost', 76.7588),\n",
              "  ('Greykite', inf)],\n",
              " 147: [('Prophet', 34.2613),\n",
              "  ('ARIMA', 15.3195),\n",
              "  ('ETS', 27.8512),\n",
              "  ('XGBoost', 40.4884),\n",
              "  ('Greykite', inf)],\n",
              " 148: [('Prophet', 37.7994),\n",
              "  ('ARIMA', 8.4483),\n",
              "  ('ETS', 12.1098),\n",
              "  ('XGBoost', 39.9105),\n",
              "  ('Greykite', inf)],\n",
              " 149: [('Prophet', 89.1837),\n",
              "  ('ARIMA', 17.5839),\n",
              "  ('ETS', 48.3476),\n",
              "  ('XGBoost', 108.5895),\n",
              "  ('Greykite', inf)],\n",
              " 150: [('Prophet', 189.5153),\n",
              "  ('ARIMA', 24.4436),\n",
              "  ('ETS', 115.9979),\n",
              "  ('XGBoost', 100.6369),\n",
              "  ('Greykite', inf)],\n",
              " 151: [('Prophet', 113.4087),\n",
              "  ('ARIMA', 179.2033),\n",
              "  ('ETS', 110.4832),\n",
              "  ('XGBoost', 211.9602),\n",
              "  ('Greykite', inf)],\n",
              " 152: [('Prophet', 83.113),\n",
              "  ('ARIMA', 70.1001),\n",
              "  ('ETS', 85.8224),\n",
              "  ('XGBoost', 101.9044),\n",
              "  ('Greykite', inf)],\n",
              " 153: [('Prophet', 186.6628),\n",
              "  ('ARIMA', 41.7679),\n",
              "  ('ETS', 92.4333),\n",
              "  ('XGBoost', 124.5456),\n",
              "  ('Greykite', inf)],\n",
              " 154: [('Prophet', 35.7513),\n",
              "  ('ARIMA', 27.5945),\n",
              "  ('ETS', 39.1573),\n",
              "  ('XGBoost', 7.1496),\n",
              "  ('Greykite', inf)],\n",
              " 155: [('Prophet', 37.4861),\n",
              "  ('ARIMA', 19.7707),\n",
              "  ('ETS', 35.9072),\n",
              "  ('XGBoost', 41.2628),\n",
              "  ('Greykite', inf)],\n",
              " 156: [('Prophet', 83.2134),\n",
              "  ('ARIMA', 41.1242),\n",
              "  ('ETS', 44.5407),\n",
              "  ('XGBoost', 13.3578),\n",
              "  ('Greykite', inf)],\n",
              " 157: [('Prophet', 155.0684),\n",
              "  ('ARIMA', 23.6453),\n",
              "  ('ETS', 120.1196),\n",
              "  ('XGBoost', 202.8302),\n",
              "  ('Greykite', inf)],\n",
              " 158: [('Prophet', 42.7421),\n",
              "  ('ARIMA', 13.4029),\n",
              "  ('ETS', 37.7808),\n",
              "  ('XGBoost', 11.6052),\n",
              "  ('Greykite', inf)],\n",
              " 159: [('Prophet', 32.9607),\n",
              "  ('ARIMA', 14.1906),\n",
              "  ('ETS', 9.9276),\n",
              "  ('XGBoost', 28.2758),\n",
              "  ('Greykite', inf)],\n",
              " 160: [('Prophet', 196.2665),\n",
              "  ('ARIMA', 48.7458),\n",
              "  ('ETS', 216.4999),\n",
              "  ('XGBoost', 181.0352),\n",
              "  ('Greykite', inf)],\n",
              " 161: [('Prophet', 38.0581),\n",
              "  ('ARIMA', 15.8461),\n",
              "  ('ETS', 39.7727),\n",
              "  ('XGBoost', 22.941),\n",
              "  ('Greykite', inf)],\n",
              " 162: [('Prophet', 52.4901),\n",
              "  ('ARIMA', 29.9898),\n",
              "  ('ETS', 48.4113),\n",
              "  ('XGBoost', 24.1395),\n",
              "  ('Greykite', inf)],\n",
              " 163: [('Prophet', 61.5096),\n",
              "  ('ARIMA', 21.0837),\n",
              "  ('ETS', 44.3164),\n",
              "  ('XGBoost', 19.0588),\n",
              "  ('Greykite', inf)],\n",
              " 164: [('Prophet', 121.9281),\n",
              "  ('ARIMA', 37.2014),\n",
              "  ('ETS', 116.1603),\n",
              "  ('XGBoost', 153.5248),\n",
              "  ('Greykite', inf)],\n",
              " 165: [('Prophet', 42.7634),\n",
              "  ('ARIMA', 4.9445),\n",
              "  ('ETS', 25.3536),\n",
              "  ('XGBoost', 8.8416),\n",
              "  ('Greykite', inf)],\n",
              " 166: [('Prophet', 49.9014),\n",
              "  ('ARIMA', 17.026),\n",
              "  ('ETS', 12.4914),\n",
              "  ('XGBoost', 30.4662),\n",
              "  ('Greykite', inf)],\n",
              " 167: [('Prophet', 134.1304),\n",
              "  ('ARIMA', 63.2721),\n",
              "  ('ETS', 167.9039),\n",
              "  ('XGBoost', 157.0593),\n",
              "  ('Greykite', inf)],\n",
              " 168: [('Prophet', 45.4897),\n",
              "  ('ARIMA', 18.4607),\n",
              "  ('ETS', 40.1532),\n",
              "  ('XGBoost', 13.1013),\n",
              "  ('Greykite', inf)],\n",
              " 169: [('Prophet', 44.219),\n",
              "  ('ARIMA', 3.6995),\n",
              "  ('ETS', 21.2511),\n",
              "  ('XGBoost', 3.7168),\n",
              "  ('Greykite', inf)],\n",
              " 170: [('Prophet', 53.9459),\n",
              "  ('ARIMA', 8.4051),\n",
              "  ('ETS', 42.99),\n",
              "  ('XGBoost', 27.6135),\n",
              "  ('Greykite', inf)],\n",
              " 171: [('Prophet', 111.8227),\n",
              "  ('ARIMA', 30.5689),\n",
              "  ('ETS', 110.3897),\n",
              "  ('XGBoost', 183.1014),\n",
              "  ('Greykite', inf)],\n",
              " 172: [('Prophet', 44.3494),\n",
              "  ('ARIMA', 2.446),\n",
              "  ('ETS', 22.5201),\n",
              "  ('XGBoost', 37.7253),\n",
              "  ('Greykite', inf)],\n",
              " 173: [('Prophet', 48.2382),\n",
              "  ('ARIMA', 11.744),\n",
              "  ('ETS', 20.0298),\n",
              "  ('XGBoost', 24.0169),\n",
              "  ('Greykite', inf)],\n",
              " 174: [('Prophet', 115.9225),\n",
              "  ('ARIMA', 42.461),\n",
              "  ('ETS', 142.121),\n",
              "  ('XGBoost', 214.1415),\n",
              "  ('Greykite', inf)],\n",
              " 175: [('Prophet', 43.3437),\n",
              "  ('ARIMA', 54.2099),\n",
              "  ('ETS', 60.2124),\n",
              "  ('XGBoost', 124.0022),\n",
              "  ('Greykite', inf)],\n",
              " 176: [('Prophet', 50.1871),\n",
              "  ('ARIMA', 24.3444),\n",
              "  ('ETS', 39.8481),\n",
              "  ('XGBoost', 20.22),\n",
              "  ('Greykite', inf)],\n",
              " 177: [('Prophet', 77.5379),\n",
              "  ('ARIMA', 32.376),\n",
              "  ('ETS', 76.2626),\n",
              "  ('XGBoost', 42.6764),\n",
              "  ('Greykite', inf)],\n",
              " 178: [('Prophet', 121.4815),\n",
              "  ('ARIMA', 33.2741),\n",
              "  ('ETS', 136.1104),\n",
              "  ('XGBoost', 148.0794),\n",
              "  ('Greykite', inf)],\n",
              " 179: [('Prophet', 37.8061),\n",
              "  ('ARIMA', 15.8507),\n",
              "  ('ETS', 24.5337),\n",
              "  ('XGBoost', 17.4032),\n",
              "  ('Greykite', inf)],\n",
              " 180: [('Prophet', 37.2977),\n",
              "  ('ARIMA', 6.01),\n",
              "  ('ETS', 13.3099),\n",
              "  ('XGBoost', 32.8963),\n",
              "  ('Greykite', inf)],\n",
              " 181: [('Prophet', 124.4479),\n",
              "  ('ARIMA', 12.7072),\n",
              "  ('ETS', 151.1019),\n",
              "  ('XGBoost', 124.8061),\n",
              "  ('Greykite', inf)],\n",
              " 182: [('Prophet', 40.1781),\n",
              "  ('ARIMA', 18.5486),\n",
              "  ('ETS', 32.3102),\n",
              "  ('XGBoost', 173.4873),\n",
              "  ('Greykite', inf)],\n",
              " 183: [('Prophet', 44.8348),\n",
              "  ('ARIMA', 14.8556),\n",
              "  ('ETS', 26.6123),\n",
              "  ('XGBoost', 102.7919),\n",
              "  ('Greykite', inf)],\n",
              " 184: [('Prophet', 31.197),\n",
              "  ('ARIMA', 7.5088),\n",
              "  ('ETS', 36.0566),\n",
              "  ('XGBoost', 152.1893),\n",
              "  ('Greykite', inf)],\n",
              " 185: [('Prophet', 87.435),\n",
              "  ('ARIMA', 22.9118),\n",
              "  ('ETS', 93.0198),\n",
              "  ('XGBoost', 54.6419),\n",
              "  ('Greykite', inf)],\n",
              " 186: [('Prophet', 38.3614),\n",
              "  ('ARIMA', 3.9239),\n",
              "  ('ETS', 32.2753),\n",
              "  ('XGBoost', 109.3134),\n",
              "  ('Greykite', inf)],\n",
              " 187: [('Prophet', 33.1394),\n",
              "  ('ARIMA', 9.0384),\n",
              "  ('ETS', 1.7524),\n",
              "  ('XGBoost', 162.1425),\n",
              "  ('Greykite', inf)],\n",
              " 188: [('Prophet', 130.4353),\n",
              "  ('ARIMA', 32.4711),\n",
              "  ('ETS', 170.7687),\n",
              "  ('XGBoost', 403.9688),\n",
              "  ('Greykite', inf)],\n",
              " 189: [('Prophet', 37.0153),\n",
              "  ('ARIMA', 16.1109),\n",
              "  ('ETS', 30.6537),\n",
              "  ('XGBoost', 48.9915),\n",
              "  ('Greykite', inf)],\n",
              " 190: [('Prophet', 40.3058),\n",
              "  ('ARIMA', 9.6323),\n",
              "  ('ETS', 20.4446),\n",
              "  ('XGBoost', 17.4357),\n",
              "  ('Greykite', inf)],\n",
              " 191: [('Prophet', 43.1602),\n",
              "  ('ARIMA', 5.7738),\n",
              "  ('ETS', 31.0149),\n",
              "  ('XGBoost', 59.5431),\n",
              "  ('Greykite', inf)],\n",
              " 192: [('Prophet', 106.6872),\n",
              "  ('ARIMA', 27.1655),\n",
              "  ('ETS', 102.4022),\n",
              "  ('XGBoost', 112.3606),\n",
              "  ('Greykite', inf)],\n",
              " 193: [('Prophet', 27.3787),\n",
              "  ('ARIMA', 10.2137),\n",
              "  ('ETS', 25.368),\n",
              "  ('XGBoost', 4.956),\n",
              "  ('Greykite', inf)],\n",
              " 194: [('Prophet', 34.408),\n",
              "  ('ARIMA', 9.7294),\n",
              "  ('ETS', 11.5349),\n",
              "  ('XGBoost', 35.6271),\n",
              "  ('Greykite', inf)],\n",
              " 195: [('Prophet', 128.0424),\n",
              "  ('ARIMA', 28.5712),\n",
              "  ('ETS', 160.9321),\n",
              "  ('XGBoost', 135.8938),\n",
              "  ('Greykite', inf)],\n",
              " 196: [('Prophet', 37.6056),\n",
              "  ('ARIMA', 19.5549),\n",
              "  ('ETS', 30.2587),\n",
              "  ('XGBoost', 51.2986),\n",
              "  ('Greykite', inf)],\n",
              " 197: [('Prophet', 33.5953),\n",
              "  ('ARIMA', 6.2895),\n",
              "  ('ETS', 22.581),\n",
              "  ('XGBoost', 118.1328),\n",
              "  ('Greykite', inf)],\n",
              " 198: [('Prophet', 55.5223),\n",
              "  ('ARIMA', 12.613),\n",
              "  ('ETS', 43.1406),\n",
              "  ('XGBoost', 70.5545),\n",
              "  ('Greykite', inf)],\n",
              " 199: [('Prophet', 102.1363),\n",
              "  ('ARIMA', 25.0383),\n",
              "  ('ETS', 101.5564),\n",
              "  ('XGBoost', 163.2587),\n",
              "  ('Greykite', inf)],\n",
              " 200: [('Prophet', 32.9814),\n",
              "  ('ARIMA', 9.1182),\n",
              "  ('ETS', 22.2224),\n",
              "  ('XGBoost', 53.8004),\n",
              "  ('Greykite', inf)],\n",
              " 201: [('Prophet', 41.7359),\n",
              "  ('ARIMA', 17.8246),\n",
              "  ('ETS', 20.3522),\n",
              "  ('XGBoost', 20.6745),\n",
              "  ('Greykite', inf)],\n",
              " 202: [('Prophet', 94.5954),\n",
              "  ('ARIMA', 50.1331),\n",
              "  ('ETS', 160.4404),\n",
              "  ('XGBoost', 131.4064),\n",
              "  ('Greykite', inf)],\n",
              " 203: [('Prophet', 32.2621),\n",
              "  ('ARIMA', 3.8702),\n",
              "  ('ETS', 27.2935),\n",
              "  ('XGBoost', 22.003),\n",
              "  ('Greykite', inf)],\n",
              " 204: [('Prophet', 35.6611),\n",
              "  ('ARIMA', 9.0464),\n",
              "  ('ETS', 25.1668),\n",
              "  ('XGBoost', 17.8093),\n",
              "  ('Greykite', inf)],\n",
              " 205: [('Prophet', 48.6991),\n",
              "  ('ARIMA', 12.5541),\n",
              "  ('ETS', 43.5622),\n",
              "  ('XGBoost', 100.6017),\n",
              "  ('Greykite', inf)],\n",
              " 206: [('Prophet', 78.8715),\n",
              "  ('ARIMA', 11.1168),\n",
              "  ('ETS', 85.4167),\n",
              "  ('XGBoost', 79.9529),\n",
              "  ('Greykite', inf)],\n",
              " 207: [('Prophet', 35.6763),\n",
              "  ('ARIMA', 12.2681),\n",
              "  ('ETS', 29.8359),\n",
              "  ('XGBoost', 12.7915),\n",
              "  ('Greykite', inf)],\n",
              " 208: [('Prophet', 29.0282),\n",
              "  ('ARIMA', 11.6733),\n",
              "  ('ETS', 4.932),\n",
              "  ('XGBoost', 30.6327),\n",
              "  ('Greykite', inf)],\n",
              " 209: [('Prophet', 115.9613),\n",
              "  ('ARIMA', 32.9682),\n",
              "  ('ETS', 147.2242),\n",
              "  ('XGBoost', 135.0895),\n",
              "  ('Greykite', inf)],\n",
              " 210: [('Prophet', 61.5069),\n",
              "  ('ARIMA', 89.3667),\n",
              "  ('ETS', 51.1199),\n",
              "  ('XGBoost', 129.8635),\n",
              "  ('Greykite', inf)],\n",
              " 211: [('Prophet', 28.9545),\n",
              "  ('ARIMA', 32.6601),\n",
              "  ('ETS', 38.3865),\n",
              "  ('XGBoost', 8.8388),\n",
              "  ('Greykite', inf)],\n",
              " 212: [('Prophet', 50.8482),\n",
              "  ('ARIMA', 10.1611),\n",
              "  ('ETS', 40.6966),\n",
              "  ('XGBoost', 32.0484),\n",
              "  ('Greykite', inf)],\n",
              " 213: [('Prophet', 72.0596),\n",
              "  ('ARIMA', 8.51),\n",
              "  ('ETS', 69.9282),\n",
              "  ('XGBoost', 176.4816),\n",
              "  ('Greykite', inf)],\n",
              " 214: [('Prophet', 27.3528),\n",
              "  ('ARIMA', 6.4376),\n",
              "  ('ETS', 23.8352),\n",
              "  ('XGBoost', 26.2722),\n",
              "  ('Greykite', inf)],\n",
              " 215: [('Prophet', 36.163),\n",
              "  ('ARIMA', 88.6753),\n",
              "  ('ETS', 58.4918),\n",
              "  ('XGBoost', 60.6469),\n",
              "  ('Greykite', inf)],\n",
              " 216: [('Prophet', 86.8603),\n",
              "  ('ARIMA', 45.9382),\n",
              "  ('ETS', 52.3069),\n",
              "  ('XGBoost', 132.0441),\n",
              "  ('Greykite', inf)],\n",
              " 217: [('Prophet', 34.4845),\n",
              "  ('ARIMA', 26.141),\n",
              "  ('ETS', 46.4206),\n",
              "  ('XGBoost', 10.0421),\n",
              "  ('Greykite', inf)],\n",
              " 218: [('Prophet', 28.968),\n",
              "  ('ARIMA', 10.5495),\n",
              "  ('ETS', 22.0705),\n",
              "  ('XGBoost', 8.276),\n",
              "  ('Greykite', inf)],\n",
              " 219: [('Prophet', 36.7148),\n",
              "  ('ARIMA', 9.1938),\n",
              "  ('ETS', 32.2309),\n",
              "  ('XGBoost', 67.8223),\n",
              "  ('Greykite', inf)],\n",
              " 220: [('Prophet', 77.784),\n",
              "  ('ARIMA', 29.0192),\n",
              "  ('ETS', 86.2757),\n",
              "  ('XGBoost', 86.779),\n",
              "  ('Greykite', inf)],\n",
              " 221: [('Prophet', 32.9605),\n",
              "  ('ARIMA', 9.2818),\n",
              "  ('ETS', 33.8551),\n",
              "  ('XGBoost', 7.2262),\n",
              "  ('Greykite', inf)],\n",
              " 222: [('Prophet', 18.2621),\n",
              "  ('ARIMA', 15.5412),\n",
              "  ('ETS', 1.5689),\n",
              "  ('XGBoost', 27.415),\n",
              "  ('Greykite', inf)],\n",
              " 223: [('Prophet', 104.5974),\n",
              "  ('ARIMA', 36.1399),\n",
              "  ('ETS', 132.6443),\n",
              "  ('XGBoost', 104.9498),\n",
              "  ('Greykite', inf)],\n",
              " 224: [('Prophet', 16.8235),\n",
              "  ('ARIMA', 2.8788),\n",
              "  ('ETS', 20.0524),\n",
              "  ('XGBoost', 16.9805),\n",
              "  ('Greykite', inf)],\n",
              " 225: [('Prophet', 20.7323),\n",
              "  ('ARIMA', 14.709),\n",
              "  ('ETS', 18.7848),\n",
              "  ('XGBoost', 8.0552),\n",
              "  ('Greykite', inf)],\n",
              " 226: [('Prophet', 50.8986),\n",
              "  ('ARIMA', 14.8275),\n",
              "  ('ETS', 47.9559),\n",
              "  ('XGBoost', 37.064),\n",
              "  ('Greykite', inf)],\n",
              " 227: [('Prophet', 52.7043),\n",
              "  ('ARIMA', 5.9224),\n",
              "  ('ETS', 51.1061),\n",
              "  ('XGBoost', 81.848),\n",
              "  ('Greykite', inf)],\n",
              " 228: [('Prophet', 26.2124),\n",
              "  ('ARIMA', 7.0111),\n",
              "  ('ETS', 34.9097),\n",
              "  ('XGBoost', 23.3655),\n",
              "  ('Greykite', inf)],\n",
              " 229: [('Prophet', 13.1888),\n",
              "  ('ARIMA', 13.3058),\n",
              "  ('ETS', 8.3589),\n",
              "  ('XGBoost', 20.7392),\n",
              "  ('Greykite', inf)],\n",
              " 230: [('Prophet', 122.3329),\n",
              "  ('ARIMA', 26.8565),\n",
              "  ('ETS', 138.1276),\n",
              "  ('XGBoost', 149.0414),\n",
              "  ('Greykite', inf)],\n",
              " 231: [('Prophet', 33.4923),\n",
              "  ('ARIMA', 39.9198),\n",
              "  ('ETS', 31.5336),\n",
              "  ('XGBoost', 97.6312),\n",
              "  ('Greykite', inf)],\n",
              " 232: [('Prophet', 27.1713),\n",
              "  ('ARIMA', 22.786),\n",
              "  ('ETS', 34.149),\n",
              "  ('XGBoost', 7.2964),\n",
              "  ('Greykite', inf)],\n",
              " 233: [('Prophet', 44.275),\n",
              "  ('ARIMA', 7.9369),\n",
              "  ('ETS', 33.1593),\n",
              "  ('XGBoost', 66.6611),\n",
              "  ('Greykite', inf)],\n",
              " 234: [('Prophet', 89.6814),\n",
              "  ('ARIMA', 23.79),\n",
              "  ('ETS', 75.7087),\n",
              "  ('XGBoost', 71.1344),\n",
              "  ('Greykite', inf)],\n",
              " 235: [('Prophet', 27.6412),\n",
              "  ('ARIMA', 21.5921),\n",
              "  ('ETS', 43.5811),\n",
              "  ('XGBoost', 31.6794),\n",
              "  ('Greykite', inf)],\n",
              " 236: [('Prophet', 35.1106),\n",
              "  ('ARIMA', 17.6359),\n",
              "  ('ETS', 27.6023),\n",
              "  ('XGBoost', 32.3042),\n",
              "  ('Greykite', inf)],\n",
              " 237: [('Prophet', 63.2302),\n",
              "  ('ARIMA', 18.8463),\n",
              "  ('ETS', 94.0454),\n",
              "  ('XGBoost', 53.9622),\n",
              "  ('Greykite', inf)],\n",
              " 238: [('Prophet', 28.9006),\n",
              "  ('ARIMA', 15.0457),\n",
              "  ('ETS', 23.4255),\n",
              "  ('XGBoost', 7.7927),\n",
              "  ('Greykite', inf)],\n",
              " 239: [('Prophet', 27.5989),\n",
              "  ('ARIMA', 8.4658),\n",
              "  ('ETS', 21.3258),\n",
              "  ('XGBoost', 4.5237),\n",
              "  ('Greykite', inf)],\n",
              " 240: [('Prophet', 46.4614),\n",
              "  ('ARIMA', 12.8356),\n",
              "  ('ETS', 42.6264),\n",
              "  ('XGBoost', 38.4187),\n",
              "  ('Greykite', inf)],\n",
              " 241: [('Prophet', 57.257),\n",
              "  ('ARIMA', 10.8806),\n",
              "  ('ETS', 66.5941),\n",
              "  ('XGBoost', 82.5247),\n",
              "  ('Greykite', inf)],\n",
              " 242: [('Prophet', 23.9306),\n",
              "  ('ARIMA', 3.5494),\n",
              "  ('ETS', 27.0011),\n",
              "  ('XGBoost', 6.5518),\n",
              "  ('Greykite', inf)],\n",
              " 243: [('Prophet', 52.6103),\n",
              "  ('ARIMA', 38.9789),\n",
              "  ('ETS', 44.1098),\n",
              "  ('XGBoost', 58.5459),\n",
              "  ('Greykite', inf)],\n",
              " 244: [('Prophet', 31.7407),\n",
              "  ('ARIMA', 39.4705),\n",
              "  ('ETS', 98.9193),\n",
              "  ('XGBoost', 80.9786),\n",
              "  ('Greykite', inf)],\n",
              " 245: [('Prophet', 45.7362),\n",
              "  ('ARIMA', 27.6628),\n",
              "  ('ETS', 34.8092),\n",
              "  ('XGBoost', 7.5332),\n",
              "  ('Greykite', inf)],\n",
              " 246: [('Prophet', 43.0088),\n",
              "  ('ARIMA', 13.6178),\n",
              "  ('ETS', 22.739),\n",
              "  ('XGBoost', 10.0522),\n",
              "  ('Greykite', inf)],\n",
              " 247: [('Prophet', 518177.2592),\n",
              "  ('ARIMA', 519744.5857),\n",
              "  ('ETS', 759066.3735),\n",
              "  ('XGBoost', 378315.65),\n",
              "  ('Greykite', inf)],\n",
              " 248: [('Prophet', 59.1417),\n",
              "  ('ARIMA', 51.358),\n",
              "  ('ETS', 69.9885),\n",
              "  ('XGBoost', 55.1817),\n",
              "  ('Greykite', inf)],\n",
              " 249: [('Prophet', 13626138.0735),\n",
              "  ('ARIMA', 23169176.7812),\n",
              "  ('ETS', 17005251.3027),\n",
              "  ('XGBoost', 14811983.8858),\n",
              "  ('Greykite', inf)]}"
            ]
          },
          "metadata": {},
          "execution_count": 91
        }
      ]
    },
    {
      "cell_type": "code",
      "source": [
        "results_df['Best Model'].value_counts()"
      ],
      "metadata": {
        "colab": {
          "base_uri": "https://localhost:8080/"
        },
        "id": "VXMbU5LzYtu7",
        "outputId": "4f377021-9103-441d-d8e9-5bc60ec012f6"
      },
      "execution_count": 92,
      "outputs": [
        {
          "output_type": "execute_result",
          "data": {
            "text/plain": [
              "ARIMA      169\n",
              "XGBoost     51\n",
              "ETS         20\n",
              "Prophet     10\n",
              "Name: Best Model, dtype: int64"
            ]
          },
          "metadata": {},
          "execution_count": 92
        }
      ]
    },
    {
      "cell_type": "code",
      "source": [
        "results_df"
      ],
      "metadata": {
        "id": "FT_4Ox19N5P4"
      },
      "execution_count": null,
      "outputs": []
    },
    {
      "cell_type": "code",
      "source": [
        "track_log"
      ],
      "metadata": {
        "colab": {
          "base_uri": "https://localhost:8080/"
        },
        "id": "KLFlvSRhVn8i",
        "outputId": "dfe70b97-6ed3-4ac1-cf78-466b6ab9abf5"
      },
      "execution_count": 21,
      "outputs": [
        {
          "output_type": "execute_result",
          "data": {
            "text/plain": [
              "{0: [('Prophet', 1.3564),\n",
              "  ('ARIMA', 9.3049),\n",
              "  ('ETS', 12.9386),\n",
              "  ('XGBoost', inf),\n",
              "  ('Greykite', inf)],\n",
              " 1: [('Prophet', 1.3251),\n",
              "  ('ARIMA', 7.2567),\n",
              "  ('ETS', 13.1763),\n",
              "  ('XGBoost', inf),\n",
              "  ('Greykite', inf)],\n",
              " 2: [('Prophet', 1.3334),\n",
              "  ('ARIMA', 7.5155),\n",
              "  ('ETS', 13.0577),\n",
              "  ('XGBoost', inf),\n",
              "  ('Greykite', inf)],\n",
              " 3: [('Prophet', 1.3306),\n",
              "  ('ARIMA', 7.6489),\n",
              "  ('ETS', 13.3288),\n",
              "  ('XGBoost', inf),\n",
              "  ('Greykite', inf)],\n",
              " 4: [('Prophet', 1.3369),\n",
              "  ('ARIMA', 7.2046),\n",
              "  ('ETS', 13.1435),\n",
              "  ('XGBoost', inf),\n",
              "  ('Greykite', inf)]}"
            ]
          },
          "metadata": {},
          "execution_count": 21
        }
      ]
    },
    {
      "cell_type": "code",
      "source": [],
      "metadata": {
        "id": "0zj1lWkWuqhC"
      },
      "execution_count": null,
      "outputs": []
    }
  ]
}